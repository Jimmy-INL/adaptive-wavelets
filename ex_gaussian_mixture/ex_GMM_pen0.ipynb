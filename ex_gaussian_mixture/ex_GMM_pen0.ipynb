{
 "cells": [
  {
   "cell_type": "code",
   "execution_count": 197,
   "metadata": {},
   "outputs": [
    {
     "name": "stdout",
     "output_type": "stream",
     "text": [
      "The autoreload extension is already loaded. To reload it, use:\n",
      "  %reload_ext autoreload\n"
     ]
    }
   ],
   "source": [
    "%load_ext autoreload\n",
    "%autoreload 2\n",
    "%matplotlib inline\n",
    "import matplotlib.pyplot as plt\n",
    "import numpy as np\n",
    "import torch\n",
    "import random\n",
    "device = 'cuda' if torch.cuda.is_available() else 'cpu'\n",
    "import os,sys\n",
    "opj = os.path.join\n",
    "from tqdm import tqdm\n",
    "import acd\n",
    "from copy import deepcopy\n",
    "from model_GMM import init_specific_model\n",
    "from losses_GMM import BetaLoss, BtcvaeLoss\n",
    "from dset_GMM import get_dataloaders\n",
    "from training import Trainer\n",
    "from utils import *"
   ]
  },
  {
   "cell_type": "code",
   "execution_count": 198,
   "metadata": {},
   "outputs": [
    {
     "data": {
      "image/png": "[encoded data removed]",
      "text/plain": [
       "<Figure size 432x288 with 1 Axes>"
      ]
     },
     "metadata": {
      "needs_background": "light"
     },
     "output_type": "display_data"
    }
   ],
   "source": [
    "# GET DATALOADERS\n",
    "train_loader, train_latents = get_dataloaders(n_samples_per_cluster=5000, \n",
    "                                              batch_size=100, \n",
    "                                              shuffle=True,\n",
    "                                              return_latents=True)\n",
    "test_loader, test_latents = get_dataloaders(n_samples_per_cluster=200, \n",
    "                                            batch_size=100, \n",
    "                                            shuffle=False,\n",
    "                                            return_latents=True)\n",
    "\n",
    "# PLOT LATENT VARIABLES\n",
    "plot_2d_samples(test_latents)\n",
    "plt.title('True latent variables')\n",
    "plt.show()"
   ]
  },
  {
   "cell_type": "code",
   "execution_count": 220,
   "metadata": {},
   "outputs": [
    {
     "name": "stdout",
     "output_type": "stream",
     "text": [
      "====> Epoch: 0 Average train loss: 66.1472 (Test set loss: 27.2519)\n",
      "====> Epoch: 1 Average train loss: 14.3318 (Test set loss: 6.0523)\n",
      "====> Epoch: 2 Average train loss: 4.1856 (Test set loss: 2.2509)\n",
      "====> Epoch: 3 Average train loss: 2.0707 (Test set loss: 1.7110)\n",
      "====> Epoch: 4 Average train loss: 1.6226 (Test set loss: 1.4506)\n",
      "====> Epoch: 5 Average train loss: 1.3669 (Test set loss: 1.2758)\n",
      "====> Epoch: 6 Average train loss: 1.2392 (Test set loss: 1.1990)\n",
      "====> Epoch: 7 Average train loss: 1.1826 (Test set loss: 1.1668)\n",
      "====> Epoch: 8 Average train loss: 1.1539 (Test set loss: 1.1450)\n",
      "====> Epoch: 9 Average train loss: 1.1340 (Test set loss: 1.1258)\n",
      "====> Epoch: 10 Average train loss: 1.1305 (Test set loss: 1.1223)\n",
      "====> Epoch: 11 Average train loss: 1.1250 (Test set loss: 1.1227)\n",
      "====> Epoch: 12 Average train loss: 1.1144 (Test set loss: 1.1124)\n",
      "====> Epoch: 13 Average train loss: 1.1013 (Test set loss: 1.0963)\n",
      "====> Epoch: 14 Average train loss: 1.0875 (Test set loss: 1.0822)\n",
      "====> Epoch: 15 Average train loss: 1.0756 (Test set loss: 1.0718)\n",
      "====> Epoch: 16 Average train loss: 1.0647 (Test set loss: 1.0656)\n",
      "====> Epoch: 17 Average train loss: 1.0564 (Test set loss: 1.0556)\n",
      "====> Epoch: 18 Average train loss: 1.0482 (Test set loss: 1.0492)\n",
      "====> Epoch: 19 Average train loss: 1.0417 (Test set loss: 1.0421)\n",
      "====> Epoch: 20 Average train loss: 1.0365 (Test set loss: 1.0341)\n",
      "====> Epoch: 21 Average train loss: 1.0331 (Test set loss: 1.0345)\n",
      "====> Epoch: 22 Average train loss: 1.0293 (Test set loss: 1.0306)\n",
      "====> Epoch: 23 Average train loss: 1.0265 (Test set loss: 1.0272)\n",
      "====> Epoch: 24 Average train loss: 1.0239 (Test set loss: 1.0247)\n",
      "====> Epoch: 25 Average train loss: 1.0226 (Test set loss: 1.0277)\n",
      "====> Epoch: 26 Average train loss: 1.0214 (Test set loss: 1.0223)\n",
      "====> Epoch: 27 Average train loss: 1.0206 (Test set loss: 1.0200)\n",
      "====> Epoch: 28 Average train loss: 1.0181 (Test set loss: 1.0218)\n",
      "====> Epoch: 29 Average train loss: 1.0160 (Test set loss: 1.0176)\n",
      "====> Epoch: 30 Average train loss: 1.0160 (Test set loss: 1.0151)\n",
      "====> Epoch: 31 Average train loss: 1.0149 (Test set loss: 1.0153)\n",
      "====> Epoch: 32 Average train loss: 1.0141 (Test set loss: 1.0178)\n",
      "====> Epoch: 33 Average train loss: 1.0118 (Test set loss: 1.0099)\n",
      "====> Epoch: 34 Average train loss: 1.0100 (Test set loss: 1.0147)\n",
      "====> Epoch: 35 Average train loss: 1.0062 (Test set loss: 1.0073)\n",
      "====> Epoch: 36 Average train loss: 1.0060 (Test set loss: 1.0235)\n",
      "====> Epoch: 37 Average train loss: 1.0047 (Test set loss: 1.0097)\n",
      "====> Epoch: 38 Average train loss: 1.0038 (Test set loss: 1.0107)\n",
      "====> Epoch: 39 Average train loss: 1.0027 (Test set loss: 1.0110)\n",
      "====> Epoch: 40 Average train loss: 1.0029 (Test set loss: 1.0051)\n",
      "====> Epoch: 41 Average train loss: 1.0015 (Test set loss: 1.0037)\n",
      "====> Epoch: 42 Average train loss: 1.0001 (Test set loss: 1.0092)\n",
      "====> Epoch: 43 Average train loss: 1.0000 (Test set loss: 1.0091)\n",
      "====> Epoch: 44 Average train loss: 0.9993 (Test set loss: 1.0111)\n",
      "====> Epoch: 45 Average train loss: 0.9981 (Test set loss: 1.0111)\n",
      "====> Epoch: 46 Average train loss: 0.9975 (Test set loss: 1.0107)\n",
      "====> Epoch: 47 Average train loss: 0.9931 (Test set loss: 0.9931)\n",
      "====> Epoch: 48 Average train loss: 0.9892 (Test set loss: 1.0059)\n",
      "====> Epoch: 49 Average train loss: 0.9846 (Test set loss: 0.9923)\n",
      "====> Epoch: 50 Average train loss: 0.9790 (Test set loss: 0.9917)\n",
      "====> Epoch: 51 Average train loss: 0.9738 (Test set loss: 0.9725)\n",
      "====> Epoch: 52 Average train loss: 0.9651 (Test set loss: 0.9695)\n",
      "====> Epoch: 53 Average train loss: 0.9507 (Test set loss: 0.9462)\n",
      "====> Epoch: 54 Average train loss: 0.9289 (Test set loss: 0.9272)\n",
      "====> Epoch: 55 Average train loss: 0.9064 (Test set loss: 0.9060)\n",
      "====> Epoch: 56 Average train loss: 0.8826 (Test set loss: 0.8754)\n",
      "====> Epoch: 57 Average train loss: 0.8635 (Test set loss: 0.8614)\n",
      "====> Epoch: 58 Average train loss: 0.8503 (Test set loss: 0.8494)\n",
      "====> Epoch: 59 Average train loss: 0.8388 (Test set loss: 0.8419)\n"
     ]
    }
   ],
   "source": [
    "# PREPARES MODEL\n",
    "model = init_specific_model(orig_dim=10, latent_dim=2)\n",
    "model = model.to(device)\n",
    "\n",
    "# TRAINS\n",
    "optimizer = torch.optim.Adam(model.parameters(), lr=1e-3)\n",
    "beta = 0\n",
    "loss_f = BetaLoss(beta=beta)\n",
    "\n",
    "attr_lamb = 100.0\n",
    "trainer = Trainer(model, optimizer, loss_f, device=device, attr_lamb=attr_lamb)\n",
    "trainer(train_loader, test_loader, epochs=60)\n",
    "\n",
    "# SAVE MODEL\n",
    "save_dir = \"results\"\n",
    "os.makedirs(save_dir, exist_ok=True)\n",
    "\n",
    "name = \"beta\" + str(beta) + \"_attr\" + str(attr_lamb)\n",
    "torch.save(model.state_dict(), opj(save_dir, name)) "
   ]
  },
  {
   "cell_type": "code",
   "execution_count": null,
   "metadata": {},
   "outputs": [
    {
     "name": "stdout",
     "output_type": "stream",
     "text": [
      "====> Epoch: 0 Average train loss: 0.8316 (Test set loss: 0.8326)\n",
      "====> Epoch: 1 Average train loss: 0.8244 (Test set loss: 0.8296)\n"
     ]
    }
   ],
   "source": [
    "trainer(train_loader, test_loader, epochs=60)"
   ]
  },
  {
   "cell_type": "code",
   "execution_count": null,
   "metadata": {},
   "outputs": [],
   "source": [
    "# EVALUATE TEST DATA\n",
    "data = test_loader.dataset.data.to(device)\n",
    "recon_data, latent_dist, latent_sample = model(data)\n",
    "\n",
    "plot_2d_samples(latent_sample.detach().cpu())\n",
    "plt.title('Estimated latent variables')\n",
    "plt.show()"
   ]
  },
  {
   "cell_type": "code",
   "execution_count": null,
   "metadata": {},
   "outputs": [],
   "source": [
    "plot_2d_samples(data.detach().cpu()[:,:2])\n",
    "plot_2d_samples(recon_data.detach().cpu()[:,:2])\n",
    "plt.title('Original and reconstructed data after projection')\n",
    "plt.show()"
   ]
  },
  {
   "cell_type": "code",
   "execution_count": null,
   "metadata": {},
   "outputs": [],
   "source": [
    "print('Pen: {:.8f}'.format(trainer._comp_latent_pen(latent_sample, data).item()))"
   ]
  },
  {
   "cell_type": "markdown",
   "metadata": {},
   "source": [
    "###  PLOT TRAVERSALS"
   ]
  },
  {
   "cell_type": "code",
   "execution_count": null,
   "metadata": {},
   "outputs": [],
   "source": [
    "# GET TRAVERSAL\n",
    "decoded_traversal = traversals(model, data=None)\n",
    "\n",
    "# PROJECTION to FIRST TWO COORDINATES\n",
    "decoded_traversal0 = decoded_traversal[:,:2]\n",
    "plot_2d_samples(decoded_traversal0[:100])"
   ]
  },
  {
   "cell_type": "code",
   "execution_count": null,
   "metadata": {},
   "outputs": [],
   "source": [
    "plot_2d_samples(decoded_traversal0[100:])"
   ]
  },
  {
   "cell_type": "code",
   "execution_count": 206,
   "metadata": {},
   "outputs": [
    {
     "data": {
      "image/png": "[encoded data removed]",
      "text/plain": [
       "<Figure size 432x288 with 1 Axes>"
      ]
     },
     "metadata": {
      "needs_background": "light"
     },
     "output_type": "display_data"
    }
   ],
   "source": [
    "# PROJECTION to SECOND TWO COORDINATES\n",
    "decoded_traversal1 = decoded_traversal[:,2:4]\n",
    "plot_2d_samples(decoded_traversal1[:100])"
   ]
  },
  {
   "cell_type": "code",
   "execution_count": 207,
   "metadata": {},
   "outputs": [
    {
     "data": {
      "image/png": "[encoded data removed]",
      "text/plain": [
       "<Figure size 432x288 with 1 Axes>"
      ]
     },
     "metadata": {
      "needs_background": "light"
     },
     "output_type": "display_data"
    }
   ],
   "source": [
    "plot_2d_samples(decoded_traversal1[100:])"
   ]
  },
  {
   "cell_type": "code",
   "execution_count": 208,
   "metadata": {},
   "outputs": [
    {
     "data": {
      "image/png": "[encoded data removed]",
      "text/plain": [
       "<Figure size 432x288 with 1 Axes>"
      ]
     },
     "metadata": {
      "needs_background": "light"
     },
     "output_type": "display_data"
    }
   ],
   "source": [
    "# PROJECTION to THIRD TWO COORDINATES\n",
    "decoded_traversal2 = decoded_traversal[:,4:6]\n",
    "plot_2d_samples(decoded_traversal2[:100])"
   ]
  },
  {
   "cell_type": "code",
   "execution_count": 209,
   "metadata": {},
   "outputs": [
    {
     "data": {
      "image/png": "[encoded data removed]",
      "text/plain": [
       "<Figure size 432x288 with 1 Axes>"
      ]
     },
     "metadata": {
      "needs_background": "light"
     },
     "output_type": "display_data"
    }
   ],
   "source": [
    "plot_2d_samples(decoded_traversal2[100:])"
   ]
  },
  {
   "cell_type": "code",
   "execution_count": 210,
   "metadata": {},
   "outputs": [
    {
     "data": {
      "image/png": "[encoded data removed]",
      "text/plain": [
       "<Figure size 432x288 with 1 Axes>"
      ]
     },
     "metadata": {
      "needs_background": "light"
     },
     "output_type": "display_data"
    }
   ],
   "source": [
    "# PROJECTION to FOURTH TWO COORDINATES\n",
    "decoded_traversal3 = decoded_traversal[:,6:8]\n",
    "plot_2d_samples(decoded_traversal3[:100])"
   ]
  },
  {
   "cell_type": "code",
   "execution_count": 211,
   "metadata": {},
   "outputs": [
    {
     "data": {
      "image/png": "[encoded data removed]",
      "text/plain": [
       "<Figure size 432x288 with 1 Axes>"
      ]
     },
     "metadata": {
      "needs_background": "light"
     },
     "output_type": "display_data"
    }
   ],
   "source": [
    "plot_2d_samples(decoded_traversal3[100:])"
   ]
  },
  {
   "cell_type": "code",
   "execution_count": 212,
   "metadata": {},
   "outputs": [
    {
     "data": {
      "image/png": "[encoded data removed]",
      "text/plain": [
       "<Figure size 432x288 with 1 Axes>"
      ]
     },
     "metadata": {
      "needs_background": "light"
     },
     "output_type": "display_data"
    }
   ],
   "source": [
    "# PROJECTION to FIFTH TWO COORDINATES\n",
    "decoded_traversal4 = decoded_traversal[:,8:10]\n",
    "plot_2d_samples(decoded_traversal4[:100])"
   ]
  },
  {
   "cell_type": "code",
   "execution_count": 213,
   "metadata": {},
   "outputs": [
    {
     "data": {
      "image/png": "[encoded data removed]",
      "text/plain": [
       "<Figure size 432x288 with 1 Axes>"
      ]
     },
     "metadata": {
      "needs_background": "light"
     },
     "output_type": "display_data"
    }
   ],
   "source": [
    "plot_2d_samples(decoded_traversal4[100:])"
   ]
  },
  {
   "cell_type": "code",
   "execution_count": null,
   "metadata": {},
   "outputs": [],
   "source": []
  },
  {
   "cell_type": "code",
   "execution_count": null,
   "metadata": {},
   "outputs": [],
   "source": []
  },
  {
   "cell_type": "code",
   "execution_count": null,
   "metadata": {},
   "outputs": [],
   "source": []
  }
 ],
 "metadata": {
  "kernelspec": {
   "display_name": "Environment (conda_pytorch_p36)",
   "language": "python",
   "name": "conda_pytorch_p36"
  },
  "language_info": {
   "codemirror_mode": {
    "name": "ipython",
    "version": 3
   },
   "file_extension": ".py",
   "mimetype": "text/x-python",
   "name": "python",
   "nbconvert_exporter": "python",
   "pygments_lexer": "ipython3",
   "version": "3.6.10"
  }
 },
 "nbformat": 4,
 "nbformat_minor": 4
}
