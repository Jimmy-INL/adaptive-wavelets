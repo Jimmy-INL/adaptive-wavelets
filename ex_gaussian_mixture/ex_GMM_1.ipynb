{
 "cells": [
  {
   "cell_type": "code",
   "execution_count": 364,
   "metadata": {},
   "outputs": [
    {
     "name": "stdout",
     "output_type": "stream",
     "text": [
      "The autoreload extension is already loaded. To reload it, use:\n",
      "  %reload_ext autoreload\n"
     ]
    }
   ],
   "source": [
    "%load_ext autoreload\n",
    "%autoreload 2\n",
    "%matplotlib inline\n",
    "import matplotlib.pyplot as plt\n",
    "import numpy as np\n",
    "import torch\n",
    "import random\n",
    "device = 'cuda' if torch.cuda.is_available() else 'cpu'\n",
    "import os,sys\n",
    "opj = os.path.join\n",
    "from tqdm import tqdm\n",
    "import acd\n",
    "from copy import deepcopy\n",
    "from model_GMM import init_specific_model\n",
    "from losses_GMM import BetaLoss, BtcvaeLoss\n",
    "from dset_GMM import get_dataloaders\n",
    "from training import Trainer\n",
    "from utils import *"
   ]
  },
  {
   "cell_type": "code",
   "execution_count": 365,
   "metadata": {},
   "outputs": [
    {
     "data": {
      "image/png": "[encoded data removed]",
      "text/plain": [
       "<Figure size 432x288 with 1 Axes>"
      ]
     },
     "metadata": {
      "needs_background": "light"
     },
     "output_type": "display_data"
    }
   ],
   "source": [
    "# GET DATALOADERS\n",
    "train_loader, train_latents = get_dataloaders(n_samples_per_cluster=5000, \n",
    "                                              batch_size=100, \n",
    "                                              shuffle=True,\n",
    "                                              return_latents=True)\n",
    "test_loader, test_latents = get_dataloaders(n_samples_per_cluster=200, \n",
    "                                            batch_size=100, \n",
    "                                            shuffle=False,\n",
    "                                            return_latents=True)\n",
    "\n",
    "# PLOT LATENT VARIABLES\n",
    "plot_2d_samples(test_latents)\n",
    "plt.title('True latent variables')\n",
    "plt.show()"
   ]
  },
  {
   "cell_type": "code",
   "execution_count": 366,
   "metadata": {},
   "outputs": [
    {
     "name": "stdout",
     "output_type": "stream",
     "text": [
      "====> Epoch: 0 Average train loss: 69.6418 (Test set loss: 48.6360)\n",
      "====> Epoch: 1 Average train loss: 22.8657 (Test set loss: 9.8859)\n",
      "====> Epoch: 2 Average train loss: 8.7045 (Test set loss: 5.6522)\n",
      "====> Epoch: 3 Average train loss: 6.1517 (Test set loss: 4.7986)\n",
      "====> Epoch: 4 Average train loss: 5.5368 (Test set loss: 4.4326)\n",
      "====> Epoch: 5 Average train loss: 5.2044 (Test set loss: 4.1539)\n",
      "====> Epoch: 6 Average train loss: 4.9136 (Test set loss: 3.9781)\n",
      "====> Epoch: 7 Average train loss: 4.5923 (Test set loss: 3.6854)\n",
      "====> Epoch: 8 Average train loss: 4.1744 (Test set loss: 3.3599)\n",
      "====> Epoch: 9 Average train loss: 3.9014 (Test set loss: 3.3012)\n",
      "====> Epoch: 10 Average train loss: 3.7842 (Test set loss: 3.2558)\n",
      "====> Epoch: 11 Average train loss: 3.7178 (Test set loss: 3.2145)\n",
      "====> Epoch: 12 Average train loss: 3.6906 (Test set loss: 3.2201)\n",
      "====> Epoch: 13 Average train loss: 3.6406 (Test set loss: 3.1394)\n",
      "====> Epoch: 14 Average train loss: 3.6012 (Test set loss: 3.1517)\n",
      "====> Epoch: 15 Average train loss: 3.5805 (Test set loss: 3.1076)\n",
      "====> Epoch: 16 Average train loss: 3.5680 (Test set loss: 3.1091)\n",
      "====> Epoch: 17 Average train loss: 3.5608 (Test set loss: 3.1105)\n",
      "====> Epoch: 18 Average train loss: 3.5491 (Test set loss: 3.1371)\n",
      "====> Epoch: 19 Average train loss: 3.5155 (Test set loss: 3.0757)\n",
      "====> Epoch: 20 Average train loss: 3.5137 (Test set loss: 3.0776)\n",
      "====> Epoch: 21 Average train loss: 3.4846 (Test set loss: 3.0475)\n",
      "====> Epoch: 22 Average train loss: 3.4671 (Test set loss: 3.0269)\n",
      "====> Epoch: 23 Average train loss: 3.4725 (Test set loss: 3.0538)\n",
      "====> Epoch: 24 Average train loss: 3.4618 (Test set loss: 3.0461)\n",
      "====> Epoch: 25 Average train loss: 3.4614 (Test set loss: 3.0456)\n",
      "====> Epoch: 26 Average train loss: 3.4512 (Test set loss: 3.0194)\n",
      "====> Epoch: 27 Average train loss: 3.4396 (Test set loss: 3.0098)\n",
      "====> Epoch: 28 Average train loss: 3.4465 (Test set loss: 3.0361)\n",
      "====> Epoch: 29 Average train loss: 3.4480 (Test set loss: 3.0341)\n",
      "====> Epoch: 30 Average train loss: 3.4436 (Test set loss: 3.0350)\n",
      "====> Epoch: 31 Average train loss: 3.4364 (Test set loss: 3.0067)\n",
      "====> Epoch: 32 Average train loss: 3.4240 (Test set loss: 3.0066)\n",
      "====> Epoch: 33 Average train loss: 3.4203 (Test set loss: 3.0169)\n",
      "====> Epoch: 34 Average train loss: 3.4129 (Test set loss: 3.0232)\n",
      "====> Epoch: 35 Average train loss: 3.4212 (Test set loss: 3.0357)\n",
      "====> Epoch: 36 Average train loss: 3.4214 (Test set loss: 3.0266)\n",
      "====> Epoch: 37 Average train loss: 3.4110 (Test set loss: 2.9850)\n",
      "====> Epoch: 38 Average train loss: 3.4038 (Test set loss: 3.0292)\n",
      "====> Epoch: 39 Average train loss: 3.3722 (Test set loss: 2.9620)\n",
      "====> Epoch: 40 Average train loss: 3.3583 (Test set loss: 2.9656)\n",
      "====> Epoch: 41 Average train loss: 3.3374 (Test set loss: 2.9835)\n",
      "====> Epoch: 42 Average train loss: 3.3445 (Test set loss: 2.9716)\n",
      "====> Epoch: 43 Average train loss: 3.3218 (Test set loss: 2.9296)\n",
      "====> Epoch: 44 Average train loss: 3.3200 (Test set loss: 2.9501)\n",
      "====> Epoch: 45 Average train loss: 3.3305 (Test set loss: 2.9682)\n",
      "====> Epoch: 46 Average train loss: 3.3262 (Test set loss: 2.9759)\n",
      "====> Epoch: 47 Average train loss: 3.3145 (Test set loss: 2.9343)\n",
      "====> Epoch: 48 Average train loss: 3.3051 (Test set loss: 2.9573)\n",
      "====> Epoch: 49 Average train loss: 3.3058 (Test set loss: 2.9642)\n",
      "====> Epoch: 50 Average train loss: 3.2947 (Test set loss: 2.9483)\n",
      "====> Epoch: 51 Average train loss: 3.2938 (Test set loss: 2.9553)\n",
      "====> Epoch: 52 Average train loss: 3.2922 (Test set loss: 2.9654)\n",
      "====> Epoch: 53 Average train loss: 3.3160 (Test set loss: 2.9718)\n",
      "====> Epoch: 54 Average train loss: 3.2989 (Test set loss: 2.9450)\n",
      "====> Epoch: 55 Average train loss: 3.3036 (Test set loss: 2.9464)\n",
      "====> Epoch: 56 Average train loss: 3.2872 (Test set loss: 2.9864)\n",
      "====> Epoch: 57 Average train loss: 3.3000 (Test set loss: 2.9470)\n",
      "====> Epoch: 58 Average train loss: 3.2883 (Test set loss: 2.9322)\n",
      "====> Epoch: 59 Average train loss: 3.2917 (Test set loss: 2.9332)\n"
     ]
    }
   ],
   "source": [
    "# PREPARES MODEL\n",
    "model = init_specific_model(orig_dim=10, latent_dim=2)\n",
    "model = model.to(device)\n",
    "\n",
    "# TRAINS\n",
    "optimizer = torch.optim.Adam(model.parameters(), lr=1e-3)\n",
    "beta = 1\n",
    "loss_f = BetaLoss(beta=beta)\n",
    "\n",
    "trainer = Trainer(model, optimizer, loss_f, device=device)\n",
    "trainer(train_loader, test_loader, epochs=60)\n",
    "\n",
    "# SAVE MODEL\n",
    "save_dir = \"results\"\n",
    "os.makedirs(save_dir, exist_ok=True)\n",
    "\n",
    "name = \"beta\" + str(beta)\n",
    "torch.save(model.state_dict(), opj(save_dir, name)) "
   ]
  },
  {
   "cell_type": "code",
   "execution_count": 392,
   "metadata": {},
   "outputs": [
    {
     "name": "stdout",
     "output_type": "stream",
     "text": [
      "====> Epoch: 0 Average train loss: 3.2594 (Test set loss: 2.9037)\n",
      "====> Epoch: 1 Average train loss: 3.2651 (Test set loss: 2.9601)\n",
      "====> Epoch: 2 Average train loss: 3.2639 (Test set loss: 2.9910)\n",
      "====> Epoch: 3 Average train loss: 3.2668 (Test set loss: 2.9675)\n",
      "====> Epoch: 4 Average train loss: 3.2551 (Test set loss: 2.9067)\n",
      "====> Epoch: 5 Average train loss: 3.2589 (Test set loss: 2.9663)\n",
      "====> Epoch: 6 Average train loss: 3.2513 (Test set loss: 2.9249)\n",
      "====> Epoch: 7 Average train loss: 3.2841 (Test set loss: 2.9703)\n",
      "====> Epoch: 8 Average train loss: 3.2618 (Test set loss: 2.9461)\n",
      "====> Epoch: 9 Average train loss: 3.2628 (Test set loss: 2.9734)\n",
      "====> Epoch: 10 Average train loss: 3.2722 (Test set loss: 2.9347)\n",
      "====> Epoch: 11 Average train loss: 3.2533 (Test set loss: 2.9111)\n",
      "====> Epoch: 12 Average train loss: 3.2535 (Test set loss: 2.9319)\n",
      "====> Epoch: 13 Average train loss: 3.2510 (Test set loss: 2.9073)\n",
      "====> Epoch: 14 Average train loss: 3.2640 (Test set loss: 2.9750)\n",
      "====> Epoch: 15 Average train loss: 3.2556 (Test set loss: 2.9162)\n",
      "====> Epoch: 16 Average train loss: 3.2559 (Test set loss: 2.9227)\n",
      "====> Epoch: 17 Average train loss: 3.2467 (Test set loss: 2.9345)\n",
      "====> Epoch: 18 Average train loss: 3.2423 (Test set loss: 2.9419)\n",
      "====> Epoch: 19 Average train loss: 3.2656 (Test set loss: 2.9421)\n",
      "====> Epoch: 20 Average train loss: 3.2638 (Test set loss: 2.9653)\n",
      "====> Epoch: 21 Average train loss: 3.2774 (Test set loss: 2.9424)\n",
      "====> Epoch: 22 Average train loss: 3.2535 (Test set loss: 2.9234)\n",
      "====> Epoch: 23 Average train loss: 3.2469 (Test set loss: 2.9225)\n",
      "====> Epoch: 24 Average train loss: 3.2657 (Test set loss: 2.9280)\n",
      "====> Epoch: 25 Average train loss: 3.2801 (Test set loss: 2.9499)\n",
      "====> Epoch: 26 Average train loss: 3.2545 (Test set loss: 2.9223)\n",
      "====> Epoch: 27 Average train loss: 3.2684 (Test set loss: 2.9633)\n",
      "====> Epoch: 28 Average train loss: 3.2385 (Test set loss: 2.9249)\n",
      "====> Epoch: 29 Average train loss: 3.2468 (Test set loss: 2.9344)\n",
      "====> Epoch: 30 Average train loss: 3.2531 (Test set loss: 2.8950)\n",
      "====> Epoch: 31 Average train loss: 3.2432 (Test set loss: 2.8913)\n",
      "====> Epoch: 32 Average train loss: 3.2289 (Test set loss: 2.9239)\n",
      "====> Epoch: 33 Average train loss: 3.2277 (Test set loss: 2.8689)\n",
      "====> Epoch: 34 Average train loss: 3.2131 (Test set loss: 2.8679)\n",
      "====> Epoch: 35 Average train loss: 3.2090 (Test set loss: 2.9017)\n",
      "====> Epoch: 36 Average train loss: 3.1878 (Test set loss: 2.8224)\n",
      "====> Epoch: 37 Average train loss: 3.2088 (Test set loss: 2.8362)\n",
      "====> Epoch: 38 Average train loss: 3.1856 (Test set loss: 2.8771)\n",
      "====> Epoch: 39 Average train loss: 3.1835 (Test set loss: 2.8697)\n",
      "====> Epoch: 40 Average train loss: 3.1912 (Test set loss: 2.8587)\n",
      "====> Epoch: 41 Average train loss: 3.1749 (Test set loss: 2.8663)\n",
      "====> Epoch: 42 Average train loss: 3.1469 (Test set loss: 2.8014)\n",
      "====> Epoch: 43 Average train loss: 3.1405 (Test set loss: 2.7816)\n",
      "====> Epoch: 44 Average train loss: 3.1155 (Test set loss: 2.7858)\n",
      "====> Epoch: 45 Average train loss: 3.1027 (Test set loss: 2.8252)\n",
      "====> Epoch: 46 Average train loss: 3.1058 (Test set loss: 2.8194)\n",
      "====> Epoch: 47 Average train loss: 3.0933 (Test set loss: 2.8269)\n",
      "====> Epoch: 48 Average train loss: 3.0983 (Test set loss: 2.7593)\n",
      "====> Epoch: 49 Average train loss: 3.0961 (Test set loss: 2.8238)\n",
      "====> Epoch: 50 Average train loss: 3.0635 (Test set loss: 2.7801)\n",
      "====> Epoch: 51 Average train loss: 3.0410 (Test set loss: 2.7732)\n",
      "====> Epoch: 52 Average train loss: 3.0550 (Test set loss: 2.7903)\n",
      "====> Epoch: 53 Average train loss: 3.0360 (Test set loss: 2.8213)\n",
      "====> Epoch: 54 Average train loss: 3.0461 (Test set loss: 2.7389)\n",
      "====> Epoch: 55 Average train loss: 3.0473 (Test set loss: 2.8176)\n",
      "====> Epoch: 56 Average train loss: 3.0204 (Test set loss: 2.7960)\n",
      "====> Epoch: 57 Average train loss: 3.0294 (Test set loss: 2.8084)\n",
      "====> Epoch: 58 Average train loss: 3.0449 (Test set loss: 2.7879)\n",
      "====> Epoch: 59 Average train loss: 3.0351 (Test set loss: 2.7709)\n",
      "====> Epoch: 60 Average train loss: 3.0429 (Test set loss: 2.8020)\n",
      "====> Epoch: 61 Average train loss: 3.0199 (Test set loss: 2.7625)\n",
      "====> Epoch: 62 Average train loss: 3.0320 (Test set loss: 2.7895)\n",
      "====> Epoch: 63 Average train loss: 3.0295 (Test set loss: 2.8437)\n",
      "====> Epoch: 64 Average train loss: 3.0348 (Test set loss: 2.7673)\n",
      "====> Epoch: 65 Average train loss: 3.0426 (Test set loss: 2.7842)\n",
      "====> Epoch: 66 Average train loss: 3.0273 (Test set loss: 2.7922)\n",
      "====> Epoch: 67 Average train loss: 3.0290 (Test set loss: 2.7744)\n",
      "====> Epoch: 68 Average train loss: 3.0209 (Test set loss: 2.7970)\n",
      "====> Epoch: 69 Average train loss: 3.0284 (Test set loss: 2.7917)\n",
      "====> Epoch: 70 Average train loss: 3.0117 (Test set loss: 2.8125)\n",
      "====> Epoch: 71 Average train loss: 3.0323 (Test set loss: 2.7972)\n",
      "====> Epoch: 72 Average train loss: 3.0487 (Test set loss: 2.8201)\n",
      "====> Epoch: 73 Average train loss: 3.0415 (Test set loss: 2.8113)\n",
      "====> Epoch: 74 Average train loss: 3.0251 (Test set loss: 2.7636)\n",
      "====> Epoch: 75 Average train loss: 3.0180 (Test set loss: 2.7737)\n",
      "====> Epoch: 76 Average train loss: 3.0321 (Test set loss: 2.8122)\n",
      "====> Epoch: 77 Average train loss: 3.0447 (Test set loss: 2.8297)\n",
      "====> Epoch: 78 Average train loss: 3.0103 (Test set loss: 2.7706)\n",
      "====> Epoch: 79 Average train loss: 3.0430 (Test set loss: 2.7744)\n",
      "====> Epoch: 80 Average train loss: 3.0404 (Test set loss: 2.8253)\n",
      "====> Epoch: 81 Average train loss: 3.0254 (Test set loss: 2.7520)\n",
      "====> Epoch: 82 Average train loss: 3.0310 (Test set loss: 2.7714)\n",
      "====> Epoch: 83 Average train loss: 3.0408 (Test set loss: 2.7887)\n",
      "====> Epoch: 84 Average train loss: 3.0236 (Test set loss: 2.7396)\n",
      "====> Epoch: 85 Average train loss: 3.0339 (Test set loss: 2.8390)\n",
      "====> Epoch: 86 Average train loss: 3.0435 (Test set loss: 2.8107)\n",
      "====> Epoch: 87 Average train loss: 3.0356 (Test set loss: 2.7997)\n",
      "====> Epoch: 88 Average train loss: 3.0251 (Test set loss: 2.8236)\n",
      "====> Epoch: 89 Average train loss: 3.0277 (Test set loss: 2.7672)\n",
      "====> Epoch: 90 Average train loss: 3.0042 (Test set loss: 2.7688)\n",
      "====> Epoch: 91 Average train loss: 3.0507 (Test set loss: 2.7796)\n",
      "====> Epoch: 92 Average train loss: 3.0486 (Test set loss: 2.7759)\n",
      "====> Epoch: 93 Average train loss: 3.0375 (Test set loss: 2.7983)\n",
      "====> Epoch: 94 Average train loss: 3.0294 (Test set loss: 2.8282)\n",
      "====> Epoch: 95 Average train loss: 3.0412 (Test set loss: 2.7972)\n",
      "====> Epoch: 96 Average train loss: 3.0154 (Test set loss: 2.7399)\n",
      "====> Epoch: 97 Average train loss: 3.0200 (Test set loss: 2.8307)\n",
      "====> Epoch: 98 Average train loss: 3.0418 (Test set loss: 2.7759)\n",
      "====> Epoch: 99 Average train loss: 3.0326 (Test set loss: 2.7424)\n",
      "====> Epoch: 100 Average train loss: 3.0155 (Test set loss: 2.7645)\n",
      "====> Epoch: 101 Average train loss: 3.0174 (Test set loss: 2.7578)\n",
      "====> Epoch: 102 Average train loss: 3.0139 (Test set loss: 2.7747)\n",
      "====> Epoch: 103 Average train loss: 3.0148 (Test set loss: 2.7747)\n",
      "====> Epoch: 104 Average train loss: 3.0269 (Test set loss: 2.8006)\n",
      "====> Epoch: 105 Average train loss: 3.0373 (Test set loss: 2.7831)\n",
      "====> Epoch: 106 Average train loss: 3.0276 (Test set loss: 2.7649)\n",
      "====> Epoch: 107 Average train loss: 3.0185 (Test set loss: 2.7609)\n",
      "====> Epoch: 108 Average train loss: 3.0295 (Test set loss: 2.7744)\n",
      "====> Epoch: 109 Average train loss: 3.0320 (Test set loss: 2.7901)\n",
      "====> Epoch: 110 Average train loss: 3.0154 (Test set loss: 2.7925)\n",
      "====> Epoch: 111 Average train loss: 3.0231 (Test set loss: 2.7881)\n",
      "====> Epoch: 112 Average train loss: 3.0428 (Test set loss: 2.7540)\n",
      "====> Epoch: 113 Average train loss: 3.0352 (Test set loss: 2.8303)\n",
      "====> Epoch: 114 Average train loss: 3.0542 (Test set loss: 2.7704)\n",
      "====> Epoch: 115 Average train loss: 3.0265 (Test set loss: 2.8005)\n",
      "====> Epoch: 116 Average train loss: 3.0179 (Test set loss: 2.7861)\n",
      "====> Epoch: 117 Average train loss: 3.0233 (Test set loss: 2.7813)\n",
      "====> Epoch: 118 Average train loss: 3.0166 (Test set loss: 2.7228)\n",
      "====> Epoch: 119 Average train loss: 3.0267 (Test set loss: 2.8031)\n",
      "====> Epoch: 120 Average train loss: 3.0153 (Test set loss: 2.8035)\n",
      "====> Epoch: 121 Average train loss: 3.0391 (Test set loss: 2.8062)\n",
      "====> Epoch: 122 Average train loss: 3.0379 (Test set loss: 2.7862)\n",
      "====> Epoch: 123 Average train loss: 3.0414 (Test set loss: 2.8098)\n",
      "====> Epoch: 124 Average train loss: 3.0308 (Test set loss: 2.8333)\n",
      "====> Epoch: 125 Average train loss: 3.0271 (Test set loss: 2.7799)\n",
      "====> Epoch: 126 Average train loss: 3.0397 (Test set loss: 2.7742)\n",
      "====> Epoch: 127 Average train loss: 3.0269 (Test set loss: 2.7714)\n",
      "====> Epoch: 128 Average train loss: 3.0239 (Test set loss: 2.7842)\n",
      "====> Epoch: 129 Average train loss: 3.0221 (Test set loss: 2.7592)\n",
      "====> Epoch: 130 Average train loss: 3.0632 (Test set loss: 2.7847)\n",
      "====> Epoch: 131 Average train loss: 3.0261 (Test set loss: 2.7736)\n",
      "====> Epoch: 132 Average train loss: 3.0235 (Test set loss: 2.8257)\n",
      "====> Epoch: 133 Average train loss: 3.0285 (Test set loss: 2.8012)\n",
      "====> Epoch: 134 Average train loss: 3.0348 (Test set loss: 2.8266)\n",
      "====> Epoch: 135 Average train loss: 3.0172 (Test set loss: 2.7620)\n",
      "====> Epoch: 136 Average train loss: 3.0464 (Test set loss: 2.7538)\n",
      "====> Epoch: 137 Average train loss: 3.0304 (Test set loss: 2.8653)\n",
      "====> Epoch: 138 Average train loss: 3.0256 (Test set loss: 2.8341)\n",
      "====> Epoch: 139 Average train loss: 3.0248 (Test set loss: 2.7923)\n",
      "====> Epoch: 140 Average train loss: 3.0316 (Test set loss: 2.7988)\n",
      "====> Epoch: 141 Average train loss: 3.0401 (Test set loss: 2.7893)\n",
      "====> Epoch: 142 Average train loss: 3.0361 (Test set loss: 2.7945)\n",
      "====> Epoch: 143 Average train loss: 3.0069 (Test set loss: 2.7598)\n",
      "====> Epoch: 144 Average train loss: 3.0155 (Test set loss: 2.7734)\n",
      "====> Epoch: 145 Average train loss: 3.0359 (Test set loss: 2.8026)\n",
      "====> Epoch: 146 Average train loss: 3.0400 (Test set loss: 2.8093)\n",
      "====> Epoch: 147 Average train loss: 3.0217 (Test set loss: 2.8429)\n",
      "====> Epoch: 148 Average train loss: 3.0434 (Test set loss: 2.8408)\n",
      "====> Epoch: 149 Average train loss: 3.0404 (Test set loss: 2.8228)\n",
      "====> Epoch: 150 Average train loss: 3.0327 (Test set loss: 2.8159)\n",
      "====> Epoch: 151 Average train loss: 3.0241 (Test set loss: 2.7804)\n",
      "====> Epoch: 152 Average train loss: 3.0291 (Test set loss: 2.8046)\n",
      "====> Epoch: 153 Average train loss: 3.0144 (Test set loss: 2.7449)\n",
      "====> Epoch: 154 Average train loss: 3.0249 (Test set loss: 2.8125)\n",
      "====> Epoch: 155 Average train loss: 3.0203 (Test set loss: 2.7959)\n",
      "====> Epoch: 156 Average train loss: 3.0159 (Test set loss: 2.7737)\n",
      "====> Epoch: 157 Average train loss: 3.0239 (Test set loss: 2.7497)\n",
      "====> Epoch: 158 Average train loss: 3.0320 (Test set loss: 2.8834)\n",
      "====> Epoch: 159 Average train loss: 3.0226 (Test set loss: 2.7816)\n",
      "====> Epoch: 160 Average train loss: 3.0289 (Test set loss: 2.7778)\n",
      "====> Epoch: 161 Average train loss: 3.0444 (Test set loss: 2.8120)\n",
      "====> Epoch: 162 Average train loss: 3.0131 (Test set loss: 2.7492)\n",
      "====> Epoch: 163 Average train loss: 3.0322 (Test set loss: 2.8177)\n",
      "====> Epoch: 164 Average train loss: 3.0303 (Test set loss: 2.8172)\n",
      "====> Epoch: 165 Average train loss: 3.0321 (Test set loss: 2.7385)\n",
      "====> Epoch: 166 Average train loss: 3.0302 (Test set loss: 2.7763)\n",
      "====> Epoch: 167 Average train loss: 3.0231 (Test set loss: 2.7526)\n",
      "====> Epoch: 168 Average train loss: 3.0292 (Test set loss: 2.7631)\n",
      "====> Epoch: 169 Average train loss: 3.0420 (Test set loss: 2.8148)\n",
      "====> Epoch: 170 Average train loss: 3.0391 (Test set loss: 2.7684)\n",
      "====> Epoch: 171 Average train loss: 3.0325 (Test set loss: 2.7982)\n",
      "====> Epoch: 172 Average train loss: 3.0277 (Test set loss: 2.7769)\n",
      "====> Epoch: 173 Average train loss: 3.0160 (Test set loss: 2.7693)\n",
      "====> Epoch: 174 Average train loss: 3.0180 (Test set loss: 2.7433)\n",
      "====> Epoch: 175 Average train loss: 3.0502 (Test set loss: 2.7738)\n",
      "====> Epoch: 176 Average train loss: 3.0169 (Test set loss: 2.7722)\n",
      "====> Epoch: 177 Average train loss: 3.0272 (Test set loss: 2.7774)\n",
      "====> Epoch: 178 Average train loss: 3.0100 (Test set loss: 2.8284)\n",
      "====> Epoch: 179 Average train loss: 3.0234 (Test set loss: 2.8077)\n",
      "====> Epoch: 180 Average train loss: 3.0438 (Test set loss: 2.7990)\n",
      "====> Epoch: 181 Average train loss: 3.0306 (Test set loss: 2.7482)\n",
      "====> Epoch: 182 Average train loss: 3.0257 (Test set loss: 2.7621)\n",
      "====> Epoch: 183 Average train loss: 3.0497 (Test set loss: 2.8048)\n",
      "====> Epoch: 184 Average train loss: 3.0150 (Test set loss: 2.7716)\n",
      "====> Epoch: 185 Average train loss: 3.0185 (Test set loss: 2.7461)\n",
      "====> Epoch: 186 Average train loss: 3.0224 (Test set loss: 2.7737)\n",
      "====> Epoch: 187 Average train loss: 3.0371 (Test set loss: 2.7861)\n",
      "====> Epoch: 188 Average train loss: 3.0145 (Test set loss: 2.7994)\n",
      "====> Epoch: 189 Average train loss: 3.0266 (Test set loss: 2.7856)\n",
      "====> Epoch: 190 Average train loss: 3.0328 (Test set loss: 2.7758)\n",
      "====> Epoch: 191 Average train loss: 3.0357 (Test set loss: 2.8308)\n",
      "====> Epoch: 192 Average train loss: 3.0292 (Test set loss: 2.7847)\n",
      "====> Epoch: 193 Average train loss: 3.0440 (Test set loss: 2.7822)\n",
      "====> Epoch: 194 Average train loss: 3.0200 (Test set loss: 2.7406)\n",
      "====> Epoch: 195 Average train loss: 3.0270 (Test set loss: 2.7848)\n",
      "====> Epoch: 196 Average train loss: 3.0269 (Test set loss: 2.7730)\n",
      "====> Epoch: 197 Average train loss: 3.0284 (Test set loss: 2.7690)\n",
      "====> Epoch: 198 Average train loss: 3.0269 (Test set loss: 2.7859)\n",
      "====> Epoch: 199 Average train loss: 3.0377 (Test set loss: 2.8261)\n"
     ]
    }
   ],
   "source": [
    "trainer(train_loader, test_loader, epochs=200)"
   ]
  },
  {
   "cell_type": "code",
   "execution_count": 393,
   "metadata": {},
   "outputs": [
    {
     "data": {
      "image/png": "[encoded data removed]",
      "text/plain": [
       "<Figure size 432x288 with 1 Axes>"
      ]
     },
     "metadata": {
      "needs_background": "light"
     },
     "output_type": "display_data"
    }
   ],
   "source": [
    "# EVALUATE TEST DATA\n",
    "data = test_loader.dataset.data.to(device)\n",
    "recon_data, latent_dist, latent_sample = model(data)\n",
    "\n",
    "plot_2d_samples(latent_sample.detach().cpu())\n",
    "plt.title('Estimated latent variables')\n",
    "plt.show()"
   ]
  },
  {
   "cell_type": "code",
   "execution_count": 394,
   "metadata": {},
   "outputs": [
    {
     "data": {
      "image/png": "[encoded data removed]",
      "text/plain": [
       "<Figure size 432x288 with 1 Axes>"
      ]
     },
     "metadata": {
      "needs_background": "light"
     },
     "output_type": "display_data"
    }
   ],
   "source": [
    "plot_2d_samples(data.detach().cpu()[:,:2])\n",
    "plot_2d_samples(recon_data.detach().cpu()[:,:2])\n",
    "plt.title('Original and reconstructed data after projection')\n",
    "plt.show()"
   ]
  },
  {
   "cell_type": "code",
   "execution_count": 395,
   "metadata": {},
   "outputs": [
    {
     "name": "stdout",
     "output_type": "stream",
     "text": [
      "Pen: 0.00007143\n"
     ]
    }
   ],
   "source": [
    "print('Pen: {:.8f}'.format(trainer._comp_latent_pen(latent_sample, data).item()))"
   ]
  },
  {
   "cell_type": "markdown",
   "metadata": {},
   "source": [
    "###  PLOT TRAVERSALS"
   ]
  },
  {
   "cell_type": "code",
   "execution_count": 396,
   "metadata": {},
   "outputs": [
    {
     "data": {
      "image/png": "[encoded data removed]",
      "text/plain": [
       "<Figure size 432x288 with 1 Axes>"
      ]
     },
     "metadata": {
      "needs_background": "light"
     },
     "output_type": "display_data"
    }
   ],
   "source": [
    "# GET TRAVERSAL\n",
    "decoded_traversal = traversals(model, data=None)\n",
    "\n",
    "# PROJECTION to FIRST TWO COORDINATES\n",
    "decoded_traversal0 = decoded_traversal[:,:2]\n",
    "plot_2d_samples(decoded_traversal0[:100])"
   ]
  },
  {
   "cell_type": "code",
   "execution_count": 371,
   "metadata": {},
   "outputs": [
    {
     "data": {
      "image/png": "[encoded data removed]",
      "text/plain": [
       "<Figure size 432x288 with 1 Axes>"
      ]
     },
     "metadata": {
      "needs_background": "light"
     },
     "output_type": "display_data"
    }
   ],
   "source": [
    "plot_2d_samples(decoded_traversal0[100:])"
   ]
  },
  {
   "cell_type": "code",
   "execution_count": 372,
   "metadata": {},
   "outputs": [
    {
     "data": {
      "image/png": "[encoded data removed]",
      "text/plain": [
       "<Figure size 432x288 with 1 Axes>"
      ]
     },
     "metadata": {
      "needs_background": "light"
     },
     "output_type": "display_data"
    }
   ],
   "source": [
    "# PROJECTION to SECOND TWO COORDINATES\n",
    "decoded_traversal1 = decoded_traversal[:,2:4]\n",
    "plot_2d_samples(decoded_traversal1[:100])"
   ]
  },
  {
   "cell_type": "code",
   "execution_count": 373,
   "metadata": {},
   "outputs": [
    {
     "data": {
      "image/png": "[encoded data removed]",
      "text/plain": [
       "<Figure size 432x288 with 1 Axes>"
      ]
     },
     "metadata": {
      "needs_background": "light"
     },
     "output_type": "display_data"
    }
   ],
   "source": [
    "plot_2d_samples(decoded_traversal1[100:])"
   ]
  },
  {
   "cell_type": "code",
   "execution_count": 374,
   "metadata": {},
   "outputs": [
    {
     "data": {
      "image/png": "[encoded data removed]",
      "text/plain": [
       "<Figure size 432x288 with 1 Axes>"
      ]
     },
     "metadata": {
      "needs_background": "light"
     },
     "output_type": "display_data"
    }
   ],
   "source": [
    "# PROJECTION to THIRD TWO COORDINATES\n",
    "decoded_traversal2 = decoded_traversal[:,4:6]\n",
    "plot_2d_samples(decoded_traversal2[:100])"
   ]
  },
  {
   "cell_type": "code",
   "execution_count": 375,
   "metadata": {},
   "outputs": [
    {
     "data": {
      "image/png": "[encoded data removed]",
      "text/plain": [
       "<Figure size 432x288 with 1 Axes>"
      ]
     },
     "metadata": {
      "needs_background": "light"
     },
     "output_type": "display_data"
    }
   ],
   "source": [
    "plot_2d_samples(decoded_traversal2[100:])"
   ]
  },
  {
   "cell_type": "code",
   "execution_count": 376,
   "metadata": {},
   "outputs": [
    {
     "data": {
      "image/png": "[encoded data removed]",
      "text/plain": [
       "<Figure size 432x288 with 1 Axes>"
      ]
     },
     "metadata": {
      "needs_background": "light"
     },
     "output_type": "display_data"
    }
   ],
   "source": [
    "# PROJECTION to FOURTH TWO COORDINATES\n",
    "decoded_traversal3 = decoded_traversal[:,6:8]\n",
    "plot_2d_samples(decoded_traversal3[:100])"
   ]
  },
  {
   "cell_type": "code",
   "execution_count": 377,
   "metadata": {},
   "outputs": [
    {
     "data": {
      "image/png": "[encoded data removed]",
      "text/plain": [
       "<Figure size 432x288 with 1 Axes>"
      ]
     },
     "metadata": {
      "needs_background": "light"
     },
     "output_type": "display_data"
    }
   ],
   "source": [
    "plot_2d_samples(decoded_traversal3[100:])"
   ]
  },
  {
   "cell_type": "code",
   "execution_count": 378,
   "metadata": {},
   "outputs": [
    {
     "data": {
      "image/png": "[encoded data removed]",
      "text/plain": [
       "<Figure size 432x288 with 1 Axes>"
      ]
     },
     "metadata": {
      "needs_background": "light"
     },
     "output_type": "display_data"
    }
   ],
   "source": [
    "# PROJECTION to FIFTH TWO COORDINATES\n",
    "decoded_traversal4 = decoded_traversal[:,8:10]\n",
    "plot_2d_samples(decoded_traversal4[:100])"
   ]
  },
  {
   "cell_type": "code",
   "execution_count": 379,
   "metadata": {},
   "outputs": [
    {
     "data": {
      "image/png": "[encoded data removed]",
      "text/plain": [
       "<Figure size 432x288 with 1 Axes>"
      ]
     },
     "metadata": {
      "needs_background": "light"
     },
     "output_type": "display_data"
    }
   ],
   "source": [
    "plot_2d_samples(decoded_traversal4[100:])"
   ]
  },
  {
   "cell_type": "code",
   "execution_count": null,
   "metadata": {},
   "outputs": [],
   "source": []
  },
  {
   "cell_type": "code",
   "execution_count": null,
   "metadata": {},
   "outputs": [],
   "source": []
  },
  {
   "cell_type": "code",
   "execution_count": null,
   "metadata": {},
   "outputs": [],
   "source": []
  }
 ],
 "metadata": {
  "kernelspec": {
   "display_name": "Environment (conda_pytorch_p36)",
   "language": "python",
   "name": "conda_pytorch_p36"
  },
  "language_info": {
   "codemirror_mode": {
    "name": "ipython",
    "version": 3
   },
   "file_extension": ".py",
   "mimetype": "text/x-python",
   "name": "python",
   "nbconvert_exporter": "python",
   "pygments_lexer": "ipython3",
   "version": "3.6.10"
  }
 },
 "nbformat": 4,
 "nbformat_minor": 4
}
