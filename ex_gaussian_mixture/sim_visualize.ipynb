{
 "cells": [
  {
   "cell_type": "code",
   "execution_count": 97,
   "metadata": {},
   "outputs": [
    {
     "name": "stdout",
     "output_type": "stream",
     "text": [
      "The autoreload extension is already loaded. To reload it, use:\n",
      "  %reload_ext autoreload\n"
     ]
    }
   ],
   "source": [
    "%load_ext autoreload\n",
    "%autoreload 2\n",
    "%matplotlib inline\n",
    "import matplotlib.pyplot as plt\n",
    "import numpy as np\n",
    "import torch\n",
    "import random\n",
    "device = 'cuda' if torch.cuda.is_available() else 'cpu'\n",
    "import os,sys\n",
    "opj = os.path.join\n",
    "from tqdm import tqdm\n",
    "import acd\n",
    "from random import randint\n",
    "from copy import deepcopy\n",
    "from model import init_specific_model\n",
    "from losses import Loss\n",
    "from dset import *\n",
    "from training import Trainer\n",
    "from utils import *"
   ]
  },
  {
   "cell_type": "code",
   "execution_count": 98,
   "metadata": {},
   "outputs": [],
   "source": [
    "class p:\n",
    "    '''Parameters for Gaussian mixture simulation\n",
    "    '''\n",
    "    # parameters for generating data\n",
    "    train_n_samples_per_cluster = 10000\n",
    "    test_n_samples_per_cluster = 2000\n",
    "    latent_means = [[0.0, 0.0], [10.0, 10.0], [20.0, 20.0]]\n",
    "    latent_vars = [[4, 2], [4, 2], [4, 2]]\n",
    "    noise_dim = 8\n",
    "    noise_var = 0.01\n",
    "    \n",
    "    # parameters for model architecture\n",
    "    orig_dim = 2 + noise_dim\n",
    "    latent_dim = 4    \n",
    "    hidden_dim = orig_dim - 2\n",
    "    \n",
    "    # parameters for training\n",
    "    train_batch_size = 64\n",
    "    test_batch_size = 100\n",
    "    lr = 1e-3\n",
    "    beta = 0.05\n",
    "    attr = 1.0\n",
    "    alpha = 0.0\n",
    "    gamma = 0.0\n",
    "    tc = 0.0\n",
    "    num_epochs = 50\n",
    "    \n",
    "    seed = 13\n",
    "    \n",
    "    # SAVE MODEL\n",
    "    save_dir = \"/home/ubuntu/transformation-importance/ex_gaussian_mixture/results\"\n",
    "    pid = ''.join([\"%s\" % randint(0, 9) for num in range(0, 20)])\n",
    "\n",
    "    def _str(self):\n",
    "        vals = vars(p)\n",
    "        return 'beta=' + str(vals['beta']) + '_attr=' + str(vals['attr']) + '_tc=' + str(vals['tc']) + '_pid=' + vals['pid']\n",
    "    \n",
    "    def _dict(self):\n",
    "        return {attr: val for (attr, val) in vars(self).items()\n",
    "                 if not attr.startswith('_')}"
   ]
  },
  {
   "cell_type": "code",
   "execution_count": 99,
   "metadata": {},
   "outputs": [],
   "source": [
    "class s:\n",
    "    '''Parameters to save\n",
    "    '''\n",
    "    reconstruction_loss = None\n",
    "    kl_normal_loss = None\n",
    "    disentanglement_metric = None\n",
    "    total_correlation = None\n",
    "    mutual_information = None\n",
    "    dimensionwise_kl_loss = None\n",
    "    attribution_loss = None\n",
    "    net = None\n",
    "    \n",
    "    def _dict(self):\n",
    "        return {attr: val for (attr, val) in vars(self).items()\n",
    "                 if not attr.startswith('_')}"
   ]
  },
  {
   "cell_type": "code",
   "execution_count": 100,
   "metadata": {},
   "outputs": [],
   "source": [
    "# generate data\n",
    "def define_dataloaders(p):\n",
    "    \"\"\"A generic data loader\n",
    "    \"\"\"\n",
    "    train_loader, train_latents = get_dataloaders(n_samples_per_cluster=p.train_n_samples_per_cluster, \n",
    "                                                  latent_means=p.latent_means,\n",
    "                                                  latent_vars=p.latent_vars,\n",
    "                                                  extra_dim=p.noise_dim, \n",
    "                                                  var=p.noise_var,\n",
    "                                                  batch_size=p.train_batch_size,\n",
    "                                                  shuffle=True,\n",
    "                                                  return_latents=True) \n",
    "    test_loader, test_latents = get_dataloaders(n_samples_per_cluster=p.test_n_samples_per_cluster, \n",
    "                                                latent_means=p.latent_means,\n",
    "                                                latent_vars=p.latent_vars,\n",
    "                                                extra_dim=p.noise_dim, \n",
    "                                                var=p.noise_var,\n",
    "                                                batch_size=p.test_batch_size, \n",
    "                                                shuffle=True,\n",
    "                                                return_latents=True)   \n",
    "    return((train_loader, train_latents), (test_loader, test_latents))\n"
   ]
  },
  {
   "cell_type": "code",
   "execution_count": 101,
   "metadata": {},
   "outputs": [],
   "source": [
    "# calculate losses\n",
    "def calc_losses(model, data_loader, loss_f):\n",
    "        \"\"\"\n",
    "        Tests the model for one epoch.\n",
    "\n",
    "        Parameters\n",
    "        ----------\n",
    "        data_loader: torch.utils.data.DataLoader\n",
    "\n",
    "        loss_f: loss object\n",
    "\n",
    "        Return\n",
    "        ------\n",
    "        \"\"\"    \n",
    "        model.eval()\n",
    "        n_data = data_loader.dataset.data.shape[0]\n",
    "        rec_loss = kl_loss = mi_loss = tc_loss = dw_kl_loss = attr_loss = 0\n",
    "        \n",
    "        for _, data in enumerate(data_loader):\n",
    "            data = data.to(device)\n",
    "            recon_data, latent_dist, latent_sample = model(data)\n",
    "            _ = loss_f(data, recon_data, latent_dist, latent_sample, n_data) \n",
    "            rec_loss += loss_f.rec_loss.item()\n",
    "            kl_loss += loss_f.kl_loss.item()\n",
    "            mi_loss += loss_f.mi_loss.item()\n",
    "            tc_loss += loss_f.tc_loss.item()\n",
    "            dw_kl_loss += loss_f.dw_kl_loss.item()\n",
    "            attr_loss += loss_f.attr_loss.item()     \n",
    "        \n",
    "        n_batch = len(data_loader)\n",
    "        rec_loss /= n_batch\n",
    "        kl_loss /= n_batch\n",
    "        mi_loss /= n_batch\n",
    "        tc_loss /= n_batch\n",
    "        dw_kl_loss /= n_batch\n",
    "        attr_loss /= n_batch\n",
    "        \n",
    "        return (rec_loss, kl_loss, mi_loss, tc_loss, dw_kl_loss, attr_loss)"
   ]
  },
  {
   "cell_type": "code",
   "execution_count": 102,
   "metadata": {},
   "outputs": [],
   "source": [
    "def measure_anlge_iteration(model, data):\n",
    "    batch_size, dim = data.shape\n",
    "    \n",
    "    results = []\n",
    "    for batch_idx in range(batch_size):\n",
    "        data_i = data[batch_idx:batch_idx+1]\n",
    "        decoded_traversal = traversals(model, data=data_i, n_latents=p.latent_dim)[:,:2]\n",
    "        \n",
    "        variab = []\n",
    "        for i in range(p.latent_dim):\n",
    "            x = decoded_traversal[100*i:100*(i+1)]\n",
    "            tot_var = torch.var(x[:,0]) + torch.var(x[:,1])\n",
    "            variab.append(tot_var.item())\n",
    "        variab = torch.Tensor(variab)\n",
    "        _, idxs = torch.sort(variab, descending=True)\n",
    "        idxs = idxs[:2]\n",
    "\n",
    "        angles = []\n",
    "        for i in range(2):\n",
    "            x = decoded_traversal[100*idxs[i]:100*(idxs[i]+1)]\n",
    "            v = x[-1] - x[0]\n",
    "            angles.append(abs(v/torch.norm(v)))\n",
    "        angles = torch.stack(angles)\n",
    "        s1 = torch.sqrt((angles[0,0] - 1)**2 + (angles[1,1] - 1)**2)\n",
    "        s2 = torch.sqrt((angles[0,1] - 1)**2 + (angles[1,0] - 1)**2)\n",
    "        results.append(torch.min(s1, s2))\n",
    "\n",
    "    return torch.stack(results)\n",
    "\n",
    "\n",
    "def calc_disentangle_metric(model, data_loader):\n",
    "    model.eval()\n",
    "    \n",
    "    dis_metric = []\n",
    "    for _, data in enumerate(data_loader):\n",
    "        results = measure_anlge_iteration(model, data)\n",
    "        dis_metric.append(results)\n",
    "        \n",
    "    return torch.cat(dis_metric)"
   ]
  },
  {
   "cell_type": "code",
   "execution_count": 103,
   "metadata": {},
   "outputs": [],
   "source": [
    "# seed\n",
    "random.seed(p.seed)\n",
    "np.random.seed(p.seed)\n",
    "torch.manual_seed(p.seed)\n",
    "\n",
    "# GET DATALOADERS\n",
    "(train_loader, train_latents), (test_loader, test_latents) = define_dataloaders(p)\n",
    "\n",
    "# PREPARES MODEL\n",
    "model = init_specific_model(orig_dim=p.orig_dim, latent_dim=p.latent_dim, hidden_dim=p.hidden_dim)\n",
    "model = model.to(device)\n",
    "\n",
    "# TRAINS\n",
    "optimizer = torch.optim.Adam(model.parameters(), lr=p.lr)\n",
    "beta = p.beta\n",
    "attr = p.attr\n",
    "alpha = p.alpha\n",
    "gamma = p.gamma\n",
    "tc = p.tc\n",
    "num_epochs = p.num_epochs\n",
    "\n",
    "loss_f = Loss(beta=beta, attr=attr, alpha=alpha, gamma=gamma, tc=tc, is_mss=True)\n",
    "trainer = Trainer(model, optimizer, loss_f, device=device)"
   ]
  },
  {
   "cell_type": "code",
   "execution_count": 104,
   "metadata": {},
   "outputs": [
    {
     "ename": "KeyboardInterrupt",
     "evalue": "",
     "output_type": "error",
     "traceback": [
      "\u001b[0;31m---------------------------------------------------------------------------\u001b[0m",
      "\u001b[0;31mKeyboardInterrupt\u001b[0m                         Traceback (most recent call last)",
      "\u001b[0;32m<ipython-input-104-ad03d49cf308>\u001b[0m in \u001b[0;36m<module>\u001b[0;34m\u001b[0m\n\u001b[0;32m----> 1\u001b[0;31m \u001b[0mtrainer\u001b[0m\u001b[0;34m(\u001b[0m\u001b[0mtrain_loader\u001b[0m\u001b[0;34m,\u001b[0m \u001b[0mtest_loader\u001b[0m\u001b[0;34m,\u001b[0m \u001b[0mepochs\u001b[0m\u001b[0;34m=\u001b[0m\u001b[0mnum_epochs\u001b[0m\u001b[0;34m)\u001b[0m\u001b[0;34m\u001b[0m\u001b[0;34m\u001b[0m\u001b[0m\n\u001b[0m",
      "\u001b[0;32m~/transformation-importance/ex_gaussian_mixture/training.py\u001b[0m in \u001b[0;36m__call__\u001b[0;34m(self, train_loader, test_loader, epochs)\u001b[0m\n\u001b[1;32m     42\u001b[0m         \"\"\"\n\u001b[1;32m     43\u001b[0m         \u001b[0;32mfor\u001b[0m \u001b[0mepoch\u001b[0m \u001b[0;32min\u001b[0m \u001b[0mrange\u001b[0m\u001b[0;34m(\u001b[0m\u001b[0mepochs\u001b[0m\u001b[0;34m)\u001b[0m\u001b[0;34m:\u001b[0m\u001b[0;34m\u001b[0m\u001b[0;34m\u001b[0m\u001b[0m\n\u001b[0;32m---> 44\u001b[0;31m             \u001b[0mmean_epoch_loss\u001b[0m \u001b[0;34m=\u001b[0m \u001b[0mself\u001b[0m\u001b[0;34m.\u001b[0m\u001b[0m_train_epoch\u001b[0m\u001b[0;34m(\u001b[0m\u001b[0mtrain_loader\u001b[0m\u001b[0;34m,\u001b[0m \u001b[0mepoch\u001b[0m\u001b[0;34m)\u001b[0m\u001b[0;34m\u001b[0m\u001b[0;34m\u001b[0m\u001b[0m\n\u001b[0m\u001b[1;32m     45\u001b[0m             \u001b[0mmean_epoch_test_loss\u001b[0m \u001b[0;34m=\u001b[0m \u001b[0mself\u001b[0m\u001b[0;34m.\u001b[0m\u001b[0m_test_epoch\u001b[0m\u001b[0;34m(\u001b[0m\u001b[0mtest_loader\u001b[0m\u001b[0;34m)\u001b[0m\u001b[0;34m\u001b[0m\u001b[0;34m\u001b[0m\u001b[0m\n\u001b[1;32m     46\u001b[0m             print('====> Epoch: {} Average train loss: {:.4f} (Test set loss: {:.4f})'.format(epoch, mean_epoch_loss, \n",
      "\u001b[0;32m~/transformation-importance/ex_gaussian_mixture/training.py\u001b[0m in \u001b[0;36m_train_epoch\u001b[0;34m(self, data_loader, epoch)\u001b[0m\n\u001b[1;32m     75\u001b[0m         \u001b[0mepoch_loss\u001b[0m \u001b[0;34m=\u001b[0m \u001b[0;36m0.\u001b[0m\u001b[0;34m\u001b[0m\u001b[0;34m\u001b[0m\u001b[0m\n\u001b[1;32m     76\u001b[0m         \u001b[0;32mfor\u001b[0m \u001b[0mbatch_idx\u001b[0m\u001b[0;34m,\u001b[0m \u001b[0mdata\u001b[0m \u001b[0;32min\u001b[0m \u001b[0menumerate\u001b[0m\u001b[0;34m(\u001b[0m\u001b[0mdata_loader\u001b[0m\u001b[0;34m)\u001b[0m\u001b[0;34m:\u001b[0m\u001b[0;34m\u001b[0m\u001b[0;34m\u001b[0m\u001b[0m\n\u001b[0;32m---> 77\u001b[0;31m             \u001b[0miter_loss\u001b[0m \u001b[0;34m=\u001b[0m \u001b[0mself\u001b[0m\u001b[0;34m.\u001b[0m\u001b[0m_train_iteration\u001b[0m\u001b[0;34m(\u001b[0m\u001b[0mdata\u001b[0m\u001b[0;34m,\u001b[0m \u001b[0mn_data\u001b[0m\u001b[0;34m)\u001b[0m\u001b[0;34m\u001b[0m\u001b[0;34m\u001b[0m\u001b[0m\n\u001b[0m\u001b[1;32m     78\u001b[0m             \u001b[0mepoch_loss\u001b[0m \u001b[0;34m+=\u001b[0m \u001b[0miter_loss\u001b[0m\u001b[0;34m\u001b[0m\u001b[0;34m\u001b[0m\u001b[0m\n\u001b[1;32m     79\u001b[0m \u001b[0;34m\u001b[0m\u001b[0m\n",
      "\u001b[0;32m~/transformation-importance/ex_gaussian_mixture/training.py\u001b[0m in \u001b[0;36m_train_iteration\u001b[0;34m(self, data, n_data)\u001b[0m\n\u001b[1;32m    100\u001b[0m \u001b[0;34m\u001b[0m\u001b[0m\n\u001b[1;32m    101\u001b[0m         \u001b[0mrecon_data\u001b[0m\u001b[0;34m,\u001b[0m \u001b[0mlatent_dist\u001b[0m\u001b[0;34m,\u001b[0m \u001b[0mlatent_sample\u001b[0m \u001b[0;34m=\u001b[0m \u001b[0mself\u001b[0m\u001b[0;34m.\u001b[0m\u001b[0mmodel\u001b[0m\u001b[0;34m(\u001b[0m\u001b[0mdata\u001b[0m\u001b[0;34m)\u001b[0m\u001b[0;34m\u001b[0m\u001b[0;34m\u001b[0m\u001b[0m\n\u001b[0;32m--> 102\u001b[0;31m         \u001b[0mloss\u001b[0m \u001b[0;34m=\u001b[0m \u001b[0mself\u001b[0m\u001b[0;34m.\u001b[0m\u001b[0mloss_f\u001b[0m\u001b[0;34m(\u001b[0m\u001b[0mdata\u001b[0m\u001b[0;34m,\u001b[0m \u001b[0mrecon_data\u001b[0m\u001b[0;34m,\u001b[0m \u001b[0mlatent_dist\u001b[0m\u001b[0;34m,\u001b[0m \u001b[0mlatent_sample\u001b[0m\u001b[0;34m,\u001b[0m \u001b[0mn_data\u001b[0m\u001b[0;34m)\u001b[0m\u001b[0;34m\u001b[0m\u001b[0;34m\u001b[0m\u001b[0m\n\u001b[0m\u001b[1;32m    103\u001b[0m \u001b[0;34m\u001b[0m\u001b[0m\n\u001b[1;32m    104\u001b[0m         \u001b[0mself\u001b[0m\u001b[0;34m.\u001b[0m\u001b[0moptimizer\u001b[0m\u001b[0;34m.\u001b[0m\u001b[0mzero_grad\u001b[0m\u001b[0;34m(\u001b[0m\u001b[0;34m)\u001b[0m\u001b[0;34m\u001b[0m\u001b[0;34m\u001b[0m\u001b[0m\n",
      "\u001b[0;31mKeyboardInterrupt\u001b[0m: "
     ]
    }
   ],
   "source": [
    "trainer(train_loader, test_loader, epochs=num_epochs)"
   ]
  },
  {
   "cell_type": "code",
   "execution_count": null,
   "metadata": {},
   "outputs": [],
   "source": [
    "rec_loss, kl_loss, mi_loss, tc_loss, dw_kl_loss, attr_loss = calc_losses(model, test_loader, loss_f)\n",
    "s.reconstruction_loss = rec_loss\n",
    "s.kl_normal_loss = kl_loss\n",
    "s.total_correlation = tc_loss\n",
    "s.mutual_information = mi_loss\n",
    "s.dimensionwise_kl_loss = dw_kl_loss\n",
    "s.attribution_loss = attr_loss\n",
    "s.disentanglement_metric = calc_disentangle_metric(model, test_loader).mean()\n",
    "s.net = model"
   ]
  },
  {
   "cell_type": "code",
   "execution_count": null,
   "metadata": {},
   "outputs": [],
   "source": [
    "plt.hist(calc_disentangle_metric(model, test_loader))"
   ]
  },
  {
   "cell_type": "code",
   "execution_count": null,
   "metadata": {},
   "outputs": [],
   "source": [
    "s.disentanglement_metric"
   ]
  },
  {
   "cell_type": "code",
   "execution_count": null,
   "metadata": {},
   "outputs": [],
   "source": [
    "# EVALUATE TEST DATA\n",
    "data = test_loader.dataset.data.to(device)\n",
    "recon_data, latent_dist, latent_sample = model(data)\n",
    "\n",
    "plot_2d_samples(latent_sample.detach().cpu())\n",
    "plt.title('Estimated latent variables')\n",
    "plt.show()"
   ]
  },
  {
   "cell_type": "code",
   "execution_count": null,
   "metadata": {},
   "outputs": [],
   "source": [
    "plot_2d_samples(data.detach().cpu()[:,:2])\n",
    "plot_2d_samples(recon_data.detach().cpu()[:,:2])\n",
    "plt.title('Original and reconstructed data after projection')\n",
    "plt.show()"
   ]
  },
  {
   "cell_type": "code",
   "execution_count": null,
   "metadata": {},
   "outputs": [],
   "source": [
    "ind = 5000\n",
    "plot_2d_samples(data.detach().cpu()[:,:2])\n",
    "plot_2d_samples(recon_data.detach().cpu()[:,:2])\n",
    "plt.title('Original and reconstructed data after projection')\n",
    "pt = data[ind:ind+1][:,:2]\n",
    "plt.annotate(\"x\", pt[0], size=15)\n",
    "plt.show()\n",
    "\n",
    "# GET TRAVERSAL\n",
    "decoded_traversal = traversals(model, data=data[ind:ind+1], n_latents=4)\n",
    "# PROJECTION to FIRST TWO COORDINATES\n",
    "decoded_traversal0 = decoded_traversal[:,:2]"
   ]
  },
  {
   "cell_type": "code",
   "execution_count": null,
   "metadata": {},
   "outputs": [],
   "source": [
    "plot_2d_samples(decoded_traversal0[:100])"
   ]
  },
  {
   "cell_type": "code",
   "execution_count": null,
   "metadata": {},
   "outputs": [],
   "source": [
    "plot_2d_samples(decoded_traversal0[100:200])"
   ]
  },
  {
   "cell_type": "code",
   "execution_count": null,
   "metadata": {},
   "outputs": [],
   "source": [
    "plot_2d_samples(decoded_traversal0[200:300])"
   ]
  },
  {
   "cell_type": "code",
   "execution_count": null,
   "metadata": {},
   "outputs": [],
   "source": [
    "plot_2d_samples(decoded_traversal0[300:400])"
   ]
  },
  {
   "cell_type": "code",
   "execution_count": null,
   "metadata": {},
   "outputs": [],
   "source": []
  },
  {
   "cell_type": "code",
   "execution_count": null,
   "metadata": {},
   "outputs": [],
   "source": []
  },
  {
   "cell_type": "code",
   "execution_count": null,
   "metadata": {},
   "outputs": [],
   "source": []
  }
 ],
 "metadata": {
  "kernelspec": {
   "display_name": "Environment (conda_pytorch_p36)",
   "language": "python",
   "name": "conda_pytorch_p36"
  },
  "language_info": {
   "codemirror_mode": {
    "name": "ipython",
    "version": 3
   },
   "file_extension": ".py",
   "mimetype": "text/x-python",
   "name": "python",
   "nbconvert_exporter": "python",
   "pygments_lexer": "ipython3",
   "version": "3.6.10"
  }
 },
 "nbformat": 4,
 "nbformat_minor": 4
}
