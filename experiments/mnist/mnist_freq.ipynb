{
 "cells": [
  {
   "cell_type": "code",
   "execution_count": 1,
   "metadata": {},
   "outputs": [],
   "source": [
    "%load_ext autoreload\n",
    "%autoreload 2\n",
    "%matplotlib inline\n",
    "import numpy as np\n",
    "import matplotlib.pyplot as plt\n",
    "import foolbox\n",
    "import torch\n",
    "import torch\n",
    "import random\n",
    "device = 'cuda' if torch.cuda.is_available() else 'cpu'\n",
    "from scipy.ndimage import gaussian_filter\n",
    "\n",
    "import sys\n",
    "# sys.path.append('../visualization')\n",
    "# sys.path.append('../acd/util')\n",
    "# sys.path.append('../acd/scores')\n",
    "# sys.path.append('../acd/agglomeration')\n",
    "from tqdm import tqdm\n",
    "# import viz_2d as viz\n",
    "# import cd\n",
    "# import score_funcs\n",
    "import acd\n",
    "import bandpass_filter\n",
    "plt.style.use('dark_background')"
   ]
  },
  {
   "cell_type": "markdown",
   "metadata": {},
   "source": [
    "# load the model and dset"
   ]
  },
  {
   "cell_type": "code",
   "execution_count": 2,
   "metadata": {},
   "outputs": [],
   "source": [
    "# load the dataset\n",
    "sys.path.append('../dsets/mnist')\n",
    "import dset\n",
    "from model import Net\n",
    "im_torch, im_orig, label = dset.get_im_and_label(251, device=device) # this will download the mnist dataset\n",
    "\n",
    "\n",
    "# load the model\n",
    "model = Net().to(device)\n",
    "model.load_state_dict(torch.load('../dsets/mnist/mnist.model', map_location=device))\n",
    "model = model.eval()"
   ]
  },
  {
   "cell_type": "markdown",
   "metadata": {},
   "source": [
    "# generate different amounts of blur"
   ]
  },
  {
   "cell_type": "code",
   "execution_count": 3,
   "metadata": {},
   "outputs": [],
   "source": [
    "import util \n",
    "t = util.Transforms()"
   ]
  },
  {
   "cell_type": "code",
   "execution_count": null,
   "metadata": {},
   "outputs": [],
   "source": [
    "t.sigma = 5e-1\n",
    "# t.sigma = 1e-9\n",
    "# transform = t.gaussian_filter\n",
    "# transform = t.bandpass_filter_approx\n",
    "transform = t.bandpass_filter\n",
    "util.visualize(im_orig, transform)"
   ]
  },
  {
   "cell_type": "markdown",
   "metadata": {},
   "source": [
    "# test response of scores / predictions"
   ]
  },
  {
   "cell_type": "markdown",
   "metadata": {},
   "source": [
    "**both pred and score monotonically decreases as we lose higher frequencies**"
   ]
  },
  {
   "cell_type": "code",
   "execution_count": null,
   "metadata": {},
   "outputs": [],
   "source": [
    "class_num = 4\n",
    "scores = []\n",
    "scores_cd = []\n",
    "sigmas = np.linspace(1e-1, 10, 20) #np.array([1, 1.5, 2, 2.5, 3.5, 5, 7.5])\n",
    "for sigma in sigmas:\n",
    "    t.sigma = sigma\n",
    "    pred = model(t.gaussian_filter(im_torch).to(device)).flatten()[class_num].item()\n",
    "    scores.append(pred)\n",
    "    \n",
    "    score_cd = acd.cd(im_torch, model, mask=None, model_type='mnist', \n",
    "                  device='cuda', transform=t.gaussian_filter)[0].flatten()[class_num].item()\n",
    "    scores_cd.append(score_cd)\n",
    "    \n",
    "# plot\n",
    "plt.figure(dpi=150, figsize=(12, 3))\n",
    "R, C = 1, 3\n",
    "plt.subplot(R, C, 1)\n",
    "plt.plot(sigmas, scores, 'o-')\n",
    "plt.xlabel('sigma for gaussian')\n",
    "plt.ylabel('prediction')\n",
    "\n",
    "plt.subplot(R, C, 2)\n",
    "plt.plot(sigmas, scores_cd, 'o-')\n",
    "plt.xlabel('sigma for gaussian')\n",
    "# plt.xscale('log')\n",
    "plt.ylabel('cd score')\n",
    "plt.tight_layout()\n",
    "plt.show()    "
   ]
  },
  {
   "cell_type": "markdown",
   "metadata": {},
   "source": [
    "**important freqs are around sigma=1**"
   ]
  },
  {
   "cell_type": "code",
   "execution_count": null,
   "metadata": {},
   "outputs": [],
   "source": [
    "# transform = t.bandpass_filter_approx\n",
    "transform = t.bandpass_filter\n",
    "class_num = 4\n",
    "scores = []\n",
    "sigmas = np.linspace(0.11, 0.89, 120)\n",
    "for sigma in tqdm(sigmas):\n",
    "    t.sigma = sigma\n",
    "    score = acd.cd(im_torch, model, mask=None, model_type='mnist', \n",
    "          device='cuda', transform=transform)[0].flatten()[class_num].item()\n",
    "    scores.append(score)\n",
    "    \n",
    "# plot\n",
    "plt.figure(dpi=150)\n",
    "plt.plot(sigmas, scores, 'o-')\n",
    "plt.xlabel('frequency band $\\pm 0.1$')\n",
    "# plt.xscale('log')\n",
    "plt.ylabel('cd score')\n",
    "plt.show()    "
   ]
  },
  {
   "cell_type": "code",
   "execution_count": null,
   "metadata": {},
   "outputs": [],
   "source": []
  }
 ],
 "metadata": {
  "anaconda-cloud": {},
  "kernelspec": {
   "display_name": "Python 3",
   "language": "python",
   "name": "python3"
  },
  "language_info": {
   "codemirror_mode": {
    "name": "ipython",
    "version": 3
   },
   "file_extension": ".py",
   "mimetype": "text/x-python",
   "name": "python",
   "nbconvert_exporter": "python",
   "pygments_lexer": "ipython3",
   "version": "3.7.5"
  }
 },
 "nbformat": 4,
 "nbformat_minor": 4
}
