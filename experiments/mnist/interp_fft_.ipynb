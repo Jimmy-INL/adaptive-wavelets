{
 "cells": [
  {
   "cell_type": "code",
   "execution_count": 19,
   "metadata": {},
   "outputs": [
    {
     "name": "stdout",
     "output_type": "stream",
     "text": [
      "The autoreload extension is already loaded. To reload it, use:\n",
      "  %reload_ext autoreload\n"
     ]
    }
   ],
   "source": [
    "%load_ext autoreload\n",
    "%autoreload 2\n",
    "%matplotlib inline\n",
    "import matplotlib.pyplot as plt\n",
    "import numpy as np\n",
    "import torch\n",
    "import random\n",
    "device = 'cuda' if torch.cuda.is_available() else 'cpu'\n",
    "import os, sys\n",
    "opj = os.path.join\n",
    "from tqdm import tqdm\n",
    "from functools import partial\n",
    "import acd\n",
    "from copy import deepcopy\n",
    "sys.path.append('..')\n",
    "from transforms_torch import transform_bandpass, tensor_t_augment, batch_fftshift2d, batch_ifftshift2d\n",
    "import transform_wrappers\n",
    "sys.path.append('../dsets/mnist')\n",
    "import dset\n",
    "from model import Net, Net2c\n",
    "from util import *\n",
    "from torch import nn\n",
    "from style import *\n",
    "from numpy.fft import *\n",
    "from captum.attr import *\n",
    "from knockout import *\n",
    "import warnings\n",
    "warnings.filterwarnings(\"ignore\")\n",
    "sys.path.append('../..')\n",
    "from acd_wooseok.acd.scores import cd, score_funcs, cd_propagate"
   ]
  },
  {
   "cell_type": "code",
   "execution_count": 20,
   "metadata": {},
   "outputs": [
    {
     "name": "stderr",
     "output_type": "stream",
     "text": [
      "10it [00:03,  2.59it/s]"
     ]
    },
    {
     "name": "stdout",
     "output_type": "stream",
     "text": [
      "\n",
      "Test set: Average loss: 0.0000, Accuracy: 20000/20000 (100%)\n"
     ]
    },
    {
     "name": "stderr",
     "output_type": "stream",
     "text": [
      "\n"
     ]
    }
   ],
   "source": [
    "# set args\n",
    "args = dset.get_args()\n",
    "\n",
    "# load mnist data\n",
    "train_loader, test_loader = dset.load_data(args.batch_size, args.test_batch_size, device)\n",
    "\n",
    "# freq band\n",
    "band_centers = np.linspace(0.15, 0.85, 20)\n",
    "band_center_idx = 7\n",
    "band_width = 0.05\n",
    "\n",
    "# test model\n",
    "model = Net2c().to(device)\n",
    "model.load_state_dict(torch.load(opj('models/freq','net2c_' + str(band_center_idx) + '.pth'), map_location=device))\n",
    "\n",
    "# test model\n",
    "transformer = lambda x: transform_bandpass(x, band_centers[band_center_idx], band_width)\n",
    "test_loss, correct = test_Net2c(test_loader, model, transformer)\n",
    "print('\\nTest set: Average loss: {:.4f}, Accuracy: {}/{} ({:.0f}%)'.format(\n",
    "    test_loss, correct, 2*len(test_loader.dataset),\n",
    "    100. * correct / (2*len(test_loader.dataset))))  "
   ]
  },
  {
   "cell_type": "markdown",
   "metadata": {},
   "source": [
    "# scores in fft space"
   ]
  },
  {
   "cell_type": "code",
   "execution_count": 21,
   "metadata": {},
   "outputs": [],
   "source": [
    "def get_attributions(x_t: torch.Tensor, mt, class_num=1, device='cuda'):\n",
    "    '''Returns all scores in a dict assuming mt works with both grads + CD\n",
    "\n",
    "    Params\n",
    "    ------\n",
    "    mt: model\n",
    "    class_num: target class\n",
    "    '''\n",
    "    x_t = x_t.to(device)\n",
    "    x_t.requires_grad = True\n",
    "    mt = mt.to(device)\n",
    "    mt.eval()\n",
    "\n",
    "    results = {}\n",
    "    attr_methods = ['IG', 'DeepLift', 'SHAP', 'CD', 'InputXGradient']\n",
    "    for name, func in zip(attr_methods,\n",
    "                          [IntegratedGradients, DeepLift, GradientShap, None, InputXGradient]):\n",
    "\n",
    "        if name == 'CD':\n",
    "            with torch.no_grad():\n",
    "                sweep_dim = 1\n",
    "                tiles = acd.tiling_2d.gen_tiles(x_t[0,0,...,0], fill=0, method='cd', sweep_dim=sweep_dim)\n",
    "                if x_t.shape[-1] == 2: # check for imaginary representations\n",
    "                    tiles = np.repeat(np.expand_dims(tiles, axis=-1), repeats=2, axis=3).squeeze()\n",
    "                tiles = torch.Tensor(tiles).unsqueeze(1)\n",
    "                attributions = acd.get_scores_2d(mt, method='cd', ims=tiles, im_torch=x_t)[..., class_num].T.reshape(-1,28,28)\n",
    "#                 attributions = score_funcs.get_scores_2d(mt, method='cd', ims=tiles, im_torch=x_t)[..., class_num].T.reshape(-1,28,28)\n",
    "        else:\n",
    "            baseline = torch.zeros(x_t.shape).to(device)\n",
    "            attributer = func(mt)\n",
    "            if name in ['InputXGradient']:\n",
    "                attributions = attributer.attribute(deepcopy(x_t), target=class_num)\n",
    "            else:\n",
    "                attributions = attributer.attribute(deepcopy(x_t), deepcopy(baseline), target=class_num)\n",
    "            attributions = attributions.cpu().detach().numpy().squeeze()\n",
    "            if x_t.shape[-1] == 2: # check for imaginary representations\n",
    "                attributions = mag(attributions)\n",
    "        results[name] = attributions\n",
    "    return results    "
   ]
  },
  {
   "cell_type": "code",
   "execution_count": 36,
   "metadata": {},
   "outputs": [],
   "source": [
    "# FFT\n",
    "t = lambda x: torch.fft(torch.stack((x, torch.zeros_like(x)),dim=4) , 2)\n",
    "transform_i = transform_wrappers.modularize(lambda x: torch.ifft(x, 2)[...,0])\n",
    "\n",
    "# test data\n",
    "x, _ = iter(test_loader).next()\n",
    "x = x.to(device)[0:10]\n",
    "x_t = t(x).to(device)\n",
    "\n",
    "m_t = transform_wrappers.Net_with_transform(model=model, transform=transform_i).to(device)\n",
    "m_t.eval()\n",
    "\n",
    "# get interp scores\n",
    "attr_methods = ['IG', 'DeepLift', 'SHAP', 'CD', 'InputXGradient']\n",
    "results = get_attributions(x_t, m_t, class_num=1)"
   ]
  },
  {
   "cell_type": "code",
   "execution_count": 37,
   "metadata": {},
   "outputs": [
    {
     "data": {
      "image/png": "[encoded data removed]",
      "text/plain": [
       "<Figure size 1600x500 with 5 Axes>"
      ]
     },
     "metadata": {},
     "output_type": "display_data"
    }
   ],
   "source": [
    "obs_idx = 1\n",
    "plt.figure(figsize=(16, 5),dpi=100)\n",
    "for i, name in enumerate(attr_methods):\n",
    "    interp_scores = fftshift(results[name][obs_idx])\n",
    "    plt.subplot(1, 5, i + 1)\n",
    "    plt.imshow(interp_scores, cmap='RdBu')\n",
    "    plt.title(name)\n",
    "    plt.axis('off')\n",
    "plt.tight_layout()\n",
    "plt.show()"
   ]
  },
  {
   "cell_type": "code",
   "execution_count": 38,
   "metadata": {},
   "outputs": [],
   "source": [
    "freq_arr = fftshift(fftfreq(n=28))\n",
    "freq_arr /= np.max(np.abs(freq_arr))\n",
    "mask_bandpass = torch.zeros(x_t.shape[2:4])\n",
    "\n",
    "for r in range(x_t.shape[2]):\n",
    "    for c in range(x_t.shape[3]):\n",
    "        dist = np.sqrt(freq_arr[r]**2 + freq_arr[c]**2)\n",
    "        if dist > band_center - band_width / 2 and dist < band_center + band_width / 2:\n",
    "            mask_bandpass[r, c] = 1"
   ]
  },
  {
   "cell_type": "code",
   "execution_count": 39,
   "metadata": {},
   "outputs": [
    {
     "data": {
      "image/png": "[encoded data removed]",
      "text/plain": [
       "<Figure size 432x288 with 1 Axes>"
      ]
     },
     "metadata": {},
     "output_type": "display_data"
    }
   ],
   "source": [
    "plt.imshow(mask_bandpass)\n",
    "plt.show()"
   ]
  },
  {
   "cell_type": "code",
   "execution_count": null,
   "metadata": {},
   "outputs": [],
   "source": []
  }
 ],
 "metadata": {
  "kernelspec": {
   "display_name": "Environment (conda_pytorch_p36)",
   "language": "python",
   "name": "conda_pytorch_p36"
  },
  "language_info": {
   "codemirror_mode": {
    "name": "ipython",
    "version": 3
   },
   "file_extension": ".py",
   "mimetype": "text/x-python",
   "name": "python",
   "nbconvert_exporter": "python",
   "pygments_lexer": "ipython3",
   "version": "3.6.7"
  }
 },
 "nbformat": 4,
 "nbformat_minor": 2
}
