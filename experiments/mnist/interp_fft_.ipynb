{
 "cells": [
  {
   "cell_type": "code",
   "execution_count": 1,
   "metadata": {},
   "outputs": [],
   "source": [
    "%load_ext autoreload\n",
    "%autoreload 2\n",
    "%matplotlib inline\n",
    "import matplotlib.pyplot as plt\n",
    "import numpy as np\n",
    "import torch\n",
    "import random\n",
    "device = 'cuda' if torch.cuda.is_available() else 'cpu'\n",
    "import os, sys\n",
    "opj = os.path.join\n",
    "from tqdm import tqdm\n",
    "from functools import partial\n",
    "import acd\n",
    "from copy import deepcopy\n",
    "sys.path.append('..')\n",
    "from transforms_torch import transform_bandpass, tensor_t_augment, batch_fftshift2d, batch_ifftshift2d\n",
    "import transform_wrappers\n",
    "sys.path.append('../dsets/mnist')\n",
    "import dset\n",
    "from model import Net, Net2c\n",
    "from util import *\n",
    "from torch import nn\n",
    "from style import *\n",
    "from captum.attr import *\n",
    "from knockout import *\n",
    "from attributions import *\n",
    "import warnings\n",
    "warnings.filterwarnings(\"ignore\")\n",
    "sys.path.append('../..')\n",
    "from acd_wooseok.acd.scores import cd, score_funcs, cd_propagate"
   ]
  },
  {
   "cell_type": "code",
   "execution_count": 2,
   "metadata": {},
   "outputs": [],
   "source": [
    "# set args\n",
    "args = dset.get_args()\n",
    "args.test_batch_size = 100\n",
    "\n",
    "# load mnist data\n",
    "train_loader, test_loader = dset.load_data(args.batch_size, args.test_batch_size, device)"
   ]
  },
  {
   "cell_type": "markdown",
   "metadata": {},
   "source": [
    "# scores in fft space"
   ]
  },
  {
   "cell_type": "code",
   "execution_count": 3,
   "metadata": {},
   "outputs": [],
   "source": [
    "# FFT\n",
    "t = lambda x: torch.fft(torch.stack((x, torch.zeros_like(x)),dim=4) , 2)\n",
    "transform_i = transform_wrappers.modularize(lambda x: torch.ifft(x, 2)[...,0])\n",
    "\n",
    "# get interp scores\n",
    "attr_methods = ['IG', 'DeepLift', 'SHAP', 'CD', 'InputXGradient']"
   ]
  },
  {
   "cell_type": "code",
   "execution_count": null,
   "metadata": {},
   "outputs": [
    {
     "name": "stdout",
     "output_type": "stream",
     "text": [
      "Iterations = 0 36"
     ]
    }
   ],
   "source": [
    "# freq band\n",
    "band_centers = np.linspace(0.15, 0.85, 10)\n",
    "band_width = 0.05\n",
    "\n",
    "# n_obs-by-num_centers\n",
    "scores_fft = {\n",
    "    'IG': [],\n",
    "    'DeepLift': [],\n",
    "    'SHAP': [],\n",
    "    'CD': [],\n",
    "    'InputXGradient': []\n",
    "}    \n",
    "\n",
    "for i, true_center in enumerate(band_centers):\n",
    "    # load model\n",
    "    model = Net2c().to(device)\n",
    "    model.load_state_dict(torch.load(opj('models/freq','net2c_' + str(i) + '.pth'), map_location=device))\n",
    "    \n",
    "    # model augment\n",
    "    m_t = transform_wrappers.Net_with_transform(model=model, transform=transform_i).to(device)\n",
    "    m_t.eval()    \n",
    "    \n",
    "    scores = {\n",
    "        'IG': [],\n",
    "        'DeepLift': [],\n",
    "        'SHAP': [],\n",
    "        'CD': [],\n",
    "        'InputXGradient': []\n",
    "    }    \n",
    "    \n",
    "    for j, (data, _) in enumerate(test_loader):\n",
    "        x = data.to(device)\n",
    "        x_t = t(x).to(device)  \n",
    "        results = get_attributions(x_t, m_t, class_num=1)    \n",
    "        print('\\rIterations =', i, j, end='')\n",
    "        for name in attr_methods:\n",
    "            scores[name].append(results[name])  \n",
    "        # save\n",
    "        pkl.dump(scores, open('results/scores_mnist.pkl','wb'))\n",
    "    # convert to np.array\n",
    "    for name in attr_methods:\n",
    "        scores[name] = np.vstack(scores[name])\n",
    "    \n",
    "    for k, band_center in enumerate(band_centers):\n",
    "        mask_bandpass = ifftshift(freq_band(n=28, band_center=band_center, band_width=band_width)) \n",
    "        for name in attr_methods:\n",
    "            scores_fft[name].append((scores[name] * mask_bandpass[np.newaxis,]).sum(axis=(1,2)))               \n",
    "    # save\n",
    "    pkl.dump(scores_fft, open('results/scores_fft_mnist.pkl','wb'))"
   ]
  },
  {
   "cell_type": "code",
   "execution_count": null,
   "metadata": {},
   "outputs": [],
   "source": [
    "# viz scores in fft space\n",
    "obs_idx = 0\n",
    "plt.figure(figsize=(16, 5),dpi=100)\n",
    "for i, name in enumerate(attr_methods):\n",
    "    interp_scores = fftshift(results[name][obs_idx])\n",
    "    plt.subplot(1, 5, i + 1)\n",
    "    plt.imshow(interp_scores, cmap='RdBu')\n",
    "    plt.title(name)\n",
    "    plt.axis('off')\n",
    "plt.tight_layout()\n",
    "plt.show()"
   ]
  },
  {
   "cell_type": "code",
   "execution_count": null,
   "metadata": {},
   "outputs": [],
   "source": []
  }
 ],
 "metadata": {
  "kernelspec": {
   "display_name": "Environment (conda_pytorch_p36)",
   "language": "python",
   "name": "conda_pytorch_p36"
  },
  "language_info": {
   "codemirror_mode": {
    "name": "ipython",
    "version": 3
   },
   "file_extension": ".py",
   "mimetype": "text/x-python",
   "name": "python",
   "nbconvert_exporter": "python",
   "pygments_lexer": "ipython3",
   "version": "3.6.7"
  }
 },
 "nbformat": 4,
 "nbformat_minor": 2
}
