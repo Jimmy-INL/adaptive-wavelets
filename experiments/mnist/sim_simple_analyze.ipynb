{
 "cells": [
  {
   "cell_type": "code",
   "execution_count": 480,
   "metadata": {},
   "outputs": [
    {
     "name": "stdout",
     "output_type": "stream",
     "text": [
      "The autoreload extension is already loaded. To reload it, use:\n",
      "  %reload_ext autoreload\n"
     ]
    }
   ],
   "source": [
    "%load_ext autoreload\n",
    "%autoreload 2\n",
    "%matplotlib inline\n",
    "import numpy as np\n",
    "import matplotlib.pyplot as plt\n",
    "import torch\n",
    "import random\n",
    "device = 'cuda' if torch.cuda.is_available() else 'cpu'\n",
    "from scipy.ndimage import gaussian_filter\n",
    "import sys\n",
    "from tqdm import tqdm\n",
    "from functools import partial\n",
    "import acd\n",
    "from copy import deepcopy\n",
    "sys.path.append('..')\n",
    "sys.path.append('../..')\n",
    "from os.path import join as oj\n",
    "from transforms_torch import bandpass_filter\n",
    "# plt.style.use('dark_background')\n",
    "sys.path.append('../../dsets/mnist')\n",
    "import dset\n",
    "from model import Net, Net2c\n",
    "from util import *\n",
    "from numpy.fft import *\n",
    "from torch import nn\n",
    "from random import randint\n",
    "from style import *\n",
    "from captum.attr import *\n",
    "import pickle as pkl\n",
    "from torchvision import datasets, transforms\n",
    "from sklearn.decomposition import NMF\n",
    "from transform_wrappers import *\n",
    "import visualize as viz\n",
    "from sklearn.neural_network import MLPClassifier\n",
    "from sklearn.model_selection import train_test_split\n",
    "from skorch import NeuralNetClassifier\n",
    "import pandas as pd\n",
    "from models import FNN\n",
    "import attributions\n",
    "device = 'cuda'"
   ]
  },
  {
   "cell_type": "code",
   "execution_count": 481,
   "metadata": {},
   "outputs": [
    {
     "data": {
      "text/plain": [
       "['n=50000_p=100_knockout=12pid=66257609305319508671.pkl']"
      ]
     },
     "execution_count": 481,
     "metadata": {},
     "output_type": "execute_result"
    }
   ],
   "source": [
    "out_dir = '/scratch/users/vision/data/cosmo/sim'\n",
    "os.listdir(out_dir)"
   ]
  },
  {
   "cell_type": "code",
   "execution_count": 482,
   "metadata": {},
   "outputs": [],
   "source": [
    "results = pkl.load(open(oj(out_dir, 'n=50000_p=100_knockout=12pid=66257609305319508671.pkl'), 'rb'))"
   ]
  },
  {
   "cell_type": "code",
   "execution_count": 486,
   "metadata": {},
   "outputs": [
    {
     "name": "stdout",
     "output_type": "stream",
     "text": [
      "[0.9985, 0.948, 0.924, 0.9225]\n"
     ]
    },
    {
     "data": {
      "image/png": "[encoded data removed]",
      "text/plain": [
       "<Figure size 432x288 with 1 Axes>"
      ]
     },
     "metadata": {
      "needs_background": "light"
     },
     "output_type": "display_data"
    }
   ],
   "source": [
    "r = results['results']\n",
    "accs = []\n",
    "ks = sorted(r.keys())\n",
    "for k in ks:\n",
    "#     print(k)\n",
    "    vals = np.vstack(r[k])\n",
    "#     print(vals.shape)\n",
    "    args = np.argmax(vals, axis=1)\n",
    "#     print(args)\n",
    "    num_correct = np.sum(args == idx_knockout)\n",
    "    accs.append(num_correct / vals.shape[0])\n",
    "plt.bar(ks, 1-np.array(accs))\n",
    "plt.ylabel('classification err')\n",
    "plt.show()"
   ]
  },
  {
   "cell_type": "code",
   "execution_count": 462,
   "metadata": {},
   "outputs": [
    {
     "name": "stdout",
     "output_type": "stream",
     "text": [
      "0.007021111023192843\n"
     ]
    }
   ],
   "source": [
    "prob = 0.948\n",
    "num = 1000\n",
    "print(np.sqrt(prob * (1-prob)) / np.sqrt(num))"
   ]
  },
  {
   "cell_type": "code",
   "execution_count": null,
   "metadata": {},
   "outputs": [],
   "source": [
    "# d = scores.size\n",
    "# idxs = np.zeros(d).astype(bool)\n",
    "# idxs[idx_zero - window: idx_zero + window + 1] = 1\n",
    "# plt.plot(np.arange(d)[idxs], scores[idxs], 'o')\n",
    "# plt.plot(np.arange(d)[~idxs], scores[~idxs], 'o')\n",
    "# plt.show()"
   ]
  }
 ],
 "metadata": {
  "kernelspec": {
   "display_name": "Python 3",
   "language": "python",
   "name": "python3"
  },
  "language_info": {
   "codemirror_mode": {
    "name": "ipython",
    "version": 3
   },
   "file_extension": ".py",
   "mimetype": "text/x-python",
   "name": "python",
   "nbconvert_exporter": "python",
   "pygments_lexer": "ipython3",
   "version": "3.7.5"
  }
 },
 "nbformat": 4,
 "nbformat_minor": 4
}
