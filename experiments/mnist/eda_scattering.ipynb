{
 "cells": [
  {
   "cell_type": "code",
   "execution_count": 371,
   "metadata": {},
   "outputs": [
    {
     "name": "stdout",
     "output_type": "stream",
     "text": [
      "The autoreload extension is already loaded. To reload it, use:\n",
      "  %reload_ext autoreload\n"
     ]
    }
   ],
   "source": [
    "%load_ext autoreload\n",
    "%autoreload 2\n",
    "%matplotlib inline\n",
    "import numpy as np\n",
    "import matplotlib.pyplot as plt\n",
    "import torch\n",
    "import torch.optim\n",
    "import torch.nn as nn\n",
    "import kymatio.datasets as scattering_datasets\n",
    "from torchvision import datasets, transforms\n",
    "import torch.nn.functional as F\n",
    "import random\n",
    "device = 'cuda' if torch.cuda.is_available() else 'cpu'\n",
    "from scipy.ndimage import gaussian_filter\n",
    "import os, sys\n",
    "opj = os.path.join\n",
    "from tqdm import tqdm\n",
    "from functools import partial\n",
    "import acd\n",
    "from copy import deepcopy\n",
    "sys.path.append('..')\n",
    "from transforms_torch import bandpass_filter\n",
    "sys.path.append('../../dsets/mnist')\n",
    "import dset\n",
    "from model import Net\n",
    "from util import *\n",
    "from numpy.fft import *\n",
    "from torch import nn\n",
    "from style import *\n",
    "import numpy as np\n",
    "import pywt\n",
    "from matplotlib import pyplot as plt\n",
    "from pywt._doc_utils import wavedec2_keys, draw_2d_wp_basis\n",
    "from model import Net, Net2c\n",
    "from kymatio import Scattering2D\n",
    "from kymatio.scattering2d.filter_bank import filter_bank\n",
    "from scipy.fftpack import fft2\n",
    "from colorsys import hls_to_rgb"
   ]
  },
  {
   "cell_type": "code",
   "execution_count": 411,
   "metadata": {},
   "outputs": [],
   "source": [
    "M = 256\n",
    "N = 256\n",
    "J = 3\n",
    "L = 8\n",
    "batch_size = 128\n",
    "scattering = Scattering2D(J, shape=(M, N), L=L, max_order=2)\n",
    "filters_set = filter_bank(M, N, J, L=L)"
   ]
  },
  {
   "cell_type": "code",
   "execution_count": 412,
   "metadata": {},
   "outputs": [],
   "source": [
    "# test image\n",
    "x = torch.randn(batch_size, 3, M, N, dtype=torch.float32)\n",
    "\n",
    "if device == 'cuda':\n",
    "    scattering.cuda()\n",
    "    x = x.cuda()\n",
    "    \n",
    "Sx = scattering.forward(x) "
   ]
  },
  {
   "cell_type": "code",
   "execution_count": 413,
   "metadata": {},
   "outputs": [
    {
     "data": {
      "text/plain": [
       "torch.Size([128, 3, 217, 32, 32])"
      ]
     },
     "execution_count": 413,
     "metadata": {},
     "output_type": "execute_result"
    }
   ],
   "source": [
    "Sx.shape"
   ]
  },
  {
   "cell_type": "code",
   "execution_count": 244,
   "metadata": {},
   "outputs": [],
   "source": [
    "def colorize(z):\n",
    "    n, m = z.shape\n",
    "    c = np.zeros((n, m, 3))\n",
    "    c[np.isinf(z)] = (1.0, 1.0, 1.0)\n",
    "    c[np.isnan(z)] = (0.5, 0.5, 0.5)\n",
    "\n",
    "    idx = ~(np.isinf(z) + np.isnan(z))\n",
    "    A = (np.angle(z[idx]) + np.pi) / (2*np.pi)\n",
    "    A = (A + 0.5) % 1.0\n",
    "    B = 1.0/(1.0 + abs(z[idx])**0.3)\n",
    "    c[idx] = [hls_to_rgb(a, b, 0.8) for a, b in zip(A, B)]\n",
    "    return c"
   ]
  },
  {
   "cell_type": "code",
   "execution_count": 323,
   "metadata": {},
   "outputs": [
    {
     "name": "stderr",
     "output_type": "stream",
     "text": [
      "/home/ubuntu/anaconda3/envs/pytorch_p36/lib/python3.6/site-packages/scipy/fftpack/basic.py:160: FutureWarning: Using a non-tuple sequence for multidimensional indexing is deprecated; use `arr[tuple(seq)]` instead of `arr[seq]`. In the future this will be interpreted as an array index, `arr[np.array(seq)]`, which will result either in an error or a different result.\n",
      "  z[index] = x\n"
     ]
    },
    {
     "data": {
      "image/png": "[encoded data removed]",
      "text/plain": [
       "<Figure size 432x432 with 24 Axes>"
      ]
     },
     "metadata": {},
     "output_type": "display_data"
    }
   ],
   "source": [
    "# bandpass filters\n",
    "fig, axs = plt.subplots(J, L, sharex=True, sharey=True)\n",
    "fig.set_figheight(6)\n",
    "fig.set_figwidth(6)\n",
    "plt.rc('text', usetex=True)\n",
    "plt.rc('font', family='serif')\n",
    "i = 0\n",
    "for filter in filters_set['psi']:\n",
    "    f = filter[0][..., 0]\n",
    "#     filter_c = torch.rfft(f, 2, onesided=False)\n",
    "    filter_c = fft2(f.numpy())\n",
    "    filter_c = np.fft.fftshift(filter_c)\n",
    "    axs[i // L, i % L].imshow(colorize(filter_c))\n",
    "    axs[i // L, i % L].axis('off')\n",
    "    axs[i // L, i % L].set_title(\n",
    "        \"$j = {}$ \\n $\\\\theta={}$\".format(i // L, i % L))\n",
    "    i = i+1\n",
    "\n",
    "fig.suptitle((r\"Wavelets for each scales $j$ and angles $\\theta$ used.\"\n",
    "              \"\\nColor saturation and color hue respectively denote complex \"\n",
    "              \"magnitude and complex phase.\"), fontsize=13)\n",
    "fig.show()"
   ]
  },
  {
   "cell_type": "code",
   "execution_count": 363,
   "metadata": {},
   "outputs": [
    {
     "name": "stderr",
     "output_type": "stream",
     "text": [
      "/home/ubuntu/anaconda3/envs/pytorch_p36/lib/python3.6/site-packages/scipy/fftpack/basic.py:160: FutureWarning: Using a non-tuple sequence for multidimensional indexing is deprecated; use `arr[tuple(seq)]` instead of `arr[seq]`. In the future this will be interpreted as an array index, `arr[np.array(seq)]`, which will result either in an error or a different result.\n",
      "  z[index] = x\n"
     ]
    },
    {
     "data": {
      "text/plain": [
       "<matplotlib.image.AxesImage at 0x7fbb4f41cac8>"
      ]
     },
     "execution_count": 363,
     "metadata": {},
     "output_type": "execute_result"
    },
    {
     "data": {
      "image/png": "[encoded data removed]",
      "text/plain": [
       "<Figure size 432x288 with 1 Axes>"
      ]
     },
     "metadata": {},
     "output_type": "display_data"
    }
   ],
   "source": [
    "f = filters_set['psi'][-2][0][..., 0]\n",
    "#     filter_c = torch.rfft(f, 2, onesided=False)\n",
    "filter_c = fft2(f.numpy())\n",
    "filter_c = np.fft.fftshift(filter_c)\n",
    "plt.imshow(colorize(filter_c))\n"
   ]
  },
  {
   "cell_type": "code",
   "execution_count": 288,
   "metadata": {},
   "outputs": [
    {
     "name": "stderr",
     "output_type": "stream",
     "text": [
      "/home/ubuntu/anaconda3/envs/pytorch_p36/lib/python3.6/site-packages/scipy/fftpack/basic.py:160: FutureWarning: Using a non-tuple sequence for multidimensional indexing is deprecated; use `arr[tuple(seq)]` instead of `arr[seq]`. In the future this will be interpreted as an array index, `arr[np.array(seq)]`, which will result either in an error or a different result.\n",
      "  z[index] = x\n"
     ]
    },
    {
     "data": {
      "image/png": "[encoded data removed]",
      "text/plain": [
       "<Figure size 432x288 with 1 Axes>"
      ]
     },
     "metadata": {},
     "output_type": "display_data"
    }
   ],
   "source": [
    "# low pass filter\n",
    "plt.figure()\n",
    "plt.rc('text', usetex=True)\n",
    "plt.rc('font', family='serif')\n",
    "plt.axis('off')\n",
    "plt.set_cmap('gray_r')\n",
    "\n",
    "f = filters_set['phi'][0][..., 0]\n",
    "\n",
    "filter_c = fft2(f.numpy())\n",
    "filter_c = np.fft.fftshift(filter_c)\n",
    "plt.suptitle((\"The corresponding low-pass filter, also known as scaling \"\n",
    "              \"function.\\nColor saturation and color hue respectively denote \"\n",
    "              \"complex magnitude and complex phase\"), fontsize=13)\n",
    "filter_c = np.abs(filter_c)\n",
    "plt.imshow(filter_c)\n",
    "\n",
    "plt.show()"
   ]
  },
  {
   "cell_type": "markdown",
   "metadata": {},
   "source": [
    "# Classification CNN"
   ]
  },
  {
   "cell_type": "code",
   "execution_count": 506,
   "metadata": {},
   "outputs": [],
   "source": [
    "class Scattering2dCNN(nn.Module):\n",
    "    '''\n",
    "        Simple CNN with 3x3 convs \n",
    "    '''\n",
    "    def __init__(self, in_channels, scattering):\n",
    "        super(Scattering2dCNN, self).__init__()\n",
    "        self.in_channels = in_channels\n",
    "        self.scattering = scattering\n",
    "        self.conv2 = nn.Conv2d(self.in_channels, 20, kernel_size=3, padding=1)\n",
    "        self.conv2_drop = nn.Dropout2d()\n",
    "        self.pool2 = nn.MaxPool2d(2)\n",
    "        self.relu2 = nn.ReLU()\n",
    "#         self.fc1 = nn.Linear(80, 50)\n",
    "        self.fc1 = nn.Linear(180, 50)\n",
    "        self.relu3 = nn.ReLU()\n",
    "        self.dropout = nn.Dropout()\n",
    "        self.fc2 = nn.Linear(50, 10)        \n",
    "\n",
    "    def forward(self, x):\n",
    "        x = scattering(x).view(-1, self.in_channels, 7, 7)\n",
    "        x = self.relu2(self.pool2(self.conv2_drop(self.conv2(x))))\n",
    "        x = x.view(x.size(0), -1)\n",
    "        x = self.relu3(self.fc1(x))\n",
    "        x = self.dropout(x)\n",
    "        x = self.fc2(x)        \n",
    "        return x\n",
    "\n",
    "\n",
    "def train(model, device, train_loader, optimizer, epoch):\n",
    "    model.train()\n",
    "    for batch_idx, (data, target) in enumerate(train_loader):\n",
    "        data, target = data.to(device), target.to(device)\n",
    "        optimizer.zero_grad()\n",
    "        output = model(data)\n",
    "        loss = F.cross_entropy(output, target)\n",
    "        loss.backward()\n",
    "        optimizer.step()\n",
    "        if batch_idx % 50 == 0:\n",
    "            print('\\rTrain Epoch: {} [{}/{} ({:.0f}%)]\\tLoss: {:.6f}'.format(\n",
    "                epoch, batch_idx * len(data), len(train_loader.dataset),\n",
    "                100. * batch_idx / len(train_loader), loss.item()), end='')\n",
    "\n",
    "def test(model, device, test_loader):\n",
    "    model.eval()\n",
    "    test_loss = 0\n",
    "    correct = 0\n",
    "    with torch.no_grad():\n",
    "        for data, target in test_loader:\n",
    "            data, target = data.to(device), target.to(device)\n",
    "            output = model(data)\n",
    "            test_loss += F.cross_entropy(output, target, reduction='sum').item() # sum up batch loss\n",
    "            pred = output.max(1, keepdim=True)[1] # get the index of the max log-probability\n",
    "            correct += pred.eq(target.view_as(pred)).sum().item()\n",
    "\n",
    "    test_loss /= len(test_loader.dataset)\n",
    "    print('\\nTest set: Average loss: {:.4f}, Accuracy: {}/{} ({:.2f}%)\\n'.format(\n",
    "        test_loss, correct, len(test_loader.dataset),\n",
    "        100. * correct / len(test_loader.dataset)))\n"
   ]
  },
  {
   "cell_type": "code",
   "execution_count": 507,
   "metadata": {},
   "outputs": [
    {
     "name": "stdout",
     "output_type": "stream",
     "text": [
      "\n",
      "Test set: Average loss: 0.0735, Accuracy: 9772/10000 (97.72%)\n",
      "\n"
     ]
    }
   ],
   "source": [
    "# scattering obj\n",
    "scattering = Scattering2D(J=2, shape=(28, 28), max_order=1)\n",
    "scattering.cuda()\n",
    "\n",
    "in_channels = 17\n",
    "model_sc = Scattering2dCNN(in_channels, scattering).to(device)\n",
    "# model_sc.load_state_dict(torch.load('./models/scattering/mnist.scattering.model'))\n",
    "# model_sc.eval()\n",
    "# test(model_sc, device, test_loader, scattering)\n",
    "\n",
    "# data_loader\n",
    "args = dset.get_args()\n",
    "args.cuda = not args.no_cuda and torch.cuda.is_available()\n",
    "train_loader, test_loader = dset.load_data(train_batch_size=64, test_batch_size=1000, device=device)\n",
    "\n",
    "# load the model\n",
    "model = Net().to(device)\n",
    "model.load_state_dict(torch.load('../../dsets/mnist/mnist.model', map_location=device))\n",
    "model = model.eval()\n",
    "dset.test(model, test_loader, args)"
   ]
  },
  {
   "cell_type": "code",
   "execution_count": 508,
   "metadata": {},
   "outputs": [
    {
     "name": "stdout",
     "output_type": "stream",
     "text": [
      "Train Epoch: 1 [57600/60000 (96%)]\tLoss: 1.441697\n",
      "Test set: Average loss: 1.0434, Accuracy: 7829/10000 (78.29%)\n",
      "\n",
      "Train Epoch: 2 [57600/60000 (96%)]\tLoss: 0.951974\n",
      "Test set: Average loss: 0.4055, Accuracy: 8992/10000 (89.92%)\n",
      "\n",
      "Train Epoch: 3 [57600/60000 (96%)]\tLoss: 0.588086\n",
      "Test set: Average loss: 0.2526, Accuracy: 9303/10000 (93.03%)\n",
      "\n",
      "Train Epoch: 4 [57600/60000 (96%)]\tLoss: 0.506993\n",
      "Test set: Average loss: 0.1946, Accuracy: 9436/10000 (94.36%)\n",
      "\n",
      "Train Epoch: 5 [57600/60000 (96%)]\tLoss: 0.511574\n",
      "Test set: Average loss: 0.1624, Accuracy: 9527/10000 (95.27%)\n",
      "\n",
      "Train Epoch: 6 [57600/60000 (96%)]\tLoss: 0.553941\n",
      "Test set: Average loss: 0.1395, Accuracy: 9573/10000 (95.73%)\n",
      "\n",
      "Train Epoch: 7 [57600/60000 (96%)]\tLoss: 0.494178\n",
      "Test set: Average loss: 0.1239, Accuracy: 9616/10000 (96.16%)\n",
      "\n",
      "Train Epoch: 8 [57600/60000 (96%)]\tLoss: 0.494505\n",
      "Test set: Average loss: 0.1138, Accuracy: 9636/10000 (96.36%)\n",
      "\n",
      "Train Epoch: 9 [57600/60000 (96%)]\tLoss: 0.397322\n",
      "Test set: Average loss: 0.1009, Accuracy: 9671/10000 (96.71%)\n",
      "\n",
      "Train Epoch: 10 [57600/60000 (96%)]\tLoss: 0.279390\n",
      "Test set: Average loss: 0.0938, Accuracy: 9699/10000 (96.99%)\n",
      "\n",
      "Train Epoch: 11 [57600/60000 (96%)]\tLoss: 0.267838\n",
      "Test set: Average loss: 0.0879, Accuracy: 9718/10000 (97.18%)\n",
      "\n",
      "Train Epoch: 12 [57600/60000 (96%)]\tLoss: 0.408213\n",
      "Test set: Average loss: 0.0849, Accuracy: 9728/10000 (97.28%)\n",
      "\n",
      "Train Epoch: 13 [57600/60000 (96%)]\tLoss: 0.477457\n",
      "Test set: Average loss: 0.0793, Accuracy: 9741/10000 (97.41%)\n",
      "\n",
      "Train Epoch: 14 [57600/60000 (96%)]\tLoss: 0.394385\n",
      "Test set: Average loss: 0.0772, Accuracy: 9753/10000 (97.53%)\n",
      "\n",
      "Train Epoch: 15 [57600/60000 (96%)]\tLoss: 0.340574\n",
      "Test set: Average loss: 0.0738, Accuracy: 9766/10000 (97.66%)\n",
      "\n",
      "Train Epoch: 16 [57600/60000 (96%)]\tLoss: 0.296815\n",
      "Test set: Average loss: 0.0718, Accuracy: 9768/10000 (97.68%)\n",
      "\n",
      "Train Epoch: 17 [57600/60000 (96%)]\tLoss: 0.341143\n",
      "Test set: Average loss: 0.0689, Accuracy: 9780/10000 (97.80%)\n",
      "\n",
      "Train Epoch: 18 [57600/60000 (96%)]\tLoss: 0.325253\n",
      "Test set: Average loss: 0.0683, Accuracy: 9771/10000 (97.71%)\n",
      "\n",
      "Train Epoch: 19 [57600/60000 (96%)]\tLoss: 0.227486\n",
      "Test set: Average loss: 0.0646, Accuracy: 9784/10000 (97.84%)\n",
      "\n",
      "Train Epoch: 20 [57600/60000 (96%)]\tLoss: 0.287836\n",
      "Test set: Average loss: 0.0637, Accuracy: 9791/10000 (97.91%)\n",
      "\n",
      "Train Epoch: 21 [57600/60000 (96%)]\tLoss: 0.445529\n",
      "Test set: Average loss: 0.0617, Accuracy: 9797/10000 (97.97%)\n",
      "\n",
      "Train Epoch: 22 [57600/60000 (96%)]\tLoss: 0.265793\n",
      "Test set: Average loss: 0.0619, Accuracy: 9793/10000 (97.93%)\n",
      "\n",
      "Train Epoch: 23 [57600/60000 (96%)]\tLoss: 0.260190\n",
      "Test set: Average loss: 0.0600, Accuracy: 9803/10000 (98.03%)\n",
      "\n",
      "Train Epoch: 24 [57600/60000 (96%)]\tLoss: 0.406243\n",
      "Test set: Average loss: 0.0584, Accuracy: 9804/10000 (98.04%)\n",
      "\n",
      "Train Epoch: 25 [57600/60000 (96%)]\tLoss: 0.271943\n",
      "Test set: Average loss: 0.0586, Accuracy: 9803/10000 (98.03%)\n",
      "\n",
      "Train Epoch: 26 [57600/60000 (96%)]\tLoss: 0.372789\n",
      "Test set: Average loss: 0.0578, Accuracy: 9813/10000 (98.13%)\n",
      "\n",
      "Train Epoch: 27 [57600/60000 (96%)]\tLoss: 0.309114\n",
      "Test set: Average loss: 0.0542, Accuracy: 9817/10000 (98.17%)\n",
      "\n",
      "Train Epoch: 28 [57600/60000 (96%)]\tLoss: 0.310418\n",
      "Test set: Average loss: 0.0536, Accuracy: 9813/10000 (98.13%)\n",
      "\n",
      "Train Epoch: 29 [57600/60000 (96%)]\tLoss: 0.319345\n",
      "Test set: Average loss: 0.0536, Accuracy: 9814/10000 (98.14%)\n",
      "\n",
      "Train Epoch: 30 [57600/60000 (96%)]\tLoss: 0.263233\n",
      "Test set: Average loss: 0.0527, Accuracy: 9809/10000 (98.09%)\n",
      "\n",
      "Train Epoch: 31 [57600/60000 (96%)]\tLoss: 0.189587\n",
      "Test set: Average loss: 0.0526, Accuracy: 9815/10000 (98.15%)\n",
      "\n",
      "Train Epoch: 32 [57600/60000 (96%)]\tLoss: 0.300598\n",
      "Test set: Average loss: 0.0505, Accuracy: 9825/10000 (98.25%)\n",
      "\n",
      "Train Epoch: 33 [57600/60000 (96%)]\tLoss: 0.228346\n",
      "Test set: Average loss: 0.0506, Accuracy: 9819/10000 (98.19%)\n",
      "\n",
      "Train Epoch: 34 [57600/60000 (96%)]\tLoss: 0.410362\n",
      "Test set: Average loss: 0.0505, Accuracy: 9833/10000 (98.33%)\n",
      "\n",
      "Train Epoch: 35 [57600/60000 (96%)]\tLoss: 0.177568\n",
      "Test set: Average loss: 0.0493, Accuracy: 9839/10000 (98.39%)\n",
      "\n",
      "Train Epoch: 36 [57600/60000 (96%)]\tLoss: 0.185470\n",
      "Test set: Average loss: 0.0485, Accuracy: 9835/10000 (98.35%)\n",
      "\n",
      "Train Epoch: 37 [57600/60000 (96%)]\tLoss: 0.187412\n",
      "Test set: Average loss: 0.0478, Accuracy: 9835/10000 (98.35%)\n",
      "\n",
      "Train Epoch: 38 [57600/60000 (96%)]\tLoss: 0.182839\n",
      "Test set: Average loss: 0.0478, Accuracy: 9840/10000 (98.40%)\n",
      "\n",
      "Train Epoch: 39 [57600/60000 (96%)]\tLoss: 0.146744\n",
      "Test set: Average loss: 0.0482, Accuracy: 9851/10000 (98.51%)\n",
      "\n",
      "Train Epoch: 40 [57600/60000 (96%)]\tLoss: 0.254925\n",
      "Test set: Average loss: 0.0466, Accuracy: 9849/10000 (98.49%)\n",
      "\n",
      "Train Epoch: 41 [57600/60000 (96%)]\tLoss: 0.179430\n",
      "Test set: Average loss: 0.0461, Accuracy: 9847/10000 (98.47%)\n",
      "\n",
      "Train Epoch: 42 [57600/60000 (96%)]\tLoss: 0.197016\n",
      "Test set: Average loss: 0.0453, Accuracy: 9847/10000 (98.47%)\n",
      "\n",
      "Train Epoch: 43 [57600/60000 (96%)]\tLoss: 0.103784\n",
      "Test set: Average loss: 0.0454, Accuracy: 9851/10000 (98.51%)\n",
      "\n",
      "Train Epoch: 44 [57600/60000 (96%)]\tLoss: 0.170218\n",
      "Test set: Average loss: 0.0449, Accuracy: 9859/10000 (98.59%)\n",
      "\n",
      "Train Epoch: 45 [57600/60000 (96%)]\tLoss: 0.316385\n",
      "Test set: Average loss: 0.0439, Accuracy: 9858/10000 (98.58%)\n",
      "\n",
      "Train Epoch: 46 [57600/60000 (96%)]\tLoss: 0.157746\n",
      "Test set: Average loss: 0.0426, Accuracy: 9853/10000 (98.53%)\n",
      "\n",
      "Train Epoch: 47 [57600/60000 (96%)]\tLoss: 0.250194\n",
      "Test set: Average loss: 0.0438, Accuracy: 9849/10000 (98.49%)\n",
      "\n",
      "Train Epoch: 48 [57600/60000 (96%)]\tLoss: 0.134476\n",
      "Test set: Average loss: 0.0428, Accuracy: 9858/10000 (98.58%)\n",
      "\n",
      "Train Epoch: 49 [57600/60000 (96%)]\tLoss: 0.213758\n",
      "Test set: Average loss: 0.0423, Accuracy: 9868/10000 (98.68%)\n",
      "\n",
      "Train Epoch: 50 [57600/60000 (96%)]\tLoss: 0.208801\n",
      "Test set: Average loss: 0.0431, Accuracy: 9868/10000 (98.68%)\n",
      "\n"
     ]
    }
   ],
   "source": [
    "# Optimizer\n",
    "lr = 0.01\n",
    "for epoch in range(0, 50):\n",
    "    optimizer = torch.optim.SGD(model_sc.parameters(), lr=lr, momentum=0.5)\n",
    "    train(model_sc, device, train_loader, optimizer, epoch+1)\n",
    "    test(model_sc, device, test_loader)\n",
    "torch.save(model_sc.state_dict(), './models/scattering/mnist.scattering.model')"
   ]
  },
  {
   "cell_type": "code",
   "execution_count": null,
   "metadata": {},
   "outputs": [],
   "source": []
  }
 ],
 "metadata": {
  "kernelspec": {
   "display_name": "Environment (conda_pytorch_p36)",
   "language": "python",
   "name": "conda_pytorch_p36"
  },
  "language_info": {
   "codemirror_mode": {
    "name": "ipython",
    "version": 3
   },
   "file_extension": ".py",
   "mimetype": "text/x-python",
   "name": "python",
   "nbconvert_exporter": "python",
   "pygments_lexer": "ipython3",
   "version": "3.6.5"
  }
 },
 "nbformat": 4,
 "nbformat_minor": 2
}
