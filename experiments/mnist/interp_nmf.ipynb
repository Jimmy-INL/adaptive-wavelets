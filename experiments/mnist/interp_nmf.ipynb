{
 "cells": [
  {
   "cell_type": "code",
   "execution_count": 1,
   "metadata": {},
   "outputs": [],
   "source": [
    "%load_ext autoreload\n",
    "%autoreload 2\n",
    "%matplotlib inline\n",
    "import numpy as np\n",
    "import matplotlib.pyplot as plt\n",
    "import torch\n",
    "import random\n",
    "device = 'cuda' if torch.cuda.is_available() else 'cpu'\n",
    "from scipy.ndimage import gaussian_filter\n",
    "import sys\n",
    "from tqdm import tqdm\n",
    "from functools import partial\n",
    "import acd\n",
    "from copy import deepcopy\n",
    "sys.path.append('..')\n",
    "from transforms_torch import bandpass_filter\n",
    "plt.style.use('dark_background')\n",
    "sys.path.append('../../dsets/mnist')\n",
    "import dset\n",
    "from model import Net, Net2c\n",
    "from util import *\n",
    "from numpy.fft import *\n",
    "from torch import nn\n",
    "from style import *\n",
    "from captum.attr import (\n",
    "    GradientShap,\n",
    "    DeepLift,\n",
    "    DeepLiftShap,\n",
    "    IntegratedGradients,\n",
    "    LayerConductance,\n",
    "    NeuronConductance,\n",
    "    NoiseTunnel,\n",
    ")\n",
    "from scipy.special import softmax\n",
    "import pickle as pkl\n",
    "from torchvision import datasets, transforms\n",
    "from sklearn.decomposition import NMF\n",
    "import transform_wrappers\n",
    "import visualize as viz"
   ]
  },
  {
   "cell_type": "code",
   "execution_count": 7,
   "metadata": {},
   "outputs": [],
   "source": [
    "im_torch, im_orig, label = dset.get_im_and_label(251, device=device) # this will download the mnist dataset\n",
    "model = Net().to(device)\n",
    "im_torch = im_torch.to(device)\n",
    "model.load_state_dict(torch.load('../../dsets/mnist/mnist.model', map_location=device))\n",
    "model = model.eval().to(device)\n",
    "\n",
    "# get data\n",
    "mnist = datasets.MNIST('mnist/data', train=True, download=True)\n",
    "X = mnist.data.numpy().astype(np.float32)\n",
    "X = X.reshape(X.shape[0], -1)\n",
    "mnist_t = datasets.MNIST('mnist/data', train=False, download=True)\n",
    "X_test = mnist_t.data.numpy().astype(np.float32)\n",
    "X_test = X_test.reshape(X_test.shape[0], -1)\n",
    "Y_test = mnist_t.targets.numpy()"
   ]
  },
  {
   "cell_type": "markdown",
   "metadata": {},
   "source": [
    "# fit/load nmf"
   ]
  },
  {
   "cell_type": "code",
   "execution_count": 4,
   "metadata": {},
   "outputs": [],
   "source": [
    "nmf = NMF(n_components=30, random_state=42)\n",
    "# nmf.fit(X)\n",
    "# pkl.dump(nmf, open('nmf_30.pkl', 'wb'))\n",
    "nmf = pkl.load(open('nmf_30.pkl', 'rb'))"
   ]
  },
  {
   "cell_type": "code",
   "execution_count": null,
   "metadata": {},
   "outputs": [],
   "source": [
    "# D = nmf.components_.reshape(-1, 28, 28)\n",
    "# print('D.shape', D.shape)\n",
    "# viz.viz_basis(D, save=True)"
   ]
  },
  {
   "cell_type": "code",
   "execution_count": 6,
   "metadata": {},
   "outputs": [],
   "source": [
    "# # calc err\n",
    "# X_t = nmf.transform(X) # (n, num_bases)\n",
    "D = nmf.components_ # (num_bases, input_size)\n",
    "# X_ = X_t @ D.astype(np.float32) # inverse transform\n",
    "# print('err', np.mean(np.square(X_ - X)) / np.mean(np.square(X)))"
   ]
  },
  {
   "cell_type": "markdown",
   "metadata": {},
   "source": [
    "# load model with transform"
   ]
  },
  {
   "cell_type": "code",
   "execution_count": 7,
   "metadata": {},
   "outputs": [],
   "source": [
    "transform = transform_wrappers.lay_from_w(D)\n",
    "norm = transform_wrappers.NormLayer(mu=0.1307, std=0.3081)\n",
    "reshape = transform_wrappers.ReshapeLayer(shape=(1, 28, 28))\n",
    "net = transform_wrappers.Net_with_transform(model, \n",
    "                                            transform=transform, \n",
    "                                            norm=norm, \n",
    "                                            reshape=reshape,\n",
    "                                            use_logits=True).to(device)\n",
    "# print(list(net.modules()))"
   ]
  },
  {
   "cell_type": "markdown",
   "metadata": {},
   "source": [
    "# score and visualize nmf components"
   ]
  },
  {
   "cell_type": "code",
   "execution_count": null,
   "metadata": {},
   "outputs": [],
   "source": [
    "def calc_scores(nmf, X, net):\n",
    "    results = {\n",
    "        'scores': [],\n",
    "        'logits': [],\n",
    "        'class_pred': []\n",
    "    }\n",
    "    for i in tqdm(range(10000)): # 10000 pts total\n",
    "        x = X[i: i + 1]\n",
    "        x_t = nmf.transform(x)\n",
    "        x_t_tensor = torch.Tensor(x_t).to(device)\n",
    "\n",
    "        pred = net(deepcopy(x_t_tensor)).cpu().detach().numpy()\n",
    "        results['logits'].append(deepcopy(pred))\n",
    "        results['class_pred'].append(np.argmax(pred))\n",
    "        # x.requires_grad = False\n",
    "        sweep_dim = 1\n",
    "        tiles = acd.tiling_2d.gen_tiles(x_t, fill=0, method='cd', sweep_dim=sweep_dim)\n",
    "        cd_scores_im = acd.get_scores_2d(net, method='cd', ims=tiles, im_torch=x_t_tensor, device='cuda')\n",
    "        results['scores'].append(deepcopy(cd_scores_im))\n",
    "\n",
    "        if i == 100 or i % 1000 == 0:\n",
    "            # \n",
    "            pkl.dump(results, open(f'nmf_scores_{i}.pkl', 'wb'))\n",
    "# calc_scores(nmf, X, net)"
   ]
  },
  {
   "cell_type": "code",
   "execution_count": 8,
   "metadata": {},
   "outputs": [],
   "source": [
    "# plot scores across bases\n",
    "results = pkl.load(open(f'nmf_scores_{1000}.pkl', 'rb'))\n",
    "# viz.plot_scores_across_bases(results)"
   ]
  },
  {
   "cell_type": "code",
   "execution_count": 9,
   "metadata": {},
   "outputs": [
    {
     "data": {
      "text/plain": [
       "\"\\nfor i in range(10):\\n    print(f'{i} {np.mean(scores_all[:, basis_num, i]):0.3f}')\\n    plt.hist(scores_all[:, basis_num, i], label=i, alpha=0.5)\\n#     plt.xscale('log')\\nplt.legend()\\nplt.show()\\n\""
      ]
     },
     "execution_count": 9,
     "metadata": {},
     "output_type": "execute_result"
    }
   ],
   "source": [
    "scores_all = np.array(results['scores']) # (num points, 1, num_classes)\n",
    "preds_all = np.array(results['logits']) # (num points, num_bases, num_classes)\n",
    "# scores_all = softmax(scores_all, axis=-1)\n",
    "titles = []\n",
    "scores_all = np.mean(scores_all, axis=0)\n",
    "titles = np.argmax(scores_all, axis=-1)\n",
    "'''\n",
    "for i in range(10):\n",
    "    print(f'{i} {np.mean(scores_all[:, basis_num, i]):0.3f}')\n",
    "    plt.hist(scores_all[:, basis_num, i], label=i, alpha=0.5)\n",
    "#     plt.xscale('log')\n",
    "plt.legend()\n",
    "plt.show()\n",
    "'''"
   ]
  },
  {
   "cell_type": "code",
   "execution_count": null,
   "metadata": {},
   "outputs": [],
   "source": [
    "D = nmf.components_.reshape(-1, 28, 28)\n",
    "print('D.shape', D.shape)\n",
    "viz.viz_basis(D, save=True, titles=titles)"
   ]
  },
  {
   "cell_type": "markdown",
   "metadata": {},
   "source": [
    "# acd viz"
   ]
  },
  {
   "cell_type": "code",
   "execution_count": null,
   "metadata": {},
   "outputs": [],
   "source": []
  }
 ],
 "metadata": {
  "anaconda-cloud": {},
  "kernelspec": {
   "display_name": "Python 3",
   "language": "python",
   "name": "python3"
  },
  "language_info": {
   "codemirror_mode": {
    "name": "ipython",
    "version": 3
   },
   "file_extension": ".py",
   "mimetype": "text/x-python",
   "name": "python",
   "nbconvert_exporter": "python",
   "pygments_lexer": "ipython3",
   "version": "3.7.5"
  }
 },
 "nbformat": 4,
 "nbformat_minor": 4
}
