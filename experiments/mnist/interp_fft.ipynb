{
 "cells": [
  {
   "cell_type": "code",
   "execution_count": 1,
   "metadata": {},
   "outputs": [
    {
     "ename": "ModuleNotFoundError",
     "evalue": "No module named 'torch'",
     "output_type": "error",
     "traceback": [
      "\u001b[0;31m---------------------------------------------------------------------------\u001b[0m",
      "\u001b[0;31mModuleNotFoundError\u001b[0m                       Traceback (most recent call last)",
      "\u001b[0;32m<ipython-input-1-6553b8070595>\u001b[0m in \u001b[0;36m<module>\u001b[0;34m()\u001b[0m\n\u001b[1;32m      4\u001b[0m \u001b[0;32mimport\u001b[0m \u001b[0mnumpy\u001b[0m \u001b[0;32mas\u001b[0m \u001b[0mnp\u001b[0m\u001b[0;34m\u001b[0m\u001b[0m\n\u001b[1;32m      5\u001b[0m \u001b[0;32mimport\u001b[0m \u001b[0mmatplotlib\u001b[0m\u001b[0;34m.\u001b[0m\u001b[0mpyplot\u001b[0m \u001b[0;32mas\u001b[0m \u001b[0mplt\u001b[0m\u001b[0;34m\u001b[0m\u001b[0m\n\u001b[0;32m----> 6\u001b[0;31m \u001b[0;32mimport\u001b[0m \u001b[0mtorch\u001b[0m\u001b[0;34m\u001b[0m\u001b[0m\n\u001b[0m\u001b[1;32m      7\u001b[0m \u001b[0;32mimport\u001b[0m \u001b[0mrandom\u001b[0m\u001b[0;34m\u001b[0m\u001b[0m\n\u001b[1;32m      8\u001b[0m \u001b[0mdevice\u001b[0m \u001b[0;34m=\u001b[0m \u001b[0;34m'cuda'\u001b[0m \u001b[0;32mif\u001b[0m \u001b[0mtorch\u001b[0m\u001b[0;34m.\u001b[0m\u001b[0mcuda\u001b[0m\u001b[0;34m.\u001b[0m\u001b[0mis_available\u001b[0m\u001b[0;34m(\u001b[0m\u001b[0;34m)\u001b[0m \u001b[0;32melse\u001b[0m \u001b[0;34m'cpu'\u001b[0m\u001b[0;34m\u001b[0m\u001b[0m\n",
      "\u001b[0;31mModuleNotFoundError\u001b[0m: No module named 'torch'"
     ]
    }
   ],
   "source": [
    "%load_ext autoreload\n",
    "%autoreload 2\n",
    "%matplotlib inline\n",
    "import numpy as np\n",
    "import matplotlib.pyplot as plt\n",
    "import torch\n",
    "import random\n",
    "device = 'cuda' if torch.cuda.is_available() else 'cpu'\n",
    "from scipy.ndimage import gaussian_filter\n",
    "import sys\n",
    "from tqdm import tqdm\n",
    "from functools import partial\n",
    "import acd\n",
    "from copy import deepcopy\n",
    "sys.path.append('..')\n",
    "from transforms_torch import bandpass_filter\n",
    "plt.style.use('dark_background')\n",
    "sys.path.append('../../dsets/mnist')\n",
    "import dset\n",
    "from model import Net\n",
    "from util import *\n",
    "from numpy.fft import *\n",
    "from torch import nn\n",
    "from style import *\n",
    "from captum.attr import (\n",
    "    GradientShap,\n",
    "    DeepLift,\n",
    "    DeepLiftShap,\n",
    "    IntegratedGradients,\n",
    "    LayerConductance,\n",
    "    NeuronConductance,\n",
    "    NoiseTunnel,\n",
    ")\n",
    "import pickle as pkl\n",
    "from torchvision import datasets, transforms\n",
    "from sklearn.decomposition import NMF"
   ]
  },
  {
   "cell_type": "markdown",
   "metadata": {},
   "source": [
    "# scores in fft space"
   ]
  },
  {
   "cell_type": "code",
   "execution_count": null,
   "metadata": {},
   "outputs": [],
   "source": [
    "im_torch, im_orig, label = dset.get_im_and_label(251, device=device) # this will download the mnist dataset\n",
    "model = Net().to(device)\n",
    "im_torch = im_torch.to(device)\n",
    "model.load_state_dict(torch.load('../../dsets/mnist/mnist.model', map_location=device))\n",
    "model = model.eval().to(device)\n",
    "\n",
    "class Net_with_transform(nn.Module):\n",
    "    def __init__(self, model):\n",
    "        super(Net_with_transform, self).__init__()\n",
    "        self.model = model\n",
    "\n",
    "    def forward(self, x):\n",
    "        '''\n",
    "        Params\n",
    "        ------\n",
    "        x: torch.Tensor\n",
    "            (batch_size, H, W, 2), where 2 contains the real then imaginary part\n",
    "        '''\n",
    "#         print('forwarding', x.shape)\n",
    "        x = torch.ifft(x, signal_ndim=2)\n",
    "#         print('post ifft', x.shape)\n",
    "        x = x[..., 0]\n",
    "        if x.ndim < 4:\n",
    "            x = x.unsqueeze(1)\n",
    "#         print('pre-model', x.shape)\n",
    "        x = self.model(x)\n",
    "        return x\n",
    "model_t = Net_with_transform(model).to(device)"
   ]
  },
  {
   "cell_type": "code",
   "execution_count": 3,
   "metadata": {},
   "outputs": [],
   "source": [
    "# plt.imshow(im_orig)\n",
    "# plt.show()\n",
    "\n",
    "# could just use torch.rfft\n",
    "im_new = torch.zeros(list(im_orig.shape) + [2]) # add imag dim\n",
    "im_new[:, :, 0] = torch.Tensor(im_orig)\n",
    "im_f = torch.fft(im_new, signal_ndim=2)\n",
    "\n",
    "# im = torch.ifft(im_f, signal_ndim=2)    \n",
    "# print('im_f.shape', im_f.shape, 'im.shape', im.shape)\n",
    "# im_f = torch.fft\n",
    "# im_f = fft2(im_orig)\n",
    "# plt.imshow(fftshift(np.abs(im_f)))\n",
    "# plt.show()\n",
    "\n",
    "# this only works with cpu\n",
    "device_captum = 'cpu'\n",
    "x = im_f.unsqueeze(0).to(device_captum)\n",
    "x.requires_grad = True\n",
    "class_num = 1\n",
    "\n",
    "baseline = torch.zeros(x.shape).to(device_captum)\n",
    "ig = IntegratedGradients(model_t.to(device_captum))\n",
    "attributions_ig, delta_ig = ig.attribute(deepcopy(x), deepcopy(baseline),\n",
    "                                         target=class_num, return_convergence_delta=True)\n",
    "attributions_ig = to_freq(attributions_ig)\n",
    "dl = DeepLift(model_t.to(device_captum))\n",
    "attributions_dl, delta_dl = dl.attribute(x, baseline, \n",
    "                                         target=class_num, return_convergence_delta=True)\n",
    "attributions_dl = to_freq(attributions_dl)\n"
   ]
  },
  {
   "cell_type": "code",
   "execution_count": 80,
   "metadata": {},
   "outputs": [
    {
     "name": "stderr",
     "output_type": "stream",
     "text": [
      "100%|██████████| 784/784 [00:08<00:00, 90.45it/s]\n"
     ]
    },
    {
     "data": {
      "text/plain": [
       "'\\nim_t = transform(im_torch)\\nim_t = im_t.cpu().squeeze().numpy()\\nplt.imshow(im_t)\\n'"
      ]
     },
     "execution_count": 80,
     "metadata": {},
     "output_type": "execute_result"
    }
   ],
   "source": [
    "x.requires_grad = False\n",
    "sweep_dim = 1\n",
    "tiles = acd.tiling_2d.gen_tiles(im_orig, fill=0, method='cd', sweep_dim=sweep_dim)\n",
    "scores_cd = np.zeros((tiles.shape[0], 10))\n",
    "for i in tqdm(range(tiles.shape[0])):\n",
    "    transform = partial(bandpass_filter, mask=tiles[i])\n",
    "    score = acd.cd(im_torch, model, mask=None, model_type='mnist', device='cuda', \n",
    "                   transform=transform)[0].flatten().detach().cpu().numpy()\n",
    "    scores_cd[i] = score\n",
    "'''\n",
    "im_t = transform(im_torch)\n",
    "im_t = im_t.cpu().squeeze().numpy()\n",
    "plt.imshow(im_t)\n",
    "'''"
   ]
  },
  {
   "cell_type": "code",
   "execution_count": null,
   "metadata": {},
   "outputs": [],
   "source": [
    "def signshow(x):\n",
    "    max_abs = np.max(np.abs(x))\n",
    "    plt.imshow(x, cmap=cm, vmin=-max_abs, vmax=max_abs)\n",
    "    plt.colorbar()\n",
    "\n",
    "R, C, = 2, 3\n",
    "plt.figure(dpi=150)\n",
    "plt.subplot(R, C, 1)\n",
    "plt.imshow(im_orig, cmap='gray')\n",
    "plt.title('Original image')\n",
    "plt.axis('off')\n",
    "\n",
    "plt.subplot(R, C, 2)\n",
    "plt.imshow(fftshift(mag(im_f)))\n",
    "plt.title('Original FFT')\n",
    "plt.axis('off')\n",
    "\n",
    "plt.subplot(R, C, C + 1)\n",
    "signshow(attributions_ig)\n",
    "plt.title('IG')\n",
    "plt.axis('off')\n",
    "\n",
    "plt.subplot(R, C, C + 2)\n",
    "signshow(attributions_dl)\n",
    "plt.title('DeepLift')\n",
    "plt.axis('off')\n",
    "\n",
    "plt.subplot(R, C, C + 3)\n",
    "signshow(scores_cd[:, class_num].reshape(28, 28))\n",
    "plt.title('CD')\n",
    "plt.axis('off')\n",
    "\n",
    "plt.tight_layout()\n",
    "plt.show()"
   ]
  },
  {
   "cell_type": "markdown",
   "metadata": {},
   "source": [
    "**scores in the image domain**"
   ]
  },
  {
   "cell_type": "code",
   "execution_count": 82,
   "metadata": {},
   "outputs": [
    {
     "name": "stderr",
     "output_type": "stream",
     "text": [
      "100%|██████████| 784/784 [00:08<00:00, 91.98it/s]\n"
     ]
    }
   ],
   "source": [
    "x.requires_grad = False\n",
    "sweep_dim = 1\n",
    "tiles = acd.tiling_2d.gen_tiles(im_orig, fill=0, method='cd', sweep_dim=sweep_dim)\n",
    "cd_scores_im = acd.get_scores_2d(model, method='cd', ims=tiles, im_torch=im_torch)"
   ]
  },
  {
   "cell_type": "markdown",
   "metadata": {},
   "source": [
    "# cd score without transform"
   ]
  },
  {
   "cell_type": "code",
   "execution_count": null,
   "metadata": {},
   "outputs": [],
   "source": [
    "class_num = 1\n",
    "scores = []\n",
    "band_centers = np.linspace(0.11, 0.89, 120)\n",
    "for band_center in tqdm(band_centers):\n",
    "    score = acd.cd(im_torch, model, mask=None, model_type='mnist', device='cuda', \n",
    "                   transform=partial(bandpass_filter, band_center=band_center))[0].flatten()[class_num].item()\n",
    "    scores.append(score)\n",
    "    \n",
    "# plot\n",
    "plt.figure(dpi=150)\n",
    "plt.plot(band_centers, scores, 'o-')\n",
    "plt.xlabel('frequency band $\\pm 0.1$')\n",
    "plt.ylabel('cd score')\n",
    "plt.show()    "
   ]
  }
 ],
 "metadata": {
  "anaconda-cloud": {},
  "kernelspec": {
   "display_name": "Environment (conda_pytorch_p36)",
   "language": "python",
   "name": "conda_pytorch_p36"
  },
  "language_info": {
   "codemirror_mode": {
    "name": "ipython",
    "version": 3
   },
   "file_extension": ".py",
   "mimetype": "text/x-python",
   "name": "python",
   "nbconvert_exporter": "python",
   "pygments_lexer": "ipython3",
   "version": "3.6.5"
  }
 },
 "nbformat": 4,
 "nbformat_minor": 4
}
