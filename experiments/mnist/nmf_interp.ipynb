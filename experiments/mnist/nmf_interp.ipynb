{
 "cells": [
  {
   "cell_type": "code",
   "execution_count": 77,
   "metadata": {},
   "outputs": [
    {
     "name": "stdout",
     "output_type": "stream",
     "text": [
      "The autoreload extension is already loaded. To reload it, use:\n",
      "  %reload_ext autoreload\n"
     ]
    }
   ],
   "source": [
    "%load_ext autoreload\n",
    "%autoreload 2\n",
    "%matplotlib inline\n",
    "import numpy as np\n",
    "import matplotlib.pyplot as plt\n",
    "import torch\n",
    "import random\n",
    "device = 'cuda' if torch.cuda.is_available() else 'cpu'\n",
    "from scipy.ndimage import gaussian_filter\n",
    "import sys\n",
    "from tqdm import tqdm\n",
    "from functools import partial\n",
    "import acd\n",
    "from copy import deepcopy\n",
    "sys.path.append('..')\n",
    "from transforms_torch import bandpass_filter\n",
    "plt.style.use('dark_background')\n",
    "sys.path.append('../../dsets/mnist')\n",
    "import dset\n",
    "from model import Net\n",
    "from util import *\n",
    "from numpy.fft import *\n",
    "from torch import nn\n",
    "from style import *\n",
    "from captum.attr import (\n",
    "    GradientShap,\n",
    "    DeepLift,\n",
    "    DeepLiftShap,\n",
    "    IntegratedGradients,\n",
    "    LayerConductance,\n",
    "    NeuronConductance,\n",
    "    NoiseTunnel,\n",
    ")\n",
    "import pickle as pkl\n",
    "from torchvision import datasets, transforms\n",
    "from sklearn.decomposition import NMF\n",
    "import transform_wrappers"
   ]
  },
  {
   "cell_type": "code",
   "execution_count": 28,
   "metadata": {},
   "outputs": [],
   "source": [
    "im_torch, im_orig, label = dset.get_im_and_label(251, device=device) # this will download the mnist dataset\n",
    "model = Net().to(device)\n",
    "im_torch = im_torch.to(device)\n",
    "model.load_state_dict(torch.load('../../dsets/mnist/mnist.model', map_location=device))\n",
    "model = model.eval().to(device)"
   ]
  },
  {
   "cell_type": "markdown",
   "metadata": {},
   "source": [
    "# nmf stuff"
   ]
  },
  {
   "cell_type": "code",
   "execution_count": 29,
   "metadata": {},
   "outputs": [],
   "source": [
    "mnist = datasets.MNIST('mnist/data', train=True, download=True)\n",
    "X = mnist.data.numpy().astype(np.float32)\n",
    "X = X.reshape(X.shape[0], -1)"
   ]
  },
  {
   "cell_type": "code",
   "execution_count": 3,
   "metadata": {},
   "outputs": [],
   "source": [
    "nmf = NMF(n_components=30, random_state=42)\n",
    "# nmf.fit(X)\n",
    "# pkl.dump(nmf, open('nmf_30.pkl', 'wb'))\n",
    "nmf = pkl.load(open('nmf_30.pkl', 'rb'))"
   ]
  },
  {
   "cell_type": "code",
   "execution_count": null,
   "metadata": {},
   "outputs": [],
   "source": [
    "D = nmf.components_.reshape(-1, 28, 28)\n",
    "print('D.shape', D.shape)\n",
    "\n",
    "R, C = 5,6\n",
    "i = 0\n",
    "vmin = np.min(D)\n",
    "vmax = np.max(D)\n",
    "plt.figure(figsize=(C * 3, R * 3), dpi=200)\n",
    "for r in range(R):\n",
    "    for c in range(C):\n",
    "        plt.subplot(R, C, i + 1)\n",
    "        plt.imshow(D[i], vmin=vmin, vmax=vmax, cmap='viridis')\n",
    "        plt.axis('off')\n",
    "        i += 1\n",
    "plt.tight_layout()\n",
    "plt.show()"
   ]
  },
  {
   "cell_type": "code",
   "execution_count": 4,
   "metadata": {},
   "outputs": [],
   "source": [
    "X_t = nmf.transform(X) # (n, num_bases)"
   ]
  },
  {
   "cell_type": "code",
   "execution_count": 5,
   "metadata": {},
   "outputs": [],
   "source": [
    "D = nmf.components_ # (num_bases, input_size)"
   ]
  },
  {
   "cell_type": "code",
   "execution_count": 6,
   "metadata": {},
   "outputs": [],
   "source": [
    "X_ = X_t @ D.astype(np.float32) # inverse transform"
   ]
  },
  {
   "cell_type": "code",
   "execution_count": 7,
   "metadata": {},
   "outputs": [
    {
     "data": {
      "text/plain": [
       "0.2155938798355274"
      ]
     },
     "execution_count": 7,
     "metadata": {},
     "output_type": "execute_result"
    }
   ],
   "source": [
    "np.mean(np.square(X_ - X)) / np.mean(np.square(X))"
   ]
  },
  {
   "cell_type": "code",
   "execution_count": 83,
   "metadata": {},
   "outputs": [],
   "source": [
    "transform = transform_wrappers.lay_from_w(D)\n",
    "norm = transform_wrappers.Norm_Layer(mu=0.1307, std=0.3081)\n",
    "net = transform_wrappers.Net_with_transform(model, transform=transform, norm=norm).to(device)"
   ]
  },
  {
   "cell_type": "code",
   "execution_count": 84,
   "metadata": {},
   "outputs": [],
   "source": [
    "x = X[:2]\n",
    "x_t = nmf.transform(x)\n",
    "x_t = torch.Tensor(x_t).to(device)"
   ]
  },
  {
   "cell_type": "code",
   "execution_count": 85,
   "metadata": {},
   "outputs": [
    {
     "name": "stdout",
     "output_type": "stream",
     "text": [
      "post transform torch.Size([2, 784])\n"
     ]
    },
    {
     "data": {
      "text/plain": [
       "tensor([[-1259.3894, -2353.4309, -2388.2671,  -631.3194, -2564.6746,     0.0000,\n",
       "         -1631.9843, -2212.8752, -1528.3231, -1069.9592],\n",
       "        [    0.0000, -3568.0764, -2241.5349, -3170.4446, -3573.6001, -2630.3381,\n",
       "         -2349.1653, -2713.8767, -2651.4229, -2509.8071]], device='cuda:0',\n",
       "       grad_fn=<LogSoftmaxBackward>)"
      ]
     },
     "execution_count": 85,
     "metadata": {},
     "output_type": "execute_result"
    }
   ],
   "source": [
    "net(x_t)"
   ]
  },
  {
   "cell_type": "code",
   "execution_count": 74,
   "metadata": {},
   "outputs": [
    {
     "data": {
      "text/plain": [
       "[Net_with_transform(\n",
       "   (transform): Linear(in_features=30, out_features=784, bias=False)\n",
       "   (norm): Norm_Layer()\n",
       "   (model): Net(\n",
       "     (conv1): Conv2d(1, 10, kernel_size=(5, 5), stride=(1, 1))\n",
       "     (conv2): Conv2d(10, 20, kernel_size=(5, 5), stride=(1, 1))\n",
       "     (conv2_drop): Dropout2d(p=0.5, inplace=False)\n",
       "     (fc1): Linear(in_features=320, out_features=50, bias=True)\n",
       "     (fc2): Linear(in_features=50, out_features=10, bias=True)\n",
       "   )\n",
       " ), Linear(in_features=30, out_features=784, bias=False), Norm_Layer(), Net(\n",
       "   (conv1): Conv2d(1, 10, kernel_size=(5, 5), stride=(1, 1))\n",
       "   (conv2): Conv2d(10, 20, kernel_size=(5, 5), stride=(1, 1))\n",
       "   (conv2_drop): Dropout2d(p=0.5, inplace=False)\n",
       "   (fc1): Linear(in_features=320, out_features=50, bias=True)\n",
       "   (fc2): Linear(in_features=50, out_features=10, bias=True)\n",
       " ), Conv2d(1, 10, kernel_size=(5, 5), stride=(1, 1)), Conv2d(10, 20, kernel_size=(5, 5), stride=(1, 1)), Dropout2d(p=0.5, inplace=False), Linear(in_features=320, out_features=50, bias=True), Linear(in_features=50, out_features=10, bias=True)]"
      ]
     },
     "execution_count": 74,
     "metadata": {},
     "output_type": "execute_result"
    }
   ],
   "source": [
    "list(net.modules())"
   ]
  },
  {
   "cell_type": "code",
   "execution_count": 76,
   "metadata": {},
   "outputs": [
    {
     "name": "stdout",
     "output_type": "stream",
     "text": [
      "<class '__main__.Net_with_transform'>\n",
      "<class 'torch.nn.modules.linear.Linear'>\n",
      "<class '__main__.Norm_Layer'>\n",
      "<class 'model.Net'>\n",
      "<class 'torch.nn.modules.conv.Conv2d'>\n",
      "<class 'torch.nn.modules.conv.Conv2d'>\n",
      "<class 'torch.nn.modules.dropout.Dropout2d'>\n",
      "<class 'torch.nn.modules.linear.Linear'>\n",
      "<class 'torch.nn.modules.linear.Linear'>\n"
     ]
    }
   ],
   "source": [
    "for mod in net.modules():\n",
    "    print(type(mod))"
   ]
  },
  {
   "cell_type": "code",
   "execution_count": null,
   "metadata": {},
   "outputs": [],
   "source": []
  }
 ],
 "metadata": {
  "anaconda-cloud": {},
  "kernelspec": {
   "display_name": "Python 3",
   "language": "python",
   "name": "python3"
  },
  "language_info": {
   "codemirror_mode": {
    "name": "ipython",
    "version": 3
   },
   "file_extension": ".py",
   "mimetype": "text/x-python",
   "name": "python",
   "nbconvert_exporter": "python",
   "pygments_lexer": "ipython3",
   "version": "3.7.5"
  }
 },
 "nbformat": 4,
 "nbformat_minor": 4
}
