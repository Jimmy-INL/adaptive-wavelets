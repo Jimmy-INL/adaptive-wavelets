{
 "cells": [
  {
   "cell_type": "code",
   "execution_count": 1,
   "metadata": {},
   "outputs": [],
   "source": [
    "%load_ext autoreload\n",
    "%autoreload 2\n",
    "%matplotlib inline\n",
    "import matplotlib.pyplot as plt\n",
    "import numpy as np\n",
    "import torch\n",
    "import random\n",
    "device = 'cuda' if torch.cuda.is_available() else 'cpu'\n",
    "import os, sys\n",
    "opj = os.path.join\n",
    "from tqdm import tqdm\n",
    "from functools import partial\n",
    "import acd\n",
    "from copy import deepcopy\n",
    "sys.path.append('..')\n",
    "from transforms_torch import wavelet_filter\n",
    "import transform_wrappers\n",
    "sys.path.append('../dsets/mnist')\n",
    "import dset\n",
    "from model import Net, Net2c\n",
    "from util import *\n",
    "from torch import nn\n",
    "from style import *\n",
    "from pytorch_wavelets import DWTForward, DWTInverse\n",
    "from captum.attr import *\n",
    "from knockout import *\n",
    "import warnings\n",
    "warnings.filterwarnings(\"ignore\")"
   ]
  },
  {
   "cell_type": "code",
   "execution_count": 2,
   "metadata": {},
   "outputs": [],
   "source": [
    "# set args\n",
    "args = dset.get_args()\n",
    "\n",
    "# load mnist data\n",
    "train_loader, test_loader = dset.load_data(args.batch_size, args.test_batch_size, device)"
   ]
  },
  {
   "cell_type": "markdown",
   "metadata": {},
   "source": [
    "# load model"
   ]
  },
  {
   "cell_type": "code",
   "execution_count": 3,
   "metadata": {},
   "outputs": [],
   "source": [
    "# wavelet transform\n",
    "xfm = DWTForward(J=3, mode='symmetric', wave='db4')\n",
    "ifm = DWTInverse(mode='symmetric', wave='db4')\n",
    "t = lambda x: xfm(x)\n",
    "transform_i = transform_wrappers.modularize(lambda x: ifm(x))\n",
    "transformer = lambda x: wavelet_filter(x, t, transform_i, idx=2, p=0.5)"
   ]
  },
  {
   "cell_type": "code",
   "execution_count": null,
   "metadata": {},
   "outputs": [
    {
     "name": "stdout",
     "output_type": "stream",
     "text": [
      "Train Epoch: 26 [3840/120000 (3%)]\tLoss: 0.009727"
     ]
    }
   ],
   "source": [
    "# load model\n",
    "train_Net2c(train_loader, args, transformer, save_path=opj('models/wt','net2c_' + str(0) + '.pth'))\n",
    "model = Net2c().to(device)\n",
    "model.load_state_dict(torch.load(opj('models/wt','net2c_' + str(0) + '.pth'), map_location=device))\n",
    "\n",
    "# test model\n",
    "test_loss, correct = test_Net2c(test_loader, model, transformer)\n",
    "print('\\nTest set: Average loss: {:.4f}, Accuracy: {}/{} ({:.0f}%)'.format(\n",
    "    test_loss, correct, 2*len(test_loader.dataset),\n",
    "    100. * correct / (2*len(test_loader.dataset))))    \n"
   ]
  },
  {
   "cell_type": "markdown",
   "metadata": {},
   "source": [
    "# scores in wt space"
   ]
  },
  {
   "cell_type": "code",
   "execution_count": null,
   "metadata": {},
   "outputs": [],
   "source": [
    "# wavelet transform\n",
    "xfm = DWTForward(J=3, mode='symmetric', wave='db4').to(device)\n",
    "ifm = DWTInverse(mode='symmetric', wave='db4').to(device)\n",
    "t = lambda x: xfm(x)\n",
    "transform_i = transform_wrappers.modularize(lambda x: ifm(x))"
   ]
  },
  {
   "cell_type": "code",
   "execution_count": null,
   "metadata": {},
   "outputs": [],
   "source": [
    "# test image\n",
    "x, _ = iter(test_loader).next()\n",
    "x = x.to(device)[0:1]\n",
    "x_t = t(x)\n",
    "print('Shape of wavelet coeffs\\n', x_t[0].shape, x_t[1][0].shape, x_t[1][1].shape,x_t[1][2].shape)"
   ]
  },
  {
   "cell_type": "code",
   "execution_count": null,
   "metadata": {},
   "outputs": [],
   "source": [
    "def transform_i_re(x):\n",
    "    x_tuple = (x[0], (x[1], x[2], x[3]))\n",
    "    return transform_i(x_tuple)"
   ]
  },
  {
   "cell_type": "code",
   "execution_count": null,
   "metadata": {},
   "outputs": [],
   "source": [
    "# flatten tuples\n",
    "a, (b, c, d) = x_t\n",
    "a.requires_grad, b.requires_grad, c.requires_grad, d.requires_grad = True, True, True, True\n",
    "x_t_re = (a, b, c, d)\n",
    "\n",
    "# prepend transform onto network\n",
    "m_t = transform_wrappers.Net_with_transform(model=model, transform=transform_i_re).to(device)\n",
    "m_t.eval()\n",
    "\n",
    "print('Difference of the model outputs', torch.norm(m_t(x_t_re) - model(x)).item())"
   ]
  },
  {
   "cell_type": "code",
   "execution_count": null,
   "metadata": {},
   "outputs": [],
   "source": [
    "output = m_t(x_t_re)[0][1]\n",
    "output.backward()"
   ]
  },
  {
   "cell_type": "code",
   "execution_count": null,
   "metadata": {},
   "outputs": [],
   "source": [
    "scores = []\n",
    "for i in range(len(x_t_re)):\n",
    "    scores.append((x_t_re[i] * x_t_re[i].grad).squeeze())"
   ]
  },
  {
   "cell_type": "code",
   "execution_count": null,
   "metadata": {},
   "outputs": [],
   "source": [
    "plt.imshow(scores[0].cpu().detach())\n",
    "plt.colorbar()\n",
    "plt.axis('off')\n",
    "plt.show()"
   ]
  },
  {
   "cell_type": "code",
   "execution_count": null,
   "metadata": {},
   "outputs": [],
   "source": [
    "plt.imshow(scores[1][0].cpu().detach())\n",
    "plt.colorbar()\n",
    "plt.axis('off')\n",
    "plt.show()"
   ]
  },
  {
   "cell_type": "code",
   "execution_count": null,
   "metadata": {},
   "outputs": [],
   "source": [
    "plt.imshow(scores[1][1].cpu().detach())\n",
    "plt.colorbar()\n",
    "plt.axis('off')\n",
    "plt.show()"
   ]
  },
  {
   "cell_type": "code",
   "execution_count": null,
   "metadata": {},
   "outputs": [],
   "source": [
    "plt.imshow(scores[1][2].cpu().detach())\n",
    "plt.colorbar()\n",
    "plt.axis('off')\n",
    "plt.show()"
   ]
  },
  {
   "cell_type": "code",
   "execution_count": null,
   "metadata": {},
   "outputs": [],
   "source": [
    "plt.imshow(scores[3][0].cpu().detach())\n",
    "plt.colorbar()\n",
    "plt.axis('off')\n",
    "plt.show()"
   ]
  },
  {
   "cell_type": "code",
   "execution_count": null,
   "metadata": {},
   "outputs": [],
   "source": [
    "plt.imshow(scores[3][1].cpu().detach())\n",
    "plt.colorbar()\n",
    "plt.axis('off')\n",
    "plt.show()"
   ]
  },
  {
   "cell_type": "code",
   "execution_count": null,
   "metadata": {},
   "outputs": [],
   "source": [
    "plt.imshow(scores[3][2].cpu().detach())\n",
    "plt.colorbar()\n",
    "plt.axis('off')\n",
    "plt.show()"
   ]
  },
  {
   "cell_type": "code",
   "execution_count": null,
   "metadata": {},
   "outputs": [],
   "source": [
    "# get interp scores\n",
    "attr_methods = ['IG', 'DeepLift', 'SHAP', 'CD', 'InputXGradient']\n",
    "name = 'IG'\n",
    "func = [IntegratedGradients, DeepLift, GradientShap, None, InputXGradient][0]\n",
    "attributer = func(m_t)\n",
    "class_num = 1\n",
    "attributions = attributer.attribute((deepcopy(x_t_re)),target=class_num)"
   ]
  },
  {
   "cell_type": "code",
   "execution_count": null,
   "metadata": {},
   "outputs": [],
   "source": []
  }
 ],
 "metadata": {
  "kernelspec": {
   "display_name": "Environment (conda_pytorch_p36)",
   "language": "python",
   "name": "conda_pytorch_p36"
  },
  "language_info": {
   "codemirror_mode": {
    "name": "ipython",
    "version": 3
   },
   "file_extension": ".py",
   "mimetype": "text/x-python",
   "name": "python",
   "nbconvert_exporter": "python",
   "pygments_lexer": "ipython3",
   "version": "3.6.7"
  }
 },
 "nbformat": 4,
 "nbformat_minor": 2
}
