{
 "cells": [
  {
   "cell_type": "code",
   "execution_count": 454,
   "metadata": {},
   "outputs": [
    {
     "name": "stdout",
     "output_type": "stream",
     "text": [
      "The autoreload extension is already loaded. To reload it, use:\n",
      "  %reload_ext autoreload\n"
     ]
    }
   ],
   "source": [
    "%load_ext autoreload\n",
    "%autoreload 2\n",
    "%matplotlib inline\n",
    "import numpy as np\n",
    "import matplotlib.pyplot as plt\n",
    "import torch\n",
    "import random\n",
    "device = 'cuda' if torch.cuda.is_available() else 'cpu'\n",
    "from scipy.ndimage import gaussian_filter\n",
    "import sys\n",
    "from tqdm import tqdm\n",
    "from functools import partial\n",
    "import acd\n",
    "from copy import deepcopy\n",
    "sys.path.append('..')\n",
    "sys.path.append('../..')\n",
    "from transforms_torch import bandpass_filter\n",
    "# plt.style.use('dark_background')\n",
    "sys.path.append('../../dsets/mnist')\n",
    "import dset\n",
    "from model import Net, Net2c\n",
    "from util import *\n",
    "from numpy.fft import *\n",
    "from torch import nn\n",
    "from style import *\n",
    "from captum.attr import *\n",
    "import pickle as pkl\n",
    "from torchvision import datasets, transforms\n",
    "from sklearn.decomposition import NMF\n",
    "from transform_wrappers import *\n",
    "import visualize as viz\n",
    "from sklearn.neural_network import MLPClassifier\n",
    "from sklearn.model_selection import train_test_split\n",
    "from skorch import NeuralNetClassifier\n",
    "import pandas as pd\n",
    "from models import FNN\n",
    "import attributions\n",
    "device = 'cuda'"
   ]
  },
  {
   "cell_type": "code",
   "execution_count": 455,
   "metadata": {},
   "outputs": [],
   "source": [
    "np.random.seed(13)\n",
    "torch.manual_seed(13)\n",
    "class p:\n",
    "    n = 50000\n",
    "    p = 100\n",
    "idx_knockout = 12\n",
    "window = 0\n",
    "X = np.random.randn(p.n, p.p).astype(np.float32)\n",
    "X_t = torch.rfft(torch.Tensor(X), signal_ndim=1)\n",
    "\n",
    "# define y\n",
    "band = X_t[:, idx_knockout - window: idx_knockout + window + 1]\n",
    "band_mag = torch.pow(band[..., 0]**2 + band[..., 1]**2, 0.5)\n",
    "band_mag_mean = torch.mean(band_mag, axis=1)\n",
    "thresh = np.nanpercentile(band_mag_mean, 50)\n",
    "y = (band_mag_mean > thresh).cpu().detach().numpy().astype(np.int)\n",
    "\n",
    "# data split\n",
    "X_train, X_test, y_train, y_test = train_test_split(X, y)"
   ]
  },
  {
   "cell_type": "code",
   "execution_count": 456,
   "metadata": {},
   "outputs": [
    {
     "name": "stdout",
     "output_type": "stream",
     "text": [
      "  epoch    train_loss     dur\n",
      "-------  ------------  ------\n",
      "      1        \u001b[36m0.6925\u001b[0m  0.6102\n",
      "      2        \u001b[36m0.5059\u001b[0m  0.6137\n",
      "      3        \u001b[36m0.2218\u001b[0m  0.6177\n",
      "      4        \u001b[36m0.1602\u001b[0m  0.5833\n",
      "      5        \u001b[36m0.1330\u001b[0m  0.5833\n",
      "      6        \u001b[36m0.1166\u001b[0m  0.6175\n",
      "      7        \u001b[36m0.1055\u001b[0m  0.6107\n",
      "      8        \u001b[36m0.0958\u001b[0m  0.6101\n",
      "      9        \u001b[36m0.0874\u001b[0m  0.6162\n",
      "     10        \u001b[36m0.0808\u001b[0m  0.6132\n",
      "test acc 0.95216\n"
     ]
    }
   ],
   "source": [
    "# fit model\n",
    "net = NeuralNetClassifier(\n",
    "    FNN(p=p.p),\n",
    "    max_epochs=10,\n",
    "    lr=0.1,\n",
    "    # Shuffle training data on each epoch\n",
    "    iterator_train__shuffle=True,\n",
    "    train_split=None,\n",
    ")\n",
    "net.fit(X_train, y_train)\n",
    "transform = modularize(lambda x: torch.irfft(x, signal_ndim=1)[:, :-1])\n",
    "mt = Net_with_transform(model=net.module_, transform=transform).to('cpu')\n",
    "print('test acc', net.score(X_test, y_test))"
   ]
  },
  {
   "cell_type": "code",
   "execution_count": 457,
   "metadata": {},
   "outputs": [],
   "source": [
    "# x_torch = torch.Tensor(X_test[0].reshape(1, -1))\n",
    "# x_t = torch.rfft(x_torch, signal_ndim=1).squeeze()\n",
    "# results_individual = attributions.get_attributions(x_t, mt)"
   ]
  },
  {
   "cell_type": "code",
   "execution_count": 460,
   "metadata": {},
   "outputs": [
    {
     "name": "stderr",
     "output_type": "stream",
     "text": [
      "100%|██████████| 100/100 [00:11<00:00,  8.50it/s]\n"
     ]
    }
   ],
   "source": [
    "results = []\n",
    "for i in tqdm(range(100)):\n",
    "    x_torch = torch.Tensor(X_test[i].reshape(1, -1))\n",
    "    x_t = torch.rfft(x_torch, signal_ndim=1).squeeze()\n",
    "    results.append(attributions.get_attributions(x_t, mt))"
   ]
  },
  {
   "cell_type": "code",
   "execution_count": 445,
   "metadata": {},
   "outputs": [],
   "source": [
    "results = pd.DataFrame(results)"
   ]
  },
  {
   "cell_type": "code",
   "execution_count": 446,
   "metadata": {},
   "outputs": [
    {
     "name": "stdout",
     "output_type": "stream",
     "text": [
      "[1.0, 0.948, 0.929, 0.93]\n"
     ]
    },
    {
     "data": {
      "image/png": "[encoded data removed]",
      "text/plain": [
       "<Figure size 432x288 with 1 Axes>"
      ]
     },
     "metadata": {
      "needs_background": "light"
     },
     "output_type": "display_data"
    }
   ],
   "source": [
    "accs = []\n",
    "ks = sorted(results.keys())\n",
    "for k in ks:\n",
    "#     print(k)\n",
    "    vals = np.vstack(results[k])\n",
    "#     print(vals.shape)\n",
    "    args = np.argmax(vals, axis=1)\n",
    "#     print(args)\n",
    "    num_correct = np.sum(args == idx_knockout)\n",
    "    accs.append(num_correct / vals.shape[0])\n",
    "plt.bar(ks, accs)\n",
    "\n",
    "print(accs)\n",
    "plt.show()"
   ]
  },
  {
   "cell_type": "code",
   "execution_count": 462,
   "metadata": {},
   "outputs": [
    {
     "name": "stdout",
     "output_type": "stream",
     "text": [
      "0.007021111023192843\n"
     ]
    }
   ],
   "source": [
    "prob = 0.948\n",
    "num = 1000\n",
    "print(np.sqrt(prob * (1-prob)) / np.sqrt(num))"
   ]
  },
  {
   "cell_type": "code",
   "execution_count": null,
   "metadata": {},
   "outputs": [],
   "source": [
    "# d = scores.size\n",
    "# idxs = np.zeros(d).astype(bool)\n",
    "# idxs[idx_zero - window: idx_zero + window + 1] = 1\n",
    "# plt.plot(np.arange(d)[idxs], scores[idxs], 'o')\n",
    "# plt.plot(np.arange(d)[~idxs], scores[~idxs], 'o')\n",
    "# plt.show()"
   ]
  }
 ],
 "metadata": {
  "kernelspec": {
   "display_name": "Python 3",
   "language": "python",
   "name": "python3"
  },
  "language_info": {
   "codemirror_mode": {
    "name": "ipython",
    "version": 3
   },
   "file_extension": ".py",
   "mimetype": "text/x-python",
   "name": "python",
   "nbconvert_exporter": "python",
   "pygments_lexer": "ipython3",
   "version": "3.7.5"
  }
 },
 "nbformat": 4,
 "nbformat_minor": 4
}
