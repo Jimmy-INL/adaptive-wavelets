{
 "cells": [
  {
   "cell_type": "code",
   "execution_count": 272,
   "metadata": {},
   "outputs": [
    {
     "name": "stdout",
     "output_type": "stream",
     "text": [
      "The autoreload extension is already loaded. To reload it, use:\n",
      "  %reload_ext autoreload\n"
     ]
    }
   ],
   "source": [
    "%load_ext autoreload\n",
    "%autoreload 2\n",
    "%matplotlib inline\n",
    "import numpy as np\n",
    "import matplotlib.pyplot as plt\n",
    "import torch\n",
    "import random\n",
    "device = 'cuda' if torch.cuda.is_available() else 'cpu'\n",
    "from scipy.ndimage import gaussian_filter\n",
    "import sys\n",
    "from tqdm import tqdm\n",
    "from functools import partial\n",
    "import acd\n",
    "from copy import deepcopy\n",
    "sys.path.append('..')\n",
    "sys.path.append('../..')\n",
    "from transforms_torch import bandpass_filter\n",
    "# plt.style.use('dark_background')\n",
    "sys.path.append('../../dsets/mnist')\n",
    "import dset\n",
    "from model import Net, Net2c\n",
    "from util import *\n",
    "from numpy.fft import *\n",
    "from torch import nn\n",
    "from style import *\n",
    "from captum.attr import (\n",
    "    InputXGradient,\n",
    "    Saliency,\n",
    "    GradientShap,\n",
    "    DeepLift,\n",
    "    DeepLiftShap,\n",
    "    IntegratedGradients,\n",
    "    LayerConductance,\n",
    "    NeuronConductance,\n",
    "    NoiseTunnel,\n",
    ")\n",
    "import pickle as pkl\n",
    "from torchvision import datasets, transforms\n",
    "from sklearn.decomposition import NMF\n",
    "from transform_wrappers import *\n",
    "import visualize as viz\n",
    "from sklearn.neural_network import MLPClassifier\n",
    "from sklearn.model_selection import train_test_split\n",
    "from skorch import NeuralNetClassifier\n",
    "\n",
    "device = 'cuda'"
   ]
  },
  {
   "cell_type": "code",
   "execution_count": 312,
   "metadata": {},
   "outputs": [],
   "source": [
    "np.random.seed(13)\n",
    "torch.manual_seed(13)\n",
    "class p:\n",
    "    n = 50000\n",
    "    p = 100\n",
    "idx_zero = 12\n",
    "window = 0\n",
    "X = np.random.randn(p.n, p.p).astype(np.float32)\n",
    "X_t = torch.rfft(torch.Tensor(X), signal_ndim=1)\n",
    "\n",
    "# define y\n",
    "band = X_t[:, idx_zero - window: idx_zero + window + 1]\n",
    "band_mag = torch.pow(band[..., 0]**2 + band[..., 1]**2, 0.5)\n",
    "band_mag_mean = torch.mean(band_mag, axis=1)\n",
    "thresh = np.nanpercentile(band_mag_mean, 50)\n",
    "y = (band_mag_mean > thresh).cpu().detach().numpy().astype(np.int)\n",
    "\n",
    "# data split\n",
    "X_train, X_test, y_train, y_test = train_test_split(X, y)"
   ]
  },
  {
   "cell_type": "code",
   "execution_count": 313,
   "metadata": {},
   "outputs": [
    {
     "name": "stdout",
     "output_type": "stream",
     "text": [
      "  epoch    train_loss     dur\n",
      "-------  ------------  ------\n",
      "      1        \u001b[36m0.6925\u001b[0m  0.6142\n",
      "      2        \u001b[36m0.5059\u001b[0m  0.6074\n",
      "      3        \u001b[36m0.2218\u001b[0m  0.6034\n",
      "      4        \u001b[36m0.1602\u001b[0m  0.5990\n",
      "      5        \u001b[36m0.1330\u001b[0m  0.5971\n",
      "      6        \u001b[36m0.1166\u001b[0m  0.5999\n",
      "      7        \u001b[36m0.1055\u001b[0m  0.6007\n",
      "      8        \u001b[36m0.0958\u001b[0m  0.6059\n",
      "      9        \u001b[36m0.0874\u001b[0m  0.6067\n",
      "     10        \u001b[36m0.0808\u001b[0m  0.6057\n",
      "test acc 0.95216\n"
     ]
    }
   ],
   "source": [
    "class FNN(nn.Module):\n",
    "    def __init__(self, p):\n",
    "        super(FNN, self).__init__()\n",
    "        self.fc1 = nn.Linear(p, 100)\n",
    "        self.relu1 = nn.ReLU()\n",
    "        self.fc2 = nn.Linear(100, 2)\n",
    "        self.use_softmax = True\n",
    "\n",
    "    def forward(self, x):\n",
    "        x = self.fc1(x)\n",
    "        x = self.relu1(x)\n",
    "        x = self.fc2(x)\n",
    "        if self.use_softmax:\n",
    "            x = F.softmax(x, dim=1)\n",
    "        return x\n",
    "    \n",
    "net = NeuralNetClassifier(\n",
    "    FNN(p=p.p),\n",
    "    max_epochs=10,\n",
    "    lr=0.1,\n",
    "    # Shuffle training data on each epoch\n",
    "    iterator_train__shuffle=True,\n",
    "    train_split=None,\n",
    ")\n",
    "net.fit(X_train, y_train)\n",
    "print('test acc', net.score(X_test, y_test))"
   ]
  },
  {
   "cell_type": "code",
   "execution_count": 314,
   "metadata": {},
   "outputs": [],
   "source": [
    "def modularize(f):\n",
    "    class Transform(nn.Module):\n",
    "        def __init__(self, f):\n",
    "            super(Transform, self).__init__()\n",
    "            self.f = f\n",
    "        def forward(self, x):\n",
    "            return self.f(x)\n",
    "    return Transform(f)\n",
    "        "
   ]
  },
  {
   "cell_type": "code",
   "execution_count": 315,
   "metadata": {},
   "outputs": [],
   "source": [
    "mod = modularize(lambda x: torch.irfft(x, signal_ndim=1)[:, :-1])\n",
    "mt = Net_with_transform(model=net.module_, transform=mod).to(device)"
   ]
  },
  {
   "cell_type": "code",
   "execution_count": 316,
   "metadata": {},
   "outputs": [
    {
     "name": "stdout",
     "output_type": "stream",
     "text": [
      "shapes torch.Size([1, 51, 2])\n"
     ]
    },
    {
     "data": {
      "text/plain": [
       "tensor([[9.9914e-01, 8.5541e-04]], device='cuda:0', grad_fn=<SoftmaxBackward>)"
      ]
     },
     "execution_count": 316,
     "metadata": {},
     "output_type": "execute_result"
    }
   ],
   "source": [
    "x_torch = torch.Tensor(X_test[0].reshape(1, -1))\n",
    "x_t = torch.rfft(x_torch, signal_ndim=1).to(device)\n",
    "print('shapes', x_t.shape)\n",
    "mt(x_t)"
   ]
  },
  {
   "cell_type": "code",
   "execution_count": 317,
   "metadata": {},
   "outputs": [
    {
     "data": {
      "text/plain": [
       "torch.Size([1, 100])"
      ]
     },
     "execution_count": 317,
     "metadata": {},
     "output_type": "execute_result"
    }
   ],
   "source": [
    "mod(x_t).shape"
   ]
  },
  {
   "cell_type": "code",
   "execution_count": 318,
   "metadata": {},
   "outputs": [
    {
     "name": "stdout",
     "output_type": "stream",
     "text": [
      "(1, 100) torch.Size([1, 51, 2])\n",
      "tiles shape (51, 51, 2)\n"
     ]
    }
   ],
   "source": [
    "x_torch = torch.Tensor(X_test[0].reshape(1, -1))\n",
    "x_t = torch.rfft(x_torch, signal_ndim=1)\n",
    "print(x.shape, x_t.shape)\n",
    "sweep_dim = 1\n",
    "tiles = acd.tiling_2d.gen_tiles(x_t, fill=0, method='cd', sweep_dim=sweep_dim)\n",
    "tiles = np.repeat(np.expand_dims(tiles, axis=-1), repeats=2, axis=3).squeeze()\n",
    "x_t = x_t.squeeze()\n",
    "print('tiles shape', tiles.shape)\n",
    "scores = acd.get_scores_2d(mt, method='cd', ims=tiles, im_torch=x_t)[:, 1]"
   ]
  },
  {
   "cell_type": "code",
   "execution_count": 319,
   "metadata": {},
   "outputs": [],
   "source": [
    "# mods = list(mt.modules())\n",
    "# for i, mod in enumerate(mods):\n",
    "#     t = str(type(mod))\n",
    "#     print(t, 'modularize' in t and 'Transform' in t)"
   ]
  },
  {
   "cell_type": "code",
   "execution_count": 320,
   "metadata": {},
   "outputs": [
    {
     "data": {
      "image/png": "[encoded data removed]",
      "text/plain": [
       "<Figure size 432x288 with 1 Axes>"
      ]
     },
     "metadata": {
      "needs_background": "light"
     },
     "output_type": "display_data"
    }
   ],
   "source": [
    "d = scores.size\n",
    "idxs = np.zeros(d).astype(bool)\n",
    "idxs[idx_zero - window: idx_zero + window + 1] = 1\n",
    "plt.plot(np.arange(d)[idxs], scores[idxs], 'o')\n",
    "plt.plot(np.arange(d)[~idxs], scores[~idxs], 'o')\n",
    "plt.show()"
   ]
  }
 ],
 "metadata": {
  "kernelspec": {
   "display_name": "Python 3",
   "language": "python",
   "name": "python3"
  },
  "language_info": {
   "codemirror_mode": {
    "name": "ipython",
    "version": 3
   },
   "file_extension": ".py",
   "mimetype": "text/x-python",
   "name": "python",
   "nbconvert_exporter": "python",
   "pygments_lexer": "ipython3",
   "version": "3.7.5"
  }
 },
 "nbformat": 4,
 "nbformat_minor": 4
}
