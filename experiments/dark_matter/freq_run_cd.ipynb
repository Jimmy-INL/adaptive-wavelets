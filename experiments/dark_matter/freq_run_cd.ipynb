{
 "cells": [
  {
   "cell_type": "code",
   "execution_count": 3,
   "metadata": {
    "colab": {
     "base_uri": "https://localhost:8080/",
     "height": 35
    },
    "colab_type": "code",
    "id": "Akr87A3ojAkR",
    "outputId": "066156d6-adb3-4def-fe53-1172861bbfcb"
   },
   "outputs": [
    {
     "name": "stdout",
     "output_type": "stream",
     "text": [
      "The autoreload extension is already loaded. To reload it, use:\n",
      "  %reload_ext autoreload\n"
     ]
    }
   ],
   "source": [
    "%load_ext autoreload\n",
    "%autoreload 2\n",
    "%matplotlib inline\n",
    "import os\n",
    "import torch\n",
    "from skimage import io, transform\n",
    "import numpy as np\n",
    "import matplotlib.pyplot as plt\n",
    "plt.style.use('dark_background')\n",
    "from torch.utils.data import Dataset, DataLoader\n",
    "from torchvision import transforms, utils\n",
    "from copy import deepcopy\n",
    "import random\n",
    "device = 'cuda' if torch.cuda.is_available() else 'cpu'\n",
    "from os.path import join as oj\n",
    "import sys\n",
    "import acd\n",
    "from tqdm import tqdm\n",
    "import pickle as pkl\n",
    "import torchvision\n",
    "import numpy as np\n",
    "import models\n",
    "import time\n",
    "sys.path.append('..')\n",
    "sys.path.append('../..')\n",
    "from functools import partial\n",
    "from transforms_torch import bandpass_filter\n",
    "from data import *\n",
    "from style import *\n",
    "data_path = '/scratch/users/vision/data/cosmo'\n",
    "torch.manual_seed(42)\n",
    "np.random.seed(42)\n",
    "mnu_dataset = MassMapsDataset(oj(data_path, 'cosmological_parameters.txt'),  oj(data_path, 'z1_256'))"
   ]
  },
  {
   "cell_type": "markdown",
   "metadata": {
    "colab_type": "text",
    "id": "Nfvz34PiqfCt"
   },
   "source": [
    "## load model"
   ]
  },
  {
   "cell_type": "code",
   "execution_count": 4,
   "metadata": {
    "colab": {},
    "colab_type": "code",
    "id": "CS4tFZ90M3eV"
   },
   "outputs": [],
   "source": [
    "device = torch.device(\"cuda\" if torch.cuda.is_available() else \"cpu\")\n",
    "\n",
    "m = models.load_model(model_name='resnet18', device=device)\n",
    "\n",
    "data_transform = transforms.Compose([ToTensor()])\n",
    "dataloader = torch.utils.data.DataLoader(MassMapsDataset(oj(data_path, 'cosmological_parameters.txt'),  \n",
    "                                                         oj(data_path, 'z1_256'),\n",
    "                                                         transform=data_transform), \n",
    "                                         batch_size=64, shuffle=True, num_workers=4)"
   ]
  },
  {
   "cell_type": "markdown",
   "metadata": {},
   "source": [
    "**check that it makes reasonable preds**"
   ]
  },
  {
   "cell_type": "code",
   "execution_count": null,
   "metadata": {
    "colab": {},
    "colab_type": "code",
    "id": "4BQ9Mm3wNkA_"
   },
   "outputs": [],
   "source": [
    "# with torch.no_grad():\n",
    "#     result = {'y': [], 'pred': []}\n",
    "#     for i in tqdm(range(100)):\n",
    "#         sample = data_transform(mnu_dataset[i])\n",
    "#         x = sample['image']\n",
    "#         result['y'].append(sample['params'][1].item())\n",
    "#         result['pred'].append(m(x.unsqueeze(0).to(device)).flatten()[1].item())\n",
    "# # print(result)\n",
    "# plt.scatter(result['y'], result['pred'])\n",
    "# plt.xlabel('true param')\n",
    "# plt.ylabel('predicted param')\n",
    "# plt.show()"
   ]
  },
  {
   "cell_type": "markdown",
   "metadata": {},
   "source": [
    "# calc cd scores"
   ]
  },
  {
   "cell_type": "markdown",
   "metadata": {},
   "source": [
    "**calc cd scores**"
   ]
  },
  {
   "cell_type": "code",
   "execution_count": null,
   "metadata": {},
   "outputs": [],
   "source": [
    "def calc_scores(im_t, model_ft, transform, device='cuda', band_centers=np.linspace(0.1, 0.90, 100)):\n",
    "    '''Calculate scores across many bands\n",
    "    '''\n",
    "    with torch.no_grad():\n",
    "        x = deepcopy(im_t).to(device)\n",
    "        model_ft = model_ft.to(device)\n",
    "        scores = []\n",
    "        for band_center in band_centers:\n",
    "            score = acd.cd(x, model_ft, mask=None, model_type='resnet18', \n",
    "                           device=device, transform=partial(transform, band_center=band_center, band_width=0.05))\n",
    "            score = score[0].flatten().detach().cpu().numpy()\n",
    "            scores.append(score)\n",
    "        pred = model_ft(x).flatten().detach().cpu().numpy()\n",
    "    return pred, scores\n",
    "\n",
    "\n",
    "\n",
    "band_centers = np.linspace(0.1, 0.90, 100)\n",
    "np.random.seed(42)\n",
    "results = {\n",
    "    'scores_list': [],\n",
    "    'preds_list': []\n",
    "}\n",
    "for sample_num in tqdm(range(1000)):\n",
    "    sample = mnu_dataset[sample_num]\n",
    "    im = np.squeeze(sample['image']).astype(np.float32)\n",
    "    im_t = torch.Tensor(im).reshape(1, 1, 256, 256)    \n",
    "    class_num = 1 # output is: [M_nu(eV), Omega_m 10^9*A_s, sigma_8(derived)]\n",
    "    pred, scores = calc_scores(im_t, m, bandpass_filter, band_centers=band_centers)\n",
    "    results['scores_list'].append(deepcopy(scores)) #, class_num=1))\n",
    "    results['preds_list'].append(deepcopy(pred))\n",
    "    if sample_num % 10 == 0:\n",
    "        pkl.dump({\n",
    "            'scores_list': np.array(results['scores_list']),\n",
    "            'preds_list': np.array(results['preds_list']),\n",
    "        }, open(f'results/scores_list_{sample_num}.pkl', 'wb'))"
   ]
  }
 ],
 "metadata": {
  "accelerator": "GPU",
  "colab": {
   "collapsed_sections": [],
   "name": "DeepMassACD.ipynb",
   "provenance": []
  },
  "kernelspec": {
   "display_name": "Python 3",
   "language": "python",
   "name": "python3"
  },
  "language_info": {
   "codemirror_mode": {
    "name": "ipython",
    "version": 3
   },
   "file_extension": ".py",
   "mimetype": "text/x-python",
   "name": "python",
   "nbconvert_exporter": "python",
   "pygments_lexer": "ipython3",
   "version": "3.7.5"
  }
 },
 "nbformat": 4,
 "nbformat_minor": 4
}
