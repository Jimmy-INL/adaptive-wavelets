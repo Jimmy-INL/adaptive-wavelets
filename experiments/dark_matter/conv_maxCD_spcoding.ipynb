{
 "cells": [
  {
   "cell_type": "code",
   "execution_count": null,
   "metadata": {},
   "outputs": [],
   "source": [
    "%load_ext autoreload\n",
    "%autoreload 2\n",
    "%matplotlib inline\n",
    "import os\n",
    "import torch\n",
    "from skimage import io, transform\n",
    "import numpy as np\n",
    "import matplotlib.pyplot as plt\n",
    "from torch.utils.data import Dataset, DataLoader\n",
    "from torchvision import transforms, utils\n",
    "from copy import deepcopy\n",
    "import random\n",
    "device = 'cuda' if torch.cuda.is_available() else 'cpu'\n",
    "from scipy.ndimage import gaussian_filter\n",
    "from os.path import join as oj\n",
    "import sys\n",
    "import acd\n",
    "from tqdm import tqdm\n",
    "import pickle as pkl\n",
    "import torchvision\n",
    "import models\n",
    "import time\n",
    "from functools import partial\n",
    "sys.path.append('..')\n",
    "sys.path.append('../..')\n",
    "# plt.style.use('dark_background')\n",
    "from visualize import *\n",
    "import visualize as viz\n",
    "from transforms_torch import bandpass_filter\n",
    "from numpy.fft import *\n",
    "from data import *\n",
    "from style import *\n",
    "data_path = './cosmo'\n",
    "torch.manual_seed(42)\n",
    "np.random.seed(42)"
   ]
  },
  {
   "cell_type": "code",
   "execution_count": null,
   "metadata": {},
   "outputs": [],
   "source": [
    "from acd_wooseok.acd.scores import cd"
   ]
  },
  {
   "cell_type": "markdown",
   "metadata": {},
   "source": [
    "# load dataset and model"
   ]
  },
  {
   "cell_type": "code",
   "execution_count": null,
   "metadata": {},
   "outputs": [],
   "source": [
    "# params\n",
    "img_size = 256\n",
    "class_num = 1"
   ]
  },
  {
   "cell_type": "code",
   "execution_count": null,
   "metadata": {},
   "outputs": [],
   "source": [
    "# cosmo dataset\n",
    "transformer = transforms.Compose([ToTensor()])\n",
    "mnu_dataset = MassMapsDataset(oj(data_path, 'cosmological_parameters.txt'),  \n",
    "                              oj(data_path, 'z1_256'),\n",
    "                              transform=transformer)\n",
    "\n",
    "# dataloader\n",
    "data_loader = torch.utils.data.DataLoader(mnu_dataset, batch_size=64, shuffle=False, num_workers=4)\n",
    "\n",
    "# load model\n",
    "model = models.load_model(model_name='resnet18', device=device, data_path=data_path)\n",
    "\n",
    "# model prediction\n",
    "with torch.no_grad():\n",
    "    result = {'y': [], 'pred': []}\n",
    "    for i in tqdm(range(100)):\n",
    "        sample = mnu_dataset[i]\n",
    "        x = sample['image']\n",
    "        result['y'].append(sample['params'][class_num].item())\n",
    "        result['pred'].append(model(x.unsqueeze(0).to(device)).flatten()[class_num].item())\n",
    "# print(result)\n",
    "plt.scatter(result['y'], result['pred'])\n",
    "plt.xlabel('true param')\n",
    "plt.ylabel('predicted param')\n",
    "plt.show()"
   ]
  },
  {
   "cell_type": "markdown",
   "metadata": {},
   "source": [
    "# conv sparse coding"
   ]
  },
  {
   "cell_type": "code",
   "execution_count": null,
   "metadata": {},
   "outputs": [],
   "source": [
    "# import modules\n",
    "from funcs import *\n",
    "from matfac import *"
   ]
  },
  {
   "cell_type": "code",
   "execution_count": null,
   "metadata": {},
   "outputs": [],
   "source": [
    "# set hyper-params and variables\n",
    "n_components = 20\n",
    "kernel_size = 7\n",
    "n_dim = kernel_size + (img_size-1)\n",
    "\n",
    "csc_dict = Filter(kernel_size, n_components).to(device)\n",
    "csc_weight = FeatureMap(n_dim, n_components).to(device)\n",
    "# load model\n",
    "# csc_dict.load_state_dict(torch.load('./models/csc_dict.pth'))\n",
    "# csc_weight.load_state_dict(torch.load('./models/csc_weight.pth'))\n",
    "\n",
    "criterion = nn.MSELoss()\n",
    "# set optimizer\n",
    "lamb = 0.05\n",
    "optimizer_d = Optimizer(params=csc_dict.parameters(), proxs=[prox_normalization], lr=0.005, momentum=0.)\n",
    "optimizer_w = Optimizer(params=csc_weight.parameters(), proxs=[partial(prox_soft_threshold, lamb=0.005*lamb)], lr=0.005, momentum=0.)\n",
    "\n",
    "X = iter(data_loader).next()['image'][0:1].to(device)\n",
    "n_epoch = 10\n",
    "n_inner = 100\n",
    "losses_epoch = np.zeros((n_epoch,))\n",
    "losses_inner = []\n",
    "\n",
    "lamb_cd = 0.1"
   ]
  },
  {
   "cell_type": "code",
   "execution_count": null,
   "metadata": {},
   "outputs": [],
   "source": [
    "# run prox-SGD\n",
    "for epoch in range(n_epoch):\n",
    "    # update dict\n",
    "    optimizer_d.zero_grad() # need to clear the old gradients\n",
    "    optimizer_w.zero_grad() # need to clear the old gradients\n",
    "    X_ = csc_dict(csc_weight.maps)\n",
    "    loss = torch.norm(X-X_)**2/2\n",
    "    atoms = get_atoms(csc_dict.convs, csc_weight.maps)\n",
    "    loss -= lamb_cd * cd.cd(X, model, mask=None, model_type='resnet18', device='cuda', \n",
    "                    transform=partial(conv_sparse_coder, atoms=atoms, comp_idx=list(range(5))))[0].flatten()[class_num]\n",
    "    loss.backward()\n",
    "    # loss\n",
    "    losses_epoch[epoch] = losses_epoch[epoch] + loss.data.item() + lamb*L1Norm(csc_weight.parameters())\n",
    "    # update step\n",
    "    optimizer_d.step()\n",
    "    \n",
    "    # inner loop\n",
    "    for i in range(n_inner):\n",
    "        # update weight\n",
    "        optimizer_d.zero_grad() # need to clear the old gradients\n",
    "        optimizer_w.zero_grad() # need to clear the old gradients\n",
    "        X_ = csc_weight(csc_dict.convs)\n",
    "        loss = torch.norm(X-X_)**2/2\n",
    "        atoms = get_atoms(csc_dict.convs, csc_weight.maps)\n",
    "        loss -= lamb_cd * cd.cd(X, model, mask=None, model_type='resnet18', device='cuda', \n",
    "                        transform=partial(conv_sparse_coder, atoms=atoms, comp_idx=list(range(5))))[0].flatten()[class_num]\n",
    "        loss.backward()\n",
    "        # loss\n",
    "        losses_inner.append(loss.data.item() + lamb*L1Norm(csc_weight.parameters()))\n",
    "        # update step\n",
    "        optimizer_w.step()\n",
    "        \n",
    "    if epoch % 2 == 0:\n",
    "        # recon-error, nnz\n",
    "        err = torch.norm(X-X_).data.item() / torch.norm(X).data.item() \n",
    "        nnz = 0\n",
    "        for feature_map in csc_weight.maps:\n",
    "            nnz += np.count_nonzero(feature_map.data.cpu().numpy())\n",
    "        nnz_W = np.count_nonzero(nnz)/(n_dim*n_dim*n_components)\n",
    "        \n",
    "        print('\\rTrain Epoch: {} [({:.0f}%)]\\tError: {:.6f}\\tLoss: {:.6f}\\tNNZ: {:.6f}%'.format(\n",
    "            epoch, 100. * epoch / n_epoch, err, loss.data.item()+lamb*L1Norm(csc_weight.parameters()), 100. * nnz_W), end='')    \n"
   ]
  },
  {
   "cell_type": "code",
   "execution_count": null,
   "metadata": {},
   "outputs": [],
   "source": [
    "print('recon error:', (torch.norm(X-X_)**2).item()/2)\n",
    "# with torch.no_grad():\n",
    "#     print('lamb_cd * cd_score:', lamb_cd * acd.cd(X, model, mask=None, model_type='mnist', device='cuda', \n",
    "#                         transform=partial(conv_sparse_coder, atoms=atoms, comp_idx=list(range(5))))[0].flatten()[class_num])\n",
    "print('lamb * L1Norm:', lamb*L1Norm(csc_weight.parameters()))"
   ]
  },
  {
   "cell_type": "code",
   "execution_count": null,
   "metadata": {},
   "outputs": [],
   "source": [
    "# plot losses\n",
    "plt.figure(figsize=(12,4))\n",
    "plt.subplot(1,2,1)\n",
    "# plt.plot(np.log(losses_epoch))\n",
    "plt.plot((losses_epoch))\n",
    "plt.title('losses per epoch')\n",
    "\n",
    "plt.subplot(1,2,2)\n",
    "# plt.plot(np.log(losses_inner))\n",
    "plt.plot((losses_inner))\n",
    "plt.title('losses per inner loop')\n",
    "plt.show()"
   ]
  },
  {
   "cell_type": "code",
   "execution_count": null,
   "metadata": {},
   "outputs": [],
   "source": [
    "img = X.squeeze().cpu().data.numpy()\n",
    "imgr = csc_dict(csc_weight.maps).squeeze().cpu().data.numpy()\n",
    "\n",
    "plt.figure(figsize=(10,10))\n",
    "plt.subplot(1, 3, 1)\n",
    "cshow(img)\n",
    "plt.title('Original')\n",
    "plt.axis('off')\n",
    "plt.subplot(1, 3, 2)\n",
    "cshow(imgr)\n",
    "plt.title('Reconstructed')\n",
    "plt.axis('off')\n",
    "plt.subplot(1, 3, 3)\n",
    "cshow(img-imgr)\n",
    "plt.title('Difference')\n",
    "plt.axis('off')\n",
    "plt.show()"
   ]
  },
  {
   "cell_type": "code",
   "execution_count": null,
   "metadata": {},
   "outputs": [],
   "source": [
    "from skimage.transform import rescale\n",
    "\n",
    "n_row = 4\n",
    "n_col = 5\n",
    "Nimages = len(csc_dict.convs)\n",
    "\n",
    "plt.figure(figsize=(15,15))\n",
    "# plot filters\n",
    "plt.subplot(1, 2, 1)\n",
    "p = kernel_size + 2\n",
    "mosaic = np.zeros((p*n_row,p*n_col))\n",
    "indx = 0\n",
    "for i in range(n_row):\n",
    "    for j in range(n_col):\n",
    "        im = csc_dict.convs[indx].weight.data.cpu().squeeze().numpy()\n",
    "        im = (im-np.min(im))\n",
    "        im = im/np.max(im)\n",
    "        mosaic[i*p:(i+1)*p,j*p:(j+1)*p] = np.pad(im,(1,1),mode='constant')\n",
    "        indx += 1\n",
    "\n",
    "plt.imshow(rescale(mosaic,4,mode='constant'), cmap='magma')\n",
    "plt.axis('off')    \n",
    "\n",
    "# plot each atom \n",
    "plt.subplot(1, 2, 2)\n",
    "p = img_size + 2\n",
    "mosaic = np.zeros((p*n_row,p*n_col))\n",
    "indx = 0\n",
    "for i in range(n_row):\n",
    "    for j in range(n_col):\n",
    "        im = csc_dict.convs[indx](csc_weight.maps[indx]).data.cpu().squeeze().numpy()\n",
    "        mosaic[i*p:(i+1)*p,j*p:(j+1)*p] = np.pad(im,(1,1),mode='constant',constant_values=0.)\n",
    "        indx += 1\n",
    "\n",
    "plt.imshow(rescale(mosaic,4,mode='constant'), cmap='magma')\n",
    "plt.axis('off')\n",
    "plt.show()        "
   ]
  },
  {
   "cell_type": "markdown",
   "metadata": {},
   "source": [
    "# CD score"
   ]
  },
  {
   "cell_type": "code",
   "execution_count": null,
   "metadata": {},
   "outputs": [],
   "source": [
    "# compute cd-scores\n",
    "scores = []\n",
    "atoms = get_atoms(csc_dict.convs, csc_weight.maps)\n",
    "for comp_idx in range(n_components):\n",
    "    with torch.no_grad():\n",
    "        score = cd.cd(X, model, mask=None, model_type='resnet18', device='cuda', \n",
    "                transform=partial(conv_sparse_coder, atoms=atoms, comp_idx=[comp_idx]))[0].flatten()[class_num].item()\n",
    "        scores.append(score)"
   ]
  },
  {
   "cell_type": "code",
   "execution_count": null,
   "metadata": {},
   "outputs": [],
   "source": [
    "activations = []\n",
    "for param in csc_weight.parameters():\n",
    "    activations.append(torch.abs(param.data).sum())"
   ]
  },
  {
   "cell_type": "code",
   "execution_count": null,
   "metadata": {},
   "outputs": [],
   "source": [
    "def get_residual(im: torch.Tensor, atoms: list):\n",
    "    recon = 0\n",
    "    for atom in atoms:\n",
    "        recon += atom\n",
    "    return im - recon"
   ]
  },
  {
   "cell_type": "code",
   "execution_count": null,
   "metadata": {},
   "outputs": [],
   "source": [
    "plt.plot(np.arange(n_components), 50*np.array(scores), label='cd score')\n",
    "plt.plot(np.arange(n_components), activations, label='activations')\n",
    "plt.legend()\n",
    "plt.show()\n",
    "with torch.no_grad():\n",
    "    score = cd.cd(X, model, mask=None, model_type='resnet18', device='cuda', \n",
    "        transform=partial(get_residual, atoms=atoms))[0].flatten()[class_num].item()\n",
    "print('cd score for the residual:', 50*score)"
   ]
  },
  {
   "cell_type": "code",
   "execution_count": null,
   "metadata": {},
   "outputs": [],
   "source": [
    "with torch.no_grad():\n",
    "    score = cd.cd(X, model, mask=None, model_type='resnet18', device='cuda', \n",
    "        transform=partial(get_residual, atoms=atoms))[0].flatten()[class_num].item()\n",
    "print(score)"
   ]
  },
  {
   "cell_type": "code",
   "execution_count": null,
   "metadata": {},
   "outputs": [],
   "source": []
  }
 ],
 "metadata": {
  "kernelspec": {
   "display_name": "Environment (conda_pytorch_p36)",
   "language": "python",
   "name": "conda_pytorch_p36"
  },
  "language_info": {
   "codemirror_mode": {
    "name": "ipython",
    "version": 3
   },
   "file_extension": ".py",
   "mimetype": "text/x-python",
   "name": "python",
   "nbconvert_exporter": "python",
   "pygments_lexer": "ipython3",
   "version": "3.6.5"
  }
 },
 "nbformat": 4,
 "nbformat_minor": 2
}
