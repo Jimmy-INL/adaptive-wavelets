{
 "cells": [
  {
   "cell_type": "markdown",
   "metadata": {
    "colab_type": "text",
    "id": "2rg2KQ-iieHN"
   },
   "source": [
    "## Data Preparation"
   ]
  },
  {
   "cell_type": "code",
   "execution_count": 36,
   "metadata": {
    "colab": {
     "base_uri": "https://localhost:8080/",
     "height": 35
    },
    "colab_type": "code",
    "id": "Akr87A3ojAkR",
    "outputId": "066156d6-adb3-4def-fe53-1172861bbfcb"
   },
   "outputs": [
    {
     "name": "stdout",
     "output_type": "stream",
     "text": [
      "Populating the interactive namespace from numpy and matplotlib\n",
      "The autoreload extension is already loaded. To reload it, use:\n",
      "  %reload_ext autoreload\n"
     ]
    }
   ],
   "source": [
    "from __future__ import print_function, division\n",
    "import os\n",
    "import torch\n",
    "from skimage import io, transform\n",
    "import numpy as np\n",
    "import matplotlib.pyplot as plt\n",
    "from torch.utils.data import Dataset, DataLoader\n",
    "from torchvision import transforms, utils\n",
    "from astropy.io import fits\n",
    "\n",
    "# Ignore warnings\n",
    "import warnings\n",
    "warnings.filterwarnings(\"ignore\")\n",
    "%pylab inline\n",
    "%load_ext autoreload\n",
    "%autoreload 2\n",
    "%matplotlib inline\n",
    "import numpy as np\n",
    "import matplotlib.pyplot as plt\n",
    "import foolbox\n",
    "import torch\n",
    "import torch\n",
    "import random\n",
    "device = 'cuda' if torch.cuda.is_available() else 'cpu'\n",
    "from scipy.ndimage import gaussian_filter\n",
    "from os.path import join as oj\n",
    "import sys\n",
    "sys.path.append('../visualization')\n",
    "sys.path.append('../acd/util')\n",
    "sys.path.append('../acd/scores')\n",
    "sys.path.append('../acd/agglomeration')\n",
    "from tqdm import tqdm\n",
    "import viz_2d as viz\n",
    "import cd\n",
    "import score_funcs\n",
    "import bandpass_filter\n",
    "# plt.style.use('dark_background')"
   ]
  },
  {
   "cell_type": "code",
   "execution_count": 37,
   "metadata": {},
   "outputs": [],
   "source": [
    "from data import *\n",
    "data_path = '/scratch/users/vision/data/cosmo'\n",
    "mnu_dataset = MassMapsDataset(oj(data_path, 'cosmological_parameters.txt'),  oj(data_path, 'z1_256'))"
   ]
  },
  {
   "cell_type": "code",
   "execution_count": null,
   "metadata": {
    "colab": {
     "base_uri": "https://localhost:8080/",
     "height": 288
    },
    "colab_type": "code",
    "id": "BptxJT9loPmo",
    "outputId": "340cd4ab-f170-468c-8b7d-416317c62b90"
   },
   "outputs": [],
   "source": [
    "plt.figure(figsize=(15,5))\n",
    "for i in range(len(mnu_dataset)):\n",
    "    sample = mnu_dataset[i]\n",
    "\n",
    "    #print(i, sample['image'].shape, sample['params'].shape)\n",
    "\n",
    "    subplot(1, 4, i + 1)\n",
    "    tight_layout()\n",
    "    axis('off')\n",
    "    imshow(squeeze(sample['image']), cmap='magma',vmax=0.15,vmin=-0.05 )\n",
    "    title(r\"$m_\\nu$=%0.2f; $\\Omega_m$=%0.2f; $10^9A_s$=%0.2f\"%(sample['params'][0], sample['params'][1], sample['params'][2] ) )\n",
    "\n",
    "    if i == 3:\n",
    "        break"
   ]
  },
  {
   "cell_type": "markdown",
   "metadata": {
    "colab_type": "text",
    "id": "Nfvz34PiqfCt"
   },
   "source": [
    "## Load the model"
   ]
  },
  {
   "cell_type": "code",
   "execution_count": 39,
   "metadata": {
    "colab": {},
    "colab_type": "code",
    "id": "CS4tFZ90M3eV"
   },
   "outputs": [
    {
     "name": "stdout",
     "output_type": "stream",
     "text": [
      "cuda:0\n"
     ]
    },
    {
     "data": {
      "text/plain": [
       "IncompatibleKeys(missing_keys=[], unexpected_keys=[])"
      ]
     },
     "execution_count": 39,
     "metadata": {},
     "output_type": "execute_result"
    }
   ],
   "source": [
    "device = torch.device(\"cuda:0\" if torch.cuda.is_available() else \"cpu\")\n",
    "print(device)\n",
    "\n",
    "import torchvision\n",
    "import torch.nn as nn\n",
    "from torchvision import datasets, models, transforms\n",
    "import time\n",
    "import os\n",
    "import copy\n",
    "\n",
    "model_ft = models.resnet18(pretrained=False)\n",
    "\n",
    "# Modifying the model to predict the three cosmological parameters from single channel images\n",
    "model_ft.conv1 = nn.Conv2d(1, 64, kernel_size=(7, 7), stride=(2, 2), padding=(3, 3), bias=False)\n",
    "num_ftrs = model_ft.fc.in_features\n",
    "model_ft.fc = nn.Linear(num_ftrs, 3)\n",
    "model_ft = model_ft.to(device)\n",
    "\n",
    "# model_ft = train_model(model_ft, criterion, optimizer_ft, exp_lr_scheduler,\n",
    "#                        num_epochs=10)\n",
    "\n",
    "# model_ft = model_ft.load_state_dict(oj(data_path, 'resnet18_state_dict'))\n",
    "model_ft.load_state_dict(torch.load(oj(data_path, 'resnet18_state_dict')))"
   ]
  },
  {
   "cell_type": "code",
   "execution_count": 60,
   "metadata": {
    "colab": {},
    "colab_type": "code",
    "id": "Fk_0M-AurPCD"
   },
   "outputs": [],
   "source": [
    "data_transform = transforms.Compose([\n",
    "        ToTensor()\n",
    "    ])\n",
    "mnu_dataset = MassMapsDataset(oj(data_path, 'cosmological_parameters.txt'),  \n",
    "                              oj(data_path, 'z1_256'),\n",
    "                              transform=data_transform)\n",
    "# mnu_dataset = MassMapsDataset('cosmological_parameters.txt',\n",
    "#                               'z1_256', \n",
    "#                               transform=data_transform)\n",
    "\n",
    "dataloader = torch.utils.data.DataLoader(mnu_dataset, batch_size=64, \n",
    "                                         shuffle=True, num_workers=4)"
   ]
  },
  {
   "cell_type": "markdown",
   "metadata": {},
   "source": [
    "# check that it makes reasonable preds"
   ]
  },
  {
   "cell_type": "code",
   "execution_count": 41,
   "metadata": {
    "colab": {},
    "colab_type": "code",
    "id": "4BQ9Mm3wNkA_"
   },
   "outputs": [],
   "source": [
    "with torch.no_grad():\n",
    "    for data in dataloader:\n",
    "        inputs, params = data['image'], data['params']\n",
    "        inputs = inputs.to(device)\n",
    "        params = params.to(device)\n",
    "        outputs = model_ft(inputs)\n",
    "        break"
   ]
  },
  {
   "cell_type": "code",
   "execution_count": null,
   "metadata": {
    "colab": {
     "base_uri": "https://localhost:8080/",
     "height": 297
    },
    "colab_type": "code",
    "id": "wfZujzp5NkDx",
    "outputId": "ddf6c9d9-7092-4a7f-8236-4cb153849b01"
   },
   "outputs": [],
   "source": [
    "scatter(params.cpu()[:,1], outputs.cpu()[:,1])\n",
    "xlabel('true param')\n",
    "ylabel('predicted param')"
   ]
  },
  {
   "cell_type": "markdown",
   "metadata": {},
   "source": [
    "# analyze one prediction"
   ]
  },
  {
   "cell_type": "code",
   "execution_count": null,
   "metadata": {},
   "outputs": [],
   "source": [
    "sample = mnu_dataset[1]\n",
    "plt.figure(dpi=200)\n",
    "sample = mnu_dataset[i]\n",
    "\n",
    "#print(i, sample['image'].shape, sample['params'].shape)\n",
    "\n",
    "# subplot(1, 4, i + 1)\n",
    "# tight_layout()\n",
    "axis('off')\n",
    "im = np.squeeze(sample['image'])\n",
    "plt.imshow(im, cmap='magma', vmax=0.15, vmin=-0.05)\n",
    "plt.show()\n",
    "\n",
    "# imshow(squeeze(sample['image']), cmap='magma',vmax=0.15,vmin=-0.05 )\n",
    "# title(r\"$m_\\nu$=%0.2f; $\\Omega_m$=%0.2f; $10^9A_s$=%0.2f\"%(sample['params'][0], sample['params'][1], sample['params'][2] ) )\n",
    "\n",
    "# if i == 3:\n",
    "#     break"
   ]
  },
  {
   "cell_type": "code",
   "execution_count": 55,
   "metadata": {},
   "outputs": [],
   "source": [
    "import util"
   ]
  },
  {
   "cell_type": "code",
   "execution_count": 56,
   "metadata": {},
   "outputs": [],
   "source": [
    "t = util.Transforms()"
   ]
  },
  {
   "cell_type": "code",
   "execution_count": null,
   "metadata": {},
   "outputs": [],
   "source": [
    "t.sigma = 2e-1 # [0, 1]\n",
    "# t.sigma = 1e-1\n",
    "# t.sigma = 1e-9\n",
    "# transform = t.gaussian_filter\n",
    "# transform = t.bandpass_filter_approx\n",
    "transform = t.bandpass_filter\n",
    "util.visualize(im, transform)"
   ]
  },
  {
   "cell_type": "code",
   "execution_count": 83,
   "metadata": {},
   "outputs": [],
   "source": [
    "im_t = torch.Tensor(im.reshape(1, 1, 256, 256)).to(device) #.astype('float32'))\n",
    "model_ft(im_t).shape"
   ]
  },
  {
   "cell_type": "code",
   "execution_count": 76,
   "metadata": {},
   "outputs": [
    {
     "data": {
      "text/plain": [
       "torch.Size([1, 3])"
      ]
     },
     "execution_count": 76,
     "metadata": {},
     "output_type": "execute_result"
    }
   ],
   "source": []
  },
  {
   "cell_type": "code",
   "execution_count": null,
   "metadata": {},
   "outputs": [],
   "source": [
    "util.visualize(im, transform)"
   ]
  },
  {
   "cell_type": "code",
   "execution_count": null,
   "metadata": {},
   "outputs": [],
   "source": []
  }
 ],
 "metadata": {
  "accelerator": "GPU",
  "colab": {
   "collapsed_sections": [],
   "name": "DeepMassACD.ipynb",
   "provenance": []
  },
  "kernelspec": {
   "display_name": "Python 3",
   "language": "python",
   "name": "python3"
  },
  "language_info": {
   "codemirror_mode": {
    "name": "ipython",
    "version": 3
   },
   "file_extension": ".py",
   "mimetype": "text/x-python",
   "name": "python",
   "nbconvert_exporter": "python",
   "pygments_lexer": "ipython3",
   "version": "3.7.5"
  }
 },
 "nbformat": 4,
 "nbformat_minor": 4
}
