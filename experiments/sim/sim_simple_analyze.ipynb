{
 "cells": [
  {
   "cell_type": "code",
   "execution_count": 1,
   "metadata": {},
   "outputs": [
    {
     "name": "stderr",
     "output_type": "stream",
     "text": [
      "/accounts/projects/vision/.local/lib/python3.7/site-packages/sklearn/utils/deprecation.py:144: FutureWarning: The sklearn.metrics.scorer module is  deprecated in version 0.22 and will be removed in version 0.24. The corresponding classes / functions should instead be imported from sklearn.metrics. Anything that cannot be imported from sklearn.metrics is now part of the private API.\n",
      "  warnings.warn(message, FutureWarning)\n"
     ]
    }
   ],
   "source": [
    "%load_ext autoreload\n",
    "%autoreload 2\n",
    "%matplotlib inline\n",
    "import numpy as np\n",
    "import matplotlib.pyplot as plt\n",
    "import torch\n",
    "import random\n",
    "device = 'cuda' if torch.cuda.is_available() else 'cpu'\n",
    "from scipy.ndimage import gaussian_filter\n",
    "import sys\n",
    "from tqdm import tqdm\n",
    "from functools import partial\n",
    "import acd\n",
    "from copy import deepcopy\n",
    "sys.path.append('..')\n",
    "sys.path.append('../..')\n",
    "from os.path import join as oj\n",
    "from transforms_torch import bandpass_filter\n",
    "# plt.style.use('dark_background')\n",
    "sys.path.append('../../dsets/mnist')\n",
    "import dset\n",
    "from model import Net, Net2c\n",
    "from util import *\n",
    "from numpy.fft import *\n",
    "from torch import nn\n",
    "from random import randint\n",
    "from style import *\n",
    "from captum.attr import *\n",
    "import pickle as pkl\n",
    "from torchvision import datasets, transforms\n",
    "from sklearn.decomposition import NMF, LatentDirichletAllocation\n",
    "from transform_wrappers import *\n",
    "from sklearn.neural_network import MLPClassifier\n",
    "from sklearn.model_selection import train_test_split\n",
    "from skorch import NeuralNetClassifier\n",
    "import pandas as pd\n",
    "from models import FNN\n",
    "import attributions\n",
    "device = 'cuda'"
   ]
  },
  {
   "cell_type": "code",
   "execution_count": 2,
   "metadata": {},
   "outputs": [
    {
     "name": "stdout",
     "output_type": "stream",
     "text": [
      "['fft', 'fft_unif', 'lda', 'lda_unif', 'nmf', 'nmf_unif', 'nmf_unif2']\n"
     ]
    }
   ],
   "source": [
    "out_dir = '/scratch/users/vision/data/cosmo/sim'\n",
    "dirs = sorted(os.listdir(out_dir))\n",
    "print(dirs)"
   ]
  },
  {
   "cell_type": "code",
   "execution_count": 3,
   "metadata": {},
   "outputs": [
    {
     "name": "stdout",
     "output_type": "stream",
     "text": [
      "0    0.95216\n",
      "1    0.87856\n",
      "2    0.95888\n",
      "3    0.67968\n",
      "4    0.94416\n",
      "5    0.97840\n",
      "6    0.97576\n",
      "Name: acc_test, dtype: float64\n"
     ]
    }
   ],
   "source": [
    "results_list = []\n",
    "for dirname in dirs:\n",
    "    fname = os.listdir(oj(out_dir, dirname))[0]\n",
    "    results_list.append(pkl.load(open(oj(out_dir, dirname, fname), 'rb')))\n",
    "results = pd.DataFrame(results_list)\n",
    "results.insert(0, 'dir', dirs)\n",
    "print(results.acc_test)"
   ]
  },
  {
   "cell_type": "code",
   "execution_count": null,
   "metadata": {},
   "outputs": [],
   "source": [
    "plt.figure(facecolor='white')\n",
    "# colors = [cb, cr, 'purple', 'green']\n",
    "R = results.shape[0]\n",
    "for i in range(R):\n",
    "    row = results.iloc[i]\n",
    "    r = row['results']\n",
    "\n",
    "    accs = []\n",
    "    ks = sorted(r.keys())\n",
    "    for k in ks:\n",
    "        attrs = np.vstack(r[k])\n",
    "        args = np.argmax(attrs, axis=1)\n",
    "        num_correct = np.sum(args == row['idx_knockout'])\n",
    "        accs.append(num_correct / args.size)\n",
    "        \n",
    "    plt.title(f'{row.dir} {row.acc_test:.2f}')\n",
    "    plt.bar(ks, (1-np.array(accs)))\n",
    "    plt.ylabel('classification err')\n",
    "    plt.show()"
   ]
  },
  {
   "cell_type": "code",
   "execution_count": 171,
   "metadata": {},
   "outputs": [
    {
     "name": "stdout",
     "output_type": "stream",
     "text": [
      "0.007021111023192843\n"
     ]
    }
   ],
   "source": [
    "prob = 0.948\n",
    "num = 1000\n",
    "print(np.sqrt(prob * (1-prob)) / np.sqrt(num))"
   ]
  },
  {
   "cell_type": "code",
   "execution_count": 172,
   "metadata": {},
   "outputs": [],
   "source": [
    "# d = scores.size\n",
    "# idxs = np.zeros(d).astype(bool)\n",
    "# idxs[idx_zero - window: idx_zero + window + 1] = 1\n",
    "# plt.plot(np.arange(d)[idxs], scores[idxs], 'o')\n",
    "# plt.plot(np.arange(d)[~idxs], scores[~idxs], 'o')\n",
    "# plt.show()"
   ]
  },
  {
   "cell_type": "code",
   "execution_count": 248,
   "metadata": {},
   "outputs": [
    {
     "name": "stdout",
     "output_type": "stream",
     "text": [
      "CD 0.996 1.0\n",
      "DeepLift 0.996 1.0\n",
      "IG 0.996 1.0\n",
      "SHAP 0.996 1.0\n"
     ]
    }
   ],
   "source": [
    "r = results[results.dir == 'nmf_unif2'].iloc[0]\n",
    "y = r.preds\n",
    "\n",
    "for key in r.results:\n",
    "    attrs = np.vstack(r.results[key].values)\n",
    "    attrs_pos = attrs[y==1]\n",
    "    attrs_neg = attrs[y==0]\n",
    "\n",
    "    acc = np.mean(np.argmax(attrs, axis=1) == 12)\n",
    "    acc_pos = np.mean(np.argmax(attrs_pos, axis=1) == 12)\n",
    "    print(key, acc, acc_pos)"
   ]
  },
  {
   "cell_type": "code",
   "execution_count": 209,
   "metadata": {},
   "outputs": [
    {
     "data": {
      "image/png": "[encoded data removed]",
      "text/plain": [
       "<Figure size 432x288 with 1 Axes>"
      ]
     },
     "metadata": {
      "needs_background": "light"
     },
     "output_type": "display_data"
    }
   ],
   "source": [
    "plt.plot(attrs_pos.T, alpha=0.01, color=cb)\n",
    "plt.plot(attrs_neg.T, alpha=0.01, color=cr)\n",
    "plt.show()"
   ]
  },
  {
   "cell_type": "markdown",
   "metadata": {},
   "source": [
    "# check that hyperparams are correct"
   ]
  },
  {
   "cell_type": "code",
   "execution_count": 210,
   "metadata": {},
   "outputs": [
    {
     "data": {
      "text/html": [
       "<div>\n",
       "<style scoped>\n",
       "    .dataframe tbody tr th:only-of-type {\n",
       "        vertical-align: middle;\n",
       "    }\n",
       "\n",
       "    .dataframe tbody tr th {\n",
       "        vertical-align: top;\n",
       "    }\n",
       "\n",
       "    .dataframe thead th {\n",
       "        text-align: right;\n",
       "    }\n",
       "</style>\n",
       "<table border=\"1\" class=\"dataframe\">\n",
       "  <thead>\n",
       "    <tr style=\"text-align: right;\">\n",
       "      <th></th>\n",
       "      <th>dir</th>\n",
       "      <th>acc_test</th>\n",
       "      <th>data_distr</th>\n",
       "      <th>idx_knockout</th>\n",
       "      <th>labels</th>\n",
       "      <th>lr</th>\n",
       "      <th>n</th>\n",
       "      <th>n_test</th>\n",
       "      <th>net</th>\n",
       "      <th>num_components</th>\n",
       "      <th>num_epochs_train</th>\n",
       "      <th>out_dir</th>\n",
       "      <th>p</th>\n",
       "      <th>pid</th>\n",
       "      <th>preds</th>\n",
       "      <th>transform</th>\n",
       "      <th>window</th>\n",
       "    </tr>\n",
       "  </thead>\n",
       "  <tbody>\n",
       "    <tr>\n",
       "      <th>0</th>\n",
       "      <td>fft</td>\n",
       "      <td>0.95216</td>\n",
       "      <td>NaN</td>\n",
       "      <td>12</td>\n",
       "      <td>NaN</td>\n",
       "      <td>NaN</td>\n",
       "      <td>50000</td>\n",
       "      <td>2000</td>\n",
       "      <td>FNN(\\n  (fc1): Linear(in_features=100, out_fea...</td>\n",
       "      <td>NaN</td>\n",
       "      <td>NaN</td>\n",
       "      <td>/scratch/users/vision/data/cosmo/sim</td>\n",
       "      <td>100</td>\n",
       "      <td>66257609305319508671</td>\n",
       "      <td>NaN</td>\n",
       "      <td>irfft</td>\n",
       "      <td>0</td>\n",
       "    </tr>\n",
       "    <tr>\n",
       "      <th>1</th>\n",
       "      <td>fft_unif</td>\n",
       "      <td>0.87856</td>\n",
       "      <td>uniform</td>\n",
       "      <td>12</td>\n",
       "      <td>NaN</td>\n",
       "      <td>0.10</td>\n",
       "      <td>50000</td>\n",
       "      <td>500</td>\n",
       "      <td>FNN(\\n  (fc1): Linear(in_features=100, out_fea...</td>\n",
       "      <td>30.0</td>\n",
       "      <td>12.0</td>\n",
       "      <td>/scratch/users/vision/data/cosmo/sim/fft_unif</td>\n",
       "      <td>100</td>\n",
       "      <td>86068516496196794951</td>\n",
       "      <td>NaN</td>\n",
       "      <td>fft</td>\n",
       "      <td>0</td>\n",
       "    </tr>\n",
       "    <tr>\n",
       "      <th>2</th>\n",
       "      <td>lda</td>\n",
       "      <td>0.95888</td>\n",
       "      <td>NaN</td>\n",
       "      <td>12</td>\n",
       "      <td>NaN</td>\n",
       "      <td>0.01</td>\n",
       "      <td>50000</td>\n",
       "      <td>500</td>\n",
       "      <td>FNN(\\n  (fc1): Linear(in_features=100, out_fea...</td>\n",
       "      <td>30.0</td>\n",
       "      <td>12.0</td>\n",
       "      <td>/scratch/users/vision/data/cosmo/sim/lda</td>\n",
       "      <td>100</td>\n",
       "      <td>08722341460397210112</td>\n",
       "      <td>NaN</td>\n",
       "      <td>irfft</td>\n",
       "      <td>0</td>\n",
       "    </tr>\n",
       "    <tr>\n",
       "      <th>3</th>\n",
       "      <td>lda_unif</td>\n",
       "      <td>0.67968</td>\n",
       "      <td>uniform</td>\n",
       "      <td>12</td>\n",
       "      <td>NaN</td>\n",
       "      <td>0.01</td>\n",
       "      <td>50000</td>\n",
       "      <td>500</td>\n",
       "      <td>FNN(\\n  (fc1): Linear(in_features=100, out_fea...</td>\n",
       "      <td>30.0</td>\n",
       "      <td>12.0</td>\n",
       "      <td>/scratch/users/vision/data/cosmo/sim/lda_unif</td>\n",
       "      <td>100</td>\n",
       "      <td>49892183150043360236</td>\n",
       "      <td>NaN</td>\n",
       "      <td>lda</td>\n",
       "      <td>0</td>\n",
       "    </tr>\n",
       "    <tr>\n",
       "      <th>4</th>\n",
       "      <td>nmf</td>\n",
       "      <td>0.94416</td>\n",
       "      <td>NaN</td>\n",
       "      <td>12</td>\n",
       "      <td>NaN</td>\n",
       "      <td>0.01</td>\n",
       "      <td>50000</td>\n",
       "      <td>500</td>\n",
       "      <td>FNN(\\n  (fc1): Linear(in_features=100, out_fea...</td>\n",
       "      <td>30.0</td>\n",
       "      <td>12.0</td>\n",
       "      <td>/scratch/users/vision/data/cosmo/sim/nmf2</td>\n",
       "      <td>100</td>\n",
       "      <td>37451272574898306406</td>\n",
       "      <td>NaN</td>\n",
       "      <td>irfft</td>\n",
       "      <td>0</td>\n",
       "    </tr>\n",
       "    <tr>\n",
       "      <th>5</th>\n",
       "      <td>nmf_unif</td>\n",
       "      <td>0.97840</td>\n",
       "      <td>uniform</td>\n",
       "      <td>12</td>\n",
       "      <td>NaN</td>\n",
       "      <td>0.01</td>\n",
       "      <td>50000</td>\n",
       "      <td>500</td>\n",
       "      <td>FNN(\\n  (fc1): Linear(in_features=100, out_fea...</td>\n",
       "      <td>30.0</td>\n",
       "      <td>12.0</td>\n",
       "      <td>/scratch/users/vision/data/cosmo/sim/nmf_unif</td>\n",
       "      <td>100</td>\n",
       "      <td>07661681622171777799</td>\n",
       "      <td>NaN</td>\n",
       "      <td>nmf</td>\n",
       "      <td>0</td>\n",
       "    </tr>\n",
       "    <tr>\n",
       "      <th>6</th>\n",
       "      <td>nmf_unif2</td>\n",
       "      <td>0.97576</td>\n",
       "      <td>uniform</td>\n",
       "      <td>12</td>\n",
       "      <td>[0, 1, 1, 0, 0, 1, 0, 1, 1, 0, 0, 0, 1, 1, 0, ...</td>\n",
       "      <td>0.01</td>\n",
       "      <td>50000</td>\n",
       "      <td>500</td>\n",
       "      <td>FNN(\\n  (fc1): Linear(in_features=100, out_fea...</td>\n",
       "      <td>30.0</td>\n",
       "      <td>12.0</td>\n",
       "      <td>/scratch/users/vision/data/cosmo/sim/nmf_unif2</td>\n",
       "      <td>100</td>\n",
       "      <td>15333344111662240097</td>\n",
       "      <td>[1, 0, 1, 1, 1, 1, 1, 1, 0, 0, 0, 0, 1, 1, 0, ...</td>\n",
       "      <td>nmf</td>\n",
       "      <td>0</td>\n",
       "    </tr>\n",
       "  </tbody>\n",
       "</table>\n",
       "</div>"
      ],
      "text/plain": [
       "         dir  acc_test data_distr  idx_knockout  \\\n",
       "0        fft   0.95216        NaN            12   \n",
       "1   fft_unif   0.87856    uniform            12   \n",
       "2        lda   0.95888        NaN            12   \n",
       "3   lda_unif   0.67968    uniform            12   \n",
       "4        nmf   0.94416        NaN            12   \n",
       "5   nmf_unif   0.97840    uniform            12   \n",
       "6  nmf_unif2   0.97576    uniform            12   \n",
       "\n",
       "                                              labels    lr      n  n_test  \\\n",
       "0                                                NaN   NaN  50000    2000   \n",
       "1                                                NaN  0.10  50000     500   \n",
       "2                                                NaN  0.01  50000     500   \n",
       "3                                                NaN  0.01  50000     500   \n",
       "4                                                NaN  0.01  50000     500   \n",
       "5                                                NaN  0.01  50000     500   \n",
       "6  [0, 1, 1, 0, 0, 1, 0, 1, 1, 0, 0, 0, 1, 1, 0, ...  0.01  50000     500   \n",
       "\n",
       "                                                 net  num_components  \\\n",
       "0  FNN(\\n  (fc1): Linear(in_features=100, out_fea...             NaN   \n",
       "1  FNN(\\n  (fc1): Linear(in_features=100, out_fea...            30.0   \n",
       "2  FNN(\\n  (fc1): Linear(in_features=100, out_fea...            30.0   \n",
       "3  FNN(\\n  (fc1): Linear(in_features=100, out_fea...            30.0   \n",
       "4  FNN(\\n  (fc1): Linear(in_features=100, out_fea...            30.0   \n",
       "5  FNN(\\n  (fc1): Linear(in_features=100, out_fea...            30.0   \n",
       "6  FNN(\\n  (fc1): Linear(in_features=100, out_fea...            30.0   \n",
       "\n",
       "   num_epochs_train                                         out_dir    p  \\\n",
       "0               NaN            /scratch/users/vision/data/cosmo/sim  100   \n",
       "1              12.0   /scratch/users/vision/data/cosmo/sim/fft_unif  100   \n",
       "2              12.0        /scratch/users/vision/data/cosmo/sim/lda  100   \n",
       "3              12.0   /scratch/users/vision/data/cosmo/sim/lda_unif  100   \n",
       "4              12.0       /scratch/users/vision/data/cosmo/sim/nmf2  100   \n",
       "5              12.0   /scratch/users/vision/data/cosmo/sim/nmf_unif  100   \n",
       "6              12.0  /scratch/users/vision/data/cosmo/sim/nmf_unif2  100   \n",
       "\n",
       "                    pid                                              preds  \\\n",
       "0  66257609305319508671                                                NaN   \n",
       "1  86068516496196794951                                                NaN   \n",
       "2  08722341460397210112                                                NaN   \n",
       "3  49892183150043360236                                                NaN   \n",
       "4  37451272574898306406                                                NaN   \n",
       "5  07661681622171777799                                                NaN   \n",
       "6  15333344111662240097  [1, 0, 1, 1, 1, 1, 1, 1, 0, 0, 0, 0, 1, 1, 0, ...   \n",
       "\n",
       "  transform  window  \n",
       "0     irfft       0  \n",
       "1       fft       0  \n",
       "2     irfft       0  \n",
       "3       lda       0  \n",
       "4     irfft       0  \n",
       "5       nmf       0  \n",
       "6       nmf       0  "
      ]
     },
     "execution_count": 210,
     "metadata": {},
     "output_type": "execute_result"
    }
   ],
   "source": [
    "results.drop('results', axis=1)"
   ]
  },
  {
   "cell_type": "code",
   "execution_count": null,
   "metadata": {},
   "outputs": [],
   "source": []
  }
 ],
 "metadata": {
  "kernelspec": {
   "display_name": "Python 3",
   "language": "python",
   "name": "python3"
  },
  "language_info": {
   "codemirror_mode": {
    "name": "ipython",
    "version": 3
   },
   "file_extension": ".py",
   "mimetype": "text/x-python",
   "name": "python",
   "nbconvert_exporter": "python",
   "pygments_lexer": "ipython3",
   "version": "3.7.5"
  }
 },
 "nbformat": 4,
 "nbformat_minor": 4
}
