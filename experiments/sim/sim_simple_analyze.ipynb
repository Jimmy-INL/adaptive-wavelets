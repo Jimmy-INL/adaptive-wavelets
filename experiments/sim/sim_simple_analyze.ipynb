{
 "cells": [
  {
   "cell_type": "code",
   "execution_count": 19,
   "metadata": {},
   "outputs": [
    {
     "name": "stdout",
     "output_type": "stream",
     "text": [
      "The autoreload extension is already loaded. To reload it, use:\n",
      "  %reload_ext autoreload\n"
     ]
    }
   ],
   "source": [
    "%load_ext autoreload\n",
    "%autoreload 2\n",
    "%matplotlib inline\n",
    "import numpy as np\n",
    "import matplotlib.pyplot as plt\n",
    "import torch\n",
    "import random\n",
    "device = 'cuda' if torch.cuda.is_available() else 'cpu'\n",
    "from scipy.ndimage import gaussian_filter\n",
    "import sys\n",
    "from tqdm import tqdm\n",
    "from functools import partial\n",
    "import acd\n",
    "from copy import deepcopy\n",
    "sys.path.append('..')\n",
    "sys.path.append('../..')\n",
    "from os.path import join as oj\n",
    "from transforms_torch import bandpass_filter\n",
    "# plt.style.use('dark_background')\n",
    "sys.path.append('../../dsets/mnist')\n",
    "import dset\n",
    "from model import Net, Net2c\n",
    "from util import *\n",
    "from numpy.fft import *\n",
    "from torch import nn\n",
    "from random import randint\n",
    "from style import *\n",
    "from captum.attr import *\n",
    "import pickle as pkl\n",
    "from torchvision import datasets, transforms\n",
    "from sklearn.decomposition import NMF, LatentDirichletAllocation\n",
    "from transform_wrappers import *\n",
    "from sklearn.neural_network import MLPClassifier\n",
    "from sklearn.model_selection import train_test_split\n",
    "from skorch import NeuralNetClassifier\n",
    "import pandas as pd\n",
    "from models import FNN\n",
    "import attributions\n",
    "device = 'cuda'"
   ]
  },
  {
   "cell_type": "code",
   "execution_count": 20,
   "metadata": {},
   "outputs": [
    {
     "name": "stdout",
     "output_type": "stream",
     "text": [
      "['fft', 'fft_unif', 'identity', 'identity_unif']\n"
     ]
    }
   ],
   "source": [
    "out_dir = '/scratch/users/vision/data/cosmo/sim'\n",
    "dirs = sorted(os.listdir(out_dir))\n",
    "print(dirs)"
   ]
  },
  {
   "cell_type": "code",
   "execution_count": 21,
   "metadata": {},
   "outputs": [
    {
     "name": "stdout",
     "output_type": "stream",
     "text": [
      "0    0.95216\n",
      "1    0.87856\n",
      "2    0.97904\n",
      "3    0.97944\n",
      "Name: acc_test, dtype: float64\n"
     ]
    }
   ],
   "source": [
    "results_list = []\n",
    "for dirname in dirs:\n",
    "    fname = os.listdir(oj(out_dir, dirname))[0]\n",
    "    results_list.append(pkl.load(open(oj(out_dir, dirname, fname), 'rb')))\n",
    "results = pd.DataFrame(results_list)\n",
    "results.insert(0, 'dir', dirs)\n",
    "print(results.acc_test)"
   ]
  },
  {
   "cell_type": "code",
   "execution_count": null,
   "metadata": {},
   "outputs": [],
   "source": [
    "results"
   ]
  },
  {
   "cell_type": "code",
   "execution_count": 45,
   "metadata": {},
   "outputs": [],
   "source": [
    "# colors = [cb, cr, 'purple', 'green']\n",
    "R = results.shape[0]\n",
    "d = {'attr_method': [], 'errs': [], 'setting': []}\n",
    "for i in range(R):\n",
    "    row = results.iloc[i]\n",
    "    r = row['results']\n",
    "\n",
    "    accs = []\n",
    "    ks = sorted(r.keys())\n",
    "    for k in ks:\n",
    "        attrs = np.vstack(r[k])\n",
    "        args = np.argmax(attrs, axis=1)\n",
    "        num_correct = np.sum(args == row['idx_knockout'])\n",
    "        acc = num_correct / args.size\n",
    "        accs.append(num_correct / args.size)\n",
    "        d['attr_method'].append(k)\n",
    "        d['errs'].append(1 - acc)\n",
    "        d['setting'].append(row.dir)\n",
    "    '''\n",
    "    plt.figure(facecolor='white')\n",
    "    plt.title(f'{row.dir} {row.acc_test:.2f}')\n",
    "    plt.bar(ks, (1-np.array(accs)))\n",
    "    plt.ylabel('classification err')\n",
    "    plt.savefig(f'fig_sim_{row.dir}.pdf')\n",
    "    plt.show()\n",
    "    '''"
   ]
  },
  {
   "cell_type": "code",
   "execution_count": 46,
   "metadata": {},
   "outputs": [],
   "source": [
    "df = pd.DataFrame.from_dict(d)"
   ]
  },
  {
   "cell_type": "code",
   "execution_count": 49,
   "metadata": {},
   "outputs": [
    {
     "data": {
      "image/png": "[encoded data removed]",
      "text/plain": [
       "<Figure size 432x288 with 1 Axes>"
      ]
     },
     "metadata": {
      "needs_background": "light"
     },
     "output_type": "display_data"
    }
   ],
   "source": [
    "sns.barplot(x='setting', y='errs', hue='attr_method', data=df)\n",
    "plt.savefig('fig_sim.pdf')"
   ]
  },
  {
   "cell_type": "code",
   "execution_count": 32,
   "metadata": {},
   "outputs": [
    {
     "data": {
      "text/html": [
       "<div>\n",
       "<style scoped>\n",
       "    .dataframe tbody tr th:only-of-type {\n",
       "        vertical-align: middle;\n",
       "    }\n",
       "\n",
       "    .dataframe tbody tr th {\n",
       "        vertical-align: top;\n",
       "    }\n",
       "\n",
       "    .dataframe thead th {\n",
       "        text-align: right;\n",
       "    }\n",
       "</style>\n",
       "<table border=\"1\" class=\"dataframe\">\n",
       "  <thead>\n",
       "    <tr style=\"text-align: right;\">\n",
       "      <th></th>\n",
       "      <th>ks</th>\n",
       "      <th>accs</th>\n",
       "      <th>setting</th>\n",
       "    </tr>\n",
       "  </thead>\n",
       "  <tbody>\n",
       "    <tr>\n",
       "      <th>0</th>\n",
       "      <td>CD</td>\n",
       "      <td>0.9985</td>\n",
       "      <td>fft</td>\n",
       "    </tr>\n",
       "    <tr>\n",
       "      <th>1</th>\n",
       "      <td>DeepLift</td>\n",
       "      <td>0.9480</td>\n",
       "      <td>fft</td>\n",
       "    </tr>\n",
       "    <tr>\n",
       "      <th>2</th>\n",
       "      <td>IG</td>\n",
       "      <td>0.9240</td>\n",
       "      <td>fft</td>\n",
       "    </tr>\n",
       "    <tr>\n",
       "      <th>3</th>\n",
       "      <td>SHAP</td>\n",
       "      <td>0.9225</td>\n",
       "      <td>fft</td>\n",
       "    </tr>\n",
       "    <tr>\n",
       "      <th>4</th>\n",
       "      <td>CD</td>\n",
       "      <td>0.9760</td>\n",
       "      <td>fft_unif</td>\n",
       "    </tr>\n",
       "    <tr>\n",
       "      <th>5</th>\n",
       "      <td>DeepLift</td>\n",
       "      <td>0.5900</td>\n",
       "      <td>fft_unif</td>\n",
       "    </tr>\n",
       "    <tr>\n",
       "      <th>6</th>\n",
       "      <td>IG</td>\n",
       "      <td>0.5920</td>\n",
       "      <td>fft_unif</td>\n",
       "    </tr>\n",
       "    <tr>\n",
       "      <th>7</th>\n",
       "      <td>SHAP</td>\n",
       "      <td>0.5860</td>\n",
       "      <td>fft_unif</td>\n",
       "    </tr>\n",
       "    <tr>\n",
       "      <th>8</th>\n",
       "      <td>CD</td>\n",
       "      <td>0.4560</td>\n",
       "      <td>identity</td>\n",
       "    </tr>\n",
       "    <tr>\n",
       "      <th>9</th>\n",
       "      <td>DeepLift</td>\n",
       "      <td>0.4660</td>\n",
       "      <td>identity</td>\n",
       "    </tr>\n",
       "    <tr>\n",
       "      <th>10</th>\n",
       "      <td>IG</td>\n",
       "      <td>0.4680</td>\n",
       "      <td>identity</td>\n",
       "    </tr>\n",
       "    <tr>\n",
       "      <th>11</th>\n",
       "      <td>InputXGradient</td>\n",
       "      <td>0.4640</td>\n",
       "      <td>identity</td>\n",
       "    </tr>\n",
       "    <tr>\n",
       "      <th>12</th>\n",
       "      <td>SHAP</td>\n",
       "      <td>0.4680</td>\n",
       "      <td>identity</td>\n",
       "    </tr>\n",
       "    <tr>\n",
       "      <th>13</th>\n",
       "      <td>Saliency</td>\n",
       "      <td>1.0000</td>\n",
       "      <td>identity</td>\n",
       "    </tr>\n",
       "    <tr>\n",
       "      <th>14</th>\n",
       "      <td>CD</td>\n",
       "      <td>0.9880</td>\n",
       "      <td>identity_unif</td>\n",
       "    </tr>\n",
       "    <tr>\n",
       "      <th>15</th>\n",
       "      <td>DeepLift</td>\n",
       "      <td>0.9980</td>\n",
       "      <td>identity_unif</td>\n",
       "    </tr>\n",
       "    <tr>\n",
       "      <th>16</th>\n",
       "      <td>IG</td>\n",
       "      <td>1.0000</td>\n",
       "      <td>identity_unif</td>\n",
       "    </tr>\n",
       "    <tr>\n",
       "      <th>17</th>\n",
       "      <td>InputXGradient</td>\n",
       "      <td>0.9980</td>\n",
       "      <td>identity_unif</td>\n",
       "    </tr>\n",
       "    <tr>\n",
       "      <th>18</th>\n",
       "      <td>SHAP</td>\n",
       "      <td>1.0000</td>\n",
       "      <td>identity_unif</td>\n",
       "    </tr>\n",
       "    <tr>\n",
       "      <th>19</th>\n",
       "      <td>Saliency</td>\n",
       "      <td>1.0000</td>\n",
       "      <td>identity_unif</td>\n",
       "    </tr>\n",
       "  </tbody>\n",
       "</table>\n",
       "</div>"
      ],
      "text/plain": [
       "                ks    accs        setting\n",
       "0               CD  0.9985            fft\n",
       "1         DeepLift  0.9480            fft\n",
       "2               IG  0.9240            fft\n",
       "3             SHAP  0.9225            fft\n",
       "4               CD  0.9760       fft_unif\n",
       "5         DeepLift  0.5900       fft_unif\n",
       "6               IG  0.5920       fft_unif\n",
       "7             SHAP  0.5860       fft_unif\n",
       "8               CD  0.4560       identity\n",
       "9         DeepLift  0.4660       identity\n",
       "10              IG  0.4680       identity\n",
       "11  InputXGradient  0.4640       identity\n",
       "12            SHAP  0.4680       identity\n",
       "13        Saliency  1.0000       identity\n",
       "14              CD  0.9880  identity_unif\n",
       "15        DeepLift  0.9980  identity_unif\n",
       "16              IG  1.0000  identity_unif\n",
       "17  InputXGradient  0.9980  identity_unif\n",
       "18            SHAP  1.0000  identity_unif\n",
       "19        Saliency  1.0000  identity_unif"
      ]
     },
     "execution_count": 32,
     "metadata": {},
     "output_type": "execute_result"
    }
   ],
   "source": [
    "df"
   ]
  },
  {
   "cell_type": "code",
   "execution_count": 23,
   "metadata": {},
   "outputs": [
    {
     "name": "stdout",
     "output_type": "stream",
     "text": [
      "0.007021111023192843\n"
     ]
    }
   ],
   "source": [
    "prob = 0.948\n",
    "num = 1000\n",
    "print(np.sqrt(prob * (1-prob)) / np.sqrt(num))"
   ]
  },
  {
   "cell_type": "code",
   "execution_count": 172,
   "metadata": {},
   "outputs": [],
   "source": [
    "# d = scores.size\n",
    "# idxs = np.zeros(d).astype(bool)\n",
    "# idxs[idx_zero - window: idx_zero + window + 1] = 1\n",
    "# plt.plot(np.arange(d)[idxs], scores[idxs], 'o')\n",
    "# plt.plot(np.arange(d)[~idxs], scores[~idxs], 'o')\n",
    "# plt.show()"
   ]
  },
  {
   "cell_type": "code",
   "execution_count": 9,
   "metadata": {},
   "outputs": [
    {
     "name": "stdout",
     "output_type": "stream",
     "text": [
      "CD 0.996 1.0\n",
      "DeepLift 0.996 1.0\n",
      "IG 0.996 1.0\n",
      "SHAP 0.996 1.0\n"
     ]
    }
   ],
   "source": [
    "r = results[results.dir == 'nmf_unif2'].iloc[0]\n",
    "y = r.preds\n",
    "\n",
    "for key in r.results:\n",
    "    attrs = np.vstack(r.results[key].values)\n",
    "    attrs_pos = attrs[y==1]\n",
    "    attrs_neg = attrs[y==0]\n",
    "\n",
    "    acc = np.mean(np.argmax(attrs, axis=1) == 12)\n",
    "    acc_pos = np.mean(np.argmax(attrs_pos, axis=1) == 12)\n",
    "    print(key, acc, acc_pos)"
   ]
  },
  {
   "cell_type": "code",
   "execution_count": 209,
   "metadata": {},
   "outputs": [
    {
     "data": {
      "image/png": "[encoded data removed]",
      "text/plain": [
       "<Figure size 432x288 with 1 Axes>"
      ]
     },
     "metadata": {
      "needs_background": "light"
     },
     "output_type": "display_data"
    }
   ],
   "source": [
    "plt.plot(attrs_pos.T, alpha=0.01, color=cb)\n",
    "plt.plot(attrs_neg.T, alpha=0.01, color=cr)\n",
    "plt.show()"
   ]
  },
  {
   "cell_type": "markdown",
   "metadata": {},
   "source": [
    "# check that hyperparams are correct"
   ]
  },
  {
   "cell_type": "code",
   "execution_count": null,
   "metadata": {},
   "outputs": [],
   "source": [
    "results.drop('results', axis=1)"
   ]
  },
  {
   "cell_type": "markdown",
   "metadata": {},
   "source": [
    "# visualize bases"
   ]
  },
  {
   "cell_type": "code",
   "execution_count": null,
   "metadata": {},
   "outputs": [],
   "source": [
    "def viz_basis(D, R=5, C=6):\n",
    "    i = 0\n",
    "    vmin = np.min(D)\n",
    "    vmax = np.max(D)\n",
    "    plt.figure(figsize=(C * 3, R * 3), dpi=200)\n",
    "    for r in range(R):\n",
    "        for c in range(C):\n",
    "            plt.subplot(R, C, i + 1)\n",
    "            plt.plot(D[i]) #, vmin=vmin, vmax=vmax, cmap='viridis')\n",
    "            plt.axis('off')\n",
    "            i += 1\n",
    "    plt.tight_layout()\n",
    "    plt.show()"
   ]
  },
  {
   "cell_type": "code",
   "execution_count": null,
   "metadata": {},
   "outputs": [],
   "source": [
    "fname = 'lda_30_uniform.pkl'\n",
    "D = pkl.load(open(fname, 'rb')).components_\n",
    "viz_basis(D)"
   ]
  },
  {
   "cell_type": "code",
   "execution_count": null,
   "metadata": {},
   "outputs": [],
   "source": []
  }
 ],
 "metadata": {
  "kernelspec": {
   "display_name": "Python 3",
   "language": "python",
   "name": "python3"
  },
  "language_info": {
   "codemirror_mode": {
    "name": "ipython",
    "version": 3
   },
   "file_extension": ".py",
   "mimetype": "text/x-python",
   "name": "python",
   "nbconvert_exporter": "python",
   "pygments_lexer": "ipython3",
   "version": "3.7.5"
  }
 },
 "nbformat": 4,
 "nbformat_minor": 4
}
