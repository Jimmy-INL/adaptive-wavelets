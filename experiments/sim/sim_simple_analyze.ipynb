{
 "cells": [
  {
   "cell_type": "code",
   "execution_count": 104,
   "metadata": {},
   "outputs": [
    {
     "name": "stdout",
     "output_type": "stream",
     "text": [
      "The autoreload extension is already loaded. To reload it, use:\n",
      "  %reload_ext autoreload\n"
     ]
    }
   ],
   "source": [
    "%load_ext autoreload\n",
    "%autoreload 2\n",
    "%matplotlib inline\n",
    "import numpy as np\n",
    "import matplotlib.pyplot as plt\n",
    "import torch\n",
    "import random\n",
    "device = 'cuda' if torch.cuda.is_available() else 'cpu'\n",
    "from scipy.ndimage import gaussian_filter\n",
    "import sys\n",
    "from tqdm import tqdm\n",
    "from functools import partial\n",
    "import acd\n",
    "from copy import deepcopy\n",
    "sys.path.append('..')\n",
    "sys.path.append('../..')\n",
    "from os.path import join as oj\n",
    "from transforms_torch import bandpass_filter\n",
    "# plt.style.use('dark_background')\n",
    "sys.path.append('../../dsets/mnist')\n",
    "import dset\n",
    "from model import Net, Net2c\n",
    "from util import *\n",
    "from numpy.fft import *\n",
    "from torch import nn\n",
    "from random import randint\n",
    "from style import *\n",
    "from captum.attr import *\n",
    "import pickle as pkl\n",
    "from torchvision import datasets, transforms\n",
    "from sklearn.decomposition import NMF, LatentDirichletAllocation\n",
    "from transform_wrappers import *\n",
    "from sklearn.neural_network import MLPClassifier\n",
    "from sklearn.model_selection import train_test_split\n",
    "from skorch import NeuralNetClassifier\n",
    "import pandas as pd\n",
    "from models import FNN\n",
    "import attributions\n",
    "device = 'cuda'"
   ]
  },
  {
   "cell_type": "code",
   "execution_count": 105,
   "metadata": {},
   "outputs": [],
   "source": [
    "out_dir = '/scratch/users/vision/data/cosmo/sim'\n",
    "dirs = sorted(os.listdir(out_dir))"
   ]
  },
  {
   "cell_type": "code",
   "execution_count": 106,
   "metadata": {},
   "outputs": [],
   "source": [
    "results_list = []\n",
    "for dirname in dirs:\n",
    "    fname = os.listdir(oj(out_dir, dirname))[0]\n",
    "    results_list.append(pkl.load(open(oj(out_dir, dirname, fname), 'rb')))\n",
    "results = pd.DataFrame(results_list)\n",
    "results.insert(0, 'dir', dirs)"
   ]
  },
  {
   "cell_type": "code",
   "execution_count": 107,
   "metadata": {},
   "outputs": [
    {
     "data": {
      "text/html": [
       "<div>\n",
       "<style scoped>\n",
       "    .dataframe tbody tr th:only-of-type {\n",
       "        vertical-align: middle;\n",
       "    }\n",
       "\n",
       "    .dataframe tbody tr th {\n",
       "        vertical-align: top;\n",
       "    }\n",
       "\n",
       "    .dataframe thead th {\n",
       "        text-align: right;\n",
       "    }\n",
       "</style>\n",
       "<table border=\"1\" class=\"dataframe\">\n",
       "  <thead>\n",
       "    <tr style=\"text-align: right;\">\n",
       "      <th></th>\n",
       "      <th>dir</th>\n",
       "      <th>acc_test</th>\n",
       "      <th>data_distr</th>\n",
       "      <th>idx_knockout</th>\n",
       "      <th>lr</th>\n",
       "      <th>n</th>\n",
       "      <th>n_test</th>\n",
       "      <th>net</th>\n",
       "      <th>num_components</th>\n",
       "      <th>num_epochs_train</th>\n",
       "      <th>out_dir</th>\n",
       "      <th>p</th>\n",
       "      <th>pid</th>\n",
       "      <th>results</th>\n",
       "      <th>transform</th>\n",
       "      <th>window</th>\n",
       "    </tr>\n",
       "  </thead>\n",
       "  <tbody>\n",
       "    <tr>\n",
       "      <th>0</th>\n",
       "      <td>fft</td>\n",
       "      <td>0.95216</td>\n",
       "      <td>NaN</td>\n",
       "      <td>12</td>\n",
       "      <td>NaN</td>\n",
       "      <td>50000</td>\n",
       "      <td>2000</td>\n",
       "      <td>FNN(\\n  (fc1): Linear(in_features=100, out_fea...</td>\n",
       "      <td>NaN</td>\n",
       "      <td>NaN</td>\n",
       "      <td>/scratch/users/vision/data/cosmo/sim</td>\n",
       "      <td>100</td>\n",
       "      <td>66257609305319508671</td>\n",
       "      <td>...</td>\n",
       "      <td>irfft</td>\n",
       "      <td>0</td>\n",
       "    </tr>\n",
       "    <tr>\n",
       "      <th>1</th>\n",
       "      <td>fft_unif</td>\n",
       "      <td>0.87856</td>\n",
       "      <td>uniform</td>\n",
       "      <td>12</td>\n",
       "      <td>0.10</td>\n",
       "      <td>50000</td>\n",
       "      <td>500</td>\n",
       "      <td>FNN(\\n  (fc1): Linear(in_features=100, out_fea...</td>\n",
       "      <td>30.0</td>\n",
       "      <td>12.0</td>\n",
       "      <td>/scratch/users/vision/data/cosmo/sim/fft_unif</td>\n",
       "      <td>100</td>\n",
       "      <td>86068516496196794951</td>\n",
       "      <td>...</td>\n",
       "      <td>fft</td>\n",
       "      <td>0</td>\n",
       "    </tr>\n",
       "    <tr>\n",
       "      <th>2</th>\n",
       "      <td>lda</td>\n",
       "      <td>0.95888</td>\n",
       "      <td>NaN</td>\n",
       "      <td>12</td>\n",
       "      <td>0.01</td>\n",
       "      <td>50000</td>\n",
       "      <td>500</td>\n",
       "      <td>FNN(\\n  (fc1): Linear(in_features=100, out_fea...</td>\n",
       "      <td>30.0</td>\n",
       "      <td>12.0</td>\n",
       "      <td>/scratch/users/vision/data/cosmo/sim/lda</td>\n",
       "      <td>100</td>\n",
       "      <td>08722341460397210112</td>\n",
       "      <td>...</td>\n",
       "      <td>irfft</td>\n",
       "      <td>0</td>\n",
       "    </tr>\n",
       "    <tr>\n",
       "      <th>3</th>\n",
       "      <td>nmf2</td>\n",
       "      <td>0.94416</td>\n",
       "      <td>NaN</td>\n",
       "      <td>12</td>\n",
       "      <td>0.01</td>\n",
       "      <td>50000</td>\n",
       "      <td>500</td>\n",
       "      <td>FNN(\\n  (fc1): Linear(in_features=100, out_fea...</td>\n",
       "      <td>30.0</td>\n",
       "      <td>12.0</td>\n",
       "      <td>/scratch/users/vision/data/cosmo/sim/nmf2</td>\n",
       "      <td>100</td>\n",
       "      <td>37451272574898306406</td>\n",
       "      <td>...</td>\n",
       "      <td>irfft</td>\n",
       "      <td>0</td>\n",
       "    </tr>\n",
       "    <tr>\n",
       "      <th>4</th>\n",
       "      <td>nmf_unif</td>\n",
       "      <td>0.97232</td>\n",
       "      <td>uniform</td>\n",
       "      <td>12</td>\n",
       "      <td>0.01</td>\n",
       "      <td>50000</td>\n",
       "      <td>500</td>\n",
       "      <td>FNN(\\n  (fc1): Linear(in_features=100, out_fea...</td>\n",
       "      <td>30.0</td>\n",
       "      <td>12.0</td>\n",
       "      <td>/scratch/users/vision/data/cosmo/sim/nmf_unif</td>\n",
       "      <td>100</td>\n",
       "      <td>00333110602630352729</td>\n",
       "      <td>...</td>\n",
       "      <td>nmf</td>\n",
       "      <td>0</td>\n",
       "    </tr>\n",
       "  </tbody>\n",
       "</table>\n",
       "</div>"
      ],
      "text/plain": [
       "        dir  acc_test data_distr  idx_knockout    lr      n  n_test  \\\n",
       "0       fft   0.95216        NaN            12   NaN  50000    2000   \n",
       "1  fft_unif   0.87856    uniform            12  0.10  50000     500   \n",
       "2       lda   0.95888        NaN            12  0.01  50000     500   \n",
       "3      nmf2   0.94416        NaN            12  0.01  50000     500   \n",
       "4  nmf_unif   0.97232    uniform            12  0.01  50000     500   \n",
       "\n",
       "                                                 net  num_components  \\\n",
       "0  FNN(\\n  (fc1): Linear(in_features=100, out_fea...             NaN   \n",
       "1  FNN(\\n  (fc1): Linear(in_features=100, out_fea...            30.0   \n",
       "2  FNN(\\n  (fc1): Linear(in_features=100, out_fea...            30.0   \n",
       "3  FNN(\\n  (fc1): Linear(in_features=100, out_fea...            30.0   \n",
       "4  FNN(\\n  (fc1): Linear(in_features=100, out_fea...            30.0   \n",
       "\n",
       "   num_epochs_train                                        out_dir    p  \\\n",
       "0               NaN           /scratch/users/vision/data/cosmo/sim  100   \n",
       "1              12.0  /scratch/users/vision/data/cosmo/sim/fft_unif  100   \n",
       "2              12.0       /scratch/users/vision/data/cosmo/sim/lda  100   \n",
       "3              12.0      /scratch/users/vision/data/cosmo/sim/nmf2  100   \n",
       "4              12.0  /scratch/users/vision/data/cosmo/sim/nmf_unif  100   \n",
       "\n",
       "                    pid                                            results  \\\n",
       "0  66257609305319508671                                                ...   \n",
       "1  86068516496196794951                                                ...   \n",
       "2  08722341460397210112                                                ...   \n",
       "3  37451272574898306406                                                ...   \n",
       "4  00333110602630352729                                                ...   \n",
       "\n",
       "  transform  window  \n",
       "0     irfft       0  \n",
       "1       fft       0  \n",
       "2     irfft       0  \n",
       "3     irfft       0  \n",
       "4       nmf       0  "
      ]
     },
     "execution_count": 107,
     "metadata": {},
     "output_type": "execute_result"
    }
   ],
   "source": [
    "results"
   ]
  },
  {
   "cell_type": "code",
   "execution_count": 108,
   "metadata": {},
   "outputs": [
    {
     "data": {
      "image/png": "[encoded data removed]",
      "text/plain": [
       "<Figure size 432x288 with 1 Axes>"
      ]
     },
     "metadata": {},
     "output_type": "display_data"
    },
    {
     "data": {
      "image/png": "[encoded data removed]",
      "text/plain": [
       "<Figure size 432x288 with 1 Axes>"
      ]
     },
     "metadata": {
      "needs_background": "light"
     },
     "output_type": "display_data"
    },
    {
     "data": {
      "image/png": "[encoded data removed]",
      "text/plain": [
       "<Figure size 432x288 with 1 Axes>"
      ]
     },
     "metadata": {
      "needs_background": "light"
     },
     "output_type": "display_data"
    }
   ],
   "source": [
    "colors = [cb, cr, 'purple', 'green']\n",
    "plt.figure(facecolor='white')\n",
    "\n",
    "R = 3\n",
    "for i in range(R):\n",
    "    row = results.iloc[i]\n",
    "    r = row['results']\n",
    "\n",
    "    accs = []\n",
    "    ks = sorted(r.keys())\n",
    "    for k in ks:\n",
    "        vals = np.vstack(r[k])\n",
    "        args = np.argmax(vals, axis=1)\n",
    "        num_correct = np.sum(args == row['idx_knockout'])\n",
    "        accs.append(num_correct / vals.shape[0])\n",
    "        \n",
    "    plt.title(row.dir)\n",
    "    plt.bar(ks, (1-np.array(accs)) * 100)\n",
    "    plt.ylabel('classification err (%)')\n",
    "    plt.show()"
   ]
  },
  {
   "cell_type": "code",
   "execution_count": 25,
   "metadata": {},
   "outputs": [
    {
     "name": "stdout",
     "output_type": "stream",
     "text": [
      "0.007021111023192843\n"
     ]
    }
   ],
   "source": [
    "prob = 0.948\n",
    "num = 1000\n",
    "print(np.sqrt(prob * (1-prob)) / np.sqrt(num))"
   ]
  },
  {
   "cell_type": "code",
   "execution_count": 26,
   "metadata": {},
   "outputs": [],
   "source": [
    "# d = scores.size\n",
    "# idxs = np.zeros(d).astype(bool)\n",
    "# idxs[idx_zero - window: idx_zero + window + 1] = 1\n",
    "# plt.plot(np.arange(d)[idxs], scores[idxs], 'o')\n",
    "# plt.plot(np.arange(d)[~idxs], scores[~idxs], 'o')\n",
    "# plt.show()"
   ]
  }
 ],
 "metadata": {
  "kernelspec": {
   "display_name": "Python 3",
   "language": "python",
   "name": "python3"
  },
  "language_info": {
   "codemirror_mode": {
    "name": "ipython",
    "version": 3
   },
   "file_extension": ".py",
   "mimetype": "text/x-python",
   "name": "python",
   "nbconvert_exporter": "python",
   "pygments_lexer": "ipython3",
   "version": "3.7.5"
  }
 },
 "nbformat": 4,
 "nbformat_minor": 4
}
