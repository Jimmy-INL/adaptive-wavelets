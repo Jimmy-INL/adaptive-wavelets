{
 "cells": [
  {
   "cell_type": "code",
   "execution_count": 1,
   "metadata": {},
   "outputs": [],
   "source": [
    "import numpy as np\n",
    "import pickle as pkl\n",
    "import pandas as pd\n",
    "import seaborn as sns\n",
    "import matplotlib.pyplot as plt\n",
    "from os.path import join as oj"
   ]
  },
  {
   "cell_type": "code",
   "execution_count": 2,
   "metadata": {},
   "outputs": [
    {
     "data": {
      "text/plain": [
       "{0: 'air conditioner',\n",
       " 1: 'car horn',\n",
       " 2: 'children playing',\n",
       " 3: 'dog bark',\n",
       " 4: 'drilling',\n",
       " 5: 'engine idling',\n",
       " 6: 'gun shot',\n",
       " 7: 'jackhammer',\n",
       " 8: 'siren',\n",
       " 9: 'street music'}"
      ]
     },
     "execution_count": 2,
     "metadata": {},
     "output_type": "execute_result"
    }
   ],
   "source": [
    "data_dir = '/scratch/users/vision/data/cosmo/UrbanSound8K'\n",
    "out_dir = '/scratch/users/vision/data/cosmo/audio_models'\n",
    "results = pkl.load(open(oj(out_dir, 'audio_ig_correct.pkl'), 'rb'))\n",
    "\n",
    "csv_path = oj(data_dir, 'metadata/UrbanSound8K.csv')\n",
    "csvData = pd.read_csv(oj(data_dir, 'metadata/UrbanSound8K.csv'))\n",
    "class_dict = {k: csvData[csvData.classID==k].iloc[0]['class'].replace('_', ' ') for k in range(10)}\n",
    "class_dict"
   ]
  },
  {
   "cell_type": "code",
   "execution_count": 44,
   "metadata": {},
   "outputs": [],
   "source": [
    "out = np.zeros((10, 16001))\n",
    "for i in range(10):\n",
    "    out[i] = np.fft.ifftshift(np.array(results[i]).mean(axis=0))\n",
    "out = out[:, :16000] # drop the last column\n",
    "# plt.plot()"
   ]
  },
  {
   "cell_type": "markdown",
   "metadata": {},
   "source": [
    "The audio is downsampled to 8kHz. Each example has 32,000 samples. Before saving, we call fftshift (in `util.to_freq`)."
   ]
  },
  {
   "cell_type": "code",
   "execution_count": 45,
   "metadata": {},
   "outputs": [],
   "source": [
    "freqs = np.fft.fftfreq(n=32000, d=1/8000)[:16000]"
   ]
  },
  {
   "cell_type": "code",
   "execution_count": 46,
   "metadata": {},
   "outputs": [
    {
     "data": {
      "text/plain": [
       "[<matplotlib.lines.Line2D at 0x7ff6efe23d10>]"
      ]
     },
     "execution_count": 46,
     "metadata": {},
     "output_type": "execute_result"
    },
    {
     "data": {
      "image/png": "[encoded data removed]",
      "text/plain": [
       "<Figure size 432x288 with 1 Axes>"
      ]
     },
     "metadata": {
      "needs_background": "light"
     },
     "output_type": "display_data"
    }
   ],
   "source": [
    "plt.plot(freqs)"
   ]
  },
  {
   "cell_type": "code",
   "execution_count": null,
   "metadata": {},
   "outputs": [],
   "source": [
    "R, C = 10, 1\n",
    "fig = plt.figure(dpi=200, figsize=(6, 9))\n",
    "vmax = np.max(out)\n",
    "vmin = np.min(out)\n",
    "for r in range(R):\n",
    "    ax = plt.subplot(R, C, r + 1)\n",
    "    plt.plot(freqs, out[r])\n",
    "    ax.patch.set_visible(False)\n",
    "#     plt.title(class_dict[r], loc='right', verticalalignment='top')\n",
    "    ax.text(0.95, 0.5, class_dict[r], transform=ax.transAxes, ha='right')\n",
    "   \n",
    "    if r < R - 1:\n",
    "        plt.axis('off')\n",
    "    else:\n",
    "        ax.spines['top'].set_visible(False)\n",
    "        ax.spines['right'].set_visible(False)\n",
    "        ax.spines['left'].set_visible(False)\n",
    "        ax.get_yaxis().set_visible(False)\n",
    "    plt.xlabel('Frequency (Hz)', fontsize=13)\n",
    "fig.text(0.04, 0.5, 'Importance (Integrated gradients)', va='center', rotation='vertical', fontsize=13)\n",
    "plt.subplots_adjust(hspace=0)\n",
    "plt.savefig('fig_audio.pdf')\n",
    "# plt.tight_layout()\n",
    "plt.show()\n",
    "#         plt.axis('off')\n",
    "#     plt.ylim((vmin, vmax))\n",
    "#     plt.yscale('log')"
   ]
  }
 ],
 "metadata": {
  "kernelspec": {
   "display_name": "Python 3",
   "language": "python",
   "name": "python3"
  },
  "language_info": {
   "codemirror_mode": {
    "name": "ipython",
    "version": 3
   },
   "file_extension": ".py",
   "mimetype": "text/x-python",
   "name": "python",
   "nbconvert_exporter": "python",
   "pygments_lexer": "ipython3",
   "version": "3.7.5"
  }
 },
 "nbformat": 4,
 "nbformat_minor": 4
}
