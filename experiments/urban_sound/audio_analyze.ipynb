{
 "cells": [
  {
   "cell_type": "code",
   "execution_count": 113,
   "metadata": {},
   "outputs": [],
   "source": [
    "import numpy as np\n",
    "import pickle as pkl\n",
    "import pandas as pd\n",
    "import seaborn as sns\n",
    "import matplotlib.pyplot as plt\n",
    "from os.path import join as oj"
   ]
  },
  {
   "cell_type": "code",
   "execution_count": 114,
   "metadata": {},
   "outputs": [
    {
     "data": {
      "text/plain": [
       "{0: 'air conditioner',\n",
       " 1: 'car horn',\n",
       " 2: 'children playing',\n",
       " 3: 'dog bark',\n",
       " 4: 'drilling',\n",
       " 5: 'engine idling',\n",
       " 6: 'gun shot',\n",
       " 7: 'jackhammer',\n",
       " 8: 'siren',\n",
       " 9: 'street music'}"
      ]
     },
     "execution_count": 114,
     "metadata": {},
     "output_type": "execute_result"
    }
   ],
   "source": [
    "data_dir = '/scratch/users/vision/data/cosmo/UrbanSound8K'\n",
    "out_dir = '/scratch/users/vision/data/cosmo/audio_models'\n",
    "results = pkl.load(open(oj(out_dir, 'audio_ig_correct.pkl'), 'rb'))\n",
    "\n",
    "csv_path = oj(data_dir, 'metadata/UrbanSound8K.csv')\n",
    "csvData = pd.read_csv(oj(data_dir, 'metadata/UrbanSound8K.csv'))\n",
    "class_dict = {k: csvData[csvData.classID==k].iloc[0]['class'].replace('_', ' ') for k in range(10)}\n",
    "class_dict"
   ]
  },
  {
   "cell_type": "code",
   "execution_count": 115,
   "metadata": {},
   "outputs": [],
   "source": [
    "out = np.zeros((10, 16001))\n",
    "for i in range(10):\n",
    "    out[i] = np.array(results[i]).mean(axis=0)\n",
    "# plt.plot()"
   ]
  },
  {
   "cell_type": "code",
   "execution_count": null,
   "metadata": {},
   "outputs": [],
   "source": [
    "R, C = 10, 1\n",
    "fig = plt.figure(dpi=200, figsize=(6, 9))\n",
    "vmax = np.max(out)\n",
    "vmin = np.min(out)\n",
    "for r in range(R):\n",
    "    ax = plt.subplot(R, C, r + 1)\n",
    "    plt.plot(out[r])\n",
    "    ax.patch.set_visible(False)\n",
    "#     plt.title(class_dict[r], loc='right', verticalalignment='top')\n",
    "    ax.text(0.8, 0.5, class_dict[r], transform=ax.transAxes)\n",
    "   \n",
    "    if r < R - 1:\n",
    "        plt.axis('off')\n",
    "    else:\n",
    "        ax.spines['top'].set_visible(False)\n",
    "        ax.spines['right'].set_visible(False)\n",
    "        ax.spines['left'].set_visible(False)\n",
    "        ax.get_yaxis().set_visible(False)\n",
    "    plt.xlabel('Frequency', fontsize=13)\n",
    "fig.text(0.04, 0.5, 'Importance', va='center', rotation='vertical', fontsize=13)\n",
    "plt.subplots_adjust(hspace=0)\n",
    "plt.savefig('fig_audio.pdf')\n",
    "plt.tight_layout()\n",
    "plt.show()\n",
    "#         plt.axis('off')\n",
    "#     plt.ylim((vmin, vmax))\n",
    "#     plt.yscale('log')"
   ]
  },
  {
   "cell_type": "code",
   "execution_count": null,
   "metadata": {},
   "outputs": [],
   "source": []
  }
 ],
 "metadata": {
  "kernelspec": {
   "display_name": "Python 3",
   "language": "python",
   "name": "python3"
  },
  "language_info": {
   "codemirror_mode": {
    "name": "ipython",
    "version": 3
   },
   "file_extension": ".py",
   "mimetype": "text/x-python",
   "name": "python",
   "nbconvert_exporter": "python",
   "pygments_lexer": "ipython3",
   "version": "3.7.5"
  }
 },
 "nbformat": 4,
 "nbformat_minor": 4
}
