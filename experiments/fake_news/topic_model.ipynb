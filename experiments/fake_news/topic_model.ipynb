{
 "cells": [
  {
   "cell_type": "code",
   "execution_count": 10,
   "metadata": {},
   "outputs": [],
   "source": [
    "%matplotlib inline\n",
    "import numpy as np\n",
    "import pandas as pd\n",
    "import matplotlib.pyplot as plt\n",
    "from sklearn.model_selection import train_test_split\n",
    "from sklearn.feature_extraction.text import CountVectorizer, TfidfVectorizer\n",
    "from sklearn.decomposition import NMF, LatentDirichletAllocation\n",
    "import pickle as pkl"
   ]
  },
  {
   "cell_type": "markdown",
   "metadata": {},
   "source": [
    "### Import data"
   ]
  },
  {
   "cell_type": "code",
   "execution_count": 2,
   "metadata": {},
   "outputs": [],
   "source": [
    "data_dir_path = './data'\n",
    "\n",
    "# Import `fake_or_real_news.csv`\n",
    "df = pd.read_csv(data_dir_path + \"/fake_or_real_news.csv\")\n",
    "\n",
    "# Set `y`\n",
    "y = df.label\n",
    "\n",
    "# Make training and test sets\n",
    "X_train, X_test, y_train, y_test = train_test_split(df['text'], y, test_size=0.33, random_state=53)"
   ]
  },
  {
   "cell_type": "code",
   "execution_count": 6,
   "metadata": {},
   "outputs": [],
   "source": [
    "# LDA can only use raw term counts for LDA because it is a probabilistic graphical model\n",
    "count_vectorizer = CountVectorizer(max_df=0.95, min_df=2, stop_words='english')\n",
    "\n",
    "# Fit and transform the training and test data\n",
    "count_train = count_vectorizer.fit_transform(X_train)\n",
    "count_test = count_vectorizer.transform(X_test)\n",
    "\n",
    "feature_names = count_vectorizer.get_feature_names()"
   ]
  },
  {
   "cell_type": "markdown",
   "metadata": {},
   "source": [
    "# run lda"
   ]
  },
  {
   "cell_type": "code",
   "execution_count": 12,
   "metadata": {},
   "outputs": [
    {
     "name": "stdout",
     "output_type": "stream",
     "text": [
      "(10, 33179)\n",
      "Topic 0:\n",
      "clinton hillary fbi said emails president obama state department email\n",
      "Topic 1:\n",
      "people just world like new percent time years health year\n",
      "Topic 2:\n",
      "war russia military syria said russian government isis state world\n",
      "Topic 3:\n",
      "clinton said trump sanders campaign obama republican party democratic new\n",
      "Topic 4:\n",
      "bush rubio cruz republican political debate party trump said candidates\n",
      "Topic 5:\n",
      "said house court israel state marriage religious boehner congress ryan\n",
      "Topic 6:\n",
      "women saudi iran people states drug year veterans government war\n",
      "Topic 7:\n",
      "said police people black told just year law day man\n",
      "Topic 8:\n",
      "com obama infowars force http brain www text retired new\n",
      "Topic 9:\n",
      "trump clinton people hillary donald election like american just president\n"
     ]
    }
   ],
   "source": [
    "def display_topics(model, feature_names, num_top_words):\n",
    "    for topic_idx, topic in enumerate(model.components_):\n",
    "        print(\"Topic %d:\" % (topic_idx))\n",
    "        print(\" \".join([feature_names[i] for i in topic.argsort()[:-num_top_words - 1:-1]]))\n",
    "\n",
    "\n",
    "\n",
    "# Run LDA\n",
    "num_topics = 10\n",
    "# lda = LatentDirichletAllocation(n_components=num_topics, random_state=42).fit(count_train)\n",
    "# pkl.dump(lda, open('lda_10.pkl', 'wb'))\n",
    "lda = pkl.load(open('lda_10.pkl', 'rb'))\n",
    "print(lda.components_.shape)\n",
    "\n",
    "# display        \n",
    "num_top_words = 10\n",
    "display_topics(lda, feature_names, num_top_words)        "
   ]
  },
  {
   "cell_type": "markdown",
   "metadata": {},
   "source": [
    "# load classifier"
   ]
  },
  {
   "cell_type": "code",
   "execution_count": null,
   "metadata": {},
   "outputs": [
    {
     "name": "stdout",
     "output_type": "stream",
     "text": [
      "loading csv file ...\n"
     ]
    }
   ],
   "source": [
    "from sklearn import metrics\n",
    "import pandas as pd\n",
    "from sklearn.model_selection import train_test_split\n",
    "from keras_fake_news_detector.library.classifiers.feedforward_networks import GloveFeedforwardNet\n",
    "import numpy as np\n",
    "\n",
    "\n",
    "\n",
    "np.random.seed(42)\n",
    "data_dir_path = './data'\n",
    "very_large_data_dir_path = './very_large_data'\n",
    "model_dir_path = './models'\n",
    "config_file_path = model_dir_path + '/' + GloveFeedforwardNet.model_name + '-config.npy'\n",
    "weight_file_path = model_dir_path + '/' + GloveFeedforwardNet.model_name + '-weights.h5'\n",
    "\n",
    "print('loading csv file ...')\n",
    "\n",
    "# Import `fake_or_real_news.csv`\n",
    "df = pd.read_csv(data_dir_path + \"/fake_or_real_news.csv\")\n",
    "\n",
    "# Set `y`\n",
    "Y = [1 if label == 'REAL' else 0 for label in df.label]\n",
    "# Drop the `label` column\n",
    "df.drop(\"label\", axis=1)\n",
    "\n",
    "X = df['text']\n",
    "\n",
    "config = np.load(config_file_path, allow_pickle=True).item()\n",
    "\n",
    "classifier = GloveFeedforwardNet(config)\n",
    "classifier.load_weights(weight_file_path)\n",
    "classifier.load_glove(very_large_data_dir_path)\n",
    "\n",
    "Xtrain, Xtest, Ytrain, Ytest = train_test_split(X, Y, test_size=0.2, random_state=42)\n",
    "\n",
    "print('testing size: ', len(Xtest))\n",
    "\n",
    "print('start predicting ...')\n",
    "pred = classifier.predict(Xtest)\n",
    "print(pred)\n",
    "score = metrics.accuracy_score(Ytest, pred)\n",
    "print(\"accuracy:   %0.3f\" % score)"
   ]
  },
  {
   "cell_type": "code",
   "execution_count": null,
   "metadata": {},
   "outputs": [],
   "source": []
  }
 ],
 "metadata": {
  "kernelspec": {
   "display_name": "Python 3",
   "language": "python",
   "name": "python3"
  },
  "language_info": {
   "codemirror_mode": {
    "name": "ipython",
    "version": 3
   },
   "file_extension": ".py",
   "mimetype": "text/x-python",
   "name": "python",
   "nbconvert_exporter": "python",
   "pygments_lexer": "ipython3",
   "version": "3.7.5"
  }
 },
 "nbformat": 4,
 "nbformat_minor": 4
}
