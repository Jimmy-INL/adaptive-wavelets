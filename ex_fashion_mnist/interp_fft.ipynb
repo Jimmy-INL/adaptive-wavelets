{
 "cells": [
  {
   "cell_type": "code",
   "execution_count": 1,
   "metadata": {},
   "outputs": [],
   "source": [
    "%load_ext autoreload\n",
    "%autoreload 2\n",
    "%matplotlib inline\n",
    "import matplotlib.pyplot as plt\n",
    "import numpy as np\n",
    "import torch\n",
    "import random\n",
    "device = 'cuda' if torch.cuda.is_available() else 'cpu'\n",
    "import os,sys\n",
    "opj = os.path.join\n",
    "from tqdm import tqdm\n",
    "import acd\n",
    "from copy import deepcopy\n",
    "from model_fashion_mnist import Net, Net2c\n",
    "import dset_fashion_mnist as dset\n",
    "sys.path.append('../trim')\n",
    "from transforms_torch import transform_bandpass, tensor_t_augment, batch_fftshift2d, batch_ifftshift2d\n",
    "from trim import *\n",
    "from util import *\n",
    "from attributions import *\n",
    "from captum.attr import *\n",
    "import warnings\n",
    "warnings.filterwarnings(\"ignore\")"
   ]
  },
  {
   "cell_type": "code",
   "execution_count": 2,
   "metadata": {},
   "outputs": [],
   "source": [
    "# set args\n",
    "args = dset.get_args()\n",
    "args.cuda = \"True\"\n",
    "args.epochs = 100\n",
    "\n",
    "# load fashion-mnist dataset\n",
    "train_loader, test_loader = dset.load_data(args.batch_size, 1, device)\n",
    "\n",
    "# model\n",
    "model = Net().to(device)\n",
    "model.load_state_dict(torch.load('./fashion-mnist.model.pth', map_location=device))\n",
    "model = model.eval().to(device)\n",
    "# dset.test(model, test_loader, args)"
   ]
  },
  {
   "cell_type": "code",
   "execution_count": 3,
   "metadata": {},
   "outputs": [],
   "source": [
    "# FFT\n",
    "t = lambda x: torch.fft(torch.stack((x, torch.zeros_like(x)),dim=4), 2)\n",
    "transform_i = modularize(lambda x: torch.ifft(x, 2)[...,0])\n",
    "band_center = 0.5\n",
    "band_width_lower = 0.0\n",
    "band_width_upper = np.Inf\n",
    "transformer = lambda x: transform_bandpass(x, band_center, band_width_lower, band_width_upper)\n",
    "\n",
    "# prepend transformation\n",
    "model_t = TrimModel(model, transform_i)"
   ]
  },
  {
   "cell_type": "markdown",
   "metadata": {},
   "source": [
    "## attributions on the low- and high-frequency\n"
   ]
  },
  {
   "cell_type": "code",
   "execution_count": 4,
   "metadata": {},
   "outputs": [],
   "source": [
    "# mask band\n",
    "mask = 1 - freq_band(28, band_center, band_width_lower, band_width_upper)\n",
    "scores = {\n",
    "    'IG': [],\n",
    "    'DeepLift': [],\n",
    "    'SHAP': [],\n",
    "    'CD': [],\n",
    "    'InputXGradient': []\n",
    "}\n",
    "attr_methods = ['IG', 'DeepLift', 'SHAP', 'CD', 'InputXGradient']"
   ]
  },
  {
   "cell_type": "code",
   "execution_count": null,
   "metadata": {},
   "outputs": [
    {
     "name": "stdout",
     "output_type": "stream",
     "text": [
      "iteration: 2130"
     ]
    }
   ],
   "source": [
    "for idx, (im, target) in enumerate(test_loader):\n",
    "    im = im.to(device)\n",
    "    im_t = t(im)\n",
    "    target = target.item()\n",
    "    \n",
    "    # attr\n",
    "    results = get_attributions(im_t, model_t, class_num=target)  \n",
    "    for i, name in enumerate(attr_methods):\n",
    "        low_attr = np.sum(fftshift(results[name]) * mask)\n",
    "        high_attr = np.sum(fftshift(results[name]) * (1-mask))\n",
    "        scores[name].append(np.array([low_attr, high_attr])) \n",
    "\n",
    "    print('\\riteration:', idx, end='')\n",
    "    if idx % 100 == 0:\n",
    "        pkl.dump(scores, open('scores.pkl', 'wb'))"
   ]
  },
  {
   "cell_type": "code",
   "execution_count": null,
   "metadata": {},
   "outputs": [],
   "source": [
    "scores['IG'] = np.array(scores['IG'])\n",
    "scores['DeepLift'] = np.array(scores['DeepLift'])\n",
    "scores['SHAP'] = np.array(scores['SHAP'])\n",
    "scores['CD'] = np.array(scores['CD'])\n",
    "scores['InputXGradient'] = np.array(scores['InputXGradient'])        "
   ]
  },
  {
   "cell_type": "code",
   "execution_count": null,
   "metadata": {},
   "outputs": [],
   "source": [
    "scores"
   ]
  },
  {
   "cell_type": "code",
   "execution_count": null,
   "metadata": {},
   "outputs": [],
   "source": []
  }
 ],
 "metadata": {
  "kernelspec": {
   "display_name": "Environment (conda_pytorch_p36)",
   "language": "python",
   "name": "conda_pytorch_p36"
  },
  "language_info": {
   "codemirror_mode": {
    "name": "ipython",
    "version": 3
   },
   "file_extension": ".py",
   "mimetype": "text/x-python",
   "name": "python",
   "nbconvert_exporter": "python",
   "pygments_lexer": "ipython3",
   "version": "3.6.7"
  }
 },
 "nbformat": 4,
 "nbformat_minor": 2
}
