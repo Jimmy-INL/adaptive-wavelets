{
 "cells": [
  {
   "cell_type": "code",
   "execution_count": 1,
   "metadata": {},
   "outputs": [],
   "source": [
    "%load_ext autoreload\n",
    "%autoreload 2\n",
    "%matplotlib inline\n",
    "import matplotlib.pyplot as plt\n",
    "import numpy as np\n",
    "import torch\n",
    "import random\n",
    "device = 'cuda' if torch.cuda.is_available() else 'cpu'\n",
    "import os,sys\n",
    "opj = os.path.join\n",
    "from tqdm import tqdm\n",
    "import acd\n",
    "from copy import deepcopy\n",
    "from model_fashion_mnist import Net, Net2c, FashionCNN\n",
    "from visualize import *\n",
    "import dset_fashion_mnist as dset\n",
    "import foolbox\n",
    "sys.path.append('../trim')\n",
    "from transforms_torch import transform_bandpass, tensor_t_augment, batch_fftshift2d, batch_ifftshift2d\n",
    "from trim import *\n",
    "from util import *\n",
    "from attributions import *\n",
    "from captum.attr import *\n",
    "import warnings\n",
    "warnings.filterwarnings(\"ignore\")"
   ]
  },
  {
   "cell_type": "code",
   "execution_count": 2,
   "metadata": {},
   "outputs": [
    {
     "name": "stdout",
     "output_type": "stream",
     "text": [
      "\n",
      "Test set: Average loss: -47.7807, Accuracy: 9032/10000 (90.32%)\n",
      "\n"
     ]
    }
   ],
   "source": [
    "# set args\n",
    "args = dset.get_args()\n",
    "args.cuda = \"True\"\n",
    "args.test_batch_size = 150\n",
    "\n",
    "# load fashion-mnist dataset\n",
    "train_loader, test_loader = dset.load_data(args.batch_size, args.test_batch_size, device)\n",
    "\n",
    "# model\n",
    "model = FashionCNN().to(device)\n",
    "model.load_state_dict(torch.load('./fashion-mnist.model.pth', map_location=device))\n",
    "model = model.eval().to(device)\n",
    "dset.test(model, test_loader, args)"
   ]
  },
  {
   "cell_type": "code",
   "execution_count": 3,
   "metadata": {},
   "outputs": [
    {
     "name": "stdout",
     "output_type": "stream",
     "text": [
      "0.92\n",
      "0.0\n",
      "0.0e+00, 2.9e-02, inf\n",
      "6 of 150 attacks failed\n",
      "12 of 150 inputs misclassified without perturbation\n"
     ]
    }
   ],
   "source": [
    "# foolbox model\n",
    "preprocessing = dict(mean=[0,], std=[1,], axis=-3)\n",
    "fmodel = foolbox.models.PyTorchModel(model, bounds=(0, 1), num_classes=10, preprocessing=preprocessing)\n",
    "\n",
    "# get a batch of images and labels and print the accuracy\n",
    "images, labels = iter(test_loader).next()\n",
    "images = images.numpy()\n",
    "labels = labels.numpy()\n",
    "print(np.mean(fmodel.forward(images).argmax(axis=-1) == labels))\n",
    "\n",
    "# apply the attack\n",
    "attack = foolbox.attacks.FGSM(fmodel)\n",
    "im_adversarials = attack(images, labels)\n",
    "# if the i'th image is misclassfied without a perturbation, then adversarials[i] will be the same as images[i]\n",
    "# if the attack fails to find an adversarial for the i'th image, then adversarials[i] will all be np.nan\n",
    "# Foolbox guarantees that all returned adversarials are in fact in adversarials\n",
    "print(np.mean(fmodel.forward(im_adversarials).argmax(axis=-1) == labels))\n",
    "\n",
    "# # You can always get the actual adversarial class that was observed for that sample by Foolbox by\n",
    "# # passing `unpack=False` to get the actual `Adversarial` objects:\n",
    "attack = foolbox.attacks.FGSM(fmodel, distance=foolbox.distances.Linf)\n",
    "adversarials = attack(images, labels, unpack=False)\n",
    "\n",
    "adversarial_classes = np.asarray([a.adversarial_class for a in adversarials])\n",
    "# print(labels)\n",
    "# print(adversarial_classes)\n",
    "# print(np.mean(adversarial_classes == labels))  # will always be 0.0\n",
    "\n",
    "# The `Adversarial` objects also provide a `distance` attribute. Note that the distances\n",
    "# can be 0 (misclassified without perturbation) and inf (attack failed).\n",
    "distances = np.asarray([a.distance.value for a in adversarials])\n",
    "print(\"{:.1e}, {:.1e}, {:.1e}\".format(distances.min(), np.median(distances), distances.max()))\n",
    "print(\"{} of {} attacks failed\".format(sum(adv.distance.value == np.inf for adv in adversarials), len(adversarials)))\n",
    "print(\"{} of {} inputs misclassified without perturbation\".format(sum(adv.distance.value == 0 for adv in adversarials), len(adversarials)))"
   ]
  },
  {
   "cell_type": "code",
   "execution_count": 4,
   "metadata": {},
   "outputs": [
    {
     "data": {
      "image/png": "[encoded data removed]",
      "text/plain": [
       "<Figure size 720x720 with 2 Axes>"
      ]
     },
     "metadata": {},
     "output_type": "display_data"
    },
    {
     "name": "stdout",
     "output_type": "stream",
     "text": [
      "True and perturbed labels:  Coat Shirt\n"
     ]
    }
   ],
   "source": [
    "# index with minimum dist to orig. image while perturbation suceed\n",
    "min_idx = np.where(distances == np.min(distances[np.nonzero(distances)]))[0][0]\n",
    "im = images[min_idx]\n",
    "im_a = im_adversarials[min_idx]\n",
    "viz_im_a(im.squeeze(), im_a.squeeze())\n",
    "print('True and perturbed labels: ', dset.output_label(labels[min_idx]), dset.output_label(adversarial_classes[min_idx]))"
   ]
  },
  {
   "cell_type": "markdown",
   "metadata": {},
   "source": [
    "## Interpret adversarial images"
   ]
  },
  {
   "cell_type": "code",
   "execution_count": 5,
   "metadata": {},
   "outputs": [],
   "source": [
    "# FFT\n",
    "t = lambda x: torch.fft(torch.stack((x, torch.zeros_like(x)),dim=4), 2)\n",
    "transform_i = modularize(lambda x: torch.ifft(x, 2)[...,0])\n",
    "\n",
    "# prepend transformation\n",
    "model = model.to(device)\n",
    "model_t = TrimModel(model, transform_i)\n",
    "\n",
    "# interp methods\n",
    "attr_methods = ['IG', 'DeepLift', 'SHAP', 'InputXGradient']\n",
    "\n",
    "# band center and width\n",
    "band_centers = list(np.arange(1, 40) * 0.025)\n",
    "band_width_lower = 0.025\n",
    "band_width_upper = 0.025\n",
    "\n",
    "# indexes\n",
    "idx_adv = np.logical_and(distances > 0, distances < np.inf)\n",
    "idx_fail = distances == np.inf"
   ]
  },
  {
   "cell_type": "markdown",
   "metadata": {},
   "source": [
    "\n",
    "#### images that succeed adversarial attack"
   ]
  },
  {
   "cell_type": "code",
   "execution_count": 6,
   "metadata": {},
   "outputs": [],
   "source": [
    "im_scores = {}\n",
    "im = torch.from_numpy(images[idx_adv]).to(device)\n",
    "im_t = t(im)\n",
    "target = torch.from_numpy(labels[idx_adv]).to(device)\n",
    "scores = {\n",
    "    'IG': [],\n",
    "    'DeepLift': [],\n",
    "    'SHAP': [],\n",
    "    'InputXGradient': []\n",
    "}  \n",
    "# attr\n",
    "results = get_attributions(im_t, model_t, class_num=target, attr_methods=attr_methods, device=device)\n",
    "for name in attr_methods:\n",
    "    im_scores[name] = results[name].reshape(-1,28*28).T"
   ]
  },
  {
   "cell_type": "markdown",
   "metadata": {},
   "source": [
    "#### adversarial images "
   ]
  },
  {
   "cell_type": "code",
   "execution_count": 7,
   "metadata": {},
   "outputs": [],
   "source": [
    "im_a_scores = {}\n",
    "im = torch.from_numpy(im_adversarials[idx_adv]).to(device)\n",
    "im_t = t(im)\n",
    "adv_labels = np.array(adversarial_classes[idx_adv], dtype=np.int)\n",
    "target = torch.from_numpy(adv_labels).to(device)\n",
    "scores = {\n",
    "    'IG': [],\n",
    "    'DeepLift': [],\n",
    "    'SHAP': [],\n",
    "    'InputXGradient': []\n",
    "}   \n",
    "# attr\n",
    "results = get_attributions(im_t, model_t, class_num=target, attr_methods=attr_methods, device=device)\n",
    "for name in attr_methods:\n",
    "    im_a_scores[name] = results[name].reshape(-1,28*28).T"
   ]
  },
  {
   "cell_type": "markdown",
   "metadata": {},
   "source": [
    "#### images that fail adversarial attack"
   ]
  },
  {
   "cell_type": "code",
   "execution_count": 8,
   "metadata": {},
   "outputs": [],
   "source": [
    "im_f_scores = {}\n",
    "im = torch.from_numpy(images[idx_fail]).to(device)\n",
    "im_t = t(im)\n",
    "target = torch.from_numpy(labels[idx_fail]).to(device)\n",
    "scores = {\n",
    "    'IG': [],\n",
    "    'DeepLift': [],\n",
    "    'SHAP': [],\n",
    "    'InputXGradient': []\n",
    "} \n",
    "# attr\n",
    "results = get_attributions(im_t, model_t, class_num=target, attr_methods=attr_methods, device=device)\n",
    "for name in attr_methods:\n",
    "    im_f_scores[name] = results[name].reshape(-1,28*28).T"
   ]
  },
  {
   "cell_type": "markdown",
   "metadata": {},
   "source": [
    "#### plot"
   ]
  },
  {
   "cell_type": "code",
   "execution_count": 9,
   "metadata": {},
   "outputs": [
    {
     "data": {
      "image/png": "[encoded data removed]",
      "text/plain": [
       "<Figure size 432x288 with 1 Axes>"
      ]
     },
     "metadata": {},
     "output_type": "display_data"
    }
   ],
   "source": [
    "im_inds = im_scores['IG']/im_scores['IG'].sum(axis=0)\n",
    "im_a_inds = im_a_scores['IG']/im_a_scores['IG'].sum(axis=0)\n",
    "argidx = np.argsort(im_inds[:,0])\n",
    "plt.plot(im_inds[argidx], alpha=0.01, color='blue', label='image that succeeds adv. att.')\n",
    "plt.plot(im_a_inds[argidx], alpha=0.01, color='red', label='adv. image')\n",
    "plt.show()"
   ]
  },
  {
   "cell_type": "code",
   "execution_count": 22,
   "metadata": {},
   "outputs": [],
   "source": [
    "from sklearn.linear_model import LogisticRegression\n",
    "im_inds = im_scores['IG']\n",
    "im_a_inds = im_a_scores['IG']\n",
    "X = np.r_[im_inds.T, im_a_inds.T]\n",
    "y = np.r_[np.zeros(int(X.shape[0]/2), dtype=np.int), np.ones(int(X.shape[0]/2), dtype=np.int)]\n",
    "clf = LogisticRegression(penalty='l2', C=100, random_state=0).fit(X, y)"
   ]
  },
  {
   "cell_type": "code",
   "execution_count": 24,
   "metadata": {},
   "outputs": [
    {
     "data": {
      "text/plain": [
       "[<matplotlib.lines.Line2D at 0x7f1d3b8e02e8>]"
      ]
     },
     "execution_count": 24,
     "metadata": {},
     "output_type": "execute_result"
    },
    {
     "data": {
      "image/png": "[encoded data removed]",
      "text/plain": [
       "<Figure size 432x288 with 1 Axes>"
      ]
     },
     "metadata": {},
     "output_type": "display_data"
    }
   ],
   "source": [
    "plt.plot(clf.coef_.flatten())"
   ]
  },
  {
   "cell_type": "code",
   "execution_count": null,
   "metadata": {},
   "outputs": [],
   "source": []
  }
 ],
 "metadata": {
  "kernelspec": {
   "display_name": "Environment (conda_pytorch_p36)",
   "language": "python",
   "name": "conda_pytorch_p36"
  },
  "language_info": {
   "codemirror_mode": {
    "name": "ipython",
    "version": 3
   },
   "file_extension": ".py",
   "mimetype": "text/x-python",
   "name": "python",
   "nbconvert_exporter": "python",
   "pygments_lexer": "ipython3",
   "version": "3.6.7"
  }
 },
 "nbformat": 4,
 "nbformat_minor": 2
}
