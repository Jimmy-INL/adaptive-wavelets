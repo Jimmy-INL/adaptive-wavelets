{
 "cells": [
  {
   "cell_type": "code",
   "execution_count": 8,
   "metadata": {},
   "outputs": [
    {
     "name": "stdout",
     "output_type": "stream",
     "text": [
      "The autoreload extension is already loaded. To reload it, use:\n",
      "  %reload_ext autoreload\n"
     ]
    }
   ],
   "source": [
    "%load_ext autoreload\n",
    "%autoreload 2\n",
    "%matplotlib inline\n",
    "import matplotlib.pyplot as plt\n",
    "import numpy as np\n",
    "import torch\n",
    "import random\n",
    "device = 'cuda' if torch.cuda.is_available() else 'cpu'\n",
    "import os,sys\n",
    "opj = os.path.join\n",
    "from tqdm import tqdm\n",
    "import acd\n",
    "from copy import deepcopy\n",
    "from model_fashion_mnist import Net, Net2c, FashionCNN\n",
    "from visualize import *\n",
    "import dset_fashion_mnist as dset\n",
    "import foolbox\n",
    "sys.path.append('../trim')\n",
    "from transforms_torch import transform_bandpass, tensor_t_augment, batch_fftshift2d, batch_ifftshift2d\n",
    "from trim import *\n",
    "from util import *\n",
    "from attributions import *\n",
    "from captum.attr import *\n",
    "import warnings\n",
    "warnings.filterwarnings(\"ignore\")"
   ]
  },
  {
   "cell_type": "code",
   "execution_count": 25,
   "metadata": {},
   "outputs": [
    {
     "name": "stdout",
     "output_type": "stream",
     "text": [
      "\n",
      "Test set: Average loss: -47.7807, Accuracy: 9032/10000 (90.32%)\n",
      "\n"
     ]
    }
   ],
   "source": [
    "# set args\n",
    "args = dset.get_args()\n",
    "args.cuda = \"Trie\"\n",
    "args.test_batch_size = 50\n",
    "\n",
    "# load fashion-mnist dataset\n",
    "train_loader, test_loader = dset.load_data(args.batch_size, args.test_batch_size, device)\n",
    "\n",
    "# model\n",
    "model = FashionCNN().to(device)\n",
    "model.load_state_dict(torch.load('./fashion-mnist.model.pth', map_location=device))\n",
    "model = model.eval().to(device)\n",
    "dset.test(model, test_loader, args)"
   ]
  },
  {
   "cell_type": "code",
   "execution_count": 26,
   "metadata": {},
   "outputs": [
    {
     "name": "stdout",
     "output_type": "stream",
     "text": [
      "0.92\n",
      "0.0\n",
      "0.0e+00, 2.5e-02, inf\n",
      "2 of 50 attacks failed\n",
      "4 of 50 inputs misclassified without perturbation\n"
     ]
    }
   ],
   "source": [
    "# foolbox model\n",
    "preprocessing = dict(mean=[0,], std=[1,], axis=-3)\n",
    "fmodel = foolbox.models.PyTorchModel(model, bounds=(0, 1), num_classes=10, preprocessing=preprocessing)\n",
    "\n",
    "# get a batch of images and labels and print the accuracy\n",
    "images, labels = iter(test_loader).next()\n",
    "images = images.numpy()\n",
    "labels = labels.numpy()\n",
    "print(np.mean(fmodel.forward(images).argmax(axis=-1) == labels))\n",
    "\n",
    "# apply the attack\n",
    "attack = foolbox.attacks.FGSM(fmodel)\n",
    "im_adversarials = attack(images, labels)\n",
    "# if the i'th image is misclassfied without a perturbation, then adversarials[i] will be the same as images[i]\n",
    "# if the attack fails to find an adversarial for the i'th image, then adversarials[i] will all be np.nan\n",
    "# Foolbox guarantees that all returned adversarials are in fact in adversarials\n",
    "print(np.mean(fmodel.forward(im_adversarials).argmax(axis=-1) == labels))\n",
    "\n",
    "# # You can always get the actual adversarial class that was observed for that sample by Foolbox by\n",
    "# # passing `unpack=False` to get the actual `Adversarial` objects:\n",
    "attack = foolbox.attacks.FGSM(fmodel, distance=foolbox.distances.Linf)\n",
    "adversarials = attack(images, labels, unpack=False)\n",
    "\n",
    "adversarial_classes = np.asarray([a.adversarial_class for a in adversarials])\n",
    "# print(labels)\n",
    "# print(adversarial_classes)\n",
    "# print(np.mean(adversarial_classes == labels))  # will always be 0.0\n",
    "\n",
    "# The `Adversarial` objects also provide a `distance` attribute. Note that the distances\n",
    "# can be 0 (misclassified without perturbation) and inf (attack failed).\n",
    "distances = np.asarray([a.distance.value for a in adversarials])\n",
    "print(\"{:.1e}, {:.1e}, {:.1e}\".format(distances.min(), np.median(distances), distances.max()))\n",
    "print(\"{} of {} attacks failed\".format(sum(adv.distance.value == np.inf for adv in adversarials), len(adversarials)))\n",
    "print(\"{} of {} inputs misclassified without perturbation\".format(sum(adv.distance.value == 0 for adv in adversarials), len(adversarials)))"
   ]
  },
  {
   "cell_type": "code",
   "execution_count": 27,
   "metadata": {},
   "outputs": [
    {
     "data": {
      "image/png": "[encoded data removed]",
      "text/plain": [
       "<Figure size 720x720 with 2 Axes>"
      ]
     },
     "metadata": {},
     "output_type": "display_data"
    },
    {
     "name": "stdout",
     "output_type": "stream",
     "text": [
      "True and perturbed labels:  Coat Pullover\n"
     ]
    }
   ],
   "source": [
    "# index with minimum dist to orig. image while perturbation suceed\n",
    "min_idx = np.where(distances == np.min(distances[np.nonzero(distances)]))[0][0]\n",
    "im = images[min_idx]\n",
    "im_a = im_adversarials[min_idx]\n",
    "viz_im_a(im.squeeze(), im_a.squeeze())\n",
    "print('True and perturbed labels: ', dset.output_label(labels[min_idx]), dset.output_label(adversarial_classes[min_idx]))"
   ]
  },
  {
   "cell_type": "markdown",
   "metadata": {},
   "source": [
    "## Interpret adversarial images"
   ]
  },
  {
   "cell_type": "code",
   "execution_count": 28,
   "metadata": {},
   "outputs": [],
   "source": [
    "# FFT\n",
    "t = lambda x: torch.fft(torch.stack((x, torch.zeros_like(x)),dim=4), 2)\n",
    "transform_i = modularize(lambda x: torch.ifft(x, 2)[...,0])\n",
    "\n",
    "# prepend transformation\n",
    "model_t = TrimModel(model, transform_i)\n",
    "\n",
    "# interp methods\n",
    "attr_methods = ['IG', 'DeepLift', 'SHAP', 'CD', 'InputXGradient']\n",
    "\n",
    "# band center and width\n",
    "band_centers = list(np.arange(1, 40) * 0.025)\n",
    "band_width_lower = 0.025\n",
    "band_width_upper = 0.025\n",
    "\n",
    "# indexes\n",
    "idx_adv = np.logical_and(distances > 0, distances < np.inf)\n",
    "idx_fail = distances == np.inf"
   ]
  },
  {
   "cell_type": "markdown",
   "metadata": {},
   "source": [
    "\n",
    "#### images that succeed adversarial attach"
   ]
  },
  {
   "cell_type": "code",
   "execution_count": null,
   "metadata": {},
   "outputs": [],
   "source": [
    "im_scores = {\n",
    "    'IG': [],\n",
    "    'DeepLift': [],\n",
    "    'SHAP': [],\n",
    "#     'CD': [], no support on batch with different class labels\n",
    "    'InputXGradient': []\n",
    "}\n",
    "im = torch.from_numpy(images[idx_adv]).to(device)\n",
    "im_t = t(im)\n",
    "target = torch.from_numpy(labels[idx_adv]).to(device)\n",
    "\n",
    "# attr\n",
    "results = get_attributions(im_t, model_t, class_num=target)"
   ]
  },
  {
   "cell_type": "code",
   "execution_count": null,
   "metadata": {},
   "outputs": [],
   "source": [
    "results"
   ]
  },
  {
   "cell_type": "code",
   "execution_count": null,
   "metadata": {},
   "outputs": [],
   "source": [
    "# attr\n",
    "results = get_attributions(im_t, model_t, class_num=np.int(target))    \n",
    "for band_center in band_centers:\n",
    "    mask = freq_band(28, band_center, band_width_lower, band_width_upper)\n",
    "    for name in attr_methods:\n",
    "        im_attr = np.sum(fftshift(results[name]) * mask) \n",
    "        scores[name].append(np.array([im_attr])) \n",
    "im_scores['IG'].append(np.array(scores['IG']).flatten())\n",
    "im_scores['DeepLift'].append(np.array(scores['DeepLift']).flatten())\n",
    "im_scores['SHAP'].append(np.array(scores['SHAP']).flatten())\n",
    "im_scores['CD'].append(np.array(scores['CD']).flatten())\n",
    "im_scores['InputXGradient'].append(np.array(scores['InputXGradient']).flatten())\n",
    "print('\\riteration', i, end='')\n",
    "im_scores['IG'] = np.array(im_scores['IG'])\n",
    "im_scores['DeepLift'] = np.array(im_scores['DeepLift'])\n",
    "im_scores['SHAP'] = np.array(im_scores['SHAP'])\n",
    "im_scores['CD'] = np.array(im_scores['CD'])\n",
    "im_scores['InputXGradient'] = np.array(im_scores['InputXGradient'])"
   ]
  },
  {
   "cell_type": "code",
   "execution_count": null,
   "metadata": {},
   "outputs": [],
   "source": [
    "im_scores = {\n",
    "    'IG': [],\n",
    "    'DeepLift': [],\n",
    "    'SHAP': [],\n",
    "    'CD': [],\n",
    "    'InputXGradient': []\n",
    "}\n",
    "for i in range(np.sum(idx_adv)):\n",
    "    scores = {\n",
    "        'IG': [],\n",
    "        'DeepLift': [],\n",
    "        'SHAP': [],\n",
    "        'CD': [],\n",
    "        'InputXGradient': []\n",
    "    }    \n",
    "    im = images[idx_adv][i:i+1]\n",
    "    im = torch.Tensor(im).to(device)\n",
    "    im_t = t(im)\n",
    "    target = labels[idx_adv][i:i+1].item()\n",
    "    \n",
    "    # attr\n",
    "    results = get_attributions(im_t, model_t, class_num=np.int(target))    \n",
    "    for band_center in band_centers:\n",
    "        mask = freq_band(28, band_center, band_width_lower, band_width_upper)\n",
    "        for name in attr_methods:\n",
    "            im_attr = np.sum(fftshift(results[name]) * mask) \n",
    "            scores[name].append(np.array([im_attr])) \n",
    "    im_scores['IG'].append(np.array(scores['IG']).flatten())\n",
    "    im_scores['DeepLift'].append(np.array(scores['DeepLift']).flatten())\n",
    "    im_scores['SHAP'].append(np.array(scores['SHAP']).flatten())\n",
    "    im_scores['CD'].append(np.array(scores['CD']).flatten())\n",
    "    im_scores['InputXGradient'].append(np.array(scores['InputXGradient']).flatten())\n",
    "    print('\\riteration', i, end='')\n",
    "im_scores['IG'] = np.array(im_scores['IG'])\n",
    "im_scores['DeepLift'] = np.array(im_scores['DeepLift'])\n",
    "im_scores['SHAP'] = np.array(im_scores['SHAP'])\n",
    "im_scores['CD'] = np.array(im_scores['CD'])\n",
    "im_scores['InputXGradient'] = np.array(im_scores['InputXGradient'])"
   ]
  },
  {
   "cell_type": "markdown",
   "metadata": {},
   "source": [
    "#### adversarial images "
   ]
  },
  {
   "cell_type": "code",
   "execution_count": null,
   "metadata": {},
   "outputs": [],
   "source": [
    "im_a_scores = {\n",
    "    'IG': [],\n",
    "    'DeepLift': [],\n",
    "    'SHAP': [],\n",
    "    'CD': [],\n",
    "    'InputXGradient': []\n",
    "}\n",
    "for i in range(np.sum(idx_adv)):\n",
    "    scores = {\n",
    "        'IG': [],\n",
    "        'DeepLift': [],\n",
    "        'SHAP': [],\n",
    "        'CD': [],\n",
    "        'InputXGradient': []\n",
    "    }    \n",
    "    im = im_adversarials[idx_adv][i:i+1]\n",
    "    im = torch.Tensor(im).to(device)\n",
    "    im_t = t(im)\n",
    "    target = adversarial_classes[idx_adv][i:i+1].item()\n",
    "    \n",
    "    # attr\n",
    "    results = get_attributions(im_t, model_t, class_num=np.int(target))    \n",
    "    for band_center in band_centers:\n",
    "        mask = freq_band(28, band_center, band_width_lower, band_width_upper)\n",
    "        for name in attr_methods:\n",
    "            im_attr = np.sum(fftshift(results[name]) * mask) \n",
    "            scores[name].append(np.array([im_attr])) \n",
    "    im_a_scores['IG'].append(np.array(scores['IG']).flatten())\n",
    "    im_a_scores['DeepLift'].append(np.array(scores['DeepLift']).flatten())\n",
    "    im_a_scores['SHAP'].append(np.array(scores['SHAP']).flatten())\n",
    "    im_a_scores['CD'].append(np.array(scores['CD']).flatten())\n",
    "    im_a_scores['InputXGradient'].append(np.array(scores['InputXGradient']).flatten())\n",
    "    print('\\riteration', i, end='')\n",
    "im_a_scores['IG'] = np.array(im_a_scores['IG'])\n",
    "im_a_scores['DeepLift'] = np.array(im_a_scores['DeepLift'])\n",
    "im_a_scores['SHAP'] = np.array(im_a_scores['SHAP'])\n",
    "im_a_scores['CD'] = np.array(im_a_scores['CD'])\n",
    "im_a_scores['InputXGradient'] = np.array(im_a_scores['InputXGradient'])"
   ]
  },
  {
   "cell_type": "markdown",
   "metadata": {},
   "source": [
    "#### images that fail adversarial attack"
   ]
  },
  {
   "cell_type": "code",
   "execution_count": null,
   "metadata": {},
   "outputs": [],
   "source": [
    "im_f_scores = {\n",
    "    'IG': [],\n",
    "    'DeepLift': [],\n",
    "    'SHAP': [],\n",
    "    'CD': [],\n",
    "    'InputXGradient': []\n",
    "}\n",
    "for i in range(np.sum(idx_fail)):\n",
    "    scores = {\n",
    "        'IG': [],\n",
    "        'DeepLift': [],\n",
    "        'SHAP': [],\n",
    "        'CD': [],\n",
    "        'InputXGradient': []\n",
    "    }    \n",
    "    im = images[idx_fail][i:i+1]\n",
    "    im = torch.Tensor(im).to(device)\n",
    "    im_t = t(im)\n",
    "    target = labels[idx_fail][i:i+1].item()\n",
    "    \n",
    "    # attr\n",
    "    results = get_attributions(im_t, model_t, class_num=np.int(target))    \n",
    "    for band_center in band_centers:\n",
    "        mask = freq_band(28, band_center, band_width_lower, band_width_upper)\n",
    "        for name in attr_methods:\n",
    "            im_attr = np.sum(fftshift(results[name]) * mask) \n",
    "            scores[name].append(np.array([im_attr])) \n",
    "    im_f_scores['IG'].append(np.array(scores['IG']).flatten())\n",
    "    im_f_scores['DeepLift'].append(np.array(scores['DeepLift']).flatten())\n",
    "    im_f_scores['SHAP'].append(np.array(scores['SHAP']).flatten())\n",
    "    im_f_scores['CD'].append(np.array(scores['CD']).flatten())\n",
    "    im_f_scores['InputXGradient'].append(np.array(scores['InputXGradient']).flatten())\n",
    "    print('\\riteration', i, end='')\n",
    "im_f_scores['IG'] = np.array(im_f_scores['IG'])\n",
    "im_f_scores['DeepLift'] = np.array(im_f_scores['DeepLift'])\n",
    "im_f_scores['SHAP'] = np.array(im_f_scores['SHAP'])\n",
    "im_f_scores['CD'] = np.array(im_f_scores['CD'])\n",
    "im_f_scores['InputXGradient'] = np.array(im_f_scores['InputXGradient'])"
   ]
  },
  {
   "cell_type": "code",
   "execution_count": null,
   "metadata": {},
   "outputs": [],
   "source": []
  },
  {
   "cell_type": "code",
   "execution_count": null,
   "metadata": {},
   "outputs": [],
   "source": []
  }
 ],
 "metadata": {
  "kernelspec": {
   "display_name": "Environment (conda_pytorch_p36)",
   "language": "python",
   "name": "conda_pytorch_p36"
  },
  "language_info": {
   "codemirror_mode": {
    "name": "ipython",
    "version": 3
   },
   "file_extension": ".py",
   "mimetype": "text/x-python",
   "name": "python",
   "nbconvert_exporter": "python",
   "pygments_lexer": "ipython3",
   "version": "3.6.7"
  }
 },
 "nbformat": 4,
 "nbformat_minor": 2
}
