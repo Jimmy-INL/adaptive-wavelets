{
 "cells": [
  {
   "cell_type": "code",
   "execution_count": 1,
   "metadata": {},
   "outputs": [],
   "source": [
    "% load_ext autoreload\n",
    "% autoreload 2\n",
    "% matplotlib inline\n",
    "import matplotlib.pyplot as plt\n",
    "import numpy as np\n",
    "import torch\n",
    "\n",
    "device = 'cuda' if torch.cuda.is_available() else 'cpu'\n",
    "import os, sys\n",
    "\n",
    "opj = os.path.join\n",
    "from tqdm import tqdm\n",
    "\n",
    "from ex_mnist import p\n",
    "from dset import get_dataloader\n",
    "\n",
    "sys.path.append('../../src/models')\n",
    "from models import CNN, FFN"
   ]
  },
  {
   "cell_type": "code",
   "execution_count": 9,
   "metadata": {},
   "outputs": [],
   "source": [
    "# load data\n",
    "train_loader, test_loader = get_dataloader(p.data_path,\n",
    "                                           batch_size=p.batch_size)\n",
    "\n",
    "# import models\n",
    "cnn = CNN().to(device)\n",
    "ffn = FFN().to(device)"
   ]
  },
  {
   "cell_type": "markdown",
   "metadata": {},
   "source": [
    "# train cnn"
   ]
  },
  {
   "cell_type": "code",
   "execution_count": 10,
   "metadata": {},
   "outputs": [
    {
     "name": "stdout",
     "output_type": "stream",
     "text": [
      "Train Epoch: 49 [59900/60000 (100%)]\tLoss: 0.004418"
     ]
    }
   ],
   "source": [
    "optimizer = torch.optim.Adam(cnn.parameters(), lr=0.001)\n",
    "criterion = torch.nn.CrossEntropyLoss()\n",
    "num_epochs = 50\n",
    "\n",
    "train_losses = []\n",
    "\n",
    "for epoch in range(num_epochs):\n",
    "    epoch_loss = 0.\n",
    "    for batch_idx, (data, y) in enumerate(train_loader):\n",
    "        data = data.to(device)\n",
    "        y = y.to(device)\n",
    "        # zero grad\n",
    "        optimizer.zero_grad()\n",
    "        output = cnn(data)\n",
    "        loss = criterion(output, y)\n",
    "\n",
    "        # backward\n",
    "        loss.backward()\n",
    "        # update step\n",
    "        optimizer.step()\n",
    "\n",
    "        iter_loss = loss.item()\n",
    "        epoch_loss += iter_loss\n",
    "\n",
    "        print('\\rTrain Epoch: {} [{}/{} ({:.0f}%)]\\tLoss: {:.6f}'.format(\n",
    "            epoch, batch_idx * len(data), len(train_loader.dataset),\n",
    "                   100. * batch_idx / len(train_loader), iter_loss), end='')\n",
    "\n",
    "    mean_epoch_loss = epoch_loss / (batch_idx + 1)\n",
    "    train_losses.append(mean_epoch_loss)\n",
    "\n",
    "# save model\n",
    "torch.save(cnn.state_dict(), opj(p.model_path, 'CNN.pth'))\n"
   ]
  },
  {
   "cell_type": "code",
   "execution_count": 11,
   "metadata": {},
   "outputs": [
    {
     "data": {
      "text/plain": [
       "[<matplotlib.lines.Line2D at 0x7fe6242c99b0>]"
      ]
     },
     "execution_count": 11,
     "metadata": {},
     "output_type": "execute_result"
    },
    {
     "data": {
      "image/png": "[encoded data removed]",
      "text/plain": [
       "<Figure size 432x288 with 1 Axes>"
      ]
     },
     "metadata": {
      "needs_background": "light"
     },
     "output_type": "display_data"
    }
   ],
   "source": [
    "plt.plot(train_losses)"
   ]
  },
  {
   "cell_type": "markdown",
   "metadata": {},
   "source": [
    "# train ffn"
   ]
  },
  {
   "cell_type": "code",
   "execution_count": 12,
   "metadata": {},
   "outputs": [
    {
     "name": "stdout",
     "output_type": "stream",
     "text": [
      "Train Epoch: 49 [59900/60000 (100%)]\tLoss: 0.000006"
     ]
    }
   ],
   "source": [
    "optimizer = torch.optim.Adam(ffn.parameters(), lr=0.001)\n",
    "criterion = torch.nn.CrossEntropyLoss()\n",
    "num_epochs = 50\n",
    "\n",
    "train_losses = []\n",
    "\n",
    "for epoch in range(num_epochs):\n",
    "    epoch_loss = 0.\n",
    "    for batch_idx, (data, y) in enumerate(train_loader):\n",
    "        data = data.to(device)\n",
    "        y = y.to(device)\n",
    "        # zero grad\n",
    "        optimizer.zero_grad()\n",
    "        output = ffn(data)\n",
    "        loss = criterion(output, y)\n",
    "\n",
    "        # backward\n",
    "        loss.backward()\n",
    "        # update step\n",
    "        optimizer.step()\n",
    "\n",
    "        iter_loss = loss.item()\n",
    "        epoch_loss += iter_loss\n",
    "\n",
    "        print('\\rTrain Epoch: {} [{}/{} ({:.0f}%)]\\tLoss: {:.6f}'.format(\n",
    "            epoch, batch_idx * len(data), len(train_loader.dataset),\n",
    "                   100. * batch_idx / len(train_loader), iter_loss), end='')\n",
    "\n",
    "    mean_epoch_loss = epoch_loss / (batch_idx + 1)\n",
    "    train_losses.append(mean_epoch_loss)\n",
    "\n",
    "# save model\n",
    "torch.save(ffn.state_dict(), opj(p.model_path, 'FFN.pth'))\n"
   ]
  },
  {
   "cell_type": "code",
   "execution_count": 13,
   "metadata": {},
   "outputs": [
    {
     "data": {
      "text/plain": [
       "[<matplotlib.lines.Line2D at 0x7fe620ff8198>]"
      ]
     },
     "execution_count": 13,
     "metadata": {},
     "output_type": "execute_result"
    },
    {
     "data": {
      "image/png": "[encoded data removed]",
      "text/plain": [
       "<Figure size 432x288 with 1 Axes>"
      ]
     },
     "metadata": {
      "needs_background": "light"
     },
     "output_type": "display_data"
    }
   ],
   "source": [
    "plt.plot(train_losses)"
   ]
  },
  {
   "cell_type": "markdown",
   "metadata": {},
   "source": [
    "# model prediction"
   ]
  },
  {
   "cell_type": "code",
   "execution_count": 36,
   "metadata": {},
   "outputs": [
    {
     "name": "stderr",
     "output_type": "stream",
     "text": [
      "100%|██████████| 100/100 [00:02<00:00, 33.85it/s]"
     ]
    },
    {
     "name": "stdout",
     "output_type": "stream",
     "text": [
      "CNN accuracy 99.09000% FFN accuracy 98.28000%\n"
     ]
    },
    {
     "name": "stderr",
     "output_type": "stream",
     "text": [
      "\n"
     ]
    }
   ],
   "source": [
    "# check prediction\n",
    "m = len(test_loader.dataset)\n",
    "batch_size = test_loader.batch_size\n",
    "\n",
    "y_pred_cnn = np.zeros(m)\n",
    "y_pred_ffn = np.zeros(m)\n",
    "y_true = np.zeros(m)\n",
    "with torch.no_grad():\n",
    "    for batch_idx, (data, y) in tqdm(enumerate(test_loader, 0), total=int(np.ceil(m / batch_size))):\n",
    "        data = data.to(device)\n",
    "        # cnn prediction\n",
    "        outputs_cnn = cnn(data)\n",
    "        _, y_pred = torch.max(outputs_cnn.data, 1)\n",
    "        y_pred_cnn[batch_idx * batch_size:(batch_idx + 1) * batch_size] = y_pred.cpu().numpy()\n",
    "\n",
    "        # ffn prediction\n",
    "        outputs_ffn = ffn(data)\n",
    "        _, y_pred = torch.max(outputs_ffn.data, 1)\n",
    "        y_pred_ffn[batch_idx * batch_size:(batch_idx + 1) * batch_size] = y_pred.cpu().numpy()\n",
    "\n",
    "        # labels\n",
    "        y_true[batch_idx * batch_size:(batch_idx + 1) * batch_size] = y.numpy()\n",
    "\n",
    "print(\"CNN accuracy {:.5f}% FFN accuracy {:.5f}%\".format((y_true == y_pred_cnn).sum() / m * 100,\n",
    "                                                         (y_true == y_pred_ffn).sum() / m * 100))"
   ]
  },
  {
   "cell_type": "code",
   "execution_count": null,
   "metadata": {},
   "outputs": [],
   "source": []
  },
  {
   "cell_type": "code",
   "execution_count": null,
   "metadata": {},
   "outputs": [],
   "source": []
  }
 ],
 "metadata": {
  "kernelspec": {
   "display_name": "Environment (conda_pytorch_p36)",
   "language": "python",
   "name": "conda_pytorch_p36"
  },
  "language_info": {
   "codemirror_mode": {
    "name": "ipython",
    "version": 3
   },
   "file_extension": ".py",
   "mimetype": "text/x-python",
   "name": "python",
   "nbconvert_exporter": "python",
   "pygments_lexer": "ipython3",
   "version": "3.6.10"
  }
 },
 "nbformat": 4,
 "nbformat_minor": 4
}