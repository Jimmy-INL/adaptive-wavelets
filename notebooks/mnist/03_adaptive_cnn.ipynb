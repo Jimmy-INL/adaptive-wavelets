{
 "cells": [
  {
   "cell_type": "code",
   "execution_count": 1,
   "metadata": {},
   "outputs": [],
   "source": [
    "%load_ext autoreload\n",
    "%autoreload 2\n",
    "%matplotlib inline\n",
    "import matplotlib.pyplot as plt\n",
    "import numpy as np\n",
    "import torch\n",
    "device = 'cuda' if torch.cuda.is_available() else 'cpu'\n",
    "import os,sys\n",
    "opj = os.path.join\n",
    "from copy import deepcopy\n",
    "from tqdm import tqdm\n",
    "import pickle as pkl\n",
    "import pandas as pd\n",
    "import torch.nn as nn\n",
    "import torch.nn.functional as F\n",
    "\n",
    "from ex_mnist import p\n",
    "from dset import get_dataloader, load_pretrained_model\n",
    "\n",
    "# adaptive-wavelets modules\n",
    "from losses import get_loss_f\n",
    "from train import Trainer\n",
    "from evaluate import Validator\n",
    "from transform2d import DWT2d\n",
    "from utils import get_2dfilts, get_wavefun\n",
    "from wave_attributions import Attributer\n",
    "from visualize import cshow, plot_1dfilts, plot_2dfilts, plot_2dreconstruct, plot_wavefun\n",
    "\n",
    "# evaluation\n",
    "from matplotlib import gridspec"
   ]
  },
  {
   "cell_type": "code",
   "execution_count": 2,
   "metadata": {},
   "outputs": [
    {
     "data": {
      "text/plain": [
       "<All keys matched successfully>"
      ]
     },
     "execution_count": 2,
     "metadata": {},
     "output_type": "execute_result"
    }
   ],
   "source": [
    "# load data and model\n",
    "train_loader, test_loader = get_dataloader(p.data_path,\n",
    "                                           batch_size=p.batch_size)\n",
    "\n",
    "model = load_pretrained_model(p.model_path)[0]\n",
    "\n",
    "# load wavelet\n",
    "wt = DWT2d(wave='db3', mode='periodization', J=3, init_factor=1, noise_factor=0.0).to(device)\n",
    "wt.load_state_dict(torch.load('results/wt.pth'))"
   ]
  },
  {
   "cell_type": "code",
   "execution_count": 3,
   "metadata": {},
   "outputs": [],
   "source": [
    "class Wave_CNN(nn.Module):\n",
    "    def __init__(self, wt):\n",
    "        super(Wave_CNN, self).__init__()\n",
    "        self.fc1 = nn.Linear(889, 50)\n",
    "        self.fc2 = nn.Linear(50, 10)\n",
    "        self.wt = wt.eval()\n",
    "        self.wt.J = 3\n",
    "        # freeze layers\n",
    "        for param in wt.parameters():\n",
    "            param.requires_grad = False           \n",
    "\n",
    "    def forward(self, x):\n",
    "        batch_size = x.shape[0]\n",
    "        x_t = self.wt(x)\n",
    "        \n",
    "        x_t0 = x_t[0]\n",
    "        x_t1 = x_t[1]\n",
    "        x_t2 = x_t[2]\n",
    "        x_t3 = x_t[3]\n",
    "        \n",
    "        self.wt.J = 2\n",
    "        x_t1 = self.wt(F.relu(x_t1.squeeze()))\n",
    "        self.wt.J = 1\n",
    "        x_t2 = self.wt(F.relu(x_t2.squeeze()))\n",
    "        \n",
    "        x = []\n",
    "        x.append(x_t0.reshape(batch_size,-1))\n",
    "        for j in range(len(x_t1)):\n",
    "            x.append(x_t1[j].reshape(batch_size,-1))\n",
    "        for j in range(len(x_t2)):\n",
    "            x.append(x_t2[j].reshape(batch_size,-1))            \n",
    "        x.append(x_t3.reshape(batch_size,-1))\n",
    "        x = torch.cat(x,1)\n",
    "        \n",
    "        x = F.relu(self.fc1(x))\n",
    "        x = self.fc2(x) \n",
    "        \n",
    "        self.wt.J = 3\n",
    "        return x"
   ]
  },
  {
   "cell_type": "code",
   "execution_count": 4,
   "metadata": {},
   "outputs": [
    {
     "name": "stdout",
     "output_type": "stream",
     "text": [
      "Train Epoch: 49 [19900/20000 (100%)]\tLoss: 0.000177"
     ]
    }
   ],
   "source": [
    "wcnn = Wave_CNN(wt).to(device)\n",
    "optimizer = torch.optim.Adam(wcnn.parameters(), lr=0.001)\n",
    "criterion = torch.nn.CrossEntropyLoss()\n",
    "num_epochs = 50\n",
    "\n",
    "train_losses = []\n",
    "\n",
    "for epoch in range(num_epochs):\n",
    "    epoch_loss = 0.\n",
    "    for batch_idx, (data, y) in enumerate(train_loader):\n",
    "        data = data.to(device)\n",
    "        y = y.to(device)\n",
    "        # zero grad\n",
    "        optimizer.zero_grad()\n",
    "        output = wcnn(data)\n",
    "        loss = criterion(output, y)\n",
    "        \n",
    "        # backward\n",
    "        loss.backward()\n",
    "        # update step\n",
    "        optimizer.step()          \n",
    "        \n",
    "        iter_loss = loss.item()   \n",
    "        epoch_loss += iter_loss\n",
    "\n",
    "        print('\\rTrain Epoch: {} [{}/{} ({:.0f}%)]\\tLoss: {:.6f}'.format(\n",
    "            epoch, batch_idx * len(data), len(train_loader.dataset),\n",
    "                   100. * batch_idx / len(train_loader), iter_loss), end='')              \n",
    "\n",
    "    mean_epoch_loss = epoch_loss / (batch_idx + 1)\n",
    "    train_losses.append(mean_epoch_loss)\n",
    "\n",
    "# save model\n",
    "# torch.save(cnn.state_dict(), opj(p.model_path, 'CNN.pth')) \n",
    "    "
   ]
  },
  {
   "cell_type": "code",
   "execution_count": 5,
   "metadata": {},
   "outputs": [
    {
     "data": {
      "text/plain": [
       "[<matplotlib.lines.Line2D at 0x7fe5a092cb70>]"
      ]
     },
     "execution_count": 5,
     "metadata": {},
     "output_type": "execute_result"
    },
    {
     "data": {
      "image/png": "[encoded data removed]",
      "text/plain": [
       "<Figure size 432x288 with 1 Axes>"
      ]
     },
     "metadata": {
      "needs_background": "light"
     },
     "output_type": "display_data"
    }
   ],
   "source": [
    "plt.plot(train_losses)"
   ]
  },
  {
   "cell_type": "code",
   "execution_count": 6,
   "metadata": {},
   "outputs": [
    {
     "name": "stderr",
     "output_type": "stream",
     "text": [
      "100%|██████████| 30/30 [00:01<00:00, 15.87it/s]"
     ]
    },
    {
     "name": "stdout",
     "output_type": "stream",
     "text": [
      "CNN accuracy 98.33333% wCNN accuracy 95.60000%\n"
     ]
    },
    {
     "name": "stderr",
     "output_type": "stream",
     "text": [
      "\n"
     ]
    }
   ],
   "source": [
    "# check prediction\n",
    "m = len(test_loader.dataset)\n",
    "batch_size = test_loader.batch_size\n",
    "\n",
    "y_pred_cnn = np.zeros(m)\n",
    "y_pred_wcnn = np.zeros(m)\n",
    "y_true = np.zeros(m)\n",
    "with torch.no_grad():\n",
    "    for batch_idx, (data, y) in tqdm(enumerate(test_loader, 0), total=int(np.ceil(m / batch_size))):\n",
    "        data = data.to(device)\n",
    "        # cnn prediction\n",
    "        outputs_cnn = model(data)\n",
    "        _, y_pred = torch.max(outputs_cnn.data, 1)\n",
    "        y_pred_cnn[batch_idx*batch_size:(batch_idx+1)*batch_size] = y_pred.cpu().numpy()\n",
    "        \n",
    "        # ffn prediction\n",
    "        outputs_ffn = wcnn(data)\n",
    "        _, y_pred = torch.max(outputs_ffn.data, 1)\n",
    "        y_pred_wcnn[batch_idx*batch_size:(batch_idx+1)*batch_size] = y_pred.cpu().numpy() \n",
    "        \n",
    "        # labels\n",
    "        y_true[batch_idx*batch_size:(batch_idx+1)*batch_size] = y.numpy()\n",
    "        \n",
    "print(\"CNN accuracy {:.5f}% wCNN accuracy {:.5f}%\".format((y_true == y_pred_cnn).sum()/m*100,\n",
    "                                                       (y_true == y_pred_wcnn).sum()/m*100))"
   ]
  },
  {
   "cell_type": "markdown",
   "metadata": {},
   "source": [
    "# Original wavelet"
   ]
  },
  {
   "cell_type": "code",
   "execution_count": 7,
   "metadata": {},
   "outputs": [
    {
     "name": "stdout",
     "output_type": "stream",
     "text": [
      "Train Epoch: 49 [19900/20000 (100%)]\tLoss: 0.000091"
     ]
    }
   ],
   "source": [
    "wt_o = DWT2d(wave='db3', mode='periodization', J=3, init_factor=1, noise_factor=0.0).to(device)\n",
    "wcnn = Wave_CNN(wt_o).to(device)\n",
    "optimizer = torch.optim.Adam(wcnn.parameters(), lr=0.001)\n",
    "criterion = torch.nn.CrossEntropyLoss()\n",
    "num_epochs = 50\n",
    "\n",
    "train_losses = []\n",
    "\n",
    "for epoch in range(num_epochs):\n",
    "    epoch_loss = 0.\n",
    "    for batch_idx, (data, y) in enumerate(train_loader):\n",
    "        data = data.to(device)\n",
    "        y = y.to(device)\n",
    "        # zero grad\n",
    "        optimizer.zero_grad()\n",
    "        output = wcnn(data)\n",
    "        loss = criterion(output, y)\n",
    "        \n",
    "        # backward\n",
    "        loss.backward()\n",
    "        # update step\n",
    "        optimizer.step()          \n",
    "        \n",
    "        iter_loss = loss.item()   \n",
    "        epoch_loss += iter_loss\n",
    "\n",
    "        print('\\rTrain Epoch: {} [{}/{} ({:.0f}%)]\\tLoss: {:.6f}'.format(\n",
    "            epoch, batch_idx * len(data), len(train_loader.dataset),\n",
    "                   100. * batch_idx / len(train_loader), iter_loss), end='')              \n",
    "\n",
    "    mean_epoch_loss = epoch_loss / (batch_idx + 1)\n",
    "    train_losses.append(mean_epoch_loss)\n",
    "\n",
    "# save model\n",
    "# torch.save(cnn.state_dict(), opj(p.model_path, 'CNN.pth')) \n",
    "    "
   ]
  },
  {
   "cell_type": "code",
   "execution_count": 8,
   "metadata": {},
   "outputs": [
    {
     "data": {
      "text/plain": [
       "[<matplotlib.lines.Line2D at 0x7fe5a0398898>]"
      ]
     },
     "execution_count": 8,
     "metadata": {},
     "output_type": "execute_result"
    },
    {
     "data": {
      "image/png": "[encoded data removed]",
      "text/plain": [
       "<Figure size 432x288 with 1 Axes>"
      ]
     },
     "metadata": {
      "needs_background": "light"
     },
     "output_type": "display_data"
    }
   ],
   "source": [
    "plt.plot(train_losses)"
   ]
  },
  {
   "cell_type": "code",
   "execution_count": 9,
   "metadata": {},
   "outputs": [
    {
     "name": "stderr",
     "output_type": "stream",
     "text": [
      "100%|██████████| 30/30 [00:01<00:00, 17.43it/s]"
     ]
    },
    {
     "name": "stdout",
     "output_type": "stream",
     "text": [
      "CNN accuracy 98.33333% wCNN accuracy 95.40000%\n"
     ]
    },
    {
     "name": "stderr",
     "output_type": "stream",
     "text": [
      "\n"
     ]
    }
   ],
   "source": [
    "# check prediction\n",
    "m = len(test_loader.dataset)\n",
    "batch_size = test_loader.batch_size\n",
    "\n",
    "y_pred_cnn = np.zeros(m)\n",
    "y_pred_wcnn = np.zeros(m)\n",
    "y_true = np.zeros(m)\n",
    "with torch.no_grad():\n",
    "    for batch_idx, (data, y) in tqdm(enumerate(test_loader, 0), total=int(np.ceil(m / batch_size))):\n",
    "        data = data.to(device)\n",
    "        # cnn prediction\n",
    "        outputs_cnn = model(data)\n",
    "        _, y_pred = torch.max(outputs_cnn.data, 1)\n",
    "        y_pred_cnn[batch_idx*batch_size:(batch_idx+1)*batch_size] = y_pred.cpu().numpy()\n",
    "        \n",
    "        # ffn prediction\n",
    "        outputs_ffn = wcnn(data)\n",
    "        _, y_pred = torch.max(outputs_ffn.data, 1)\n",
    "        y_pred_wcnn[batch_idx*batch_size:(batch_idx+1)*batch_size] = y_pred.cpu().numpy() \n",
    "        \n",
    "        # labels\n",
    "        y_true[batch_idx*batch_size:(batch_idx+1)*batch_size] = y.numpy()\n",
    "        \n",
    "print(\"CNN accuracy {:.5f}% wCNN accuracy {:.5f}%\".format((y_true == y_pred_cnn).sum()/m*100,\n",
    "                                                       (y_true == y_pred_wcnn).sum()/m*100))"
   ]
  },
  {
   "cell_type": "code",
   "execution_count": null,
   "metadata": {},
   "outputs": [],
   "source": []
  },
  {
   "cell_type": "code",
   "execution_count": null,
   "metadata": {},
   "outputs": [],
   "source": []
  },
  {
   "cell_type": "code",
   "execution_count": null,
   "metadata": {},
   "outputs": [],
   "source": []
  },
  {
   "cell_type": "code",
   "execution_count": null,
   "metadata": {},
   "outputs": [],
   "source": []
  }
 ],
 "metadata": {
  "kernelspec": {
   "display_name": "Environment (conda_pytorch_p36)",
   "language": "python",
   "name": "conda_pytorch_p36"
  },
  "language_info": {
   "codemirror_mode": {
    "name": "ipython",
    "version": 3
   },
   "file_extension": ".py",
   "mimetype": "text/x-python",
   "name": "python",
   "nbconvert_exporter": "python",
   "pygments_lexer": "ipython3",
   "version": "3.6.10"
  }
 },
 "nbformat": 4,
 "nbformat_minor": 4
}
