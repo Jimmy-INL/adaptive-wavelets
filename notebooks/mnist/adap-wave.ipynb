{
 "cells": [
  {
   "cell_type": "code",
   "execution_count": 1,
   "metadata": {},
   "outputs": [],
   "source": [
    "%load_ext autoreload\n",
    "%autoreload 2\n",
    "%matplotlib inline\n",
    "import matplotlib.pyplot as plt\n",
    "import numpy as np\n",
    "import torch\n",
    "device = 'cuda' if torch.cuda.is_available() else 'cpu'\n",
    "import os,sys\n",
    "opj = os.path.join\n",
    "from copy import deepcopy\n",
    "from tqdm import tqdm\n",
    "\n",
    "from ex_mnist import p\n",
    "from dset import get_dataloader, load_pretrained_model\n",
    "\n",
    "sys.path.append('../../src/models')\n",
    "from models import CNN, FFN"
   ]
  },
  {
   "cell_type": "code",
   "execution_count": 37,
   "metadata": {},
   "outputs": [],
   "source": [
    "# load data and model\n",
    "train_loader, test_loader = get_dataloader(p.data_path,\n",
    "                                           batch_size=p.batch_size)\n",
    "\n",
    "cnn, ffn = load_pretrained_model(p.model_path)    "
   ]
  },
  {
   "cell_type": "code",
   "execution_count": 38,
   "metadata": {},
   "outputs": [
    {
     "name": "stderr",
     "output_type": "stream",
     "text": [
      "100%|██████████| 100/100 [00:03<00:00, 33.09it/s]"
     ]
    },
    {
     "name": "stdout",
     "output_type": "stream",
     "text": [
      "CNN accuracy 99.09000% FFN accuracy 98.28000%\n"
     ]
    },
    {
     "name": "stderr",
     "output_type": "stream",
     "text": [
      "\n"
     ]
    }
   ],
   "source": [
    "# check prediction\n",
    "m = len(test_loader.dataset)\n",
    "batch_size = test_loader.batch_size\n",
    "\n",
    "y_pred_cnn = np.zeros(m)\n",
    "y_pred_ffn = np.zeros(m)\n",
    "y_true = np.zeros(m)\n",
    "with torch.no_grad():\n",
    "    for batch_idx, (data, y) in tqdm(enumerate(test_loader, 0), total=int(np.ceil(m / batch_size))):\n",
    "        data = data.to(device)\n",
    "        # cnn prediction\n",
    "        outputs_cnn = cnn(data)\n",
    "        _, y_pred = torch.max(outputs_cnn.data, 1)\n",
    "        y_pred_cnn[batch_idx*batch_size:(batch_idx+1)*batch_size] = y_pred.cpu().numpy()\n",
    "        \n",
    "        # ffn prediction\n",
    "        outputs_ffn = ffn(data)\n",
    "        _, y_pred = torch.max(outputs_ffn.data, 1)\n",
    "        y_pred_ffn[batch_idx*batch_size:(batch_idx+1)*batch_size] = y_pred.cpu().numpy() \n",
    "        \n",
    "        # labels\n",
    "        y_true[batch_idx*batch_size:(batch_idx+1)*batch_size] = y.numpy()\n",
    "        \n",
    "print(\"CNN accuracy {:.5f}% FFN accuracy {:.5f}%\".format((y_true == y_pred_cnn).sum()/m*100,\n",
    "                                                       (y_true == y_pred_ffn).sum()/m*100))"
   ]
  },
  {
   "cell_type": "code",
   "execution_count": null,
   "metadata": {},
   "outputs": [],
   "source": []
  }
 ],
 "metadata": {
  "kernelspec": {
   "display_name": "Environment (conda_pytorch_p36)",
   "language": "python",
   "name": "conda_pytorch_p36"
  },
  "language_info": {
   "codemirror_mode": {
    "name": "ipython",
    "version": 3
   },
   "file_extension": ".py",
   "mimetype": "text/x-python",
   "name": "python",
   "nbconvert_exporter": "python",
   "pygments_lexer": "ipython3",
   "version": "3.6.10"
  }
 },
 "nbformat": 4,
 "nbformat_minor": 4
}
