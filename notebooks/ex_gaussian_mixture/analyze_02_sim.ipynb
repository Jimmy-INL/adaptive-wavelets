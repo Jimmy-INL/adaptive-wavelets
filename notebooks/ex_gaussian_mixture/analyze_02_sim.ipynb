{
 "cells": [
  {
   "cell_type": "code",
   "execution_count": 1,
   "metadata": {},
   "outputs": [],
   "source": [
    "%load_ext autoreload\n",
    "%autoreload 2\n",
    "%matplotlib inline\n",
    "import matplotlib.pyplot as plt\n",
    "import numpy as np\n",
    "import torch\n",
    "import random\n",
    "device = 'cuda' if torch.cuda.is_available() else 'cpu'\n",
    "import os,sys\n",
    "opj = os.path.join\n",
    "from tqdm import tqdm\n",
    "import acd\n",
    "from copy import deepcopy\n",
    "sys.path.append('../../src/dsets/gaussian_mixture')\n",
    "from dset import get_dataloaders\n",
    "sys.path.append('../../src/vae')\n",
    "from model import init_specific_model\n",
    "from losses import Loss\n",
    "from training import Trainer\n",
    "from utils import plot_2d_samples, plot_2d_latent_samples, plot_traversals\n",
    "import pickle as pkl\n",
    "import pandas as pd\n",
    "import seaborn as sns\n",
    "from sim_gaussian_mixture import p, define_dataloaders"
   ]
  },
  {
   "cell_type": "code",
   "execution_count": 2,
   "metadata": {},
   "outputs": [],
   "source": [
    "dirs = [\"vary_lamPT_mu_warmstart_seed=13\"]\n",
    "results = []\n",
    "models = []\n",
    "for i in range(len(dirs)):\n",
    "    # load results\n",
    "    out_dir = opj(\"/home/ubuntu/local-vae/notebooks/ex_gaussian_mixture/results\", dirs[i])\n",
    "    fnames = sorted(os.listdir(out_dir))\n",
    "\n",
    "    results_list = []\n",
    "    models_list = []\n",
    "    for fname in fnames:\n",
    "        if fname[-3:] == 'pkl':\n",
    "            results_list.append(pkl.load(open(opj(out_dir, fname), 'rb')))\n",
    "        if fname[-3:] == 'pth':\n",
    "            model = init_specific_model(orig_dim=results_list[-1]['orig_dim'], \n",
    "                                        latent_dim=results_list[-1]['latent_dim'], \n",
    "                                        hidden_dim=results_list[-1]['hidden_dim']).to(device)\n",
    "            model.load_state_dict(torch.load(opj(out_dir, fname)))\n",
    "            models_list.append(model)\n",
    "            \n",
    "    results.append(pd.DataFrame(results_list))\n",
    "    models.append(models_list)"
   ]
  },
  {
   "cell_type": "markdown",
   "metadata": {},
   "source": [
    "## Plotting results"
   ]
  },
  {
   "cell_type": "code",
   "execution_count": null,
   "metadata": {},
   "outputs": [],
   "source": [
    "ax = sns.pointplot(x=\"lamPT\", y=\"disentanglement_metric\", hue=None, data=results[0])"
   ]
  },
  {
   "cell_type": "code",
   "execution_count": null,
   "metadata": {},
   "outputs": [],
   "source": [
    "ax = sns.pointplot(x=\"lamPT\", y=\"disentanglement_metric\", hue=\"mu\", data=results[0])"
   ]
  },
  {
   "cell_type": "code",
   "execution_count": null,
   "metadata": {},
   "outputs": [],
   "source": [
    "ax = sns.pointplot(x=\"lamPT\", y=\"reconstruction_loss\", hue=\"mu\", data=results[0])"
   ]
  },
  {
   "cell_type": "code",
   "execution_count": null,
   "metadata": {},
   "outputs": [],
   "source": [
    "ax = sns.pointplot(x=\"lamPT\", y=\"kl_normal_loss\", hue=\"mu\", data=results[0])"
   ]
  },
  {
   "cell_type": "code",
   "execution_count": null,
   "metadata": {},
   "outputs": [],
   "source": [
    "ax = sns.pointplot(x=\"lamPT\", y=\"total_correlation\", hue=\"mu\", data=results[0])"
   ]
  },
  {
   "cell_type": "code",
   "execution_count": null,
   "metadata": {},
   "outputs": [],
   "source": [
    "ax = sns.pointplot(x=\"lamPT\", y=\"pt_local_independence_loss\", hue=\"mu\", data=results[0])"
   ]
  },
  {
   "cell_type": "markdown",
   "metadata": {},
   "source": [
    "## Visualization"
   ]
  },
  {
   "cell_type": "code",
   "execution_count": null,
   "metadata": {},
   "outputs": [],
   "source": [
    "# GET MODEL AND RESULT\n",
    "idx = 200\n",
    "model = models[0][idx]\n",
    "result = results[0].loc[idx]\n",
    "print('disentanglement metric: {:.3f}'.format(result['disentanglement_metric']))\n",
    "\n",
    "params_to_vary = ['num_epochs', 'seed', 'hidden_dim', 'eps', 'beta', 'mu', 'lamPT', 'lamCI', 'dirname', 'latent_means', 'latent_vars']\n",
    "for name in params_to_vary:\n",
    "    setattr(p, name, result[name])\n",
    "    \n",
    "# SEED\n",
    "random.seed(p.seed)\n",
    "np.random.seed(p.seed)\n",
    "torch.manual_seed(p.seed)    \n",
    "\n",
    "# GET DATALOADERS\n",
    "(_, _), (test_loader, test_latents) = define_dataloaders(p)\n",
    "\n",
    "# EVALUATE TEST DATA\n",
    "data = test_loader.dataset.data.to(device)\n",
    "recon_data, latent_dist, latent_sample = model(data)\n",
    "plot_2d_latent_samples(latent_sample)\n",
    "plt.title(\"Plot of test latent samples\")\n",
    "plt.show()"
   ]
  },
  {
   "cell_type": "code",
   "execution_count": null,
   "metadata": {},
   "outputs": [],
   "source": [
    "plot_traversals(model, data, lb=1000, ub=2000, num=100, max_traversal=.02)\n",
    "plt.title(\"Plot of traversals\")\n",
    "plt.show()"
   ]
  },
  {
   "cell_type": "code",
   "execution_count": null,
   "metadata": {},
   "outputs": [],
   "source": [
    "plot_traversals(model, data, lb=0, ub=5000, num=20,\n",
    "                draw_data=True, draw_recon=True, max_traversal=.1)"
   ]
  },
  {
   "cell_type": "code",
   "execution_count": null,
   "metadata": {},
   "outputs": [],
   "source": []
  }
 ],
 "metadata": {
  "kernelspec": {
   "display_name": "Environment (conda_pytorch_p36)",
   "language": "python",
   "name": "conda_pytorch_p36"
  },
  "language_info": {
   "codemirror_mode": {
    "name": "ipython",
    "version": 3
   },
   "file_extension": ".py",
   "mimetype": "text/x-python",
   "name": "python",
   "nbconvert_exporter": "python",
   "pygments_lexer": "ipython3",
   "version": "3.6.10"
  }
 },
 "nbformat": 4,
 "nbformat_minor": 4
}
