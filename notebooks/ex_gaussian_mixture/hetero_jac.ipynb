{
 "cells": [
  {
   "cell_type": "code",
   "execution_count": 1,
   "metadata": {},
   "outputs": [],
   "source": [
    "%load_ext autoreload\n",
    "%autoreload 2\n",
    "%matplotlib inline\n",
    "import matplotlib.pyplot as plt\n",
    "import numpy as np\n",
    "import torch\n",
    "import random\n",
    "device = 'cuda' if torch.cuda.is_available() else 'cpu'\n",
    "import os,sys\n",
    "opj = os.path.join\n",
    "from random import randint\n",
    "from tqdm import tqdm\n",
    "from copy import deepcopy\n",
    "\n",
    "sys.path.append('..')\n",
    "sys.path.append('../../src')\n",
    "sys.path.append('../../src/vae')\n",
    "sys.path.append('../../src/vae/models')\n",
    "sys.path.append('../../src/dsets/gaussian_mixture')\n",
    "from dset import get_dataloaders\n",
    "from model import init_specific_model\n",
    "from losses import get_loss_f\n",
    "from training import Trainer\n",
    "from viz import plot_2d_latent_samples, plot_traversals, save_fig\n",
    "from sim_gaussian_mixture import define_dataloaders\n",
    "\n",
    "sys.path.append('../../lib/trim')\n",
    "# trim modules\n",
    "from trim import DecoderEncoder\n",
    "\n",
    "sys.path.append('../../lib/disentangling-vae')\n",
    "import main"
   ]
  },
  {
   "cell_type": "code",
   "execution_count": 30,
   "metadata": {},
   "outputs": [],
   "source": [
    "args = main.parse_arguments()\n",
    "args.model_type = \"Lin\"\n",
    "args.rec_dist = \"gaussian\"\n",
    "args.reg_anneal = 0\n",
    "args.beta = 0.0\n",
    "args.lamPT = 0.5\n",
    "args.lamNN = 0.1\n",
    "args.lamH = 0\n",
    "args.lamSP = 0.5\n",
    "args.latent_dim = 4    \n",
    "args.num_epochs = 40"
   ]
  },
  {
   "cell_type": "code",
   "execution_count": 31,
   "metadata": {},
   "outputs": [],
   "source": [
    "class p:\n",
    "    '''Parameters for Gaussian mixture simulation\n",
    "    '''\n",
    "    # parameters for generating data\n",
    "    seed = 13\n",
    "    train_n_samples_per_cluster = 5000\n",
    "    test_n_samples_per_cluster = 1000\n",
    "    latent_means = [[0.0, 0.0], [15.0, 15.0], [30.0, 30.0]]\n",
    "    latent_vars = [[4, 1], [4, 1], [4, 1]]\n",
    "    noise_dim = 8\n",
    "    noise_var = 0.01\n",
    "    \n",
    "    # parameters for model architecture\n",
    "    model_type = \"Lin\"\n",
    "    orig_dim = 10\n",
    "    latent_dim = 4    \n",
    "    hidden_dim = 12\n",
    "    \n",
    "    # parameters for training\n",
    "    train_batch_size = 64\n",
    "    test_batch_size = 100\n",
    "    lr = 5*1e-4\n",
    "    rec_dist = \"gaussian\"\n",
    "    reg_anneal = 0\n",
    "    num_epochs = 100\n",
    "    \n",
    "    # parameters for loss\n",
    "    beta = 0.0\n",
    "    lamPT = 0.0\n",
    "    lamNN = 0.0\n",
    "    lamH = 0.0\n",
    "    lamSP = 0.0    \n",
    "    \n",
    "    # parameters for exp\n",
    "    warm_start = None # which parameter to warm start with respect to\n",
    "    seq_init = 1      # value of warm_start parameter to start with respect to\n",
    "    \n",
    "    # SAVE MODEL\n",
    "    out_dir = \"/home/ubuntu/local-vae/notebooks/ex_gaussian_mixture/results\" # wooseok's setup\n",
    "#     out_dir = '/scratch/users/vision/chandan/local-vae' # chandan's setup\n",
    "    dirname = \"vary\"\n",
    "    pid = ''.join([\"%s\" % randint(0, 9) for num in range(0, 10)])\n",
    "\n",
    "    def _str(self):\n",
    "        vals = vars(p)\n",
    "        return 'beta=' + str(vals['beta']) + '_lamPT=' + str(vals['lamPT']) + '_lamNN=' + str(vals['lamNN']) + '_lamSP=' + str(vals['lamSP']) \\\n",
    "                + '_seed=' + str(vals['seed']) + '_pid=' + vals['pid']\n",
    "    \n",
    "    def _dict(self):\n",
    "        return {attr: val for (attr, val) in vars(self).items()\n",
    "                 if not attr.startswith('_')}\n",
    "    "
   ]
  },
  {
   "cell_type": "code",
   "execution_count": 32,
   "metadata": {},
   "outputs": [],
   "source": [
    "for arg in vars(args):\n",
    "    setattr(p, arg, getattr(args, arg))\n",
    "    \n",
    "# create dir\n",
    "out_dir = opj(p.out_dir, p.dirname)\n",
    "os.makedirs(out_dir, exist_ok=True)   \n",
    "\n",
    "# seed\n",
    "random.seed(p.seed)\n",
    "np.random.seed(p.seed)\n",
    "torch.manual_seed(p.seed)\n",
    "\n",
    "# get dataloaders\n",
    "(train_loader, test_loader) = define_dataloaders(p)\n",
    "\n",
    "# prepare model\n",
    "model = init_specific_model(model_type=p.model_type, \n",
    "                            img_size=p.orig_dim,\n",
    "                            latent_dim=p.latent_dim,\n",
    "                            hidden_dim=p.hidden_dim).to(device)\n",
    "\n",
    "# train\n",
    "optimizer = torch.optim.Adam(model.parameters(), lr=p.lr)\n",
    "loss_f = get_loss_f(decoder=model.decoder, **vars(p))\n",
    "trainer = Trainer(model, optimizer, loss_f, device=device)\n"
   ]
  },
  {
   "cell_type": "code",
   "execution_count": 33,
   "metadata": {},
   "outputs": [
    {
     "name": "stdout",
     "output_type": "stream",
     "text": [
      "====> Epoch: 0 Average train loss: 385.8782 (Test set loss: 8.3467)\n",
      "====> Epoch: 1 Average train loss: 9.3135 (Test set loss: 6.5332)\n",
      "====> Epoch: 2 Average train loss: 7.3094 (Test set loss: 6.2459)\n",
      "====> Epoch: 3 Average train loss: 6.6548 (Test set loss: 5.9516)\n",
      "====> Epoch: 4 Average train loss: 6.2624 (Test set loss: 5.5644)\n",
      "====> Epoch: 5 Average train loss: 5.8820 (Test set loss: 5.1951)\n",
      "====> Epoch: 6 Average train loss: 5.6506 (Test set loss: 5.0424)\n",
      "====> Epoch: 7 Average train loss: 5.5302 (Test set loss: 4.8414)\n",
      "====> Epoch: 8 Average train loss: 5.4141 (Test set loss: 4.7541)\n",
      "====> Epoch: 9 Average train loss: 5.3090 (Test set loss: 4.6707)\n",
      "====> Epoch: 10 Average train loss: 5.2000 (Test set loss: 4.5121)\n",
      "====> Epoch: 11 Average train loss: 5.0516 (Test set loss: 4.4006)\n",
      "====> Epoch: 12 Average train loss: 4.9383 (Test set loss: 4.3043)\n",
      "====> Epoch: 13 Average train loss: 4.8513 (Test set loss: 4.1926)\n",
      "====> Epoch: 14 Average train loss: 4.7692 (Test set loss: 4.1314)\n",
      "====> Epoch: 15 Average train loss: 4.7108 (Test set loss: 4.0950)\n",
      "====> Epoch: 16 Average train loss: 4.6258 (Test set loss: 3.9597)\n",
      "====> Epoch: 17 Average train loss: 4.5578 (Test set loss: 3.8226)\n",
      "====> Epoch: 18 Average train loss: 4.4537 (Test set loss: 3.8184)\n",
      "====> Epoch: 19 Average train loss: 4.3998 (Test set loss: 3.7657)\n",
      "====> Epoch: 20 Average train loss: 4.3613 (Test set loss: 3.7539)\n",
      "====> Epoch: 21 Average train loss: 4.3258 (Test set loss: 3.6911)\n",
      "====> Epoch: 22 Average train loss: 4.2537 (Test set loss: 3.6653)\n",
      "====> Epoch: 23 Average train loss: 4.2321 (Test set loss: 3.6373)\n",
      "====> Epoch: 24 Average train loss: 4.2040 (Test set loss: 3.6402)\n",
      "====> Epoch: 25 Average train loss: 4.1453 (Test set loss: 3.5570)\n",
      "====> Epoch: 26 Average train loss: 4.0855 (Test set loss: 3.4840)\n",
      "====> Epoch: 27 Average train loss: 4.0273 (Test set loss: 3.4393)\n",
      "====> Epoch: 28 Average train loss: 3.9941 (Test set loss: 3.4317)\n",
      "====> Epoch: 29 Average train loss: 3.9469 (Test set loss: 3.4259)\n",
      "====> Epoch: 30 Average train loss: 3.9433 (Test set loss: 3.4364)\n",
      "====> Epoch: 31 Average train loss: 3.9167 (Test set loss: 3.3473)\n",
      "====> Epoch: 32 Average train loss: 3.9005 (Test set loss: 3.4775)\n",
      "====> Epoch: 33 Average train loss: 3.8869 (Test set loss: 3.3606)\n",
      "====> Epoch: 34 Average train loss: 3.9216 (Test set loss: 3.3560)\n",
      "====> Epoch: 35 Average train loss: 3.8701 (Test set loss: 3.3445)\n",
      "====> Epoch: 36 Average train loss: 3.8801 (Test set loss: 3.3132)\n",
      "====> Epoch: 37 Average train loss: 3.8608 (Test set loss: 3.3321)\n",
      "====> Epoch: 38 Average train loss: 3.8538 (Test set loss: 3.3515)\n",
      "====> Epoch: 39 Average train loss: 3.8631 (Test set loss: 3.3027)\n"
     ]
    }
   ],
   "source": [
    "trainer(train_loader, test_loader, epochs=p.num_epochs)"
   ]
  },
  {
   "cell_type": "markdown",
   "metadata": {},
   "source": [
    "## Visualize the directions of the model which disentangles the best"
   ]
  },
  {
   "cell_type": "code",
   "execution_count": 34,
   "metadata": {},
   "outputs": [
    {
     "data": {
      "text/plain": [
       "Text(0.5, 1.0, 'Plot of test latent samples')"
      ]
     },
     "execution_count": 34,
     "metadata": {},
     "output_type": "execute_result"
    },
    {
     "data": {
      "image/png": "[encoded data removed]",
      "text/plain": [
       "<Figure size 432x288 with 1 Axes>"
      ]
     },
     "metadata": {
      "needs_background": "light"
     },
     "output_type": "display_data"
    }
   ],
   "source": [
    "# EVALUATE TEST DATA\n",
    "data = test_loader.dataset.data.to(device)\n",
    "recon_data, latent_dist, latent_sample = model(data)\n",
    "plot_2d_latent_samples(latent_sample)\n",
    "plt.xlabel('latent 1')\n",
    "plt.ylabel('latent 2')\n",
    "plt.title(\"Plot of test latent samples\")"
   ]
  },
  {
   "cell_type": "code",
   "execution_count": 35,
   "metadata": {},
   "outputs": [
    {
     "data": {
      "text/plain": [
       "Text(0.5, 1.0, 'Plot of traversals')"
      ]
     },
     "execution_count": 35,
     "metadata": {},
     "output_type": "execute_result"
    },
    {
     "data": {
      "image/png": "[encoded data removed]",
      "text/plain": [
       "<Figure size 432x288 with 1 Axes>"
      ]
     },
     "metadata": {
      "needs_background": "light"
     },
     "output_type": "display_data"
    }
   ],
   "source": [
    "plot_traversals(model, data, lb=1000, ub=2000, num=100, max_traversal=.5)\n",
    "plt.title(\"Plot of traversals\")"
   ]
  },
  {
   "cell_type": "code",
   "execution_count": 36,
   "metadata": {},
   "outputs": [
    {
     "data": {
      "text/plain": [
       "Text(0, 0.5, 'data dimension 2')"
      ]
     },
     "execution_count": 36,
     "metadata": {},
     "output_type": "execute_result"
    },
    {
     "data": {
      "image/png": "[encoded data removed]",
      "text/plain": [
       "<Figure size 900x600 with 1 Axes>"
      ]
     },
     "metadata": {
      "needs_background": "light"
     },
     "output_type": "display_data"
    }
   ],
   "source": [
    "plt.figure(dpi=150)\n",
    "plot_traversals(model, data, lb=0, ub=3000, num=100,\n",
    "                draw_data=True, draw_recon=True, max_traversal=0.5)\n",
    "plt.xlabel('data dimension 1')\n",
    "plt.ylabel('data dimension 2')"
   ]
  },
  {
   "cell_type": "code",
   "execution_count": 25,
   "metadata": {},
   "outputs": [],
   "source": [
    "from losses import jacobian\n",
    "decoder = model.decoder\n",
    "\n",
    "data_batch, _ = iter(test_loader).next()\n",
    "data_batch = data_batch.to(device)\n",
    "recon_data, latent_dist, latent_sample = model(data_batch)\n",
    "decoded_data = decoder(latent_sample)\n",
    "\n",
    "jacb = jacobian(decoded_data, latent_sample)"
   ]
  },
  {
   "cell_type": "code",
   "execution_count": null,
   "metadata": {},
   "outputs": [],
   "source": []
  },
  {
   "cell_type": "code",
   "execution_count": null,
   "metadata": {},
   "outputs": [],
   "source": []
  }
 ],
 "metadata": {
  "kernelspec": {
   "display_name": "Environment (conda_pytorch_p36)",
   "language": "python",
   "name": "conda_pytorch_p36"
  },
  "language_info": {
   "codemirror_mode": {
    "name": "ipython",
    "version": 3
   },
   "file_extension": ".py",
   "mimetype": "text/x-python",
   "name": "python",
   "nbconvert_exporter": "python",
   "pygments_lexer": "ipython3",
   "version": "3.6.10"
  }
 },
 "nbformat": 4,
 "nbformat_minor": 4
}
