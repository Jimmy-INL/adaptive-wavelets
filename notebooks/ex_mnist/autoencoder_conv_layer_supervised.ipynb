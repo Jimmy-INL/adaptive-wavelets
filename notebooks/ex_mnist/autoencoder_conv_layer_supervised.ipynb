{
 "cells": [
  {
   "cell_type": "code",
   "execution_count": 1,
   "metadata": {},
   "outputs": [],
   "source": [
    "%load_ext autoreload\n",
    "%autoreload 2\n",
    "%matplotlib inline\n",
    "import matplotlib.pyplot as plt\n",
    "import numpy as np\n",
    "import torch\n",
    "import random\n",
    "device = 'cuda' if torch.cuda.is_available() else 'cpu'\n",
    "import os,sys\n",
    "opj = os.path.join\n",
    "from tqdm import tqdm\n",
    "import acd\n",
    "from copy import deepcopy\n",
    "from model_mnist import LeNet5, LinAutoencoder, ConvAutoencoder\n",
    "from visualize import *\n",
    "import autoencoder \n",
    "import dset_mnist as dset\n",
    "import foolbox\n",
    "sys.path.append('../trim')\n",
    "from transforms_torch import transform_bandpass, tensor_t_augment, batch_fftshift2d, batch_ifftshift2d\n",
    "from trim import *\n",
    "from util import *\n",
    "from attributions import *\n",
    "from captum.attr import *\n",
    "import warnings\n",
    "warnings.filterwarnings(\"ignore\")"
   ]
  },
  {
   "cell_type": "code",
   "execution_count": 2,
   "metadata": {},
   "outputs": [
    {
     "name": "stdout",
     "output_type": "stream",
     "text": [
      "\n",
      "Test set: Average loss: 0.0306, Accuracy: 9907/10000 (99.07%)\n",
      "\n"
     ]
    }
   ],
   "source": [
    "# set args\n",
    "args = dset.get_args()\n",
    "args.cuda = True\n",
    "\n",
    "# load mnist data\n",
    "train_loader, test_loader = dset.load_data(args.batch_size, args.test_batch_size, device)\n",
    "\n",
    "# load model\n",
    "m = LeNet5().eval()\n",
    "m.load_state_dict(torch.load('weights/lenet_epoch=12_test_acc=0.991.pth'))\n",
    "m = m.to(device)\n",
    "\n",
    "# test model\n",
    "dset.test(m, test_loader, args)"
   ]
  },
  {
   "cell_type": "markdown",
   "metadata": {},
   "source": [
    "# autoencoder"
   ]
  },
  {
   "cell_type": "code",
   "execution_count": 3,
   "metadata": {},
   "outputs": [
    {
     "name": "stdout",
     "output_type": "stream",
     "text": [
      "0\n",
      "Train Epoch: 1 [29984/60000 (100%)]\tLoss: 0.089313\n",
      "Epoch: 1 \tTraining Loss: 0.686743\n",
      "Train Epoch: 2 [29984/60000 (100%)]\tLoss: 0.002879\n",
      "Epoch: 2 \tTraining Loss: 0.030640\n",
      "Train Epoch: 3 [29984/60000 (100%)]\tLoss: 0.010443\n",
      "Epoch: 3 \tTraining Loss: 0.020749\n",
      "Train Epoch: 4 [29984/60000 (100%)]\tLoss: 0.001208\n",
      "Epoch: 4 \tTraining Loss: 0.018129\n",
      "Train Epoch: 5 [29984/60000 (100%)]\tLoss: 0.001832\n",
      "Epoch: 5 \tTraining Loss: 0.016692\n",
      "Train Epoch: 6 [29984/60000 (100%)]\tLoss: 0.001649\n",
      "Epoch: 6 \tTraining Loss: 0.015866\n",
      "Train Epoch: 7 [29984/60000 (100%)]\tLoss: 0.004612\n",
      "Epoch: 7 \tTraining Loss: 0.015305\n",
      "Train Epoch: 8 [29984/60000 (100%)]\tLoss: 0.004806\n",
      "Epoch: 8 \tTraining Loss: 0.014911\n",
      "Train Epoch: 9 [29984/60000 (100%)]\tLoss: 0.009864\n",
      "Epoch: 9 \tTraining Loss: 0.014550\n",
      "Train Epoch: 10 [29984/60000 (100%)]\tLoss: 0.013110\n",
      "Epoch: 10 \tTraining Loss: 0.014227\n",
      "Train Epoch: 11 [29984/60000 (100%)]\tLoss: 0.021325\n",
      "Epoch: 11 \tTraining Loss: 0.014021\n",
      "Train Epoch: 12 [29984/60000 (100%)]\tLoss: 0.001462\n",
      "Epoch: 12 \tTraining Loss: 0.013766\n",
      "Train Epoch: 13 [29984/60000 (100%)]\tLoss: 0.000277\n",
      "Epoch: 13 \tTraining Loss: 0.013622\n",
      "Train Epoch: 14 [29984/60000 (100%)]\tLoss: 0.004772\n",
      "Epoch: 14 \tTraining Loss: 0.013513\n",
      "Train Epoch: 15 [29984/60000 (100%)]\tLoss: 0.003256\n",
      "Epoch: 15 \tTraining Loss: 0.013357\n",
      "Train Epoch: 16 [29984/60000 (100%)]\tLoss: 0.011266\n",
      "Epoch: 16 \tTraining Loss: 0.013261\n",
      "Train Epoch: 17 [29984/60000 (100%)]\tLoss: 0.115545\n",
      "Epoch: 17 \tTraining Loss: 0.013156\n",
      "Train Epoch: 18 [29984/60000 (100%)]\tLoss: 0.000097\n",
      "Epoch: 18 \tTraining Loss: 0.013046\n",
      "Train Epoch: 19 [29984/60000 (100%)]\tLoss: 0.169858\n",
      "Epoch: 19 \tTraining Loss: 0.012946\n",
      "Train Epoch: 20 [29984/60000 (100%)]\tLoss: 0.002055\n",
      "Epoch: 20 \tTraining Loss: 0.012872\n",
      "1\n",
      "Train Epoch: 1 [29984/60000 (100%)]\tLoss: 0.115936\n",
      "Epoch: 1 \tTraining Loss: 0.757244\n",
      "Train Epoch: 2 [29984/60000 (100%)]\tLoss: 0.057924\n",
      "Epoch: 2 \tTraining Loss: 0.028040\n",
      "Train Epoch: 3 [29984/60000 (100%)]\tLoss: 0.013287\n",
      "Epoch: 3 \tTraining Loss: 0.019583\n",
      "Train Epoch: 4 [29984/60000 (100%)]\tLoss: 0.006156\n",
      "Epoch: 4 \tTraining Loss: 0.017537\n",
      "Train Epoch: 5 [29984/60000 (100%)]\tLoss: 0.007902\n",
      "Epoch: 5 \tTraining Loss: 0.016279\n",
      "Train Epoch: 6 [29984/60000 (100%)]\tLoss: 0.010730\n",
      "Epoch: 6 \tTraining Loss: 0.015448\n",
      "Train Epoch: 7 [29984/60000 (100%)]\tLoss: 0.001287\n",
      "Epoch: 7 \tTraining Loss: 0.014885\n",
      "Train Epoch: 8 [29984/60000 (100%)]\tLoss: 0.008397\n",
      "Epoch: 8 \tTraining Loss: 0.014428\n",
      "Train Epoch: 9 [29984/60000 (100%)]\tLoss: 0.000286\n",
      "Epoch: 9 \tTraining Loss: 0.014126\n",
      "Train Epoch: 10 [29984/60000 (100%)]\tLoss: 0.006771\n",
      "Epoch: 10 \tTraining Loss: 0.013856\n",
      "Train Epoch: 11 [29984/60000 (100%)]\tLoss: 0.000050\n",
      "Epoch: 11 \tTraining Loss: 0.013592\n",
      "Train Epoch: 12 [29984/60000 (100%)]\tLoss: 0.000124\n",
      "Epoch: 12 \tTraining Loss: 0.013434\n",
      "Train Epoch: 13 [29984/60000 (100%)]\tLoss: 0.005501\n",
      "Epoch: 13 \tTraining Loss: 0.013238\n",
      "Train Epoch: 14 [29984/60000 (100%)]\tLoss: 0.000538\n",
      "Epoch: 14 \tTraining Loss: 0.013121\n",
      "Train Epoch: 15 [29984/60000 (100%)]\tLoss: 0.033456\n",
      "Epoch: 15 \tTraining Loss: 0.013011\n",
      "Train Epoch: 16 [29984/60000 (100%)]\tLoss: 0.012106\n",
      "Epoch: 16 \tTraining Loss: 0.012878\n",
      "Train Epoch: 17 [29984/60000 (100%)]\tLoss: 0.009424\n",
      "Epoch: 17 \tTraining Loss: 0.012782\n",
      "Train Epoch: 18 [29984/60000 (100%)]\tLoss: 0.074842\n",
      "Epoch: 18 \tTraining Loss: 0.012682\n",
      "Train Epoch: 19 [29984/60000 (100%)]\tLoss: 0.037845\n",
      "Epoch: 19 \tTraining Loss: 0.012620\n",
      "Train Epoch: 20 [29984/60000 (100%)]\tLoss: 0.002687\n",
      "Epoch: 20 \tTraining Loss: 0.012531\n",
      "2\n",
      "Train Epoch: 1 [29984/60000 (100%)]\tLoss: 0.005406\n",
      "Epoch: 1 \tTraining Loss: 0.805710\n",
      "Train Epoch: 2 [29984/60000 (100%)]\tLoss: 0.032013\n",
      "Epoch: 2 \tTraining Loss: 0.027617\n",
      "Train Epoch: 3 [43264/60000 (72%)]\tLoss: 0.014621"
     ]
    },
    {
     "name": "stderr",
     "output_type": "stream",
     "text": [
      "IOPub message rate exceeded.\n",
      "The notebook server will temporarily stop sending output\n",
      "to the client in order to avoid crashing it.\n",
      "To change this limit, set the config variable\n",
      "`--NotebookApp.iopub_msg_rate_limit`.\n",
      "\n",
      "Current values:\n",
      "NotebookApp.iopub_msg_rate_limit=1000.0 (msgs/sec)\n",
      "NotebookApp.rate_limit_window=3.0 (secs)\n",
      "\n"
     ]
    },
    {
     "name": "stdout",
     "output_type": "stream",
     "text": [
      "Train Epoch: 8 [29984/60000 (100%)]\tLoss: 0.000127\n",
      "Epoch: 8 \tTraining Loss: 0.014011\n",
      "Train Epoch: 9 [29984/60000 (100%)]\tLoss: 0.001896\n",
      "Epoch: 9 \tTraining Loss: 0.013650\n",
      "Train Epoch: 10 [29984/60000 (100%)]\tLoss: 0.071475\n",
      "Epoch: 10 \tTraining Loss: 0.013353\n",
      "Train Epoch: 11 [43456/60000 (72%)]\tLoss: 0.003056"
     ]
    },
    {
     "name": "stderr",
     "output_type": "stream",
     "text": [
      "IOPub message rate exceeded.\n",
      "The notebook server will temporarily stop sending output\n",
      "to the client in order to avoid crashing it.\n",
      "To change this limit, set the config variable\n",
      "`--NotebookApp.iopub_msg_rate_limit`.\n",
      "\n",
      "Current values:\n",
      "NotebookApp.iopub_msg_rate_limit=1000.0 (msgs/sec)\n",
      "NotebookApp.rate_limit_window=3.0 (secs)\n",
      "\n"
     ]
    },
    {
     "name": "stdout",
     "output_type": "stream",
     "text": [
      "Train Epoch: 15 [29984/60000 (100%)]\tLoss: 0.004128\n",
      "Epoch: 15 \tTraining Loss: 0.012526\n",
      "Train Epoch: 16 [29984/60000 (100%)]\tLoss: 0.087092\n",
      "Epoch: 16 \tTraining Loss: 0.012456\n",
      "Train Epoch: 17 [29984/60000 (100%)]\tLoss: 0.000668\n",
      "Epoch: 17 \tTraining Loss: 0.012352\n",
      "Train Epoch: 18 [37184/60000 (62%)]\tLoss: 0.001356"
     ]
    },
    {
     "name": "stderr",
     "output_type": "stream",
     "text": [
      "IOPub message rate exceeded.\n",
      "The notebook server will temporarily stop sending output\n",
      "to the client in order to avoid crashing it.\n",
      "To change this limit, set the config variable\n",
      "`--NotebookApp.iopub_msg_rate_limit`.\n",
      "\n",
      "Current values:\n",
      "NotebookApp.iopub_msg_rate_limit=1000.0 (msgs/sec)\n",
      "NotebookApp.rate_limit_window=3.0 (secs)\n",
      "\n"
     ]
    },
    {
     "name": "stdout",
     "output_type": "stream",
     "text": [
      "Train Epoch: 4 [29984/60000 (100%)]\tLoss: 0.007623\n",
      "Epoch: 4 \tTraining Loss: 0.019611\n",
      "Train Epoch: 5 [29984/60000 (100%)]\tLoss: 0.000142\n",
      "Epoch: 5 \tTraining Loss: 0.017972\n",
      "Train Epoch: 6 [29984/60000 (100%)]\tLoss: 0.000612\n",
      "Epoch: 6 \tTraining Loss: 0.016829\n",
      "Train Epoch: 7 [29984/60000 (100%)]\tLoss: 0.002414\n",
      "Epoch: 7 \tTraining Loss: 0.016044\n",
      "Train Epoch: 8 [56000/60000 (93%)]\tLoss: 0.004608"
     ]
    },
    {
     "name": "stderr",
     "output_type": "stream",
     "text": [
      "IOPub message rate exceeded.\n",
      "The notebook server will temporarily stop sending output\n",
      "to the client in order to avoid crashing it.\n",
      "To change this limit, set the config variable\n",
      "`--NotebookApp.iopub_msg_rate_limit`.\n",
      "\n",
      "Current values:\n",
      "NotebookApp.iopub_msg_rate_limit=1000.0 (msgs/sec)\n",
      "NotebookApp.rate_limit_window=3.0 (secs)\n",
      "\n"
     ]
    },
    {
     "name": "stdout",
     "output_type": "stream",
     "text": [
      "Train Epoch: 12 [29984/60000 (100%)]\tLoss: 0.000299\n",
      "Epoch: 12 \tTraining Loss: 0.014026\n",
      "Train Epoch: 13 [29984/60000 (100%)]\tLoss: 0.001209\n",
      "Epoch: 13 \tTraining Loss: 0.013792\n",
      "Train Epoch: 14 [29984/60000 (100%)]\tLoss: 0.000520\n",
      "Epoch: 14 \tTraining Loss: 0.013626\n",
      "Train Epoch: 15 [29984/60000 (100%)]\tLoss: 0.000323\n",
      "Epoch: 15 \tTraining Loss: 0.013509\n",
      "Train Epoch: 16 [29984/60000 (100%)]\tLoss: 0.000596\n",
      "Epoch: 16 \tTraining Loss: 0.013388\n",
      "Train Epoch: 17 [29984/60000 (100%)]\tLoss: 0.001532\n",
      "Epoch: 17 \tTraining Loss: 0.013268\n",
      "Train Epoch: 18 [4992/60000 (8%)]\tLoss: 0.021048"
     ]
    },
    {
     "name": "stderr",
     "output_type": "stream",
     "text": [
      "IOPub message rate exceeded.\n",
      "The notebook server will temporarily stop sending output\n",
      "to the client in order to avoid crashing it.\n",
      "To change this limit, set the config variable\n",
      "`--NotebookApp.iopub_msg_rate_limit`.\n",
      "\n",
      "Current values:\n",
      "NotebookApp.iopub_msg_rate_limit=1000.0 (msgs/sec)\n",
      "NotebookApp.rate_limit_window=3.0 (secs)\n",
      "\n"
     ]
    },
    {
     "name": "stdout",
     "output_type": "stream",
     "text": [
      "Train Epoch: 2 [29984/60000 (100%)]\tLoss: 0.242339\n",
      "Epoch: 2 \tTraining Loss: 0.032224\n",
      "Train Epoch: 3 [29984/60000 (100%)]\tLoss: 0.033396\n",
      "Epoch: 3 \tTraining Loss: 0.022079\n",
      "Train Epoch: 4 [29984/60000 (100%)]\tLoss: 0.004493\n",
      "Epoch: 4 \tTraining Loss: 0.019257\n",
      "Train Epoch: 5 [29984/60000 (100%)]\tLoss: 0.034397\n",
      "Epoch: 5 \tTraining Loss: 0.017793\n",
      "Train Epoch: 6 [15936/60000 (27%)]\tLoss: 0.013427"
     ]
    },
    {
     "name": "stderr",
     "output_type": "stream",
     "text": [
      "IOPub message rate exceeded.\n",
      "The notebook server will temporarily stop sending output\n",
      "to the client in order to avoid crashing it.\n",
      "To change this limit, set the config variable\n",
      "`--NotebookApp.iopub_msg_rate_limit`.\n",
      "\n",
      "Current values:\n",
      "NotebookApp.iopub_msg_rate_limit=1000.0 (msgs/sec)\n",
      "NotebookApp.rate_limit_window=3.0 (secs)\n",
      "\n"
     ]
    },
    {
     "name": "stdout",
     "output_type": "stream",
     "text": [
      "Train Epoch: 9 [29984/60000 (100%)]\tLoss: 0.000729\n",
      "Epoch: 9 \tTraining Loss: 0.015071\n",
      "Train Epoch: 10 [29984/60000 (100%)]\tLoss: 0.000802\n",
      "Epoch: 10 \tTraining Loss: 0.014739\n",
      "Train Epoch: 11 [29984/60000 (100%)]\tLoss: 0.001259\n",
      "Epoch: 11 \tTraining Loss: 0.014441\n",
      "Train Epoch: 12 [25792/60000 (43%)]\tLoss: 0.009869"
     ]
    },
    {
     "name": "stderr",
     "output_type": "stream",
     "text": [
      "IOPub message rate exceeded.\n",
      "The notebook server will temporarily stop sending output\n",
      "to the client in order to avoid crashing it.\n",
      "To change this limit, set the config variable\n",
      "`--NotebookApp.iopub_msg_rate_limit`.\n",
      "\n",
      "Current values:\n",
      "NotebookApp.iopub_msg_rate_limit=1000.0 (msgs/sec)\n",
      "NotebookApp.rate_limit_window=3.0 (secs)\n",
      "\n"
     ]
    },
    {
     "name": "stdout",
     "output_type": "stream",
     "text": [
      "Train Epoch: 16 [29984/60000 (100%)]\tLoss: 0.028331\n",
      "Epoch: 16 \tTraining Loss: 0.013538\n",
      "Train Epoch: 17 [29984/60000 (100%)]\tLoss: 0.031011\n",
      "Epoch: 17 \tTraining Loss: 0.013454\n",
      "Train Epoch: 18 [29984/60000 (100%)]\tLoss: 0.000814\n",
      "Epoch: 18 \tTraining Loss: 0.013308\n",
      "Train Epoch: 19 [29984/60000 (100%)]\tLoss: 0.007144\n",
      "Epoch: 19 \tTraining Loss: 0.013247\n",
      "Train Epoch: 20 [33408/60000 (56%)]\tLoss: 0.015592"
     ]
    },
    {
     "name": "stderr",
     "output_type": "stream",
     "text": [
      "IOPub message rate exceeded.\n",
      "The notebook server will temporarily stop sending output\n",
      "to the client in order to avoid crashing it.\n",
      "To change this limit, set the config variable\n",
      "`--NotebookApp.iopub_msg_rate_limit`.\n",
      "\n",
      "Current values:\n",
      "NotebookApp.iopub_msg_rate_limit=1000.0 (msgs/sec)\n",
      "NotebookApp.rate_limit_window=3.0 (secs)\n",
      "\n"
     ]
    },
    {
     "name": "stdout",
     "output_type": "stream",
     "text": [
      "Train Epoch: 3 [29984/60000 (100%)]\tLoss: 0.005665\n",
      "Epoch: 3 \tTraining Loss: 0.021042\n",
      "Train Epoch: 4 [29984/60000 (100%)]\tLoss: 0.004467\n",
      "Epoch: 4 \tTraining Loss: 0.017868\n",
      "Train Epoch: 5 [29984/60000 (100%)]\tLoss: 0.068493\n",
      "Epoch: 5 \tTraining Loss: 0.016073\n",
      "Train Epoch: 6 [29984/60000 (100%)]\tLoss: 0.000689\n",
      "Epoch: 6 \tTraining Loss: 0.015072\n",
      "Train Epoch: 7 [1728/60000 (3%)]\tLoss: 0.001073"
     ]
    },
    {
     "name": "stderr",
     "output_type": "stream",
     "text": [
      "IOPub message rate exceeded.\n",
      "The notebook server will temporarily stop sending output\n",
      "to the client in order to avoid crashing it.\n",
      "To change this limit, set the config variable\n",
      "`--NotebookApp.iopub_msg_rate_limit`.\n",
      "\n",
      "Current values:\n",
      "NotebookApp.iopub_msg_rate_limit=1000.0 (msgs/sec)\n",
      "NotebookApp.rate_limit_window=3.0 (secs)\n",
      "\n"
     ]
    },
    {
     "name": "stdout",
     "output_type": "stream",
     "text": [
      "Train Epoch: 13 [29984/60000 (100%)]\tLoss: 0.001712\n",
      "Epoch: 13 \tTraining Loss: 0.012931\n",
      "Train Epoch: 14 [29984/60000 (100%)]\tLoss: 0.000345\n",
      "Epoch: 14 \tTraining Loss: 0.012855\n",
      "Train Epoch: 15 [29984/60000 (100%)]\tLoss: 0.006317\n",
      "Epoch: 15 \tTraining Loss: 0.012747\n",
      "Train Epoch: 16 [26304/60000 (44%)]\tLoss: 0.001515"
     ]
    },
    {
     "name": "stderr",
     "output_type": "stream",
     "text": [
      "IOPub message rate exceeded.\n",
      "The notebook server will temporarily stop sending output\n",
      "to the client in order to avoid crashing it.\n",
      "To change this limit, set the config variable\n",
      "`--NotebookApp.iopub_msg_rate_limit`.\n",
      "\n",
      "Current values:\n",
      "NotebookApp.iopub_msg_rate_limit=1000.0 (msgs/sec)\n",
      "NotebookApp.rate_limit_window=3.0 (secs)\n",
      "\n"
     ]
    },
    {
     "name": "stdout",
     "output_type": "stream",
     "text": [
      "Train Epoch: 1 [29984/60000 (100%)]\tLoss: 0.005899\n",
      "Epoch: 1 \tTraining Loss: 0.758544\n",
      "Train Epoch: 2 [29984/60000 (100%)]\tLoss: 0.013095\n",
      "Epoch: 2 \tTraining Loss: 0.024865\n",
      "Train Epoch: 3 [29984/60000 (100%)]\tLoss: 0.002085\n",
      "Epoch: 3 \tTraining Loss: 0.018571\n",
      "Train Epoch: 4 [29984/60000 (100%)]\tLoss: 0.004786\n",
      "Epoch: 4 \tTraining Loss: 0.016994\n",
      "Train Epoch: 5 [51520/60000 (86%)]\tLoss: 0.002668"
     ]
    },
    {
     "name": "stderr",
     "output_type": "stream",
     "text": [
      "IOPub message rate exceeded.\n",
      "The notebook server will temporarily stop sending output\n",
      "to the client in order to avoid crashing it.\n",
      "To change this limit, set the config variable\n",
      "`--NotebookApp.iopub_msg_rate_limit`.\n",
      "\n",
      "Current values:\n",
      "NotebookApp.iopub_msg_rate_limit=1000.0 (msgs/sec)\n",
      "NotebookApp.rate_limit_window=3.0 (secs)\n",
      "\n"
     ]
    },
    {
     "name": "stdout",
     "output_type": "stream",
     "text": [
      "Train Epoch: 9 [29984/60000 (100%)]\tLoss: 0.000158\n",
      "Epoch: 9 \tTraining Loss: 0.014444\n",
      "Train Epoch: 10 [29984/60000 (100%)]\tLoss: 0.004075\n",
      "Epoch: 10 \tTraining Loss: 0.014296\n",
      "Train Epoch: 11 [29984/60000 (100%)]\tLoss: 0.064077\n",
      "Epoch: 11 \tTraining Loss: 0.014099\n",
      "Train Epoch: 12 [53440/60000 (89%)]\tLoss: 0.046352"
     ]
    },
    {
     "name": "stderr",
     "output_type": "stream",
     "text": [
      "IOPub message rate exceeded.\n",
      "The notebook server will temporarily stop sending output\n",
      "to the client in order to avoid crashing it.\n",
      "To change this limit, set the config variable\n",
      "`--NotebookApp.iopub_msg_rate_limit`.\n",
      "\n",
      "Current values:\n",
      "NotebookApp.iopub_msg_rate_limit=1000.0 (msgs/sec)\n",
      "NotebookApp.rate_limit_window=3.0 (secs)\n",
      "\n"
     ]
    },
    {
     "name": "stdout",
     "output_type": "stream",
     "text": [
      "Train Epoch: 17 [29984/60000 (100%)]\tLoss: 0.005558\n",
      "Epoch: 17 \tTraining Loss: 0.013360\n",
      "Train Epoch: 18 [29984/60000 (100%)]\tLoss: 0.000118\n",
      "Epoch: 18 \tTraining Loss: 0.013340\n",
      "Train Epoch: 19 [29984/60000 (100%)]\tLoss: 0.000596\n",
      "Epoch: 19 \tTraining Loss: 0.013207\n",
      "Train Epoch: 20 [30272/60000 (50%)]\tLoss: 0.017677"
     ]
    },
    {
     "name": "stderr",
     "output_type": "stream",
     "text": [
      "IOPub message rate exceeded.\n",
      "The notebook server will temporarily stop sending output\n",
      "to the client in order to avoid crashing it.\n",
      "To change this limit, set the config variable\n",
      "`--NotebookApp.iopub_msg_rate_limit`.\n",
      "\n",
      "Current values:\n",
      "NotebookApp.iopub_msg_rate_limit=1000.0 (msgs/sec)\n",
      "NotebookApp.rate_limit_window=3.0 (secs)\n",
      "\n"
     ]
    },
    {
     "name": "stdout",
     "output_type": "stream",
     "text": [
      "Train Epoch: 4 [29984/60000 (100%)]\tLoss: 0.002091\n",
      "Epoch: 4 \tTraining Loss: 0.017093\n",
      "Train Epoch: 5 [29984/60000 (100%)]\tLoss: 0.001239\n",
      "Epoch: 5 \tTraining Loss: 0.015491\n",
      "Train Epoch: 6 [29984/60000 (100%)]\tLoss: 0.000922\n",
      "Epoch: 6 \tTraining Loss: 0.014569\n",
      "Train Epoch: 7 [46592/60000 (78%)]\tLoss: 0.004851"
     ]
    },
    {
     "name": "stderr",
     "output_type": "stream",
     "text": [
      "IOPub message rate exceeded.\n",
      "The notebook server will temporarily stop sending output\n",
      "to the client in order to avoid crashing it.\n",
      "To change this limit, set the config variable\n",
      "`--NotebookApp.iopub_msg_rate_limit`.\n",
      "\n",
      "Current values:\n",
      "NotebookApp.iopub_msg_rate_limit=1000.0 (msgs/sec)\n",
      "NotebookApp.rate_limit_window=3.0 (secs)\n",
      "\n"
     ]
    },
    {
     "name": "stdout",
     "output_type": "stream",
     "text": [
      "Train Epoch: 11 [29984/60000 (100%)]\tLoss: 0.009337\n",
      "Epoch: 11 \tTraining Loss: 0.012770\n",
      "Train Epoch: 12 [29984/60000 (100%)]\tLoss: 0.039623\n",
      "Epoch: 12 \tTraining Loss: 0.012642\n",
      "Train Epoch: 13 [29984/60000 (100%)]\tLoss: 0.001630\n",
      "Epoch: 13 \tTraining Loss: 0.012528\n",
      "Train Epoch: 14 [29984/60000 (100%)]\tLoss: 0.127134\n",
      "Epoch: 14 \tTraining Loss: 0.012432\n",
      "Train Epoch: 15 [704/60000 (1%)]\tLoss: 0.002813"
     ]
    },
    {
     "name": "stderr",
     "output_type": "stream",
     "text": [
      "IOPub message rate exceeded.\n",
      "The notebook server will temporarily stop sending output\n",
      "to the client in order to avoid crashing it.\n",
      "To change this limit, set the config variable\n",
      "`--NotebookApp.iopub_msg_rate_limit`.\n",
      "\n",
      "Current values:\n",
      "NotebookApp.iopub_msg_rate_limit=1000.0 (msgs/sec)\n",
      "NotebookApp.rate_limit_window=3.0 (secs)\n",
      "\n"
     ]
    },
    {
     "name": "stdout",
     "output_type": "stream",
     "text": [
      "Train Epoch: 18 [29984/60000 (100%)]\tLoss: 0.001544\n",
      "Epoch: 18 \tTraining Loss: 0.012118\n",
      "Train Epoch: 19 [29984/60000 (100%)]\tLoss: 0.001135\n",
      "Epoch: 19 \tTraining Loss: 0.012058\n",
      "Train Epoch: 20 [29984/60000 (100%)]\tLoss: 0.000193\n",
      "Epoch: 20 \tTraining Loss: 0.011992\n",
      "8\n",
      "Train Epoch: 1 [5056/60000 (8%)]\tLoss: 2.311236"
     ]
    },
    {
     "name": "stderr",
     "output_type": "stream",
     "text": [
      "IOPub message rate exceeded.\n",
      "The notebook server will temporarily stop sending output\n",
      "to the client in order to avoid crashing it.\n",
      "To change this limit, set the config variable\n",
      "`--NotebookApp.iopub_msg_rate_limit`.\n",
      "\n",
      "Current values:\n",
      "NotebookApp.iopub_msg_rate_limit=1000.0 (msgs/sec)\n",
      "NotebookApp.rate_limit_window=3.0 (secs)\n",
      "\n"
     ]
    },
    {
     "name": "stdout",
     "output_type": "stream",
     "text": [
      "Train Epoch: 3 [57600/60000 (96%)]\tLoss: 0.002927"
     ]
    },
    {
     "name": "stderr",
     "output_type": "stream",
     "text": [
      "IOPub message rate exceeded.\n",
      "The notebook server will temporarily stop sending output\n",
      "to the client in order to avoid crashing it.\n",
      "To change this limit, set the config variable\n",
      "`--NotebookApp.iopub_msg_rate_limit`.\n",
      "\n",
      "Current values:\n",
      "NotebookApp.iopub_msg_rate_limit=1000.0 (msgs/sec)\n",
      "NotebookApp.rate_limit_window=3.0 (secs)\n",
      "\n"
     ]
    },
    {
     "name": "stdout",
     "output_type": "stream",
     "text": [
      "Train Epoch: 6 [29984/60000 (100%)]\tLoss: 0.001433\n",
      "Epoch: 6 \tTraining Loss: 0.015125\n",
      "Train Epoch: 7 [29984/60000 (100%)]\tLoss: 0.003818\n",
      "Epoch: 7 \tTraining Loss: 0.014659\n",
      "Train Epoch: 8 [29984/60000 (100%)]\tLoss: 0.041736\n",
      "Epoch: 8 \tTraining Loss: 0.014299\n",
      "Train Epoch: 9 [29984/60000 (100%)]\tLoss: 0.001832\n",
      "Epoch: 9 \tTraining Loss: 0.014183\n",
      "Train Epoch: 10 [29984/60000 (100%)]\tLoss: 0.000753\n",
      "Epoch: 10 \tTraining Loss: 0.014041\n",
      "Train Epoch: 11 [40704/60000 (68%)]\tLoss: 0.010707"
     ]
    },
    {
     "name": "stderr",
     "output_type": "stream",
     "text": [
      "IOPub message rate exceeded.\n",
      "The notebook server will temporarily stop sending output\n",
      "to the client in order to avoid crashing it.\n",
      "To change this limit, set the config variable\n",
      "`--NotebookApp.iopub_msg_rate_limit`.\n",
      "\n",
      "Current values:\n",
      "NotebookApp.iopub_msg_rate_limit=1000.0 (msgs/sec)\n",
      "NotebookApp.rate_limit_window=3.0 (secs)\n",
      "\n"
     ]
    },
    {
     "name": "stdout",
     "output_type": "stream",
     "text": [
      "Train Epoch: 17 [29984/60000 (100%)]\tLoss: 0.000120\n",
      "Epoch: 17 \tTraining Loss: 0.013354\n",
      "Train Epoch: 18 [29984/60000 (100%)]\tLoss: 0.000294\n",
      "Epoch: 18 \tTraining Loss: 0.013230\n",
      "Train Epoch: 19 [29984/60000 (100%)]\tLoss: 0.034178\n",
      "Epoch: 19 \tTraining Loss: 0.013192\n",
      "Train Epoch: 20 [54080/60000 (90%)]\tLoss: 0.000758"
     ]
    },
    {
     "name": "stderr",
     "output_type": "stream",
     "text": [
      "IOPub message rate exceeded.\n",
      "The notebook server will temporarily stop sending output\n",
      "to the client in order to avoid crashing it.\n",
      "To change this limit, set the config variable\n",
      "`--NotebookApp.iopub_msg_rate_limit`.\n",
      "\n",
      "Current values:\n",
      "NotebookApp.iopub_msg_rate_limit=1000.0 (msgs/sec)\n",
      "NotebookApp.rate_limit_window=3.0 (secs)\n",
      "\n"
     ]
    },
    {
     "name": "stdout",
     "output_type": "stream",
     "text": [
      "Train Epoch: 5 [29984/60000 (100%)]\tLoss: 0.000305\n",
      "Epoch: 5 \tTraining Loss: 0.015547\n",
      "Train Epoch: 6 [29984/60000 (100%)]\tLoss: 0.002392\n",
      "Epoch: 6 \tTraining Loss: 0.014980\n",
      "Train Epoch: 7 [29984/60000 (100%)]\tLoss: 0.016840\n",
      "Epoch: 7 \tTraining Loss: 0.014567\n",
      "Train Epoch: 8 [29984/60000 (100%)]\tLoss: 0.019833\n",
      "Epoch: 8 \tTraining Loss: 0.014303\n",
      "Train Epoch: 9 [59584/60000 (99%)]\tLoss: 0.016225"
     ]
    },
    {
     "name": "stderr",
     "output_type": "stream",
     "text": [
      "IOPub message rate exceeded.\n",
      "The notebook server will temporarily stop sending output\n",
      "to the client in order to avoid crashing it.\n",
      "To change this limit, set the config variable\n",
      "`--NotebookApp.iopub_msg_rate_limit`.\n",
      "\n",
      "Current values:\n",
      "NotebookApp.iopub_msg_rate_limit=1000.0 (msgs/sec)\n",
      "NotebookApp.rate_limit_window=3.0 (secs)\n",
      "\n"
     ]
    },
    {
     "name": "stdout",
     "output_type": "stream",
     "text": [
      "Train Epoch: 13 [29984/60000 (100%)]\tLoss: 0.002305\n",
      "Epoch: 13 \tTraining Loss: 0.013372\n",
      "Train Epoch: 14 [29984/60000 (100%)]\tLoss: 0.004086\n",
      "Epoch: 14 \tTraining Loss: 0.013273\n",
      "Train Epoch: 15 [29984/60000 (100%)]\tLoss: 0.000677\n",
      "Epoch: 15 \tTraining Loss: 0.013143\n",
      "Train Epoch: 16 [29984/60000 (100%)]\tLoss: 0.005482\n",
      "Epoch: 16 \tTraining Loss: 0.013061\n",
      "Train Epoch: 17 [29984/60000 (100%)]\tLoss: 0.008741\n",
      "Epoch: 17 \tTraining Loss: 0.012968\n",
      "Train Epoch: 18 [960/60000 (2%)]\tLoss: 0.003952"
     ]
    },
    {
     "name": "stderr",
     "output_type": "stream",
     "text": [
      "IOPub message rate exceeded.\n",
      "The notebook server will temporarily stop sending output\n",
      "to the client in order to avoid crashing it.\n",
      "To change this limit, set the config variable\n",
      "`--NotebookApp.iopub_msg_rate_limit`.\n",
      "\n",
      "Current values:\n",
      "NotebookApp.iopub_msg_rate_limit=1000.0 (msgs/sec)\n",
      "NotebookApp.rate_limit_window=3.0 (secs)\n",
      "\n"
     ]
    },
    {
     "name": "stdout",
     "output_type": "stream",
     "text": [
      "Train Epoch: 3 [29984/60000 (100%)]\tLoss: 0.003619\n",
      "Epoch: 3 \tTraining Loss: 0.020512\n",
      "Train Epoch: 4 [29984/60000 (100%)]\tLoss: 0.005050\n",
      "Epoch: 4 \tTraining Loss: 0.016906\n",
      "Train Epoch: 5 [29984/60000 (100%)]\tLoss: 0.015031\n",
      "Epoch: 5 \tTraining Loss: 0.015670\n",
      "Train Epoch: 6 [25024/60000 (42%)]\tLoss: 0.056497"
     ]
    },
    {
     "name": "stderr",
     "output_type": "stream",
     "text": [
      "IOPub message rate exceeded.\n",
      "The notebook server will temporarily stop sending output\n",
      "to the client in order to avoid crashing it.\n",
      "To change this limit, set the config variable\n",
      "`--NotebookApp.iopub_msg_rate_limit`.\n",
      "\n",
      "Current values:\n",
      "NotebookApp.iopub_msg_rate_limit=1000.0 (msgs/sec)\n",
      "NotebookApp.rate_limit_window=3.0 (secs)\n",
      "\n"
     ]
    },
    {
     "name": "stdout",
     "output_type": "stream",
     "text": [
      "Train Epoch: 11 [29984/60000 (100%)]\tLoss: 0.008909\n",
      "Epoch: 11 \tTraining Loss: 0.013756\n",
      "Train Epoch: 12 [29984/60000 (100%)]\tLoss: 0.000773\n",
      "Epoch: 12 \tTraining Loss: 0.013625\n",
      "Train Epoch: 13 [29984/60000 (100%)]\tLoss: 0.001925\n",
      "Epoch: 13 \tTraining Loss: 0.013490\n",
      "Train Epoch: 14 [29984/60000 (100%)]\tLoss: 0.016614\n",
      "Epoch: 14 \tTraining Loss: 0.013383\n",
      "Train Epoch: 15 [29632/60000 (49%)]\tLoss: 0.057924"
     ]
    },
    {
     "name": "stderr",
     "output_type": "stream",
     "text": [
      "IOPub message rate exceeded.\n",
      "The notebook server will temporarily stop sending output\n",
      "to the client in order to avoid crashing it.\n",
      "To change this limit, set the config variable\n",
      "`--NotebookApp.iopub_msg_rate_limit`.\n",
      "\n",
      "Current values:\n",
      "NotebookApp.iopub_msg_rate_limit=1000.0 (msgs/sec)\n",
      "NotebookApp.rate_limit_window=3.0 (secs)\n",
      "\n"
     ]
    },
    {
     "name": "stdout",
     "output_type": "stream",
     "text": [
      "Train Epoch: 20 [29984/60000 (100%)]\tLoss: 0.000453\n",
      "Epoch: 20 \tTraining Loss: 0.012780\n",
      "11\n",
      "Train Epoch: 1 [29984/60000 (100%)]\tLoss: 0.076871\n",
      "Epoch: 1 \tTraining Loss: 0.837864\n",
      "Train Epoch: 2 [29984/60000 (100%)]\tLoss: 0.003048\n",
      "Epoch: 2 \tTraining Loss: 0.028604\n",
      "Train Epoch: 3 [29984/60000 (100%)]\tLoss: 0.000914\n",
      "Epoch: 3 \tTraining Loss: 0.019533\n",
      "Train Epoch: 4 [27712/60000 (46%)]\tLoss: 0.005898"
     ]
    },
    {
     "name": "stderr",
     "output_type": "stream",
     "text": [
      "IOPub message rate exceeded.\n",
      "The notebook server will temporarily stop sending output\n",
      "to the client in order to avoid crashing it.\n",
      "To change this limit, set the config variable\n",
      "`--NotebookApp.iopub_msg_rate_limit`.\n",
      "\n",
      "Current values:\n",
      "NotebookApp.iopub_msg_rate_limit=1000.0 (msgs/sec)\n",
      "NotebookApp.rate_limit_window=3.0 (secs)\n",
      "\n"
     ]
    },
    {
     "name": "stdout",
     "output_type": "stream",
     "text": [
      "Train Epoch: 8 [29984/60000 (100%)]\tLoss: 0.000944\n",
      "Epoch: 8 \tTraining Loss: 0.013600\n",
      "Train Epoch: 9 [29984/60000 (100%)]\tLoss: 0.020064\n",
      "Epoch: 9 \tTraining Loss: 0.013286\n",
      "Train Epoch: 10 [29984/60000 (100%)]\tLoss: 0.013821\n",
      "Epoch: 10 \tTraining Loss: 0.013087\n",
      "Train Epoch: 11 [29984/60000 (100%)]\tLoss: 0.001326\n",
      "Epoch: 11 \tTraining Loss: 0.012893\n",
      "Train Epoch: 12 [12800/60000 (21%)]\tLoss: 0.008209"
     ]
    },
    {
     "name": "stderr",
     "output_type": "stream",
     "text": [
      "IOPub message rate exceeded.\n",
      "The notebook server will temporarily stop sending output\n",
      "to the client in order to avoid crashing it.\n",
      "To change this limit, set the config variable\n",
      "`--NotebookApp.iopub_msg_rate_limit`.\n",
      "\n",
      "Current values:\n",
      "NotebookApp.iopub_msg_rate_limit=1000.0 (msgs/sec)\n",
      "NotebookApp.rate_limit_window=3.0 (secs)\n",
      "\n"
     ]
    },
    {
     "name": "stdout",
     "output_type": "stream",
     "text": [
      "Train Epoch: 16 [29984/60000 (100%)]\tLoss: 0.035854\n",
      "Epoch: 16 \tTraining Loss: 0.012363\n",
      "Train Epoch: 17 [29984/60000 (100%)]\tLoss: 0.022989\n",
      "Epoch: 17 \tTraining Loss: 0.012298\n",
      "Train Epoch: 18 [29984/60000 (100%)]\tLoss: 0.036940\n",
      "Epoch: 18 \tTraining Loss: 0.012251\n",
      "Train Epoch: 1 [29984/60000 (100%)]\tLoss: 0.087083\n",
      "Epoch: 1 \tTraining Loss: 0.705673\n",
      "Train Epoch: 2 [29984/60000 (100%)]\tLoss: 0.011563\n",
      "Epoch: 2 \tTraining Loss: 0.029385\n",
      "Train Epoch: 3 [29984/60000 (100%)]\tLoss: 0.041149\n",
      "Epoch: 3 \tTraining Loss: 0.021686\n",
      "Train Epoch: 4 [29984/60000 (100%)]\tLoss: 0.002227\n",
      "Epoch: 4 \tTraining Loss: 0.018970\n",
      "Train Epoch: 5 [29984/60000 (100%)]\tLoss: 0.001590\n",
      "Epoch: 5 \tTraining Loss: 0.017308\n",
      "Train Epoch: 6 [29984/60000 (100%)]\tLoss: 0.000545\n",
      "Epoch: 6 \tTraining Loss: 0.016154\n",
      "Train Epoch: 7 [29984/60000 (100%)]\tLoss: 0.040042\n",
      "Epoch: 7 \tTraining Loss: 0.015469\n",
      "Train Epoch: 8 [29984/60000 (100%)]\tLoss: 0.000789\n",
      "Epoch: 8 \tTraining Loss: 0.014948\n",
      "Train Epoch: 9 [29984/60000 (100%)]\tLoss: 0.000905\n",
      "Epoch: 9 \tTraining Loss: 0.014611\n",
      "Train Epoch: 10 [29984/60000 (100%)]\tLoss: 0.015491\n",
      "Epoch: 10 \tTraining Loss: 0.014256\n",
      "Train Epoch: 11 [29984/60000 (100%)]\tLoss: 0.000964\n",
      "Epoch: 11 \tTraining Loss: 0.014014\n",
      "Train Epoch: 12 [29984/60000 (100%)]\tLoss: 0.000569\n",
      "Epoch: 12 \tTraining Loss: 0.013785\n",
      "Train Epoch: 13 [29984/60000 (100%)]\tLoss: 0.000648\n",
      "Epoch: 13 \tTraining Loss: 0.013600\n",
      "Train Epoch: 14 [29984/60000 (100%)]\tLoss: 0.026458\n",
      "Epoch: 14 \tTraining Loss: 0.013404\n",
      "Train Epoch: 15 [29984/60000 (100%)]\tLoss: 0.001338\n",
      "Epoch: 15 \tTraining Loss: 0.013281\n",
      "Train Epoch: 16 [29984/60000 (100%)]\tLoss: 0.002387\n",
      "Epoch: 16 \tTraining Loss: 0.013133\n",
      "Train Epoch: 17 [29984/60000 (100%)]\tLoss: 0.000487\n",
      "Epoch: 17 \tTraining Loss: 0.012949\n",
      "Train Epoch: 18 [29984/60000 (100%)]\tLoss: 0.005180\n",
      "Epoch: 18 \tTraining Loss: 0.012871\n",
      "Train Epoch: 19 [29984/60000 (100%)]\tLoss: 0.000595\n",
      "Epoch: 19 \tTraining Loss: 0.012745\n",
      "Train Epoch: 20 [29984/60000 (100%)]\tLoss: 0.001660\n",
      "Epoch: 20 \tTraining Loss: 0.012657\n",
      "14\n",
      "Train Epoch: 1 [29984/60000 (100%)]\tLoss: 0.034022\n",
      "Epoch: 1 \tTraining Loss: 0.730961\n",
      "Train Epoch: 2 [29984/60000 (100%)]\tLoss: 0.011572\n",
      "Epoch: 2 \tTraining Loss: 0.028333\n",
      "Train Epoch: 3 [29984/60000 (100%)]\tLoss: 0.001365\n",
      "Epoch: 3 \tTraining Loss: 0.020912\n",
      "Train Epoch: 4 [29984/60000 (100%)]\tLoss: 0.000784\n",
      "Epoch: 4 \tTraining Loss: 0.018120\n",
      "Train Epoch: 5 [29984/60000 (100%)]\tLoss: 0.180612\n",
      "Epoch: 5 \tTraining Loss: 0.016533\n",
      "Train Epoch: 6 [29984/60000 (100%)]\tLoss: 0.001023\n",
      "Epoch: 6 \tTraining Loss: 0.015532\n",
      "Train Epoch: 7 [29984/60000 (100%)]\tLoss: 0.014300\n",
      "Epoch: 7 \tTraining Loss: 0.014803\n",
      "Train Epoch: 8 [29984/60000 (100%)]\tLoss: 0.000970\n",
      "Epoch: 8 \tTraining Loss: 0.014297\n",
      "Train Epoch: 9 [29984/60000 (100%)]\tLoss: 0.004189\n",
      "Epoch: 9 \tTraining Loss: 0.013917\n",
      "Train Epoch: 10 [29984/60000 (100%)]\tLoss: 0.002317\n",
      "Epoch: 10 \tTraining Loss: 0.013636\n",
      "Train Epoch: 11 [29984/60000 (100%)]\tLoss: 0.002697\n",
      "Epoch: 11 \tTraining Loss: 0.013411\n",
      "Train Epoch: 12 [29984/60000 (100%)]\tLoss: 0.000718\n",
      "Epoch: 12 \tTraining Loss: 0.013251\n",
      "Train Epoch: 13 [29984/60000 (100%)]\tLoss: 0.045376\n",
      "Epoch: 13 \tTraining Loss: 0.013114\n",
      "Train Epoch: 14 [29984/60000 (100%)]\tLoss: 0.001175\n",
      "Epoch: 14 \tTraining Loss: 0.012944\n",
      "Train Epoch: 15 [29984/60000 (100%)]\tLoss: 0.215300\n",
      "Epoch: 15 \tTraining Loss: 0.012797\n",
      "Train Epoch: 16 [29984/60000 (100%)]\tLoss: 0.011433\n",
      "Epoch: 16 \tTraining Loss: 0.012709\n",
      "Train Epoch: 17 [29984/60000 (100%)]\tLoss: 0.001381\n",
      "Epoch: 17 \tTraining Loss: 0.012623\n",
      "Train Epoch: 18 [29984/60000 (100%)]\tLoss: 0.010418\n",
      "Epoch: 18 \tTraining Loss: 0.012562\n",
      "Train Epoch: 19 [29984/60000 (100%)]\tLoss: 0.000481\n",
      "Epoch: 19 \tTraining Loss: 0.012431\n",
      "Train Epoch: 20 [29984/60000 (100%)]\tLoss: 0.002209\n",
      "Epoch: 20 \tTraining Loss: 0.012386\n",
      "15\n",
      "Train Epoch: 1 [29984/60000 (100%)]\tLoss: 0.021203\n",
      "Epoch: 1 \tTraining Loss: 0.674644\n",
      "Train Epoch: 2 [29984/60000 (100%)]\tLoss: 0.166335\n",
      "Epoch: 2 \tTraining Loss: 0.030218\n",
      "Train Epoch: 3 [29984/60000 (100%)]\tLoss: 0.016712\n",
      "Epoch: 3 \tTraining Loss: 0.021726\n",
      "Train Epoch: 4 [29984/60000 (100%)]\tLoss: 0.010850\n",
      "Epoch: 4 \tTraining Loss: 0.019309\n",
      "Train Epoch: 5 [29984/60000 (100%)]\tLoss: 0.001144\n",
      "Epoch: 5 \tTraining Loss: 0.017899\n",
      "Train Epoch: 6 [29984/60000 (100%)]\tLoss: 0.005837\n",
      "Epoch: 6 \tTraining Loss: 0.016972\n",
      "Train Epoch: 7 [29984/60000 (100%)]\tLoss: 0.001195\n",
      "Epoch: 7 \tTraining Loss: 0.016522\n",
      "Train Epoch: 8 [29984/60000 (100%)]\tLoss: 0.004143\n",
      "Epoch: 8 \tTraining Loss: 0.016111\n",
      "Train Epoch: 9 [29984/60000 (100%)]\tLoss: 0.064270\n",
      "Epoch: 9 \tTraining Loss: 0.015814\n",
      "Train Epoch: 10 [29984/60000 (100%)]\tLoss: 0.004236\n",
      "Epoch: 10 \tTraining Loss: 0.015586\n",
      "Train Epoch: 11 [29984/60000 (100%)]\tLoss: 0.001283\n",
      "Epoch: 11 \tTraining Loss: 0.015366\n",
      "Train Epoch: 12 [29984/60000 (100%)]\tLoss: 0.003427\n",
      "Epoch: 12 \tTraining Loss: 0.015170\n",
      "Train Epoch: 13 [29984/60000 (100%)]\tLoss: 0.054064\n",
      "Epoch: 13 \tTraining Loss: 0.014916\n",
      "Train Epoch: 14 [29984/60000 (100%)]\tLoss: 0.001465\n",
      "Epoch: 14 \tTraining Loss: 0.014779\n",
      "Train Epoch: 15 [29984/60000 (100%)]\tLoss: 0.041260\n",
      "Epoch: 15 \tTraining Loss: 0.014619\n",
      "Train Epoch: 16 [29984/60000 (100%)]\tLoss: 0.000977\n",
      "Epoch: 16 \tTraining Loss: 0.014522\n",
      "Train Epoch: 17 [29984/60000 (100%)]\tLoss: 0.002388\n",
      "Epoch: 17 \tTraining Loss: 0.014344\n",
      "Train Epoch: 18 [29984/60000 (100%)]\tLoss: 0.003411\n",
      "Epoch: 18 \tTraining Loss: 0.014233\n",
      "Train Epoch: 19 [29984/60000 (100%)]\tLoss: 0.081503\n",
      "Epoch: 19 \tTraining Loss: 0.014037\n",
      "Train Epoch: 20 [29984/60000 (100%)]\tLoss: 0.002711\n",
      "Epoch: 20 \tTraining Loss: 0.013991\n",
      "16\n",
      "Train Epoch: 1 [29984/60000 (100%)]\tLoss: 0.176365\n",
      "Epoch: 1 \tTraining Loss: 0.791733\n",
      "Train Epoch: 2 [29984/60000 (100%)]\tLoss: 0.006308\n",
      "Epoch: 2 \tTraining Loss: 0.064611\n",
      "Train Epoch: 3 [29984/60000 (100%)]\tLoss: 0.002730\n",
      "Epoch: 3 \tTraining Loss: 0.025404\n",
      "Train Epoch: 4 [29984/60000 (100%)]\tLoss: 0.002235\n",
      "Epoch: 4 \tTraining Loss: 0.018480\n",
      "Train Epoch: 5 [29984/60000 (100%)]\tLoss: 0.002837\n",
      "Epoch: 5 \tTraining Loss: 0.017395\n",
      "Train Epoch: 6 [29984/60000 (100%)]\tLoss: 0.014042\n",
      "Epoch: 6 \tTraining Loss: 0.016952\n",
      "Train Epoch: 7 [29984/60000 (100%)]\tLoss: 0.262256\n",
      "Epoch: 7 \tTraining Loss: 0.016608\n",
      "Train Epoch: 8 [29984/60000 (100%)]\tLoss: 0.005194\n",
      "Epoch: 8 \tTraining Loss: 0.016403\n",
      "Train Epoch: 9 [29984/60000 (100%)]\tLoss: 0.002595\n",
      "Epoch: 9 \tTraining Loss: 0.016182\n",
      "Train Epoch: 10 [29984/60000 (100%)]\tLoss: 0.020287\n",
      "Epoch: 10 \tTraining Loss: 0.015993\n",
      "Train Epoch: 11 [29984/60000 (100%)]\tLoss: 0.001822\n",
      "Epoch: 11 \tTraining Loss: 0.015820\n",
      "Train Epoch: 12 [29984/60000 (100%)]\tLoss: 0.002869\n",
      "Epoch: 12 \tTraining Loss: 0.015690\n",
      "Train Epoch: 13 [29984/60000 (100%)]\tLoss: 0.002061\n",
      "Epoch: 13 \tTraining Loss: 0.015537\n",
      "Train Epoch: 14 [29984/60000 (100%)]\tLoss: 0.002834\n",
      "Epoch: 14 \tTraining Loss: 0.015356\n",
      "Train Epoch: 15 [29984/60000 (100%)]\tLoss: 0.002772\n",
      "Epoch: 15 \tTraining Loss: 0.015295\n",
      "Train Epoch: 16 [29984/60000 (100%)]\tLoss: 0.002259\n",
      "Epoch: 16 \tTraining Loss: 0.015133\n",
      "Train Epoch: 17 [29984/60000 (100%)]\tLoss: 0.006303\n",
      "Epoch: 17 \tTraining Loss: 0.015030\n",
      "Train Epoch: 18 [29984/60000 (100%)]\tLoss: 0.112637\n",
      "Epoch: 18 \tTraining Loss: 0.014949\n",
      "Train Epoch: 19 [29984/60000 (100%)]\tLoss: 0.015243\n",
      "Epoch: 19 \tTraining Loss: 0.014754\n",
      "Train Epoch: 20 [29984/60000 (100%)]\tLoss: 0.023601\n",
      "Epoch: 20 \tTraining Loss: 0.014700\n",
      "17\n",
      "Train Epoch: 1 [29984/60000 (100%)]\tLoss: 0.133829\n",
      "Epoch: 1 \tTraining Loss: 0.790573\n",
      "Train Epoch: 2 [29984/60000 (100%)]\tLoss: 0.003389\n",
      "Epoch: 2 \tTraining Loss: 0.033536\n",
      "Train Epoch: 3 [29984/60000 (100%)]\tLoss: 0.007172\n",
      "Epoch: 3 \tTraining Loss: 0.024067\n",
      "Train Epoch: 4 [29984/60000 (100%)]\tLoss: 0.020243\n",
      "Epoch: 4 \tTraining Loss: 0.021593\n",
      "Train Epoch: 5 [29984/60000 (100%)]\tLoss: 0.130643\n",
      "Epoch: 5 \tTraining Loss: 0.020037\n",
      "Train Epoch: 6 [29984/60000 (100%)]\tLoss: 0.014594\n",
      "Epoch: 6 \tTraining Loss: 0.018985\n",
      "Train Epoch: 7 [29984/60000 (100%)]\tLoss: 0.004811\n",
      "Epoch: 7 \tTraining Loss: 0.018254\n",
      "Train Epoch: 8 [3904/60000 (7%)]\tLoss: 0.019419"
     ]
    },
    {
     "name": "stderr",
     "output_type": "stream",
     "text": [
      "IOPub message rate exceeded.\n",
      "The notebook server will temporarily stop sending output\n",
      "to the client in order to avoid crashing it.\n",
      "To change this limit, set the config variable\n",
      "`--NotebookApp.iopub_msg_rate_limit`.\n",
      "\n",
      "Current values:\n",
      "NotebookApp.iopub_msg_rate_limit=1000.0 (msgs/sec)\n",
      "NotebookApp.rate_limit_window=3.0 (secs)\n",
      "\n"
     ]
    },
    {
     "name": "stdout",
     "output_type": "stream",
     "text": [
      "Train Epoch: 11 [29984/60000 (100%)]\tLoss: 0.005227\n",
      "Epoch: 11 \tTraining Loss: 0.016699\n",
      "Train Epoch: 12 [29984/60000 (100%)]\tLoss: 0.005916\n",
      "Epoch: 12 \tTraining Loss: 0.016460\n",
      "Train Epoch: 13 [29984/60000 (100%)]\tLoss: 0.013063\n",
      "Epoch: 13 \tTraining Loss: 0.016258\n",
      "Train Epoch: 14 [29984/60000 (100%)]\tLoss: 0.003322\n",
      "Epoch: 14 \tTraining Loss: 0.016072\n",
      "Train Epoch: 15 [29984/60000 (100%)]\tLoss: 0.022887\n",
      "Epoch: 15 \tTraining Loss: 0.015889\n",
      "Train Epoch: 16 [128/60000 (0%)]\tLoss: 0.023780"
     ]
    },
    {
     "name": "stderr",
     "output_type": "stream",
     "text": [
      "IOPub message rate exceeded.\n",
      "The notebook server will temporarily stop sending output\n",
      "to the client in order to avoid crashing it.\n",
      "To change this limit, set the config variable\n",
      "`--NotebookApp.iopub_msg_rate_limit`.\n",
      "\n",
      "Current values:\n",
      "NotebookApp.iopub_msg_rate_limit=1000.0 (msgs/sec)\n",
      "NotebookApp.rate_limit_window=3.0 (secs)\n",
      "\n"
     ]
    },
    {
     "name": "stdout",
     "output_type": "stream",
     "text": [
      "Train Epoch: 20 [29984/60000 (100%)]\tLoss: 0.002918\n",
      "Epoch: 20 \tTraining Loss: 0.015135\n",
      "18\n",
      "Train Epoch: 1 [29984/60000 (100%)]\tLoss: 0.046068\n",
      "Epoch: 1 \tTraining Loss: 0.857787\n",
      "Train Epoch: 2 [29984/60000 (100%)]\tLoss: 0.007989\n",
      "Epoch: 2 \tTraining Loss: 0.036422\n",
      "Train Epoch: 3 [29984/60000 (100%)]\tLoss: 0.007300\n",
      "Epoch: 3 \tTraining Loss: 0.025934\n",
      "Train Epoch: 4 [29984/60000 (100%)]\tLoss: 0.023921\n",
      "Epoch: 4 \tTraining Loss: 0.024192\n",
      "Train Epoch: 5 [18112/60000 (30%)]\tLoss: 0.057021"
     ]
    },
    {
     "name": "stderr",
     "output_type": "stream",
     "text": [
      "IOPub message rate exceeded.\n",
      "The notebook server will temporarily stop sending output\n",
      "to the client in order to avoid crashing it.\n",
      "To change this limit, set the config variable\n",
      "`--NotebookApp.iopub_msg_rate_limit`.\n",
      "\n",
      "Current values:\n",
      "NotebookApp.iopub_msg_rate_limit=1000.0 (msgs/sec)\n",
      "NotebookApp.rate_limit_window=3.0 (secs)\n",
      "\n"
     ]
    },
    {
     "name": "stdout",
     "output_type": "stream",
     "text": [
      "Train Epoch: 8 [29984/60000 (100%)]\tLoss: 0.011207\n",
      "Epoch: 8 \tTraining Loss: 0.021098\n",
      "Train Epoch: 9 [29984/60000 (100%)]\tLoss: 0.016079\n",
      "Epoch: 9 \tTraining Loss: 0.020648\n",
      "Train Epoch: 10 [29984/60000 (100%)]\tLoss: 0.009456\n",
      "Epoch: 10 \tTraining Loss: 0.020122\n",
      "Train Epoch: 11 [29984/60000 (100%)]\tLoss: 0.021606\n",
      "Epoch: 11 \tTraining Loss: 0.019926\n",
      "Train Epoch: 12 [18688/60000 (31%)]\tLoss: 0.010641"
     ]
    },
    {
     "name": "stderr",
     "output_type": "stream",
     "text": [
      "IOPub message rate exceeded.\n",
      "The notebook server will temporarily stop sending output\n",
      "to the client in order to avoid crashing it.\n",
      "To change this limit, set the config variable\n",
      "`--NotebookApp.iopub_msg_rate_limit`.\n",
      "\n",
      "Current values:\n",
      "NotebookApp.iopub_msg_rate_limit=1000.0 (msgs/sec)\n",
      "NotebookApp.rate_limit_window=3.0 (secs)\n",
      "\n"
     ]
    },
    {
     "name": "stdout",
     "output_type": "stream",
     "text": [
      "Train Epoch: 16 [29984/60000 (100%)]\tLoss: 0.007778\n",
      "Epoch: 16 \tTraining Loss: 0.018567\n",
      "Train Epoch: 17 [29984/60000 (100%)]\tLoss: 0.007183\n",
      "Epoch: 17 \tTraining Loss: 0.018397\n",
      "Train Epoch: 18 [29984/60000 (100%)]\tLoss: 0.006380\n",
      "Epoch: 18 \tTraining Loss: 0.018378\n",
      "Train Epoch: 19 [32960/60000 (55%)]\tLoss: 0.007481"
     ]
    },
    {
     "name": "stderr",
     "output_type": "stream",
     "text": [
      "IOPub message rate exceeded.\n",
      "The notebook server will temporarily stop sending output\n",
      "to the client in order to avoid crashing it.\n",
      "To change this limit, set the config variable\n",
      "`--NotebookApp.iopub_msg_rate_limit`.\n",
      "\n",
      "Current values:\n",
      "NotebookApp.iopub_msg_rate_limit=1000.0 (msgs/sec)\n",
      "NotebookApp.rate_limit_window=3.0 (secs)\n",
      "\n"
     ]
    },
    {
     "name": "stdout",
     "output_type": "stream",
     "text": [
      "Train Epoch: 3 [29984/60000 (100%)]\tLoss: 0.017146\n",
      "Epoch: 3 \tTraining Loss: 0.032706\n",
      "Train Epoch: 4 [29984/60000 (100%)]\tLoss: 0.040973\n",
      "Epoch: 4 \tTraining Loss: 0.029707\n",
      "Train Epoch: 5 [29984/60000 (100%)]\tLoss: 0.012621\n",
      "Epoch: 5 \tTraining Loss: 0.028063\n",
      "Train Epoch: 6 [50560/60000 (84%)]\tLoss: 0.012215"
     ]
    },
    {
     "name": "stderr",
     "output_type": "stream",
     "text": [
      "IOPub message rate exceeded.\n",
      "The notebook server will temporarily stop sending output\n",
      "to the client in order to avoid crashing it.\n",
      "To change this limit, set the config variable\n",
      "`--NotebookApp.iopub_msg_rate_limit`.\n",
      "\n",
      "Current values:\n",
      "NotebookApp.iopub_msg_rate_limit=1000.0 (msgs/sec)\n",
      "NotebookApp.rate_limit_window=3.0 (secs)\n",
      "\n"
     ]
    },
    {
     "name": "stdout",
     "output_type": "stream",
     "text": [
      "Train Epoch: 7 [29984/60000 (100%)]\tLoss: 0.040328\n",
      "Epoch: 7 \tTraining Loss: 0.025911\n",
      "Train Epoch: 8 [29984/60000 (100%)]\tLoss: 0.009942\n",
      "Epoch: 8 \tTraining Loss: 0.025041\n",
      "Train Epoch: 9 [29984/60000 (100%)]\tLoss: 0.012426\n",
      "Epoch: 9 \tTraining Loss: 0.024439\n",
      "Train Epoch: 10 [29984/60000 (100%)]\tLoss: 0.018190\n",
      "Epoch: 10 \tTraining Loss: 0.023834\n",
      "Train Epoch: 11 [29984/60000 (100%)]\tLoss: 0.032578\n",
      "Epoch: 11 \tTraining Loss: 0.023354\n",
      "Train Epoch: 12 [29984/60000 (100%)]\tLoss: 0.008703\n",
      "Epoch: 12 \tTraining Loss: 0.022954\n",
      "Train Epoch: 13 [29984/60000 (100%)]\tLoss: 0.010705\n",
      "Epoch: 13 \tTraining Loss: 0.022596\n",
      "Train Epoch: 14 [29984/60000 (100%)]\tLoss: 0.010945\n",
      "Epoch: 14 \tTraining Loss: 0.022156\n",
      "Train Epoch: 15 [29984/60000 (100%)]\tLoss: 0.013720\n",
      "Epoch: 15 \tTraining Loss: 0.021952\n",
      "Train Epoch: 16 [29984/60000 (100%)]\tLoss: 0.011435\n",
      "Epoch: 16 \tTraining Loss: 0.021583\n",
      "Train Epoch: 17 [29984/60000 (100%)]\tLoss: 0.019669\n",
      "Epoch: 17 \tTraining Loss: 0.021262\n",
      "Train Epoch: 18 [29984/60000 (100%)]\tLoss: 0.092098\n",
      "Epoch: 18 \tTraining Loss: 0.021013\n",
      "Train Epoch: 19 [29984/60000 (100%)]\tLoss: 0.007443\n",
      "Epoch: 19 \tTraining Loss: 0.020773\n",
      "Train Epoch: 20 [29984/60000 (100%)]\tLoss: 0.011683\n",
      "Epoch: 20 \tTraining Loss: 0.020489\n"
     ]
    }
   ],
   "source": [
    "lamb_grid = np.geomspace(1e-6, 0.5, 20)\n",
    "Losses = []\n",
    "tLosses = []\n",
    "\n",
    "# number of epochs to train the model\n",
    "num_epochs = 20\n",
    "\n",
    "for i,lamb in enumerate(lamb_grid):\n",
    "    print(i)\n",
    "    # initialize the NN\n",
    "    model = ConvAutoencoder().to(device)\n",
    "\n",
    "    # prepend model\n",
    "    m_t = TrimModel(m, model.i_transformer, use_residuals=True)\n",
    "\n",
    "    losses = []\n",
    "    tlosses = []\n",
    "    num_delay = 0\n",
    "    \n",
    "    best_loss = 1e+10\n",
    "\n",
    "    # actually do training\n",
    "    for epoch in range(1, num_epochs + 1):\n",
    "        model, train_loss = autoencoder.train(epoch, train_loader, model, m_t, lamb)\n",
    "        test_loss = autoencoder.test(test_loader, model, m_t, lamb)\n",
    "\n",
    "        # print avg training statistics \n",
    "        train_loss = train_loss/len(train_loader.dataset)\n",
    "        test_loss = test_loss/len(test_loader.dataset)\n",
    "        print('\\nEpoch: {} \\tTraining Loss: {:.6f}'.format(\n",
    "            epoch, \n",
    "            train_loss))\n",
    "        losses.append(train_loss)\n",
    "        tlosses.append(test_loss)\n",
    "        if test_loss <= best_loss:\n",
    "            best_loss = test_loss\n",
    "            num_delay = 0\n",
    "        else:\n",
    "            num_delay += 1\n",
    "\n",
    "#         if num_delay == 3:\n",
    "#             break\n",
    "            \n",
    "    torch.save(model.state_dict(), 'results/autoencoder_conv_layer_supervised/transform_' + str(np.around(lamb, 6)))              \n",
    "    Losses.append(losses)\n",
    "    tLosses.append(tlosses)\n",
    "    "
   ]
  },
  {
   "cell_type": "code",
   "execution_count": 34,
   "metadata": {},
   "outputs": [
    {
     "name": "stdout",
     "output_type": "stream",
     "text": [
      "7.9870176\n"
     ]
    },
    {
     "data": {
      "image/png": "[encoded data removed]",
      "text/plain": [
       "<Figure size 1800x288 with 20 Axes>"
      ]
     },
     "metadata": {},
     "output_type": "display_data"
    }
   ],
   "source": [
    "# load model\n",
    "model.load_state_dict(torch.load('results/autoencoder_conv_layer_supervised/transform_' + str(np.around(lamb, 6))))\n",
    "\n",
    "# obtain one batch of test images\n",
    "dataiter = iter(test_loader)\n",
    "images, labels = dataiter.next()\n",
    "images = images[70:80]\n",
    "model = model.to('cpu')\n",
    "\n",
    "# get sample outputs\n",
    "output = model(images)\n",
    "# prep images for display\n",
    "images = images.numpy()\n",
    "\n",
    "# output is resized into a batch of images\n",
    "output = output.view(10, 1, 32, 32)\n",
    "# use detach when it's an output that requires_grad\n",
    "output = output.detach().numpy()\n",
    "\n",
    "print(np.linalg.norm(output - images))\n",
    "\n",
    "# plot the first ten input images and then reconstructed images\n",
    "fig, axes = plt.subplots(nrows=2, ncols=10, sharex=True, sharey=True, figsize=(25,4))\n",
    "\n",
    "# input images on top row, reconstructions on bottom\n",
    "for images, row in zip([images, output], axes):\n",
    "    for img, ax in zip(images, row):\n",
    "        ax.imshow(np.squeeze(img), cmap='gray')\n",
    "        ax.get_xaxis().set_visible(False)\n",
    "        ax.get_yaxis().set_visible(False)"
   ]
  },
  {
   "cell_type": "markdown",
   "metadata": {},
   "source": [
    "# visualization"
   ]
  },
  {
   "cell_type": "code",
   "execution_count": 40,
   "metadata": {},
   "outputs": [
    {
     "data": {
      "text/plain": [
       "<All keys matched successfully>"
      ]
     },
     "execution_count": 40,
     "metadata": {},
     "output_type": "execute_result"
    }
   ],
   "source": [
    "# load model\n",
    "lamb = lamb_grid[-1]\n",
    "model.load_state_dict(torch.load('results/autoencoder_conv_layer_supervised/transform_' + str(np.around(lamb, 6))))"
   ]
  },
  {
   "cell_type": "code",
   "execution_count": 41,
   "metadata": {},
   "outputs": [
    {
     "data": {
      "image/png": "[encoded data removed]",
      "text/plain": [
       "<Figure size 1080x1080 with 1 Axes>"
      ]
     },
     "metadata": {},
     "output_type": "display_data"
    }
   ],
   "source": [
    "# viz filters\n",
    "viz_tensors(m.convnet.c1.weight.squeeze(), n_row=2, n_col=3, normalize=False)"
   ]
  },
  {
   "cell_type": "code",
   "execution_count": 42,
   "metadata": {},
   "outputs": [
    {
     "data": {
      "image/png": "[encoded data removed]",
      "text/plain": [
       "<Figure size 1080x1080 with 1 Axes>"
      ]
     },
     "metadata": {},
     "output_type": "display_data"
    }
   ],
   "source": [
    "# viz filters\n",
    "viz_tensors(model.conv1.weight, n_row=4, n_col=4, normalize=False)"
   ]
  },
  {
   "cell_type": "code",
   "execution_count": 43,
   "metadata": {},
   "outputs": [],
   "source": [
    "# data\n",
    "inputs, labels = iter(test_loader).next()\n",
    "inputs = inputs.to(device)\n",
    "labels = labels.to(device)\n",
    "\n",
    "# get attributions\n",
    "model = model.to(device)\n",
    "m_t = TrimModel(m, model.i_transformer, use_residuals=True)\n",
    "\n",
    "s = model.transformer(inputs)\n",
    "attributer = InputXGradient(m_t)\n",
    "# attributer = IntegratedGradients(m_t)        \n",
    "attributions = attributer.attribute(s, target=labels, additional_forward_args=deepcopy(inputs))\n",
    "# standardization\n",
    "# mean = attributions.mean(dim=1, keepdim=True)\n",
    "# std = attributions.std(dim=1, keepdim=True)\n",
    "# attributions = (attributions - mean) / std   "
   ]
  },
  {
   "cell_type": "code",
   "execution_count": 44,
   "metadata": {},
   "outputs": [
    {
     "data": {
      "image/png": "[encoded data removed]",
      "text/plain": [
       "<Figure size 1080x1080 with 1 Axes>"
      ]
     },
     "metadata": {},
     "output_type": "display_data"
    }
   ],
   "source": [
    "# viz filters\n",
    "viz_tensors(attributions[0], n_row=4, n_col=4, normalize=False)"
   ]
  },
  {
   "cell_type": "code",
   "execution_count": null,
   "metadata": {},
   "outputs": [],
   "source": []
  },
  {
   "cell_type": "code",
   "execution_count": null,
   "metadata": {},
   "outputs": [],
   "source": []
  },
  {
   "cell_type": "code",
   "execution_count": null,
   "metadata": {},
   "outputs": [],
   "source": []
  },
  {
   "cell_type": "code",
   "execution_count": null,
   "metadata": {},
   "outputs": [],
   "source": []
  },
  {
   "cell_type": "code",
   "execution_count": null,
   "metadata": {},
   "outputs": [],
   "source": []
  }
 ],
 "metadata": {
  "kernelspec": {
   "display_name": "Environment (conda_pytorch_p36)",
   "language": "python",
   "name": "conda_pytorch_p36"
  },
  "language_info": {
   "codemirror_mode": {
    "name": "ipython",
    "version": 3
   },
   "file_extension": ".py",
   "mimetype": "text/x-python",
   "name": "python",
   "nbconvert_exporter": "python",
   "pygments_lexer": "ipython3",
   "version": "3.6.7"
  }
 },
 "nbformat": 4,
 "nbformat_minor": 2
}
