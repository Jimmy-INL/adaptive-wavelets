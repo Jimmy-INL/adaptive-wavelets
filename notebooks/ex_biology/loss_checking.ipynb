{
 "cells": [
  {
   "cell_type": "code",
   "execution_count": 1,
   "metadata": {},
   "outputs": [],
   "source": [
    "%load_ext autoreload\n",
    "%autoreload 2\n",
    "%matplotlib inline\n",
    "import matplotlib.pyplot as plt\n",
    "import numpy as np\n",
    "import torch\n",
    "device = 'cuda' if torch.cuda.is_available() else 'cpu'\n",
    "import os,sys\n",
    "opj = os.path.join\n",
    "from copy import deepcopy\n",
    "import pickle as pkl\n",
    "from tqdm import tqdm\n",
    "\n",
    "from sim_biology import p, load_dataloader_and_pretrained_model\n",
    "# adaptive-wavelets modules\n",
    "sys.path.append('../../src')\n",
    "sys.path.append('../../src/adaptive_wavelets')\n",
    "from losses import get_loss_f\n",
    "from train import Trainer, Validator\n",
    "from transform1d import DWT1d\n",
    "from utils import get_1dfilts\n",
    "from wave_attributions import Attributer\n",
    "from visualize import cshow, plot_1dreconstruct, plot_1dfilts"
   ]
  },
  {
   "cell_type": "code",
   "execution_count": 43,
   "metadata": {},
   "outputs": [],
   "source": [
    "sys.path.append('../../lib/trim')\n",
    "from trim import TrimModel\n",
    "from losses import _L1_attribution_loss, _reconstruction_loss, _sum_loss, _L2norm_loss, _CMF_loss, _L1_wave_loss"
   ]
  },
  {
   "cell_type": "markdown",
   "metadata": {},
   "source": [
    "## load data and model"
   ]
  },
  {
   "cell_type": "code",
   "execution_count": 20,
   "metadata": {},
   "outputs": [],
   "source": [
    "# get dataloader and model\n",
    "(train_loader, test_loader), model = load_dataloader_and_pretrained_model(p)"
   ]
  },
  {
   "cell_type": "code",
   "execution_count": 404,
   "metadata": {},
   "outputs": [],
   "source": [
    "# wavelet transform \n",
    "torch.manual_seed(p.seed)\n",
    "wt = DWT1d(wave='db5', mode='symmetric', J=5, init_factor=1, noise_factor=0.1).to(device)\n",
    "mt = TrimModel(model, wt.inverse, use_residuals=True)    \n",
    "attributer = Attributer(mt, attr_methods='InputXGradient', device=device)\n",
    "\n",
    "# get image\n",
    "data = iter(test_loader).next()[0].to(device)\n",
    "data_t = wt(data)\n",
    "recon_data = wt.inverse(data_t)\n",
    "with torch.backends.cudnn.flags(enabled=False):\n",
    "    attributions = attributer(data_t, target=0, additional_forward_args=deepcopy(data))"
   ]
  },
  {
   "cell_type": "code",
   "execution_count": 405,
   "metadata": {},
   "outputs": [],
   "source": [
    "# loss = _reconstruction_loss(data, recon_data)\n",
    "# loss = _sum_loss(wt)\n",
    "# loss = _L2norm_loss(wt)\n",
    "# loss = _CMF_loss(wt)\n",
    "# loss = _L1_wave_loss(data_t) \n",
    "# loss = _L1_attribution_loss(attributions)\n",
    "# loss.backward()"
   ]
  },
  {
   "cell_type": "markdown",
   "metadata": {},
   "source": [
    "## optimize filter"
   ]
  },
  {
   "cell_type": "code",
   "execution_count": 406,
   "metadata": {},
   "outputs": [
    {
     "name": "stdout",
     "output_type": "stream",
     "text": [
      "====> Epoch: 0 Average train loss: 0.4312\n",
      "====> Epoch: 1 Average train loss: 0.4315\n",
      "====> Epoch: 2 Average train loss: 0.4305\n",
      "====> Epoch: 3 Average train loss: 0.4294\n",
      "====> Epoch: 4 Average train loss: 0.4293\n",
      "====> Epoch: 5 Average train loss: 0.4297\n",
      "====> Epoch: 6 Average train loss: 0.4290\n",
      "====> Epoch: 7 Average train loss: 0.4283\n",
      "====> Epoch: 8 Average train loss: 0.4290\n",
      "====> Epoch: 9 Average train loss: 0.4281\n",
      "====> Epoch: 10 Average train loss: 0.4255\n",
      "====> Epoch: 11 Average train loss: 0.4278\n",
      "====> Epoch: 12 Average train loss: 0.4268\n",
      "====> Epoch: 13 Average train loss: 0.4256\n",
      "====> Epoch: 14 Average train loss: 0.4238\n",
      "====> Epoch: 15 Average train loss: 0.4230\n",
      "====> Epoch: 16 Average train loss: 0.4231\n",
      "====> Epoch: 17 Average train loss: 0.4245\n",
      "====> Epoch: 18 Average train loss: 0.4227\n",
      "====> Epoch: 19 Average train loss: 0.4220\n",
      "====> Epoch: 20 Average train loss: 0.4248\n",
      "====> Epoch: 21 Average train loss: 0.4212\n",
      "====> Epoch: 22 Average train loss: 0.4207\n",
      "====> Epoch: 23 Average train loss: 0.4228\n",
      "====> Epoch: 24 Average train loss: 0.4198\n",
      "====> Epoch: 25 Average train loss: 0.4219\n",
      "====> Epoch: 26 Average train loss: 0.4196\n",
      "====> Epoch: 27 Average train loss: 0.4187\n",
      "====> Epoch: 28 Average train loss: 0.4180\n",
      "====> Epoch: 29 Average train loss: 0.4184\n",
      "====> Epoch: 30 Average train loss: 0.4169\n",
      "====> Epoch: 31 Average train loss: 0.4166\n",
      "====> Epoch: 32 Average train loss: 0.4177\n",
      "====> Epoch: 33 Average train loss: 0.4163\n",
      "====> Epoch: 34 Average train loss: 0.4153\n",
      "====> Epoch: 35 Average train loss: 0.4148\n",
      "====> Epoch: 36 Average train loss: 0.4138\n",
      "====> Epoch: 37 Average train loss: 0.4144\n",
      "====> Epoch: 38 Average train loss: 0.4134\n",
      "====> Epoch: 39 Average train loss: 0.4144\n",
      "====> Epoch: 40 Average train loss: 0.4126\n",
      "====> Epoch: 41 Average train loss: 0.4145\n",
      "====> Epoch: 42 Average train loss: 0.4120\n",
      "====> Epoch: 43 Average train loss: 0.4114\n",
      "====> Epoch: 44 Average train loss: 0.4113\n",
      "====> Epoch: 45 Average train loss: 0.4118\n",
      "====> Epoch: 46 Average train loss: 0.4105\n",
      "====> Epoch: 47 Average train loss: 0.4088\n",
      "====> Epoch: 48 Average train loss: 0.4096\n",
      "====> Epoch: 49 Average train loss: 0.4106\n",
      "====> Epoch: 50 Average train loss: 0.4093\n",
      "====> Epoch: 51 Average train loss: 0.4087\n",
      "====> Epoch: 52 Average train loss: 0.4086\n",
      "====> Epoch: 53 Average train loss: 0.4076\n",
      "====> Epoch: 54 Average train loss: 0.4085\n",
      "====> Epoch: 55 Average train loss: 0.4066\n",
      "====> Epoch: 56 Average train loss: 0.4061\n",
      "====> Epoch: 57 Average train loss: 0.4069\n",
      "====> Epoch: 58 Average train loss: 0.4057\n",
      "====> Epoch: 59 Average train loss: 0.4073\n",
      "====> Epoch: 60 Average train loss: 0.4056\n",
      "====> Epoch: 61 Average train loss: 0.4056\n",
      "====> Epoch: 62 Average train loss: 0.4036\n",
      "====> Epoch: 63 Average train loss: 0.4025\n",
      "====> Epoch: 64 Average train loss: 0.4040\n",
      "====> Epoch: 65 Average train loss: 0.4025\n",
      "====> Epoch: 66 Average train loss: 0.4029\n",
      "====> Epoch: 67 Average train loss: 0.4020\n",
      "====> Epoch: 68 Average train loss: 0.4011\n",
      "====> Epoch: 69 Average train loss: 0.4012\n",
      "====> Epoch: 70 Average train loss: 0.4012\n",
      "====> Epoch: 71 Average train loss: 0.4003\n",
      "====> Epoch: 72 Average train loss: 0.4009\n",
      "====> Epoch: 73 Average train loss: 0.3994\n",
      "====> Epoch: 74 Average train loss: 0.4003\n",
      "====> Epoch: 75 Average train loss: 0.3988\n",
      "====> Epoch: 76 Average train loss: 0.4012\n",
      "====> Epoch: 77 Average train loss: 0.3993\n",
      "====> Epoch: 78 Average train loss: 0.3987\n",
      "====> Epoch: 79 Average train loss: 0.3986\n",
      "====> Epoch: 80 Average train loss: 0.3992\n",
      "====> Epoch: 81 Average train loss: 0.3966\n",
      "====> Epoch: 82 Average train loss: 0.3959\n",
      "====> Epoch: 83 Average train loss: 0.3991\n",
      "====> Epoch: 84 Average train loss: 0.3963\n",
      "====> Epoch: 85 Average train loss: 0.3949\n",
      "====> Epoch: 86 Average train loss: 0.3966\n",
      "====> Epoch: 87 Average train loss: 0.3943\n",
      "====> Epoch: 88 Average train loss: 0.3970\n",
      "====> Epoch: 89 Average train loss: 0.3939\n",
      "====> Epoch: 90 Average train loss: 0.3948\n",
      "====> Epoch: 91 Average train loss: 0.3932\n",
      "====> Epoch: 92 Average train loss: 0.3941\n",
      "====> Epoch: 93 Average train loss: 0.3945\n",
      "====> Epoch: 94 Average train loss: 0.3931\n",
      "====> Epoch: 95 Average train loss: 0.3942\n",
      "====> Epoch: 96 Average train loss: 0.3912\n",
      "====> Epoch: 97 Average train loss: 0.3929\n",
      "====> Epoch: 98 Average train loss: 0.3918\n",
      "====> Epoch: 99 Average train loss: 0.3928\n"
     ]
    }
   ],
   "source": [
    "# train\n",
    "params = list(wt.parameters())\n",
    "optimizer = torch.optim.Adam(params, lr=0.00001)\n",
    "\n",
    "epochs = 100\n",
    "train_losses = np.empty(epochs)\n",
    "wt.train()\n",
    "\n",
    "for epoch in range(epochs):\n",
    "    epoch_loss = 0.\n",
    "    for batch_idx, (data, _) in enumerate(train_loader):\n",
    "        data = data.to(device)\n",
    "        # zero grad\n",
    "        optimizer.zero_grad()\n",
    "        # transform\n",
    "        data_t = wt(data)\n",
    "        # reconstruction\n",
    "        recon_data = wt.inverse(data_t)\n",
    "        # loss\n",
    "        with torch.backends.cudnn.flags(enabled=False):\n",
    "            attributions = attributer(data_t, target=0, additional_forward_args=deepcopy(data))\n",
    "        loss = _L1_attribution_loss(attributions)\n",
    "\n",
    "        # backward\n",
    "        loss.backward()\n",
    "        # update step\n",
    "        optimizer.step()\n",
    "        epoch_loss += loss.item()   \n",
    "        \n",
    "    mean_epoch_loss = epoch_loss / (batch_idx + 1)\n",
    "    train_losses[epoch] = mean_epoch_loss\n",
    "    print('====> Epoch: {} Average train loss: {:.4f}'.format(epoch, mean_epoch_loss))\n"
   ]
  },
  {
   "cell_type": "code",
   "execution_count": 407,
   "metadata": {},
   "outputs": [
    {
     "name": "stdout",
     "output_type": "stream",
     "text": [
      "====> Average test loss: 1.4528\n"
     ]
    }
   ],
   "source": [
    "# test\n",
    "wt.eval()\n",
    "for batch_idx, (data, _) in enumerate(test_loader):\n",
    "    data = data.to(device)\n",
    "    # zero grad\n",
    "    optimizer.zero_grad()\n",
    "    # transform\n",
    "    data_t = wt(data)\n",
    "    # reconstruction\n",
    "    recon_data = wt.inverse(data_t)\n",
    "    # loss\n",
    "    with torch.backends.cudnn.flags(enabled=False):\n",
    "        attributions = attributer(data_t, target=0, additional_forward_args=deepcopy(data))\n",
    "    loss = _L1_attribution_loss(attributions)\n",
    "\n",
    "    # backward\n",
    "    loss.backward()\n",
    "    # update step\n",
    "    optimizer.step()\n",
    "    epoch_loss += loss.item()   \n",
    "        \n",
    "mean_epoch_loss = epoch_loss / (batch_idx + 1)\n",
    "print('====> Average test loss: {:.4f}'.format(mean_epoch_loss))\n"
   ]
  },
  {
   "cell_type": "code",
   "execution_count": 408,
   "metadata": {},
   "outputs": [
    {
     "data": {
      "text/plain": [
       "[<matplotlib.lines.Line2D at 0x7fc89e7afdd8>]"
      ]
     },
     "execution_count": 408,
     "metadata": {},
     "output_type": "execute_result"
    },
    {
     "data": {
      "image/png": "[encoded data removed]",
      "text/plain": [
       "<Figure size 432x288 with 1 Axes>"
      ]
     },
     "metadata": {
      "needs_background": "light"
     },
     "output_type": "display_data"
    }
   ],
   "source": [
    "plt.plot(np.log(train_losses))"
   ]
  },
  {
   "cell_type": "code",
   "execution_count": null,
   "metadata": {},
   "outputs": [],
   "source": []
  },
  {
   "cell_type": "code",
   "execution_count": null,
   "metadata": {},
   "outputs": [],
   "source": []
  },
  {
   "cell_type": "code",
   "execution_count": null,
   "metadata": {},
   "outputs": [],
   "source": []
  }
 ],
 "metadata": {
  "kernelspec": {
   "display_name": "Environment (conda_pytorch_p36)",
   "language": "python",
   "name": "conda_pytorch_p36"
  },
  "language_info": {
   "codemirror_mode": {
    "name": "ipython",
    "version": 3
   },
   "file_extension": ".py",
   "mimetype": "text/x-python",
   "name": "python",
   "nbconvert_exporter": "python",
   "pygments_lexer": "ipython3",
   "version": "3.6.10"
  }
 },
 "nbformat": 4,
 "nbformat_minor": 4
}
