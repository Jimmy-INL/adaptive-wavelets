{
 "cells": [
  {
   "cell_type": "code",
   "execution_count": 2,
   "metadata": {},
   "outputs": [],
   "source": [
    "%load_ext autoreload\n",
    "%autoreload 2\n",
    "%matplotlib inline\n",
    "import matplotlib.pyplot as plt\n",
    "import numpy as np\n",
    "import torch\n",
    "device = 'cuda' if torch.cuda.is_available() else 'cpu'\n",
    "import os,sys\n",
    "opj = os.path.join\n",
    "from copy import deepcopy\n",
    "import pickle as pkl\n",
    "from tqdm import tqdm\n",
    "import pandas as pd\n",
    "\n",
    "sys.path.append('..')\n",
    "from sim_biology import p, load_dataloader_and_pretrained_model, dataloader_to_nparrays\n",
    "from losses import get_loss_f\n",
    "from train import Trainer\n",
    "from evaluate import Validator\n",
    "from transform1d import DWT1d\n",
    "from utils import get_1dfilts\n",
    "from wave_attributions import Attributer\n",
    "from visualize import cshow, plot_1dreconstruct, plot_1dfilts"
   ]
  },
  {
   "cell_type": "markdown",
   "metadata": {},
   "source": [
    "## load data and model"
   ]
  },
  {
   "cell_type": "code",
   "execution_count": 3,
   "metadata": {},
   "outputs": [],
   "source": [
    "# get dataloader and model\n",
    "(train_loader, test_loader), model = load_dataloader_and_pretrained_model(p)"
   ]
  },
  {
   "cell_type": "code",
   "execution_count": 3,
   "metadata": {},
   "outputs": [],
   "source": [
    "dirs = [\"db5_saliency_warmstart_lamL1wave=0_seed=100\"]\n",
    "results = []\n",
    "models = []\n",
    "for i in range(len(dirs)):\n",
    "    # load results\n",
    "    out_dir = opj(\"/home/ubuntu/adaptive-wavelets/notebooks/ex_biology/results\", dirs[i])\n",
    "    fnames = sorted(os.listdir(out_dir))\n",
    "    \n",
    "    results_list = []\n",
    "    models_list = []\n",
    "    for fname in fnames:\n",
    "        if fname[-3:] == 'pkl':\n",
    "            results_list.append(pkl.load(open(opj(out_dir, fname), 'rb')))\n",
    "        if fname[-3:] == 'pth':\n",
    "            wt = DWT1d(wave='db5', mode='zero', J=4, init_factor=1, noise_factor=0.1).to(device)\n",
    "            wt.load_state_dict(torch.load(opj(out_dir, fname)))\n",
    "            models_list.append(wt)\n",
    "    results.append(pd.DataFrame(results_list))\n",
    "    models.append(models_list)"
   ]
  },
  {
   "cell_type": "code",
   "execution_count": 78,
   "metadata": {},
   "outputs": [
    {
     "data": {
      "image/png": "[encoded data removed]",
      "text/plain": [
       "<Figure size 200x200 with 2 Axes>"
      ]
     },
     "metadata": {
      "needs_background": "light"
     },
     "output_type": "display_data"
    },
    {
     "name": "stdout",
     "output_type": "stream",
     "text": [
      "Hyperparameter: lamL1wave=0.000000 lamL1attr=2.811770\n"
     ]
    },
    {
     "data": {
      "image/png": "[encoded data removed]",
      "text/plain": [
       "<Figure size 200x200 with 2 Axes>"
      ]
     },
     "metadata": {
      "needs_background": "light"
     },
     "output_type": "display_data"
    }
   ],
   "source": [
    "res = results[0]\n",
    "mos = models[0]\n",
    "lamL1attrs = np.array(res['lamL1attr'])\n",
    "index = {}\n",
    "for i in range(50):\n",
    "    index[i] = np.argsort(lamL1attrs)[i]\n",
    "\n",
    "ix = 30\n",
    "wt = mos[index[ix]]\n",
    "filt = get_1dfilts(wt)\n",
    "plot_1dfilts(filt, figsize=(1,1))\n",
    "\n",
    "print('Hyperparameter: lamL1wave={:.6f} lamL1attr={:.6f}'.format(res['lamL1wave'][index[ix]], res['lamL1attr'][index[ix]]))\n",
    "\n",
    "# original wavelet\n",
    "wt_o = DWT1d(wave=res['wave'][0], mode='zero', J=res['J'][0], init_factor=1, noise_factor=0).to(device)\n",
    "filt_o = get_1dfilts(wt_o)\n",
    "plot_1dfilts(filt_o, figsize=(1,1))"
   ]
  },
  {
   "cell_type": "code",
   "execution_count": 30,
   "metadata": {},
   "outputs": [],
   "source": [
    "from sklearn.linear_model import LogisticRegression"
   ]
  },
  {
   "cell_type": "code",
   "execution_count": 31,
   "metadata": {},
   "outputs": [
    {
     "name": "stdout",
     "output_type": "stream",
     "text": [
      "iteration 998/999"
     ]
    }
   ],
   "source": [
    "wt = wt.to('cpu')\n",
    "\n",
    "(X, y), (X_test, y_test) = dataloader_to_nparrays(wt, train_loader, test_loader)\n",
    "clf = LogisticRegression(penalty='l1', solver='saga', max_iter=1e6, tol=1e-6, warm_start=True, random_state=0)\n",
    "\n",
    "Cs = np.arange(0.001, 1, 0.001)\n",
    "errs = np.empty(len(Cs))\n",
    "nnzs = np.empty(len(Cs))\n",
    "for i, C in enumerate(Cs):\n",
    "    print('\\riteration {}/{}'.format(i, len(Cs)), end='')\n",
    "    clf.set_params(C=C)\n",
    "    clf.fit(X, y)\n",
    "    preds = clf.predict(X_test)\n",
    "    error = abs(preds - y_test).sum()/X_test.shape[0]\n",
    "    errs[i] = error\n",
    "    nnzs[i] = np.sum(clf.coef_ != 0)"
   ]
  },
  {
   "cell_type": "code",
   "execution_count": 32,
   "metadata": {},
   "outputs": [
    {
     "name": "stdout",
     "output_type": "stream",
     "text": [
      "iteration 998/999"
     ]
    }
   ],
   "source": [
    "wt_o = wt_o.to('cpu')\n",
    "\n",
    "(X, y), (X_test, y_test) = dataloader_to_nparrays(wt_o, train_loader, test_loader)\n",
    "clf = LogisticRegression(penalty='l1', solver='saga', max_iter=1e6, tol=1e-6, warm_start=True, random_state=0)\n",
    "\n",
    "Cs = np.arange(0.001, 1, 0.001)\n",
    "errs_o = np.empty(len(Cs))\n",
    "nnzs_o = np.empty(len(Cs))\n",
    "for i, C in enumerate(Cs):\n",
    "    print('\\riteration {}/{}'.format(i, len(Cs)), end='')\n",
    "    clf.set_params(C=C)\n",
    "    clf.fit(X, y)\n",
    "    preds = clf.predict(X_test)\n",
    "    error = abs(preds - y_test).sum()/X_test.shape[0]\n",
    "    errs_o[i] = error\n",
    "    nnzs_o[i] = np.sum(clf.coef_ != 0)"
   ]
  },
  {
   "cell_type": "code",
   "execution_count": 42,
   "metadata": {},
   "outputs": [
    {
     "data": {
      "image/png": "[encoded data removed]",
      "text/plain": [
       "<Figure size 432x288 with 1 Axes>"
      ]
     },
     "metadata": {
      "needs_background": "light"
     },
     "output_type": "display_data"
    }
   ],
   "source": [
    "plt.hist(errs[nnzs < 10], density=True, bins=30)\n",
    "plt.show()"
   ]
  },
  {
   "cell_type": "code",
   "execution_count": 43,
   "metadata": {},
   "outputs": [
    {
     "data": {
      "image/png": "[encoded data removed]",
      "text/plain": [
       "<Figure size 432x288 with 1 Axes>"
      ]
     },
     "metadata": {
      "needs_background": "light"
     },
     "output_type": "display_data"
    }
   ],
   "source": [
    "plt.hist(errs_o[nnzs_o < 10], density=True, bins=30)\n",
    "plt.show()"
   ]
  },
  {
   "cell_type": "code",
   "execution_count": null,
   "metadata": {},
   "outputs": [],
   "source": []
  }
 ],
 "metadata": {
  "kernelspec": {
   "display_name": "Environment (conda_pytorch_p36)",
   "language": "python",
   "name": "conda_pytorch_p36"
  },
  "language_info": {
   "codemirror_mode": {
    "name": "ipython",
    "version": 3
   },
   "file_extension": ".py",
   "mimetype": "text/x-python",
   "name": "python",
   "nbconvert_exporter": "python",
   "pygments_lexer": "ipython3",
   "version": "3.6.10"
  }
 },
 "nbformat": 4,
 "nbformat_minor": 4
}
