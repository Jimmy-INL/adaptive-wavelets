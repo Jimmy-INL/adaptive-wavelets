{
 "cells": [
  {
   "cell_type": "code",
   "execution_count": 1,
   "metadata": {},
   "outputs": [],
   "source": [
    "%matplotlib inline\n",
    "%load_ext autoreload\n",
    "%autoreload 2\n",
    "import os\n",
    "from os.path import join as oj\n",
    "import sys\n",
    "sys.path.append('preprocessing')\n",
    "import numpy as np\n",
    "import pandas as pd\n",
    "import torch\n",
    "from math import floor\n",
    "from matplotlib import pyplot as plt\n",
    "from tqdm import tqdm\n",
    "import pickle as pkl\n",
    "import data\n",
    "import interpret\n",
    "import neural_networks\n",
    "from sklearn.decomposition import DictionaryLearning, NMF"
   ]
  },
  {
   "cell_type": "markdown",
   "metadata": {},
   "source": [
    "# prepare data"
   ]
  },
  {
   "cell_type": "code",
   "execution_count": null,
   "metadata": {},
   "outputs": [],
   "source": [
    "track_name = 'X_same_length_normalized'\n",
    "track_name_unnormalized = 'X_same_length'\n",
    "dsets = ['clath_aux+gak_a7d2']\n",
    "splits = ['train', 'test']\n",
    "\n",
    "meta = ['cell_num', 'Y_sig_mean', 'Y_sig_mean_normalized']\n",
    "\n",
    "try:\n",
    "    df = pd.read_pickle('data/df_py36.pkl')\n",
    "    df_test = pd.read_pickle('data/df_test_py36.pkl')\n",
    "except:\n",
    "    dfs, _ = data.load_dfs_for_lstm(dsets=dsets, splits=splits, meta=meta)\n",
    "    df = dfs[('clath_aux+gak_a7d2', 'train')]\n",
    "    df.to_pickle('data/df.pkl')\n",
    "    df_test = dfs[('clath_aux+gak_a7d2', 'test')]\n",
    "    df_test.to_pickle('data/df_test.pkl')\n",
    "\n",
    "# load model\n",
    "results = pkl.load(open('models/dnn_full_long_normalized_across_track_1_feat.pkl', 'rb'))\n",
    "dnn = neural_networks.neural_net_sklearn(D_in=40, H=20, p=0, arch='lstm')\n",
    "dnn.model.load_state_dict(results['model_state_dict'])\n",
    "\n",
    "# training data\n",
    "\n",
    "# input to the model (n x 40)\n",
    "X = np.vstack([x for x in df[track_name].values])\n",
    "# input before normalization, can be used for interpretation (n x 40)\n",
    "X_unnormalized = np.vstack([x for x in df[track_name_unnormalized].values])\n",
    "y = df['y_consec_thresh'].values\n",
    "\n",
    "# test data\n",
    "# input to the model (n x 40)\n",
    "X_test = np.vstack([x for x in df_test[track_name].values])\n",
    "# input before normalization, can be used for interpretation (n x 40)\n",
    "X_unnormalized_test = np.vstack([x for x in df_test[track_name_unnormalized].values])\n",
    "y_test = df_test['y_consec_thresh'].values"
   ]
  },
  {
   "cell_type": "code",
   "execution_count": null,
   "metadata": {},
   "outputs": [],
   "source": [
    "print('shapes train', X.shape, X_unnormalized.shape, y.shape)\n",
    "print('shapes test', X_test.shape, X_unnormalized_test.shape, y_test.shape)"
   ]
  },
  {
   "cell_type": "markdown",
   "metadata": {},
   "source": [
    "# example tracks"
   ]
  },
  {
   "cell_type": "code",
   "execution_count": null,
   "metadata": {},
   "outputs": [],
   "source": [
    "R, C = 5, 5\n",
    "for i in range(25):\n",
    "    plt.subplot(R, C, i + 1)\n",
    "    plt.plot(X[i])\n",
    "    plt.axis('off')"
   ]
  },
  {
   "cell_type": "markdown",
   "metadata": {},
   "source": [
    "# dictionary learning on tracks"
   ]
  },
  {
   "cell_type": "code",
   "execution_count": null,
   "metadata": {},
   "outputs": [],
   "source": [
    "def plot_comps(comps):\n",
    "    R, C = 3, 4\n",
    "    for i in range(comps.shape[0]):\n",
    "        plt.subplot(R, C, i + 1)\n",
    "        vmax = np.max(comps)\n",
    "        vmin = np.min(comps)\n",
    "        plt.plot(comps[i])\n",
    "        plt.ylim((vmin - 1, vmax + 1))\n",
    "        plt.axis('off')\n",
    "    plt.show()"
   ]
  },
  {
   "cell_type": "code",
   "execution_count": null,
   "metadata": {},
   "outputs": [],
   "source": [
    "# sparse coding can take a while...\n",
    "n_comps = 12\n",
    "alpha = 1\n",
    "try:\n",
    "    d = pkl.load(open(f'models/sc_{n_comps}_alpha={alpha}.pkl', 'rb'))\n",
    "except:\n",
    "    d = DictionaryLearning(n_components=n_comps, alpha=alpha, random_state=42)\n",
    "    d.fit(X)\n",
    "    pkl.dump(d, open(f'models/sc_{n_comps}_alpha={alpha}.pkl', 'wb'))\n",
    "plot_comps(d.components_)"
   ]
  },
  {
   "cell_type": "code",
   "execution_count": null,
   "metadata": {},
   "outputs": [],
   "source": [
    "n_comps=12\n",
    "d = NMF(n_components=n_comps, random_state=42)\n",
    "d.fit(X - np.min(X))\n",
    "# pkl.dump(d, open(f'models/nmf_{n_comps}.pkl', 'wb'))\n",
    "plot_comps(d.components_)"
   ]
  },
  {
   "cell_type": "markdown",
   "metadata": {},
   "source": [
    "# interpret one pred at multiple scales\n",
    "Calculates cd score for segments of different lengths. (e.g. each time point, half of inputs, etc.)\n",
    "\n",
    "Note: input is length 40. Sometimes input time-series are shorter than this, so they are padded with zeros at the end. Sometimes inputs are longer than 40, but then they are downsampled to length 40. Later we might want to consider using the full-length tracks.\n",
    "\n",
    "Note: the model predicts a single continuous value (it was trained using an auxiliary regression outcome). The more positive the output, the higher the probability of predicting class \"1\". When the prediction is > 0, then the output is predicting class 1 and when it is < 0, it is a prediction for class 0."
   ]
  },
  {
   "cell_type": "code",
   "execution_count": null,
   "metadata": {},
   "outputs": [],
   "source": [
    "num = 0\n",
    "xtrack = X[num: num + 1]\n",
    "xtrack_unnormalized = X_unnormalized[num: num + 1]\n",
    "xtrack_t = torch.tensor(np.array(list(xtrack)), dtype=torch.float)\n",
    "pred = dnn.model(xtrack_t, None).item()"
   ]
  },
  {
   "cell_type": "code",
   "execution_count": null,
   "metadata": {},
   "outputs": [],
   "source": [
    "# calculate cd scores for different subsegments of the input\n",
    "T = 40 # seq len\n",
    "# track_segs = [(s, s + 1) for s in range(T)]\n",
    "DIV = 40\n",
    "track_segs_fourty = [(floor(s * T / DIV), floor((s+1) * T / DIV))\n",
    "                    for s in range(DIV)]\n",
    "\n",
    "DIV = 20\n",
    "track_segs_twenty = [(floor(s * T / DIV), floor((s+1) * T / DIV))\n",
    "                    for s in range(DIV)]\n",
    "DIV = 10\n",
    "track_segs_tenths = [(floor(s * T / DIV), floor((s+1) * T / DIV))\n",
    "                    for s in range(DIV)]\n",
    "DIV = 6\n",
    "track_segs_fifths = [(floor(s * T / DIV), floor((s+1) * T / DIV))\n",
    "                    for s in range(DIV)]\n",
    "DIV = 4\n",
    "track_segs_quarters = [(floor(s * T / DIV), floor((s+1) * T / DIV))\n",
    "                    for s in range(DIV)]\n",
    "DIV = 1\n",
    "track_segs_full = [(floor(s * T / DIV), floor((s+1) * T / DIV))\n",
    "                    for s in range(DIV)]\n",
    "track_segs_list = [track_segs_fourty, track_segs_twenty, track_segs_tenths,\n",
    "                   track_segs_fifths, track_segs_quarters, track_segs_full]\n",
    "cd_scores_list = [[interpret.calc_cd_score(xtrack_t, None, s, e, dnn.model)\n",
    "                  for (s, e) in track_segs]\n",
    "                  for track_segs in tqdm(track_segs_list)]"
   ]
  },
  {
   "cell_type": "code",
   "execution_count": null,
   "metadata": {},
   "outputs": [],
   "source": [
    "plt.figure(dpi=200, figsize=(12, 6))\n",
    "R, C = 2, 3\n",
    "for i, track_segs in enumerate(track_segs_list):\n",
    "    ax = plt.subplot(R, C, i + 1)\n",
    "    cd_scores = cd_scores_list[i]\n",
    "    interpret.plot_segs(track_segs, cd_scores, xtrack_unnormalized[0]) #, pred, y=0)\n",
    "    \n",
    "    if i == C * (R - 1):\n",
    "        plt.xlabel('Time')\n",
    "    else:\n",
    "        plt.xticks([])\n",
    "    if i == 0:\n",
    "        plt.ylabel('Clath Amplitude')\n",
    "    else:\n",
    "        plt.yticks([])\n",
    "    if i ==  C * R - 1:\n",
    "        plt.text(0.1, 0.9,\n",
    "                 f'pred: {pred:.2f}, y: {1 * y[num]}', fontsize='x-large', transform = ax.transAxes)\n",
    "plt.tight_layout()\n",
    "plt.show()"
   ]
  }
 ],
 "metadata": {
  "kernelspec": {
   "display_name": "Environment (conda_pytorch_p36)",
   "language": "python",
   "name": "conda_pytorch_p36"
  },
  "language_info": {
   "codemirror_mode": {
    "name": "ipython",
    "version": 3
   },
   "file_extension": ".py",
   "mimetype": "text/x-python",
   "name": "python",
   "nbconvert_exporter": "python",
   "pygments_lexer": "ipython3",
   "version": "3.6.10"
  }
 },
 "nbformat": 4,
 "nbformat_minor": 4
}
