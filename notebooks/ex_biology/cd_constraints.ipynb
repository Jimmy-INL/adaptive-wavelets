{
 "cells": [
  {
   "cell_type": "code",
   "execution_count": 1,
   "metadata": {},
   "outputs": [],
   "source": [
    "%load_ext autoreload\n",
    "%autoreload 2\n",
    "%matplotlib inline\n",
    "import matplotlib.pyplot as plt\n",
    "import numpy as np\n",
    "import torch\n",
    "device = 'cuda' if torch.cuda.is_available() else 'cpu'\n",
    "import os,sys\n",
    "opj = os.path.join\n",
    "from copy import deepcopy\n",
    "import pickle as pkl\n",
    "from tqdm import tqdm\n",
    "\n",
    "from sim_biology import p, load_dataloader_and_pretrained_model\n",
    "# adaptive-wavelets modules\n",
    "sys.path.append('../../src')\n",
    "sys.path.append('../../src/adaptive_wavelets')\n",
    "from losses import get_loss_f\n",
    "from train import Trainer, Validator\n",
    "from transform1d import DWT1d\n",
    "from utils import get_1dfilts\n",
    "from wave_attributions import Attributer\n",
    "from visualize import cshow, plot_1dreconstruct, plot_1dfilts"
   ]
  },
  {
   "cell_type": "markdown",
   "metadata": {},
   "source": [
    "## load data and model"
   ]
  },
  {
   "cell_type": "code",
   "execution_count": 2,
   "metadata": {},
   "outputs": [],
   "source": [
    "# get dataloader and model\n",
    "(train_loader, test_loader), model = load_dataloader_and_pretrained_model(p)"
   ]
  },
  {
   "cell_type": "code",
   "execution_count": 119,
   "metadata": {},
   "outputs": [],
   "source": [
    "# get image\n",
    "data = iter(test_loader).next()[0].to(device)\n",
    "\n",
    "# wavelet transform \n",
    "wt = DWT1d(wave='db5', mode='symmetric', J=5, init_factor=1, noise_factor=0.0).to(device)\n",
    "\n",
    "data_t = wt(data)\n",
    "recon = wt.inverse(data_t)"
   ]
  },
  {
   "cell_type": "code",
   "execution_count": 185,
   "metadata": {},
   "outputs": [],
   "source": [
    "import acd\n",
    "from acd.scores import cd_propagate\n",
    "from scipy.special import expit as sigmoid\n",
    "from torch import tanh\n",
    "import math\n",
    "sys.path.append('../../lib/trim')\n",
    "from trim import TrimModel\n",
    "\n",
    "mt = TrimModel(model, wt.inverse, use_residuals=True)    \n",
    "attributer = Attributer(mt, attr_methods='Saliency', device='cuda')"
   ]
  },
  {
   "cell_type": "code",
   "execution_count": 180,
   "metadata": {},
   "outputs": [],
   "source": [
    "blobs = []\n",
    "idx = 0\n",
    "for i in range(len(data_t)):\n",
    "    blob = torch.zeros_like(data_t[i])\n",
    "    if i==idx:\n",
    "        blob[:,:,0] = 1\n",
    "    blobs.append(blob)\n",
    "blobs = tuple(blobs)\n",
    "\n",
    "def tuple_mul(a, b):\n",
    "    n = len(a)\n",
    "    c = []\n",
    "    for i in range(n):\n",
    "        c.append(torch.mul(a[i], b[i]))\n",
    "    return tuple(c)"
   ]
  },
  {
   "cell_type": "code",
   "execution_count": 181,
   "metadata": {},
   "outputs": [],
   "source": [
    "a = wt.inverse(tuple_mul(data_t, blobs))"
   ]
  },
  {
   "cell_type": "code",
   "execution_count": 182,
   "metadata": {},
   "outputs": [
    {
     "data": {
      "text/plain": [
       "[<matplotlib.lines.Line2D at 0x7f341cb0fa90>]"
      ]
     },
     "execution_count": 182,
     "metadata": {},
     "output_type": "execute_result"
    },
    {
     "data": {
      "image/png": "[encoded data removed]",
      "text/plain": [
       "<Figure size 432x288 with 1 Axes>"
      ]
     },
     "metadata": {
      "needs_background": "light"
     },
     "output_type": "display_data"
    }
   ],
   "source": [
    "plt.plot(a[2].squeeze().detach().cpu())"
   ]
  },
  {
   "cell_type": "code",
   "execution_count": 188,
   "metadata": {},
   "outputs": [
    {
     "name": "stdout",
     "output_type": "stream",
     "text": [
      "torch.Size([100, 1, 9])\n",
      "torch.Size([100, 1, 24])\n",
      "torch.Size([100, 1, 16])\n",
      "torch.Size([100, 1, 12])\n",
      "torch.Size([100, 1, 10])\n",
      "torch.Size([100, 1, 9])\n"
     ]
    }
   ],
   "source": [
    "for i in range(6):\n",
    "    print(data_t[i].shape)"
   ]
  },
  {
   "cell_type": "code",
   "execution_count": 189,
   "metadata": {},
   "outputs": [],
   "source": [
    "rel_h, irrel_h = cd_propagate.propagate_lstm(recon, model.model.lstm, 0, 1, 'cuda')\n",
    "rel, irrel = cd_propagate.propagate_conv_linear(rel_h, irrel_h, model.model.fc)"
   ]
  },
  {
   "cell_type": "code",
   "execution_count": 190,
   "metadata": {},
   "outputs": [
    {
     "data": {
      "text/plain": [
       "tensor([[[ 5.4672e-03]],\n",
       "\n",
       "        [[ 6.8821e-02]],\n",
       "\n",
       "        [[ 2.1360e-02]],\n",
       "\n",
       "        [[ 3.4667e-02]],\n",
       "\n",
       "        [[ 3.3291e-02]],\n",
       "\n",
       "        [[-3.3587e-03]],\n",
       "\n",
       "        [[ 4.5960e-03]],\n",
       "\n",
       "        [[ 4.2683e-03]],\n",
       "\n",
       "        [[-3.5828e-02]],\n",
       "\n",
       "        [[ 3.2311e-02]],\n",
       "\n",
       "        [[-3.7483e-05]],\n",
       "\n",
       "        [[ 4.3141e-03]],\n",
       "\n",
       "        [[ 2.1480e-04]],\n",
       "\n",
       "        [[ 3.4262e-02]],\n",
       "\n",
       "        [[ 3.1088e-02]],\n",
       "\n",
       "        [[ 1.2598e-03]],\n",
       "\n",
       "        [[ 8.6132e-03]],\n",
       "\n",
       "        [[ 7.8547e-03]],\n",
       "\n",
       "        [[ 6.9120e-02]],\n",
       "\n",
       "        [[ 2.0238e-02]],\n",
       "\n",
       "        [[ 7.9555e-03]],\n",
       "\n",
       "        [[-2.8978e-04]],\n",
       "\n",
       "        [[-4.1782e-02]],\n",
       "\n",
       "        [[-4.1099e-02]],\n",
       "\n",
       "        [[ 3.8711e-02]],\n",
       "\n",
       "        [[ 3.2314e-04]],\n",
       "\n",
       "        [[ 2.9553e-03]],\n",
       "\n",
       "        [[ 4.9533e-02]],\n",
       "\n",
       "        [[ 1.4921e-03]],\n",
       "\n",
       "        [[ 7.9564e-03]],\n",
       "\n",
       "        [[ 2.1789e-04]],\n",
       "\n",
       "        [[-1.9134e-02]],\n",
       "\n",
       "        [[-1.6621e-02]],\n",
       "\n",
       "        [[ 2.6966e-02]],\n",
       "\n",
       "        [[ 4.3126e-02]],\n",
       "\n",
       "        [[-5.2926e-03]],\n",
       "\n",
       "        [[-3.8052e-03]],\n",
       "\n",
       "        [[ 7.9021e-03]],\n",
       "\n",
       "        [[-2.5009e-03]],\n",
       "\n",
       "        [[ 2.4260e-02]],\n",
       "\n",
       "        [[-6.3048e-03]],\n",
       "\n",
       "        [[ 4.7884e-03]],\n",
       "\n",
       "        [[-3.0831e-04]],\n",
       "\n",
       "        [[ 3.8340e-03]],\n",
       "\n",
       "        [[ 1.1070e-02]],\n",
       "\n",
       "        [[-6.1888e-02]],\n",
       "\n",
       "        [[ 4.1012e-02]],\n",
       "\n",
       "        [[ 3.2696e-03]],\n",
       "\n",
       "        [[-6.2723e-04]],\n",
       "\n",
       "        [[ 4.6630e-03]],\n",
       "\n",
       "        [[ 2.6580e-02]],\n",
       "\n",
       "        [[ 1.4082e-03]],\n",
       "\n",
       "        [[-1.7792e-02]],\n",
       "\n",
       "        [[ 4.0276e-04]],\n",
       "\n",
       "        [[ 8.7544e-04]],\n",
       "\n",
       "        [[ 2.7382e-02]],\n",
       "\n",
       "        [[ 4.1611e-02]],\n",
       "\n",
       "        [[ 1.6364e-02]],\n",
       "\n",
       "        [[-1.1490e-04]],\n",
       "\n",
       "        [[-6.2329e-04]],\n",
       "\n",
       "        [[ 5.2613e-02]],\n",
       "\n",
       "        [[ 3.8691e-02]],\n",
       "\n",
       "        [[-6.3082e-04]],\n",
       "\n",
       "        [[ 4.8830e-02]],\n",
       "\n",
       "        [[-5.8249e-02]],\n",
       "\n",
       "        [[-4.9400e-02]],\n",
       "\n",
       "        [[-1.5161e-03]],\n",
       "\n",
       "        [[ 1.1589e-04]],\n",
       "\n",
       "        [[ 1.4140e-03]],\n",
       "\n",
       "        [[-2.5716e-03]],\n",
       "\n",
       "        [[-4.1182e-03]],\n",
       "\n",
       "        [[ 3.1501e-03]],\n",
       "\n",
       "        [[ 2.1981e-03]],\n",
       "\n",
       "        [[ 9.2044e-03]],\n",
       "\n",
       "        [[-2.1940e-03]],\n",
       "\n",
       "        [[ 2.6860e-03]],\n",
       "\n",
       "        [[-3.3381e-03]],\n",
       "\n",
       "        [[ 1.1389e-03]],\n",
       "\n",
       "        [[ 2.8069e-02]],\n",
       "\n",
       "        [[ 8.4916e-03]],\n",
       "\n",
       "        [[ 2.9841e-03]],\n",
       "\n",
       "        [[ 5.0075e-02]],\n",
       "\n",
       "        [[ 2.7718e-02]],\n",
       "\n",
       "        [[ 8.5540e-03]],\n",
       "\n",
       "        [[ 5.9181e-03]],\n",
       "\n",
       "        [[ 2.2387e-03]],\n",
       "\n",
       "        [[-8.1617e-04]],\n",
       "\n",
       "        [[ 7.6003e-03]],\n",
       "\n",
       "        [[-6.0622e-04]],\n",
       "\n",
       "        [[ 1.1418e-03]],\n",
       "\n",
       "        [[ 2.4785e-02]],\n",
       "\n",
       "        [[-4.8901e-03]],\n",
       "\n",
       "        [[ 5.0290e-02]],\n",
       "\n",
       "        [[ 6.8590e-03]],\n",
       "\n",
       "        [[ 3.4183e-02]],\n",
       "\n",
       "        [[ 2.0345e-02]],\n",
       "\n",
       "        [[ 8.8495e-04]],\n",
       "\n",
       "        [[ 3.0117e-02]],\n",
       "\n",
       "        [[ 1.0251e-03]],\n",
       "\n",
       "        [[ 1.8304e-03]]], device='cuda:0', grad_fn=<AddBackward0>)"
      ]
     },
     "execution_count": 190,
     "metadata": {},
     "output_type": "execute_result"
    }
   ],
   "source": [
    "rel"
   ]
  },
  {
   "cell_type": "code",
   "execution_count": null,
   "metadata": {},
   "outputs": [],
   "source": [
    "# T = 40\n",
    "# DIV = 40\n",
    "# track_segs_fourty = [(math.floor(s * T / DIV), math.floor((s+1) * T / DIV))\n",
    "#                     for s in range(DIV)]\n",
    "# [interpret.calc_cd_score(xtrack_t, None, s, e, dnn.model)\n",
    "#                   for (s, e) in track_segs_fourty]"
   ]
  },
  {
   "cell_type": "code",
   "execution_count": null,
   "metadata": {},
   "outputs": [],
   "source": []
  }
 ],
 "metadata": {
  "kernelspec": {
   "display_name": "Environment (conda_pytorch_p36)",
   "language": "python",
   "name": "conda_pytorch_p36"
  },
  "language_info": {
   "codemirror_mode": {
    "name": "ipython",
    "version": 3
   },
   "file_extension": ".py",
   "mimetype": "text/x-python",
   "name": "python",
   "nbconvert_exporter": "python",
   "pygments_lexer": "ipython3",
   "version": "3.6.10"
  }
 },
 "nbformat": 4,
 "nbformat_minor": 4
}
