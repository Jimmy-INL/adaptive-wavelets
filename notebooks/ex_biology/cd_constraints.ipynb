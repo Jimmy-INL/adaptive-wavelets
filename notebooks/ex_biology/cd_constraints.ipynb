{
 "cells": [
  {
   "cell_type": "code",
   "execution_count": 1,
   "metadata": {},
   "outputs": [],
   "source": [
    "%load_ext autoreload\n",
    "%autoreload 2\n",
    "%matplotlib inline\n",
    "import matplotlib.pyplot as plt\n",
    "import numpy as np\n",
    "import torch\n",
    "device = 'cuda' if torch.cuda.is_available() else 'cpu'\n",
    "import os,sys\n",
    "opj = os.path.join\n",
    "from copy import deepcopy\n",
    "import pickle as pkl\n",
    "from tqdm import tqdm\n",
    "import acd\n",
    "\n",
    "from sim_biology import p, load_dataloader_and_pretrained_model\n",
    "p.data_path = \"../../src/dsets/biology/data\"\n",
    "# adaptive-wavelets modules\n",
    "sys.path.append('../../src')\n",
    "sys.path.append('../../src/adaptive_wavelets')\n",
    "from losses import get_loss_f\n",
    "from train import Trainer\n",
    "from evaluate import Validator\n",
    "from transform1d import DWT1d\n",
    "from utils import get_1dfilts\n",
    "from wave_attributions import Attributer\n",
    "from visualize import cshow, plot_1dreconstruct, plot_1dfilts\n",
    "sys.path.append('../../lib/trim')\n",
    "from trim import TrimModel"
   ]
  },
  {
   "cell_type": "markdown",
   "metadata": {},
   "source": [
    "## load data and model"
   ]
  },
  {
   "cell_type": "code",
   "execution_count": 2,
   "metadata": {},
   "outputs": [],
   "source": [
    "# get dataloader and model\n",
    "(train_loader, test_loader), model = load_dataloader_and_pretrained_model(p)\n",
    "\n",
    "# wavelet transform \n",
    "wt = DWT1d(wave='db5', mode='zero', J=4, init_factor=1, noise_factor=0.0).to(device)\n",
    "\n",
    "# get a batch of images\n",
    "data = iter(test_loader).next()[0].to(device)\n",
    "# wavelet transform and reconstruction\n",
    "data_t = wt(data)\n",
    "recon = wt.inverse(data_t)"
   ]
  },
  {
   "cell_type": "code",
   "execution_count": 3,
   "metadata": {},
   "outputs": [
    {
     "name": "stdout",
     "output_type": "stream",
     "text": [
      "shape of data torch.Size([100, 1, 40])\n",
      "shape of wavelet coeffs torch.Size([100, 1, 10])\n",
      "shape of wavelet coeffs torch.Size([100, 1, 24])\n",
      "shape of wavelet coeffs torch.Size([100, 1, 16])\n",
      "shape of wavelet coeffs torch.Size([100, 1, 12])\n",
      "shape of wavelet coeffs torch.Size([100, 1, 10])\n"
     ]
    }
   ],
   "source": [
    "print('shape of data', data.shape)\n",
    "for i in range(len(data_t)):\n",
    "    print('shape of wavelet coeffs', data_t[i].shape)"
   ]
  },
  {
   "cell_type": "code",
   "execution_count": 4,
   "metadata": {},
   "outputs": [
    {
     "name": "stdout",
     "output_type": "stream",
     "text": [
      "reconstruction error: 0.00000\n"
     ]
    }
   ],
   "source": [
    "print('reconstruction error: {:.5f}'.format(torch.norm(data - recon).item()/data.size(0)))"
   ]
  },
  {
   "cell_type": "code",
   "execution_count": 5,
   "metadata": {},
   "outputs": [
    {
     "name": "stdout",
     "output_type": "stream",
     "text": [
      "tensor([[-0.8557],\n",
      "        [-0.8095],\n",
      "        [-0.4112],\n",
      "        [-0.8514],\n",
      "        [ 0.0790]], device='cuda:0', grad_fn=<SliceBackward>)\n"
     ]
    }
   ],
   "source": [
    "# trim model\n",
    "mt = TrimModel(model, wt.inverse, use_residuals=True).to(device)\n",
    "out = mt(data_t, deepcopy(data))\n",
    "print(out[:5])"
   ]
  },
  {
   "cell_type": "code",
   "execution_count": null,
   "metadata": {},
   "outputs": [],
   "source": []
  }
 ],
 "metadata": {
  "kernelspec": {
   "display_name": "Environment (conda_pytorch_p36)",
   "language": "python",
   "name": "conda_pytorch_p36"
  },
  "language_info": {
   "codemirror_mode": {
    "name": "ipython",
    "version": 3
   },
   "file_extension": ".py",
   "mimetype": "text/x-python",
   "name": "python",
   "nbconvert_exporter": "python",
   "pygments_lexer": "ipython3",
   "version": "3.6.10"
  }
 },
 "nbformat": 4,
 "nbformat_minor": 4
}
