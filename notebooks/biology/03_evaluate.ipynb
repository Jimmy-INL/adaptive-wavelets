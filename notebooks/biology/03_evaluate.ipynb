{
 "cells": [
  {
   "cell_type": "code",
   "execution_count": 1,
   "metadata": {},
   "outputs": [],
   "source": [
    "%load_ext autoreload\n",
    "%autoreload 2\n",
    "%matplotlib inline\n",
    "import matplotlib.pyplot as plt\n",
    "import numpy as np\n",
    "import torch\n",
    "device = 'cuda' if torch.cuda.is_available() else 'cpu'\n",
    "import os,sys\n",
    "opj = os.path.join\n",
    "from copy import deepcopy\n",
    "from tqdm import tqdm\n",
    "import pickle as pkl\n",
    "import pandas as pd\n",
    "import torch.nn.functional as F\n",
    "\n",
    "from ex_biology import p\n",
    "from dset import get_dataloader, load_pretrained_model\n",
    "\n",
    "# adaptive-wavelets modules\n",
    "from losses import get_loss_f\n",
    "from train import Trainer\n",
    "from evaluate import Validator\n",
    "from transform1d import DWT1d\n",
    "from utils import get_1dfilts, get_wavefun, low_to_high\n",
    "from wave_attributions import Attributer\n",
    "from visualize import cshow, plot_1dfilts, plot_1dreconstruct, plot_wavefun\n",
    "\n",
    "# evaluation\n",
    "from matplotlib import gridspec\n",
    "from sklearn.linear_model import LinearRegression, Ridge, RidgeCV, LogisticRegression\n",
    "from sklearn import metrics\n",
    "from sklearn.model_selection import cross_val_score\n",
    "from feature_transform import max_transformer"
   ]
  },
  {
   "cell_type": "markdown",
   "metadata": {},
   "source": [
    "# load results"
   ]
  },
  {
   "cell_type": "code",
   "execution_count": 2,
   "metadata": {},
   "outputs": [],
   "source": [
    "# wavelet params\n",
    "waves = [\"coif2\"]\n",
    "mode = \"zero\"\n",
    "J = 4\n",
    "\n",
    "# result path\n",
    "path = opj(os.getcwd(), \"results\")\n",
    "dirs = [wave + \"_saliency_warmstart_seed=1\" for wave in waves]\n",
    "\n",
    "results = []\n",
    "models = []\n",
    "for i in range(len(dirs)):\n",
    "    # load results\n",
    "    out_dir = opj(path, dirs[i])\n",
    "    fnames = sorted(os.listdir(out_dir))\n",
    "    \n",
    "    results_list = []\n",
    "    models_list = []\n",
    "    for fname in fnames:\n",
    "        if fname[-3:] == 'pkl':\n",
    "            results_list.append(pkl.load(open(opj(out_dir, fname), 'rb')))\n",
    "        if fname[-3:] == 'pth':\n",
    "            wt = DWT1d(wave=waves[i], mode=mode, J=J, init_factor=1, noise_factor=0.0).to(device)\n",
    "            wt.load_state_dict(torch.load(opj(out_dir, fname)))       \n",
    "            models_list.append(wt)\n",
    "    results.append(pd.DataFrame(results_list))\n",
    "    models.append(models_list)"
   ]
  },
  {
   "cell_type": "code",
   "execution_count": 3,
   "metadata": {},
   "outputs": [],
   "source": [
    "# define indexes\n",
    "res = results[0]\n",
    "mos = models[0]\n",
    "lamL1wave = np.array(res['lamL1wave'])\n",
    "lamL1attr = np.array(res['lamL1attr'])\n",
    "lamL1wave_grid = np.unique(lamL1wave)\n",
    "lamL1attr_grid = np.unique(lamL1attr)\n",
    "R = len(lamL1wave_grid)\n",
    "C = len(lamL1attr_grid)\n",
    "\n",
    "# original wavelet\n",
    "wt_o = DWT1d(wave='coif2', mode=mode, J=J).to(device)\n",
    "\n",
    "# collect results\n",
    "dic = {'psi':{},\n",
    "       'wt': {},\n",
    "       'lamL1wave': {},\n",
    "       'lamL1attr': {},\n",
    "       'index': {}}\n",
    "\n",
    "for r in range(R):\n",
    "    for c in range(C):\n",
    "        loc = (lamL1wave == lamL1wave_grid[r]) & (lamL1attr == lamL1attr_grid[c])\n",
    "        if loc.sum() == 1: \n",
    "            loc = np.argwhere(loc).flatten()[0]\n",
    "            dic['index'][(r,c)] = loc\n",
    "            wt = mos[loc]\n",
    "            _, psi, x = get_wavefun(wt)\n",
    "\n",
    "            dic['wt'][(r,c)] = wt\n",
    "            dic['psi'][(r,c)] = psi     \n",
    "            dic['lamL1wave'][(r,c)] = lamL1wave_grid[r]\n",
    "            dic['lamL1attr'][(r,c)] = lamL1attr_grid[c]\n"
   ]
  },
  {
   "cell_type": "markdown",
   "metadata": {},
   "source": [
    "# calculate accuracy"
   ]
  },
  {
   "cell_type": "code",
   "execution_count": 4,
   "metadata": {},
   "outputs": [
    {
     "name": "stdout",
     "output_type": "stream",
     "text": [
      "Iteration:104"
     ]
    }
   ],
   "source": [
    "# params for feature transformer\n",
    "is_abs = False\n",
    "m = 6\n",
    "\n",
    "# cross validation\n",
    "reg = []\n",
    "log = []\n",
    "for use_reg in [True, False]:\n",
    "    (train_loader, test_loader) = get_dataloader(p.data_path, \n",
    "                                                 batch_size=p.batch_size,\n",
    "                                                 is_continuous=use_reg)   \n",
    "    for i,wt in enumerate(list(dic['wt'].values())):\n",
    "        wt = wt.to('cpu')\n",
    "        (X, y), (X_test, y_test) = max_transformer(wt, \n",
    "                                                   train_loader, \n",
    "                                                   test_loader,\n",
    "                                                   is_abs=is_abs,\n",
    "                                                   m=m)\n",
    "        \n",
    "        if use_reg:\n",
    "            clf = LinearRegression()\n",
    "            scores = cross_val_score(clf, X, y, cv=5, scoring='r2')\n",
    "            reg.append(scores.mean())\n",
    "#             clf = LinearRegression().fit(X, y)\n",
    "#             preds = clf.predict(X_test)\n",
    "#             reg.append(metrics.r2_score(y_test, preds))\n",
    "        else:\n",
    "            clf = LogisticRegression()\n",
    "            scores = cross_val_score(clf, X, y, cv=5, scoring='accuracy')\n",
    "            log.append(scores.mean())\n",
    "#             clf = LogisticRegression().fit(X, y)\n",
    "#             preds = clf.predict(X_test)\n",
    "#             preds = 1 * (preds > 0)\n",
    "#             log.append(metrics.accuracy_score(y_test, preds))\n",
    "        print('\\rIteration:{}'.format(i), end='')\n",
    "reg = np.array(reg)\n",
    "log = np.array(log)"
   ]
  },
  {
   "cell_type": "markdown",
   "metadata": {},
   "source": [
    "# regression"
   ]
  },
  {
   "cell_type": "markdown",
   "metadata": {},
   "source": [
    "wavelet with best regression performance"
   ]
  },
  {
   "cell_type": "code",
   "execution_count": 5,
   "metadata": {},
   "outputs": [
    {
     "name": "stdout",
     "output_type": "stream",
     "text": [
      "Hyperparameter: lamL1wave=0.001880 lamL1attr=10.000000\n",
      "Error: Recon=0.037714\n",
      "Sparsity: Wave=4.286875\n",
      "Interp: Saliency=0.359943 InputXGrade=0.280224\n",
      "Wavelet loss: lSum=0.000027 hsum=0.001527 L2norm=0.000129 CMF=0.006898 Conv=0.000287\n"
     ]
    },
    {
     "data": {
      "image/png": "[encoded data removed]",
      "text/plain": [
       "<Figure size 400x400 with 2 Axes>"
      ]
     },
     "metadata": {
      "needs_background": "light"
     },
     "output_type": "display_data"
    },
    {
     "data": {
      "image/png": "[encoded data removed]",
      "text/plain": [
       "<Figure size 900x300 with 2 Axes>"
      ]
     },
     "metadata": {
      "needs_background": "light"
     },
     "output_type": "display_data"
    }
   ],
   "source": [
    "idx1, idx2 = list(dic['index'].keys())[np.argmax(reg).flatten()[0]]\n",
    "wt = mos[dic['index'][(idx1, idx2)]]\n",
    "filt = get_1dfilts(wt)\n",
    "phi, psi, x = get_wavefun(wt)\n",
    "\n",
    "# print \n",
    "print('Hyperparameter: lamL1wave={:.6f} lamL1attr={:.6f}'.format(res['lamL1wave'][dic['index'][(idx1, idx2)]], res['lamL1attr'][dic['index'][(idx1, idx2)]]))\n",
    "print('Error: Recon={:.6f}'.format(res['rec_loss'][dic['index'][(idx1, idx2)]]))\n",
    "print('Sparsity: Wave={:.6f}'.format(res['L1wave_loss'][dic['index'][(idx1, idx2)]]))\n",
    "print('Interp: Saliency={:.6f} InputXGrade={:.6f}'.format(res['L1saliency_loss'][dic['index'][(idx1, idx2)]], res['L1inputxgrad_loss'][dic['index'][(idx1, idx2)]]))\n",
    "print('Wavelet loss: lSum={:.6f} hsum={:.6f} L2norm={:.6f} CMF={:.6f} Conv={:.6f}'.format(res['lsum_loss'][dic['index'][(idx1, idx2)]],\n",
    "                                                                                          res['hsum_loss'][dic['index'][(idx1, idx2)]],\n",
    "                                                                                          res['L2norm_loss'][dic['index'][(idx1, idx2)]],\n",
    "                                                                                          res['CMF_loss'][dic['index'][(idx1, idx2)]],\n",
    "                                                                                          res['conv_loss'][dic['index'][(idx1, idx2)]]))\n",
    "\n",
    "\n",
    "plot_1dfilts(filt, is_title=True, figsize=(2,2))\n",
    "plot_wavefun((phi, psi, x), is_title=True, figsize=(3,1))"
   ]
  },
  {
   "cell_type": "code",
   "execution_count": 6,
   "metadata": {},
   "outputs": [
    {
     "name": "stdout",
     "output_type": "stream",
     "text": [
      "\\begin{tabular}{lrrr}\n",
      "\\toprule\n",
      "{} &  Standard Wavelet (Coif2) &  AWD (Ours) &   LSTM \\\\\n",
      "\\midrule\n",
      "Regression (R2 score) &                     0.182 &        0.18 &  0.237 \\\\\n",
      "\\bottomrule\n",
      "\\end{tabular}\n",
      "\n"
     ]
    }
   ],
   "source": [
    "model = load_pretrained_model(p.model_path, device=device)    \n",
    "\n",
    "r = {\n",
    "    'Standard Wavelet (Coif2)': [],\n",
    "    'AWD (Ours)': [],    \n",
    "    'LSTM': [],\n",
    "}\n",
    "\n",
    "(train_loader, test_loader) = get_dataloader(p.data_path, \n",
    "                             batch_size=p.batch_size,\n",
    "                             is_continuous=True)   \n",
    "\n",
    "(X, y), (X_test, y_test) = max_transformer(wt, \n",
    "                                           train_loader, \n",
    "                                           test_loader,\n",
    "                                           is_abs=is_abs,\n",
    "                                           m=m)\n",
    "\n",
    "clf = LinearRegression().fit(X, y)\n",
    "preds = clf.predict(X_test)\n",
    "acc = metrics.r2_score(y_test, preds)\n",
    "r['AWD (Ours)'].append(acc)\n",
    "\n",
    "(X, y), (X_test, y_test) = max_transformer(wt_o, \n",
    "                                           train_loader, \n",
    "                                           test_loader,\n",
    "                                           is_abs=is_abs,\n",
    "                                           m=m)\n",
    "\n",
    "clf_o = LinearRegression().fit(X, y)\n",
    "preds = clf_o.predict(X_test)\n",
    "acc = metrics.r2_score(y_test, preds)\n",
    "r['Standard Wavelet (Coif2)'].append(acc)\n",
    "\n",
    "preds = []\n",
    "y_test = []\n",
    "for data, labels in test_loader:   \n",
    "    preds.append(model(data).detach().numpy())\n",
    "    y_test.append(labels.detach().numpy())\n",
    "preds = np.vstack(preds)\n",
    "y_test = np.vstack(y_test)\n",
    "acc = metrics.r2_score(y_test, preds)\n",
    "r['LSTM'].append(acc)\n",
    "\n",
    "scores = pd.DataFrame.from_dict(r).round(3)\n",
    "scores.index = ['Regression (R2 score)']\n",
    "print(scores.to_latex())"
   ]
  },
  {
   "cell_type": "markdown",
   "metadata": {},
   "source": [
    "# classification"
   ]
  },
  {
   "cell_type": "markdown",
   "metadata": {},
   "source": [
    "wavelet with best classification performance"
   ]
  },
  {
   "cell_type": "code",
   "execution_count": 7,
   "metadata": {},
   "outputs": [
    {
     "name": "stdout",
     "output_type": "stream",
     "text": [
      "Hyperparameter: lamL1wave=0.001880 lamL1attr=2.976350\n",
      "Error: Recon=0.010449\n",
      "Sparsity: Wave=4.295395\n",
      "Interp: Saliency=0.364828 InputXGrade=0.284681\n",
      "Wavelet loss: lSum=0.000015 hsum=0.000633 L2norm=0.000009 CMF=0.000696 Conv=0.000028\n"
     ]
    },
    {
     "data": {
      "image/png": "[encoded data removed]",
      "text/plain": [
       "<Figure size 400x400 with 2 Axes>"
      ]
     },
     "metadata": {
      "needs_background": "light"
     },
     "output_type": "display_data"
    },
    {
     "data": {
      "image/png": "[encoded data removed]",
      "text/plain": [
       "<Figure size 900x300 with 2 Axes>"
      ]
     },
     "metadata": {
      "needs_background": "light"
     },
     "output_type": "display_data"
    }
   ],
   "source": [
    "idx1, idx2 = list(dic['index'].keys())[np.argmax(log).flatten()[0]]\n",
    "wt = mos[dic['index'][(idx1, idx2)]]\n",
    "filt = get_1dfilts(wt)\n",
    "phi, psi, x = get_wavefun(wt)\n",
    "\n",
    "# print \n",
    "print('Hyperparameter: lamL1wave={:.6f} lamL1attr={:.6f}'.format(res['lamL1wave'][dic['index'][(idx1, idx2)]], res['lamL1attr'][dic['index'][(idx1, idx2)]]))\n",
    "print('Error: Recon={:.6f}'.format(res['rec_loss'][dic['index'][(idx1, idx2)]]))\n",
    "print('Sparsity: Wave={:.6f}'.format(res['L1wave_loss'][dic['index'][(idx1, idx2)]]))\n",
    "print('Interp: Saliency={:.6f} InputXGrade={:.6f}'.format(res['L1saliency_loss'][dic['index'][(idx1, idx2)]], res['L1inputxgrad_loss'][dic['index'][(idx1, idx2)]]))\n",
    "print('Wavelet loss: lSum={:.6f} hsum={:.6f} L2norm={:.6f} CMF={:.6f} Conv={:.6f}'.format(res['lsum_loss'][dic['index'][(idx1, idx2)]],\n",
    "                                                                                          res['hsum_loss'][dic['index'][(idx1, idx2)]],\n",
    "                                                                                          res['L2norm_loss'][dic['index'][(idx1, idx2)]],\n",
    "                                                                                          res['CMF_loss'][dic['index'][(idx1, idx2)]],\n",
    "                                                                                          res['conv_loss'][dic['index'][(idx1, idx2)]]))\n",
    "\n",
    "\n",
    "plot_1dfilts(filt, is_title=True, figsize=(2,2))\n",
    "plot_wavefun((phi, psi, x), is_title=True, figsize=(3,1))"
   ]
  },
  {
   "cell_type": "code",
   "execution_count": 8,
   "metadata": {},
   "outputs": [
    {
     "name": "stdout",
     "output_type": "stream",
     "text": [
      "\\begin{tabular}{lrrr}\n",
      "\\toprule\n",
      "{} &  Standard Wavelet (Coif2) &  AWD (Ours) &   LSTM \\\\\n",
      "\\midrule\n",
      "Classification accuracy &                     0.685 &       0.675 &  0.709 \\\\\n",
      "\\bottomrule\n",
      "\\end{tabular}\n",
      "\n"
     ]
    }
   ],
   "source": [
    "model = load_pretrained_model(p.model_path, device=device)    \n",
    "\n",
    "r = {\n",
    "    'Standard Wavelet (Coif2)': [],\n",
    "    'AWD (Ours)': [],    \n",
    "    'LSTM': [],\n",
    "}\n",
    "\n",
    "(train_loader, test_loader) = get_dataloader(p.data_path, \n",
    "                             batch_size=p.batch_size,\n",
    "                             is_continuous=False)   \n",
    "\n",
    "(X, y), (X_test, y_test) = max_transformer(wt, \n",
    "                                           train_loader, \n",
    "                                           test_loader,\n",
    "                                           is_abs=is_abs,\n",
    "                                           m=m)\n",
    "\n",
    "clf = LogisticRegression().fit(X, y)\n",
    "preds = clf.predict(X_test)\n",
    "preds = 1 * (preds > 0)\n",
    "acc = metrics.accuracy_score(y_test, preds)\n",
    "r['AWD (Ours)'].append(acc)\n",
    "\n",
    "(X, y), (X_test, y_test) = max_transformer(wt_o, \n",
    "                                           train_loader, \n",
    "                                           test_loader,\n",
    "                                           is_abs=is_abs,\n",
    "                                           m=m)\n",
    "\n",
    "clf_o = LogisticRegression().fit(X, y)\n",
    "preds = clf_o.predict(X_test)\n",
    "preds = 1 * (preds > 0)\n",
    "acc = metrics.accuracy_score(y_test, preds)\n",
    "r['Standard Wavelet (Coif2)'].append(acc)\n",
    "\n",
    "\n",
    "preds = []\n",
    "y_test = []\n",
    "for data, labels in test_loader:   \n",
    "    preds.append(model(data).detach().numpy())\n",
    "    y_test.append(labels.detach().numpy())\n",
    "preds = np.vstack(preds)\n",
    "y_test = np.vstack(y_test)\n",
    "preds = 1 * (preds > 0)\n",
    "acc = metrics.accuracy_score(y_test, preds)\n",
    "r['LSTM'].append(acc)\n",
    "\n",
    "scores = pd.DataFrame.from_dict(r).round(3)\n",
    "scores.index = ['Classification accuracy']\n",
    "print(scores.to_latex())"
   ]
  },
  {
   "cell_type": "code",
   "execution_count": null,
   "metadata": {},
   "outputs": [],
   "source": []
  },
  {
   "cell_type": "code",
   "execution_count": null,
   "metadata": {},
   "outputs": [],
   "source": []
  }
 ],
 "metadata": {
  "kernelspec": {
   "display_name": "Environment (conda_pytorch_p36)",
   "language": "python",
   "name": "conda_pytorch_p36"
  },
  "language_info": {
   "codemirror_mode": {
    "name": "ipython",
    "version": 3
   },
   "file_extension": ".py",
   "mimetype": "text/x-python",
   "name": "python",
   "nbconvert_exporter": "python",
   "pygments_lexer": "ipython3",
   "version": "3.6.10"
  }
 },
 "nbformat": 4,
 "nbformat_minor": 4
}
