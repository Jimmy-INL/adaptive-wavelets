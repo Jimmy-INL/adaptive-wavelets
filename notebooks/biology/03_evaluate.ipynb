{
 "cells": [
  {
   "cell_type": "code",
   "execution_count": 49,
   "metadata": {},
   "outputs": [
    {
     "name": "stdout",
     "output_type": "stream",
     "text": [
      "The autoreload extension is already loaded. To reload it, use:\n",
      "  %reload_ext autoreload\n"
     ]
    }
   ],
   "source": [
    "%load_ext autoreload\n",
    "%autoreload 2\n",
    "%matplotlib inline\n",
    "import matplotlib.pyplot as plt\n",
    "import numpy as np\n",
    "import torch\n",
    "device = 'cuda' if torch.cuda.is_available() else 'cpu'\n",
    "import os,sys\n",
    "opj = os.path.join\n",
    "from copy import deepcopy\n",
    "from tqdm import tqdm\n",
    "import pickle as pkl\n",
    "import pandas as pd\n",
    "\n",
    "from ex_biology import p\n",
    "from dset import get_dataloader, load_pretrained_model\n",
    "\n",
    "# adaptive-wavelets modules\n",
    "from losses import get_loss_f\n",
    "from train import Trainer\n",
    "from evaluate import Validator\n",
    "from transform1d import DWT1d\n",
    "from utils import get_1dfilts, get_wavefun\n",
    "from wave_attributions import Attributer\n",
    "from visualize import cshow, plot_1dfilts, plot_1dreconstruct, plot_wavefun\n",
    "\n",
    "# evaluation\n",
    "from matplotlib import gridspec\n",
    "from sklearn.linear_model import LinearRegression, Ridge, RidgeCV, LogisticRegression\n",
    "from sklearn import metrics\n",
    "from sklearn.model_selection import cross_val_score\n",
    "from feature_transform import max_transformer\n",
    "import time"
   ]
  },
  {
   "cell_type": "markdown",
   "metadata": {},
   "source": [
    "# load results"
   ]
  },
  {
   "cell_type": "code",
   "execution_count": 25,
   "metadata": {},
   "outputs": [],
   "source": [
    "dirs = [\"db5_saliency_warmstart_seed=1\"]\n",
    "results = []\n",
    "models = []\n",
    "for i in range(len(dirs)):\n",
    "    # load results\n",
    "    out_dir = opj(\"/home/ubuntu/adaptive-wavelets/notebooks/biology/results\", dirs[i])\n",
    "    fnames = sorted(os.listdir(out_dir))\n",
    "    \n",
    "    results_list = []\n",
    "    models_list = []\n",
    "    for fname in fnames:\n",
    "        if fname[-3:] == 'pkl':\n",
    "            results_list.append(pkl.load(open(opj(out_dir, fname), 'rb')))\n",
    "        if fname[-3:] == 'pth':\n",
    "            wt = DWT1d(wave=\"db5\", mode='zero', J=4, init_factor=1, noise_factor=0.0).to(device)\n",
    "            wt.load_state_dict(torch.load(opj(out_dir, fname)))\n",
    "            models_list.append(wt)\n",
    "    results.append(pd.DataFrame(results_list))\n",
    "    models.append(models_list)"
   ]
  },
  {
   "cell_type": "code",
   "execution_count": 26,
   "metadata": {},
   "outputs": [],
   "source": [
    "dics = []\n",
    "for i in range(len(dirs)):\n",
    "    # define indexes\n",
    "    res = results[i]\n",
    "    mos = models[i]\n",
    "    lamL1wave = np.array(res['lamL1wave'])\n",
    "    lamL1attr = np.array(res['lamL1attr'])\n",
    "    lamL1wave_grid = np.unique(lamL1wave)\n",
    "    lamL1attr_grid = np.unique(lamL1attr)\n",
    "    R = len(lamL1wave_grid)\n",
    "    C = len(lamL1attr_grid)\n",
    "\n",
    "    # collect results\n",
    "    dic = {'psi':{},\n",
    "           'wt': {},\n",
    "           'x': {},\n",
    "           'lamL1wave': {},\n",
    "           'lamL1attr': {},\n",
    "           'index': {}}\n",
    "\n",
    "    for r in range(R):\n",
    "        for c in range(C):\n",
    "            loc = (lamL1wave == lamL1wave_grid[r]) & (lamL1attr == lamL1attr_grid[c])\n",
    "            if loc.sum() == 1: \n",
    "                loc = np.argwhere(loc).flatten()[0]\n",
    "                dic['index'][(r,c)] = loc\n",
    "                wt = mos[loc]\n",
    "                _, psi, x = get_wavefun(wt)\n",
    "\n",
    "                dic['wt'][(r,c)] = wt\n",
    "                dic['psi'][(r,c)] = psi  \n",
    "                dic['x'][(r,c)] = x\n",
    "                dic['lamL1wave'][(r,c)] = lamL1wave_grid[r]\n",
    "                dic['lamL1attr'][(r,c)] = lamL1attr_grid[c]\n",
    "    dics.append(dic)"
   ]
  },
  {
   "cell_type": "markdown",
   "metadata": {},
   "source": [
    "# calculate accuracy"
   ]
  },
  {
   "cell_type": "code",
   "execution_count": 27,
   "metadata": {},
   "outputs": [
    {
     "name": "stdout",
     "output_type": "stream",
     "text": [
      "Iteration:104"
     ]
    }
   ],
   "source": [
    "# params for feature transformer\n",
    "sgn = \"pos\"\n",
    "m = 6\n",
    "\n",
    "# cross validation\n",
    "reg_score = []\n",
    "(train_loader, test_loader) = get_dataloader(p.data_path, \n",
    "                                             batch_size=p.batch_size,\n",
    "                                             is_continuous=True)   \n",
    "\n",
    "index = 0 # select which result to evaluate\n",
    "for i,wt in enumerate(list(dics[index]['wt'].values())):\n",
    "    wt = wt.to('cpu')\n",
    "    (X, y), (X_test, y_test) = max_transformer(wt, \n",
    "                                               train_loader, \n",
    "                                               test_loader,\n",
    "                                               sgn=sgn,\n",
    "                                               m=m)\n",
    "\n",
    "\n",
    "    clf = LinearRegression()\n",
    "    scores = cross_val_score(clf, X, y, cv=5, scoring='r2')\n",
    "    reg_score.append(scores.mean())\n",
    "    print('\\rIteration:{}'.format(i), end='')\n",
    "reg_score = np.array(reg_score)"
   ]
  },
  {
   "cell_type": "code",
   "execution_count": 28,
   "metadata": {},
   "outputs": [
    {
     "name": "stdout",
     "output_type": "stream",
     "text": [
      "Hyperparameter: lamL1wave=0.005000 lamL1attr=0.042810\n",
      "Error: Recon=0.000215\n",
      "Sparsity: Wave=3.938666\n",
      "Interp: Saliency=0.374978 InputXGrade=0.286363\n",
      "Wavelet loss: lSum=0.000000 hsum=0.000000 L2norm=0.000000 CMF=0.000003 Conv=0.000000\n"
     ]
    },
    {
     "data": {
      "image/png": "[encoded data removed]",
      "text/plain": [
       "<Figure size 400x400 with 2 Axes>"
      ]
     },
     "metadata": {
      "needs_background": "light"
     },
     "output_type": "display_data"
    },
    {
     "data": {
      "image/png": "[encoded data removed]",
      "text/plain": [
       "<Figure size 900x300 with 2 Axes>"
      ]
     },
     "metadata": {
      "needs_background": "light"
     },
     "output_type": "display_data"
    },
    {
     "data": {
      "image/png": "[encoded data removed]",
      "text/plain": [
       "<Figure size 432x288 with 1 Axes>"
      ]
     },
     "metadata": {
      "needs_background": "light"
     },
     "output_type": "display_data"
    }
   ],
   "source": [
    "idx1, idx2 = list(dics[index]['wt'].keys())[np.argmax(reg_score).flatten()[0]]\n",
    "idx = dics[index]['index'][(idx1, idx2)]\n",
    "wt = models[index][idx].to('cpu')\n",
    "filt = get_1dfilts(wt)\n",
    "phi, psi, x = get_wavefun(wt)\n",
    "\n",
    "# print \n",
    "print('Hyperparameter: lamL1wave={:.6f} lamL1attr={:.6f}'.format(results[index]['lamL1wave'][idx], results[index]['lamL1attr'][idx]))\n",
    "print('Error: Recon={:.6f}'.format(results[index]['rec_loss'][idx]))\n",
    "print('Sparsity: Wave={:.6f}'.format(results[index]['L1wave_loss'][idx]))\n",
    "print('Interp: Saliency={:.6f} InputXGrade={:.6f}'.format(results[index]['L1saliency_loss'][idx], results[index]['L1inputxgrad_loss'][idx]))\n",
    "print('Wavelet loss: lSum={:.6f} hsum={:.6f} L2norm={:.6f} CMF={:.6f} Conv={:.6f}'.format(results[index]['lsum_loss'][idx],\n",
    "                                                                                          results[index]['hsum_loss'][idx],\n",
    "                                                                                          results[index]['L2norm_loss'][idx],\n",
    "                                                                                          results[index]['CMF_loss'][idx],\n",
    "                                                                                          results[index]['conv_loss'][idx]))\n",
    "\n",
    "\n",
    "plot_1dfilts(filt, is_title=True, figsize=(2,2))\n",
    "plot_wavefun((phi, psi, x), is_title=True, figsize=(3,1))\n",
    "\n",
    "plt.plot(np.log(res['train_losses'][dic['index'][(idx1, idx2)]]))\n",
    "plt.xlabel(\"epochs\")\n",
    "plt.ylabel(\"log train loss\")\n",
    "plt.title('Log-train loss vs epochs')\n",
    "plt.show()"
   ]
  },
  {
   "cell_type": "code",
   "execution_count": 47,
   "metadata": {},
   "outputs": [],
   "source": [
    "def r2_bootstrap(y, y_pred, m=10000):\n",
    "    \"\"\"Return bootstrap mean and std error.\"\"\"\n",
    "    np.random.seed(p.seed)\n",
    "    e = []\n",
    "    for j in range(m):\n",
    "        idx = np.arange(len(y))\n",
    "        sel = np.random.choice(idx, len(idx), replace=True)\n",
    "        e.append(metrics.r2_score(y[sel],y_pred[sel]))\n",
    "    return metrics.r2_score(y_test, preds), np.std(e)"
   ]
  },
  {
   "cell_type": "code",
   "execution_count": 51,
   "metadata": {},
   "outputs": [
    {
     "name": "stdout",
     "output_type": "stream",
     "text": [
      "AWD took 0.0004074573516845703 to run\n",
      "AWD Std: 0.026\n",
      "AWD took 0.00040030479431152344 to run\n",
      "DB5 Std: 0.028\n",
      "AWD took 0.06494569778442383 to run\n",
      "LSTM Std: 0.032\n",
      "\\begin{tabular}{lrrr}\n",
      "\\toprule\n",
      "{} &  Standard Wavelet (DB5) &  AWD (Ours) &   LSTM \\\\\n",
      "\\midrule\n",
      "Regression (R2 score) &                   0.197 &       0.263 &  0.237 \\\\\n",
      "\\bottomrule\n",
      "\\end{tabular}\n",
      "\n"
     ]
    }
   ],
   "source": [
    "model = load_pretrained_model(p.model_path, device=device)    \n",
    "\n",
    "r = {\n",
    "    'Standard Wavelet (DB5)': [],\n",
    "    'AWD (Ours)': [],    \n",
    "    'LSTM': [],\n",
    "}\n",
    "\n",
    "p.batch_size = 3000\n",
    "(train_loader, test_loader) = get_dataloader(p.data_path, \n",
    "                             batch_size=p.batch_size,\n",
    "                             is_continuous=True)   \n",
    "\n",
    "(X, y), (X_test, y_test) = max_transformer(wt, \n",
    "                                           train_loader, \n",
    "                                           test_loader,\n",
    "                                           sgn=sgn,\n",
    "                                           m=m)\n",
    "\n",
    "clf = LinearRegression().fit(X, y)\n",
    "start_time = time.time()\n",
    "preds = clf.predict(X_test)\n",
    "print(\"AWD took\", time.time() - start_time, \"to run\")\n",
    "acc, std = r2_bootstrap(y_test, preds)\n",
    "print('AWD Std:', std.round(3))\n",
    "r['AWD (Ours)'].append(acc)\n",
    "\n",
    "wt_o = DWT1d(wave='db5', mode='zero', J=4, init_factor=1, noise_factor=0.0)\n",
    "(X, y), (X_test, y_test) = max_transformer(wt_o, \n",
    "                                           train_loader, \n",
    "                                           test_loader,\n",
    "                                           sgn=sgn,\n",
    "                                           m=m)\n",
    "\n",
    "clf_o = LinearRegression().fit(X, y)\n",
    "start_time = time.time()\n",
    "preds = clf_o.predict(X_test)\n",
    "print(\"AWD took\", time.time() - start_time, \"to run\")\n",
    "acc, std = r2_bootstrap(y_test, preds)\n",
    "print('DB5 Std:', std.round(3))\n",
    "r['Standard Wavelet (DB5)'].append(acc)\n",
    "\n",
    "start_time = time.time()\n",
    "preds = []\n",
    "y_test = []\n",
    "for data, labels in test_loader:   \n",
    "    preds.append(model(data).detach().numpy())\n",
    "    y_test.append(labels.detach().numpy())\n",
    "preds = np.vstack(preds)\n",
    "y_test = np.vstack(y_test)\n",
    "print(\"AWD took\", time.time() - start_time, \"to run\")\n",
    "acc, std = r2_bootstrap(y_test, preds)\n",
    "print('LSTM Std:', std.round(3))\n",
    "r['LSTM'].append(acc)\n",
    "\n",
    "scores = pd.DataFrame.from_dict(r).round(3)\n",
    "scores.index = ['Regression (R2 score)']\n",
    "print(scores.to_latex())"
   ]
  },
  {
   "cell_type": "code",
   "execution_count": null,
   "metadata": {},
   "outputs": [],
   "source": []
  }
 ],
 "metadata": {
  "kernelspec": {
   "display_name": "Environment (conda_pytorch_p36)",
   "language": "python",
   "name": "conda_pytorch_p36"
  },
  "language_info": {
   "codemirror_mode": {
    "name": "ipython",
    "version": 3
   },
   "file_extension": ".py",
   "mimetype": "text/x-python",
   "name": "python",
   "nbconvert_exporter": "python",
   "pygments_lexer": "ipython3",
   "version": "3.6.10"
  }
 },
 "nbformat": 4,
 "nbformat_minor": 4
}
