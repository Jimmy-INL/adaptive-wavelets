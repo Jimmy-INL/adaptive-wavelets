{
 "cells": [
  {
   "cell_type": "code",
   "execution_count": 1,
   "metadata": {},
   "outputs": [],
   "source": [
    "%load_ext autoreload\n",
    "%autoreload 2\n",
    "%matplotlib inline\n",
    "import matplotlib.pyplot as plt\n",
    "import numpy as np\n",
    "import torch\n",
    "device = 'cuda' if torch.cuda.is_available() else 'cpu'\n",
    "import os,sys\n",
    "opj = os.path.join\n",
    "from copy import deepcopy\n",
    "from tqdm import tqdm\n",
    "import pickle as pkl\n",
    "import pandas as pd\n",
    "\n",
    "from ex_biology import p\n",
    "from dset import get_dataloader, load_pretrained_model\n",
    "\n",
    "# adaptive-wavelets modules\n",
    "from losses import get_loss_f\n",
    "from train import Trainer\n",
    "from evaluate import Validator\n",
    "from transform1d import DWT1d\n",
    "from utils import get_1dfilts, get_wavefun\n",
    "from wave_attributions import Attributer\n",
    "from visualize import cshow, plot_1dfilts, plot_1dreconstruct, plot_wavefun\n",
    "\n",
    "# evaluation\n",
    "from matplotlib import gridspec\n",
    "from sklearn.linear_model import LinearRegression, Ridge, RidgeCV, LogisticRegression\n",
    "from sklearn import metrics\n",
    "from sklearn.model_selection import cross_val_score\n",
    "from linear_models import ftr_transform, max_ftr_transform"
   ]
  },
  {
   "cell_type": "markdown",
   "metadata": {},
   "source": [
    "# load results"
   ]
  },
  {
   "cell_type": "code",
   "execution_count": 2,
   "metadata": {},
   "outputs": [],
   "source": [
    "wave = \"coif2\"\n",
    "dirs = [wave + \"_saliency_warmstart_seed=1\"]\n",
    "results = []\n",
    "models = []\n",
    "for i in range(len(dirs)):\n",
    "    # load results\n",
    "    out_dir = opj(\"/home/ubuntu/adaptive-wavelets/notebooks/biology/results\", dirs[i])\n",
    "    fnames = sorted(os.listdir(out_dir))\n",
    "    \n",
    "    results_list = []\n",
    "    models_list = []\n",
    "    for fname in fnames:\n",
    "        if fname[-3:] == 'pkl':\n",
    "            results_list.append(pkl.load(open(opj(out_dir, fname), 'rb')))\n",
    "        if fname[-3:] == 'pth':\n",
    "            wt = DWT1d(wave=wave, mode='zero', J=4, init_factor=1, noise_factor=0.0).to(device)\n",
    "            wt.load_state_dict(torch.load(opj(out_dir, fname)))\n",
    "            models_list.append(wt)\n",
    "    results.append(pd.DataFrame(results_list))\n",
    "    models.append(models_list)"
   ]
  },
  {
   "cell_type": "code",
   "execution_count": 3,
   "metadata": {},
   "outputs": [],
   "source": [
    "# define indexes\n",
    "res = results[0]\n",
    "mos = models[0]\n",
    "lamL1wave = np.array(res['lamL1wave'])\n",
    "lamL1attr = np.array(res['lamL1attr'])\n",
    "lamL1wave_grid = np.unique(lamL1wave)\n",
    "lamL1attr_grid = np.unique(lamL1attr)\n",
    "\n",
    "index2o = {}\n",
    "index2t = {}\n",
    "num = 0\n",
    "for i, _ in enumerate(lamL1wave_grid):\n",
    "    for j, _ in enumerate(lamL1attr_grid):\n",
    "        loc = (lamL1wave == lamL1wave_grid[i]) & (lamL1attr == lamL1attr_grid[j])\n",
    "        if loc.sum() == 1: \n",
    "            loc = np.argwhere(loc).flatten()[0]\n",
    "            index2o[(i,j)] = loc\n",
    "            index2t[num] = (i,j)\n",
    "        num += 1\n",
    "            \n",
    "R = len(lamL1wave_grid)\n",
    "C = len(lamL1attr_grid)\n",
    "psi_list = []\n",
    "wt_list = []\n",
    "for r in range(R):\n",
    "    for c in range(C):\n",
    "        wt = mos[index2o[(r,c)]]\n",
    "        wt_list.append(wt)\n",
    "        phi, psi, x = get_wavefun(wt)\n",
    "        psi_list.append(psi)            "
   ]
  },
  {
   "cell_type": "markdown",
   "metadata": {},
   "source": [
    "# calculate accuracy"
   ]
  },
  {
   "cell_type": "code",
   "execution_count": 4,
   "metadata": {},
   "outputs": [
    {
     "name": "stdout",
     "output_type": "stream",
     "text": [
      " 104"
     ]
    }
   ],
   "source": [
    "reg = []\n",
    "log = []\n",
    "for use_reg in [True, False]:\n",
    "    (train_loader, test_loader) = get_dataloader(p.data_path, \n",
    "                                                 batch_size=p.batch_size,\n",
    "                                                 is_continuous=use_reg)   \n",
    "    for i,wt in enumerate(wt_list):\n",
    "        wt = wt.to('cpu')\n",
    "        (X, y), (X_test, y_test) = ftr_transform(wt, train_loader, test_loader)\n",
    "        \n",
    "        if use_reg:\n",
    "            clf = LinearRegression()\n",
    "            scores = cross_val_score(clf, X, y, cv=5, scoring='r2')\n",
    "            reg.append(scores.mean())\n",
    "        else:\n",
    "            clf = LogisticRegression()\n",
    "            scores = cross_val_score(clf, X, y, cv=5, scoring='accuracy')\n",
    "            log.append(scores.mean())\n",
    "        print('\\r {}'.format(i), end='')\n",
    "reg = np.array(reg)\n",
    "log = np.array(log)"
   ]
  },
  {
   "cell_type": "markdown",
   "metadata": {},
   "source": [
    "wavelet with best regression performance"
   ]
  },
  {
   "cell_type": "code",
   "execution_count": 5,
   "metadata": {},
   "outputs": [
    {
     "name": "stdout",
     "output_type": "stream",
     "text": [
      "Hyperparameter: lamL1wave=0.005000 lamL1attr=1.623780\n",
      "Error: Recon=0.011537\n",
      "Sparsity: Wave=4.230216\n",
      "Interp: Saliency=0.366486 InputXGrade=0.285972\n",
      "Wavelet loss: lSum=0.000017 hsum=0.000645 L2norm=0.000002 CMF=0.000350 Conv=0.000013\n"
     ]
    },
    {
     "data": {
      "image/png": "[encoded data removed]",
      "text/plain": [
       "<Figure size 400x400 with 2 Axes>"
      ]
     },
     "metadata": {
      "needs_background": "light"
     },
     "output_type": "display_data"
    },
    {
     "data": {
      "image/png": "[encoded data removed]",
      "text/plain": [
       "<Figure size 900x300 with 2 Axes>"
      ]
     },
     "metadata": {
      "needs_background": "light"
     },
     "output_type": "display_data"
    }
   ],
   "source": [
    "idx1, idx2 = index2t[np.argmax(reg).flatten()[0]]\n",
    "wt = mos[index2o[(idx1, idx2)]]\n",
    "filt = get_1dfilts(wt)\n",
    "phi, psi, x = get_wavefun(wt)\n",
    "\n",
    "# print \n",
    "print('Hyperparameter: lamL1wave={:.6f} lamL1attr={:.6f}'.format(res['lamL1wave'][index2o[(idx1, idx2)]], res['lamL1attr'][index2o[(idx1, idx2)]]))\n",
    "print('Error: Recon={:.6f}'.format(res['rec_loss'][index2o[(idx1, idx2)]]))\n",
    "print('Sparsity: Wave={:.6f}'.format(res['L1wave_loss'][index2o[(idx1, idx2)]]))\n",
    "print('Interp: Saliency={:.6f} InputXGrade={:.6f}'.format(res['L1saliency_loss'][index2o[(idx1, idx2)]], res['L1inputxgrad_loss'][index2o[(idx1, idx2)]]))\n",
    "print('Wavelet loss: lSum={:.6f} hsum={:.6f} L2norm={:.6f} CMF={:.6f} Conv={:.6f}'.format(res['lsum_loss'][index2o[(idx1, idx2)]],\n",
    "                                                                                          res['hsum_loss'][index2o[(idx1, idx2)]],\n",
    "                                                                                          res['L2norm_loss'][index2o[(idx1, idx2)]],\n",
    "                                                                                          res['CMF_loss'][index2o[(idx1, idx2)]],\n",
    "                                                                                          res['conv_loss'][index2o[(idx1, idx2)]]))\n",
    "\n",
    "\n",
    "plot_1dfilts(filt, is_title=True, figsize=(2,2))\n",
    "plot_wavefun((phi, psi, x), is_title=True, figsize=(3,1))"
   ]
  },
  {
   "cell_type": "code",
   "execution_count": 6,
   "metadata": {},
   "outputs": [],
   "source": [
    "wt = mos[index2o[(idx1, idx2)]]\n",
    "wt_o = DWT1d(wave=res['wave'][0], mode='zero', J=res['J'][0], init_factor=1, noise_factor=0).to(device)\n",
    "model = load_pretrained_model(p.model_path, device=device)    \n",
    "\n",
    "r = {\n",
    "    'Standard Wavelet (Sym5)': [],\n",
    "    'AWD (Ours)': [],    \n",
    "    'LSTM': [],\n",
    "}\n",
    "\n",
    "for use_reg in [True]:\n",
    "    (train_loader, test_loader) = get_dataloader(p.data_path, \n",
    "                                 batch_size=p.batch_size,\n",
    "                                 is_continuous=use_reg)   \n",
    "\n",
    "\n",
    "    wt = wt.to('cpu')\n",
    "    (X, y), (X_test, y_test) = ftr_transform(wt, train_loader, test_loader)\n",
    "    \n",
    "    clf = LinearRegression().fit(X, y)\n",
    "    preds = clf.predict(X_test)\n",
    "    error = metrics.r2_score(y_test, preds)\n",
    "    r['AWD (Ours)'].append(error)\n",
    "\n",
    "    wt_o = wt_o.to('cpu')\n",
    "    (X, y), (X_test, y_test) = ftr_transform(wt_o, train_loader, test_loader)\n",
    "\n",
    "    clf_o = LinearRegression().fit(X, y)\n",
    "    preds = clf_o.predict(X_test)\n",
    "    error = metrics.r2_score(y_test, preds)\n",
    "    r['Standard Wavelet (Sym5)'].append(error)\n",
    "\n",
    "    preds = []\n",
    "    y_test = []\n",
    "    for data, labels in test_loader:   \n",
    "        preds.append(model(data).detach().numpy())\n",
    "        y_test.append(labels.detach().numpy())\n",
    "    preds = np.vstack(preds)\n",
    "    y_test = np.vstack(y_test)\n",
    "    error = metrics.r2_score(y_test, preds)\n",
    "    r['LSTM'].append(error)\n",
    "scores = pd.DataFrame.from_dict(r).round(3)\n",
    "scores.index = ['Regression (R2 score)']"
   ]
  },
  {
   "cell_type": "code",
   "execution_count": 7,
   "metadata": {},
   "outputs": [
    {
     "name": "stdout",
     "output_type": "stream",
     "text": [
      "\\begin{tabular}{lrrr}\n",
      "\\toprule\n",
      "{} &  Standard Wavelet (Sym5) &  AWD (Ours) &   LSTM \\\\\n",
      "\\midrule\n",
      "Regression (R2 score) &                    0.241 &       0.245 &  0.237 \\\\\n",
      "\\bottomrule\n",
      "\\end{tabular}\n",
      "\n"
     ]
    }
   ],
   "source": [
    "print(scores.to_latex())"
   ]
  },
  {
   "cell_type": "markdown",
   "metadata": {},
   "source": [
    "wavelet with best classification performance"
   ]
  },
  {
   "cell_type": "code",
   "execution_count": 8,
   "metadata": {},
   "outputs": [
    {
     "name": "stdout",
     "output_type": "stream",
     "text": [
      "Hyperparameter: lamL1wave=0.001880 lamL1attr=1.623780\n",
      "Error: Recon=0.002620\n",
      "Sparsity: Wave=4.268682\n",
      "Interp: Saliency=0.365387 InputXGrade=0.282697\n",
      "Wavelet loss: lSum=0.000001 hsum=0.000319 L2norm=0.000005 CMF=0.000154 Conv=0.000007\n"
     ]
    },
    {
     "data": {
      "image/png": "[encoded data removed]",
      "text/plain": [
       "<Figure size 400x400 with 2 Axes>"
      ]
     },
     "metadata": {
      "needs_background": "light"
     },
     "output_type": "display_data"
    },
    {
     "data": {
      "image/png": "[encoded data removed]",
      "text/plain": [
       "<Figure size 900x300 with 2 Axes>"
      ]
     },
     "metadata": {
      "needs_background": "light"
     },
     "output_type": "display_data"
    }
   ],
   "source": [
    "idx1, idx2 = index2t[np.argmax(log).flatten()[0]]\n",
    "wt = mos[index2o[(idx1, idx2)]]\n",
    "filt = get_1dfilts(wt)\n",
    "phi, psi, x = get_wavefun(wt)\n",
    "\n",
    "# print \n",
    "print('Hyperparameter: lamL1wave={:.6f} lamL1attr={:.6f}'.format(res['lamL1wave'][index2o[(idx1, idx2)]], res['lamL1attr'][index2o[(idx1, idx2)]]))\n",
    "print('Error: Recon={:.6f}'.format(res['rec_loss'][index2o[(idx1, idx2)]]))\n",
    "print('Sparsity: Wave={:.6f}'.format(res['L1wave_loss'][index2o[(idx1, idx2)]]))\n",
    "print('Interp: Saliency={:.6f} InputXGrade={:.6f}'.format(res['L1saliency_loss'][index2o[(idx1, idx2)]], res['L1inputxgrad_loss'][index2o[(idx1, idx2)]]))\n",
    "print('Wavelet loss: lSum={:.6f} hsum={:.6f} L2norm={:.6f} CMF={:.6f} Conv={:.6f}'.format(res['lsum_loss'][index2o[(idx1, idx2)]],\n",
    "                                                                                          res['hsum_loss'][index2o[(idx1, idx2)]],\n",
    "                                                                                          res['L2norm_loss'][index2o[(idx1, idx2)]],\n",
    "                                                                                          res['CMF_loss'][index2o[(idx1, idx2)]],\n",
    "                                                                                          res['conv_loss'][index2o[(idx1, idx2)]]))\n",
    "\n",
    "\n",
    "plot_1dfilts(filt, is_title=True, figsize=(2,2))\n",
    "plot_wavefun((phi, psi, x), is_title=True, figsize=(3,1))"
   ]
  },
  {
   "cell_type": "code",
   "execution_count": 9,
   "metadata": {},
   "outputs": [],
   "source": [
    "wt = mos[index2o[(idx1, idx2)]]\n",
    "wt_o = DWT1d(wave=res['wave'][0], mode='zero', J=res['J'][0], init_factor=1, noise_factor=0).to(device)\n",
    "model = load_pretrained_model(p.model_path, device=device)    \n",
    "\n",
    "r = {\n",
    "    'Standard Wavelet (Sym5)': [],\n",
    "    'AWD (Ours)': [],    \n",
    "    'LSTM': [],\n",
    "}\n",
    "\n",
    "for use_reg in [False]:\n",
    "    (train_loader, test_loader) = get_dataloader(p.data_path, \n",
    "                                 batch_size=p.batch_size,\n",
    "                                 is_continuous=use_reg)   \n",
    "\n",
    "\n",
    "    wt = wt.to('cpu')\n",
    "    (X, y), (X_test, y_test) = ftr_transform(wt, train_loader, test_loader)\n",
    "\n",
    "    clf = LogisticRegression().fit(X, y)\n",
    "    preds = clf.predict(X_test)\n",
    "    preds = 1 * (preds > 0)\n",
    "    error = metrics.accuracy_score(y_test, preds)\n",
    "    r['AWD (Ours)'].append(error)\n",
    "\n",
    "    wt_o = wt_o.to('cpu')\n",
    "    (X, y), (X_test, y_test) = ftr_transform(wt_o, train_loader, test_loader)\n",
    "    clf_o = LogisticRegression().fit(X, y)\n",
    "    preds = clf_o.predict(X_test)\n",
    "    preds = 1 * (preds > 0)\n",
    "    error = metrics.accuracy_score(y_test, preds)\n",
    "    r['Standard Wavelet (Sym5)'].append(error)\n",
    "\n",
    "    preds = []\n",
    "    y_test = []\n",
    "    for data, labels in test_loader:   \n",
    "        preds.append(model(data).detach().numpy())\n",
    "        y_test.append(labels.detach().numpy())\n",
    "    preds = np.vstack(preds)\n",
    "    y_test = np.vstack(y_test)\n",
    "    preds = 1 * (preds > 0)\n",
    "    error = metrics.accuracy_score(y_test, preds)\n",
    "    r['LSTM'].append(error)\n",
    "scores = pd.DataFrame.from_dict(r).round(3)\n",
    "scores.index = ['Classification accuracy']"
   ]
  },
  {
   "cell_type": "code",
   "execution_count": 10,
   "metadata": {},
   "outputs": [
    {
     "name": "stdout",
     "output_type": "stream",
     "text": [
      "\\begin{tabular}{lrrr}\n",
      "\\toprule\n",
      "{} &  Standard Wavelet (Sym5) &  AWD (Ours) &   LSTM \\\\\n",
      "\\midrule\n",
      "Classification accuracy &                    0.694 &         0.7 &  0.709 \\\\\n",
      "\\bottomrule\n",
      "\\end{tabular}\n",
      "\n"
     ]
    }
   ],
   "source": [
    "print(scores.to_latex())"
   ]
  },
  {
   "cell_type": "code",
   "execution_count": null,
   "metadata": {},
   "outputs": [],
   "source": []
  }
 ],
 "metadata": {
  "kernelspec": {
   "display_name": "Environment (conda_pytorch_p36)",
   "language": "python",
   "name": "conda_pytorch_p36"
  },
  "language_info": {
   "codemirror_mode": {
    "name": "ipython",
    "version": 3
   },
   "file_extension": ".py",
   "mimetype": "text/x-python",
   "name": "python",
   "nbconvert_exporter": "python",
   "pygments_lexer": "ipython3",
   "version": "3.6.10"
  }
 },
 "nbformat": 4,
 "nbformat_minor": 4
}
