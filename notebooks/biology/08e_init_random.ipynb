{
 "cells": [
  {
   "cell_type": "code",
   "execution_count": 2,
   "metadata": {},
   "outputs": [
    {
     "name": "stdout",
     "output_type": "stream",
     "text": [
      "The autoreload extension is already loaded. To reload it, use:\n",
      "  %reload_ext autoreload\n"
     ]
    }
   ],
   "source": [
    "%load_ext autoreload\n",
    "%autoreload 2\n",
    "%matplotlib inline\n",
    "import os\n",
    "import random\n",
    "\n",
    "import numpy as np\n",
    "import torch\n",
    "import matplotlib.pyplot as plt\n",
    "opj = os.path.join\n",
    "import pickle as pkl\n",
    "\n",
    "from ex_biology import p\n",
    "\n",
    "device = 'cuda:0' if torch.cuda.is_available() else 'cpu'\n",
    "\n",
    "# adaptive-wavelets modules\n",
    "from awd import awd\n",
    "from awd.mdata.biology import get_dataloader, load_pretrained_model\n",
    "from awd.awd.utils import get_wavefun, get_1dfilts\n",
    "from awd.awd.visualize import plot_1dfilts, plot_wavefun"
   ]
  },
  {
   "cell_type": "markdown",
   "metadata": {},
   "source": [
    "# init fit"
   ]
  },
  {
   "cell_type": "code",
   "execution_count": 15,
   "metadata": {},
   "outputs": [],
   "source": [
    "p.wave = 'db5'\n",
    "p.J = 4\n",
    "p.mode = 'zero'\n",
    "p.init_factor = 0\n",
    "p.noise_factor = 0.2\n",
    "p.const_factor = 0\n",
    "p.num_epochs = 150\n",
    "p.attr_methods = 'Saliency'\n",
    "\n",
    "lamWaveloss = 1\n",
    "p.lamlSum = lamWaveloss\n",
    "p.lamhSum = lamWaveloss\n",
    "p.lamL2sum = lamWaveloss\n",
    "p.lamCMF = lamWaveloss\n",
    "p.lamConv = lamWaveloss\n",
    "p.lamL1wave = 0.001\n",
    "p.lamL1attr = 0.0\n",
    "p.target = 0"
   ]
  },
  {
   "cell_type": "code",
   "execution_count": 16,
   "metadata": {},
   "outputs": [],
   "source": [
    "# load data and model\n",
    "train_loader, test_loader = get_dataloader(p.data_path,\n",
    "                                           batch_size=p.batch_size,\n",
    "                                           is_continuous=p.is_continuous)\n",
    "\n",
    "model = load_pretrained_model(p.model_path, device=device)\n",
    "\n",
    "# prepare model\n",
    "random.seed(p.seed)\n",
    "np.random.seed(p.seed)\n",
    "torch.manual_seed(p.seed)\n",
    "\n",
    "wt = awd.DWT1d(wave=p.wave, mode=p.mode, J=p.J,\n",
    "               init_factor=p.init_factor,\n",
    "               noise_factor=p.noise_factor,\n",
    "               const_factor=p.const_factor).to(device)\n",
    "wt.train()\n",
    "\n",
    "# train\n",
    "params = list(wt.parameters())\n",
    "optimizer = torch.optim.Adam(params, lr=p.lr)\n",
    "loss_f = awd.get_loss_f(lamlSum=p.lamlSum, lamhSum=p.lamhSum, lamL2norm=p.lamL2norm, lamCMF=p.lamCMF,\n",
    "                        lamConv=p.lamConv, lamL1wave=p.lamL1wave, lamL1attr=p.lamL1attr)\n",
    "trainer = awd.Trainer(model, wt, optimizer, loss_f, target=p.target,\n",
    "                      use_residuals=True, attr_methods=p.attr_methods, device=device, n_print=5)"
   ]
  },
  {
   "cell_type": "code",
   "execution_count": 17,
   "metadata": {},
   "outputs": [
    {
     "name": "stdout",
     "output_type": "stream",
     "text": [
      "Starting Training Loop...\n",
      "Train Epoch: 0 [1044/2936 (97%)]\tLoss: 20.159212\n",
      "====> Epoch: 0 Average train loss: 31.5690\n",
      "Train Epoch: 5 [1044/2936 (97%)]\tLoss: 11.182174\n",
      "====> Epoch: 5 Average train loss: 11.3431\n",
      "Train Epoch: 10 [1044/2936 (97%)]\tLoss: 8.172183\n",
      "====> Epoch: 10 Average train loss: 8.1042\n",
      "Train Epoch: 15 [1044/2936 (97%)]\tLoss: 5.583887\n",
      "====> Epoch: 15 Average train loss: 5.8388\n",
      "Train Epoch: 20 [1044/2936 (97%)]\tLoss: 4.465847\n",
      "====> Epoch: 20 Average train loss: 4.3463\n",
      "Train Epoch: 25 [1044/2936 (97%)]\tLoss: 2.591178\n",
      "====> Epoch: 25 Average train loss: 2.8256\n",
      "Train Epoch: 30 [1044/2936 (97%)]\tLoss: 1.216894\n",
      "====> Epoch: 30 Average train loss: 1.3627\n",
      "Train Epoch: 35 [1044/2936 (97%)]\tLoss: 0.667913\n",
      "====> Epoch: 35 Average train loss: 0.7034\n",
      "Train Epoch: 40 [1044/2936 (97%)]\tLoss: 0.446053\n",
      "====> Epoch: 40 Average train loss: 0.4623\n",
      "Train Epoch: 45 [1044/2936 (97%)]\tLoss: 0.301973\n",
      "====> Epoch: 45 Average train loss: 0.3147\n",
      "Train Epoch: 50 [1044/2936 (97%)]\tLoss: 0.199507\n",
      "====> Epoch: 50 Average train loss: 0.2088\n",
      "Train Epoch: 55 [1044/2936 (97%)]\tLoss: 0.127589\n",
      "====> Epoch: 55 Average train loss: 0.1336\n",
      "Train Epoch: 60 [1044/2936 (97%)]\tLoss: 0.077771\n",
      "====> Epoch: 60 Average train loss: 0.0821\n",
      "Train Epoch: 65 [1044/2936 (97%)]\tLoss: 0.046498\n",
      "====> Epoch: 65 Average train loss: 0.0489\n",
      "Train Epoch: 70 [1044/2936 (97%)]\tLoss: 0.027766\n",
      "====> Epoch: 70 Average train loss: 0.0289\n",
      "Train Epoch: 75 [1044/2936 (97%)]\tLoss: 0.017277\n",
      "====> Epoch: 75 Average train loss: 0.0176\n",
      "Train Epoch: 80 [1044/2936 (97%)]\tLoss: 0.011309\n",
      "====> Epoch: 80 Average train loss: 0.0116\n",
      "Train Epoch: 85 [1044/2936 (97%)]\tLoss: 0.008240\n",
      "====> Epoch: 85 Average train loss: 0.0087\n",
      "Train Epoch: 90 [1044/2936 (97%)]\tLoss: 0.007277\n",
      "====> Epoch: 90 Average train loss: 0.0074\n",
      "Train Epoch: 95 [1044/2936 (97%)]\tLoss: 0.006646\n",
      "====> Epoch: 95 Average train loss: 0.0069\n",
      "Train Epoch: 100 [1044/2936 (97%)]\tLoss: 0.007419\n",
      "====> Epoch: 100 Average train loss: 0.0067\n",
      "Train Epoch: 105 [1044/2936 (97%)]\tLoss: 0.006385\n",
      "====> Epoch: 105 Average train loss: 0.0066\n",
      "Train Epoch: 110 [1044/2936 (97%)]\tLoss: 0.006800\n",
      "====> Epoch: 110 Average train loss: 0.0066\n",
      "Train Epoch: 115 [1044/2936 (97%)]\tLoss: 0.006856\n",
      "====> Epoch: 115 Average train loss: 0.0065\n",
      "Train Epoch: 120 [1044/2936 (97%)]\tLoss: 0.006426\n",
      "====> Epoch: 120 Average train loss: 0.0065\n",
      "Train Epoch: 125 [1044/2936 (97%)]\tLoss: 0.006755\n",
      "====> Epoch: 125 Average train loss: 0.0065\n",
      "Train Epoch: 130 [1044/2936 (97%)]\tLoss: 0.007053\n",
      "====> Epoch: 130 Average train loss: 0.0065\n"
     ]
    },
    {
     "ename": "KeyboardInterrupt",
     "evalue": "",
     "output_type": "error",
     "traceback": [
      "\u001b[0;31m---------------------------------------------------------------------------\u001b[0m",
      "\u001b[0;31mKeyboardInterrupt\u001b[0m                         Traceback (most recent call last)",
      "\u001b[0;32m<ipython-input-17-9ce98863dcd7>\u001b[0m in \u001b[0;36m<module>\u001b[0;34m\u001b[0m\n\u001b[1;32m      1\u001b[0m \u001b[0;31m# run\u001b[0m\u001b[0;34m\u001b[0m\u001b[0;34m\u001b[0m\u001b[0;34m\u001b[0m\u001b[0m\n\u001b[0;32m----> 2\u001b[0;31m \u001b[0mtrainer\u001b[0m\u001b[0;34m(\u001b[0m\u001b[0mtrain_loader\u001b[0m\u001b[0;34m,\u001b[0m \u001b[0mepochs\u001b[0m\u001b[0;34m=\u001b[0m\u001b[0mp\u001b[0m\u001b[0;34m.\u001b[0m\u001b[0mnum_epochs\u001b[0m\u001b[0;34m)\u001b[0m\u001b[0;34m\u001b[0m\u001b[0;34m\u001b[0m\u001b[0m\n\u001b[0m",
      "\u001b[0;32m~/adaptive-wavelets/awd/awd/train.py\u001b[0m in \u001b[0;36m__call__\u001b[0;34m(self, train_loader, test_loader, epochs)\u001b[0m\n\u001b[1;32m     82\u001b[0m \u001b[0;34m\u001b[0m\u001b[0m\n\u001b[1;32m     83\u001b[0m             \u001b[0;32melse\u001b[0m\u001b[0;34m:\u001b[0m\u001b[0;34m\u001b[0m\u001b[0;34m\u001b[0m\u001b[0m\n\u001b[0;32m---> 84\u001b[0;31m                 \u001b[0mmean_epoch_loss\u001b[0m \u001b[0;34m=\u001b[0m \u001b[0mself\u001b[0m\u001b[0;34m.\u001b[0m\u001b[0m_train_epoch\u001b[0m\u001b[0;34m(\u001b[0m\u001b[0mtrain_loader\u001b[0m\u001b[0;34m,\u001b[0m \u001b[0mepoch\u001b[0m\u001b[0;34m)\u001b[0m\u001b[0;34m\u001b[0m\u001b[0;34m\u001b[0m\u001b[0m\n\u001b[0m\u001b[1;32m     85\u001b[0m                 \u001b[0;32mif\u001b[0m \u001b[0mepoch\u001b[0m \u001b[0;34m%\u001b[0m \u001b[0mself\u001b[0m\u001b[0;34m.\u001b[0m\u001b[0mn_print\u001b[0m \u001b[0;34m==\u001b[0m \u001b[0;36m0\u001b[0m\u001b[0;34m:\u001b[0m\u001b[0;34m\u001b[0m\u001b[0;34m\u001b[0m\u001b[0m\n\u001b[1;32m     86\u001b[0m                     \u001b[0mprint\u001b[0m\u001b[0;34m(\u001b[0m\u001b[0;34m'\\n====> Epoch: {} Average train loss: {:.4f}'\u001b[0m\u001b[0;34m.\u001b[0m\u001b[0mformat\u001b[0m\u001b[0;34m(\u001b[0m\u001b[0mepoch\u001b[0m\u001b[0;34m,\u001b[0m \u001b[0mmean_epoch_loss\u001b[0m\u001b[0;34m)\u001b[0m\u001b[0;34m)\u001b[0m\u001b[0;34m\u001b[0m\u001b[0;34m\u001b[0m\u001b[0m\n",
      "\u001b[0;32m~/adaptive-wavelets/awd/awd/train.py\u001b[0m in \u001b[0;36m_train_epoch\u001b[0;34m(self, data_loader, epoch)\u001b[0m\n\u001b[1;32m    108\u001b[0m         \u001b[0mepoch_loss\u001b[0m \u001b[0;34m=\u001b[0m \u001b[0;36m0.\u001b[0m\u001b[0;34m\u001b[0m\u001b[0;34m\u001b[0m\u001b[0m\n\u001b[1;32m    109\u001b[0m         \u001b[0;32mfor\u001b[0m \u001b[0mbatch_idx\u001b[0m\u001b[0;34m,\u001b[0m \u001b[0;34m(\u001b[0m\u001b[0mdata\u001b[0m\u001b[0;34m,\u001b[0m \u001b[0m_\u001b[0m\u001b[0;34m)\u001b[0m \u001b[0;32min\u001b[0m \u001b[0menumerate\u001b[0m\u001b[0;34m(\u001b[0m\u001b[0mdata_loader\u001b[0m\u001b[0;34m)\u001b[0m\u001b[0;34m:\u001b[0m\u001b[0;34m\u001b[0m\u001b[0;34m\u001b[0m\u001b[0m\n\u001b[0;32m--> 110\u001b[0;31m             \u001b[0miter_loss\u001b[0m \u001b[0;34m=\u001b[0m \u001b[0mself\u001b[0m\u001b[0;34m.\u001b[0m\u001b[0m_train_iteration\u001b[0m\u001b[0;34m(\u001b[0m\u001b[0mdata\u001b[0m\u001b[0;34m)\u001b[0m\u001b[0;34m\u001b[0m\u001b[0;34m\u001b[0m\u001b[0m\n\u001b[0m\u001b[1;32m    111\u001b[0m             \u001b[0mepoch_loss\u001b[0m \u001b[0;34m+=\u001b[0m \u001b[0miter_loss\u001b[0m\u001b[0;34m\u001b[0m\u001b[0;34m\u001b[0m\u001b[0m\n\u001b[1;32m    112\u001b[0m             \u001b[0;32mif\u001b[0m \u001b[0mepoch\u001b[0m \u001b[0;34m%\u001b[0m \u001b[0mself\u001b[0m\u001b[0;34m.\u001b[0m\u001b[0mn_print\u001b[0m \u001b[0;34m==\u001b[0m \u001b[0;36m0\u001b[0m\u001b[0;34m:\u001b[0m\u001b[0;34m\u001b[0m\u001b[0;34m\u001b[0m\u001b[0m\n",
      "\u001b[0;32m~/adaptive-wavelets/awd/awd/train.py\u001b[0m in \u001b[0;36m_train_iteration\u001b[0;34m(self, data)\u001b[0m\n\u001b[1;32m    156\u001b[0m \u001b[0;34m\u001b[0m\u001b[0m\n\u001b[1;32m    157\u001b[0m         \u001b[0;31m# backward\u001b[0m\u001b[0;34m\u001b[0m\u001b[0;34m\u001b[0m\u001b[0;34m\u001b[0m\u001b[0m\n\u001b[0;32m--> 158\u001b[0;31m         \u001b[0mloss\u001b[0m\u001b[0;34m.\u001b[0m\u001b[0mbackward\u001b[0m\u001b[0;34m(\u001b[0m\u001b[0;34m)\u001b[0m\u001b[0;34m\u001b[0m\u001b[0;34m\u001b[0m\u001b[0m\n\u001b[0m\u001b[1;32m    159\u001b[0m \u001b[0;34m\u001b[0m\u001b[0m\n\u001b[1;32m    160\u001b[0m         \u001b[0;31m# update step\u001b[0m\u001b[0;34m\u001b[0m\u001b[0;34m\u001b[0m\u001b[0;34m\u001b[0m\u001b[0m\n",
      "\u001b[0;32m~/anaconda3/envs/pytorch_p36/lib/python3.6/site-packages/torch/tensor.py\u001b[0m in \u001b[0;36mbackward\u001b[0;34m(self, gradient, retain_graph, create_graph)\u001b[0m\n\u001b[1;32m    193\u001b[0m                 \u001b[0mproducts\u001b[0m\u001b[0;34m.\u001b[0m \u001b[0mDefaults\u001b[0m \u001b[0mto\u001b[0m\u001b[0;31m \u001b[0m\u001b[0;31m`\u001b[0m\u001b[0;31m`\u001b[0m\u001b[0;32mFalse\u001b[0m\u001b[0;31m`\u001b[0m\u001b[0;31m`\u001b[0m\u001b[0;34m.\u001b[0m\u001b[0;34m\u001b[0m\u001b[0;34m\u001b[0m\u001b[0m\n\u001b[1;32m    194\u001b[0m         \"\"\"\n\u001b[0;32m--> 195\u001b[0;31m         \u001b[0mtorch\u001b[0m\u001b[0;34m.\u001b[0m\u001b[0mautograd\u001b[0m\u001b[0;34m.\u001b[0m\u001b[0mbackward\u001b[0m\u001b[0;34m(\u001b[0m\u001b[0mself\u001b[0m\u001b[0;34m,\u001b[0m \u001b[0mgradient\u001b[0m\u001b[0;34m,\u001b[0m \u001b[0mretain_graph\u001b[0m\u001b[0;34m,\u001b[0m \u001b[0mcreate_graph\u001b[0m\u001b[0;34m)\u001b[0m\u001b[0;34m\u001b[0m\u001b[0;34m\u001b[0m\u001b[0m\n\u001b[0m\u001b[1;32m    196\u001b[0m \u001b[0;34m\u001b[0m\u001b[0m\n\u001b[1;32m    197\u001b[0m     \u001b[0;32mdef\u001b[0m \u001b[0mregister_hook\u001b[0m\u001b[0;34m(\u001b[0m\u001b[0mself\u001b[0m\u001b[0;34m,\u001b[0m \u001b[0mhook\u001b[0m\u001b[0;34m)\u001b[0m\u001b[0;34m:\u001b[0m\u001b[0;34m\u001b[0m\u001b[0;34m\u001b[0m\u001b[0m\n",
      "\u001b[0;32m~/anaconda3/envs/pytorch_p36/lib/python3.6/site-packages/torch/autograd/__init__.py\u001b[0m in \u001b[0;36mbackward\u001b[0;34m(tensors, grad_tensors, retain_graph, create_graph, grad_variables)\u001b[0m\n\u001b[1;32m     97\u001b[0m     Variable._execution_engine.run_backward(\n\u001b[1;32m     98\u001b[0m         \u001b[0mtensors\u001b[0m\u001b[0;34m,\u001b[0m \u001b[0mgrad_tensors\u001b[0m\u001b[0;34m,\u001b[0m \u001b[0mretain_graph\u001b[0m\u001b[0;34m,\u001b[0m \u001b[0mcreate_graph\u001b[0m\u001b[0;34m,\u001b[0m\u001b[0;34m\u001b[0m\u001b[0;34m\u001b[0m\u001b[0m\n\u001b[0;32m---> 99\u001b[0;31m         allow_unreachable=True)  # allow_unreachable flag\n\u001b[0m\u001b[1;32m    100\u001b[0m \u001b[0;34m\u001b[0m\u001b[0m\n\u001b[1;32m    101\u001b[0m \u001b[0;34m\u001b[0m\u001b[0m\n",
      "\u001b[0;31mKeyboardInterrupt\u001b[0m: "
     ]
    }
   ],
   "source": [
    "# run\n",
    "trainer(train_loader, epochs=p.num_epochs)"
   ]
  },
  {
   "cell_type": "code",
   "execution_count": 18,
   "metadata": {},
   "outputs": [
    {
     "data": {
      "image/png": "[encoded data removed]",
      "text/plain": [
       "<Figure size 432x288 with 1 Axes>"
      ]
     },
     "metadata": {
      "needs_background": "light"
     },
     "output_type": "display_data"
    }
   ],
   "source": [
    "plt.plot(np.log(trainer.train_losses))\n",
    "plt.xlabel(\"epochs\")\n",
    "plt.ylabel(\"log train loss\")\n",
    "plt.title('Log-train loss vs epochs')\n",
    "plt.show()"
   ]
  },
  {
   "cell_type": "code",
   "execution_count": 19,
   "metadata": {},
   "outputs": [
    {
     "name": "stdout",
     "output_type": "stream",
     "text": [
      "calculating losses and metric...\n",
      "Recon=0.00000\n",
      " lsum=0.00000\n",
      " hsum=0.00000\n",
      " L2norm=0.00000\n",
      " CMF=0.00000\n",
      " conv=0.00000\n",
      " L1wave=6.47096\n",
      " Saliency=0.55682\n",
      " Inputxgrad=0.35155\n",
      "\n"
     ]
    }
   ],
   "source": [
    "print('calculating losses and metric...')\n",
    "model.train()  # cudnn RNN backward can only be called in training mode\n",
    "validator = awd.Validator(model, test_loader)\n",
    "rec_loss, lsum_loss, hsum_loss, L2norm_loss, CMF_loss, conv_loss, L1wave_loss, L1saliency_loss, L1inputxgrad_loss = validator(\n",
    "    wt, target=p.target)\n",
    "print(\"Recon={:.5f}\\n lsum={:.5f}\\n hsum={:.5f}\\n L2norm={:.5f}\\n CMF={:.5f}\\n conv={:.5f}\\n L1wave={:.5f}\\n Saliency={:.5f}\\n Inputxgrad={:.5f}\\n\".format(rec_loss,\n",
    "                                      lsum_loss,\n",
    "                                      hsum_loss,\n",
    "                                      L2norm_loss,\n",
    "                                      CMF_loss,\n",
    "                                      conv_loss,\n",
    "                                      L1wave_loss,\n",
    "                                      L1saliency_loss,\n",
    "                                      L1inputxgrad_loss))\n"
   ]
  },
  {
   "cell_type": "code",
   "execution_count": 20,
   "metadata": {},
   "outputs": [
    {
     "data": {
      "image/png": "[encoded data removed]",
      "text/plain": [
       "<Figure size 400x400 with 2 Axes>"
      ]
     },
     "metadata": {
      "needs_background": "light"
     },
     "output_type": "display_data"
    },
    {
     "data": {
      "image/png": "[encoded data removed]",
      "text/plain": [
       "<Figure size 600x300 with 2 Axes>"
      ]
     },
     "metadata": {
      "needs_background": "light"
     },
     "output_type": "display_data"
    }
   ],
   "source": [
    "filt = get_1dfilts(wt)\n",
    "phi, psi, x = get_wavefun(wt)\n",
    "\n",
    "plot_1dfilts(filt, is_title=True, figsize=(2,2))\n",
    "plot_wavefun((phi, psi, x), is_title=True, figsize=(2,1))"
   ]
  },
  {
   "cell_type": "markdown",
   "metadata": {},
   "source": [
    "# later fit"
   ]
  },
  {
   "cell_type": "code",
   "execution_count": null,
   "metadata": {},
   "outputs": [],
   "source": [
    "p.lamL1wave = 0.0001\n",
    "p.lamL1attr = 0.1\n",
    "p.num_epochs = 500"
   ]
  },
  {
   "cell_type": "code",
   "execution_count": null,
   "metadata": {},
   "outputs": [],
   "source": [
    "# train\n",
    "params = list(wt.parameters())\n",
    "optimizer = torch.optim.Adam(params, lr=p.lr)\n",
    "loss_f = awd.get_loss_f(lamlSum=p.lamlSum, lamhSum=p.lamhSum, lamL2norm=p.lamL2norm, lamCMF=p.lamCMF,\n",
    "                        lamConv=p.lamConv, lamL1wave=p.lamL1wave, lamL1attr=p.lamL1attr)\n",
    "trainer = awd.Trainer(model, wt, optimizer, loss_f, target=p.target,\n",
    "                      use_residuals=True, attr_methods=p.attr_methods, device=device, n_print=5)"
   ]
  },
  {
   "cell_type": "code",
   "execution_count": null,
   "metadata": {},
   "outputs": [],
   "source": [
    "# run\n",
    "trainer(train_loader, epochs=p.num_epochs)"
   ]
  },
  {
   "cell_type": "code",
   "execution_count": null,
   "metadata": {},
   "outputs": [],
   "source": [
    "plt.plot(np.log(trainer.train_losses))\n",
    "plt.xlabel(\"epochs\")\n",
    "plt.ylabel(\"log train loss\")\n",
    "plt.title('Log-train loss vs epochs')\n",
    "plt.show()"
   ]
  },
  {
   "cell_type": "code",
   "execution_count": null,
   "metadata": {},
   "outputs": [],
   "source": [
    "print('calculating losses and metric...')\n",
    "model.train()  # cudnn RNN backward can only be called in training mode\n",
    "validator = awd.Validator(model, test_loader)\n",
    "rec_loss, lsum_loss, hsum_loss, L2norm_loss, CMF_loss, conv_loss, L1wave_loss, L1saliency_loss, L1inputxgrad_loss = validator(\n",
    "    wt, target=p.target)\n",
    "print(\"Recon={:.5f}\\n lsum={:.5f}\\n hsum={:.5f}\\n L2norm={:.5f}\\n CMF={:.5f}\\n conv={:.5f}\\n L1wave={:.5f}\\n Saliency={:.5f}\\n Inputxgrad={:.5f}\\n\".format(rec_loss,\n",
    "                                      lsum_loss,\n",
    "                                      hsum_loss,\n",
    "                                      L2norm_loss,\n",
    "                                      CMF_loss,\n",
    "                                      conv_loss,\n",
    "                                      L1wave_loss,\n",
    "                                      L1saliency_loss,\n",
    "                                      L1inputxgrad_loss))\n"
   ]
  },
  {
   "cell_type": "code",
   "execution_count": null,
   "metadata": {},
   "outputs": [],
   "source": [
    "filt = get_1dfilts(wt)\n",
    "phi, psi, x = get_wavefun(wt)\n",
    "\n",
    "plot_1dfilts(filt, is_title=True, figsize=(2,2))\n",
    "plot_wavefun((phi, psi, x), is_title=True, figsize=(2,1))"
   ]
  },
  {
   "cell_type": "code",
   "execution_count": null,
   "metadata": {},
   "outputs": [],
   "source": []
  },
  {
   "cell_type": "code",
   "execution_count": null,
   "metadata": {},
   "outputs": [],
   "source": []
  }
 ],
 "metadata": {
  "kernelspec": {
   "display_name": "Environment (conda_pytorch_p36)",
   "language": "python",
   "name": "conda_pytorch_p36"
  },
  "language_info": {
   "codemirror_mode": {
    "name": "ipython",
    "version": 3
   },
   "file_extension": ".py",
   "mimetype": "text/x-python",
   "name": "python",
   "nbconvert_exporter": "python",
   "pygments_lexer": "ipython3",
   "version": "3.6.10"
  }
 },
 "nbformat": 4,
 "nbformat_minor": 4
}
