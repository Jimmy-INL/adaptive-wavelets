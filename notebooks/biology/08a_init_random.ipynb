{
 "cells": [
  {
   "cell_type": "code",
   "execution_count": 64,
   "metadata": {},
   "outputs": [
    {
     "name": "stdout",
     "output_type": "stream",
     "text": [
      "The autoreload extension is already loaded. To reload it, use:\n",
      "  %reload_ext autoreload\n"
     ]
    }
   ],
   "source": [
    "%load_ext autoreload\n",
    "%autoreload 2\n",
    "%matplotlib inline\n",
    "import os\n",
    "import random\n",
    "\n",
    "import numpy as np\n",
    "import torch\n",
    "import matplotlib.pyplot as plt\n",
    "opj = os.path.join\n",
    "import pickle as pkl\n",
    "\n",
    "from ex_biology import p\n",
    "\n",
    "device = 'cuda:0' if torch.cuda.is_available() else 'cpu'\n",
    "\n",
    "# adaptive-wavelets modules\n",
    "from awd import awd\n",
    "from awd.mdata.biology import get_dataloader, load_pretrained_model\n",
    "from awd.awd.utils import get_wavefun, get_1dfilts\n",
    "from awd.awd.visualize import plot_1dfilts, plot_wavefun"
   ]
  },
  {
   "cell_type": "code",
   "execution_count": 65,
   "metadata": {},
   "outputs": [],
   "source": [
    "p.wave = 'db5'\n",
    "p.J = 4\n",
    "p.mode = 'zero'\n",
    "p.init_factor = 0\n",
    "p.noise_factor = 0.5\n",
    "p.const_factor = 0\n",
    "p.num_epochs = 200\n",
    "p.attr_methods = 'Saliency'\n",
    "\n",
    "lamWaveloss = 1\n",
    "p.lamlSum = lamWaveloss\n",
    "p.lamhSum = lamWaveloss\n",
    "p.lamL2sum = lamWaveloss\n",
    "p.lamCMF = lamWaveloss\n",
    "p.lamConv = lamWaveloss\n",
    "p.lamL1wave = 0.1\n",
    "p.lamL1attr = 1.0\n",
    "p.target = 0"
   ]
  },
  {
   "cell_type": "code",
   "execution_count": 66,
   "metadata": {},
   "outputs": [],
   "source": [
    "# load data and model\n",
    "train_loader, test_loader = get_dataloader(p.data_path,\n",
    "                                           batch_size=p.batch_size,\n",
    "                                           is_continuous=p.is_continuous)\n",
    "\n",
    "model = load_pretrained_model(p.model_path, device=device)\n",
    "\n",
    "# prepare model\n",
    "random.seed(p.seed)\n",
    "np.random.seed(p.seed)\n",
    "torch.manual_seed(p.seed)\n",
    "\n",
    "wt = awd.DWT1d(wave=p.wave, mode=p.mode, J=p.J,\n",
    "               init_factor=p.init_factor,\n",
    "               noise_factor=p.noise_factor,\n",
    "               const_factor=p.const_factor).to(device)\n",
    "wt.train()\n",
    "\n",
    "# train\n",
    "params = list(wt.parameters())\n",
    "optimizer = torch.optim.Adam(params, lr=p.lr)\n",
    "loss_f = awd.get_loss_f(lamlSum=p.lamlSum, lamhSum=p.lamhSum, lamL2norm=p.lamL2norm, lamCMF=p.lamCMF,\n",
    "                        lamConv=p.lamConv, lamL1wave=p.lamL1wave, lamL1attr=p.lamL1attr)\n",
    "trainer = awd.Trainer(model, wt, optimizer, loss_f, target=p.target,\n",
    "                      use_residuals=True, attr_methods=p.attr_methods, device=device, n_print=5)"
   ]
  },
  {
   "cell_type": "code",
   "execution_count": 67,
   "metadata": {},
   "outputs": [
    {
     "name": "stdout",
     "output_type": "stream",
     "text": [
      "Starting Training Loop...\n",
      "Train Epoch: 0 [1044/2936 (97%)]\tLoss: 55.5650987\n",
      "====> Epoch: 0 Average train loss: 109.4158\n",
      "Train Epoch: 5 [1044/2936 (97%)]\tLoss: 12.986291\n",
      "====> Epoch: 5 Average train loss: 13.7437\n",
      "Train Epoch: 10 [1044/2936 (97%)]\tLoss: 8.305640\n",
      "====> Epoch: 10 Average train loss: 8.6537\n",
      "Train Epoch: 15 [1044/2936 (97%)]\tLoss: 6.570947\n",
      "====> Epoch: 15 Average train loss: 6.8123\n",
      "Train Epoch: 20 [1044/2936 (97%)]\tLoss: 5.741346\n",
      "====> Epoch: 20 Average train loss: 5.5254\n",
      "Train Epoch: 25 [1044/2936 (97%)]\tLoss: 4.597078\n",
      "====> Epoch: 25 Average train loss: 4.7180\n",
      "Train Epoch: 30 [1044/2936 (97%)]\tLoss: 4.219076\n",
      "====> Epoch: 30 Average train loss: 4.3313\n",
      "Train Epoch: 35 [1044/2936 (97%)]\tLoss: 4.100550\n",
      "====> Epoch: 35 Average train loss: 4.1290\n",
      "Train Epoch: 40 [1044/2936 (97%)]\tLoss: 4.031685\n",
      "====> Epoch: 40 Average train loss: 3.9862\n",
      "Train Epoch: 45 [1044/2936 (97%)]\tLoss: 3.860101\n",
      "====> Epoch: 45 Average train loss: 3.8588\n",
      "Train Epoch: 50 [1044/2936 (97%)]\tLoss: 3.621525\n",
      "====> Epoch: 50 Average train loss: 3.7370\n",
      "Train Epoch: 55 [1044/2936 (97%)]\tLoss: 3.685218\n",
      "====> Epoch: 55 Average train loss: 3.6227\n",
      "Train Epoch: 60 [1044/2936 (97%)]\tLoss: 3.457283\n",
      "====> Epoch: 60 Average train loss: 3.5030\n",
      "Train Epoch: 65 [1044/2936 (97%)]\tLoss: 3.480402\n",
      "====> Epoch: 65 Average train loss: 3.3911\n",
      "Train Epoch: 70 [1044/2936 (97%)]\tLoss: 3.254526\n",
      "====> Epoch: 70 Average train loss: 3.2782\n",
      "Train Epoch: 75 [1044/2936 (97%)]\tLoss: 3.273883\n",
      "====> Epoch: 75 Average train loss: 3.1754\n",
      "Train Epoch: 80 [1044/2936 (97%)]\tLoss: 3.134438\n",
      "====> Epoch: 80 Average train loss: 3.0733\n",
      "Train Epoch: 85 [1044/2936 (97%)]\tLoss: 2.875303\n",
      "====> Epoch: 85 Average train loss: 2.9709\n",
      "Train Epoch: 90 [1044/2936 (97%)]\tLoss: 2.832142\n",
      "====> Epoch: 90 Average train loss: 2.8749\n",
      "Train Epoch: 95 [1044/2936 (97%)]\tLoss: 2.774164\n",
      "====> Epoch: 95 Average train loss: 2.7805\n",
      "Train Epoch: 100 [1044/2936 (97%)]\tLoss: 2.761871\n",
      "====> Epoch: 100 Average train loss: 2.6906\n",
      "Train Epoch: 105 [1044/2936 (97%)]\tLoss: 2.568891\n",
      "====> Epoch: 105 Average train loss: 2.5979\n",
      "Train Epoch: 110 [1044/2936 (97%)]\tLoss: 2.545938\n",
      "====> Epoch: 110 Average train loss: 2.5090\n",
      "Train Epoch: 115 [1044/2936 (97%)]\tLoss: 2.412911\n",
      "====> Epoch: 115 Average train loss: 2.4183\n",
      "Train Epoch: 120 [1044/2936 (97%)]\tLoss: 2.294799\n",
      "====> Epoch: 120 Average train loss: 2.3280\n",
      "Train Epoch: 125 [1044/2936 (97%)]\tLoss: 2.269000\n",
      "====> Epoch: 125 Average train loss: 2.2400\n",
      "Train Epoch: 130 [1044/2936 (97%)]\tLoss: 2.245023\n",
      "====> Epoch: 130 Average train loss: 2.1517\n",
      "Train Epoch: 135 [1044/2936 (97%)]\tLoss: 1.989535\n",
      "====> Epoch: 135 Average train loss: 2.0579\n",
      "Train Epoch: 140 [1044/2936 (97%)]\tLoss: 2.005560\n",
      "====> Epoch: 140 Average train loss: 1.9699\n",
      "Train Epoch: 145 [1044/2936 (97%)]\tLoss: 1.879867\n",
      "====> Epoch: 145 Average train loss: 1.8785\n",
      "Train Epoch: 150 [1044/2936 (97%)]\tLoss: 1.783912\n",
      "====> Epoch: 150 Average train loss: 1.7881\n",
      "Train Epoch: 155 [1044/2936 (97%)]\tLoss: 1.637483\n",
      "====> Epoch: 155 Average train loss: 1.6974\n",
      "Train Epoch: 160 [1044/2936 (97%)]\tLoss: 1.639209\n",
      "====> Epoch: 160 Average train loss: 1.6126\n",
      "Train Epoch: 165 [1044/2936 (97%)]\tLoss: 1.562253\n",
      "====> Epoch: 165 Average train loss: 1.5309\n",
      "Train Epoch: 170 [1044/2936 (97%)]\tLoss: 1.467159\n",
      "====> Epoch: 170 Average train loss: 1.4556\n",
      "Train Epoch: 175 [1044/2936 (97%)]\tLoss: 1.453533\n",
      "====> Epoch: 175 Average train loss: 1.3919\n",
      "Train Epoch: 180 [1044/2936 (97%)]\tLoss: 1.301487\n",
      "====> Epoch: 180 Average train loss: 1.3351\n",
      "Train Epoch: 185 [1044/2936 (97%)]\tLoss: 1.177219\n",
      "====> Epoch: 185 Average train loss: 1.2900\n",
      "Train Epoch: 190 [1044/2936 (97%)]\tLoss: 1.279367\n",
      "====> Epoch: 190 Average train loss: 1.2588\n",
      "Train Epoch: 195 [1044/2936 (97%)]\tLoss: 1.299901\n",
      "====> Epoch: 195 Average train loss: 1.2342\n"
     ]
    }
   ],
   "source": [
    "# run\n",
    "trainer(train_loader, epochs=p.num_epochs)"
   ]
  },
  {
   "cell_type": "code",
   "execution_count": 68,
   "metadata": {},
   "outputs": [
    {
     "data": {
      "image/png": "[encoded data removed]",
      "text/plain": [
       "<Figure size 432x288 with 1 Axes>"
      ]
     },
     "metadata": {
      "needs_background": "light"
     },
     "output_type": "display_data"
    }
   ],
   "source": [
    "plt.plot(np.log(trainer.train_losses))\n",
    "plt.xlabel(\"epochs\")\n",
    "plt.ylabel(\"log train loss\")\n",
    "plt.title('Log-train loss vs epochs')\n",
    "plt.show()"
   ]
  },
  {
   "cell_type": "code",
   "execution_count": 69,
   "metadata": {},
   "outputs": [
    {
     "name": "stdout",
     "output_type": "stream",
     "text": [
      "calculating losses and metric...\n",
      "Recon=0.00309\n",
      " lsum=0.00000\n",
      " hsum=0.00572\n",
      " L2norm=0.00000\n",
      " CMF=0.00020\n",
      " conv=0.00005\n",
      " L1wave=6.63702\n",
      " Saliency=0.54631\n",
      " Inputxgrad=0.35956\n",
      "\n"
     ]
    }
   ],
   "source": [
    "print('calculating losses and metric...')\n",
    "model.train()  # cudnn RNN backward can only be called in training mode\n",
    "validator = awd.Validator(model, test_loader)\n",
    "rec_loss, lsum_loss, hsum_loss, L2norm_loss, CMF_loss, conv_loss, L1wave_loss, L1saliency_loss, L1inputxgrad_loss = validator(\n",
    "    wt, target=p.target)\n",
    "print(\"Recon={:.5f}\\n lsum={:.5f}\\n hsum={:.5f}\\n L2norm={:.5f}\\n CMF={:.5f}\\n conv={:.5f}\\n L1wave={:.5f}\\n Saliency={:.5f}\\n Inputxgrad={:.5f}\\n\".format(rec_loss,\n",
    "                                      lsum_loss,\n",
    "                                      hsum_loss,\n",
    "                                      L2norm_loss,\n",
    "                                      CMF_loss,\n",
    "                                      conv_loss,\n",
    "                                      L1wave_loss,\n",
    "                                      L1saliency_loss,\n",
    "                                      L1inputxgrad_loss))\n"
   ]
  },
  {
   "cell_type": "code",
   "execution_count": 70,
   "metadata": {},
   "outputs": [
    {
     "data": {
      "image/png": "[encoded data removed]",
      "text/plain": [
       "<Figure size 400x400 with 2 Axes>"
      ]
     },
     "metadata": {
      "needs_background": "light"
     },
     "output_type": "display_data"
    },
    {
     "data": {
      "image/png": "[encoded data removed]",
      "text/plain": [
       "<Figure size 600x300 with 2 Axes>"
      ]
     },
     "metadata": {
      "needs_background": "light"
     },
     "output_type": "display_data"
    }
   ],
   "source": [
    "filt = get_1dfilts(wt)\n",
    "phi, psi, x = get_wavefun(wt)\n",
    "\n",
    "plot_1dfilts(filt, is_title=True, figsize=(2,2))\n",
    "plot_wavefun((phi, psi, x), is_title=True, figsize=(2,1))"
   ]
  },
  {
   "cell_type": "code",
   "execution_count": null,
   "metadata": {},
   "outputs": [],
   "source": []
  },
  {
   "cell_type": "code",
   "execution_count": null,
   "metadata": {},
   "outputs": [],
   "source": []
  }
 ],
 "metadata": {
  "kernelspec": {
   "display_name": "Environment (conda_pytorch_p36)",
   "language": "python",
   "name": "conda_pytorch_p36"
  },
  "language_info": {
   "codemirror_mode": {
    "name": "ipython",
    "version": 3
   },
   "file_extension": ".py",
   "mimetype": "text/x-python",
   "name": "python",
   "nbconvert_exporter": "python",
   "pygments_lexer": "ipython3",
   "version": "3.6.10"
  }
 },
 "nbformat": 4,
 "nbformat_minor": 4
}
