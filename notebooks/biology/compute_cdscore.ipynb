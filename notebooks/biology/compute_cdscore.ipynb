{
 "cells": [
  {
   "cell_type": "code",
   "execution_count": 1,
   "metadata": {},
   "outputs": [],
   "source": [
    "%load_ext autoreload\n",
    "%autoreload 2\n",
    "%matplotlib inline\n",
    "import matplotlib.pyplot as plt\n",
    "import numpy as np\n",
    "import torch\n",
    "device = 'cuda' if torch.cuda.is_available() else 'cpu'\n",
    "import os,sys\n",
    "opj = os.path.join\n",
    "from copy import deepcopy\n",
    "from tqdm import tqdm\n",
    "import pickle as pkl\n",
    "import pandas as pd\n",
    "import torch.nn.functional as F\n",
    "\n",
    "from ex_biology import p\n",
    "from dset import get_dataloader, load_pretrained_model\n",
    "\n",
    "# adaptive-wavelets modules\n",
    "from losses import get_loss_f\n",
    "from train import Trainer\n",
    "from evaluate import Validator\n",
    "from transform1d import DWT1d\n",
    "from utils import get_1dfilts, get_wavefun, low_to_high\n",
    "from wave_attributions import Attributer\n",
    "from visualize import cshow, plot_1dfilts, plot_1dreconstruct, plot_wavefun\n",
    "\n",
    "# evaluation\n",
    "from matplotlib import gridspec\n",
    "from sklearn.linear_model import LinearRegression, Ridge, RidgeCV, LogisticRegression\n",
    "from sklearn import metrics\n",
    "from sklearn.model_selection import cross_val_score\n",
    "from feature_transform import max_transformer\n",
    "\n",
    "# trim model\n",
    "from trim import TrimModel\n",
    "\n",
    "# cd\n",
    "import acd\n",
    "from acd.scores import cd_propagate"
   ]
  },
  {
   "cell_type": "markdown",
   "metadata": {},
   "source": [
    "# load data and model"
   ]
  },
  {
   "cell_type": "code",
   "execution_count": 2,
   "metadata": {},
   "outputs": [],
   "source": [
    "# load data and model\n",
    "train_loader, test_loader = get_dataloader(p.data_path, \n",
    "                                           batch_size=p.batch_size,\n",
    "                                           is_continuous=p.is_continuous)   \n",
    "\n",
    "model = load_pretrained_model(p.model_path, device=device)    \n",
    "\n",
    "# wavelet transform \n",
    "wt = DWT1d(wave='db5', mode='zero', J=4, init_factor=1, noise_factor=0.0).to(device)\n",
    "\n",
    "# get a batch of images\n",
    "data = iter(test_loader).next()[0]\n",
    "data = data.to(device)\n",
    "\n",
    "# wavelet transform and reconstruction\n",
    "data_t = wt(data)\n",
    "recon = wt.inverse(data_t)"
   ]
  },
  {
   "cell_type": "code",
   "execution_count": 3,
   "metadata": {},
   "outputs": [
    {
     "name": "stdout",
     "output_type": "stream",
     "text": [
      "shape of data / recon torch.Size([100, 1, 40]) torch.Size([100, 1, 40])\n",
      "shape of wavelet coeffs torch.Size([100, 1, 10])\n",
      "shape of wavelet coeffs torch.Size([100, 1, 24])\n",
      "shape of wavelet coeffs torch.Size([100, 1, 16])\n",
      "shape of wavelet coeffs torch.Size([100, 1, 12])\n",
      "shape of wavelet coeffs torch.Size([100, 1, 10])\n"
     ]
    }
   ],
   "source": [
    "print('shape of data / recon', data.shape, recon.shape)\n",
    "for i in range(len(data_t)):\n",
    "    print('shape of wavelet coeffs', data_t[i].shape)"
   ]
  },
  {
   "cell_type": "code",
   "execution_count": 4,
   "metadata": {},
   "outputs": [
    {
     "name": "stdout",
     "output_type": "stream",
     "text": [
      "reconstruction error: 0.00000\n"
     ]
    }
   ],
   "source": [
    "print('reconstruction error: {:.5f}'.format(torch.norm(data - recon).item()/data.size(0)))"
   ]
  },
  {
   "cell_type": "code",
   "execution_count": 5,
   "metadata": {},
   "outputs": [
    {
     "name": "stdout",
     "output_type": "stream",
     "text": [
      "tensor([[-0.8557],\n",
      "        [-0.8095],\n",
      "        [-0.4112],\n",
      "        [-0.8514],\n",
      "        [ 0.0790]], device='cuda:0', grad_fn=<SliceBackward>)\n"
     ]
    }
   ],
   "source": [
    "# trim model\n",
    "mt = TrimModel(model, wt.inverse, use_residuals=True).to(device)\n",
    "out = mt(data_t, deepcopy(data))\n",
    "print(out[:5])"
   ]
  },
  {
   "cell_type": "code",
   "execution_count": 6,
   "metadata": {},
   "outputs": [
    {
     "name": "stdout",
     "output_type": "stream",
     "text": [
      "tensor([[-0.8557],\n",
      "        [-0.8095],\n",
      "        [-0.4112],\n",
      "        [-0.8514],\n",
      "        [ 0.0790]], device='cuda:0')\n"
     ]
    }
   ],
   "source": [
    "print(model(data)[:5])"
   ]
  },
  {
   "cell_type": "markdown",
   "metadata": {},
   "source": [
    "# calculate cd score in original domain"
   ]
  },
  {
   "cell_type": "code",
   "execution_count": 7,
   "metadata": {},
   "outputs": [],
   "source": [
    "x = torch.ones_like(recon[0:1]) # starts (batch_size, num_channels, seq_len)\n",
    "x.data = recon[0:1]\n",
    "x = x.permute(0, 2, 1) # should be (batch_size, seq_len, num_channels)"
   ]
  },
  {
   "cell_type": "code",
   "execution_count": 8,
   "metadata": {},
   "outputs": [
    {
     "data": {
      "text/plain": [
       "tensor([[-0.8557]], device='cuda:0')"
      ]
     },
     "execution_count": 8,
     "metadata": {},
     "output_type": "execute_result"
    }
   ],
   "source": [
    "with torch.no_grad():\n",
    "    rel, irrel = cd_propagate.propagate_lstm(x, model.model.lstm, start=0, stop=30, my_device=device)\n",
    "rel = rel.squeeze(1)\n",
    "irrel = irrel.squeeze(1)\n",
    "rel, irrel = cd_propagate.propagate_conv_linear(rel, irrel, model.model.fc)\n",
    "rel + irrel"
   ]
  },
  {
   "cell_type": "markdown",
   "metadata": {},
   "source": [
    "# compute cd score in wavelet domain"
   ]
  },
  {
   "cell_type": "code",
   "execution_count": 9,
   "metadata": {},
   "outputs": [],
   "source": [
    "def track_wave_rel(x, idx):\n",
    "    l = len(x)\n",
    "    dim = [0]\n",
    "    tensor = []\n",
    "    for i in range(l):\n",
    "        d = x[i].size(2)\n",
    "        dim.append(d)\n",
    "        tensor.append(x[i])\n",
    "    tensor = torch.cat(tensor, 2)\n",
    "    rel = torch.zeros_like(tensor)\n",
    "    rel[...,idx] = tensor[...,idx]\n",
    "    irrel = tensor - rel\n",
    "    dim = list(np.cumsum(dim))\n",
    "    \n",
    "    x_rel = []\n",
    "    x_irrel = []\n",
    "    for i in range(l):\n",
    "        x_rel.append(rel[...,dim[i]:dim[i+1]])\n",
    "        x_irrel.append(irrel[...,dim[i]:dim[i+1]])\n",
    "    return tuple(x_rel), tuple(x_irrel)"
   ]
  },
  {
   "cell_type": "code",
   "execution_count": 10,
   "metadata": {},
   "outputs": [],
   "source": [
    "# get a batch of images\n",
    "data = iter(test_loader).next()[0]\n",
    "data = data.to(device)\n",
    "\n",
    "# wavelet transform and reconstruction\n",
    "data_t = wt(data) # select some coefs of data_t to interpret (so maybe zero all but one coefs)"
   ]
  },
  {
   "cell_type": "code",
   "execution_count": 11,
   "metadata": {},
   "outputs": [],
   "source": [
    "cd = []\n",
    "for idx in range(72):\n",
    "    rel, _ = track_wave_rel(data_t, idx)\n",
    "    rel = wt.inverse(rel)\n",
    "    irrel = data - rel\n",
    "    \n",
    "    rel = rel.permute(0, 2, 1)\n",
    "    irrel = irrel.permute(0, 2, 1)    \n",
    "    \n",
    "    rel, irrel = cd_propagate.propagate_lstm_block(x_rel=rel, x_irrel=irrel,\n",
    "                                                   module=model.model.lstm,\n",
    "                                                   start=0, stop=10, my_device=device)    \n",
    "    rel = rel.squeeze(1)\n",
    "    irrel = irrel.squeeze(1)\n",
    "    rel, irrel = cd_propagate.propagate_conv_linear(rel, irrel, model.model.fc)\n",
    "    cd.append(rel)\n",
    "cd = torch.cat(cd, 1)"
   ]
  },
  {
   "cell_type": "code",
   "execution_count": 12,
   "metadata": {},
   "outputs": [
    {
     "data": {
      "text/plain": [
       "tensor([[ 0.1462,  0.1462,  0.1462,  ...,  0.1473,  0.1460,  0.1461],\n",
       "        [ 0.1630,  0.1630,  0.1630,  ...,  0.1636,  0.1628,  0.1630],\n",
       "        [ 0.0896,  0.0896,  0.0896,  ...,  0.0887,  0.0896,  0.0896],\n",
       "        ...,\n",
       "        [ 0.1636,  0.1636,  0.1636,  ...,  0.1647,  0.1635,  0.1636],\n",
       "        [-0.1761, -0.1761, -0.1761,  ..., -0.1678, -0.1766, -0.1762],\n",
       "        [-0.0515, -0.0515, -0.0515,  ..., -0.0451, -0.0509, -0.0515]],\n",
       "       device='cuda:0', grad_fn=<CatBackward>)"
      ]
     },
     "execution_count": 12,
     "metadata": {},
     "output_type": "execute_result"
    }
   ],
   "source": [
    "cd"
   ]
  },
  {
   "cell_type": "code",
   "execution_count": null,
   "metadata": {},
   "outputs": [],
   "source": []
  }
 ],
 "metadata": {
  "kernelspec": {
   "display_name": "Environment (conda_pytorch_p36)",
   "language": "python",
   "name": "conda_pytorch_p36"
  },
  "language_info": {
   "codemirror_mode": {
    "name": "ipython",
    "version": 3
   },
   "file_extension": ".py",
   "mimetype": "text/x-python",
   "name": "python",
   "nbconvert_exporter": "python",
   "pygments_lexer": "ipython3",
   "version": "3.6.10"
  }
 },
 "nbformat": 4,
 "nbformat_minor": 4
}
