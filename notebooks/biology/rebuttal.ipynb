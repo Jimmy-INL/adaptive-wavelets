{
 "cells": [
  {
   "cell_type": "code",
   "execution_count": 1,
   "metadata": {},
   "outputs": [],
   "source": [
    "%load_ext autoreload\n",
    "%autoreload 2\n",
    "%matplotlib inline\n",
    "import numpy as np\n",
    "import torch\n",
    "import random\n",
    "import sys\n",
    "from copy import deepcopy\n",
    "import matplotlib.pyplot as plt\n",
    "device = 'cuda' if torch.cuda.is_available() else 'cpu'\n",
    "\n",
    "from ex_biology import p\n",
    "\n",
    "# adaptive-wavelets modules\n",
    "sys.path.append('../..')\n",
    "from src import adaptive_wavelets\n",
    "from src.mdata.biology import get_dataloader, load_pretrained_model\n",
    "from src.visualize import cshow, plot_1dfilts, plot_1dreconstruct, plot_wavefun"
   ]
  },
  {
   "cell_type": "code",
   "execution_count": 2,
   "metadata": {},
   "outputs": [],
   "source": [
    "# load data and model\n",
    "train_loader, test_loader = get_dataloader(p.data_path, \n",
    "                                           batch_size=p.batch_size,\n",
    "                                           is_continuous=p.is_continuous)   \n",
    "\n",
    "model = load_pretrained_model(p.model_path, device=device)  "
   ]
  },
  {
   "cell_type": "code",
   "execution_count": null,
   "metadata": {},
   "outputs": [],
   "source": []
  }
 ],
 "metadata": {
  "kernelspec": {
   "display_name": "Environment (conda_pytorch_p36)",
   "language": "python",
   "name": "conda_pytorch_p36"
  },
  "language_info": {
   "codemirror_mode": {
    "name": "ipython",
    "version": 3
   },
   "file_extension": ".py",
   "mimetype": "text/x-python",
   "name": "python",
   "nbconvert_exporter": "python",
   "pygments_lexer": "ipython3",
   "version": "3.6.10"
  }
 },
 "nbformat": 4,
 "nbformat_minor": 4
}
