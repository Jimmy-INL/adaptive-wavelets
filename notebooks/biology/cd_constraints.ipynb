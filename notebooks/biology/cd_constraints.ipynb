{
 "cells": [
  {
   "cell_type": "code",
   "execution_count": 1,
   "metadata": {},
   "outputs": [],
   "source": [
    "%load_ext autoreload\n",
    "%autoreload 2\n",
    "%matplotlib inline\n",
    "import matplotlib.pyplot as plt\n",
    "import numpy as np\n",
    "import torch\n",
    "device = 'cuda' if torch.cuda.is_available() else 'cpu'\n",
    "import os,sys\n",
    "opj = os.path.join\n",
    "from copy import deepcopy\n",
    "from tqdm import tqdm\n",
    "import pickle as pkl\n",
    "import pandas as pd\n",
    "import torch.nn.functional as F\n",
    "\n",
    "from ex_biology import p\n",
    "from dset import get_dataloader, load_pretrained_model\n",
    "\n",
    "# adaptive-wavelets modules\n",
    "from losses import get_loss_f\n",
    "from train import Trainer\n",
    "from evaluate import Validator\n",
    "from transform1d import DWT1d\n",
    "from utils import get_1dfilts, get_wavefun, low_to_high\n",
    "from wave_attributions import Attributer\n",
    "from visualize import cshow, plot_1dfilts, plot_1dreconstruct, plot_wavefun\n",
    "\n",
    "# evaluation\n",
    "from matplotlib import gridspec\n",
    "from sklearn.linear_model import LinearRegression, Ridge, RidgeCV, LogisticRegression\n",
    "from sklearn import metrics\n",
    "from sklearn.model_selection import cross_val_score\n",
    "from feature_transform import max_transformer\n",
    "\n",
    "# trim model\n",
    "from trim import TrimModel\n",
    "\n",
    "# cd\n",
    "import acd\n",
    "from acd.scores import cd_propagate"
   ]
  },
  {
   "cell_type": "markdown",
   "metadata": {},
   "source": [
    "# load data and model"
   ]
  },
  {
   "cell_type": "code",
   "execution_count": 2,
   "metadata": {},
   "outputs": [],
   "source": [
    "# load data and model\n",
    "train_loader, test_loader = get_dataloader(p.data_path, \n",
    "                                           batch_size=p.batch_size,\n",
    "                                           is_continuous=p.is_continuous)   \n",
    "\n",
    "model = load_pretrained_model(p.model_path, device=device)    \n",
    "\n",
    "# wavelet transform \n",
    "wt = DWT1d(wave='db5', mode='zero', J=4, init_factor=1, noise_factor=0.0).to(device)\n",
    "\n",
    "# get a batch of images\n",
    "data = iter(test_loader).next()[0]\n",
    "data = data.to(device)\n",
    "\n",
    "# wavelet transform and reconstruction\n",
    "data_t = wt(data)\n",
    "recon = wt.inverse(data_t)"
   ]
  },
  {
   "cell_type": "code",
   "execution_count": 3,
   "metadata": {},
   "outputs": [
    {
     "name": "stdout",
     "output_type": "stream",
     "text": [
      "shape of data / recon torch.Size([100, 1, 40]) torch.Size([100, 1, 40])\n",
      "shape of wavelet coeffs torch.Size([100, 1, 10])\n",
      "shape of wavelet coeffs torch.Size([100, 1, 24])\n",
      "shape of wavelet coeffs torch.Size([100, 1, 16])\n",
      "shape of wavelet coeffs torch.Size([100, 1, 12])\n",
      "shape of wavelet coeffs torch.Size([100, 1, 10])\n"
     ]
    }
   ],
   "source": [
    "print('shape of data / recon', data.shape, recon.shape)\n",
    "for i in range(len(data_t)):\n",
    "    print('shape of wavelet coeffs', data_t[i].shape)"
   ]
  },
  {
   "cell_type": "code",
   "execution_count": 4,
   "metadata": {},
   "outputs": [
    {
     "name": "stdout",
     "output_type": "stream",
     "text": [
      "reconstruction error: 0.00000\n"
     ]
    }
   ],
   "source": [
    "print('reconstruction error: {:.5f}'.format(torch.norm(data - recon).item()/data.size(0)))"
   ]
  },
  {
   "cell_type": "code",
   "execution_count": 5,
   "metadata": {},
   "outputs": [
    {
     "name": "stdout",
     "output_type": "stream",
     "text": [
      "tensor([[-0.8557],\n",
      "        [-0.8095],\n",
      "        [-0.4112],\n",
      "        [-0.8514],\n",
      "        [ 0.0790]], device='cuda:0', grad_fn=<SliceBackward>)\n"
     ]
    }
   ],
   "source": [
    "# trim model\n",
    "mt = TrimModel(model, wt.inverse, use_residuals=True).to(device)\n",
    "out = mt(data_t, deepcopy(data))\n",
    "print(out[:5])"
   ]
  },
  {
   "cell_type": "code",
   "execution_count": 6,
   "metadata": {},
   "outputs": [
    {
     "name": "stdout",
     "output_type": "stream",
     "text": [
      "tensor([[-0.8557],\n",
      "        [-0.8095],\n",
      "        [-0.4112],\n",
      "        [-0.8514],\n",
      "        [ 0.0790]], device='cuda:0')\n"
     ]
    }
   ],
   "source": [
    "print(model(data)[:5])"
   ]
  },
  {
   "cell_type": "markdown",
   "metadata": {},
   "source": [
    "# calculate cd score in original domain"
   ]
  },
  {
   "cell_type": "code",
   "execution_count": 7,
   "metadata": {},
   "outputs": [],
   "source": [
    "x = torch.ones_like(recon[0:1]) # starts (batch_size, num_channels, seq_len)\n",
    "x.data = recon[0:1]\n",
    "x = x.permute(0, 2, 1) # should be (batch_size, seq_len, num_channels)"
   ]
  },
  {
   "cell_type": "code",
   "execution_count": 9,
   "metadata": {},
   "outputs": [
    {
     "data": {
      "text/plain": [
       "tensor([[-0.8557]], device='cuda:0')"
      ]
     },
     "execution_count": 9,
     "metadata": {},
     "output_type": "execute_result"
    }
   ],
   "source": [
    "with torch.no_grad():\n",
    "    rel, irrel = cd_propagate.propagate_lstm(x, model.model.lstm, start=0, stop=30, my_device=device)\n",
    "rel = rel.squeeze(1)\n",
    "irrel = irrel.squeeze(1)\n",
    "rel, irrel = cd_propagate.propagate_conv_linear(rel, irrel, model.model.fc)\n",
    "rel + irrel"
   ]
  },
  {
   "cell_type": "markdown",
   "metadata": {},
   "source": [
    "# compute cd score in wavelet domain"
   ]
  },
  {
   "cell_type": "code",
   "execution_count": 24,
   "metadata": {},
   "outputs": [],
   "source": [
    "data_t = wt(data) # select some coefs of data_t to interpret (so maybe zero all but one coefs)\n",
    "rel = wt.inverse(data_t)\n",
    "irrel = data - rel"
   ]
  },
  {
   "cell_type": "code",
   "execution_count": 26,
   "metadata": {},
   "outputs": [],
   "source": [
    "# rel, irrel (residuals shoul be put into irrel)\n",
    "rel = rel.permute(0, 2, 1)\n",
    "irrel = irrel.permute(0, 2, 1) \n",
    "with torch.no_grad():\n",
    "    rel, irrel = cd_propagate.propagate_lstm_block(x_rel=rel, x_irrel=irrel,\n",
    "                                                   module=model.model.lstm,\n",
    "                                                   start=0, stop=2, my_device=device)\n",
    "rel = rel.squeeze(1)\n",
    "irrel = irrel.squeeze(1)\n",
    "rel, irrel = cd_propagate.propagate_conv_linear(rel, irrel, model.model.fc)\n",
    "# print('cd score', rel)\n"
   ]
  },
  {
   "cell_type": "code",
   "execution_count": 27,
   "metadata": {},
   "outputs": [
    {
     "data": {
      "text/plain": [
       "tensor([[ 0.2010],\n",
       "        [ 0.1898],\n",
       "        [ 0.1877],\n",
       "        [ 0.1776],\n",
       "        [-0.0508],\n",
       "        [-0.6380],\n",
       "        [-0.2458],\n",
       "        [-0.1799],\n",
       "        [-0.0256],\n",
       "        [ 0.2721],\n",
       "        [-0.2880],\n",
       "        [ 0.1929],\n",
       "        [-0.3667],\n",
       "        [-0.0306],\n",
       "        [ 0.1335],\n",
       "        [-0.1186],\n",
       "        [-0.2300],\n",
       "        [ 0.0196],\n",
       "        [ 0.1616],\n",
       "        [-0.1821],\n",
       "        [ 0.0545],\n",
       "        [-0.0046],\n",
       "        [ 0.2458],\n",
       "        [ 0.1000],\n",
       "        [ 0.4037],\n",
       "        [-0.4669],\n",
       "        [-0.1043],\n",
       "        [-0.1486],\n",
       "        [ 0.1395],\n",
       "        [ 0.1988],\n",
       "        [ 0.2528],\n",
       "        [-0.5685],\n",
       "        [ 0.0834],\n",
       "        [ 0.1693],\n",
       "        [-0.0849],\n",
       "        [ 0.0227],\n",
       "        [-0.9211],\n",
       "        [ 0.3313],\n",
       "        [-0.9261],\n",
       "        [-0.0167],\n",
       "        [-0.7438],\n",
       "        [-0.0384],\n",
       "        [ 0.2715],\n",
       "        [-0.0997],\n",
       "        [-0.2468],\n",
       "        [-0.5197],\n",
       "        [ 0.2099],\n",
       "        [-0.4587],\n",
       "        [ 0.4068],\n",
       "        [-0.5164],\n",
       "        [-1.3669],\n",
       "        [-0.2368],\n",
       "        [ 0.1127],\n",
       "        [-0.3370],\n",
       "        [-0.3121],\n",
       "        [ 0.3829],\n",
       "        [-0.2470],\n",
       "        [-0.3971],\n",
       "        [ 0.0847],\n",
       "        [ 0.5026],\n",
       "        [ 0.4650],\n",
       "        [ 0.1595],\n",
       "        [-1.1895],\n",
       "        [ 0.2049],\n",
       "        [-0.3472],\n",
       "        [-0.4514],\n",
       "        [ 0.0670],\n",
       "        [-0.9797],\n",
       "        [ 0.5545],\n",
       "        [-0.9464],\n",
       "        [-0.1845],\n",
       "        [ 0.8310],\n",
       "        [ 0.3463],\n",
       "        [ 0.1990],\n",
       "        [ 0.0906],\n",
       "        [ 0.0646],\n",
       "        [-0.6281],\n",
       "        [-0.2082],\n",
       "        [-0.2680],\n",
       "        [-0.3735],\n",
       "        [ 0.3796],\n",
       "        [ 0.1409],\n",
       "        [-0.1434],\n",
       "        [ 0.3611],\n",
       "        [-0.0560],\n",
       "        [-0.3734],\n",
       "        [-1.0574],\n",
       "        [-0.0799],\n",
       "        [ 0.0247],\n",
       "        [-0.2166],\n",
       "        [-0.0265],\n",
       "        [-0.2657],\n",
       "        [ 0.1888],\n",
       "        [-0.1560],\n",
       "        [ 0.2111],\n",
       "        [ 0.0798],\n",
       "        [ 0.8717],\n",
       "        [ 0.2083],\n",
       "        [ 0.6021],\n",
       "        [-0.3079]], device='cuda:0')"
      ]
     },
     "execution_count": 27,
     "metadata": {},
     "output_type": "execute_result"
    }
   ],
   "source": [
    "rel + irrel - model(data)"
   ]
  },
  {
   "cell_type": "code",
   "execution_count": null,
   "metadata": {},
   "outputs": [],
   "source": []
  }
 ],
 "metadata": {
  "kernelspec": {
   "display_name": "Environment (conda_pytorch_p36)",
   "language": "python",
   "name": "conda_pytorch_p36"
  },
  "language_info": {
   "codemirror_mode": {
    "name": "ipython",
    "version": 3
   },
   "file_extension": ".py",
   "mimetype": "text/x-python",
   "name": "python",
   "nbconvert_exporter": "python",
   "pygments_lexer": "ipython3",
   "version": "3.6.10"
  }
 },
 "nbformat": 4,
 "nbformat_minor": 4
}
