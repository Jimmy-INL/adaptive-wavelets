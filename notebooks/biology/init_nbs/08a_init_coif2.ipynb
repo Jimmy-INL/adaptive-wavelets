{
 "cells": [
  {
   "cell_type": "code",
   "execution_count": 27,
   "metadata": {},
   "outputs": [
    {
     "name": "stdout",
     "output_type": "stream",
     "text": [
      "The autoreload extension is already loaded. To reload it, use:\n",
      "  %reload_ext autoreload\n"
     ]
    }
   ],
   "source": [
    "%load_ext autoreload\n",
    "%autoreload 2\n",
    "%matplotlib inline\n",
    "import os\n",
    "import random\n",
    "\n",
    "import numpy as np\n",
    "import torch\n",
    "import matplotlib.pyplot as plt\n",
    "opj = os.path.join\n",
    "import pickle as pkl\n",
    "\n",
    "from ex_biology import p\n",
    "\n",
    "device = 'cuda:0' if torch.cuda.is_available() else 'cpu'\n",
    "\n",
    "# adaptive-wavelets modules\n",
    "from awd.data.biology import get_dataloader, load_pretrained_model\n",
    "from awd.utils.misc import get_wavefun, get_1dfilts\n",
    "from awd.utils.visualize import plot_1dfilts, plot_wavefun"
   ]
  },
  {
   "cell_type": "code",
   "execution_count": 46,
   "metadata": {},
   "outputs": [],
   "source": [
    "p.wave = 'coif2'\n",
    "p.J = 4\n",
    "p.mode = 'zero'\n",
    "p.init_factor = 1\n",
    "p.noise_factor = 0\n",
    "p.const_factor = 0\n",
    "p.num_epochs = 300\n",
    "p.attr_methods = 'Saliency'\n",
    "\n",
    "lamWaveloss = 1\n",
    "p.lamlSum = lamWaveloss\n",
    "p.lamhSum = lamWaveloss\n",
    "p.lamL2sum = lamWaveloss\n",
    "p.lamCMF = lamWaveloss\n",
    "p.lamConv = lamWaveloss\n",
    "p.lamL1wave = 0\n",
    "p.lamL1attr = 10.0\n",
    "p.target = 0"
   ]
  },
  {
   "cell_type": "code",
   "execution_count": 47,
   "metadata": {},
   "outputs": [],
   "source": [
    "# load data and model\n",
    "train_loader, test_loader = get_dataloader(p.data_path,\n",
    "                                           batch_size=p.batch_size,\n",
    "                                           is_continuous=p.is_continuous)\n",
    "\n",
    "model = load_pretrained_model(p.model_path, device=device)\n",
    "\n",
    "# prepare model\n",
    "random.seed(p.seed)\n",
    "np.random.seed(p.seed)\n",
    "torch.manual_seed(p.seed)\n",
    "\n",
    "wt = awd.DWT1d(wave=p.wave, mode=p.mode, J=p.J,\n",
    "               init_factor=p.init_factor,\n",
    "               noise_factor=p.noise_factor,\n",
    "               const_factor=p.const_factor).to(device)\n",
    "wt.train()\n",
    "\n",
    "# train\n",
    "params = list(wt.parameters())\n",
    "optimizer = torch.optim.Adam(params, lr=p.lr)\n",
    "loss_f = awd.get_loss_f(lamlSum=p.lamlSum, lamhSum=p.lamhSum, lamL2norm=p.lamL2norm, lamCMF=p.lamCMF,\n",
    "                        lamConv=p.lamConv, lamL1wave=p.lamL1wave, lamL1attr=p.lamL1attr)\n",
    "trainer = awd.Trainer(model, wt, optimizer, loss_f, target=p.target,\n",
    "                      use_residuals=True, attr_methods=p.attr_methods, device=device, n_print=5)"
   ]
  },
  {
   "cell_type": "code",
   "execution_count": 48,
   "metadata": {},
   "outputs": [
    {
     "name": "stdout",
     "output_type": "stream",
     "text": [
      "Starting Training Loop...\n",
      "Train Epoch: 0 [1044/2936 (97%)]\tLoss: 3.894077\n",
      "====> Epoch: 0 Average train loss: 3.9091\n",
      "Train Epoch: 5 [1044/2936 (97%)]\tLoss: 3.930340\n",
      "====> Epoch: 5 Average train loss: 3.8217\n",
      "Train Epoch: 10 [1044/2936 (97%)]\tLoss: 4.071821\n",
      "====> Epoch: 10 Average train loss: 3.7915\n",
      "Train Epoch: 15 [1044/2936 (97%)]\tLoss: 3.638618\n",
      "====> Epoch: 15 Average train loss: 3.7572\n",
      "Train Epoch: 20 [1044/2936 (97%)]\tLoss: 3.766621\n",
      "====> Epoch: 20 Average train loss: 3.7540\n",
      "Train Epoch: 25 [1044/2936 (97%)]\tLoss: 3.589291\n",
      "====> Epoch: 25 Average train loss: 3.7473\n",
      "Train Epoch: 30 [1044/2936 (97%)]\tLoss: 3.565283\n",
      "====> Epoch: 30 Average train loss: 3.7412\n",
      "Train Epoch: 35 [1044/2936 (97%)]\tLoss: 3.518766\n",
      "====> Epoch: 35 Average train loss: 3.7399\n",
      "Train Epoch: 40 [1044/2936 (97%)]\tLoss: 4.008566\n",
      "====> Epoch: 40 Average train loss: 3.7452\n",
      "Train Epoch: 45 [1044/2936 (97%)]\tLoss: 3.366669\n",
      "====> Epoch: 45 Average train loss: 3.7384\n",
      "Train Epoch: 50 [1044/2936 (97%)]\tLoss: 3.719212\n",
      "====> Epoch: 50 Average train loss: 3.7425\n",
      "Train Epoch: 55 [1044/2936 (97%)]\tLoss: 3.839433\n",
      "====> Epoch: 55 Average train loss: 3.7524\n",
      "Train Epoch: 60 [1044/2936 (97%)]\tLoss: 4.415971\n",
      "====> Epoch: 60 Average train loss: 3.7564\n",
      "Train Epoch: 65 [1044/2936 (97%)]\tLoss: 4.129179\n",
      "====> Epoch: 65 Average train loss: 3.7601\n",
      "Train Epoch: 70 [1044/2936 (97%)]\tLoss: 3.241260\n",
      "====> Epoch: 70 Average train loss: 3.7347\n",
      "Train Epoch: 75 [1044/2936 (97%)]\tLoss: 4.055600\n",
      "====> Epoch: 75 Average train loss: 3.7488\n",
      "Train Epoch: 80 [1044/2936 (97%)]\tLoss: 3.747488\n",
      "====> Epoch: 80 Average train loss: 3.7437\n",
      "Train Epoch: 85 [1044/2936 (97%)]\tLoss: 3.474895\n",
      "====> Epoch: 85 Average train loss: 3.7426\n",
      "Train Epoch: 90 [1044/2936 (97%)]\tLoss: 3.784050\n",
      "====> Epoch: 90 Average train loss: 3.7670\n",
      "Train Epoch: 95 [1044/2936 (97%)]\tLoss: 4.441313\n",
      "====> Epoch: 95 Average train loss: 3.7600\n",
      "Train Epoch: 100 [1044/2936 (97%)]\tLoss: 3.769193\n",
      "====> Epoch: 100 Average train loss: 3.7445\n",
      "Train Epoch: 105 [1044/2936 (97%)]\tLoss: 3.454414\n",
      "====> Epoch: 105 Average train loss: 3.7438\n",
      "Train Epoch: 110 [1044/2936 (97%)]\tLoss: 3.677874\n",
      "====> Epoch: 110 Average train loss: 3.7548\n",
      "Train Epoch: 115 [1044/2936 (97%)]\tLoss: 3.528654\n",
      "====> Epoch: 115 Average train loss: 3.7440\n",
      "Train Epoch: 120 [1044/2936 (97%)]\tLoss: 3.872218\n",
      "====> Epoch: 120 Average train loss: 3.7549\n",
      "Train Epoch: 125 [1044/2936 (97%)]\tLoss: 4.167992\n",
      "====> Epoch: 125 Average train loss: 3.7602\n",
      "Train Epoch: 130 [1044/2936 (97%)]\tLoss: 3.521202\n",
      "====> Epoch: 130 Average train loss: 3.7440\n",
      "Train Epoch: 135 [1044/2936 (97%)]\tLoss: 3.555608\n",
      "====> Epoch: 135 Average train loss: 3.7433\n",
      "Train Epoch: 140 [1044/2936 (97%)]\tLoss: 4.161950\n",
      "====> Epoch: 140 Average train loss: 3.7596\n",
      "Train Epoch: 145 [1044/2936 (97%)]\tLoss: 4.120903\n",
      "====> Epoch: 145 Average train loss: 3.7525\n",
      "Train Epoch: 150 [1044/2936 (97%)]\tLoss: 3.646735\n",
      "====> Epoch: 150 Average train loss: 3.7410\n",
      "Train Epoch: 155 [1044/2936 (97%)]\tLoss: 3.851077\n",
      "====> Epoch: 155 Average train loss: 3.7495\n",
      "Train Epoch: 160 [1044/2936 (97%)]\tLoss: 3.238992\n",
      "====> Epoch: 160 Average train loss: 3.7391\n",
      "Train Epoch: 165 [1044/2936 (97%)]\tLoss: 3.849114\n",
      "====> Epoch: 165 Average train loss: 3.7487\n",
      "Train Epoch: 170 [1044/2936 (97%)]\tLoss: 3.569845\n",
      "====> Epoch: 170 Average train loss: 3.7424\n",
      "Train Epoch: 175 [1044/2936 (97%)]\tLoss: 3.551153\n",
      "====> Epoch: 175 Average train loss: 3.7401\n",
      "Train Epoch: 180 [1044/2936 (97%)]\tLoss: 3.378068\n",
      "====> Epoch: 180 Average train loss: 3.7415\n",
      "Train Epoch: 185 [1044/2936 (97%)]\tLoss: 3.598135\n",
      "====> Epoch: 185 Average train loss: 3.7406\n",
      "Train Epoch: 190 [1044/2936 (97%)]\tLoss: 3.614027\n",
      "====> Epoch: 190 Average train loss: 3.7455\n",
      "Train Epoch: 195 [1044/2936 (97%)]\tLoss: 3.549411\n",
      "====> Epoch: 195 Average train loss: 3.7565\n",
      "Train Epoch: 200 [1044/2936 (97%)]\tLoss: 3.655311\n",
      "====> Epoch: 200 Average train loss: 3.7463\n",
      "Train Epoch: 205 [1044/2936 (97%)]\tLoss: 3.800368\n",
      "====> Epoch: 205 Average train loss: 3.7551\n",
      "Train Epoch: 210 [1044/2936 (97%)]\tLoss: 4.022328\n",
      "====> Epoch: 210 Average train loss: 3.7496\n",
      "Train Epoch: 215 [1044/2936 (97%)]\tLoss: 3.309520\n",
      "====> Epoch: 215 Average train loss: 3.7483\n",
      "Train Epoch: 220 [1044/2936 (97%)]\tLoss: 3.401499\n",
      "====> Epoch: 220 Average train loss: 3.7437\n",
      "Train Epoch: 225 [1044/2936 (97%)]\tLoss: 3.536052\n",
      "====> Epoch: 225 Average train loss: 3.7359\n",
      "Train Epoch: 230 [1044/2936 (97%)]\tLoss: 3.703294\n",
      "====> Epoch: 230 Average train loss: 3.7451\n",
      "Train Epoch: 235 [1044/2936 (97%)]\tLoss: 3.946900\n",
      "====> Epoch: 235 Average train loss: 3.7541\n",
      "Train Epoch: 240 [1044/2936 (97%)]\tLoss: 3.743772\n",
      "====> Epoch: 240 Average train loss: 3.7437\n",
      "Train Epoch: 245 [1044/2936 (97%)]\tLoss: 3.571053\n",
      "====> Epoch: 245 Average train loss: 3.7386\n",
      "Train Epoch: 250 [1044/2936 (97%)]\tLoss: 4.295253\n",
      "====> Epoch: 250 Average train loss: 3.7583\n",
      "Train Epoch: 255 [1044/2936 (97%)]\tLoss: 3.807489\n",
      "====> Epoch: 255 Average train loss: 3.7495\n",
      "Train Epoch: 260 [1044/2936 (97%)]\tLoss: 4.032583\n",
      "====> Epoch: 260 Average train loss: 3.7522\n",
      "Train Epoch: 265 [1044/2936 (97%)]\tLoss: 3.669136\n",
      "====> Epoch: 265 Average train loss: 3.7474\n",
      "Train Epoch: 270 [1044/2936 (97%)]\tLoss: 3.872463\n",
      "====> Epoch: 270 Average train loss: 3.7503\n",
      "Train Epoch: 275 [1044/2936 (97%)]\tLoss: 3.641086\n",
      "====> Epoch: 275 Average train loss: 3.7423\n",
      "Train Epoch: 280 [1044/2936 (97%)]\tLoss: 3.553771\n",
      "====> Epoch: 280 Average train loss: 3.7386\n",
      "Train Epoch: 285 [1044/2936 (97%)]\tLoss: 4.410146\n",
      "====> Epoch: 285 Average train loss: 3.7600\n",
      "Train Epoch: 290 [1044/2936 (97%)]\tLoss: 3.378056\n",
      "====> Epoch: 290 Average train loss: 3.7394\n",
      "Train Epoch: 295 [1044/2936 (97%)]\tLoss: 3.480887\n",
      "====> Epoch: 295 Average train loss: 3.7347\n"
     ]
    }
   ],
   "source": [
    "# run\n",
    "trainer(train_loader, epochs=p.num_epochs)"
   ]
  },
  {
   "cell_type": "code",
   "execution_count": 49,
   "metadata": {},
   "outputs": [
    {
     "data": {
      "image/png": "[encoded data removed]",
      "text/plain": [
       "<Figure size 432x288 with 1 Axes>"
      ]
     },
     "metadata": {
      "needs_background": "light"
     },
     "output_type": "display_data"
    }
   ],
   "source": [
    "plt.plot(np.log(trainer.train_losses))\n",
    "plt.xlabel(\"epochs\")\n",
    "plt.ylabel(\"log train loss\")\n",
    "plt.title('Log-train loss vs epochs')\n",
    "plt.show()"
   ]
  },
  {
   "cell_type": "code",
   "execution_count": 50,
   "metadata": {},
   "outputs": [
    {
     "name": "stdout",
     "output_type": "stream",
     "text": [
      "calculating losses and metric...\n",
      "Recon=0.03586\n",
      " lsum=0.00003\n",
      " hsum=0.00132\n",
      " L2norm=0.00013\n",
      " CMF=0.00641\n",
      " conv=0.00027\n",
      " L1wave=4.28509\n",
      " Saliency=0.35994\n",
      " Inputxgrad=0.27921\n",
      "\n"
     ]
    }
   ],
   "source": [
    "print('calculating losses and metric...')\n",
    "model.train()  # cudnn RNN backward can only be called in training mode\n",
    "validator = awd.Validator(model, test_loader)\n",
    "rec_loss, lsum_loss, hsum_loss, L2norm_loss, CMF_loss, conv_loss, L1wave_loss, L1saliency_loss, L1inputxgrad_loss = validator(\n",
    "    wt, target=p.target)\n",
    "print(\"Recon={:.5f}\\n lsum={:.5f}\\n hsum={:.5f}\\n L2norm={:.5f}\\n CMF={:.5f}\\n conv={:.5f}\\n L1wave={:.5f}\\n Saliency={:.5f}\\n Inputxgrad={:.5f}\\n\".format(rec_loss,\n",
    "                                      lsum_loss,\n",
    "                                      hsum_loss,\n",
    "                                      L2norm_loss,\n",
    "                                      CMF_loss,\n",
    "                                      conv_loss,\n",
    "                                      L1wave_loss,\n",
    "                                      L1saliency_loss,\n",
    "                                      L1inputxgrad_loss))\n"
   ]
  },
  {
   "cell_type": "code",
   "execution_count": 51,
   "metadata": {},
   "outputs": [
    {
     "data": {
      "image/png": "[encoded data removed]",
      "text/plain": [
       "<Figure size 400x400 with 2 Axes>"
      ]
     },
     "metadata": {
      "needs_background": "light"
     },
     "output_type": "display_data"
    },
    {
     "data": {
      "image/png": "[encoded data removed]",
      "text/plain": [
       "<Figure size 600x300 with 2 Axes>"
      ]
     },
     "metadata": {
      "needs_background": "light"
     },
     "output_type": "display_data"
    }
   ],
   "source": [
    "filt = get_1dfilts(wt)\n",
    "phi, psi, x = get_wavefun(wt)\n",
    "\n",
    "plot_1dfilts(filt, is_title=True, figsize=(2,2))\n",
    "plot_wavefun((phi, psi, x), is_title=True, figsize=(2,1))"
   ]
  },
  {
   "cell_type": "code",
   "execution_count": null,
   "metadata": {},
   "outputs": [],
   "source": []
  },
  {
   "cell_type": "code",
   "execution_count": null,
   "metadata": {},
   "outputs": [],
   "source": []
  }
 ],
 "metadata": {
  "kernelspec": {
   "display_name": "Environment (conda_pytorch_p36)",
   "language": "python",
   "name": "conda_pytorch_p36"
  },
  "language_info": {
   "codemirror_mode": {
    "name": "ipython",
    "version": 3
   },
   "file_extension": ".py",
   "mimetype": "text/x-python",
   "name": "python",
   "nbconvert_exporter": "python",
   "pygments_lexer": "ipython3",
   "version": "3.6.10"
  }
 },
 "nbformat": 4,
 "nbformat_minor": 4
}