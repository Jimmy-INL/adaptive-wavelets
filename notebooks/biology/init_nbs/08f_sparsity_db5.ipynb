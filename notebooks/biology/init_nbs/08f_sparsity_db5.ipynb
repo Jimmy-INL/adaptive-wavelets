{
 "cells": [
  {
   "cell_type": "code",
   "execution_count": 1,
   "metadata": {},
   "outputs": [],
   "source": [
    "%load_ext autoreload\n",
    "%autoreload 2\n",
    "%matplotlib inline\n",
    "import os\n",
    "import random\n",
    "\n",
    "import numpy as np\n",
    "import torch\n",
    "import matplotlib.pyplot as plt\n",
    "opj = os.path.join\n",
    "import pickle as pkl\n",
    "\n",
    "from ex_biology import p\n",
    "\n",
    "device = 'cuda:0' if torch.cuda.is_available() else 'cpu'\n",
    "\n",
    "# adaptive-wavelets modules\n",
    "import awd\n",
    "from awd.mdata.biology import get_dataloader, load_pretrained_model\n",
    "from awd.utils import get_wavefun, get_1dfilts\n",
    "from awd.visualize import plot_1dfilts, plot_wavefun"
   ]
  },
  {
   "cell_type": "code",
   "execution_count": 2,
   "metadata": {},
   "outputs": [],
   "source": [
    "p.wave = 'db5'\n",
    "p.J = 4\n",
    "p.mode = 'zero'\n",
    "p.init_factor = 1\n",
    "p.noise_factor = 0\n",
    "p.const_factor = 0\n",
    "p.num_epochs = 100\n",
    "p.attr_methods = 'Saliency'\n",
    "\n",
    "lamWaveloss = 1\n",
    "p.lamlSum = lamWaveloss\n",
    "p.lamhSum = lamWaveloss\n",
    "p.lamL2sum = lamWaveloss\n",
    "p.lamCMF = lamWaveloss\n",
    "p.lamConv = lamWaveloss\n",
    "p.lamL1wave = 1.0\n",
    "p.lamL1attr = 0.0\n",
    "p.target = 0"
   ]
  },
  {
   "cell_type": "code",
   "execution_count": 3,
   "metadata": {},
   "outputs": [],
   "source": [
    "# load data and model\n",
    "train_loader, test_loader = get_dataloader(p.data_path,\n",
    "                                           batch_size=p.batch_size,\n",
    "                                           is_continuous=p.is_continuous)\n",
    "\n",
    "model = load_pretrained_model(p.model_path, device=device)\n",
    "\n",
    "# prepare model\n",
    "random.seed(p.seed)\n",
    "np.random.seed(p.seed)\n",
    "torch.manual_seed(p.seed)\n",
    "\n",
    "wt = awd.DWT1d(wave=p.wave, mode=p.mode, J=p.J,\n",
    "               init_factor=p.init_factor,\n",
    "               noise_factor=p.noise_factor,\n",
    "               const_factor=p.const_factor).to(device)\n",
    "wt.train()\n",
    "\n",
    "# train\n",
    "params = list(wt.parameters())\n",
    "optimizer = torch.optim.Adam(params, lr=p.lr)\n",
    "loss_f = awd.get_loss_f(lamlSum=p.lamlSum, lamhSum=p.lamhSum, lamL2norm=p.lamL2norm, lamCMF=p.lamCMF,\n",
    "                        lamConv=p.lamConv, lamL1wave=p.lamL1wave, lamL1attr=p.lamL1attr)\n",
    "trainer = awd.Trainer(model, wt, optimizer, loss_f, target=p.target,\n",
    "                      use_residuals=True, attr_methods=p.attr_methods, device=device, n_print=5)"
   ]
  },
  {
   "cell_type": "code",
   "execution_count": 4,
   "metadata": {},
   "outputs": [
    {
     "name": "stdout",
     "output_type": "stream",
     "text": [
      "Starting Training Loop...\n",
      "Train Epoch: 0 [1044/2936 (97%)]\tLoss: 3.670742\n",
      "====> Epoch: 0 Average train loss: 4.3640\n",
      "Train Epoch: 5 [1044/2936 (97%)]\tLoss: 4.290156\n",
      "====> Epoch: 5 Average train loss: 4.1518\n",
      "Train Epoch: 10 [1044/2936 (97%)]\tLoss: 4.266385\n",
      "====> Epoch: 10 Average train loss: 4.0195\n",
      "Train Epoch: 15 [1044/2936 (97%)]\tLoss: 3.996694\n",
      "====> Epoch: 15 Average train loss: 4.0057\n",
      "Train Epoch: 20 [1044/2936 (97%)]\tLoss: 4.137423\n",
      "====> Epoch: 20 Average train loss: 4.0087\n",
      "Train Epoch: 25 [1044/2936 (97%)]\tLoss: 3.866425\n",
      "====> Epoch: 25 Average train loss: 4.0028\n",
      "Train Epoch: 30 [1044/2936 (97%)]\tLoss: 3.943118\n",
      "====> Epoch: 30 Average train loss: 4.0045\n",
      "Train Epoch: 35 [1044/2936 (97%)]\tLoss: 3.840441\n",
      "====> Epoch: 35 Average train loss: 4.0026\n",
      "Train Epoch: 40 [1044/2936 (97%)]\tLoss: 4.130038\n",
      "====> Epoch: 40 Average train loss: 4.0083\n",
      "Train Epoch: 45 [1044/2936 (97%)]\tLoss: 3.686305\n",
      "====> Epoch: 45 Average train loss: 3.9991\n",
      "Train Epoch: 50 [1044/2936 (97%)]\tLoss: 3.822014\n",
      "====> Epoch: 50 Average train loss: 4.0030\n",
      "Train Epoch: 55 [1044/2936 (97%)]\tLoss: 3.989534\n",
      "====> Epoch: 55 Average train loss: 4.0056\n",
      "Train Epoch: 60 [1044/2936 (97%)]\tLoss: 3.839535\n",
      "====> Epoch: 60 Average train loss: 4.0027\n",
      "Train Epoch: 65 [1044/2936 (97%)]\tLoss: 3.996946\n",
      "====> Epoch: 65 Average train loss: 4.0058\n",
      "Train Epoch: 70 [1044/2936 (97%)]\tLoss: 3.932104\n",
      "====> Epoch: 70 Average train loss: 4.0043\n",
      "Train Epoch: 75 [1044/2936 (97%)]\tLoss: 4.279201\n",
      "====> Epoch: 75 Average train loss: 4.0115\n",
      "Train Epoch: 80 [1044/2936 (97%)]\tLoss: 4.155927\n",
      "====> Epoch: 80 Average train loss: 4.0091\n",
      "Train Epoch: 85 [1044/2936 (97%)]\tLoss: 3.980340\n",
      "====> Epoch: 85 Average train loss: 4.0054\n",
      "Train Epoch: 90 [1044/2936 (97%)]\tLoss: 3.943174\n",
      "====> Epoch: 90 Average train loss: 4.0048\n",
      "Train Epoch: 95 [1044/2936 (97%)]\tLoss: 3.710193\n",
      "====> Epoch: 95 Average train loss: 3.9994\n"
     ]
    }
   ],
   "source": [
    "# run\n",
    "trainer(train_loader, epochs=p.num_epochs)"
   ]
  },
  {
   "cell_type": "code",
   "execution_count": 5,
   "metadata": {},
   "outputs": [
    {
     "data": {
      "image/png": "[encoded data removed]",
      "text/plain": [
       "<Figure size 432x288 with 1 Axes>"
      ]
     },
     "metadata": {
      "needs_background": "light"
     },
     "output_type": "display_data"
    }
   ],
   "source": [
    "plt.plot(np.log(trainer.train_losses))\n",
    "plt.xlabel(\"epochs\")\n",
    "plt.ylabel(\"log train loss\")\n",
    "plt.title('Log-train loss vs epochs')\n",
    "plt.show()"
   ]
  },
  {
   "cell_type": "code",
   "execution_count": 6,
   "metadata": {},
   "outputs": [
    {
     "name": "stdout",
     "output_type": "stream",
     "text": [
      "calculating losses and metric...\n",
      "Recon=0.01734\n",
      " lsum=0.00000\n",
      " hsum=0.00000\n",
      " L2norm=0.00008\n",
      " CMF=0.00289\n",
      " conv=0.00015\n",
      " L1wave=3.89278\n",
      " Saliency=0.36998\n",
      " Inputxgrad=0.27894\n",
      "\n"
     ]
    }
   ],
   "source": [
    "print('calculating losses and metric...')\n",
    "model.train()  # cudnn RNN backward can only be called in training mode\n",
    "validator = awd.Validator(model, test_loader)\n",
    "rec_loss, lsum_loss, hsum_loss, L2norm_loss, CMF_loss, conv_loss, L1wave_loss, L1saliency_loss, L1inputxgrad_loss = validator(\n",
    "    wt, target=p.target)\n",
    "print(\"Recon={:.5f}\\n lsum={:.5f}\\n hsum={:.5f}\\n L2norm={:.5f}\\n CMF={:.5f}\\n conv={:.5f}\\n L1wave={:.5f}\\n Saliency={:.5f}\\n Inputxgrad={:.5f}\\n\".format(rec_loss,\n",
    "                                      lsum_loss,\n",
    "                                      hsum_loss,\n",
    "                                      L2norm_loss,\n",
    "                                      CMF_loss,\n",
    "                                      conv_loss,\n",
    "                                      L1wave_loss,\n",
    "                                      L1saliency_loss,\n",
    "                                      L1inputxgrad_loss))\n"
   ]
  },
  {
   "cell_type": "code",
   "execution_count": 7,
   "metadata": {},
   "outputs": [
    {
     "data": {
      "image/png": "[encoded data removed]",
      "text/plain": [
       "<Figure size 400x400 with 2 Axes>"
      ]
     },
     "metadata": {
      "needs_background": "light"
     },
     "output_type": "display_data"
    },
    {
     "data": {
      "image/png": "[encoded data removed]",
      "text/plain": [
       "<Figure size 600x300 with 2 Axes>"
      ]
     },
     "metadata": {
      "needs_background": "light"
     },
     "output_type": "display_data"
    }
   ],
   "source": [
    "filt = get_1dfilts(wt)\n",
    "phi, psi, x = get_wavefun(wt)\n",
    "\n",
    "plot_1dfilts(filt, is_title=True, figsize=(2,2))\n",
    "plot_wavefun((phi, psi, x), is_title=True, figsize=(2,1))"
   ]
  },
  {
   "cell_type": "code",
   "execution_count": null,
   "metadata": {},
   "outputs": [],
   "source": []
  },
  {
   "cell_type": "code",
   "execution_count": null,
   "metadata": {},
   "outputs": [],
   "source": []
  }
 ],
 "metadata": {
  "kernelspec": {
   "display_name": "Environment (conda_pytorch_p36)",
   "language": "python",
   "name": "conda_pytorch_p36"
  },
  "language_info": {
   "codemirror_mode": {
    "name": "ipython",
    "version": 3
   },
   "file_extension": ".py",
   "mimetype": "text/x-python",
   "name": "python",
   "nbconvert_exporter": "python",
   "pygments_lexer": "ipython3",
   "version": "3.6.10"
  }
 },
 "nbformat": 4,
 "nbformat_minor": 4
}
