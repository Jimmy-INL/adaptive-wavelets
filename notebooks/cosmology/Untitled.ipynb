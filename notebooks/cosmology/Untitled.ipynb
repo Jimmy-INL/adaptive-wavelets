{
 "cells": [
  {
   "cell_type": "code",
   "execution_count": 1,
   "metadata": {},
   "outputs": [],
   "source": [
    "%load_ext autoreload\n",
    "%autoreload 2\n",
    "%matplotlib inline\n",
    "import matplotlib.pyplot as plt\n",
    "import numpy as np\n",
    "import torch\n",
    "device = 'cuda' if torch.cuda.is_available() else 'cpu'\n",
    "import os,sys\n",
    "opj = os.path.join\n",
    "from copy import deepcopy\n",
    "from tqdm import tqdm\n",
    "import pickle as pkl\n",
    "import pandas as pd\n",
    "\n",
    "from ex_cosmology import p\n",
    "from dset import get_dataloader, load_pretrained_model\n",
    "from dset import get_validation\n",
    "\n",
    "# adaptive-wavelets modules\n",
    "from losses import get_loss_f\n",
    "from train import Trainer\n",
    "from evaluate import Validator\n",
    "from transform2d import DWT2d\n",
    "from utils import get_2dfilts, get_wavefun, low_to_high\n",
    "from wave_attributions import Attributer\n",
    "from visualize import cshow, plot_1dfilts, plot_2dfilts, plot_2dreconstruct, plot_wavefun\n",
    "\n",
    "# peakcounting\n",
    "from peak_counting import PeakCount, ModelPred, rmse"
   ]
  },
  {
   "cell_type": "code",
   "execution_count": null,
   "metadata": {},
   "outputs": [],
   "source": [
    "# get dataloader and model\n",
    "train_loader, test_loader = get_dataloader(p.data_path, \n",
    "                                           img_size=p.img_size[2],\n",
    "                                           split_train_test=True,\n",
    "                                           batch_size=p.batch_size) \n",
    "\n",
    "model = load_pretrained_model(model_name='resnet18', device=device, data_path=p.model_path)    \n",
    "\n",
    "# used for cross-validation\n",
    "val_loader = get_validation(p.data_path, \n",
    "                            img_size=p.img_size[2],\n",
    "                            batch_size=p.batch_size)"
   ]
  },
  {
   "cell_type": "markdown",
   "metadata": {},
   "source": [
    "# load results"
   ]
  },
  {
   "cell_type": "code",
   "execution_count": null,
   "metadata": {},
   "outputs": [],
   "source": [
    "# wavelet params\n",
    "waves = [\"db5\"]\n",
    "mode = \"zero\"\n",
    "J = 4\n",
    "\n",
    "# result path\n",
    "path = opj(os.getcwd(), \"results\")\n",
    "dirs = [wave + \"_saliency_warmstart_seed=1\" for wave in waves]\n",
    "\n",
    "results = []\n",
    "models = []\n",
    "for i in range(len(dirs)):\n",
    "    # load results\n",
    "    out_dir = opj(path, dirs[i])\n",
    "    fnames = sorted(os.listdir(out_dir))\n",
    "    \n",
    "    results_list = []\n",
    "    models_list = []\n",
    "    for fname in fnames:\n",
    "        if fname[-3:] == 'pkl':\n",
    "            results_list.append(pkl.load(open(opj(out_dir, fname), 'rb')))\n",
    "        if fname[-3:] == 'pth':\n",
    "            wt = DWT2d(wave=waves[i], mode=mode, J=J, init_factor=1, noise_factor=0.0).to(device)\n",
    "            wt.load_state_dict(torch.load(opj(out_dir, fname)))       \n",
    "            models_list.append(wt)\n",
    "    results.append(pd.DataFrame(results_list))\n",
    "    models.append(models_list)"
   ]
  },
  {
   "cell_type": "code",
   "execution_count": null,
   "metadata": {},
   "outputs": [],
   "source": [
    "# define indexes\n",
    "res = results[0]\n",
    "mos = models[0]\n",
    "lamL1wave = np.array(res['lamL1wave'])\n",
    "lamL1attr = np.array(res['lamL1attr'])\n",
    "lamL1wave_grid = np.unique(lamL1wave)\n",
    "lamL1attr_grid = np.unique(lamL1attr)\n",
    "R = len(lamL1wave_grid)\n",
    "C = len(lamL1attr_grid)\n",
    "\n",
    "# original wavelet\n",
    "wt_o = DWT2d(wave='db5', mode=mode, J=J).to(device)\n",
    "\n",
    "# collect results\n",
    "dic = {'psi':{},\n",
    "       'wt': {},\n",
    "       'lamL1wave': {},\n",
    "       'lamL1attr': {},\n",
    "       'index': {}}\n",
    "\n",
    "for r in range(R):\n",
    "    for c in range(C):\n",
    "        if lamL1attr_grid[c] <= 0.1:\n",
    "            loc = (lamL1wave == lamL1wave_grid[r]) & (lamL1attr == lamL1attr_grid[c])\n",
    "            if loc.sum() == 1: \n",
    "                loc = np.argwhere(loc).flatten()[0]\n",
    "                dic['index'][(r,c)] = loc\n",
    "                wt = mos[loc]\n",
    "                _, psi, x = get_wavefun(wt)\n",
    "\n",
    "                dic['wt'][(r,c)] = wt\n",
    "                dic['psi'][(r,c)] = psi     \n",
    "                dic['lamL1wave'][(r,c)] = lamL1wave_grid[r]\n",
    "                dic['lamL1attr'][(r,c)] = lamL1attr_grid[c]\n"
   ]
  },
  {
   "cell_type": "code",
   "execution_count": null,
   "metadata": {},
   "outputs": [],
   "source": [
    "wt = dic['wt'][(2,9)]"
   ]
  },
  {
   "cell_type": "code",
   "execution_count": null,
   "metadata": {},
   "outputs": [],
   "source": [
    "sys.path.append('../../lib/trim')\n",
    "from trim import TrimModel\n",
    "from utils import tuple_to_tensor, tensor_to_tuple\n",
    "\n",
    "# define trim model\n",
    "wt = wt.to('cpu')\n",
    "model = model.to('cpu')\n",
    "mt = TrimModel(model, wt.inverse, use_residuals=True)    \n",
    "attributer = Attributer(mt, attr_methods='Saliency', device='cpu')\n",
    "\n",
    "for j in range(5):\n",
    "    \n",
    "    reps = torch.tensor([])\n",
    "    attr = torch.tensor([])\n",
    "\n",
    "    for data, _ in test_loader:\n",
    "        data_t = wt(data)\n",
    "        with torch.backends.cudnn.flags(enabled=False):\n",
    "            attributions = attributer(data_t, target=0, additional_forward_args=deepcopy(data))\n",
    "    #     y, _ = tuple_to_tensor(data_t)\n",
    "        y = data_t[j].squeeze()\n",
    "        reps = torch.cat((reps, y), dim=0)     \n",
    "    #     z, _ = tuple_to_tensor(attributions)\n",
    "        z = attributions[j].squeeze()\n",
    "        attr = torch.cat((attr, z), dim=0)\n",
    "    reps = reps.reshape(-1)\n",
    "    attr = attr.reshape(-1)    \n",
    "\n",
    "    sort_indexes = torch.argsort(reps, dim=0, descending=False)    \n",
    "\n",
    "    plt.plot(reps[sort_indexes].detach().cpu())\n",
    "    plt.show()\n",
    "\n",
    "    plt.plot(attr[sort_indexes].detach().cpu())\n",
    "    plt.show()"
   ]
  },
  {
   "cell_type": "code",
   "execution_count": null,
   "metadata": {},
   "outputs": [],
   "source": []
  },
  {
   "cell_type": "code",
   "execution_count": null,
   "metadata": {},
   "outputs": [],
   "source": []
  },
  {
   "cell_type": "markdown",
   "metadata": {},
   "source": [
    "# extract kernels"
   ]
  },
  {
   "cell_type": "code",
   "execution_count": 5,
   "metadata": {},
   "outputs": [],
   "source": [
    "def extract_patches(h, g, centering=True):\n",
    "    \"\"\"Given 1-d filters h, g, extract 3x3 LH,HL,HH filters with largest variation\n",
    "    \"\"\"\n",
    "    hc = h - h.mean()\n",
    "    var = []\n",
    "    for left in range(len(h)-3):\n",
    "        v = torch.sum((hc[left:left+3])**2)\n",
    "        var.append(v)\n",
    "    var = np.array(var)\n",
    "    h_small = h[np.argmax(var):np.argmax(var)+3]\n",
    "    \n",
    "    gc = g - g.mean()\n",
    "    var = []\n",
    "    for left in range(len(g)-3):\n",
    "        v = torch.sum((gc[left:left+3])**2)\n",
    "        var.append(v)\n",
    "    var = np.array(var)\n",
    "    g_small = g[np.argmax(var):np.argmax(var)+3]\n",
    "    \n",
    "    lh = h_small.unsqueeze(0)*g_small.unsqueeze(1)\n",
    "    hl = g_small.unsqueeze(0)*h_small.unsqueeze(1)\n",
    "    hh = g_small.unsqueeze(0)*g_small.unsqueeze(1)\n",
    "    \n",
    "    if centering:\n",
    "        lh -= lh.mean()\n",
    "        hl -= hl.mean()\n",
    "        hh -= hh.mean()\n",
    "    \n",
    "    return [lh, hl, hh]"
   ]
  },
  {
   "cell_type": "code",
   "execution_count": 6,
   "metadata": {},
   "outputs": [],
   "source": [
    "kern_list = []\n",
    "for wt in [wt_o] + list(dic['wt'].values()):\n",
    "    filt = get_2dfilts(wt)\n",
    "    h = filt[0][0]\n",
    "    g = filt[0][1]\n",
    "    kern_list.append(extract_patches(h, g))\n"
   ]
  },
  {
   "cell_type": "markdown",
   "metadata": {},
   "source": [
    "# peak counting methods"
   ]
  },
  {
   "cell_type": "code",
   "execution_count": null,
   "metadata": {},
   "outputs": [
    {
     "name": "stderr",
     "output_type": "stream",
     "text": [
      "  0%|          | 0/10 [00:00<?, ?it/s]\n",
      "  0%|          | 0/45 [00:00<?, ?it/s]\u001b[A\n",
      "  2%|▏         | 1/45 [03:26<2:31:31, 206.63s/it]\u001b[A\n",
      "  4%|▍         | 2/45 [06:49<2:27:14, 205.46s/it]\u001b[A\n",
      "  7%|▋         | 3/45 [10:11<2:23:05, 204.41s/it]\u001b[A\n",
      "  9%|▉         | 4/45 [13:34<2:19:29, 204.14s/it]\u001b[A\n",
      " 11%|█         | 5/45 [16:58<2:15:54, 203.86s/it]\u001b[A\n",
      " 13%|█▎        | 6/45 [20:21<2:12:27, 203.79s/it]\u001b[A\n",
      " 16%|█▌        | 7/45 [23:46<2:09:10, 203.96s/it]\u001b[A\n",
      " 18%|█▊        | 8/45 [27:05<2:04:53, 202.52s/it]\u001b[A\n",
      " 20%|██        | 9/45 [30:29<2:01:45, 202.92s/it]\u001b[A\n",
      " 22%|██▏       | 10/45 [33:56<1:59:07, 204.20s/it]\u001b[A\n",
      " 24%|██▍       | 11/45 [37:24<1:56:23, 205.41s/it]\u001b[A\n",
      " 27%|██▋       | 12/45 [40:48<1:52:46, 205.04s/it]\u001b[A\n",
      " 29%|██▉       | 13/45 [44:06<1:48:09, 202.79s/it]\u001b[A\n",
      " 31%|███       | 14/45 [47:31<1:45:06, 203.45s/it]\u001b[A\n",
      " 33%|███▎      | 15/45 [50:52<1:41:22, 202.76s/it]\u001b[A\n",
      " 36%|███▌      | 16/45 [54:17<1:38:22, 203.53s/it]\u001b[A\n",
      " 38%|███▊      | 17/45 [57:42<1:35:09, 203.91s/it]\u001b[A\n",
      " 40%|████      | 18/45 [1:01:06<1:31:43, 203.82s/it]\u001b[A\n",
      " 42%|████▏     | 19/45 [1:04:34<1:28:53, 205.12s/it]\u001b[A\n",
      " 44%|████▍     | 20/45 [1:07:56<1:25:05, 204.21s/it]\u001b[A\n",
      " 47%|████▋     | 21/45 [1:11:21<1:21:46, 204.43s/it]\u001b[A\n",
      " 49%|████▉     | 22/45 [1:14:44<1:18:16, 204.18s/it]\u001b[A\n",
      " 51%|█████     | 23/45 [1:18:08<1:14:50, 204.09s/it]\u001b[A\n",
      " 53%|█████▎    | 24/45 [1:21:32<1:11:23, 203.98s/it]\u001b[A\n",
      " 56%|█████▌    | 25/45 [1:24:59<1:08:16, 204.85s/it]\u001b[A\n",
      " 58%|█████▊    | 26/45 [1:28:21<1:04:34, 203.91s/it]\u001b[A\n",
      " 60%|██████    | 27/45 [1:31:42<1:00:55, 203.06s/it]\u001b[A\n",
      " 62%|██████▏   | 28/45 [1:35:07<57:42, 203.66s/it]  \u001b[A\n",
      " 64%|██████▍   | 29/45 [1:38:32<54:24, 204.05s/it]\u001b[A\n",
      " 67%|██████▋   | 30/45 [1:41:54<50:53, 203.57s/it]\u001b[A\n",
      " 69%|██████▉   | 31/45 [1:45:22<47:48, 204.92s/it]\u001b[A\n",
      " 71%|███████   | 32/45 [1:48:48<44:26, 205.14s/it]\u001b[A\n",
      " 73%|███████▎  | 33/45 [1:52:16<41:11, 205.93s/it]\u001b[A\n",
      " 76%|███████▌  | 34/45 [1:55:41<37:43, 205.75s/it]\u001b[A\n",
      " 78%|███████▊  | 35/45 [1:59:08<34:21, 206.12s/it]\u001b[A\n",
      " 80%|████████  | 36/45 [2:02:36<30:59, 206.61s/it]\u001b[A\n",
      " 82%|████████▏ | 37/45 [2:05:58<27:23, 205.41s/it]\u001b[A\n",
      " 84%|████████▍ | 38/45 [2:09:23<23:56, 205.23s/it]\u001b[A\n",
      " 87%|████████▋ | 39/45 [2:12:46<20:27, 204.53s/it]\u001b[A\n",
      " 89%|████████▉ | 40/45 [2:16:06<16:56, 203.26s/it]\u001b[A\n",
      " 91%|█████████ | 41/45 [2:19:33<13:37, 204.35s/it]\u001b[A\n",
      " 93%|█████████▎| 42/45 [2:22:59<10:14, 204.68s/it]\u001b[A"
     ]
    }
   ],
   "source": [
    "bds = np.linspace(0.01,0.1,10)\n",
    "scores = np.zeros((len(bds), len(kern_list)))\n",
    "\n",
    "for i,b in tqdm(enumerate(bds), total=len(bds)):\n",
    "    for j,kernels in tqdm(enumerate(kern_list), total=len(kern_list)):\n",
    "        pcw = PeakCount(peak_counting_method='custom', \n",
    "                        bins=np.linspace(0,b,23),\n",
    "                        kernels=kernels)\n",
    "        pcw.fit(train_loader)\n",
    "        y_preds, y_params = pcw.predict(val_loader)\n",
    "        scores[i,j] = rmse(y_params, y_preds)\n",
    "print(min(scores))"
   ]
  },
  {
   "cell_type": "code",
   "execution_count": null,
   "metadata": {},
   "outputs": [],
   "source": []
  },
  {
   "cell_type": "code",
   "execution_count": null,
   "metadata": {},
   "outputs": [],
   "source": []
  },
  {
   "cell_type": "code",
   "execution_count": null,
   "metadata": {},
   "outputs": [],
   "source": []
  },
  {
   "cell_type": "code",
   "execution_count": null,
   "metadata": {},
   "outputs": [],
   "source": []
  },
  {
   "cell_type": "markdown",
   "metadata": {},
   "source": [
    "# Optimal filter"
   ]
  },
  {
   "cell_type": "code",
   "execution_count": 37,
   "metadata": {},
   "outputs": [
    {
     "name": "stdout",
     "output_type": "stream",
     "text": [
      "Hyperparameter: lamL1wave=0.036840 lamL1attr=0.018330\n",
      "Error: Recon=0.072508\n",
      "Sparsity: Wave=94.031537\n",
      "Interp: Saliency=110.056568 InputXGrade=0.784110\n",
      "Wavelet loss: lSum=0.000005 hsum=0.000000 L2norm=0.000145 CMF=0.009998 Conv=0.000489\n"
     ]
    },
    {
     "data": {
      "image/png": "[encoded data removed]",
      "text/plain": [
       "<Figure size 400x400 with 2 Axes>"
      ]
     },
     "metadata": {
      "needs_background": "light"
     },
     "output_type": "display_data"
    },
    {
     "data": {
      "image/png": "[encoded data removed]",
      "text/plain": [
       "<Figure size 1000x1000 with 3 Axes>"
      ]
     },
     "metadata": {
      "needs_background": "light"
     },
     "output_type": "display_data"
    },
    {
     "data": {
      "image/png": "[encoded data removed]",
      "text/plain": [
       "<Figure size 900x300 with 2 Axes>"
      ]
     },
     "metadata": {
      "needs_background": "light"
     },
     "output_type": "display_data"
    }
   ],
   "source": [
    "score = np.array(score)\n",
    "idx = 0\n",
    "idx1, idx2 = index2t[np.argsort(score)[idx]]\n",
    "wt = wt_list[np.argsort(score)[idx]]\n",
    "filt = get_2dfilts(wt)\n",
    "\n",
    "# print \n",
    "print('Hyperparameter: lamL1wave={:.6f} lamL1attr={:.6f}'.format(res['lamL1wave'][index2o[(idx1, idx2)]], res['lamL1attr'][index2o[(idx1, idx2)]]))\n",
    "print('Error: Recon={:.6f}'.format(res['rec_loss'][index2o[(idx1, idx2)]]))\n",
    "print('Sparsity: Wave={:.6f}'.format(res['L1wave_loss'][index2o[(idx1, idx2)]]))\n",
    "print('Interp: Saliency={:.6f} InputXGrade={:.6f}'.format(res['L1saliency_loss'][index2o[(idx1, idx2)]], res['L1inputxgrad_loss'][index2o[(idx1, idx2)]]))\n",
    "print('Wavelet loss: lSum={:.6f} hsum={:.6f} L2norm={:.6f} CMF={:.6f} Conv={:.6f}'.format(res['lsum_loss'][index2o[(idx1, idx2)]],\n",
    "                                                                                          res['hsum_loss'][index2o[(idx1, idx2)]],\n",
    "                                                                                          res['L2norm_loss'][index2o[(idx1, idx2)]],\n",
    "                                                                                          res['CMF_loss'][index2o[(idx1, idx2)]],\n",
    "                                                                                          res['conv_loss'][index2o[(idx1, idx2)]]))\n",
    "\n",
    "# plot filters\n",
    "plot_1dfilts(filt[0], is_title=True, figsize=(2,2))\n",
    "plot_2dfilts(filt[1], figsize=(5,5))\n",
    "plot_wavefun(get_wavefun(wt), is_title=True, figsize=(3,1))"
   ]
  },
  {
   "cell_type": "code",
   "execution_count": 41,
   "metadata": {},
   "outputs": [
    {
     "name": "stdout",
     "output_type": "stream",
     "text": [
      "0.0001666213540533394\n"
     ]
    }
   ],
   "source": [
    "kernels = kern_list[np.argsort(score)[idx]]\n",
    "pcw = PeakCount(peak_counting_method='custom', \n",
    "                bins=np.linspace(0,0.02,23),\n",
    "                kernels=kernels)\n",
    "pcw.fit(train_loader)\n",
    "y_preds, y_params = pcw.predict(test_loader)\n",
    "print(rmse(y_params, y_preds))"
   ]
  },
  {
   "cell_type": "code",
   "execution_count": null,
   "metadata": {},
   "outputs": [],
   "source": []
  }
 ],
 "metadata": {
  "kernelspec": {
   "display_name": "Environment (conda_pytorch_p36)",
   "language": "python",
   "name": "conda_pytorch_p36"
  },
  "language_info": {
   "codemirror_mode": {
    "name": "ipython",
    "version": 3
   },
   "file_extension": ".py",
   "mimetype": "text/x-python",
   "name": "python",
   "nbconvert_exporter": "python",
   "pygments_lexer": "ipython3",
   "version": "3.6.10"
  }
 },
 "nbformat": 4,
 "nbformat_minor": 4
}
