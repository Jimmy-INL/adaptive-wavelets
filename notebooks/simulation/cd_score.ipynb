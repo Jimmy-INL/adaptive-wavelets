{
 "cells": [
  {
   "cell_type": "code",
   "execution_count": 3,
   "metadata": {},
   "outputs": [],
   "source": [
    "%load_ext autoreload\n",
    "%autoreload 2\n",
    "%matplotlib inline\n",
    "import matplotlib.pyplot as plt\n",
    "import numpy as np\n",
    "import torch\n",
    "device = 'cuda' if torch.cuda.is_available() else 'cpu'\n",
    "import os,sys\n",
    "opj = os.path.join\n",
    "from copy import deepcopy\n",
    "import pickle as pkl\n",
    "from tqdm import tqdm\n",
    "from torch.utils.data import TensorDataset, DataLoader\n",
    "\n",
    "from sim_simulation import p\n",
    "sys.path.append('models')\n",
    "from models import Feedforward\n",
    "# adaptive-wavelets modules\n",
    "from losses import get_loss_f\n",
    "from train import Trainer\n",
    "from evaluate import Validator\n",
    "from transform1d import DWT1d\n",
    "from utils import get_1dfilts, get_wavefun\n",
    "from wave_attributions import Attributer\n",
    "from visualize import cshow, plot_1dfilts, plot_1dreconstruct\n",
    "\n",
    "sys.path.append('../../lib/trim')\n",
    "from trim import TrimModel\n",
    "import acd\n",
    "from acd.scores import cd_propagate\n",
    "from acd.scores import cd"
   ]
  },
  {
   "cell_type": "code",
   "execution_count": 3,
   "metadata": {},
   "outputs": [],
   "source": [
    "# seed\n",
    "np.random.seed(p.seed)\n",
    "torch.manual_seed(p.seed)\n",
    "\n",
    "# wavelet transform \n",
    "wt = DWT1d(wave='db5', mode='zero', J=4, init_factor=1, noise_factor=0)\n",
    "# freeze layers\n",
    "for param in wt.parameters():\n",
    "    param.requires_grad = False  \n",
    "\n",
    "n = 55000\n",
    "d = 64\n",
    "X = torch.randn(n, 1, d)\n",
    "X_t = wt(X)\n",
    "# re = wt(torch.randn(1, 1, p.d).to(device))\n",
    "# data_t = ()\n",
    "# for scale in range(len(re)):\n",
    "#     dim = re[scale].size(2)\n",
    "#     pr = torch.bernoulli(0.1 * torch.ones(p.n, 1, dim))\n",
    "#     rn = abs(torch.randn(p.n, 1, dim))\n",
    "#     data_t += ((pr * rn).to(device),)\n",
    "# data = wt.inverse(data_t)\n",
    "\n",
    "# generate y\n",
    "beta = ()\n",
    "for i in range(len(X_t)):\n",
    "    beta += (torch.zeros_like(X_t[i][0:1,...]),)\n",
    "beta[p.scale_knockout][..., p.idx_knockout - p.window: p.idx_knockout + p.window + 1] = 2.0\n",
    "\n",
    "y = 0\n",
    "for x, b in zip(X_t, beta):\n",
    "    y += torch.matmul(x.squeeze(), b.squeeze())\n",
    "eps = 0.1 * torch.randn_like(y)\n",
    "y = y + eps"
   ]
  },
  {
   "cell_type": "markdown",
   "metadata": {},
   "source": [
    "create data"
   ]
  },
  {
   "cell_type": "code",
   "execution_count": 4,
   "metadata": {},
   "outputs": [],
   "source": [
    "X_train = X[:50000]\n",
    "y_train = y[:50000]\n",
    "X_test = X[50000:]\n",
    "y_test = y[50000:]\n",
    "\n",
    "train_loader = DataLoader(TensorDataset(X_train, y_train), \n",
    "                          batch_size=100,\n",
    "                          shuffle=True) \n",
    "test_loader = DataLoader(TensorDataset(X_test, y_test), \n",
    "                          batch_size=100,\n",
    "                          shuffle=False) \n",
    "\n",
    "# load model\n",
    "model = Feedforward(input_size=d).to(device)\n",
    "model.load_state_dict(torch.load('models/FFN.pth'))\n",
    "model.eval()\n",
    "for param in model.parameters():\n",
    "    param.requires_grad = False  "
   ]
  },
  {
   "cell_type": "markdown",
   "metadata": {},
   "source": [
    "# load data and model"
   ]
  },
  {
   "cell_type": "code",
   "execution_count": 5,
   "metadata": {},
   "outputs": [
    {
     "name": "stdout",
     "output_type": "stream",
     "text": [
      "Reconstruction error=0.00000\n"
     ]
    }
   ],
   "source": [
    "# get image\n",
    "data = iter(test_loader).next()[0].to(device)\n",
    "\n",
    "# wavelet transform \n",
    "wt = DWT1d(wave='db5', mode='zero', J=4, init_factor=1, noise_factor=0.0).to(device)\n",
    "\n",
    "data_t = wt(data)\n",
    "recon = wt.inverse(data_t)\n",
    "\n",
    "print(\"Reconstruction error={:.5f}\".format(torch.norm(recon - data)**2/data.size(0)))"
   ]
  },
  {
   "cell_type": "code",
   "execution_count": 6,
   "metadata": {},
   "outputs": [
    {
     "name": "stdout",
     "output_type": "stream",
     "text": [
      "shape of data / recon torch.Size([100, 1, 64]) torch.Size([100, 1, 64])\n",
      "shape of wavelet coeffs torch.Size([100, 1, 12])\n",
      "shape of wavelet coeffs torch.Size([100, 1, 36])\n",
      "shape of wavelet coeffs torch.Size([100, 1, 22])\n",
      "shape of wavelet coeffs torch.Size([100, 1, 15])\n",
      "shape of wavelet coeffs torch.Size([100, 1, 12])\n"
     ]
    }
   ],
   "source": [
    "print('shape of data / recon', data.shape, recon.shape)\n",
    "for i in range(len(data_t)):\n",
    "    print('shape of wavelet coeffs', data_t[i].shape)"
   ]
  },
  {
   "cell_type": "code",
   "execution_count": 7,
   "metadata": {},
   "outputs": [
    {
     "name": "stdout",
     "output_type": "stream",
     "text": [
      "reconstruction error: 0.00000\n"
     ]
    }
   ],
   "source": [
    "print('reconstruction error: {:.5f}'.format(torch.norm(data - recon).item()/data.size(0)))"
   ]
  },
  {
   "cell_type": "code",
   "execution_count": 8,
   "metadata": {},
   "outputs": [
    {
     "name": "stdout",
     "output_type": "stream",
     "text": [
      "tensor([[[0.]],\n",
      "\n",
      "        [[0.]],\n",
      "\n",
      "        [[0.]],\n",
      "\n",
      "        [[0.]],\n",
      "\n",
      "        [[0.]]], device='cuda:0', grad_fn=<SubBackward0>)\n"
     ]
    }
   ],
   "source": [
    "# trim model\n",
    "mt = TrimModel(model, wt.inverse, use_residuals=True).to(device)\n",
    "out = mt(data_t, deepcopy(data))\n",
    "print(out[:5] - model(data)[:5])"
   ]
  },
  {
   "cell_type": "markdown",
   "metadata": {},
   "source": [
    "# calculate cd score in original domain"
   ]
  },
  {
   "cell_type": "code",
   "execution_count": 9,
   "metadata": {},
   "outputs": [],
   "source": [
    "data = data[:30]\n",
    "mask = torch.zeros_like(data)\n",
    "mask[:,0,0] = 1"
   ]
  },
  {
   "cell_type": "code",
   "execution_count": 1,
   "metadata": {},
   "outputs": [
    {
     "ename": "NameError",
     "evalue": "name 'cd' is not defined",
     "output_type": "error",
     "traceback": [
      "\u001b[0;31m---------------------------------------------------------------------------\u001b[0m",
      "\u001b[0;31mNameError\u001b[0m                                 Traceback (most recent call last)",
      "\u001b[0;32m<ipython-input-1-852edd5cfc85>\u001b[0m in \u001b[0;36m<module>\u001b[0;34m\u001b[0m\n\u001b[0;32m----> 1\u001b[0;31m \u001b[0mrel\u001b[0m\u001b[0;34m,\u001b[0m \u001b[0mirrel\u001b[0m \u001b[0;34m=\u001b[0m \u001b[0mcd\u001b[0m\u001b[0;34m.\u001b[0m\u001b[0mcd\u001b[0m\u001b[0;34m(\u001b[0m\u001b[0mdata\u001b[0m\u001b[0;34m,\u001b[0m \u001b[0mmodel\u001b[0m\u001b[0;34m,\u001b[0m \u001b[0mmask\u001b[0m\u001b[0;34m,\u001b[0m \u001b[0mmodel_type\u001b[0m\u001b[0;34m=\u001b[0m\u001b[0;32mNone\u001b[0m\u001b[0;34m,\u001b[0m \u001b[0mdevice\u001b[0m\u001b[0;34m=\u001b[0m\u001b[0;34m'cuda'\u001b[0m\u001b[0;34m)\u001b[0m\u001b[0;34m\u001b[0m\u001b[0;34m\u001b[0m\u001b[0m\n\u001b[0m",
      "\u001b[0;31mNameError\u001b[0m: name 'cd' is not defined"
     ]
    }
   ],
   "source": [
    "rel, irrel = cd.cd(data, model, mask, model_type=None, device='cuda')"
   ]
  },
  {
   "cell_type": "code",
   "execution_count": 4,
   "metadata": {},
   "outputs": [
    {
     "data": {
      "text/plain": [
       "<function acd.scores.cd.cd(im_torch:torch.Tensor, model, mask=None, model_type=None, device='cuda', transform=None)>"
      ]
     },
     "execution_count": 4,
     "metadata": {},
     "output_type": "execute_result"
    }
   ],
   "source": [
    "cd.cd"
   ]
  },
  {
   "cell_type": "markdown",
   "metadata": {},
   "source": [
    "# compute cd score in wavelet domain"
   ]
  },
  {
   "cell_type": "code",
   "execution_count": null,
   "metadata": {},
   "outputs": [],
   "source": [
    "data_t = wt(data) # select some coefs of data_t to interpret (so maybe zero all but one coefs)\n",
    "rel = wt.inverse(data_t)\n",
    "irrel = data - rel"
   ]
  },
  {
   "cell_type": "code",
   "execution_count": null,
   "metadata": {},
   "outputs": [],
   "source": []
  },
  {
   "cell_type": "code",
   "execution_count": null,
   "metadata": {},
   "outputs": [],
   "source": []
  }
 ],
 "metadata": {
  "kernelspec": {
   "display_name": "Environment (conda_pytorch_p36)",
   "language": "python",
   "name": "conda_pytorch_p36"
  },
  "language_info": {
   "codemirror_mode": {
    "name": "ipython",
    "version": 3
   },
   "file_extension": ".py",
   "mimetype": "text/x-python",
   "name": "python",
   "nbconvert_exporter": "python",
   "pygments_lexer": "ipython3",
   "version": "3.6.10"
  }
 },
 "nbformat": 4,
 "nbformat_minor": 4
}
