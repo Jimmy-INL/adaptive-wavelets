{
 "cells": [
  {
   "cell_type": "code",
   "execution_count": 1,
   "metadata": {},
   "outputs": [],
   "source": [
    "%load_ext autoreload\n",
    "%autoreload 2\n",
    "%matplotlib inline\n",
    "import matplotlib.pyplot as plt\n",
    "import numpy as np\n",
    "import torch\n",
    "import random\n",
    "device = 'cuda' if torch.cuda.is_available() else 'cpu'\n",
    "import os,sys\n",
    "opj = os.path.join\n",
    "from copy import deepcopy\n",
    "import pickle as pkl\n",
    "\n",
    "sys.path.append('../../src')\n",
    "sys.path.append('../../src/vae/models')\n",
    "sys.path.append('../../src/dsets/cosmology')\n",
    "from dset import get_dataloader\n",
    "from losses import _reconstruction_loss\n",
    "from viz import viz_im_r, cshow, viz_filters\n",
    "from sim_cosmology import p, load_dataloader_and_pretrained_model\n",
    "from captum.attr import *\n",
    "\n",
    "from wavelet_transform import DTCWT_Transform, DTCWT_Mask, tuple_Attributer, TrimModel"
   ]
  },
  {
   "cell_type": "markdown",
   "metadata": {},
   "source": [
    "## load data and model"
   ]
  },
  {
   "cell_type": "code",
   "execution_count": 6,
   "metadata": {},
   "outputs": [],
   "source": [
    "# get dataloader and model\n",
    "train_loader, model = load_dataloader_and_pretrained_model(p)\n",
    "\n",
    "# set up trim model and wavelet transform\n",
    "# wavelet transform\n",
    "wt = DTCWT_Transform(J=5)\n",
    "\n",
    "# prepend transformation onto network\n",
    "def transform_i(x, x_orig, indx=0):\n",
    "    '''\n",
    "    DTCWT inverse transform \n",
    "    -----------------------\n",
    "    x : torch.Tensor\n",
    "    x_orig : tuple\n",
    "            detached original input \n",
    "    '''\n",
    "    x_orig = list(x_orig)\n",
    "    x_orig[indx] = x    \n",
    "    return wt.inverse(x_orig)\n",
    "\n",
    "model_t = TrimModel(model, transform_i)"
   ]
  },
  {
   "cell_type": "markdown",
   "metadata": {},
   "source": [
    "## sort in decreasing order"
   ]
  },
  {
   "cell_type": "code",
   "execution_count": 10,
   "metadata": {},
   "outputs": [],
   "source": [
    "# input\n",
    "torch.manual_seed(p.seed)\n",
    "im = iter(train_loader).next()[0][0:2].to(device)\n",
    "im.requires_grad = True\n",
    "\n",
    "# wavelet transform\n",
    "im_w = wt(im)\n",
    "\n",
    "# interp score\n",
    "attributer = tuple_Attributer(model_t, attr_methods='IntegratedGradients')\n",
    "attributions = attributer(im_w, target=1)"
   ]
  },
  {
   "cell_type": "code",
   "execution_count": null,
   "metadata": {},
   "outputs": [],
   "source": [
    "# sparsity level\n",
    "num_sp = 20\n",
    "sp_level = np.geomspace(1, 262144, num_sp).astype(np.int)\n",
    "\n",
    "# viz\n",
    "plt.figure(figsize=(25,25))\n",
    "vmax=0.15\n",
    "vmin=-0.05\n",
    "n_row = 2\n",
    "n_col = 10\n",
    "p = 256 + 2\n",
    "mosaic = np.zeros((p*n_row,p*n_col))\n",
    "indx = 0\n",
    "for i in range(n_row):\n",
    "    for j in range(n_col):\n",
    "        # sort attribution\n",
    "        b = torch.tensor([])\n",
    "        list_of_size = [0]\n",
    "\n",
    "        for k in range(6):\n",
    "            a = attribution[k].cpu().reshape(-1)\n",
    "            b = torch.cat((b,a))\n",
    "            list_of_size.append(list_of_size[-1] + a.shape[0])\n",
    "        sort_order = torch.argsort(b, descending=True) \n",
    "        m = torch.zeros_like(b)\n",
    "        m[sort_order[:sp_level[indx]]] = 1\n",
    "\n",
    "        list_of_m = []\n",
    "        for k in range(6):\n",
    "            n0 = list_of_size[k]\n",
    "            n1 = list_of_size[k+1]\n",
    "            list_of_m.append(m[n0:n1].reshape(im_w[k].shape))\n",
    "\n",
    "        wm_list = []\n",
    "        for k in range(6):\n",
    "            wm_list.append(torch.mul(list_of_m[k].to(device), im_w[k]))\n",
    "        wm_list = tuple(wm_list)\n",
    "\n",
    "        im_ = ifm(wm_list).squeeze().data.cpu().numpy()        \n",
    "        mosaic[i*p:(i+1)*p,j*p:(j+1)*p] = np.pad(im_,(1,1),mode='constant')\n",
    "        indx += 1\n",
    "plt.title(\"varying sparsity penalty on wavelet coefficients\")\n",
    "plt.imshow(mosaic, cmap='magma', vmax=vmax, vmin=vmin)\n",
    "plt.axis('off')    \n",
    "plt.show()         \n",
    "        "
   ]
  },
  {
   "cell_type": "code",
   "execution_count": null,
   "metadata": {},
   "outputs": [],
   "source": [
    "res = xfm(im)\n",
    "rec = ifm(res)\n",
    "viz_im_r(im[0,0], rec[0,0])"
   ]
  },
  {
   "cell_type": "code",
   "execution_count": null,
   "metadata": {},
   "outputs": [],
   "source": [
    "torch.norm(im[0,0] - rec[0,0])"
   ]
  },
  {
   "cell_type": "code",
   "execution_count": null,
   "metadata": {},
   "outputs": [],
   "source": []
  }
 ],
 "metadata": {
  "kernelspec": {
   "display_name": "Environment (conda_pytorch_p36)",
   "language": "python",
   "name": "conda_pytorch_p36"
  },
  "language_info": {
   "codemirror_mode": {
    "name": "ipython",
    "version": 3
   },
   "file_extension": ".py",
   "mimetype": "text/x-python",
   "name": "python",
   "nbconvert_exporter": "python",
   "pygments_lexer": "ipython3",
   "version": "3.6.10"
  }
 },
 "nbformat": 4,
 "nbformat_minor": 4
}
