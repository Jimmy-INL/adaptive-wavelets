{
 "cells": [
  {
   "cell_type": "code",
   "execution_count": 1,
   "metadata": {},
   "outputs": [],
   "source": [
    "%load_ext autoreload\n",
    "%autoreload 2\n",
    "%matplotlib inline\n",
    "import matplotlib.pyplot as plt\n",
    "import numpy as np\n",
    "import torch\n",
    "device = 'cuda' if torch.cuda.is_available() else 'cpu'\n",
    "import os,sys\n",
    "opj = os.path.join\n",
    "from copy import deepcopy\n",
    "import pickle as pkl\n",
    "from tqdm import tqdm\n",
    "import pandas as pd\n",
    "\n",
    "from sim_cosmology import p, load_dataloader_and_pretrained_model\n",
    "p.data_path = '../../src/dsets/cosmology/data'\n",
    "p.model_path = '../../src/dsets/cosmology/data'\n",
    "# adaptive-wavelets modules\n",
    "from losses import get_loss_f\n",
    "from train import Trainer\n",
    "from evaluate import Validator\n",
    "from transform2d import DWT2d\n",
    "from utils import get_1dfilts, get_2dfilts, get_wavefun\n",
    "from wave_attributions import Attributer\n",
    "from visualize import cshow, plot_1dfilts, plot_2dfilts, plot_2dreconstruct, plot_wavefun\n",
    "\n",
    "# peakcounting\n",
    "from astropy.io import fits\n",
    "import cv2\n",
    "from skimage.filters import sobel\n",
    "import torch.nn.functional as F"
   ]
  },
  {
   "cell_type": "code",
   "execution_count": 2,
   "metadata": {},
   "outputs": [],
   "source": [
    "# get dataloader and model\n",
    "(train_loader, test_loader), model = load_dataloader_and_pretrained_model(p, img_size=256)"
   ]
  },
  {
   "cell_type": "code",
   "execution_count": 59,
   "metadata": {},
   "outputs": [],
   "source": [
    "class PeakCount():\n",
    "    \"\"\" Peak counting model.\"\"\"\n",
    "    \n",
    "    def __init__(self, peak_counting_method='custom',\n",
    "                 bins=np.arange(-0.03,0.19,0.01),\n",
    "                 kernel=None):\n",
    "        self.peak_counting_method = peak_counting_method\n",
    "        self.bins = bins\n",
    "        self.kernel = kernel[None,None] if kernel is not None else kernel\n",
    "        assert self.peak_counting_method in ['original',\n",
    "                                             'laplace_v1',\n",
    "                                             'laplace_v2',\n",
    "                                             'roberts_cross',\n",
    "                                             'custom']\n",
    "        if self.peak_counting_method == 'custom':\n",
    "            assert kernel is not None, \"if using custom kernel, must also pass kernel!\"\n",
    "        \n",
    "        \n",
    "    def fit(self, dataloader):\n",
    "        \"\"\"Calculate the mean peak counts and covariances.\"\"\"\n",
    "        self.peak_list = {}\n",
    "        for data, params in dataloader:\n",
    "            n_batch = data.size(0)\n",
    "            hps = self.peak_count(data)\n",
    "            for i in range(n_batch):\n",
    "                params_list = tuple([params[i,k].item() for k in range(3)])\n",
    "                if params_list in self.peak_list:\n",
    "                    self.peak_list[params_list].append(hps[i])\n",
    "                else:\n",
    "                    self.peak_list[params_list] = [hps[i]]\n",
    "\n",
    "        self.mean_peaks = {}  \n",
    "        self.inv_cov = {}   \n",
    "        for k,v in self.peak_list.items():\n",
    "            self.mean_peaks[k] = np.mean(v, axis=0)\n",
    "            vm = np.vstack(v).T\n",
    "            self.inv_cov[k] = np.linalg.pinv(np.cov(vm))                       \n",
    "                \n",
    "\n",
    "    def predict(self, dataloader):\n",
    "        \"\"\"Predict on image with peak counts.\"\"\"\n",
    "        y_preds = []\n",
    "        y_params = []\n",
    "        ks = sorted(self.mean_peaks.keys())\n",
    "        for data, params in dataloader:\n",
    "            n_batch = data.size(0)\n",
    "            hps = self.peak_count(data)\n",
    "            \n",
    "            chis = []\n",
    "            for k in ks:\n",
    "                d = hps - self.mean_peaks[k]\n",
    "                chis.append((d.T * (self.inv_cov[k] @ d.T)).sum(axis=0))\n",
    "            chis = np.vstack(chis).T\n",
    "            idx = np.argmin(chis, axis=1)\n",
    "            \n",
    "            preds = []\n",
    "            for i in idx:\n",
    "                preds.append(ks[i])\n",
    "            preds = np.vstack(preds)  \n",
    "            y_preds.append(preds)\n",
    "            y_params.append(params.cpu().numpy())\n",
    "        y_preds = np.vstack(y_preds)\n",
    "        y_params = np.vstack(y_params)\n",
    "        return y_preds, y_params\n",
    "\n",
    "\n",
    "    def find_peaks(self, ims):\n",
    "        \"\"\"Find peaks in bw image.\"\"\"\n",
    "        assert len(ims.shape)==4, \"shape = (batch size, n_channel, height, width)\"\n",
    "        p =  ims[...,1:-1,1:-1] > ims[...,:-2,:-2]  # top left\n",
    "        p &= ims[...,1:-1,1:-1] > ims[...,:-2,1:-1]  # top center  \n",
    "        p &= ims[...,1:-1,1:-1] > ims[...,:-2,2:]  # top right\n",
    "        p &= ims[...,1:-1,1:-1] > ims[...,1:-1,:-2]  # center left \n",
    "        p &= ims[...,1:-1,1:-1] > ims[...,1:-1,2:]  # center right \n",
    "        p &= ims[...,1:-1,1:-1] > ims[...,2:,:-2]  # bottom left\n",
    "        p &= ims[...,1:-1,1:-1] > ims[...,2:,1:-1]  # bottom center\n",
    "        p &= ims[...,1:-1,1:-1] > ims[...,2:,2:]   # bottom right\n",
    "        return p\n",
    "    \n",
    "\n",
    "    def laplace_v1(self, ims):\n",
    "        \"\"\"Characterize peaks with laplace kernel in image.\"\"\"\n",
    "        L = 10/3 * torch.tensor([[-0.05, -0.2, -0.05], \n",
    "                                 [-0.2, 1.0, -0.2], \n",
    "                                 [-0.05, -0.2, -0.05]])  \n",
    "        L = L[None,None]\n",
    "        ims_f = F.conv2d(ims, L)\n",
    "        return ims_f\n",
    "    \n",
    "\n",
    "    def laplace_v2(self, ims):\n",
    "        \"\"\"Characterize peaks with laplace kernel in image.\"\"\"\n",
    "        L = 4 * torch.tensor([[0, -0.25, 0], \n",
    "                              [-0.25, 1.0, -0.25], \n",
    "                              [0, -0.25, 0]])   \n",
    "        L = L[None,None]\n",
    "        ims_f = F.conv2d(ims, L)\n",
    "        return ims_f\n",
    "    \n",
    "\n",
    "    def roberts_cross(self, ims):\n",
    "        \"\"\"Evaluate Robert's cross gradient magnitude.\"\"\"\n",
    "        Rx = torch.tensor([[0.0, 1.0], \n",
    "                           [-1.0, 0.0]])\n",
    "        Ry = torch.tensor([[1.0, 0.0], \n",
    "                           [0.0, -1.0]])  \n",
    "        Rx = Rx[None,None]\n",
    "        Ry = Ry[None,None]\n",
    "        p0 = F.conv2d(ims[...,:-1,:-1], Rx)**2\n",
    "        p0 += F.conv2d(ims[...,:-1,:-1], Ry)**2\n",
    "        p0 = torch.sqrt(p0)\n",
    "        p1 = F.conv2d(ims[...,:-1,1:], Rx)**2\n",
    "        p1 += F.conv2d(ims[...,:-1,1:], Ry)**2\n",
    "        p1 = torch.sqrt(p1)\n",
    "        p2 = F.conv2d(ims[...,1:,:-1], Rx)**2\n",
    "        p2 += F.conv2d(ims[...,1:,:-1], Ry)**2\n",
    "        p2 = torch.sqrt(p2)    \n",
    "        p3 = F.conv2d(ims[...,1:,1:], Rx)**2\n",
    "        p3 += F.conv2d(ims[...,1:,1:], Ry)**2\n",
    "        p3 = torch.sqrt(p3)    \n",
    "        return (p0+p1+p2+p3)\n",
    "    \n",
    "\n",
    "    def images_at_peaks(self, ims_f, p):\n",
    "        \"\"\"Get filtered images at the position of peaks\"\"\"\n",
    "        n_batch = p.size(0)\n",
    "        vals = ims_f[p]    \n",
    "        n_peaks = p.sum(axis=(1,2,3))\n",
    "        n_peaks = n_peaks.cpu().numpy()\n",
    "        idx = list(np.cumsum(n_peaks))\n",
    "        idx.insert(0,0) # index starts from 0\n",
    "        results = []\n",
    "        for i in range(n_batch):\n",
    "            left, right = idx[i], idx[i+1]\n",
    "            vals_b = vals[left:right]\n",
    "            results.append(vals_b.cpu().numpy())    \n",
    "        return results\n",
    "    \n",
    "\n",
    "    def peak_count(self, ims):\n",
    "        \"\"\"Peak counting statistics\"\"\"\n",
    "        peaks = self.find_peaks(ims)  # find peaks  \n",
    "\n",
    "        # get the values for peaks\n",
    "        if self.peak_counting_method == 'original':\n",
    "            ims_f = ims[...,1:-1,1:-1]\n",
    "        elif self.peak_counting_method == 'laplace_v1':\n",
    "            ims_f = self.laplace_v1(ims)\n",
    "        elif self.peak_counting_method == 'laplace_v2':\n",
    "            ims_f = self.laplace_v2(ims)\n",
    "        elif self.peak_counting_method == 'roberts_cross':\n",
    "            ims_f = self.roberts_cross(ims)\n",
    "        elif self.peak_counting_method == 'custom':\n",
    "            ims_f = F.conv2d(ims, self.kernel)\n",
    "        vals = self.images_at_peaks(ims_f, peaks)\n",
    "        \n",
    "        # make histogram\n",
    "        results = []\n",
    "        for i,val in enumerate(vals):\n",
    "            hp = np.histogram(val, bins=self.bins)[0]\n",
    "            results.append(hp)    \n",
    "        return np.vstack(results) "
   ]
  },
  {
   "cell_type": "code",
   "execution_count": 15,
   "metadata": {},
   "outputs": [
    {
     "name": "stdout",
     "output_type": "stream",
     "text": [
      "0.02387063281217712\n"
     ]
    }
   ],
   "source": [
    "pco = PeakCount(peak_counting_method='original')\n",
    "pco.fit(train_loader)\n",
    "y_preds, y_params = pco.predict(test_loader)\n",
    "err = np.linalg.norm(y_preds - y_params)**2/np.prod(y_params.shape)\n",
    "print(err)"
   ]
  },
  {
   "cell_type": "code",
   "execution_count": 16,
   "metadata": {},
   "outputs": [
    {
     "name": "stdout",
     "output_type": "stream",
     "text": [
      "0.016314508525576595\n"
     ]
    }
   ],
   "source": [
    "pco = PeakCount(peak_counting_method='laplace_v1')\n",
    "pco.fit(train_loader)\n",
    "y_preds, y_params = pco.predict(test_loader)\n",
    "err = np.linalg.norm(y_preds - y_params)**2/np.prod(y_params.shape)\n",
    "print(err)"
   ]
  },
  {
   "cell_type": "code",
   "execution_count": 17,
   "metadata": {},
   "outputs": [
    {
     "name": "stdout",
     "output_type": "stream",
     "text": [
      "0.016613842504681356\n"
     ]
    }
   ],
   "source": [
    "pco = PeakCount(peak_counting_method='laplace_v2')\n",
    "pco.fit(train_loader)\n",
    "y_preds, y_params = pco.predict(test_loader)\n",
    "err = np.linalg.norm(y_preds - y_params)**2/np.prod(y_params.shape)\n",
    "print(err)"
   ]
  },
  {
   "cell_type": "code",
   "execution_count": 18,
   "metadata": {},
   "outputs": [
    {
     "name": "stdout",
     "output_type": "stream",
     "text": [
      "0.018228402554810817\n"
     ]
    }
   ],
   "source": [
    "pco = PeakCount(peak_counting_method='roberts_cross')\n",
    "pco.fit(train_loader)\n",
    "y_preds, y_params = pco.predict(test_loader)\n",
    "err = np.linalg.norm(y_preds - y_params)**2/np.prod(y_params.shape)\n",
    "print(err)"
   ]
  },
  {
   "cell_type": "markdown",
   "metadata": {},
   "source": [
    "# Compare"
   ]
  },
  {
   "cell_type": "code",
   "execution_count": 62,
   "metadata": {},
   "outputs": [
    {
     "name": "stdout",
     "output_type": "stream",
     "text": [
      "0.01904301093603755\n"
     ]
    }
   ],
   "source": [
    "pco = PeakCount(peak_counting_method='laplace_v1', bins=np.arange(-0.01,0.23,0.01))\n",
    "pco.fit(train_loader)\n",
    "y_preds, y_params = pco.predict(test_loader)\n",
    "err = np.linalg.norm(y_preds - y_params)**2/np.prod(y_params.shape)\n",
    "print(err)"
   ]
  },
  {
   "cell_type": "code",
   "execution_count": 63,
   "metadata": {},
   "outputs": [
    {
     "name": "stdout",
     "output_type": "stream",
     "text": [
      "0.026835996537294314\n"
     ]
    }
   ],
   "source": [
    "kernel = 3 * torch.tensor([[ 0.1414, -0.3014,  0.1642],\n",
    "                       [-0.3014,  0.6425, -0.3502],\n",
    "                       [ 0.1642, -0.3502,  0.1908]])\n",
    "kernel -= kernel.mean()\n",
    "pco = PeakCount(peak_counting_method='custom', bins=np.arange(-0.01,0.23,0.01), kernel=kernel)\n",
    "pco.fit(train_loader)\n",
    "y_preds, y_params = pco.predict(test_loader)\n",
    "err = np.linalg.norm(y_preds - y_params)**2/np.prod(y_params.shape)\n",
    "print(err)"
   ]
  },
  {
   "cell_type": "code",
   "execution_count": 64,
   "metadata": {},
   "outputs": [],
   "source": [
    "L = 10/3 * torch.tensor([[-0.05, -0.2, -0.05], \n",
    "                         [-0.2, 1.0, -0.2], \n",
    "                         [-0.05, -0.2, -0.05]]) \n",
    "L = L[None,None]\n",
    "\n",
    "kernel = 3*torch.tensor([[ 0.1414, -0.3014,  0.1642],\n",
    "                       [-0.3014,  0.6425, -0.3502],\n",
    "                       [ 0.1642, -0.3502,  0.1908]])\n",
    "kernel = kernel[None,None]"
   ]
  },
  {
   "cell_type": "code",
   "execution_count": 65,
   "metadata": {},
   "outputs": [],
   "source": [
    "peaks = pco.find_peaks(data)\n",
    "vals = pco.images_at_peaks(F.conv2d(data, L), peaks)"
   ]
  },
  {
   "cell_type": "code",
   "execution_count": 66,
   "metadata": {},
   "outputs": [
    {
     "data": {
      "text/plain": [
       "(array([2.8173e+05, 2.9773e+04, 3.8960e+03, 7.9000e+02, 1.9700e+02,\n",
       "        6.9000e+01, 3.2000e+01, 6.0000e+00, 1.0000e+00, 2.0000e+00]),\n",
       " array([0.00118126, 0.069414  , 0.13764675, 0.2058795 , 0.27411222,\n",
       "        0.34234497, 0.4105777 , 0.47881046, 0.5470432 , 0.615276  ,\n",
       "        0.6835087 ], dtype=float32),\n",
       " <a list of 10 Patch objects>)"
      ]
     },
     "execution_count": 66,
     "metadata": {},
     "output_type": "execute_result"
    },
    {
     "data": {
      "image/png": "[encoded data removed]",
      "text/plain": [
       "<Figure size 432x288 with 1 Axes>"
      ]
     },
     "metadata": {
      "needs_background": "light"
     },
     "output_type": "display_data"
    }
   ],
   "source": [
    "plt.hist(np.hstack(vals))"
   ]
  },
  {
   "cell_type": "code",
   "execution_count": 67,
   "metadata": {},
   "outputs": [
    {
     "name": "stdout",
     "output_type": "stream",
     "text": [
      "0.0011812564 0.6835087\n"
     ]
    }
   ],
   "source": [
    "print(np.min(np.hstack(vals)), np.max(np.hstack(vals)))"
   ]
  },
  {
   "cell_type": "code",
   "execution_count": 68,
   "metadata": {},
   "outputs": [],
   "source": [
    "peaks = pco.find_peaks(data)\n",
    "vals = pco.images_at_peaks(F.conv2d(data, kernel), peaks)"
   ]
  },
  {
   "cell_type": "code",
   "execution_count": 69,
   "metadata": {},
   "outputs": [
    {
     "data": {
      "text/plain": [
       "(array([1.08310e+04, 2.80898e+05, 2.19320e+04, 2.26200e+03, 4.30000e+02,\n",
       "        9.90000e+01, 3.10000e+01, 6.00000e+00, 3.00000e+00, 4.00000e+00]),\n",
       " array([-0.02608205,  0.00033179,  0.02674563,  0.05315947,  0.07957331,\n",
       "         0.10598715,  0.13240099,  0.15881483,  0.18522868,  0.2116425 ,\n",
       "         0.23805635], dtype=float32),\n",
       " <a list of 10 Patch objects>)"
      ]
     },
     "execution_count": 69,
     "metadata": {},
     "output_type": "execute_result"
    },
    {
     "data": {
      "image/png": "[encoded data removed]",
      "text/plain": [
       "<Figure size 432x288 with 1 Axes>"
      ]
     },
     "metadata": {
      "needs_background": "light"
     },
     "output_type": "display_data"
    }
   ],
   "source": [
    "plt.hist(np.hstack(vals))"
   ]
  },
  {
   "cell_type": "code",
   "execution_count": 70,
   "metadata": {},
   "outputs": [
    {
     "name": "stdout",
     "output_type": "stream",
     "text": [
      "-0.026082046 0.23805635\n"
     ]
    }
   ],
   "source": [
    "print(np.min(np.hstack(vals)), np.max(np.hstack(vals)))"
   ]
  },
  {
   "cell_type": "code",
   "execution_count": null,
   "metadata": {},
   "outputs": [],
   "source": []
  }
 ],
 "metadata": {
  "kernelspec": {
   "display_name": "Environment (conda_pytorch_p36)",
   "language": "python",
   "name": "conda_pytorch_p36"
  },
  "language_info": {
   "codemirror_mode": {
    "name": "ipython",
    "version": 3
   },
   "file_extension": ".py",
   "mimetype": "text/x-python",
   "name": "python",
   "nbconvert_exporter": "python",
   "pygments_lexer": "ipython3",
   "version": "3.6.10"
  }
 },
 "nbformat": 4,
 "nbformat_minor": 4
}
