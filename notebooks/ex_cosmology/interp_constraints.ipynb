{
 "cells": [
  {
   "cell_type": "code",
   "execution_count": null,
   "metadata": {},
   "outputs": [],
   "source": [
    "%load_ext autoreload\n",
    "%autoreload 2\n",
    "%matplotlib inline\n",
    "import matplotlib.pyplot as plt\n",
    "import numpy as np\n",
    "import torch\n",
    "device = 'cuda' if torch.cuda.is_available() else 'cpu'\n",
    "import os,sys\n",
    "opj = os.path.join\n",
    "from copy import deepcopy\n",
    "import pickle as pkl\n",
    "from tqdm import tqdm\n",
    "\n",
    "from sim_cosmology import p, load_dataloader_and_pretrained_model\n",
    "p.data_path = '../../src/dsets/cosmology/data'\n",
    "p.model_path = '../../src/dsets/cosmology/data'\n",
    "# adaptive-wavelets modules\n",
    "from losses import get_loss_f\n",
    "from train import Trainer\n",
    "from evaluate import Validator\n",
    "from transform2d import DWT2d\n",
    "from utils import get_1dfilts, get_2dfilts, get_wavefun\n",
    "from wave_attributions import Attributer\n",
    "from visualize import cshow, plot_1dfilts, plot_2dfilts, plot_2dreconstruct"
   ]
  },
  {
   "cell_type": "markdown",
   "metadata": {},
   "source": [
    "## load data and model"
   ]
  },
  {
   "cell_type": "code",
   "execution_count": null,
   "metadata": {},
   "outputs": [],
   "source": [
    "# get dataloader and model\n",
    "(train_loader, test_loader), model = load_dataloader_and_pretrained_model(p, img_size=p.img_size[2])\n",
    "\n",
    "# # check prediction\n",
    "# with torch.no_grad():\n",
    "#     result = {'y': [], 'pred': []}\n",
    "#     for data, params in train_loader:\n",
    "#         result['y'].append(params[:,1].detach().cpu())\n",
    "#         result['pred'].append(model(data.to(device))[:,1].detach().cpu())\n",
    "# plt.scatter(torch.cat(result['y']), torch.cat(result['pred']))\n",
    "# plt.xlabel('true param')\n",
    "# plt.ylabel('predicted param')\n",
    "# plt.show()  "
   ]
  },
  {
   "cell_type": "code",
   "execution_count": null,
   "metadata": {},
   "outputs": [],
   "source": [
    "# get image\n",
    "data = iter(test_loader).next()[0].to(device)\n",
    "\n",
    "# wavelet transform \n",
    "wt = DWT2d(wave='db5', mode='zero', J=4, init_factor=1, noise_factor=0.1).to(device)\n",
    "\n",
    "data_t = wt(data)\n",
    "recon = wt.inverse(data_t)\n",
    "\n",
    "print(\"Reconstruction error={:.5f}\".format(torch.norm(recon - data)**2/data.size(0)))\n",
    "\n",
    "# get 2d wavelet filters\n",
    "filt = get_2dfilts(wt)"
   ]
  },
  {
   "cell_type": "code",
   "execution_count": null,
   "metadata": {},
   "outputs": [],
   "source": [
    "# plot original and reconstruction images\n",
    "plot_2dreconstruct(data, recon)"
   ]
  },
  {
   "cell_type": "code",
   "execution_count": null,
   "metadata": {},
   "outputs": [],
   "source": [
    "# plot wavelet filters\n",
    "plot_1dfilts(filt[0], figsize=(1,1))"
   ]
  },
  {
   "cell_type": "code",
   "execution_count": null,
   "metadata": {},
   "outputs": [],
   "source": [
    "# plot wavelet filters\n",
    "plot_2dfilts(filt[1], figsize=(5,5))"
   ]
  },
  {
   "cell_type": "markdown",
   "metadata": {},
   "source": [
    "## optimize filter"
   ]
  },
  {
   "cell_type": "code",
   "execution_count": null,
   "metadata": {},
   "outputs": [],
   "source": [
    "# train\n",
    "params = list(wt.parameters())\n",
    "optimizer = torch.optim.Adam(params, lr=0.001)\n",
    "loss_f = get_loss_f(lamlSum=1, lamhSum=1, lamL2norm=1, lamCMF=1, lamConv=1, lamL1wave=0.1, lamL1attr=0.01)\n",
    "trainer = Trainer(model, wt, optimizer, loss_f, target=1, \n",
    "                  use_residuals=True, attr_methods='Saliency', device=device, n_print=1)"
   ]
  },
  {
   "cell_type": "code",
   "execution_count": null,
   "metadata": {},
   "outputs": [],
   "source": [
    "trainer(train_loader, epochs=2)"
   ]
  },
  {
   "cell_type": "code",
   "execution_count": null,
   "metadata": {},
   "outputs": [],
   "source": [
    "plt.plot(np.log(trainer.train_losses))\n",
    "plt.xlabel(\"epochs\")\n",
    "plt.ylabel(\"log train loss\")\n",
    "plt.title('Log-train loss vs epochs')\n",
    "plt.show()"
   ]
  },
  {
   "cell_type": "code",
   "execution_count": null,
   "metadata": {},
   "outputs": [],
   "source": [
    "data_t = wt(data)\n",
    "recon = wt.inverse(data_t)\n",
    "\n",
    "print(\"Reconstruction error={:.5f}\".format(torch.norm(recon - data)**2/data.size(0)))\n",
    "\n",
    "# get 2d wavelet filters\n",
    "filt = get_2dfilts(wt)"
   ]
  },
  {
   "cell_type": "code",
   "execution_count": null,
   "metadata": {},
   "outputs": [],
   "source": [
    "# plot original and reconstruction images\n",
    "plot_2dreconstruct(data, recon)"
   ]
  },
  {
   "cell_type": "markdown",
   "metadata": {},
   "source": [
    "## test error"
   ]
  },
  {
   "cell_type": "code",
   "execution_count": null,
   "metadata": {},
   "outputs": [],
   "source": [
    "# validator \n",
    "validator = Validator(model, test_loader)\n",
    "rec_loss, lsum_loss, hsum_loss, L2norm_loss, CMF_loss, conv_loss, L1wave_loss, L1saliency_loss, L1inputxgrad_loss = validator(wt, target=1)\n",
    "\n",
    "# original wavelet transform\n",
    "wt_o = DWT2d(wave='db5', mode='zero', J=4, init_factor=1, noise_factor=0).to(device)\n",
    "rec_loss_o, lsum_loss_o, hsum_loss_o, L2norm_loss_o, CMF_loss_o, conv_loss_o, L1wave_loss_o, L1saliency_loss_o, L1inputxgrad_loss_o = validator(wt_o, target=1)\n",
    "\n",
    "print(\"\\n\\n \\t Original filter:Reconstruction Error={:.5f} lsum loss={:.5f} hsum loss={:.5f} L2norm loss={:.5f} CMF loss={:.5f} conv loss={:.5f} L1wave loss={:.5f} L1saliency loss={:.5f} L1inputxgrad loss={:.5f} \\n \\\n",
    "        Adaptive filter:Reconstruction Error={:.5f} lsum loss={:.5f} hsum loss={:.5f} L2norm loss={:.5f} CMF loss={:.5f} conv loss={:.5f} L1wave loss={:.5f} L1saliency loss={:.5f} L1inputxgrad loss={:.5f}\"\\\n",
    "          .format(rec_loss_o, lsum_loss_o, hsum_loss_o, L2norm_loss_o, CMF_loss_o, conv_loss_o, L1wave_loss_o, L1saliency_loss_o, L1inputxgrad_loss_o, \n",
    "                  rec_loss, lsum_loss, hsum_loss, L2norm_loss, CMF_loss, conv_loss, L1wave_loss, L1saliency_loss, L1inputxgrad_loss))"
   ]
  },
  {
   "cell_type": "code",
   "execution_count": null,
   "metadata": {},
   "outputs": [],
   "source": [
    "# plot wavelet filters\n",
    "filt = get_2dfilts(wt)\n",
    "plot_1dfilts(filt[0], figsize=(1,1))\n",
    "plot_2dfilts(filt[1], figsize=(5,5))"
   ]
  },
  {
   "cell_type": "code",
   "execution_count": null,
   "metadata": {},
   "outputs": [],
   "source": [
    "# plot original wavelet filters\n",
    "filt_o = get_2dfilts(wt_o)\n",
    "plot_1dfilts(filt_o[0], figsize=(1,1))\n",
    "plot_2dfilts(filt_o[1], figsize=(5,5))"
   ]
  },
  {
   "cell_type": "code",
   "execution_count": null,
   "metadata": {},
   "outputs": [],
   "source": [
    "# sys.path.append('../../lib/trim')\n",
    "# from trim import TrimModel\n",
    "# from utils import tuple_to_tensor, tensor_to_tuple\n",
    "\n",
    "# mt = TrimModel(model, wt.inverse, use_residuals=True)    \n",
    "# attributer = Attributer(mt, attr_methods='Saliency', device='cuda')\n",
    "\n",
    "# b = torch.tensor([]).to(device)\n",
    "# c = torch.tensor([]).to(device)\n",
    "# for data, _ in test_loader:\n",
    "#     data = data.to(device)\n",
    "#     data_t = wt(data)\n",
    "#     attributions = attributer(data_t, target=1, additional_forward_args=deepcopy(data))\n",
    "#     y, _ = tuple_to_tensor(data_t)\n",
    "#     b = torch.cat((y,b), dim=0)     \n",
    "#     z, _ = tuple_to_tensor(attributions)\n",
    "#     c = torch.cat((z,c), dim=0)\n",
    "# b = b.reshape(-1)\n",
    "# c = c.reshape(-1)\n",
    "# sort_indexes = torch.argsort(b, dim=0, descending=False)          \n",
    "    \n",
    "# plt.plot(b[sort_indexes].detach().cpu())\n",
    "# plt.show()\n",
    "\n",
    "# plt.plot(c[sort_indexes].detach().cpu())\n",
    "# plt.show()"
   ]
  },
  {
   "cell_type": "code",
   "execution_count": null,
   "metadata": {},
   "outputs": [],
   "source": []
  }
 ],
 "metadata": {
  "kernelspec": {
   "display_name": "Environment (conda_pytorch_p36)",
   "language": "python",
   "name": "conda_pytorch_p36"
  },
  "language_info": {
   "codemirror_mode": {
    "name": "ipython",
    "version": 3
   },
   "file_extension": ".py",
   "mimetype": "text/x-python",
   "name": "python",
   "nbconvert_exporter": "python",
   "pygments_lexer": "ipython3",
   "version": "3.6.10"
  }
 },
 "nbformat": 4,
 "nbformat_minor": 4
}
