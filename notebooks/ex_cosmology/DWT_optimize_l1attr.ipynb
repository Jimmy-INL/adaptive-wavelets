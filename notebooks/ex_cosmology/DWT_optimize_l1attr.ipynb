{
 "cells": [
  {
   "cell_type": "code",
   "execution_count": 2,
   "metadata": {},
   "outputs": [],
   "source": [
    "%load_ext autoreload\n",
    "%autoreload 2\n",
    "%matplotlib inline\n",
    "import matplotlib.pyplot as plt\n",
    "import numpy as np\n",
    "import torch\n",
    "device = 'cuda' if torch.cuda.is_available() else 'cpu'\n",
    "import os,sys\n",
    "opj = os.path.join\n",
    "from copy import deepcopy\n",
    "import pickle as pkl\n",
    "\n",
    "sys.path.append('models')\n",
    "from sim_cosmology import p, load_dataloader_and_pretrained_model\n",
    "# wt modules\n",
    "sys.path.append('../../src')\n",
    "sys.path.append('../../src/adaptive_wavelets')\n",
    "sys.path.append('../../src/dsets/cosmology')\n",
    "from dset import get_dataloader\n",
    "from losses import get_loss_f\n",
    "from train import Trainer, Validator\n",
    "from wavelet_transform import Wavelet_Transform, Attributer, get_2dfilts, initialize_filters\n",
    "from utils import tuple_L1Loss, tuple_L2Loss, thresh_attrs\n",
    "from viz import viz_im_r, cshow, viz_filters, viz_list"
   ]
  },
  {
   "cell_type": "markdown",
   "metadata": {},
   "source": [
    "## load data and model"
   ]
  },
  {
   "cell_type": "code",
   "execution_count": null,
   "metadata": {},
   "outputs": [],
   "source": [
    "# get dataloader and model\n",
    "(train_loader, test_loader), model = load_dataloader_and_pretrained_model(p, img_size=256)\n",
    "\n",
    "# check prediction\n",
    "# with torch.no_grad():\n",
    "#     result = {'y': [], 'pred': []}\n",
    "#     for data, params in train_loader:\n",
    "#         result['y'].append(params[:,1].detach().cpu())\n",
    "#         result['pred'].append(model(data.to(device))[:,1].detach().cpu())\n",
    "# plt.scatter(torch.cat(result['y']), torch.cat(result['pred']))\n",
    "# plt.xlabel('true param')\n",
    "# plt.ylabel('predicted param')\n",
    "# plt.show()  "
   ]
  },
  {
   "cell_type": "markdown",
   "metadata": {},
   "source": [
    "## initialize filter"
   ]
  },
  {
   "cell_type": "code",
   "execution_count": null,
   "metadata": {},
   "outputs": [],
   "source": [
    "# get image\n",
    "torch.manual_seed(p.seed)\n",
    "im = iter(test_loader).next()[0][0:64].to(device)\n",
    "\n",
    "# wavelet transform with initialization\n",
    "wt_orig = Wavelet_Transform(wt_type='DWT', wave='db3', mode='symmetric', device='cuda', J=5)\n",
    "viz_im_r(im[0], wt_orig.inverse(wt_orig(im))[0])\n",
    "print(\"Recon={:.5f}\".format(torch.norm(wt_orig.inverse(wt_orig(im)) - im)**2/im.size(0)))\n",
    "\n",
    "filt = get_2dfilts(wt_orig)\n",
    "viz_list(filt, figsize=(4,4))"
   ]
  },
  {
   "cell_type": "code",
   "execution_count": null,
   "metadata": {},
   "outputs": [],
   "source": [
    "wt = initialize_filters(wt_orig, init_level=1, noise_level=0.2)\n",
    "filt = get_2dfilts(wt)\n",
    "viz_im_r(im[0], wt.inverse(wt(im))[0])\n",
    "print(\"Recon={:.5f}\".format(torch.norm(wt.inverse(wt(im)) - im)**2/im.size(0)))\n",
    "\n",
    "viz_list(filt, figsize=(4,4))"
   ]
  },
  {
   "cell_type": "markdown",
   "metadata": {},
   "source": [
    "## optimize filter"
   ]
  },
  {
   "cell_type": "code",
   "execution_count": null,
   "metadata": {},
   "outputs": [],
   "source": [
    "# train\n",
    "params = list(wt.xfm.parameters()) + list(wt.ifm.parameters())\n",
    "optimizer = torch.optim.Adam(params, lr=0.01)\n",
    "loss_f = get_loss_f(lamL1attr=50)\n",
    "trainer = Trainer(model, wt, Attributer, optimizer, loss_f, attr_methods='Saliency', device=device)\n",
    "trainer(train_loader, epochs=10)"
   ]
  },
  {
   "cell_type": "code",
   "execution_count": null,
   "metadata": {},
   "outputs": [],
   "source": [
    "trainer(train_loader, epochs=10)"
   ]
  },
  {
   "cell_type": "code",
   "execution_count": null,
   "metadata": {},
   "outputs": [],
   "source": [
    "filt = get_2dfilts(wt)\n",
    "viz_im_r(im[0], wt.inverse(wt(im))[0])\n",
    "print(\"Recon={:.5f}\".format(torch.norm(wt.inverse(wt(im)) - im)**2/im.size(0)))"
   ]
  },
  {
   "cell_type": "code",
   "execution_count": null,
   "metadata": {},
   "outputs": [],
   "source": [
    "viz_list(filt, figsize=(4,4))"
   ]
  },
  {
   "cell_type": "code",
   "execution_count": null,
   "metadata": {},
   "outputs": [],
   "source": [
    "loss_v = get_loss_f(lamL1attr=1)\n",
    "validator = Validator(model, wt, Attributer, loss_v, attr_methods='Saliency', device=device)\n",
    "_, rec_loss, L1attr_loss = validator(test_loader)\n",
    "\n",
    "print(\"\\nRecon={:.5f} L1attr={:.5f}\".format(rec_loss, L1attr_loss))"
   ]
  },
  {
   "cell_type": "code",
   "execution_count": null,
   "metadata": {},
   "outputs": [],
   "source": [
    "loss_v = get_loss_f(lamL1attr=1)\n",
    "validator = Validator(model, wt_orig, Attributer, loss_v, attr_methods='Saliency', device=device)\n",
    "_, rec_loss, L1attr_loss = validator(test_loader)\n",
    "\n",
    "print(\"\\nRecon={:.5f} L1attr={:.5f}\".format(rec_loss, L1attr_loss))"
   ]
  },
  {
   "cell_type": "code",
   "execution_count": null,
   "metadata": {},
   "outputs": [],
   "source": []
  }
 ],
 "metadata": {
  "kernelspec": {
   "display_name": "Environment (conda_pytorch_p36)",
   "language": "python",
   "name": "conda_pytorch_p36"
  },
  "language_info": {
   "codemirror_mode": {
    "name": "ipython",
    "version": 3
   },
   "file_extension": ".py",
   "mimetype": "text/x-python",
   "name": "python",
   "nbconvert_exporter": "python",
   "pygments_lexer": "ipython3",
   "version": "3.6.10"
  }
 },
 "nbformat": 4,
 "nbformat_minor": 4
}
