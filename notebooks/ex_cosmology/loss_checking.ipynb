{
 "cells": [
  {
   "cell_type": "code",
   "execution_count": 1,
   "metadata": {},
   "outputs": [],
   "source": [
    "%load_ext autoreload\n",
    "%autoreload 2\n",
    "%matplotlib inline\n",
    "import matplotlib.pyplot as plt\n",
    "import numpy as np\n",
    "import torch\n",
    "device = 'cuda' if torch.cuda.is_available() else 'cpu'\n",
    "import os,sys\n",
    "opj = os.path.join\n",
    "from copy import deepcopy\n",
    "import pickle as pkl\n",
    "from tqdm import tqdm\n",
    "\n",
    "from sim_cosmology import p, load_dataloader_and_pretrained_model\n",
    "p.data_path = '../../src/dsets/cosmology/data'\n",
    "p.model_path = '../../src/dsets/cosmology/data'\n",
    "# adaptive-wavelets modules\n",
    "from losses import get_loss_f\n",
    "from train import Trainer\n",
    "from evaluate import Validator\n",
    "from transform2d import DWT2d\n",
    "from utils import get_1dfilts, get_2dfilts, get_wavefun\n",
    "from wave_attributions import Attributer\n",
    "from visualize import cshow, plot_1dfilts, plot_2dfilts, plot_2dreconstruct, plot_wavefun"
   ]
  },
  {
   "cell_type": "code",
   "execution_count": 2,
   "metadata": {},
   "outputs": [],
   "source": [
    "sys.path.append('../../lib/trim')\n",
    "from trim import TrimModel\n",
    "from losses import _reconstruction_loss, _lsum_loss, _hsum_loss, _L2norm_loss, _CMF_loss, _conv_loss, _L1_wave_loss, _L1_attribution_loss\n",
    "from utils import low_to_high\n",
    "import torch.nn.functional as F"
   ]
  },
  {
   "cell_type": "markdown",
   "metadata": {},
   "source": [
    "## load data and model"
   ]
  },
  {
   "cell_type": "code",
   "execution_count": 3,
   "metadata": {},
   "outputs": [],
   "source": [
    "# get dataloader and model\n",
    "(train_loader, test_loader), model = load_dataloader_and_pretrained_model(p, img_size=256)"
   ]
  },
  {
   "cell_type": "code",
   "execution_count": 16,
   "metadata": {},
   "outputs": [],
   "source": [
    "# wavelet transform \n",
    "torch.manual_seed(7)\n",
    "wt = DWT2d(wave='db5', mode='symmetric', J=5, init_factor=1, noise_factor=0.0).to(device)\n",
    "mt = TrimModel(model, wt.inverse, use_residuals=True)    \n",
    "attributer = Attributer(mt, attr_methods='Saliency', device=device)\n",
    "\n",
    "# get image\n",
    "data = iter(test_loader).next()[0].to(device)\n",
    "data_t = wt(data)\n",
    "recon_data = wt.inverse(data_t)\n",
    "# with torch.backends.cudnn.flags(enabled=False):\n",
    "#     attributions = attributer(data_t, target=1, additional_forward_args=deepcopy(data))"
   ]
  },
  {
   "cell_type": "code",
   "execution_count": 15,
   "metadata": {},
   "outputs": [
    {
     "name": "stdout",
     "output_type": "stream",
     "text": [
      "4.6462245316180933e-17\n"
     ]
    }
   ],
   "source": [
    "# loss = _reconstruction_loss(data, recon_data)\n",
    "# loss = _lsum_loss(wt)\n",
    "# loss = _hsum_loss(wt)\n",
    "# loss = _L2norm_loss(wt)\n",
    "# loss = _CMF_loss(wt)\n",
    "# loss = _conv_loss(wt)\n",
    "# loss = _L1_wave_loss(data_t) \n",
    "# loss = _L1_attribution_loss(attributions)\n",
    "# print(loss.item())\n",
    "# loss.backward()"
   ]
  },
  {
   "cell_type": "markdown",
   "metadata": {},
   "source": [
    "## optimize filter"
   ]
  },
  {
   "cell_type": "code",
   "execution_count": null,
   "metadata": {},
   "outputs": [],
   "source": [
    "# train\n",
    "params = list(wt.parameters())\n",
    "optimizer = torch.optim.Adam(params, lr=0.01)\n",
    "\n",
    "epochs = 50\n",
    "train_losses = np.empty(epochs)\n",
    "wt.train()\n",
    "\n",
    "for epoch in range(epochs):\n",
    "    epoch_loss = 0.\n",
    "    for batch_idx, (data, _) in enumerate(train_loader):\n",
    "        data = data.to(device)\n",
    "        # zero grad\n",
    "        optimizer.zero_grad()\n",
    "        # transform\n",
    "        data_t = wt(data)\n",
    "        # reconstruction\n",
    "        recon_data = wt.inverse(data_t)\n",
    "        # loss\n",
    "        with torch.backends.cudnn.flags(enabled=False):\n",
    "            attributions = attributer(data_t, target=1, additional_forward_args=deepcopy(data))\n",
    "        loss = _L1_attribution_loss(attributions)\n",
    "\n",
    "        # backward\n",
    "        loss.backward()\n",
    "        # update step\n",
    "        optimizer.step()\n",
    "        epoch_loss += loss.item()   \n",
    "        \n",
    "    mean_epoch_loss = epoch_loss / (batch_idx + 1)\n",
    "    train_losses[epoch] = mean_epoch_loss\n",
    "    print('====> Epoch: {} Average train loss: {:.4f}'.format(epoch, mean_epoch_loss))\n"
   ]
  },
  {
   "cell_type": "code",
   "execution_count": null,
   "metadata": {},
   "outputs": [],
   "source": [
    "# test\n",
    "wt.eval()\n",
    "for batch_idx, (data, _) in enumerate(test_loader):\n",
    "    data = data.to(device)\n",
    "    # zero grad\n",
    "    optimizer.zero_grad()\n",
    "    # transform\n",
    "    data_t = wt(data)\n",
    "    # reconstruction\n",
    "    recon_data = wt.inverse(data_t)\n",
    "    # loss\n",
    "    with torch.backends.cudnn.flags(enabled=False):\n",
    "        attributions = attributer(data_t, target=1, additional_forward_args=deepcopy(data))\n",
    "    loss = _sum_loss(wt)\n",
    "\n",
    "    # backward\n",
    "    loss.backward()\n",
    "    # update step\n",
    "    optimizer.step()\n",
    "    epoch_loss += loss.item()   \n",
    "        \n",
    "mean_epoch_loss = epoch_loss / (batch_idx + 1)\n",
    "print('====> Average test loss: {:.4f}'.format(mean_epoch_loss))\n"
   ]
  },
  {
   "cell_type": "code",
   "execution_count": null,
   "metadata": {},
   "outputs": [],
   "source": [
    "plt.plot(np.log(train_losses))"
   ]
  },
  {
   "cell_type": "code",
   "execution_count": null,
   "metadata": {},
   "outputs": [],
   "source": []
  },
  {
   "cell_type": "code",
   "execution_count": null,
   "metadata": {},
   "outputs": [],
   "source": []
  },
  {
   "cell_type": "code",
   "execution_count": null,
   "metadata": {},
   "outputs": [],
   "source": []
  },
  {
   "cell_type": "code",
   "execution_count": null,
   "metadata": {},
   "outputs": [],
   "source": []
  },
  {
   "cell_type": "code",
   "execution_count": null,
   "metadata": {},
   "outputs": [],
   "source": []
  },
  {
   "cell_type": "code",
   "execution_count": null,
   "metadata": {},
   "outputs": [],
   "source": []
  },
  {
   "cell_type": "code",
   "execution_count": null,
   "metadata": {},
   "outputs": [],
   "source": []
  }
 ],
 "metadata": {
  "kernelspec": {
   "display_name": "Environment (conda_pytorch_p36)",
   "language": "python",
   "name": "conda_pytorch_p36"
  },
  "language_info": {
   "codemirror_mode": {
    "name": "ipython",
    "version": 3
   },
   "file_extension": ".py",
   "mimetype": "text/x-python",
   "name": "python",
   "nbconvert_exporter": "python",
   "pygments_lexer": "ipython3",
   "version": "3.6.10"
  }
 },
 "nbformat": 4,
 "nbformat_minor": 4
}
