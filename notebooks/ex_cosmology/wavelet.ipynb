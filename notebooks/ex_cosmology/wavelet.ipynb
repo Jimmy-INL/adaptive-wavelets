{
 "cells": [
  {
   "cell_type": "code",
   "execution_count": 1,
   "metadata": {},
   "outputs": [],
   "source": [
    "%load_ext autoreload\n",
    "%autoreload 2\n",
    "%matplotlib inline\n",
    "import matplotlib.pyplot as plt\n",
    "import numpy as np\n",
    "import torch\n",
    "import random\n",
    "device = 'cuda' if torch.cuda.is_available() else 'cpu'\n",
    "import os,sys\n",
    "opj = os.path.join\n",
    "from tqdm import tqdm\n",
    "from random import randint\n",
    "from copy import deepcopy\n",
    "import pickle as pkl\n",
    "import argparse\n",
    "\n",
    "from torch import nn\n",
    "from models import AutoEncoder, AutoEncoderSimple, load_model\n",
    "import torch.nn.functional as F\n",
    "\n",
    "from models import load_model\n",
    "sys.path.append('../../src')\n",
    "sys.path.append('../../src/vae')\n",
    "sys.path.append('../../src/vae/models')\n",
    "sys.path.append('../../src/dsets/cosmology')\n",
    "from dset import get_dataloader\n",
    "from model import init_specific_model\n",
    "from losses import get_loss_f, _reconstruction_loss\n",
    "from training import Trainer\n",
    "from viz import viz_im_r, cshow, viz_filters\n",
    "from sim_cosmology import p\n",
    "\n",
    "sys.path.append('../../lib/trim')\n",
    "# trim modules\n",
    "from trim import DecoderEncoder, TrimModel\n",
    "from captum.attr import *\n",
    "\n",
    "# wavelet\n",
    "from pytorch_wavelets import DTCWTForward, DTCWTInverse\n",
    "from pywt._doc_utils import wavedec2_keys, draw_2d_wp_basis\n",
    "from kymatio.torch import Scattering2D\n",
    "from kymatio.scattering2d.filter_bank import filter_bank\n",
    "from kymatio.scattering2d.utils import fft2\n",
    "from colorsys import hls_to_rgb\n",
    "import pywt\n",
    "\n",
    "from PIL import Image\n",
    "import urllib.request\n",
    "import io\n"
   ]
  },
  {
   "cell_type": "markdown",
   "metadata": {},
   "source": [
    "## load data and model"
   ]
  },
  {
   "cell_type": "code",
   "execution_count": 2,
   "metadata": {},
   "outputs": [],
   "source": [
    "# create dir\n",
    "out_dir = opj(p.out_dir, p.dirname)\n",
    "os.makedirs(out_dir, exist_ok=True)  \n",
    "\n",
    "# seed\n",
    "random.seed(p.seed)\n",
    "np.random.seed(p.seed)\n",
    "torch.manual_seed(p.seed)\n",
    "\n",
    "# get dataloaders\n",
    "train_loader = get_dataloader(p.data_path, \n",
    "                              img_size=256,\n",
    "                              batch_size=p.train_batch_size)\n",
    "im = iter(train_loader).next()[0][0:1]\n",
    "\n",
    "# load model\n",
    "model = load_model(model_name='resnet18', device=device, data_path=p.data_path)\n",
    "model = model.eval()\n",
    "# freeze layers\n",
    "for param in model.parameters():\n",
    "    param.requires_grad = False"
   ]
  },
  {
   "cell_type": "code",
   "execution_count": 3,
   "metadata": {},
   "outputs": [
    {
     "data": {
      "image/png": "[encoded data removed]",
      "text/plain": [
       "<Figure size 432x288 with 1 Axes>"
      ]
     },
     "metadata": {
      "needs_background": "light"
     },
     "output_type": "display_data"
    }
   ],
   "source": [
    "with torch.no_grad():\n",
    "    im, params = iter(train_loader).next()\n",
    "    im = im.to(device)\n",
    "    preds = model(im)[:,1].cpu()\n",
    "    params = params[:,1]\n",
    "# print(result)\n",
    "plt.scatter(params, preds)\n",
    "plt.xlabel('true param')\n",
    "plt.ylabel('predicted param')\n",
    "plt.show()    "
   ]
  },
  {
   "cell_type": "markdown",
   "metadata": {},
   "source": [
    "## wavelet"
   ]
  },
  {
   "cell_type": "code",
   "execution_count": 18,
   "metadata": {},
   "outputs": [],
   "source": [
    "class Wavelet_Transform(nn.Module):\n",
    "    def __init__(self, init_wavelet='bior2.2', requires_grad=True, device='cuda'): \n",
    "        super(Wavelet_Transform, self).__init__()        \n",
    "        # initialize        \n",
    "        w = pywt.Wavelet(init_wavelet)\n",
    "        dec_hi = torch.tensor(w.dec_hi[::-1])\n",
    "        dec_lo = torch.tensor(w.dec_lo[::-1])\n",
    "        rec_hi = torch.tensor(w.rec_hi)\n",
    "        rec_lo = torch.tensor(w.rec_lo)        \n",
    "        self.dec_hi = nn.Parameter(dec_hi.to(device), requires_grad=requires_grad)\n",
    "        self.dec_lo = nn.Parameter(dec_lo.to(device), requires_grad=requires_grad)\n",
    "        self.rec_hi = nn.Parameter(rec_hi.to(device), requires_grad=requires_grad)\n",
    "        self.rec_lo = nn.Parameter(rec_lo.to(device), requires_grad=requires_grad)\n",
    "        \n",
    "        self.filters = torch.stack([self.dec_lo.unsqueeze(0)*self.dec_lo.unsqueeze(1),\n",
    "                                    self.dec_lo.unsqueeze(0)*self.dec_hi.unsqueeze(1),\n",
    "                                    self.dec_hi.unsqueeze(0)*self.dec_lo.unsqueeze(1),\n",
    "                                    self.dec_hi.unsqueeze(0)*self.dec_hi.unsqueeze(1)], dim=0)  \n",
    "        \n",
    "        self.inv_filters = torch.stack([self.rec_lo.unsqueeze(0)*self.rec_lo.unsqueeze(1),\n",
    "                                        self.rec_lo.unsqueeze(0)*self.rec_hi.unsqueeze(1),\n",
    "                                        self.rec_hi.unsqueeze(0)*self.rec_lo.unsqueeze(1),\n",
    "                                        self.rec_hi.unsqueeze(0)*self.rec_hi.unsqueeze(1)], dim=0)        \n",
    "    \n",
    "    def xfm(self, x, levels=5):\n",
    "        # wavelet transform\n",
    "        h = x.size(2)\n",
    "        w = x.size(3)\n",
    "        x_t = F.conv2d(x, self.filters[:,None], stride=2, padding=2) # only works for filter of size 6\n",
    "        res = x_t.clone()\n",
    "        if levels > 1:\n",
    "            res = self.xfm(res[:,:1], levels=levels-1)\n",
    "            x_t[:,:1] = res\n",
    "        x_t = x_t.reshape(-1,2,h//2,w//2).transpose(1,2).contiguous().reshape(-1,1,h,w)\n",
    "        return x_t\n",
    "    \n",
    "    def ifm(self, x, levels=5):\n",
    "        # inverse wavelet transform\n",
    "        h = x.size(2)\n",
    "        w = x.size(3)\n",
    "        res = x.reshape(-1,h//2,2,w//2).transpose(1,2).contiguous().reshape(-1,4,h//2,w//2).clone()\n",
    "        if levels > 1:\n",
    "            res[:,:1] = self.ifm(res[:,:1], levels=levels-1)\n",
    "        res = F.conv_transpose2d(res, self.inv_filters[:,None], stride=2)\n",
    "        res = res[:,:,2:-2,2:-2]\n",
    "        return res\n",
    "    \n",
    "\n",
    "class Mask_WaveCoeffs(nn.Module):\n",
    "    def __init__(self, img_size=256, requires_grad=True, device='cuda'):\n",
    "        super(Mask_WaveCoeffs, self).__init__()\n",
    "        self.img_size = img_size\n",
    "        mask_init = torch.ones(img_size,img_size)\n",
    "        self.mask = nn.Parameter(mask_init.to(device), requires_grad=requires_grad)\n",
    "        \n",
    "    def forward(self, x):\n",
    "        return torch.mul(x, self.mask)\n",
    "    \n",
    "    def projection(self):\n",
    "        self.mask.data = torch.clamp(self.mask.data, 0, 1)    "
   ]
  },
  {
   "cell_type": "code",
   "execution_count": 19,
   "metadata": {},
   "outputs": [],
   "source": [
    "# input\n",
    "torch.manual_seed(p.seed+1)\n",
    "im = iter(train_loader).next()[0].to(device)\n",
    "\n",
    "# wavelet transform\n",
    "wt = Wavelet_Transform()\n",
    "\n",
    "# prepend transformation onto network\n",
    "transform_i = lambda x: wt.ifm(x, levels=5)\n",
    "model_t = TrimModel(model, transform_i, use_residuals=True)\n",
    "\n",
    "# interp score\n",
    "attributer = InputXGradient(model_t)\n",
    "# attribution = attributer.attribute(im_w, target=1, additional_forward_args=deepcopy(im))\n"
   ]
  },
  {
   "cell_type": "code",
   "execution_count": 31,
   "metadata": {},
   "outputs": [
    {
     "data": {
      "image/png": "[encoded data removed]",
      "text/plain": [
       "<Figure size 1080x1080 with 1 Axes>"
      ]
     },
     "metadata": {
      "needs_background": "light"
     },
     "output_type": "display_data"
    }
   ],
   "source": [
    "viz_filters(wt.filters, n_row=2, n_col=2, resize_fac=1, normalize=True, title='Conv Filters')"
   ]
  },
  {
   "cell_type": "markdown",
   "metadata": {},
   "source": [
    "## learn wavelet filters"
   ]
  },
  {
   "cell_type": "code",
   "execution_count": null,
   "metadata": {},
   "outputs": [],
   "source": []
  },
  {
   "cell_type": "code",
   "execution_count": null,
   "metadata": {},
   "outputs": [],
   "source": []
  }
 ],
 "metadata": {
  "kernelspec": {
   "display_name": "Environment (conda_pytorch_p36)",
   "language": "python",
   "name": "conda_pytorch_p36"
  },
  "language_info": {
   "codemirror_mode": {
    "name": "ipython",
    "version": 3
   },
   "file_extension": ".py",
   "mimetype": "text/x-python",
   "name": "python",
   "nbconvert_exporter": "python",
   "pygments_lexer": "ipython3",
   "version": "3.6.10"
  }
 },
 "nbformat": 4,
 "nbformat_minor": 4
}
