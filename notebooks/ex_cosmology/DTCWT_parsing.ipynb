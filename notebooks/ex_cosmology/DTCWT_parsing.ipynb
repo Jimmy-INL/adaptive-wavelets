{
 "cells": [
  {
   "cell_type": "code",
   "execution_count": 1,
   "metadata": {},
   "outputs": [],
   "source": [
    "%load_ext autoreload\n",
    "%autoreload 2\n",
    "%matplotlib inline\n",
    "import matplotlib.pyplot as plt\n",
    "import numpy as np\n",
    "import torch\n",
    "device = 'cuda' if torch.cuda.is_available() else 'cpu'\n",
    "import os,sys\n",
    "opj = os.path.join\n",
    "from copy import deepcopy\n",
    "import pickle as pkl\n",
    "\n",
    "sys.path.append('../../src')\n",
    "sys.path.append('../../src/vae/models')\n",
    "sys.path.append('../../src/dsets/cosmology')\n",
    "from dset import get_dataloader\n",
    "from losses import _reconstruction_loss\n",
    "from viz import viz_im_r, cshow, viz_filters\n",
    "from sim_cosmology import p, load_dataloader_and_pretrained_model\n",
    "\n",
    "# trim modules\n",
    "sys.path.append('../../lib/trim')\n",
    "from trim import TrimModel\n",
    "\n",
    "# wt modules\n",
    "from wavelet_transform import Wavelet_Transform, Attributer\n",
    "from utils import tuple_L1Loss\n",
    "from pytorch_wavelets import DTCWTForward, DTCWTInverse, DWTForward, DWTInverse\n",
    "import pywt"
   ]
  },
  {
   "cell_type": "markdown",
   "metadata": {},
   "source": [
    "## load data and model"
   ]
  },
  {
   "cell_type": "code",
   "execution_count": 2,
   "metadata": {},
   "outputs": [],
   "source": [
    "# get dataloader and model\n",
    "train_loader, model = load_dataloader_and_pretrained_model(p)"
   ]
  },
  {
   "cell_type": "markdown",
   "metadata": {},
   "source": [
    "## interp score & optimize wavelet"
   ]
  },
  {
   "cell_type": "code",
   "execution_count": 54,
   "metadata": {},
   "outputs": [],
   "source": [
    "# input\n",
    "torch.manual_seed(p.seed)\n",
    "im = iter(train_loader).next()[0][0:64].to(device)\n",
    "im.requires_grad = True\n",
    "\n",
    "# wavelet transform with initialization\n",
    "wt = Wavelet_Transform(J=3)\n",
    "\n",
    "# prepend transformation onto network\n",
    "mt = TrimModel(model, wt.inverse)\n",
    "\n",
    "# attributer\n",
    "attr_methods = 'InputXGradient'\n",
    "attributer = Attributer(mt, attr_methods=attr_methods)"
   ]
  },
  {
   "cell_type": "code",
   "execution_count": null,
   "metadata": {},
   "outputs": [
    {
     "name": "stdout",
     "output_type": "stream",
     "text": [
      "Initial values: recon=0.000 and l1loss=65.414\n",
      "Starting Training Loop...\n",
      "Iteration: 85/100"
     ]
    }
   ],
   "source": [
    "# optimization params\n",
    "losses = []\n",
    "num_epochs = 100\n",
    "lamb = 100\n",
    "\n",
    "params = list(wt.xfm.parameters()) + list(wt.ifm.parameters())\n",
    "optimizer = torch.optim.SGD(params, lr=0.0000000005)\n",
    "\n",
    "# Training Loop\n",
    "# Lists to keep track of progress\n",
    "init_losses = [torch.norm(wt.inverse(wt(im)) - im)**2, tuple_L1Loss(attributer(wt(im), target=1))]\n",
    "print(\"Initial values: recon={:.3f} and l1loss={:.3f}\".format(init_losses[0], init_losses[1]))\n",
    "print(\"Starting Training Loop...\")\n",
    "# For each epoch\n",
    "for epoch in range(num_epochs):\n",
    "    # zero grad\n",
    "    optimizer.zero_grad()    \n",
    "    # loss\n",
    "    im_t = wt(im)\n",
    "    reconstruction = wt.inverse(im_t)\n",
    "    attributions = attributer(im_t, target=1)\n",
    "    loss = lamb*torch.norm(im - reconstruction)**2 + tuple_L1Loss(attributions)\n",
    "    # backward\n",
    "    loss.backward()\n",
    "    # Update step\n",
    "    optimizer.step()\n",
    "    \n",
    "    losses.append(loss.data.item())\n",
    "    print('\\rIteration: {}/{}'.format(epoch+1, num_epochs), end='')\n",
    "\n",
    "final_losses = [torch.norm(wt.inverse(wt(im)) - im)**2, tuple_L1Loss(attributer(wt(im), target=1))]\n",
    "print(\"\\nFinal values: recon={:.3f} and l1loss={:.3f}\".format(final_losses[0], final_losses[1]))    "
   ]
  },
  {
   "cell_type": "code",
   "execution_count": null,
   "metadata": {},
   "outputs": [],
   "source": [
    "plt.plot(losses)"
   ]
  },
  {
   "cell_type": "code",
   "execution_count": null,
   "metadata": {},
   "outputs": [],
   "source": []
  }
 ],
 "metadata": {
  "kernelspec": {
   "display_name": "Environment (conda_pytorch_p36)",
   "language": "python",
   "name": "conda_pytorch_p36"
  },
  "language_info": {
   "codemirror_mode": {
    "name": "ipython",
    "version": 3
   },
   "file_extension": ".py",
   "mimetype": "text/x-python",
   "name": "python",
   "nbconvert_exporter": "python",
   "pygments_lexer": "ipython3",
   "version": "3.6.10"
  }
 },
 "nbformat": 4,
 "nbformat_minor": 4
}
