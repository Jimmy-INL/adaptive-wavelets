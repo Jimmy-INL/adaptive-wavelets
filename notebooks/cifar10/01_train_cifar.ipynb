{
 "cells": [
  {
   "cell_type": "code",
   "execution_count": 30,
   "metadata": {},
   "outputs": [
    {
     "name": "stdout",
     "output_type": "stream",
     "text": [
      "The autoreload extension is already loaded. To reload it, use:\n",
      "  %reload_ext autoreload\n"
     ]
    }
   ],
   "source": [
    "%load_ext autoreload\n",
    "%autoreload 2\n",
    "%matplotlib inline\n",
    "import numpy as np\n",
    "import torch\n",
    "import matplotlib.pyplot as plt\n",
    "from tqdm import tqdm\n",
    "import torch.nn as nn\n",
    "import torch.nn.functional as F\n",
    "import torch.optim as optim\n",
    "import util\n",
    "import sys\n",
    "sys.path.append(\"../..\")\n",
    "\n",
    "import cifar10"
   ]
  },
  {
   "cell_type": "code",
   "execution_count": 21,
   "metadata": {},
   "outputs": [
    {
     "name": "stdout",
     "output_type": "stream",
     "text": [
      "cuda\n",
      "Files already downloaded and verified\n",
      "Files already downloaded and verified\n"
     ]
    }
   ],
   "source": [
    "device = 'cuda' if torch.cuda.is_available() else 'cpu'\n",
    "print(device)\n",
    "\n",
    "# load data \n",
    "data_path = \"../../data/cifar10\"\n",
    "train_loader, test_loader = cifar10.get_dataloader(data_path, batch_size=100, download=True)"
   ]
  },
  {
   "cell_type": "code",
   "execution_count": 23,
   "metadata": {},
   "outputs": [],
   "source": [
    "class Net(nn.Module):\n",
    "    def __init__(self):\n",
    "        super().__init__()\n",
    "        self.conv1 = nn.Conv2d(3, 6, 5)\n",
    "        self.pool = nn.MaxPool2d(2, 2)\n",
    "        self.conv2 = nn.Conv2d(6, 16, 5)\n",
    "        self.fc1 = nn.Linear(16 * 5 * 5, 120)\n",
    "        self.fc2 = nn.Linear(120, 84)\n",
    "        self.fc3 = nn.Linear(84, 10)\n",
    "\n",
    "    def forward(self, x):\n",
    "        x = self.pool(F.relu(self.conv1(x)))\n",
    "        x = self.pool(F.relu(self.conv2(x)))\n",
    "        x = torch.flatten(x, 1) # flatten all dimensions except batch\n",
    "        x = F.relu(self.fc1(x))\n",
    "        x = F.relu(self.fc2(x))\n",
    "        x = self.fc3(x)\n",
    "        return x\n",
    "    \n",
    "# define model and hyperparms\n",
    "criterion = nn.CrossEntropyLoss()\n",
    "optimizer = optim.Adam(net.parameters(), lr=0.001)\n",
    "num_epochs = 10\n",
    "net = Net().to(device)    "
   ]
  },
  {
   "cell_type": "markdown",
   "metadata": {},
   "source": [
    "# train cnn"
   ]
  },
  {
   "cell_type": "code",
   "execution_count": 32,
   "metadata": {},
   "outputs": [
    {
     "name": "stdout",
     "output_type": "stream",
     "text": [
      "Train Epoch: 1 [45000/50000 (90%)]\tLoss: 1.500776\n",
      "Test set: Average loss: 0.0002, Accuracy: 4550/10000 (45.50%)\n",
      "\n",
      "Train Epoch: 2 [45000/50000 (90%)]\tLoss: 1.379729\n",
      "Test set: Average loss: 0.0001, Accuracy: 5390/10000 (53.90%)\n",
      "\n",
      "Train Epoch: 3 [45000/50000 (90%)]\tLoss: 1.330050\n",
      "Test set: Average loss: 0.0001, Accuracy: 5640/10000 (56.40%)\n",
      "\n",
      "Train Epoch: 4 [45000/50000 (90%)]\tLoss: 1.189881\n",
      "Test set: Average loss: 0.0001, Accuracy: 5753/10000 (57.53%)\n",
      "\n",
      "Train Epoch: 5 [45000/50000 (90%)]\tLoss: 1.287006\n",
      "Test set: Average loss: 0.0001, Accuracy: 6042/10000 (60.42%)\n",
      "\n",
      "Train Epoch: 6 [45000/50000 (90%)]\tLoss: 1.345478\n",
      "Test set: Average loss: 0.0001, Accuracy: 5962/10000 (59.62%)\n",
      "\n",
      "Train Epoch: 7 [45000/50000 (90%)]\tLoss: 1.042157\n",
      "Test set: Average loss: 0.0001, Accuracy: 6065/10000 (60.65%)\n",
      "\n",
      "Train Epoch: 8 [45000/50000 (90%)]\tLoss: 1.040688\n",
      "Test set: Average loss: 0.0001, Accuracy: 6236/10000 (62.36%)\n",
      "\n",
      "Train Epoch: 9 [45000/50000 (90%)]\tLoss: 1.040002\n",
      "Test set: Average loss: 0.0001, Accuracy: 6186/10000 (61.86%)\n",
      "\n",
      "Train Epoch: 10 [45000/50000 (90%)]\tLoss: 0.792405\n",
      "Test set: Average loss: 0.0001, Accuracy: 6311/10000 (63.11%)\n",
      "\n"
     ]
    }
   ],
   "source": [
    "util.train(model, device, train_loader, test_loader, optimizer, num_epochs, criterion)"
   ]
  }
 ],
 "metadata": {
  "kernelspec": {
   "display_name": "Environment (conda_pytorch_p36)",
   "language": "python",
   "name": "conda_pytorch_p36"
  },
  "language_info": {
   "codemirror_mode": {
    "name": "ipython",
    "version": 3
   },
   "file_extension": ".py",
   "mimetype": "text/x-python",
   "name": "python",
   "nbconvert_exporter": "python",
   "pygments_lexer": "ipython3",
   "version": "3.6.10"
  }
 },
 "nbformat": 4,
 "nbformat_minor": 4
}
