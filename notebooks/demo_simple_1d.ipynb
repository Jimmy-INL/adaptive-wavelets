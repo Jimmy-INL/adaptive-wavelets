{
 "cells": [
  {
   "cell_type": "code",
   "execution_count": 1,
   "metadata": {},
   "outputs": [],
   "source": [
    "% load_ext autoreload\n",
    "% autoreload 2\n",
    "\n",
    "import os\n",
    "\n",
    "import matplotlib.pyplot as plt\n",
    "import torch\n",
    "\n",
    "opj = os.path.join\n",
    "device = 'cuda:0' if torch.cuda.is_available() else 'cpu'\n",
    "\n",
    "# adaptive-wavelets modules\n",
    "from awd.mdata.biology import get_dataloader\n",
    "from awd.utils import get_wavefun\n",
    "from awd.transform1d import DWT1d\n",
    "from awd.models.models import CNN\n",
    "\n",
    "# params\n",
    "wave = 'db5'\n",
    "mode = 'zero'\n",
    "J = 4"
   ]
  },
  {
   "cell_type": "markdown",
   "metadata": {},
   "source": [
    "# initialize 2d model"
   ]
  },
  {
   "cell_type": "code",
   "execution_count": 2,
   "metadata": {},
   "outputs": [
    {
     "data": {
      "image/png": "[encoded data removed]",
      "text/plain": [
       "<Figure size 432x288 with 1 Axes>"
      ]
     },
     "metadata": {
      "needs_background": "light"
     },
     "output_type": "display_data"
    }
   ],
   "source": [
    "# initialize model\n",
    "wt = DWT1d(wave=wave, mode=mode, J=J).to(device)\n",
    "\n",
    "# visualize\n",
    "phi_orig, psi_orig, x_orig = get_wavefun(wt)\n",
    "plt.plot(x_orig, psi_orig)\n",
    "plt.title('Original wave function')\n",
    "plt.show()"
   ]
  },
  {
   "cell_type": "markdown",
   "metadata": {},
   "source": [
    "# load bio data\n",
    "For larger data, can use a dataloader rather than just an array"
   ]
  },
  {
   "cell_type": "code",
   "execution_count": 3,
   "metadata": {},
   "outputs": [
    {
     "name": "stdout",
     "output_type": "stream",
     "text": [
      "torch.Size([2936, 1, 40])\n"
     ]
    }
   ],
   "source": [
    "data_loader, _ = get_dataloader('../data/biology', batch_size=2936)\n",
    "X = next(iter(data_loader))[0]\n",
    "print(X.shape)"
   ]
  },
  {
   "cell_type": "markdown",
   "metadata": {},
   "source": [
    "# fit adaptive wavelet to the data"
   ]
  },
  {
   "cell_type": "code",
   "execution_count": 4,
   "metadata": {},
   "outputs": [
    {
     "name": "stdout",
     "output_type": "stream",
     "text": [
      "Starting Training Loop...\n",
      "Train Epoch: 0 [0/2936 (0%)]\tLoss: 4.436715\n",
      "====> Epoch: 0 Average train loss: 4.4367\n",
      "Train Epoch: 1 [0/2936 (0%)]\tLoss: 6.254728\n",
      "====> Epoch: 1 Average train loss: 6.2547\n",
      "Train Epoch: 2 [0/2936 (0%)]\tLoss: 4.489949\n",
      "====> Epoch: 2 Average train loss: 4.4899\n",
      "Train Epoch: 3 [0/2936 (0%)]\tLoss: 5.589006\n",
      "====> Epoch: 3 Average train loss: 5.5890\n",
      "Train Epoch: 4 [0/2936 (0%)]\tLoss: 5.091020\n",
      "====> Epoch: 4 Average train loss: 5.0910\n",
      "Train Epoch: 5 [0/2936 (0%)]\tLoss: 4.405873\n",
      "====> Epoch: 5 Average train loss: 4.4059\n",
      "Train Epoch: 6 [0/2936 (0%)]\tLoss: 4.640895\n",
      "====> Epoch: 6 Average train loss: 4.6409\n",
      "Train Epoch: 7 [0/2936 (0%)]\tLoss: 4.988516\n",
      "====> Epoch: 7 Average train loss: 4.9885\n",
      "Train Epoch: 8 [0/2936 (0%)]\tLoss: 4.940691\n",
      "====> Epoch: 8 Average train loss: 4.9407\n",
      "Train Epoch: 9 [0/2936 (0%)]\tLoss: 4.617326\n",
      "====> Epoch: 9 Average train loss: 4.6173\n"
     ]
    }
   ],
   "source": [
    "wt.fit(X=X, lr=1e-2, num_epochs=10)  # this function alternatively accepts a dataloader"
   ]
  },
  {
   "cell_type": "code",
   "execution_count": 5,
   "metadata": {},
   "outputs": [
    {
     "data": {
      "text/plain": [
       "[<matplotlib.lines.Line2D at 0x7fe7a1631e48>]"
      ]
     },
     "execution_count": 5,
     "metadata": {},
     "output_type": "execute_result"
    },
    {
     "data": {
      "image/png": "[encoded data removed]",
      "text/plain": [
       "<Figure size 432x288 with 1 Axes>"
      ]
     },
     "metadata": {
      "needs_background": "light"
     },
     "output_type": "display_data"
    }
   ],
   "source": [
    "phi, psi, x = get_wavefun(wt)\n",
    "plt.plot(x, psi)\n",
    "plt.plot(x_orig, psi_orig)"
   ]
  },
  {
   "cell_type": "markdown",
   "metadata": {},
   "source": [
    "# add in pre-trained mnist model"
   ]
  },
  {
   "cell_type": "code",
   "execution_count": 23,
   "metadata": {},
   "outputs": [
    {
     "data": {
      "text/plain": [
       "CNN(\n",
       "  (conv1): Conv2d(1, 10, kernel_size=(5, 5), stride=(1, 1))\n",
       "  (conv2): Conv2d(10, 20, kernel_size=(5, 5), stride=(1, 1))\n",
       "  (fc1): Linear(in_features=320, out_features=50, bias=True)\n",
       "  (fc2): Linear(in_features=50, out_features=10, bias=True)\n",
       ")"
      ]
     },
     "execution_count": 23,
     "metadata": {},
     "output_type": "execute_result"
    }
   ],
   "source": [
    "# load a pre-trained CNN on MNIST (which acheives 99% acc)\n",
    "cnn = CNN().to(device)\n",
    "cnn.load_state_dict(torch.load('../data/mnist/CNN.pth'))\n",
    "cnn.eval()"
   ]
  },
  {
   "cell_type": "code",
   "execution_count": 33,
   "metadata": {},
   "outputs": [
    {
     "name": "stdout",
     "output_type": "stream",
     "text": [
      "Starting Training Loop...\n",
      "Train Epoch: 0 [0/200 (0%)]\tLoss: 5568.318359+0.000001j\n",
      "====> Epoch: 0 Average train loss: 5568.3184+0.0000j\n",
      "Train Epoch: 1 [0/200 (0%)]\tLoss: 4036649.250000+0.000002j\n",
      "====> Epoch: 1 Average train loss: 4036649.2500+0.0000j\n",
      "Train Epoch: 2 [0/200 (0%)]\tLoss: 22245920.000000+0.000001j\n",
      "====> Epoch: 2 Average train loss: 22245920.0000+0.0000j\n",
      "Train Epoch: 3 [0/200 (0%)]\tLoss: 3076850.750000+0.000001j\n",
      "====> Epoch: 3 Average train loss: 3076850.7500+0.0000j\n",
      "Train Epoch: 4 [0/200 (0%)]\tLoss: 3898468.500000+0.000002j\n",
      "====> Epoch: 4 Average train loss: 3898468.5000+0.0000j\n",
      "Train Epoch: 5 [0/200 (0%)]\tLoss: 4019536.000000+0.000002j\n",
      "====> Epoch: 5 Average train loss: 4019536.0000+0.0000j\n",
      "Train Epoch: 6 [0/200 (0%)]\tLoss: 3873358.000000+0.000002j\n",
      "====> Epoch: 6 Average train loss: 3873358.0000+0.0000j\n",
      "Train Epoch: 7 [0/200 (0%)]\tLoss: 3483141.750000+0.000001j\n",
      "====> Epoch: 7 Average train loss: 3483141.7500+0.0000j\n",
      "Train Epoch: 8 [0/200 (0%)]\tLoss: 2711307.500000+0.000001j\n",
      "====> Epoch: 8 Average train loss: 2711307.5000+0.0000j\n",
      "Train Epoch: 9 [0/200 (0%)]\tLoss: 1157615.375000+0.000001j\n",
      "====> Epoch: 9 Average train loss: 1157615.3750+0.0000j\n",
      "Train Epoch: 10 [0/200 (0%)]\tLoss: 2208187.000000+0.000001j\n",
      "====> Epoch: 10 Average train loss: 2208187.0000+0.0000j\n",
      "Train Epoch: 11 [0/200 (0%)]\tLoss: 27236342.000000+0.000001j\n",
      "====> Epoch: 11 Average train loss: 27236342.0000+0.0000j\n",
      "Train Epoch: 12 [0/200 (0%)]\tLoss: 735996.625000+0.000001j\n",
      "====> Epoch: 12 Average train loss: 735996.6250+0.0000j\n",
      "Train Epoch: 13 [0/200 (0%)]\tLoss: 2845571.000000+0.000001j\n",
      "====> Epoch: 13 Average train loss: 2845571.0000+0.0000j\n",
      "Train Epoch: 14 [0/200 (0%)]\tLoss: 3802706.750000+0.000002j\n",
      "====> Epoch: 14 Average train loss: 3802706.7500+0.0000j\n",
      "Train Epoch: 15 [0/200 (0%)]\tLoss: 4279433.500000+0.000002j\n",
      "====> Epoch: 15 Average train loss: 4279433.5000+0.0000j\n",
      "Train Epoch: 16 [0/200 (0%)]\tLoss: 4563451.000000+0.000002j\n",
      "====> Epoch: 16 Average train loss: 4563451.0000+0.0000j\n",
      "Train Epoch: 17 [0/200 (0%)]\tLoss: 4749390.000000+0.000002j\n",
      "====> Epoch: 17 Average train loss: 4749390.0000+0.0000j\n",
      "Train Epoch: 18 [0/200 (0%)]\tLoss: 4876876.500000+0.000002j\n",
      "====> Epoch: 18 Average train loss: 4876876.5000+0.0000j\n",
      "Train Epoch: 19 [0/200 (0%)]\tLoss: 4966191.000000+0.000002j\n",
      "====> Epoch: 19 Average train loss: 4966191.0000+0.0000j\n",
      "Train Epoch: 20 [0/200 (0%)]\tLoss: 5029199.500000+0.000002j\n",
      "====> Epoch: 20 Average train loss: 5029199.5000+0.0000j\n",
      "Train Epoch: 21 [0/200 (0%)]\tLoss: 5073470.500000+0.000002j\n",
      "====> Epoch: 21 Average train loss: 5073470.5000+0.0000j\n",
      "Train Epoch: 22 [0/200 (0%)]\tLoss: 5104117.000000+0.000002j\n",
      "====> Epoch: 22 Average train loss: 5104117.0000+0.0000j\n",
      "Train Epoch: 23 [0/200 (0%)]\tLoss: 5124723.500000+0.000002j\n",
      "====> Epoch: 23 Average train loss: 5124723.5000+0.0000j\n",
      "Train Epoch: 24 [0/200 (0%)]\tLoss: 5137864.000000+0.000002j\n",
      "====> Epoch: 24 Average train loss: 5137864.0000+0.0000j\n",
      "Train Epoch: 25 [0/200 (0%)]\tLoss: 5145420.500000+0.000002j\n",
      "====> Epoch: 25 Average train loss: 5145420.5000+0.0000j\n",
      "Train Epoch: 26 [0/200 (0%)]\tLoss: 5148786.500000+0.000002j\n",
      "====> Epoch: 26 Average train loss: 5148786.5000+0.0000j\n",
      "Train Epoch: 27 [0/200 (0%)]\tLoss: 5148997.000000+0.000002j\n",
      "====> Epoch: 27 Average train loss: 5148997.0000+0.0000j\n",
      "Train Epoch: 28 [0/200 (0%)]\tLoss: 5146828.500000+0.000002j\n",
      "====> Epoch: 28 Average train loss: 5146828.5000+0.0000j\n",
      "Train Epoch: 29 [0/200 (0%)]\tLoss: 5142865.000000+0.000002j\n",
      "====> Epoch: 29 Average train loss: 5142865.0000+0.0000j\n"
     ]
    }
   ],
   "source": [
    "wt = DWT2d(wave=wave, mode=mode, J=J).to(device)\n",
    "wt.fit(X=X, pretrained_model=cnn, lr=1e-1, num_epochs=30,\n",
    "       lamL1attr=5)  # this function alternatively accepts a dataloader"
   ]
  },
  {
   "cell_type": "code",
   "execution_count": 34,
   "metadata": {},
   "outputs": [
    {
     "data": {
      "text/plain": [
       "[<matplotlib.lines.Line2D at 0x7f6ee2f66e50>]"
      ]
     },
     "execution_count": 34,
     "metadata": {},
     "output_type": "execute_result"
    },
    {
     "data": {
      "image/png": "[encoded data removed]",
      "text/plain": [
       "<Figure size 432x288 with 1 Axes>"
      ]
     },
     "metadata": {
      "needs_background": "light"
     },
     "output_type": "display_data"
    }
   ],
   "source": [
    "phi, psi, x = get_wavefun(wt)\n",
    "plt.plot(x, psi)\n",
    "plt.plot(x_orig, psi_orig)"
   ]
  },
  {
   "cell_type": "code",
   "execution_count": null,
   "metadata": {},
   "outputs": [],
   "source": [
    "# initialize model\n",
    "wt = DWT2d(wave=wave, mode=mode, J=J).to(device)\n",
    "\n",
    "# visualize\n",
    "phi_orig, psi_orig, x_orig = get_wavefun(wt)\n",
    "plt.plot(x_orig, psi_orig)\n",
    "plt.title('Original wave function')\n",
    "plt.show()"
   ]
  }
 ],
 "metadata": {
  "kernelspec": {
   "display_name": "Environment (conda_pytorch_p36)",
   "language": "python",
   "name": "conda_pytorch_p36"
  },
  "language_info": {
   "codemirror_mode": {
    "name": "ipython",
    "version": 3
   },
   "file_extension": ".py",
   "mimetype": "text/x-python",
   "name": "python",
   "nbconvert_exporter": "python",
   "pygments_lexer": "ipython3",
   "version": "3.6.10"
  }
 },
 "nbformat": 4,
 "nbformat_minor": 4
}