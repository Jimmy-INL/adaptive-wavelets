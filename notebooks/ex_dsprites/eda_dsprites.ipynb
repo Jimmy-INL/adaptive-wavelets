{
 "cells": [
  {
   "cell_type": "code",
   "execution_count": 1,
   "metadata": {},
   "outputs": [],
   "source": [
    "%load_ext autoreload\n",
    "%autoreload 2\n",
    "%matplotlib inline\n",
    "import matplotlib.pyplot as plt\n",
    "import numpy as np\n",
    "import torch\n",
    "import random\n",
    "device = 'cuda' if torch.cuda.is_available() else 'cpu'\n",
    "import os,sys\n",
    "opj = os.path.join\n",
    "from tqdm import tqdm\n",
    "import acd\n",
    "from copy import deepcopy\n",
    "sys.path.append('../trim')\n",
    "from transforms_torch import transform_bandpass, tensor_t_augment, batch_fftshift2d, batch_ifftshift2d\n",
    "from trim import *\n",
    "from util import *\n",
    "from attributions import *\n",
    "from captum.attr import *\n",
    "import warnings\n",
    "warnings.filterwarnings(\"ignore\")\n",
    "# disentangled vae\n",
    "sys.path.append('../disentangling-vae')\n",
    "from collections import defaultdict\n",
    "import vae_trim, vae_trim_viz\n",
    "from disvae.utils.modelIO import save_model, load_model, load_metadata\n",
    "from disvae.models.losses import get_loss_f\n",
    "from utils.datasets import get_dataloaders, DSprites"
   ]
  },
  {
   "cell_type": "markdown",
   "metadata": {},
   "source": [
    "### Train model"
   ]
  },
  {
   "cell_type": "code",
   "execution_count": 2,
   "metadata": {},
   "outputs": [],
   "source": [
    "args = vae_trim.parse_arguments()\n",
    "args.attr_lamb = 0\n",
    "name = args.loss + \"_\" + str(args.attr_lamb)\n",
    "args.name = name"
   ]
  },
  {
   "cell_type": "code",
   "execution_count": 3,
   "metadata": {},
   "outputs": [],
   "source": [
    "dataset = DSprites()"
   ]
  },
  {
   "cell_type": "code",
   "execution_count": 4,
   "metadata": {},
   "outputs": [],
   "source": [
    "dsprites = np.load('../disentangling-vae/data/dsprites/dsprite_train.npz')\n",
    "imgs = dsprites['imgs']\n",
    "latents_values = dsprites['latents_values']"
   ]
  },
  {
   "cell_type": "code",
   "execution_count": null,
   "metadata": {},
   "outputs": [],
   "source": [
    "0., 0.03225806, 0.06451613, 0.09677419,\n",
    "0.12903226, 0.16129032, 0.19354839, 0.22580645, \n",
    "    \n",
    "0.25806452,0.29032258, 0.32258065, 0.35483871, \n",
    "0.38709677, 0.41935484, 0.4516129, 0.48387097, \n",
    "\n",
    "0.51612903, 0.5483871, 0.58064516, 0.61290323, \n",
    "0.64516129, 0.67741935, 0.70967742, 0.74193548, \n",
    "\n",
    "0.77419355, 0.80645161, 0.83870968, 0.87096774, \n",
    "0.90322581,0.93548387, 0.96774194, 1.]),"
   ]
  },
  {
   "cell_type": "code",
   "execution_count": 5,
   "metadata": {},
   "outputs": [],
   "source": [
    "x_pos = latents_values[:,4]\n",
    "y_pos = latents_values[:,5]\n",
    "idx1 = np.logical_and(x_pos>=0, x_pos<=0.1)\n",
    "idx2 = np.logical_and(y_pos>=0, y_pos<=0.1)\n",
    "idx = np.logical_and(idx1, idx2)\n",
    "idx1 = np.logical_and(x_pos>=0.11, x_pos<=0.23)\n",
    "idx2 = np.logical_and(y_pos>=0.11, y_pos<=0.23)\n",
    "idx = idx + np.logical_and(idx1, idx2)\n",
    "idx1 = np.logical_and(x_pos>=0.24, x_pos<=0.36)\n",
    "idx2 = np.logical_and(y_pos>=0.24, y_pos<=0.36)\n",
    "idx = idx + np.logical_and(idx1, idx2)\n",
    "idx1 = np.logical_and(x_pos>=0.37, x_pos<=0.49)\n",
    "idx2 = np.logical_and(y_pos>=0.37, y_pos<=0.49)\n",
    "idx = idx + np.logical_and(idx1, idx2)\n",
    "idx1 = np.logical_and(x_pos>=0.50, x_pos<=0.62)\n",
    "idx2 = np.logical_and(y_pos>=0.50, y_pos<=0.62)\n",
    "idx = idx + np.logical_and(idx1, idx2)\n",
    "idx1 = np.logical_and(x_pos>=0.63, x_pos<=0.75)\n",
    "idx2 = np.logical_and(y_pos>=0.63, y_pos<=0.75)\n",
    "idx = idx + np.logical_and(idx1, idx2)\n",
    "idx1 = np.logical_and(x_pos>=0.76, x_pos<=0.88)\n",
    "idx2 = np.logical_and(y_pos>=0.76, y_pos<=0.88)\n",
    "idx = idx + np.logical_and(idx1, idx2)\n",
    "idx1 = np.logical_and(x_pos>=0.9, x_pos<=1.0)\n",
    "idx2 = np.logical_and(y_pos>=0.9, y_pos<=1.0)\n",
    "idx = idx + np.logical_and(idx1, idx2)\n",
    "print(idx.sum())"
   ]
  },
  {
   "cell_type": "code",
   "execution_count": 20,
   "metadata": {},
   "outputs": [
    {
     "data": {
      "text/plain": [
       "<matplotlib.image.AxesImage at 0x7fbec70c6978>"
      ]
     },
     "execution_count": 20,
     "metadata": {},
     "output_type": "execute_result"
    },
    {
     "data": {
      "image/png": "[encoded data removed]",
      "text/plain": [
       "<Figure size 432x288 with 1 Axes>"
      ]
     },
     "metadata": {
      "needs_background": "light"
     },
     "output_type": "display_data"
    }
   ],
   "source": [
    "plt.imshow(imgs[idx,:][35230])"
   ]
  },
  {
   "cell_type": "code",
   "execution_count": 99,
   "metadata": {},
   "outputs": [
    {
     "name": "stderr",
     "output_type": "stream",
     "text": [
      "[autoreload of utils.datasets failed: Traceback (most recent call last):\n",
      "  File \"/home/ubuntu/anaconda3/envs/pytorch_p36/lib/python3.6/site-packages/IPython/extensions/autoreload.py\", line 245, in check\n",
      "    superreload(m, reload, self.old_objects)\n",
      "  File \"/home/ubuntu/anaconda3/envs/pytorch_p36/lib/python3.6/site-packages/IPython/extensions/autoreload.py\", line 410, in superreload\n",
      "    update_generic(old_obj, new_obj)\n",
      "  File \"/home/ubuntu/anaconda3/envs/pytorch_p36/lib/python3.6/site-packages/IPython/extensions/autoreload.py\", line 347, in update_generic\n",
      "    update(a, b)\n",
      "  File \"/home/ubuntu/anaconda3/envs/pytorch_p36/lib/python3.6/site-packages/IPython/extensions/autoreload.py\", line 292, in update_class\n",
      "    if (old_obj == new_obj) is True:\n",
      "ValueError: The truth value of an array with more than one element is ambiguous. Use a.any() or a.all()\n",
      "]\n"
     ]
    }
   ],
   "source": [
    "x_pos = latents_values[:,4]\n",
    "y_pos = latents_values[:,5]\n",
    "idx1 = np.logical_and(x_pos>=0, x_pos<=0.23)\n",
    "idx2 = np.logical_and(y_pos>=0, y_pos<=0.23)\n",
    "idx = np.logical_and(idx1, idx2)\n",
    "idx1 = np.logical_and(x_pos>=0.25, x_pos<=0.49)\n",
    "idx2 = np.logical_and(y_pos>=0.25, y_pos<=0.49)\n",
    "idx = idx + np.logical_and(idx1, idx2)\n",
    "idx1 = np.logical_and(x_pos>=0.51, x_pos<=0.75)\n",
    "idx2 = np.logical_and(y_pos>=0.51, y_pos<=0.75)\n",
    "idx = idx + np.logical_and(idx1, idx2)\n",
    "idx1 = np.logical_and(x_pos>=0.77, x_pos<=1.0)\n",
    "idx2 = np.logical_and(y_pos>=0.77, y_pos<=1.0)\n",
    "idx = idx + np.logical_and(idx1, idx2)\n",
    "print(idx.sum())"
   ]
  },
  {
   "cell_type": "code",
   "execution_count": 100,
   "metadata": {},
   "outputs": [
    {
     "name": "stdout",
     "output_type": "stream",
     "text": [
      "184320\n"
     ]
    }
   ],
   "source": [
    "print(idx.sum())"
   ]
  },
  {
   "cell_type": "code",
   "execution_count": 92,
   "metadata": {},
   "outputs": [],
   "source": [
    "x_pos = latents_values[:,4]\n",
    "y_pos = latents_values[:,5]\n",
    "idx1 = np.logical_and(x_pos>=0, x_pos<=0.1)\n",
    "idx2 = np.logical_and(y_pos>=0, y_pos<=0.1)\n",
    "idx = np.logical_and(idx1, idx2)"
   ]
  },
  {
   "cell_type": "code",
   "execution_count": null,
   "metadata": {},
   "outputs": [],
   "source": []
  },
  {
   "cell_type": "code",
   "execution_count": null,
   "metadata": {},
   "outputs": [],
   "source": []
  },
  {
   "cell_type": "code",
   "execution_count": 91,
   "metadata": {},
   "outputs": [
    {
     "data": {
      "text/plain": [
       "23040"
      ]
     },
     "execution_count": 91,
     "metadata": {},
     "output_type": "execute_result"
    }
   ],
   "source": [
    "idx.sum()"
   ]
  },
  {
   "cell_type": "code",
   "execution_count": 88,
   "metadata": {},
   "outputs": [
    {
     "data": {
      "text/plain": [
       "18000"
      ]
     },
     "execution_count": 88,
     "metadata": {},
     "output_type": "execute_result"
    }
   ],
   "source": [
    "idx.sum()"
   ]
  },
  {
   "cell_type": "code",
   "execution_count": 84,
   "metadata": {},
   "outputs": [
    {
     "data": {
      "text/plain": [
       "(737280,)"
      ]
     },
     "execution_count": 84,
     "metadata": {},
     "output_type": "execute_result"
    }
   ],
   "source": [
    "x_pos.shape"
   ]
  },
  {
   "cell_type": "code",
   "execution_count": 57,
   "metadata": {},
   "outputs": [],
   "source": [
    "slack = 0.07\n",
    "idx = np.logical_and(latents_values[:,5] <= latents_values[:,4] + slack, latents_values[:,5] >= latents_values[:,4] - slack)\n",
    "imgs0 = imgs[idx,:]\n",
    "latents_values0 = latents_values[idx,:]"
   ]
  },
  {
   "cell_type": "code",
   "execution_count": 62,
   "metadata": {},
   "outputs": [
    {
     "data": {
      "text/plain": [
       "<function utils.datasets.get_dataloaders(dataset, root=None, shuffle=True, pin_memory=True, batch_size=128, logger=<Logger utils.datasets (WARNING)>, **kwargs)>"
      ]
     },
     "execution_count": 62,
     "metadata": {},
     "output_type": "execute_result"
    }
   ],
   "source": [
    "get_dataloaders"
   ]
  },
  {
   "cell_type": "code",
   "execution_count": 78,
   "metadata": {},
   "outputs": [],
   "source": [
    "data_loader = get_dataloaders(args.dataset, batch_size=args.batch_size)"
   ]
  },
  {
   "cell_type": "code",
   "execution_count": 79,
   "metadata": {},
   "outputs": [
    {
     "data": {
      "text/plain": [
       "(110880, 64, 64)"
      ]
     },
     "execution_count": 79,
     "metadata": {},
     "output_type": "execute_result"
    }
   ],
   "source": [
    "data_loader.dataset.imgs.shape"
   ]
  },
  {
   "cell_type": "code",
   "execution_count": null,
   "metadata": {},
   "outputs": [],
   "source": []
  }
 ],
 "metadata": {
  "kernelspec": {
   "display_name": "Environment (conda_pytorch_p36)",
   "language": "python",
   "name": "conda_pytorch_p36"
  },
  "language_info": {
   "codemirror_mode": {
    "name": "ipython",
    "version": 3
   },
   "file_extension": ".py",
   "mimetype": "text/x-python",
   "name": "python",
   "nbconvert_exporter": "python",
   "pygments_lexer": "ipython3",
   "version": "3.6.10"
  }
 },
 "nbformat": 4,
 "nbformat_minor": 4
}
