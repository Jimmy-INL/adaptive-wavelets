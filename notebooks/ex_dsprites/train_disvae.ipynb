{
 "cells": [
  {
   "cell_type": "code",
   "execution_count": 16,
   "metadata": {},
   "outputs": [
    {
     "name": "stdout",
     "output_type": "stream",
     "text": [
      "The autoreload extension is already loaded. To reload it, use:\n",
      "  %reload_ext autoreload\n"
     ]
    }
   ],
   "source": [
    "%load_ext autoreload\n",
    "%autoreload 2\n",
    "%matplotlib inline\n",
    "import matplotlib.pyplot as plt\n",
    "import numpy as np\n",
    "import torch\n",
    "import random\n",
    "device = 'cuda' if torch.cuda.is_available() else 'cpu'\n",
    "import os,sys\n",
    "opj = os.path.join\n",
    "from tqdm import tqdm\n",
    "# import acd\n",
    "from random import randint\n",
    "from copy import deepcopy\n",
    "import pickle as pkl\n",
    "import argparse\n",
    "\n",
    "sys.path.append('../../src')\n",
    "sys.path.append('../../src/vae')\n",
    "sys.path.append('../../src/vae/models')\n",
    "sys.path.append('../../src/dsets/images')\n",
    "from dset import get_dataloaders\n",
    "from model import init_specific_model\n",
    "from losses import get_loss_f\n",
    "from training import Trainer\n",
    "from viz import viz_im_r\n",
    "\n",
    "sys.path.append('../../lib/trim')\n",
    "# trim modules\n",
    "from trim import DecoderEncoder\n",
    "\n",
    "sys.path.append('../../lib/disentangling-vae')\n",
    "import main"
   ]
  },
  {
   "cell_type": "markdown",
   "metadata": {},
   "source": [
    "### Train model"
   ]
  },
  {
   "cell_type": "code",
   "execution_count": 2,
   "metadata": {},
   "outputs": [],
   "source": [
    "class p:\n",
    "    '''Parameters for Gaussian mixture simulation\n",
    "    '''\n",
    "    # parameters for generating data\n",
    "    seed = 13\n",
    "    dataset = \"dsprites\"\n",
    "    \n",
    "    # parameters for model architecture\n",
    "    model_type = \"Burgess\"\n",
    "    latent_dim = 10 \n",
    "    img_size = (1, 64, 64)\n",
    "    \n",
    "    # parameters for training\n",
    "    train_batch_size = 64\n",
    "    test_batch_size = 100\n",
    "    lr = 1e-4\n",
    "    rec_dist = \"bernoulli\"\n",
    "    reg_anneal = 0\n",
    "    num_epochs = 100\n",
    "    \n",
    "    # hyperparameters for loss\n",
    "    beta = 0.01\n",
    "    lamPT = 0.0\n",
    "    lamNN = 0.0\n",
    "    lamH = 0.0\n",
    "    lamSP = 0.0\n",
    "    \n",
    "    # parameters for exp\n",
    "    warm_start = None # which parameter to warm start with respect to\n",
    "    seq_init = 1      # value of warm_start parameter to start with respect to\n",
    "    \n",
    "    # SAVE MODEL\n",
    "    out_dir = \"/home/ubuntu/local-vae/notebooks/ex_dsprites/results\" # wooseok's setup\n",
    "#     out_dir = '/scratch/users/vision/chandan/local-vae' # chandan's setup\n",
    "    dirname = \"vary\"\n",
    "    pid = ''.join([\"%s\" % randint(0, 9) for num in range(0, 10)])\n",
    "\n",
    "    def _str(self):\n",
    "        vals = vars(p)\n",
    "        return 'beta=' + str(vals['beta']) + '_lamPT=' + str(vals['lamPT']) + '_lamNN=' + str(vals['lamNN']) + '_lamSP=' + str(vals['lamSP']) \\\n",
    "                + '_seed=' + str(vals['seed']) + '_pid=' + vals['pid']\n",
    "    \n",
    "    def _dict(self):\n",
    "        return {attr: val for (attr, val) in vars(self).items()\n",
    "                 if not attr.startswith('_')}"
   ]
  },
  {
   "cell_type": "code",
   "execution_count": 3,
   "metadata": {},
   "outputs": [],
   "source": [
    "# create dir\n",
    "out_dir = opj(p.out_dir, p.dirname)\n",
    "os.makedirs(out_dir, exist_ok=True)  \n",
    "\n",
    "# seed\n",
    "random.seed(p.seed)\n",
    "np.random.seed(p.seed)\n",
    "torch.manual_seed(p.seed)\n",
    "\n",
    "# get dataloaders\n",
    "train_loader = get_dataloaders(p.dataset,\n",
    "                               batch_size=p.train_batch_size,\n",
    "                               logger=None)\n",
    "\n",
    "# prepare model\n",
    "model = init_specific_model(model_type=p.model_type, \n",
    "                            img_size=p.img_size,\n",
    "                            latent_dim=p.latent_dim,\n",
    "                            hidden_dim=None).to(device)\n",
    "# model.load_state_dict(torch.load('results/dsprites.pth'))\n",
    "\n",
    "# train\n",
    "optimizer = torch.optim.Adam(model.parameters(), lr=p.lr)\n",
    "loss_f = get_loss_f(decoder=model.decoder, **vars(p))\n",
    "trainer = Trainer(model, optimizer, loss_f, device=device)"
   ]
  },
  {
   "cell_type": "code",
   "execution_count": 13,
   "metadata": {},
   "outputs": [
    {
     "name": "stdout",
     "output_type": "stream",
     "text": [
      "====> Epoch: 0 Average train loss: 454.2503\n",
      "====> Epoch: 1 Average train loss: 117.2295\n",
      "====> Epoch: 2 Average train loss: 100.6720\n",
      "====> Epoch: 3 Average train loss: 89.8721\n",
      "====> Epoch: 4 Average train loss: 85.2039\n",
      "====> Epoch: 5 Average train loss: 71.9245\n",
      "====> Epoch: 6 Average train loss: 67.5513\n",
      "====> Epoch: 7 Average train loss: 64.9348\n",
      "====> Epoch: 8 Average train loss: 62.6947\n",
      "====> Epoch: 9 Average train loss: 60.4549\n",
      "====> Epoch: 10 Average train loss: 58.0562\n",
      "====> Epoch: 11 Average train loss: 55.2545\n",
      "====> Epoch: 12 Average train loss: 52.0855\n",
      "====> Epoch: 13 Average train loss: 48.7365\n",
      "====> Epoch: 14 Average train loss: 45.9909\n",
      "====> Epoch: 15 Average train loss: 44.0056\n",
      "====> Epoch: 16 Average train loss: 42.1119\n",
      "====> Epoch: 17 Average train loss: 40.4537\n",
      "====> Epoch: 18 Average train loss: 38.6026\n",
      "====> Epoch: 19 Average train loss: 37.2833\n",
      "====> Epoch: 20 Average train loss: 35.7892\n",
      "====> Epoch: 21 Average train loss: 34.6436\n",
      "====> Epoch: 22 Average train loss: 33.3018\n",
      "====> Epoch: 23 Average train loss: 32.0833\n",
      "====> Epoch: 24 Average train loss: 30.9106\n",
      "====> Epoch: 25 Average train loss: 29.9544\n",
      "====> Epoch: 26 Average train loss: 29.0598\n",
      "====> Epoch: 27 Average train loss: 28.3483\n",
      "====> Epoch: 28 Average train loss: 27.6252\n",
      "====> Epoch: 29 Average train loss: 27.0099\n",
      "====> Epoch: 30 Average train loss: 26.3565\n",
      "====> Epoch: 31 Average train loss: 25.9373\n",
      "====> Epoch: 32 Average train loss: 25.2648\n",
      "====> Epoch: 33 Average train loss: 24.8001\n",
      "====> Epoch: 34 Average train loss: 24.4368\n",
      "====> Epoch: 35 Average train loss: 23.9086\n",
      "====> Epoch: 36 Average train loss: 23.4675\n",
      "====> Epoch: 37 Average train loss: 23.0422\n",
      "====> Epoch: 38 Average train loss: 22.6721\n",
      "====> Epoch: 39 Average train loss: 22.3811\n",
      "====> Epoch: 40 Average train loss: 21.8296\n",
      "====> Epoch: 41 Average train loss: 21.5758\n",
      "====> Epoch: 42 Average train loss: 21.2130\n",
      "====> Epoch: 43 Average train loss: 20.9143\n",
      "====> Epoch: 44 Average train loss: 20.5912\n",
      "====> Epoch: 45 Average train loss: 20.2874\n",
      "====> Epoch: 46 Average train loss: 19.9558\n",
      "====> Epoch: 47 Average train loss: 19.7042\n",
      "====> Epoch: 48 Average train loss: 19.4544\n",
      "====> Epoch: 49 Average train loss: 19.0799\n",
      "====> Epoch: 50 Average train loss: 18.9571\n",
      "====> Epoch: 51 Average train loss: 18.6505\n",
      "====> Epoch: 52 Average train loss: 18.3812\n",
      "====> Epoch: 53 Average train loss: 18.2843\n",
      "====> Epoch: 54 Average train loss: 17.9363\n",
      "====> Epoch: 55 Average train loss: 17.7425\n",
      "====> Epoch: 56 Average train loss: 17.5312\n",
      "====> Epoch: 57 Average train loss: 17.3364\n",
      "====> Epoch: 58 Average train loss: 17.0999\n",
      "====> Epoch: 59 Average train loss: 16.9328\n",
      "====> Epoch: 60 Average train loss: 16.7735\n",
      "====> Epoch: 61 Average train loss: 16.5021\n",
      "====> Epoch: 62 Average train loss: 16.4031\n",
      "====> Epoch: 63 Average train loss: 16.1831\n",
      "====> Epoch: 64 Average train loss: 16.0988\n",
      "====> Epoch: 65 Average train loss: 15.8054\n",
      "====> Epoch: 66 Average train loss: 15.6928\n",
      "====> Epoch: 67 Average train loss: 15.5231\n",
      "====> Epoch: 68 Average train loss: 15.4206\n",
      "====> Epoch: 69 Average train loss: 15.2321\n",
      "====> Epoch: 70 Average train loss: 15.0682\n",
      "====> Epoch: 71 Average train loss: 14.9833\n",
      "====> Epoch: 72 Average train loss: 14.7363\n",
      "====> Epoch: 73 Average train loss: 14.7271\n",
      "====> Epoch: 74 Average train loss: 14.5131\n",
      "====> Epoch: 75 Average train loss: 14.3686\n",
      "====> Epoch: 76 Average train loss: 14.3938\n",
      "====> Epoch: 77 Average train loss: 14.1203\n",
      "====> Epoch: 78 Average train loss: 14.0358\n",
      "====> Epoch: 79 Average train loss: 13.9961\n",
      "====> Epoch: 80 Average train loss: 13.7488\n",
      "====> Epoch: 81 Average train loss: 13.7118\n",
      "====> Epoch: 82 Average train loss: 13.6609\n",
      "====> Epoch: 83 Average train loss: 13.4790\n",
      "====> Epoch: 84 Average train loss: 13.3934\n",
      "====> Epoch: 85 Average train loss: 13.3361\n",
      "====> Epoch: 86 Average train loss: 13.2379\n",
      "====> Epoch: 87 Average train loss: 13.0770\n",
      "====> Epoch: 88 Average train loss: 13.0514\n",
      "====> Epoch: 89 Average train loss: 12.9233\n",
      "====> Epoch: 90 Average train loss: 12.9073\n",
      "====> Epoch: 91 Average train loss: 12.6705\n",
      "====> Epoch: 92 Average train loss: 12.7548\n",
      "====> Epoch: 93 Average train loss: 12.5682\n",
      "====> Epoch: 94 Average train loss: 12.5382\n",
      "====> Epoch: 95 Average train loss: 12.4082\n",
      "====> Epoch: 96 Average train loss: 12.3075\n",
      "====> Epoch: 97 Average train loss: 12.2648\n",
      "====> Epoch: 98 Average train loss: 12.1777\n",
      "====> Epoch: 99 Average train loss: 12.1538\n"
     ]
    }
   ],
   "source": [
    "trainer(train_loader, epochs=p.num_epochs)"
   ]
  },
  {
   "cell_type": "code",
   "execution_count": 23,
   "metadata": {},
   "outputs": [
    {
     "data": {
      "image/png": "[encoded data removed]",
      "text/plain": [
       "<Figure size 720x720 with 3 Axes>"
      ]
     },
     "metadata": {
      "needs_background": "light"
     },
     "output_type": "display_data"
    }
   ],
   "source": [
    "im = iter(train_loader).next()[0].to(device)\n",
    "recon_data, latent_dist, latent_sample = model(im)\n",
    "viz_im_r(im[10,0], recon_data[10,0])\n",
    "torch.save(model.state_dict(), 'results/dsprites.pth')"
   ]
  },
  {
   "cell_type": "code",
   "execution_count": 34,
   "metadata": {},
   "outputs": [],
   "source": [
    "from scipy import stats\n",
    "from visualize import Visualizer\n",
    "import torch.nn.functional as F\n",
    "from visualize import make_grid_img, get_samples\n",
    "from torchvision.utils import make_grid"
   ]
  },
  {
   "cell_type": "code",
   "execution_count": 47,
   "metadata": {},
   "outputs": [],
   "source": [
    "model_dir = opj('results/cosmo')\n",
    "model.eval()  # don't sample from latent: use mean\n",
    "viz = Visualizer(model=model,\n",
    "                 model_dir=model_dir,\n",
    "                 save_images=False)\n",
    "n_rows = 10\n",
    "n_cols = 10\n",
    "size = (n_rows, n_cols)\n",
    "num_samples = n_rows * n_cols\n",
    "samples = get_samples(train_loader.dataset, num_samples)"
   ]
  },
  {
   "cell_type": "code",
   "execution_count": 48,
   "metadata": {},
   "outputs": [],
   "source": [
    "a = viz.traversals(data=samples[0:1, ...],\n",
    "               n_per_latent=n_cols,\n",
    "               n_latents=n_rows,\n",
    "               is_force_return=True)"
   ]
  },
  {
   "cell_type": "code",
   "execution_count": 50,
   "metadata": {},
   "outputs": [
    {
     "data": {
      "image/png": "[encoded data removed]",
      "text/plain": [
       "<Figure size 720x720 with 1 Axes>"
      ]
     },
     "metadata": {
      "needs_background": "light"
     },
     "output_type": "display_data"
    }
   ],
   "source": [
    "plt.figure(figsize=(10,10))\n",
    "plt.imshow(a, cmap='magma')\n",
    "plt.axis('off')\n",
    "plt.show()"
   ]
  },
  {
   "cell_type": "code",
   "execution_count": null,
   "metadata": {},
   "outputs": [],
   "source": []
  },
  {
   "cell_type": "code",
   "execution_count": null,
   "metadata": {},
   "outputs": [],
   "source": []
  },
  {
   "cell_type": "code",
   "execution_count": null,
   "metadata": {},
   "outputs": [],
   "source": []
  },
  {
   "cell_type": "code",
   "execution_count": null,
   "metadata": {},
   "outputs": [],
   "source": []
  },
  {
   "cell_type": "code",
   "execution_count": null,
   "metadata": {},
   "outputs": [],
   "source": []
  }
 ],
 "metadata": {
  "kernelspec": {
   "display_name": "Environment (conda_pytorch_p36)",
   "language": "python",
   "name": "conda_pytorch_p36"
  },
  "language_info": {
   "codemirror_mode": {
    "name": "ipython",
    "version": 3
   },
   "file_extension": ".py",
   "mimetype": "text/x-python",
   "name": "python",
   "nbconvert_exporter": "python",
   "pygments_lexer": "ipython3",
   "version": "3.6.10"
  }
 },
 "nbformat": 4,
 "nbformat_minor": 4
}
