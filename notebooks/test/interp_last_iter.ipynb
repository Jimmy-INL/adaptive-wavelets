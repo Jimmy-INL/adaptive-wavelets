{
 "cells": [
  {
   "cell_type": "code",
   "execution_count": 1,
   "metadata": {},
   "outputs": [],
   "source": [
    "%load_ext autoreload\n",
    "%autoreload 2\n",
    "%matplotlib inline\n",
    "import numpy as np\n",
    "import torch\n",
    "import random\n",
    "import sys\n",
    "from copy import deepcopy\n",
    "import matplotlib.pyplot as plt\n",
    "device = 'cuda' if torch.cuda.is_available() else 'cpu'\n",
    "\n",
    "from ex_biology import p\n",
    "sys.path.append('preprocessing')\n",
    "import data\n",
    "import neural_networks\n",
    "\n",
    "# adaptive-wavelets modules\n",
    "sys.path.append('../..')\n",
    "from src import adaptive_wavelets\n",
    "from src.dsets.biology import dset\n",
    "from src.visualize import cshow, plot_1dfilts, plot_1dreconstruct, plot_wavefun\n",
    "from src.trim import TrimModel"
   ]
  },
  {
   "cell_type": "code",
   "execution_count": 2,
   "metadata": {},
   "outputs": [],
   "source": [
    "# parameters for initialization\n",
    "p.wave = 'db5'\n",
    "p.J = 4\n",
    "p.mode = 'zero'\n",
    "p.init_factor = 1\n",
    "p.noise_factor = 0    \n",
    "p.const_factor = 0\n",
    "p.num_epochs = 200\n",
    "p.lamL1wave = 0.0001\n",
    "p.lamL1attr = 0.2"
   ]
  },
  {
   "cell_type": "code",
   "execution_count": 3,
   "metadata": {},
   "outputs": [],
   "source": [
    "# load data and model\n",
    "train_loader, test_loader = dset.get_dataloader(p.data_path, \n",
    "                                                batch_size=p.batch_size,\n",
    "                                                is_continuous=p.is_continuous)   \n",
    "\n",
    "model = dset.load_pretrained_model(p.model_path, device=device)  \n",
    "\n",
    "# prepare model\n",
    "random.seed(p.seed)\n",
    "np.random.seed(p.seed)\n",
    "torch.manual_seed(p.seed)  \n",
    "\n",
    "wt = adaptive_wavelets.DWT1d(wave=p.wave, mode=p.mode, J=p.J, \n",
    "                             init_factor=p.init_factor, \n",
    "                             noise_factor=p.noise_factor,\n",
    "                             const_factor=p.const_factor).to(device)\n",
    "wt.train()\n",
    "\n",
    "# train\n",
    "params = list(wt.parameters())\n",
    "optimizer = torch.optim.Adam(params, lr=p.lr)\n",
    "loss_f = adaptive_wavelets.get_loss_f(lamlSum=p.lamlSum, lamhSum=p.lamhSum, lamL2norm=p.lamL2norm, \n",
    "                                      lamCMF=p.lamCMF, lamConv=p.lamConv, lamL1wave=p.lamL1wave, lamL1attr=p.lamL1attr)\n",
    "\n",
    "model = model.to(device)\n",
    "wt_inverse = wt.inverse \n",
    "mt = TrimModel(model, wt_inverse, use_residuals=True) \n",
    "attributer = adaptive_wavelets.Attributer(mt, attr_methods=p.attr_methods, device=device)\n",
    "target = p.target\n",
    "n_print = 5"
   ]
  },
  {
   "cell_type": "code",
   "execution_count": 4,
   "metadata": {},
   "outputs": [
    {
     "name": "stdout",
     "output_type": "stream",
     "text": [
      "Train Epoch: 0 [1044/2936 (97%)]\tLoss: 0.000437\n",
      "====> Epoch: 0 Average train loss: 0.0043\n",
      "Train Epoch: 5 [1044/2936 (97%)]\tLoss: 0.000460\n",
      "====> Epoch: 5 Average train loss: 0.0004\n",
      "Train Epoch: 10 [1044/2936 (97%)]\tLoss: 0.000467\n",
      "====> Epoch: 10 Average train loss: 0.0004\n",
      "Train Epoch: 15 [1044/2936 (97%)]\tLoss: 0.000445\n",
      "====> Epoch: 15 Average train loss: 0.0004\n",
      "Train Epoch: 20 [1044/2936 (97%)]\tLoss: 0.000462\n",
      "====> Epoch: 20 Average train loss: 0.0004\n",
      "Train Epoch: 25 [1044/2936 (97%)]\tLoss: 0.000426\n",
      "====> Epoch: 25 Average train loss: 0.0004\n",
      "Train Epoch: 30 [1044/2936 (97%)]\tLoss: 0.000439\n",
      "====> Epoch: 30 Average train loss: 0.0004\n",
      "Train Epoch: 35 [1044/2936 (97%)]\tLoss: 0.000431\n",
      "====> Epoch: 35 Average train loss: 0.0004\n",
      "Train Epoch: 40 [1044/2936 (97%)]\tLoss: 0.000457\n",
      "====> Epoch: 40 Average train loss: 0.0004\n",
      "Train Epoch: 45 [1044/2936 (97%)]\tLoss: 0.000419\n",
      "====> Epoch: 45 Average train loss: 0.0004\n",
      "Train Epoch: 50 [1044/2936 (97%)]\tLoss: 0.000425\n",
      "====> Epoch: 50 Average train loss: 0.0004\n",
      "Train Epoch: 55 [1044/2936 (97%)]\tLoss: 0.000440\n",
      "====> Epoch: 55 Average train loss: 0.0004\n",
      "Train Epoch: 60 [1044/2936 (97%)]\tLoss: 0.000479\n",
      "====> Epoch: 60 Average train loss: 0.0011\n",
      "Train Epoch: 65 [1044/2936 (97%)]\tLoss: 0.000448\n",
      "====> Epoch: 65 Average train loss: 0.0004\n",
      "Train Epoch: 70 [1044/2936 (97%)]\tLoss: 0.000444\n",
      "====> Epoch: 70 Average train loss: 0.0004\n",
      "Train Epoch: 75 [1044/2936 (97%)]\tLoss: 0.000474\n",
      "====> Epoch: 75 Average train loss: 0.0004\n",
      "Train Epoch: 80 [1044/2936 (97%)]\tLoss: 0.000455\n",
      "====> Epoch: 80 Average train loss: 0.0004\n",
      "Train Epoch: 85 [1044/2936 (97%)]\tLoss: 0.000444\n",
      "====> Epoch: 85 Average train loss: 0.0004\n",
      "Train Epoch: 90 [1044/2936 (97%)]\tLoss: 0.000439\n",
      "====> Epoch: 90 Average train loss: 0.0004\n",
      "Train Epoch: 95 [1044/2936 (97%)]\tLoss: 0.000417\n",
      "====> Epoch: 95 Average train loss: 0.0004\n",
      "Train Epoch: 100 [1044/2936 (97%)]\tLoss: 0.000490\n",
      "====> Epoch: 100 Average train loss: 0.0004\n",
      "Train Epoch: 105 [1044/2936 (97%)]\tLoss: 0.002014\n",
      "====> Epoch: 105 Average train loss: 0.0069\n",
      "Train Epoch: 110 [1044/2936 (97%)]\tLoss: 0.000447\n",
      "====> Epoch: 110 Average train loss: 0.0004\n",
      "Train Epoch: 115 [1044/2936 (97%)]\tLoss: 0.000468\n",
      "====> Epoch: 115 Average train loss: 0.0004\n",
      "Train Epoch: 120 [1044/2936 (97%)]\tLoss: 0.000441\n",
      "====> Epoch: 120 Average train loss: 0.0004\n",
      "Train Epoch: 125 [1044/2936 (97%)]\tLoss: 0.000452\n",
      "====> Epoch: 125 Average train loss: 0.0004\n",
      "Train Epoch: 130 [1044/2936 (97%)]\tLoss: 0.000485\n",
      "====> Epoch: 130 Average train loss: 0.0004\n",
      "Train Epoch: 135 [1044/2936 (97%)]\tLoss: 0.000444\n",
      "====> Epoch: 135 Average train loss: 0.0004\n",
      "Train Epoch: 140 [1044/2936 (97%)]\tLoss: 0.000446\n",
      "====> Epoch: 140 Average train loss: 0.0004\n",
      "Train Epoch: 145 [1044/2936 (97%)]\tLoss: 0.000445\n",
      "====> Epoch: 145 Average train loss: 0.0004\n",
      "Train Epoch: 150 [1044/2936 (97%)]\tLoss: 0.000437\n",
      "====> Epoch: 150 Average train loss: 0.0004\n",
      "Train Epoch: 155 [1044/2936 (97%)]\tLoss: 0.079986\n",
      "====> Epoch: 155 Average train loss: 0.0859\n",
      "Train Epoch: 160 [1044/2936 (97%)]\tLoss: 0.089664\n",
      "====> Epoch: 160 Average train loss: 0.0852\n",
      "Train Epoch: 165 [1044/2936 (97%)]\tLoss: 0.083765\n",
      "====> Epoch: 165 Average train loss: 0.0842\n",
      "Train Epoch: 170 [1044/2936 (97%)]\tLoss: 0.078180\n",
      "====> Epoch: 170 Average train loss: 0.0833\n",
      "Train Epoch: 175 [1044/2936 (97%)]\tLoss: 0.103642\n",
      "====> Epoch: 175 Average train loss: 0.0834\n",
      "Train Epoch: 180 [1044/2936 (97%)]\tLoss: 0.081269\n",
      "====> Epoch: 180 Average train loss: 0.0820\n",
      "Train Epoch: 185 [1044/2936 (97%)]\tLoss: 0.076099\n",
      "====> Epoch: 185 Average train loss: 0.0814\n",
      "Train Epoch: 190 [1044/2936 (97%)]\tLoss: 0.078292\n",
      "====> Epoch: 190 Average train loss: 0.0809\n",
      "Train Epoch: 195 [1044/2936 (97%)]\tLoss: 0.089924\n",
      "====> Epoch: 195 Average train loss: 0.0805\n"
     ]
    }
   ],
   "source": [
    "# store training losses\n",
    "train_losses = []\n",
    "\n",
    "for epoch in range(p.num_epochs):\n",
    "    epoch_loss = 0.\n",
    "    for batch_idx, (data, y) in enumerate(train_loader):\n",
    "        data = data.to(device)\n",
    "        y = y.to(device)\n",
    "        \n",
    "        # zero grad\n",
    "        optimizer.zero_grad()\n",
    "        \n",
    "        # transform\n",
    "        data_t = wt(data)\n",
    "\n",
    "        # reconstruction\n",
    "        recon_data = wt_inverse(data_t) \n",
    "        \n",
    "        # TRIM score\n",
    "        with torch.backends.cudnn.flags(enabled=False):\n",
    "            attributions = attributer(data_t, target=p.target, additional_forward_args=deepcopy(data)) if epoch > 150 else None        \n",
    "        \n",
    "        # loss\n",
    "        loss = loss_f(wt, data, recon_data, data_t, attributions) \n",
    "        \n",
    "        # backward\n",
    "        loss.backward()\n",
    "        \n",
    "        # update step\n",
    "        optimizer.step()          \n",
    "        \n",
    "        iter_loss = loss.item()   \n",
    "        epoch_loss += iter_loss\n",
    "        \n",
    "        if epoch % n_print == 0:      \n",
    "            print('\\rTrain Epoch: {} [{}/{} ({:.0f}%)]\\tLoss: {:.6f}'.format(\n",
    "                epoch, batch_idx * len(data), len(train_loader.dataset),\n",
    "                       100. * batch_idx / len(train_loader), iter_loss), end='')              \n",
    "\n",
    "    mean_epoch_loss = epoch_loss / (batch_idx + 1)\n",
    "    \n",
    "    if epoch % n_print == 0:\n",
    "        print('\\n====> Epoch: {} Average train loss: {:.4f}'.format(epoch, mean_epoch_loss)) \n",
    "        \n",
    "    train_losses.append(mean_epoch_loss)\n",
    "    "
   ]
  },
  {
   "cell_type": "code",
   "execution_count": 5,
   "metadata": {},
   "outputs": [
    {
     "data": {
      "image/png": "[encoded data removed]",
      "text/plain": [
       "<Figure size 432x288 with 1 Axes>"
      ]
     },
     "metadata": {
      "needs_background": "light"
     },
     "output_type": "display_data"
    }
   ],
   "source": [
    "plt.plot(np.log(train_losses))\n",
    "plt.xlabel(\"epochs\")\n",
    "plt.ylabel(\"log train loss\")\n",
    "plt.title('Log-train loss vs epochs')\n",
    "plt.show()"
   ]
  },
  {
   "cell_type": "code",
   "execution_count": 6,
   "metadata": {},
   "outputs": [
    {
     "name": "stdout",
     "output_type": "stream",
     "text": [
      "Reconstruction error=0.00108\n"
     ]
    },
    {
     "data": {
      "image/png": "[encoded data removed]",
      "text/plain": [
       "<Figure size 400x400 with 2 Axes>"
      ]
     },
     "metadata": {
      "needs_background": "light"
     },
     "output_type": "display_data"
    },
    {
     "data": {
      "image/png": "[encoded data removed]",
      "text/plain": [
       "<Figure size 900x300 with 2 Axes>"
      ]
     },
     "metadata": {
      "needs_background": "light"
     },
     "output_type": "display_data"
    }
   ],
   "source": [
    "data = iter(test_loader).next()[0].to(device)\n",
    "data_t = wt(data)\n",
    "recon = wt.inverse(data_t)\n",
    "\n",
    "print(\"Reconstruction error={:.5f}\".format(torch.norm(recon - data)**2/data.size(0)))\n",
    "\n",
    "# get 2d wavelet filters\n",
    "filt = adaptive_wavelets.get_1dfilts(wt)\n",
    "phi, psi, x = adaptive_wavelets.get_wavefun(wt)\n",
    "\n",
    "plot_1dfilts(filt, is_title=True, figsize=(2,2))\n",
    "plot_wavefun((phi, psi, x), is_title=True, figsize=(3,1))"
   ]
  },
  {
   "cell_type": "code",
   "execution_count": null,
   "metadata": {},
   "outputs": [],
   "source": []
  }
 ],
 "metadata": {
  "kernelspec": {
   "display_name": "Environment (conda_pytorch_p36)",
   "language": "python",
   "name": "conda_pytorch_p36"
  },
  "language_info": {
   "codemirror_mode": {
    "name": "ipython",
    "version": 3
   },
   "file_extension": ".py",
   "mimetype": "text/x-python",
   "name": "python",
   "nbconvert_exporter": "python",
   "pygments_lexer": "ipython3",
   "version": "3.6.10"
  }
 },
 "nbformat": 4,
 "nbformat_minor": 4
}
