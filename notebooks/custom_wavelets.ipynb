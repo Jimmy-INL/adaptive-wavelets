{
 "cells": [
  {
   "cell_type": "code",
   "execution_count": 1,
   "metadata": {},
   "outputs": [],
   "source": [
    "# starts from original src code for pywt and pytorch_wavelets\n",
    "# if these are already installed, should uninstall them\n",
    "# then, re-install locally using python setup.py develop for both in lib folder"
   ]
  },
  {
   "cell_type": "code",
   "execution_count": 3,
   "metadata": {},
   "outputs": [],
   "source": [
    "import pywt\n",
    "import pytorch_wavelets\n",
    "\n",
    "import torch\n",
    "from pytorch_wavelets import DWTForward, DWTInverse # (or import DWT, IDWT)\n"
   ]
  },
  {
   "cell_type": "code",
   "execution_count": 4,
   "metadata": {},
   "outputs": [
    {
     "name": "stdout",
     "output_type": "stream",
     "text": [
      "torch.Size([10, 5, 12, 12])\n"
     ]
    }
   ],
   "source": [
    "xfm = DWTForward(J=3, mode='zero', wave='db3')  # Accepts all wave types available to PyWavelets\n",
    "ifm = DWTInverse(mode='zero', wave='db3')\n",
    "X = torch.randn(10,5,64,64)\n",
    "Yl, Yh = xfm(X)\n",
    "print(Yl.shape)"
   ]
  },
  {
   "cell_type": "code",
   "execution_count": null,
   "metadata": {},
   "outputs": [],
   "source": []
  }
 ],
 "metadata": {
  "kernelspec": {
   "display_name": "Python 3",
   "language": "python",
   "name": "python3"
  },
  "language_info": {
   "codemirror_mode": {
    "name": "ipython",
    "version": 3
   },
   "file_extension": ".py",
   "mimetype": "text/x-python",
   "name": "python",
   "nbconvert_exporter": "python",
   "pygments_lexer": "ipython3",
   "version": "3.7.0"
  }
 },
 "nbformat": 4,
 "nbformat_minor": 2
}
