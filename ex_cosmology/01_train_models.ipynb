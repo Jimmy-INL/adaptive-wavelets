{
 "cells": [
  {
   "cell_type": "markdown",
   "metadata": {
    "colab_type": "text",
    "id": "2rg2KQ-iieHN"
   },
   "source": [
    "## Data Preparation"
   ]
  },
  {
   "cell_type": "code",
   "execution_count": 1,
   "metadata": {
    "colab": {
     "base_uri": "https://localhost:8080/",
     "height": 35
    },
    "colab_type": "code",
    "id": "Akr87A3ojAkR",
    "outputId": "5ba4d687-165b-4661-ac05-ee78bcb356c1"
   },
   "outputs": [
    {
     "name": "stdout",
     "output_type": "stream",
     "text": [
      "Populating the interactive namespace from numpy and matplotlib\n"
     ]
    }
   ],
   "source": [
    "from __future__ import print_function, division\n",
    "import os\n",
    "import torch\n",
    "from skimage import io, transform\n",
    "import numpy as np\n",
    "import matplotlib.pyplot as plt\n",
    "from torch.utils.data import Dataset, DataLoader\n",
    "from torchvision import transforms, utils\n",
    "from astropy.io import fits\n",
    "import torchvision\n",
    "import torch.nn as nn\n",
    "from torchvision import datasets, models, transforms\n",
    "import time\n",
    "import os\n",
    "import copy\n",
    "from sklearn.metrics import r2_score\n",
    "from data import MassMapsDatasetFilteredS8 as MassMapsDataset\n",
    "from data import ToTensor\n",
    "import torchvision.transforms.functional as F\n",
    "import random\n",
    "\n",
    "# Ignore warnings\n",
    "import warnings\n",
    "warnings.filterwarnings(\"ignore\")\n",
    "%pylab inline"
   ]
  },
  {
   "cell_type": "code",
   "execution_count": null,
   "metadata": {
    "colab": {
     "base_uri": "https://localhost:8080/",
     "height": 1000
    },
    "colab_type": "code",
    "id": "snWLaALChtBc",
    "outputId": "86c6f27c-6acb-45f9-f0d3-225a39fbd348"
   },
   "outputs": [],
   "source": [
    "# First step, download data, it takes a few minutes....\n",
    "! gsutil -m cp -r gs://massivenu/cosmological_parameters.txt .\n",
    "! gsutil -m cp -r gs://massivenu/z1_256b ."
   ]
  },
  {
   "cell_type": "code",
   "execution_count": null,
   "metadata": {
    "colab": {},
    "colab_type": "code",
    "id": "iBgfS9IY8T--"
   },
   "outputs": [],
   "source": [
    "# Second step, extract data, that also takes a few minutes\n",
    "! cd z1_256b ; for m in model*.tar.gz; do tar -xzf $m ; rm $m ; done; "
   ]
  },
  {
   "cell_type": "code",
   "execution_count": null,
   "metadata": {
    "colab": {
     "base_uri": "https://localhost:8080/",
     "height": 1000
    },
    "colab_type": "code",
    "id": "lnCR6GUK-J89",
    "outputId": "d74a19a1-f71a-4c0d-e664-6aae0bb13a04"
   },
   "outputs": [],
   "source": [
    "!cat cosmological_parameters.txt"
   ]
  },
  {
   "cell_type": "code",
   "execution_count": null,
   "metadata": {
    "colab": {},
    "colab_type": "code",
    "id": "Cy7CrPu1w-yM"
   },
   "outputs": [],
   "source": [
    "data_transform = transforms.Compose([\n",
    "    ToTensor()\n",
    "])"
   ]
  },
  {
   "cell_type": "code",
   "execution_count": null,
   "metadata": {
    "colab": {},
    "colab_type": "code",
    "id": "lebp3ZA73CTb"
   },
   "outputs": [],
   "source": [
    "mnu_dataset = MassMapsDataset('cosmological_parameters.txt',  'z1_256b', transform=data_transform)"
   ]
  },
  {
   "cell_type": "code",
   "execution_count": null,
   "metadata": {
    "colab": {
     "base_uri": "https://localhost:8080/",
     "height": 1000
    },
    "colab_type": "code",
    "id": "BptxJT9loPmo",
    "outputId": "a4f30b94-6a98-4099-910a-0fc150e83d29"
   },
   "outputs": [],
   "source": [
    "figure(figsize=(15,15))\n",
    "mes = []\n",
    "s8 = []\n",
    "om = []\n",
    "for i in range(len(mnu_dataset)):\n",
    "    sample = mnu_dataset[i]\n",
    "    #print(i, sample['image'].shape, sample['params'].shape)\n",
    "\n",
    "    subplot(5, 5, i + 1)\n",
    "    tight_layout()\n",
    "    axis('off')\n",
    "    imshow(squeeze(sample['image']), cmap='magma',vmin=-0.1,vmax=0.15)\n",
    "    title(r\"$M_\\nu=%0.2f ; \\Omega_m$=%0.2f; $\\sigma_8=%0.2f$\"%(sample['params'][0],sample['params'][1],sample['params'][2] ) )\n",
    "    s8.append(sample['params'][2].numpy())\n",
    "    om.append(sample['params'][1].numpy())\n",
    "    mes.append(np.std(sample['image'].numpy()))\n",
    "    if i == 24:\n",
    "        break"
   ]
  },
  {
   "cell_type": "code",
   "execution_count": null,
   "metadata": {
    "colab": {
     "base_uri": "https://localhost:8080/",
     "height": 35
    },
    "colab_type": "code",
    "id": "PpcDjnVSqQDH",
    "outputId": "137dae4b-023b-442c-91ff-dde0268d9252"
   },
   "outputs": [
    {
     "data": {
      "text/plain": [
       "torch.Size([1, 256, 256])"
      ]
     },
     "execution_count": 12,
     "metadata": {
      "tags": []
     },
     "output_type": "execute_result"
    }
   ],
   "source": [
    "sample['image'].shape"
   ]
  },
  {
   "cell_type": "markdown",
   "metadata": {
    "colab_type": "text",
    "id": "Nfvz34PiqfCt"
   },
   "source": [
    "## Train a model"
   ]
  },
  {
   "cell_type": "code",
   "execution_count": null,
   "metadata": {
    "colab": {
     "base_uri": "https://localhost:8080/",
     "height": 35
    },
    "colab_type": "code",
    "id": "FhEY-N9SvYT9",
    "outputId": "c4276266-5710-40d5-d3ae-0c3e61f4ac04"
   },
   "outputs": [
    {
     "name": "stdout",
     "output_type": "stream",
     "text": [
      "cuda:0\n"
     ]
    }
   ],
   "source": [
    "device = torch.device(\"cuda:0\" if torch.cuda.is_available() else \"cpu\")\n",
    "print(device)"
   ]
  },
  {
   "cell_type": "code",
   "execution_count": null,
   "metadata": {
    "colab": {},
    "colab_type": "code",
    "id": "CS4tFZ90M3eV"
   },
   "outputs": [],
   "source": [
    "model_ft = models.resnet18(pretrained=False)"
   ]
  },
  {
   "cell_type": "code",
   "execution_count": null,
   "metadata": {
    "colab": {},
    "colab_type": "code",
    "id": "fhD9pDs1M3jy"
   },
   "outputs": [],
   "source": [
    "# Modifying the model to predict the three cosmological parameters from single channel images\n",
    "model_ft.conv1 = nn.Conv2d(1, 64, kernel_size=(7, 7), stride=(2, 2), padding=(3, 3), bias=False)\n",
    "num_ftrs = model_ft.fc.in_features\n",
    "model_ft.fc = nn.Linear(num_ftrs, 3)\n",
    "model_ft = model_ft.to(device)"
   ]
  },
  {
   "cell_type": "code",
   "execution_count": null,
   "metadata": {
    "colab": {},
    "colab_type": "code",
    "id": "Fk_0M-AurPCD"
   },
   "outputs": [],
   "source": [
    "data_transform = transforms.Compose([\n",
    "        ToTensor()\n",
    "    ])"
   ]
  },
  {
   "cell_type": "code",
   "execution_count": null,
   "metadata": {
    "colab": {},
    "colab_type": "code",
    "id": "s1tPV8_RrPG0"
   },
   "outputs": [],
   "source": [
    "mnu_dataset = MassMapsDataset('cosmological_parameters.txt',\n",
    "                              'z1_256b', \n",
    "                              transform=data_transform)\n",
    "\n",
    "dataloader = torch.utils.data.DataLoader(mnu_dataset, batch_size=128, \n",
    "                                         shuffle=True, num_workers=4)"
   ]
  },
  {
   "cell_type": "code",
   "execution_count": null,
   "metadata": {
    "colab": {},
    "colab_type": "code",
    "id": "LilJJ0Nsuk3J"
   },
   "outputs": [],
   "source": [
    "def train_model(model, criterion, optimizer, scheduler, num_epochs=25):\n",
    "    since = time.time()\n",
    "\n",
    "    best_model_wts = copy.deepcopy(model.state_dict())\n",
    "    best_loss = 0.0\n",
    "    losses = []\n",
    "    learning_rates= []\n",
    "    for epoch in range(num_epochs):\n",
    "        print('Epoch {}/{}'.format(epoch, num_epochs - 1))\n",
    "        print('-' * 10)\n",
    "\n",
    "        # Each epoch has a training and validation phase\n",
    "        for phase in ['train']:\n",
    "            if phase == 'train':\n",
    "                model.train()  # Set model to training mode\n",
    "            else:\n",
    "                model.eval()   # Set model to evaluate mode\n",
    "\n",
    "            running_loss = 0.0\n",
    "            \n",
    "            # Iterate over data.\n",
    "            for data in dataloader:\n",
    "                inputs, params = data['image'], data['params']\n",
    "                inputs = inputs.to(device)\n",
    "                params = params.to(device)\n",
    "\n",
    "                # zero the parameter gradients\n",
    "                optimizer.zero_grad()\n",
    "\n",
    "                # forward\n",
    "                # track history if only in train\n",
    "                with torch.set_grad_enabled(phase == 'train'):\n",
    "                    outputs = model(inputs)\n",
    "                    loss = criterion(outputs, params)\n",
    "                    \n",
    "                    # backward + optimize only if in training phase\n",
    "                    if phase == 'train':\n",
    "                        loss.backward()\n",
    "                        optimizer.step()\n",
    "\n",
    "                # statistics\n",
    "                running_loss += loss.item() * inputs.size(0)\n",
    "                losses.append(loss.item())\n",
    "            if phase == 'train':\n",
    "                scheduler.step()\n",
    "                learning_rates.append(scheduler.get_lr())\n",
    "\n",
    "            epoch_loss = running_loss / len(mnu_dataset)\n",
    "            \n",
    "            print('{} Loss: {:.4f} '.format(\n",
    "                phase, epoch_loss))\n",
    "\n",
    "            # # deep copy the model\n",
    "            # if phase == 'val' and epoch_loss < best_loss:\n",
    "            #     best_loss = epoch_loss\n",
    "            #     best_model_wts = copy.deepcopy(model.state_dict())\n",
    "\n",
    "        print()\n",
    "\n",
    "    time_elapsed = time.time() - since\n",
    "    print('Training complete in {:.0f}m {:.0f}s'.format(\n",
    "        time_elapsed // 60, time_elapsed % 60))\n",
    "    print('Best val Loss: {:4f}'.format(best_loss))\n",
    "\n",
    "    # load best model weights\n",
    "    # model.load_state_dict(best_model_wts)\n",
    "    return model, losses, learning_rates"
   ]
  },
  {
   "cell_type": "code",
   "execution_count": null,
   "metadata": {
    "colab": {},
    "colab_type": "code",
    "id": "Wah3aOO9w3Ib"
   },
   "outputs": [],
   "source": [
    "import torch.optim as optim\n",
    "from torch.optim import lr_scheduler\n",
    "\n",
    "criterion = torch.nn.L1Loss()\n",
    "\n",
    "# Observe that all parameters are being optimized\n",
    "optimizer_ft = optim.Adam(model_ft.parameters(), lr=0.001)\n",
    "\n",
    "# Decay LR by a factor of 0.1 every 7 epochs\n",
    "exp_lr_scheduler = lr_scheduler.StepLR(optimizer_ft, step_size=10, gamma=0.1)"
   ]
  },
  {
   "cell_type": "code",
   "execution_count": null,
   "metadata": {
    "colab": {
     "base_uri": "https://localhost:8080/",
     "height": 1000
    },
    "colab_type": "code",
    "id": "cb-Kx4jW3nmD",
    "outputId": "e105b486-dd56-4755-878a-5c8f5f7d3cf1"
   },
   "outputs": [],
   "source": [
    "model_ft, loss_trace, lr_trace = train_model(model_ft, criterion, optimizer_ft, exp_lr_scheduler, num_epochs=25)"
   ]
  },
  {
   "cell_type": "code",
   "execution_count": null,
   "metadata": {
    "colab": {},
    "colab_type": "code",
    "id": "g4TdOt01dWve"
   },
   "outputs": [],
   "source": [
    "# Observe that all parameters are being optimized\n",
    "optimizer_ft = optim.Adam(model_ft.parameters(), lr=0.0001)\n",
    "\n",
    "# Decay LR by a factor of 0.1 every 7 epochs\n",
    "exp_lr_scheduler = lr_scheduler.StepLR(optimizer_ft, step_size=10, gamma=0.1)"
   ]
  },
  {
   "cell_type": "code",
   "execution_count": null,
   "metadata": {
    "colab": {
     "base_uri": "https://localhost:8080/",
     "height": 1000
    },
    "colab_type": "code",
    "id": "kGkm7zVLdij4",
    "outputId": "fac7615f-73e8-4ede-8f0c-b1d87b2734e4"
   },
   "outputs": [],
   "source": [
    "model_ft, loss_trace2, lr_trace2 = train_model(model_ft, criterion, optimizer_ft, exp_lr_scheduler, num_epochs=25)"
   ]
  },
  {
   "cell_type": "code",
   "execution_count": null,
   "metadata": {
    "colab": {},
    "colab_type": "code",
    "id": "7ST4boEbfTe_"
   },
   "outputs": [],
   "source": [
    "plot(loss_trace2[100:])"
   ]
  },
  {
   "cell_type": "code",
   "execution_count": null,
   "metadata": {
    "colab": {},
    "colab_type": "code",
    "id": "1uVup359DgKs"
   },
   "outputs": [],
   "source": [
    "plot(lr_trace2)\n",
    "yscale('log')"
   ]
  },
  {
   "cell_type": "code",
   "execution_count": null,
   "metadata": {
    "colab": {},
    "colab_type": "code",
    "id": "NBueEXv6DgPU"
   },
   "outputs": [],
   "source": [
    "with torch.no_grad():\n",
    "    for data in dataloader:\n",
    "        inputs, params = data['image'], data['params']\n",
    "        inputs = inputs.to(device)\n",
    "        params = params.to(device)\n",
    "        outputs = model_ft(inputs)\n",
    "        break"
   ]
  },
  {
   "cell_type": "code",
   "execution_count": null,
   "metadata": {
    "colab": {
     "base_uri": "https://localhost:8080/",
     "height": 279
    },
    "colab_type": "code",
    "id": "6z9JHvbkDgI0",
    "outputId": "0a967858-e263-4767-da36-09c8a071e0f1"
   },
   "outputs": [
    {
     "data": {
      "image/png": "[encoded data removed]",
      "text/plain": [
       "<Figure size 432x288 with 1 Axes>"
      ]
     },
     "metadata": {
      "tags": []
     },
     "output_type": "display_data"
    }
   ],
   "source": [
    "scatter(params.cpu()[:,1], outputs.cpu()[:,1])\n",
    "xlabel('true param')\n",
    "ylabel('predicted param')\n",
    "#ylim(0.265,0.35)\n",
    "#xlim(0.265,0.35)\n",
    "gca().set_aspect('equal')"
   ]
  },
  {
   "cell_type": "code",
   "execution_count": null,
   "metadata": {
    "colab": {},
    "colab_type": "code",
    "id": "D3Svf_TADgHO"
   },
   "outputs": [],
   "source": [
    "coefficient_of_dermination = r2_score(params.cpu()[:,1], outputs.cpu()[:,1])"
   ]
  },
  {
   "cell_type": "code",
   "execution_count": null,
   "metadata": {
    "colab": {
     "base_uri": "https://localhost:8080/",
     "height": 35
    },
    "colab_type": "code",
    "id": "Yx77qU6WDgED",
    "outputId": "20d9c6ec-5087-431c-a04e-2c0050710f16"
   },
   "outputs": [
    {
     "data": {
      "text/plain": [
       "0.7257992068325176"
      ]
     },
     "execution_count": 71,
     "metadata": {
      "tags": []
     },
     "output_type": "execute_result"
    }
   ],
   "source": [
    "coefficient_of_dermination"
   ]
  },
  {
   "cell_type": "code",
   "execution_count": null,
   "metadata": {
    "colab": {},
    "colab_type": "code",
    "id": "F2FAOFti3Qte"
   },
   "outputs": [],
   "source": [
    "# Saving fairly well trained model\n",
    "torch.save(model_ft.state_dict(), 'resnet18_state_dict')"
   ]
  },
  {
   "cell_type": "code",
   "execution_count": null,
   "metadata": {
    "colab": {},
    "colab_type": "code",
    "id": "oT95WipVXfAs"
   },
   "outputs": [],
   "source": [
    "torch.save(model_ft, 'resnet18')"
   ]
  },
  {
   "cell_type": "code",
   "execution_count": null,
   "metadata": {
    "colab": {},
    "colab_type": "code",
    "id": "KlwSJgjiPnLc"
   },
   "outputs": [],
   "source": [
    "from google.colab import auth\n",
    "auth.authenticate_user()"
   ]
  },
  {
   "cell_type": "code",
   "execution_count": null,
   "metadata": {
    "colab": {
     "base_uri": "https://localhost:8080/",
     "height": 89
    },
    "colab_type": "code",
    "id": "efYcmh5aXnkQ",
    "outputId": "89a21d41-460f-4911-b76e-fae88af445f4"
   },
   "outputs": [
    {
     "name": "stdout",
     "output_type": "stream",
     "text": [
      "Copying file://resnet18 [Content-Type=application/octet-stream]...\n",
      "Copying file://resnet18_state_dict [Content-Type=application/octet-stream]...\n",
      "\\\n",
      "Operation completed over 2 objects/85.4 MiB.                                     \n"
     ]
    }
   ],
   "source": [
    "!gsutil cp resnet18* gs://massivenu/models_feb20/"
   ]
  }
 ],
 "metadata": {
  "accelerator": "GPU",
  "colab": {
   "collapsed_sections": [],
   "name": "DeepMassACDb.ipynb",
   "provenance": []
  },
  "kernelspec": {
   "display_name": "Python 3",
   "language": "python",
   "name": "python3"
  },
  "language_info": {
   "codemirror_mode": {
    "name": "ipython",
    "version": 3
   },
   "file_extension": ".py",
   "mimetype": "text/x-python",
   "name": "python",
   "nbconvert_exporter": "python",
   "pygments_lexer": "ipython3",
   "version": "3.7.5"
  }
 },
 "nbformat": 4,
 "nbformat_minor": 4
}
