{
 "cells": [
  {
   "cell_type": "code",
   "execution_count": null,
   "metadata": {},
   "outputs": [],
   "source": [
    "%load_ext autoreload\n",
    "%autoreload 2\n",
    "%matplotlib inline\n",
    "import matplotlib.pyplot as plt\n",
    "import numpy as np\n",
    "import torch\n",
    "import random\n",
    "device = 'cuda' if torch.cuda.is_available() else 'cpu'\n",
    "import os,sys\n",
    "opj = os.path.join\n",
    "from tqdm import tqdm\n",
    "import acd\n",
    "from copy import deepcopy\n",
    "import torchvision.utils as vutils\n",
    "import models\n",
    "from visualize import *\n",
    "from data import *\n",
    "sys.path.append('../trim')\n",
    "from transforms_torch import transform_bandpass, tensor_t_augment, batch_fftshift2d, batch_ifftshift2d\n",
    "from trim import *\n",
    "from util import *\n",
    "from attributions import *\n",
    "from captum.attr import *\n",
    "import warnings\n",
    "warnings.filterwarnings(\"ignore\")\n",
    "data_path = './cosmo'"
   ]
  },
  {
   "cell_type": "markdown",
   "metadata": {},
   "source": [
    "# load dataset and model"
   ]
  },
  {
   "cell_type": "code",
   "execution_count": null,
   "metadata": {},
   "outputs": [],
   "source": [
    "# params\n",
    "img_size = 256\n",
    "class_num = 1\n",
    "\n",
    "# cosmo dataset\n",
    "transformer = transforms.Compose([ToTensor()])\n",
    "mnu_dataset = MassMapsDataset(opj(data_path, 'cosmological_parameters.txt'),  \n",
    "                              opj(data_path, 'z1_256'),\n",
    "                              transform=transformer)\n",
    "\n",
    "# dataloader\n",
    "data_loader = torch.utils.data.DataLoader(mnu_dataset, batch_size=64, shuffle=False, num_workers=4)\n",
    "\n",
    "# load model\n",
    "model = models.load_model(model_name='resnet18', device=device, data_path=data_path).to(device)"
   ]
  },
  {
   "cell_type": "code",
   "execution_count": null,
   "metadata": {},
   "outputs": [],
   "source": [
    "# with torch.no_grad():\n",
    "#     result = {'y': [], 'pred': []}\n",
    "#     for i in tqdm(range(100)):\n",
    "#         sample = mnu_dataset[i]\n",
    "#         x = sample['image']\n",
    "#         result['y'].append(sample['params'][1].item())\n",
    "#         result['pred'].append(model(x.unsqueeze(0).to(device)).flatten()[1].item())\n",
    "# # print(result)\n",
    "# plt.scatter(result['y'], result['pred'])\n",
    "# plt.xlabel('true param')\n",
    "# plt.ylabel('predicted param')\n",
    "# plt.show()"
   ]
  },
  {
   "cell_type": "code",
   "execution_count": null,
   "metadata": {},
   "outputs": [],
   "source": [
    "class Generator(nn.Module):\n",
    "    def __init__(self):\n",
    "        super(Generator, self).__init__()\n",
    "        self.convt1 = nn.ConvTranspose2d(64, 1, kernel_size=6, stride=2, padding=2, bias=False)\n",
    "        \n",
    "    def forward(self, x):\n",
    "        return self.convt1(x)\n",
    "    \n",
    "\n",
    "class Reconstruction(nn.Module):\n",
    "    def __init__(self, model, generator):\n",
    "        super(Reconstruction, self).__init__()\n",
    "        self.conv1 = model.conv1\n",
    "        self.bn1 = model.bn1\n",
    "        self.relu1 = model.relu\n",
    "        self.convt1 = generator.convt1\n",
    "        \n",
    "    def feature_map(self, x):\n",
    "        x = self.conv1(x)\n",
    "        x = self.bn1(x)\n",
    "        x = self.relu1(x)\n",
    "        return x\n",
    "        \n",
    "    def forward(self, x):\n",
    "        return self.convt1(self.feature_map(x))\n"
   ]
  },
  {
   "cell_type": "code",
   "execution_count": null,
   "metadata": {},
   "outputs": [],
   "source": [
    "# # model\n",
    "# netG = Generator().to(device)\n",
    "\n",
    "# # prepend model and netG\n",
    "# netR = Reconstruction(model, netG).to(device)\n",
    "\n",
    "# # criterion\n",
    "# criterion = nn.MSELoss()\n",
    "\n",
    "# # Setup Adam optimizers for G\n",
    "# optimizerG = optim.Adam(netG.parameters(), lr=0.01)"
   ]
  },
  {
   "cell_type": "code",
   "execution_count": null,
   "metadata": {},
   "outputs": [],
   "source": [
    "# # Training Loop\n",
    "# # Lists to keep track of progress\n",
    "# G_losses = []\n",
    "# num_epochs = 50\n",
    "\n",
    "# print(\"Starting Training Loop...\")\n",
    "# # For each epoch\n",
    "# for epoch in range(num_epochs):\n",
    "#     # For each batch in the dataloader\n",
    "#     for i, data in enumerate(data_loader, 0):\n",
    "#         inputs, params = data['image'], data['params']\n",
    "#         if device == 'cuda':\n",
    "#             inputs = inputs.to(device)\n",
    "#             params = params.to(device)\n",
    "#         inputs_ = netR(inputs)\n",
    "#         # loss\n",
    "#         loss = criterion(inputs, inputs_)\n",
    "#         # zero grad\n",
    "#         netG.zero_grad()\n",
    "#         # backward\n",
    "#         loss.backward()\n",
    "#         # Update G\n",
    "#         optimizerG.step()\n",
    "\n",
    "#         # Output training stats\n",
    "#         if i % 50 == 0:\n",
    "#             print('\\rTrain Epoch: {} [{}/{} ({:.0f}%)]\\tLoss: {:.6f}'.format(\n",
    "#                 epoch, i * len(inputs), len(data_loader.dataset),\n",
    "#                        100. * i / len(data_loader), loss.data.item()), end='')\n",
    "\n",
    "#         # Save Losses for plotting later\n",
    "#         G_losses.append(loss.item())\n"
   ]
  },
  {
   "cell_type": "code",
   "execution_count": null,
   "metadata": {},
   "outputs": [],
   "source": [
    "# loss versus training iterations\n",
    "plt.figure(figsize=(10,5))\n",
    "plt.title(\"Generator Loss During Training\")\n",
    "plt.plot(G_losses, label=\"G\")\n",
    "plt.xlabel(\"iterations\")\n",
    "plt.ylabel(\"Loss\")\n",
    "plt.legend()\n",
    "plt.show()"
   ]
  },
  {
   "cell_type": "code",
   "execution_count": null,
   "metadata": {},
   "outputs": [],
   "source": [
    "# viz filters\n",
    "viz_filters(netG)"
   ]
  },
  {
   "cell_type": "code",
   "execution_count": null,
   "metadata": {},
   "outputs": [],
   "source": [
    "num = 60\n",
    "im = iter(data_loader).next()['image'][num:num+1].to(device)\n",
    "viz_im_r(im, netR(im))\n",
    "print(torch.norm(im - netR(im)).item()**2/28**2)"
   ]
  },
  {
   "cell_type": "code",
   "execution_count": null,
   "metadata": {},
   "outputs": [],
   "source": [
    "sum(sum(sum(sum(model.relu(model.bn1(model.conv1(inputs))) == 0)))).item()/(64*64*128*128)"
   ]
  },
  {
   "cell_type": "code",
   "execution_count": null,
   "metadata": {},
   "outputs": [],
   "source": []
  }
 ],
 "metadata": {
  "kernelspec": {
   "display_name": "Environment (conda_pytorch_p36)",
   "language": "python",
   "name": "conda_pytorch_p36"
  },
  "language_info": {
   "codemirror_mode": {
    "name": "ipython",
    "version": 3
   },
   "file_extension": ".py",
   "mimetype": "text/x-python",
   "name": "python",
   "nbconvert_exporter": "python",
   "pygments_lexer": "ipython3",
   "version": "3.6.7"
  }
 },
 "nbformat": 4,
 "nbformat_minor": 2
}
