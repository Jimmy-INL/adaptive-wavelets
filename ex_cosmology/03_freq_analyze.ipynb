{
 "cells": [
  {
   "cell_type": "code",
   "execution_count": 1,
   "metadata": {
    "colab": {
     "base_uri": "https://localhost:8080/",
     "height": 35
    },
    "colab_type": "code",
    "id": "Akr87A3ojAkR",
    "outputId": "066156d6-adb3-4def-fe53-1172861bbfcb"
   },
   "outputs": [],
   "source": [
    "%load_ext autoreload\n",
    "%autoreload 2\n",
    "%matplotlib inline\n",
    "import os\n",
    "import torch\n",
    "from skimage import io, transform\n",
    "import numpy as np\n",
    "import matplotlib.pyplot as plt\n",
    "from torch.utils.data import Dataset, DataLoader\n",
    "from torchvision import transforms, utils\n",
    "from copy import deepcopy\n",
    "import random\n",
    "device = 'cuda' if torch.cuda.is_available() else 'cpu'\n",
    "from scipy.ndimage import gaussian_filter\n",
    "from os.path import join as oj\n",
    "import sys\n",
    "import acd\n",
    "from tqdm import tqdm\n",
    "import pickle as pkl\n",
    "import torchvision\n",
    "import models\n",
    "import matplotlib as mpl\n",
    "import matplotlib.cm as cm\n",
    "import time\n",
    "sys.path.append('..')\n",
    "sys.path.append('../trim')\n",
    "sys.path.append('../util')\n",
    "sys.path.append('../trim/transforms')\n",
    "plt.style.use('dark_background')\n",
    "from visualize import *\n",
    "import visualize as viz\n",
    "from transforms_np import bandpass_filter\n",
    "from numpy.fft import *\n",
    "from data import *\n",
    "import data\n",
    "from style import *\n",
    "data_path = '/scratch/users/vision/data/cosmo'\n",
    "torch.manual_seed(42)\n",
    "np.random.seed(42)\n",
    "plt.style.use('dark_background')\n",
    "\n",
    "# load the data\n",
    "mnu_dataset = MassMapsDataset(oj(data_path, 'cosmological_parameters.txt'),  \n",
    "                              oj(data_path, 'z1_256'))\n",
    "im = mnu_dataset[0]['image'].astype(np.float32)\n",
    "\n",
    "# get the units\n",
    "freq_arr = fftshift(fftfreq(n=im.shape[0]))\n",
    "freq_arr /= np.max(np.abs(freq_arr)) # normalized freqs\n",
    "bs_arr = freq_arr * np.max(np.abs(freq_arr)) * 2 * np.pi / np.radians(0.8/60)\n",
    "\n",
    "# load computed cd scores\n",
    "band_centers = np.linspace(0.1, 0.90, 100)\n",
    "bs = band_centers * np.max(np.abs(freq_arr)) * 2 * np.pi / np.radians(0.8/60)\n",
    "scores_list = pkl.load(open('results/scores_list_880.pkl', 'rb'))['scores_list'] # (num_curves, num_bands, num_outcomes)\n",
    "preds_list = pkl.load(open('results/scores_list_880.pkl', 'rb'))['preds_list'] # (num_curves, num_outcomes)\n",
    "params_list = [mnu_dataset[i]['params'] for i in range(10)]\n",
    "params_list_full = np.array(params_list * 100)[:len(scores_list)] # full params list"
   ]
  },
  {
   "cell_type": "code",
   "execution_count": null,
   "metadata": {},
   "outputs": [],
   "source": [
    "print(len(mnu_dataset))\n",
    "for r in mnu_dataset.params[:, 1:-1]:\n",
    "    print(r[0], '&', r[1], '&', r[2], '\\\\\\\\')"
   ]
  },
  {
   "cell_type": "markdown",
   "metadata": {},
   "source": [
    "**show an image**"
   ]
  },
  {
   "cell_type": "code",
   "execution_count": null,
   "metadata": {},
   "outputs": [],
   "source": [
    "#plt.title(r\"$m_\\nu$=%0.2f; $\\Omega_m$=%0.2f; $10^9A_s$=%0.2f\"%(sample['params'][0], sample['params'][1], sample['params'][2] ) )\n",
    "cshow(im)"
   ]
  },
  {
   "cell_type": "markdown",
   "metadata": {},
   "source": [
    "**look at some examples**"
   ]
  },
  {
   "cell_type": "code",
   "execution_count": null,
   "metadata": {
    "colab": {
     "base_uri": "https://localhost:8080/",
     "height": 288
    },
    "colab_type": "code",
    "id": "BptxJT9loPmo",
    "outputId": "340cd4ab-f170-468c-8b7d-416317c62b90"
   },
   "outputs": [],
   "source": [
    "R, C = 1, 6\n",
    "plt.figure(figsize=(C, R))\n",
    "for i in range(R * C):\n",
    "    sample = mnu_dataset[i]\n",
    "    plt.subplot(R, C, i + 1)\n",
    "    plt.axis('off')\n",
    "    plt.imshow(np.squeeze(sample['image']), cmap='magma',vmax=0.15,vmin=-0.05 )\n",
    "\n",
    "plt.tight_layout()\n",
    "plt.show()"
   ]
  },
  {
   "cell_type": "code",
   "execution_count": null,
   "metadata": {},
   "outputs": [],
   "source": [
    "viz.visualize(im, bandpass_filter)"
   ]
  },
  {
   "cell_type": "markdown",
   "metadata": {},
   "source": [
    "**look at many frequencies**"
   ]
  },
  {
   "cell_type": "code",
   "execution_count": null,
   "metadata": {},
   "outputs": [],
   "source": [
    "R, C = 1, 5\n",
    "plt.figure(figsize=(C * 1.4, R * 2), dpi=500)\n",
    "for i in range(R * C):\n",
    "    band_center = i * 0.5 / 10\n",
    "    b = band_center * np.max(np.abs(freq_arr)) * 2 * np.pi / np.radians(0.8/60)\n",
    "    plt.subplot(R, C, i + 1)\n",
    "    vmin = im.min()\n",
    "    vmax = im.max()\n",
    "    if i == 0:\n",
    "        plt.imshow(im, cmap='magma') #, vmax=0.15, vmin=-0.05)\n",
    "        plt.title('Original', y=-0.22)\n",
    "    else:\n",
    "        plt.title(f'$\\ell=${b:0.0f}', y=-0.22)\n",
    "#         axes[-1].set_title(f'{b:0.0f}', y=-0.4)\n",
    "#         plt.title(f'{band_center:0.2f}')        \n",
    "        plt.imshow(bandpass_filter(im, band_center=band_center), \n",
    "                   cmap='magma', vmin=vmin, vmax=vmax) #, vmax=0.15, vmin=-0.05)\n",
    "    plt.axis('off')\n",
    "plt.tight_layout()\n",
    "plt.savefig('fig_filtered_ims.pdf')"
   ]
  },
  {
   "cell_type": "markdown",
   "metadata": {},
   "source": [
    "# look at outcome of running cd"
   ]
  },
  {
   "cell_type": "code",
   "execution_count": null,
   "metadata": {},
   "outputs": [],
   "source": [
    "R, C = 1, 3\n",
    "tits = [f\"$m_\\\\nu$\", \"$\\Omega_m$\", \"$10^9A_s$\"]\n",
    "# plt.style.use('default')\n",
    "plt.figure(figsize=(C * 2.7, R * 2), dpi=500)\n",
    "for class_num in range(3):\n",
    "    ax = plt.subplot(R, C, class_num  + 1)\n",
    "    viz.plot_all(bs, scores_list, preds_list, params_list, class_num=class_num, tit=tits[class_num]) # plot all\n",
    "    plt.ylim(0.15, 0.75)\n",
    "    if class_num > 0:\n",
    "        ax.get_yaxis().set_visible(False)\n",
    "        ax.get_yaxis().set_ticks([])\n",
    "    else:\n",
    "        plt.ylabel('TRIM (CD) Score')\n",
    "        \n",
    "    plt.xscale('log')\n",
    "    plt.xticks([2.5e3, 5e3, 1e4, 2.5e4], labels=['$2.5 \\cdot 10^3$', '$5 \\cdot 10^3$', '$10^4$', '$2.5 \\cdot 10^4$'])\n",
    "plt.tight_layout()\n",
    "plt.savefig(f'fig_freq_curves.pdf')\n",
    "plt.show()"
   ]
  },
  {
   "cell_type": "markdown",
   "metadata": {},
   "source": [
    "**plot bands one by one**"
   ]
  },
  {
   "cell_type": "code",
   "execution_count": null,
   "metadata": {},
   "outputs": [],
   "source": [
    "R, C = 1, 4\n",
    "param_nums = np.array([4, 8, 5, 1], dtype=np.int)\n",
    "for class_num in [1]:\n",
    "    plt.figure(figsize=(14, 2.5), dpi=300) #figsize=(20, 12))\n",
    "    i = 0\n",
    "    for r in range(R):\n",
    "        for c in range(C):\n",
    "            plt.subplot(R, C, i + 1)\n",
    "            plot_all(bs, scores_list, preds_list, params_list, class_num=class_num, param_num=param_nums[i])\n",
    "            i += 1\n",
    "\n",
    "#             plt.axis('off')\n",
    "#             plt.title('')\n",
    "            params = params_list[param_nums[i - 1]]\n",
    "            plt.title(f\"$\\Omega_m$={params[1]:0.2f}\")\n",
    "            plt.ylim((0.1, 0.6))\n",
    "            plt.xscale('log')\n",
    "            plt.xticks([2.5e3, 5e3, 1e4, 2.5e4], labels=['$2.5 \\cdot 10^3$', '$5 \\cdot 10^3$', '$10^4$', '$2.5 \\cdot 10^4$'])\n",
    "            if c > 0:\n",
    "                plt.xticks([])\n",
    "                plt.yticks([])            \n",
    "                plt.ylabel('')\n",
    "                plt.xlabel('')\n",
    "            if c == 0:\n",
    "                plt.ylabel('TRIM Score (CD)')\n",
    "            if i == R * C:\n",
    "                break         \n",
    "    plt.tight_layout()\n",
    "#     plt.subplot(R, C, R * C)\n",
    "#     plot_all(scores_list, preds_list, params_list, class_num=class_num) # plot all\n",
    "#     plt.tight_layout()\n",
    "plt.savefig(f'fig_bands_omegaM.pdf')\n",
    "plt.show()"
   ]
  },
  {
   "cell_type": "markdown",
   "metadata": {},
   "source": [
    "**make paper fig**"
   ]
  },
  {
   "cell_type": "code",
   "execution_count": null,
   "metadata": {},
   "outputs": [],
   "source": [
    "plt.style.use('default')\n",
    "plt.figure(figsize=(4.5, 2))\n",
    "class_num = 1 # omegam\n",
    "# plt.figure(figsize=(C * 2, R * 2))\n",
    "# fig = plt.figure(constrained_layout=True, figsize=(C * 2-5, R * 2))\n",
    "# gs = fig.add_gridspec(1, C)\n",
    "axes = []\n",
    "\n",
    "viz.plot_all(bs, scores_list, preds_list, params_list, class_num=class_num, tit='') #, ax=axes[-1])\n",
    "plt.xscale('log')\n",
    "plt.ylabel('TRIM Score (CD)')\n",
    "plt.xticks([2.5e3, 5e3, 1e4, 2.5e4], labels=['$2.5 \\cdot 10^3$', '$5 \\cdot 10^3$', '$10^4$', '$2.5 \\cdot 10^4$'])\n",
    "plt.savefig('fig_omegaM_full.pdf', bbox_inches = 'tight',\n",
    "    pad_inches = 0)"
   ]
  },
  {
   "cell_type": "markdown",
   "metadata": {},
   "source": [
    "# plot highlighting different bands"
   ]
  },
  {
   "cell_type": "code",
   "execution_count": null,
   "metadata": {},
   "outputs": [],
   "source": [
    "plt.style.use('dark_background')\n",
    "plt.figure(figsize=(6, 3.5), dpi=500)\n",
    "class_num = 2 # \n",
    "# $m_\\nu$=%0.2f; $\\Omega_m$=%0.2f; $10^9A_s$\n",
    "\n",
    "s = scores_list[..., class_num].T / preds_list[:, class_num] # (num_bands, num_curves)\n",
    "\n",
    "\n",
    "plt.xlabel('Central scale (angular multipole $\\ell$)') # $\\pm 1350$')\n",
    "plt.ylabel('CD Score (normalized)') \n",
    "plt.xscale('log')\n",
    "plt.ylabel('importance (CD)', fontsize=14)\n",
    "plt.xlabel('Central scale (angular multipole $\\ell$)', fontsize=13) # $\\pm 1350$')\n",
    "plt.xticks([2.5e3, 5e3, 1e4, 2.5e4], labels=['$2.5 \\cdot 10^3$', '$5 \\cdot 10^3$', '$10^4$', '$2.5 \\cdot 10^4$'])\n",
    "\n",
    "\n",
    "cs = ['#eff3ff','#bdd7e7','#6baed6','#2171b5'] # blues\n",
    "cb = cs[3]\n",
    "\n",
    "# plt.plot(bs, np.array(s)[:, 1], '.-', alpha=1, color=cb) # plot one line\n",
    "# plt.plot(bs, np.array(s), '-', alpha=0.1, color=cs[2]) # blot each band with transparency\n",
    "plt.plot(bs, np.array(s).mean(axis=1), '-', color='#a85432', lw=3) # plot mean line\n",
    "\n",
    "\n",
    "\n",
    "ps = params_list_full[:, class_num]\n",
    "norm = mpl.colors.Normalize(vmin=ps.min(), vmax=ps.max())\n",
    "import matplotlib.cm as cm\n",
    "\n",
    "cmap = cm.cool\n",
    "p = ps[0]\n",
    "m = cm.ScalarMappable(norm=norm, cmap=cmap)\n",
    "colors = m.to_rgba(ps)\n",
    "sarr = np.array(s)\n",
    "n = s.shape[1]\n",
    "for i in range(n):\n",
    "    plt.plot(bs, s[:, i], '-', alpha=0.1, color=colors[i]) # blot each (colored) band with transparency\n",
    "cb = plt.colorbar(m)\n",
    "cb.ax.set_label(data.classes[class_num])\n",
    "\n",
    "\n",
    "# highlight certain bands\n",
    "'''\n",
    "param_nums = np.array([4, 8, 5, 1], dtype=np.int)\n",
    "labels = [f\"$\\Omega_m$={params_list[i][1]:0.2f}\" for i in param_nums]\n",
    "for i, param_num in enumerate(param_nums):\n",
    "    s2 = s[:, param_num::len(params_list)] # skip every 10 images\n",
    "    s2 = s2[:, :20]\n",
    "    plt.plot(bs, np.array(s2)[:, 0], '-', alpha=0.6, color=cs[i], label=labels[i])\n",
    "    plt.plot(bs, np.array(s2)[:, 1:], '-', alpha=0.6, color=cs[i])\n",
    "plt.legend(frameon=False)\n",
    "'''\n",
    "\n",
    "plt.show()"
   ]
  }
 ],
 "metadata": {
  "accelerator": "GPU",
  "colab": {
   "collapsed_sections": [],
   "name": "DeepMassACD.ipynb",
   "provenance": []
  },
  "kernelspec": {
   "display_name": "Python 3",
   "language": "python",
   "name": "python3"
  },
  "language_info": {
   "codemirror_mode": {
    "name": "ipython",
    "version": 3
   },
   "file_extension": ".py",
   "mimetype": "text/x-python",
   "name": "python",
   "nbconvert_exporter": "python",
   "pygments_lexer": "ipython3",
   "version": "3.7.5"
  }
 },
 "nbformat": 4,
 "nbformat_minor": 4
}
