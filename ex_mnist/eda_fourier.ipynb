{
 "cells": [
  {
   "cell_type": "code",
   "execution_count": 1,
   "metadata": {},
   "outputs": [],
   "source": [
    "import scipy as sp\n",
    "import matplotlib.pyplot as plt\n",
    "import numpy as np\n",
    "plt.style.use('dark_background')\n",
    "import numpy as np\n",
    "from math import pi, sqrt\n",
    "import skimage.data"
   ]
  },
  {
   "cell_type": "code",
   "execution_count": null,
   "metadata": {},
   "outputs": [],
   "source": [
    "def DFT_matrix(N):\n",
    "    i, j = np.meshgrid(np.arange(N), np.arange(N))\n",
    "    omega = np.exp( - 2 * pi * 1J / N )\n",
    "    W = np.power( omega, i * j ) / sqrt(N)\n",
    "    return W\n",
    "\n",
    "# mat = np.real(dftmtx(1600))\n",
    "R, C = 10, 10\n",
    "N = R * C\n",
    "i = 0\n",
    "plt.figure(figsize=(10, 10), dpi=200)\n",
    "for r in range(R):\n",
    "    for c in range(C):\n",
    "        plt.subplot(R, C, i + 1)\n",
    "        x = np.zeros((N, N))\n",
    "        x[r, c] = 1\n",
    "        W = DFT_matrix(N)\n",
    "        dft_of_x = W.dot(x).dot(W)\n",
    "\n",
    "        plt.imshow(np.angle(dft_of_x).reshape(100, 100))\n",
    "        plt.axis('off')\n",
    "        i += 1\n",
    "plt.tight_layout()\n",
    "plt.show()"
   ]
  }
 ],
 "metadata": {
  "kernelspec": {
   "display_name": "Python 3",
   "language": "python",
   "name": "python3"
  },
  "language_info": {
   "codemirror_mode": {
    "name": "ipython",
    "version": 3
   },
   "file_extension": ".py",
   "mimetype": "text/x-python",
   "name": "python",
   "nbconvert_exporter": "python",
   "pygments_lexer": "ipython3",
   "version": "3.7.5"
  }
 },
 "nbformat": 4,
 "nbformat_minor": 4
}
