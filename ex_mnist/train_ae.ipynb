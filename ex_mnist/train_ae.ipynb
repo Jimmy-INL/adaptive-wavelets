{
 "cells": [
  {
   "cell_type": "code",
   "execution_count": 2,
   "metadata": {},
   "outputs": [
    {
     "name": "stdout",
     "output_type": "stream",
     "text": [
      "The autoreload extension is already loaded. To reload it, use:\n",
      "  %reload_ext autoreload\n"
     ]
    }
   ],
   "source": [
    "%load_ext autoreload\n",
    "%autoreload 2\n",
    "%matplotlib inline\n",
    "import matplotlib.pyplot as plt\n",
    "import numpy as np\n",
    "import torch\n",
    "import random\n",
    "device = 'cuda' if torch.cuda.is_available() else 'cpu'\n",
    "import os,sys\n",
    "opj = os.path.join\n",
    "from tqdm import tqdm\n",
    "import acd\n",
    "from copy import deepcopy\n",
    "from model_mnist import Net, Net2c\n",
    "from visualize import *\n",
    "import dset_mnist as dset\n",
    "import foolbox\n",
    "sys.path.append('../trim')\n",
    "from transforms_torch import transform_bandpass, tensor_t_augment, batch_fftshift2d, batch_ifftshift2d\n",
    "from trim import *\n",
    "from util import *\n",
    "from attributions import *\n",
    "from captum.attr import *\n",
    "import warnings\n",
    "warnings.filterwarnings(\"ignore\")"
   ]
  },
  {
   "cell_type": "code",
   "execution_count": 2,
   "metadata": {},
   "outputs": [],
   "source": [
    "# set args\n",
    "args = dset.get_args()\n",
    "\n",
    "# load mnist data\n",
    "train_loader, test_loader = dset.load_data(args.batch_size, args.test_batch_size, device)"
   ]
  },
  {
   "cell_type": "markdown",
   "metadata": {},
   "source": [
    "# load model"
   ]
  },
  {
   "cell_type": "code",
   "execution_count": 3,
   "metadata": {},
   "outputs": [],
   "source": [
    "# wavelet transform\n",
    "xfm = DWTForward(J=3, mode='symmetric', wave='db4')\n",
    "ifm = DWTInverse(mode='symmetric', wave='db4')\n",
    "t = lambda x: xfm(x)\n",
    "transform_i = transform_wrappers.modularize(lambda x: ifm(x))\n",
    "transformer = lambda x: wavelet_filter(x, t, transform_i, idx=2)"
   ]
  },
  {
   "cell_type": "code",
   "execution_count": 4,
   "metadata": {},
   "outputs": [
    {
     "name": "stderr",
     "output_type": "stream",
     "text": [
      "10it [00:03,  3.23it/s]"
     ]
    },
    {
     "name": "stdout",
     "output_type": "stream",
     "text": [
      "\n",
      "Test set: Average loss: 0.0102, Accuracy: 19934/20000 (100%)\n"
     ]
    },
    {
     "name": "stderr",
     "output_type": "stream",
     "text": [
      "\n"
     ]
    }
   ],
   "source": [
    "# load model\n",
    "# train_Net2c(train_loader, args, transformer, save_path=opj('models/wt','net2c_' + str(0) + '.pth'))\n",
    "model = Net2c().to(device)\n",
    "model.load_state_dict(torch.load(opj('models/wt','net2c_' + str(0) + '.pth'), map_location=device))\n",
    "\n",
    "# test model\n",
    "test_loss, correct = test_Net2c(test_loader, model, transformer)\n",
    "print('\\nTest set: Average loss: {:.4f}, Accuracy: {}/{} ({:.0f}%)'.format(\n",
    "    test_loss, correct, 2*len(test_loader.dataset),\n",
    "    100. * correct / (2*len(test_loader.dataset))))    \n"
   ]
  },
  {
   "cell_type": "markdown",
   "metadata": {},
   "source": [
    "# scores in wt space"
   ]
  },
  {
   "cell_type": "code",
   "execution_count": 13,
   "metadata": {},
   "outputs": [],
   "source": [
    "def transform_i_re(x):\n",
    "    x_tuple = (x[0], (x[1], x[2], x[3]))\n",
    "    return transform_i(x_tuple)\n",
    "\n",
    "def wv_reshape(x):\n",
    "    '''\n",
    "    x : list or tuple of tensors\n",
    "    '''\n",
    "    h = []\n",
    "    a, b, c, d = x\n",
    "    a = a.squeeze().detach().cpu().numpy()\n",
    "    b = b.squeeze().detach().cpu().numpy()\n",
    "    c = c.squeeze().detach().cpu().numpy()\n",
    "    d = d.squeeze().detach().cpu().numpy()\n",
    "\n",
    "    h.append(a)\n",
    "    h.append((d[0], d[1], d[2]))\n",
    "    h.append((c[0], c[1], c[2]))\n",
    "    h.append((b[0], b[1], b[2]))\n",
    "    arr, _ = pywt.coeffs_to_array(h)    \n",
    "    return arr"
   ]
  },
  {
   "cell_type": "code",
   "execution_count": 14,
   "metadata": {},
   "outputs": [],
   "source": [
    "# wavelet transform\n",
    "xfm = DWTForward(J=3, mode='symmetric', wave='db4').to(device)\n",
    "ifm = DWTInverse(mode='symmetric', wave='db4').to(device)\n",
    "t = lambda x: xfm(x)\n",
    "transform_i = transform_wrappers.modularize(lambda x: ifm(x))\n",
    "transformer = lambda x: wavelet_filter(x, t, transform_i, idx=2)"
   ]
  },
  {
   "cell_type": "code",
   "execution_count": 15,
   "metadata": {},
   "outputs": [
    {
     "name": "stdout",
     "output_type": "stream",
     "text": [
      "Shape of wavelet coeffs\n",
      " torch.Size([1, 1, 9, 9]) torch.Size([1, 1, 3, 17, 17]) torch.Size([1, 1, 3, 12, 12]) torch.Size([1, 1, 3, 9, 9])\n"
     ]
    }
   ],
   "source": [
    "# test image\n",
    "x, _ = iter(test_loader).next()\n",
    "x = x[0:1].to(device)\n",
    "x_t = t(x)\n",
    "print('Shape of wavelet coeffs\\n', x_t[0].shape, x_t[1][0].shape, x_t[1][1].shape,x_t[1][2].shape)"
   ]
  },
  {
   "cell_type": "code",
   "execution_count": 16,
   "metadata": {},
   "outputs": [
    {
     "name": "stdout",
     "output_type": "stream",
     "text": [
      "Difference of the model outputs 7.62939453125e-06\n"
     ]
    }
   ],
   "source": [
    "# flatten tuples\n",
    "a, (b, c, d) = x_t\n",
    "a.requires_grad, b.requires_grad, c.requires_grad, d.requires_grad = True, True, True, True\n",
    "x_t_re = (a, b, c, d)\n",
    "\n",
    "# prepend transform onto network\n",
    "m_t = transform_wrappers.Net_with_transform(model=model, transform=transform_i_re).to(device)\n",
    "m_t.eval()\n",
    "\n",
    "print('Difference of the model outputs', torch.norm(m_t(x_t_re) - model(x)).item())"
   ]
  },
  {
   "cell_type": "code",
   "execution_count": 17,
   "metadata": {},
   "outputs": [],
   "source": [
    "# backward\n",
    "output = m_t(x_t_re)[0][1]\n",
    "output.backward()\n",
    "\n",
    "# input * gradient\n",
    "scores = []\n",
    "for i in range(len(x_t_re)):\n",
    "    # input * gradient\n",
    "    scores.append((x_t_re[i] * x_t_re[i].grad).squeeze())"
   ]
  },
  {
   "cell_type": "code",
   "execution_count": 26,
   "metadata": {},
   "outputs": [
    {
     "data": {
      "image/png": "[encoded data removed]",
      "text/plain": [
       "<Figure size 432x288 with 1 Axes>"
      ]
     },
     "metadata": {},
     "output_type": "display_data"
    }
   ],
   "source": [
    "# compute the 2D DWT\n",
    "coef = pywt.wavedec2(x.squeeze().cpu().detach().numpy(), 'db4', mode='symmetric', level=3)\n",
    "# normalize each coefficient array independently for better visibility\n",
    "coef[0] /= np.abs(coef[0]).max()\n",
    "for detail_level in range(3):\n",
    "    coef[detail_level + 1] = [d/np.abs(d).max() for d in coef[detail_level + 1]]\n",
    "arr, slices = pywt.coeffs_to_array(coef)\n",
    "plt.imshow(arr, cmap=plt.cm.gray)\n",
    "plt.axis('off')\n",
    "plt.show()"
   ]
  },
  {
   "cell_type": "code",
   "execution_count": 18,
   "metadata": {},
   "outputs": [
    {
     "data": {
      "image/png": "[encoded data removed]",
      "text/plain": [
       "<Figure size 720x720 with 2 Axes>"
      ]
     },
     "metadata": {},
     "output_type": "display_data"
    }
   ],
   "source": [
    "# normalize each coefficient array independently for better visibility\n",
    "a, b, c, d = x_t_re\n",
    "a[0] /= abs(a[0]).max()\n",
    "for i in range(3):\n",
    "    b[:,:,i] /= abs(b[:,:,i]).max()\n",
    "    c[:,:,i] /= abs(c[:,:,i]).max()\n",
    "    d[:,:,i] /= abs(d[:,:,i]).max()\n",
    "x_t_re = (a, b, c, d)        \n",
    "\n",
    "# reshaping\n",
    "arr_c = wv_reshape(x_t_re)\n",
    "arr_ig = wv_reshape(scores)\n",
    "\n",
    "plt.figure(figsize=(10,10))\n",
    "plt.subplot(1, 2, 1)\n",
    "plt.imshow(arr_c, cmap=plt.cm.gray)\n",
    "plt.title('Wavelet coefficients: J=3')\n",
    "plt.axis('off')\n",
    "plt.subplot(1, 2, 2)\n",
    "plt.imshow(arr_ig, cmap=plt.cm.gray)\n",
    "plt.title('InputXGradient')\n",
    "plt.axis('off')\n",
    "plt.show()"
   ]
  },
  {
   "cell_type": "code",
   "execution_count": 19,
   "metadata": {},
   "outputs": [
    {
     "data": {
      "image/png": "[encoded data removed]",
      "text/plain": [
       "<Figure size 720x720 with 3 Axes>"
      ]
     },
     "metadata": {},
     "output_type": "display_data"
    }
   ],
   "source": [
    "im_orig = tensor_t_augment(x, transformer)[0].squeeze().detach().cpu().numpy()\n",
    "im_f = tensor_t_augment(x, transformer)[1].squeeze().detach().cpu().numpy()\n",
    "vmax = np.maximum(np.max(np.abs(im_orig)),np.max(np.abs(im_f)))\n",
    "vmin = np.minimum(np.min(np.abs(im_orig)),np.min(np.abs(im_f)))\n",
    "\n",
    "plt.figure(figsize=(10,10))\n",
    "plt.subplot(1, 3, 1)\n",
    "plt.imshow(im_orig, cmap=plt.cm.gray, vmax=vmax, vmin=vmin)\n",
    "plt.title('Original')\n",
    "plt.axis('off')\n",
    "plt.subplot(1, 3, 2)\n",
    "plt.imshow(im_f, cmap=plt.cm.gray, vmax=vmax, vmin=vmin)\n",
    "plt.title('Filtered')\n",
    "plt.axis('off')\n",
    "plt.subplot(1, 3, 3)\n",
    "plt.imshow(im_orig-im_f, cmap=plt.cm.gray, vmax=vmax, vmin=vmin)\n",
    "plt.title('Difference')\n",
    "plt.axis('off')\n",
    "plt.show()"
   ]
  },
  {
   "cell_type": "markdown",
   "metadata": {},
   "source": [
    "# Captum"
   ]
  },
  {
   "cell_type": "code",
   "execution_count": null,
   "metadata": {},
   "outputs": [],
   "source": [
    "# get interp scores\n",
    "attr_methods = ['IG', 'DeepLift', 'SHAP', 'CD', 'InputXGradient']\n",
    "name = 'IG'\n",
    "func = [IntegratedGradients, DeepLift, GradientShap, None, InputXGradient][0]\n",
    "attributer = func(m_t)\n",
    "class_num = 1\n",
    "attributions = attributer.attribute((deepcopy(x_t_re)),target=class_num)"
   ]
  },
  {
   "cell_type": "code",
   "execution_count": null,
   "metadata": {},
   "outputs": [],
   "source": []
  }
 ],
 "metadata": {
  "kernelspec": {
   "display_name": "Environment (conda_pytorch_p36)",
   "language": "python",
   "name": "conda_pytorch_p36"
  },
  "language_info": {
   "codemirror_mode": {
    "name": "ipython",
    "version": 3
   },
   "file_extension": ".py",
   "mimetype": "text/x-python",
   "name": "python",
   "nbconvert_exporter": "python",
   "pygments_lexer": "ipython3",
   "version": "3.6.7"
  }
 },
 "nbformat": 4,
 "nbformat_minor": 2
}
