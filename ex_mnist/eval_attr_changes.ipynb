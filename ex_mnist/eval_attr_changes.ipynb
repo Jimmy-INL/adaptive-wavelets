{
 "cells": [
  {
   "cell_type": "code",
   "execution_count": 1,
   "metadata": {},
   "outputs": [],
   "source": [
    "%load_ext autoreload\n",
    "%autoreload 2\n",
    "%matplotlib inline\n",
    "import matplotlib.pyplot as plt\n",
    "import numpy as np\n",
    "import torch\n",
    "import random\n",
    "device = 'cuda' if torch.cuda.is_available() else 'cpu'\n",
    "import os,sys\n",
    "opj = os.path.join\n",
    "from tqdm import tqdm\n",
    "import acd\n",
    "from copy import deepcopy\n",
    "from model_mnist import LeNet5\n",
    "from visualize import *\n",
    "import dset_mnist as dset\n",
    "import foolbox\n",
    "sys.path.append('../trim')\n",
    "from transforms_torch import transform_bandpass, tensor_t_augment, batch_fftshift2d, batch_ifftshift2d\n",
    "from trim import *\n",
    "from util import *\n",
    "from attributions import *\n",
    "from captum.attr import *\n",
    "import warnings\n",
    "warnings.filterwarnings(\"ignore\")\n",
    "# disentangled vae\n",
    "sys.path.append('../disentangling-vae')\n",
    "from collections import defaultdict\n",
    "import vae_trim, vae_trim_viz\n",
    "from disvae.utils.modelIO import save_model, load_model, load_metadata\n",
    "from disvae.models.losses import get_loss_f"
   ]
  },
  {
   "cell_type": "markdown",
   "metadata": {},
   "source": [
    "### BTCVAE-1"
   ]
  },
  {
   "cell_type": "code",
   "execution_count": 2,
   "metadata": {},
   "outputs": [],
   "source": [
    "args = vae_trim.parse_arguments()\n",
    "args.loss = \"btcvae\"\n",
    "args.reg_anneal = 0\n",
    "args.btcvae_B = 1\n",
    "args.attr_lamb = 0\n",
    "args.epochs = 100\n",
    "name = args.loss + \"_B_\" + str(args.btcvae_B) \n",
    "args.name = name\n",
    "\n",
    "# results dir\n",
    "exp_dir = os.path.join(vae_trim.RES_DIR, args.name)\n",
    "\n",
    "# load dataloaders\n",
    "train_loader, test_loader = dset.load_data(args.batch_size, args.batch_size, device)\n",
    "metadata = load_metadata(exp_dir)\n",
    "\n",
    "# load model\n",
    "model = load_model(exp_dir, is_gpu=not args.no_cuda)\n",
    "latent_map = DecoderEncoder(model, use_residuals=True)\n",
    "\n",
    "L2Loss = torch.nn.MSELoss()"
   ]
  },
  {
   "cell_type": "code",
   "execution_count": null,
   "metadata": {},
   "outputs": [],
   "source": [
    "Loss = 0\n",
    "Diversity = 0\n",
    "for batch_idx, (inputs, labels) in enumerate(test_loader):\n",
    "    inputs = inputs.to(device)\n",
    "    labels = labels.to(device)\n",
    "    recon_batch, latent_dist, latent_sample = model(inputs)\n",
    "\n",
    "    s = deepcopy(latent_dist[0].detach())\n",
    "    s = s.requires_grad_(True)\n",
    "    s_output = latent_map(s, deepcopy(inputs))\n",
    "    loss = 0\n",
    "    for i in range(model.latent_dim):\n",
    "        col_idx = np.arange(model.latent_dim)!=i\n",
    "        gradients = torch.autograd.grad(s_output[:,i], s, grad_outputs=torch.ones_like(s_output[:,i]), \n",
    "                                        retain_graph=True, create_graph=True, only_inputs=True)[0]\n",
    "        gradients_pairwise = gradients[:,col_idx]\n",
    "        loss += L2Loss(gradients_pairwise, torch.zeros_like(gradients_pairwise))\n",
    "    Loss += loss.item()\n",
    "    \n",
    "    s = deepcopy(latent_dist[0].detach())\n",
    "    s = s.requires_grad_(True)\n",
    "    x = model.decoder(s)\n",
    "\n",
    "    grad = []\n",
    "    for i in range(32*32):\n",
    "        gradients = torch.autograd.grad(x.view(-1,32*32)[:,i], s, grad_outputs=torch.ones_like(x.view(-1,32*32)[:,i]), \n",
    "                                        retain_graph=True, create_graph=True, only_inputs=True)[0]    \n",
    "        grad.append(gradients)\n",
    "\n",
    "    jacob = torch.stack(grad).permute(1, 0, 2)\n",
    "    jacob_norm = jacob / torch.norm(jacob, dim=1).unsqueeze(1) \n",
    "    d_numer = (jacob**2).sum(axis=(1,2))\n",
    "    d_denom = (jacob.sum(axis=2)**2).sum(axis=1)\n",
    "    diversity = d_numer / d_denom    \n",
    "    Diversity += diversity.sum().item()\n",
    "    \n",
    "    print('\\rIndex: {}/{}'.format(batch_idx+1, len(test_loader)), end='')\n",
    "\n",
    "print('\\n Loss: {}'.format(Loss))\n",
    "print('\\n Diversity: {}'.format(Diversity/10000))"
   ]
  },
  {
   "cell_type": "code",
   "execution_count": null,
   "metadata": {},
   "outputs": [],
   "source": [
    "# d_numer_norm = (jacob_norm**2).sum(axis=(1,2))\n",
    "# d_denom_norm = (jacob_norm.sum(axis=2)**2).sum(axis=1)\n",
    "# diversity_norm = d_numer_norm / d_denom_norm\n",
    "# print(diversity_norm)"
   ]
  },
  {
   "cell_type": "markdown",
   "metadata": {},
   "source": [
    "### BTCVAE-3"
   ]
  },
  {
   "cell_type": "code",
   "execution_count": 3,
   "metadata": {},
   "outputs": [],
   "source": [
    "args = vae_trim.parse_arguments()\n",
    "args.loss = \"btcvae\"\n",
    "args.reg_anneal = 0\n",
    "args.btcvae_B = 3\n",
    "args.attr_lamb = 0\n",
    "args.epochs = 100\n",
    "name = args.loss + \"_B_\" + str(args.btcvae_B) \n",
    "args.name = name\n",
    "\n",
    "# results dir\n",
    "exp_dir = os.path.join(vae_trim.RES_DIR, args.name)\n",
    "\n",
    "# load dataloaders\n",
    "train_loader, test_loader = dset.load_data(args.batch_size, args.batch_size, device)\n",
    "metadata = load_metadata(exp_dir)\n",
    "\n",
    "# load model\n",
    "model = load_model(exp_dir, is_gpu=not args.no_cuda)\n",
    "latent_map = DecoderEncoder(model, use_residuals=True)\n",
    "\n",
    "L2Loss = torch.nn.MSELoss()"
   ]
  },
  {
   "cell_type": "code",
   "execution_count": 29,
   "metadata": {},
   "outputs": [],
   "source": [
    "inputs, labels = iter(train_loader).next()\n",
    "inputs = inputs.to(device)\n",
    "reconstruct, (mu, _), latent_sample = model(inputs)\n",
    "mu1, _ = model.encoder(model.decoder(mu))"
   ]
  },
  {
   "cell_type": "code",
   "execution_count": 38,
   "metadata": {},
   "outputs": [
    {
     "data": {
      "text/plain": [
       "tensor([-0.0205,  0.0102,  0.1553,  0.1051, -0.0485, -0.0690,  0.1608, -0.0537,\n",
       "        -0.0519, -0.6313], device='cuda:0', grad_fn=<SubBackward0>)"
      ]
     },
     "execution_count": 38,
     "metadata": {},
     "output_type": "execute_result"
    }
   ],
   "source": [
    "mu[0] - mu1[0]"
   ]
  },
  {
   "cell_type": "code",
   "execution_count": 33,
   "metadata": {},
   "outputs": [
    {
     "data": {
      "text/plain": [
       "tensor([ 0.7764, -1.2664,  0.4404,  0.8765,  0.8272, -0.6060,  0.6523, -2.1265,\n",
       "         0.5820, -0.7629], device='cuda:0', grad_fn=<SelectBackward>)"
      ]
     },
     "execution_count": 33,
     "metadata": {},
     "output_type": "execute_result"
    }
   ],
   "source": [
    "mu1[0]"
   ]
  },
  {
   "cell_type": "code",
   "execution_count": 34,
   "metadata": {},
   "outputs": [
    {
     "data": {
      "text/plain": [
       "tensor(0.0473, device='cuda:0', grad_fn=<MeanBackward0>)"
      ]
     },
     "execution_count": 34,
     "metadata": {},
     "output_type": "execute_result"
    }
   ],
   "source": [
    "L2Loss(mu[0], mu1[0])"
   ]
  },
  {
   "cell_type": "code",
   "execution_count": 35,
   "metadata": {},
   "outputs": [
    {
     "data": {
      "text/plain": [
       "tensor(0.0076, device='cuda:0', grad_fn=<MeanBackward0>)"
      ]
     },
     "execution_count": 35,
     "metadata": {},
     "output_type": "execute_result"
    }
   ],
   "source": [
    "L2Loss(inputs[0], reconstruct[0])"
   ]
  },
  {
   "cell_type": "code",
   "execution_count": 37,
   "metadata": {},
   "outputs": [
    {
     "data": {
      "text/plain": [
       "tensor([[[-1.1397e-04, -2.8976e-06, -9.4455e-07,  ..., -5.7852e-08,\n",
       "          -1.1602e-07, -3.4971e-06],\n",
       "         [-3.2469e-06, -6.2790e-08, -4.1766e-08,  ..., -1.3718e-09,\n",
       "          -2.1955e-09, -9.4979e-08],\n",
       "         [-8.4504e-07, -2.5969e-08, -6.6165e-08,  ..., -1.5370e-09,\n",
       "          -1.4356e-09, -3.8364e-08],\n",
       "         ...,\n",
       "         [-1.9642e-06, -6.8343e-07, -1.7307e-06,  ..., -6.6742e-08,\n",
       "          -2.2769e-08, -1.1515e-07],\n",
       "         [-4.7090e-06, -1.1423e-06, -4.3639e-07,  ..., -1.2553e-07,\n",
       "          -9.2595e-08, -8.8304e-07],\n",
       "         [-1.3147e-05, -2.0535e-07, -4.4770e-08,  ..., -7.5609e-08,\n",
       "          -2.1745e-07, -8.9945e-06]]], device='cuda:0', grad_fn=<SubBackward0>)"
      ]
     },
     "execution_count": 37,
     "metadata": {},
     "output_type": "execute_result"
    }
   ],
   "source": [
    "inputs[0] - reconstruct[0]"
   ]
  },
  {
   "cell_type": "code",
   "execution_count": 26,
   "metadata": {},
   "outputs": [],
   "source": [
    "mu, _ = model.encoder(model.decoder(latent_dist[0]))"
   ]
  },
  {
   "cell_type": "code",
   "execution_count": 27,
   "metadata": {},
   "outputs": [
    {
     "data": {
      "text/plain": [
       "torch.Size([64, 10])"
      ]
     },
     "execution_count": 27,
     "metadata": {},
     "output_type": "execute_result"
    }
   ],
   "source": [
    "mu.shape"
   ]
  },
  {
   "cell_type": "code",
   "execution_count": 18,
   "metadata": {},
   "outputs": [
    {
     "data": {
      "text/plain": [
       "<matplotlib.image.AxesImage at 0x7f556244ac88>"
      ]
     },
     "execution_count": 18,
     "metadata": {},
     "output_type": "execute_result"
    },
    {
     "data": {
      "image/png": "[encoded data removed]",
      "text/plain": [
       "<Figure size 432x288 with 1 Axes>"
      ]
     },
     "metadata": {
      "needs_background": "light"
     },
     "output_type": "display_data"
    }
   ],
   "source": [
    "plt.imshow(inputs.detach().cpu().numpy()[0,0])"
   ]
  },
  {
   "cell_type": "code",
   "execution_count": 17,
   "metadata": {},
   "outputs": [
    {
     "data": {
      "text/plain": [
       "<matplotlib.image.AxesImage at 0x7f5564706b70>"
      ]
     },
     "execution_count": 17,
     "metadata": {},
     "output_type": "execute_result"
    },
    {
     "data": {
      "image/png": "[encoded data removed]",
      "text/plain": [
       "<Figure size 432x288 with 1 Axes>"
      ]
     },
     "metadata": {
      "needs_background": "light"
     },
     "output_type": "display_data"
    }
   ],
   "source": [
    "plt.imshow(reconstruct.detach().cpu().numpy()[0,0])"
   ]
  },
  {
   "cell_type": "code",
   "execution_count": null,
   "metadata": {},
   "outputs": [],
   "source": []
  },
  {
   "cell_type": "code",
   "execution_count": null,
   "metadata": {},
   "outputs": [],
   "source": [
    "Loss = 0\n",
    "Diversity = 0\n",
    "for batch_idx, (inputs, labels) in enumerate(test_loader):\n",
    "    inputs = inputs.to(device)\n",
    "    labels = labels.to(device)\n",
    "    recon_batch, latent_dist, latent_sample = model(inputs)\n",
    "\n",
    "    s = deepcopy(latent_dist[0].detach())\n",
    "    s = s.requires_grad_(True)\n",
    "    s_output = latent_map(s, deepcopy(inputs))\n",
    "    loss = 0\n",
    "    for i in range(model.latent_dim):\n",
    "        col_idx = np.arange(model.latent_dim)!=i\n",
    "        gradients = torch.autograd.grad(s_output[:,i], s, grad_outputs=torch.ones_like(s_output[:,i]), \n",
    "                                        retain_graph=True, create_graph=True, only_inputs=True)[0]\n",
    "        gradients_pairwise = gradients[:,col_idx]\n",
    "        loss += L2Loss(gradients_pairwise, torch.zeros_like(gradients_pairwise))\n",
    "    Loss += loss.item()\n",
    "    \n",
    "    s = deepcopy(latent_dist[0].detach())\n",
    "    s = s.requires_grad_(True)\n",
    "    x = model.decoder(s)\n",
    "\n",
    "    grad = []\n",
    "    for i in range(32*32):\n",
    "        gradients = torch.autograd.grad(x.view(-1,32*32)[:,i], s, grad_outputs=torch.ones_like(x.view(-1,32*32)[:,i]), \n",
    "                                        retain_graph=True, create_graph=True, only_inputs=True)[0]    \n",
    "        grad.append(gradients)\n",
    "\n",
    "    jacob = torch.stack(grad).permute(1, 0, 2)\n",
    "    jacob_norm = jacob / torch.norm(jacob, dim=1).unsqueeze(1) \n",
    "    d_numer = (jacob**2).sum(axis=(1,2))\n",
    "    d_denom = (jacob.sum(axis=2)**2).sum(axis=1)\n",
    "    diversity = d_numer / d_denom    \n",
    "    Diversity += diversity.sum().item()\n",
    "    \n",
    "    print('\\rIndex: {}/{}'.format(batch_idx+1, len(test_loader)), end='')\n",
    "\n",
    "print('\\n Loss: {}'.format(Loss))\n",
    "print('\\n Diversity: {}'.format(Diversity/10000))"
   ]
  },
  {
   "cell_type": "markdown",
   "metadata": {},
   "source": [
    "### BTCVAE-6"
   ]
  },
  {
   "cell_type": "code",
   "execution_count": null,
   "metadata": {},
   "outputs": [],
   "source": [
    "args = vae_trim.parse_arguments()\n",
    "args.loss = \"btcvae\"\n",
    "args.reg_anneal = 0\n",
    "args.btcvae_B = 6\n",
    "args.attr_lamb = 0\n",
    "args.epochs = 100\n",
    "name = args.loss + \"_B_\" + str(args.btcvae_B) \n",
    "args.name = name\n",
    "\n",
    "# results dir\n",
    "exp_dir = os.path.join(vae_trim.RES_DIR, args.name)\n",
    "\n",
    "# load dataloaders\n",
    "train_loader, test_loader = dset.load_data(args.batch_size, args.batch_size, device)\n",
    "metadata = load_metadata(exp_dir)\n",
    "\n",
    "# load model\n",
    "model = load_model(exp_dir, is_gpu=not args.no_cuda)\n",
    "latent_map = DecoderEncoder(model, use_residuals=True)\n",
    "\n",
    "L2Loss = torch.nn.MSELoss()"
   ]
  },
  {
   "cell_type": "code",
   "execution_count": null,
   "metadata": {},
   "outputs": [],
   "source": [
    "Loss = 0\n",
    "Diversity = 0\n",
    "for batch_idx, (inputs, labels) in enumerate(test_loader):\n",
    "    inputs = inputs.to(device)\n",
    "    labels = labels.to(device)\n",
    "    recon_batch, latent_dist, latent_sample = model(inputs)\n",
    "\n",
    "    s = deepcopy(latent_dist[0].detach())\n",
    "    s = s.requires_grad_(True)\n",
    "    s_output = latent_map(s, deepcopy(inputs))\n",
    "    loss = 0\n",
    "    for i in range(model.latent_dim):\n",
    "        col_idx = np.arange(model.latent_dim)!=i\n",
    "        gradients = torch.autograd.grad(s_output[:,i], s, grad_outputs=torch.ones_like(s_output[:,i]), \n",
    "                                        retain_graph=True, create_graph=True, only_inputs=True)[0]\n",
    "        gradients_pairwise = gradients[:,col_idx]\n",
    "        loss += L2Loss(gradients_pairwise, torch.zeros_like(gradients_pairwise))\n",
    "    Loss += loss.item()\n",
    "    \n",
    "    s = deepcopy(latent_dist[0].detach())\n",
    "    s = s.requires_grad_(True)\n",
    "    x = model.decoder(s)\n",
    "\n",
    "    grad = []\n",
    "    for i in range(32*32):\n",
    "        gradients = torch.autograd.grad(x.view(-1,32*32)[:,i], s, grad_outputs=torch.ones_like(x.view(-1,32*32)[:,i]), \n",
    "                                        retain_graph=True, create_graph=True, only_inputs=True)[0]    \n",
    "        grad.append(gradients)\n",
    "\n",
    "    jacob = torch.stack(grad).permute(1, 0, 2)\n",
    "    jacob_norm = jacob / torch.norm(jacob, dim=1).unsqueeze(1) \n",
    "    d_numer = (jacob**2).sum(axis=(1,2))\n",
    "    d_denom = (jacob.sum(axis=2)**2).sum(axis=1)\n",
    "    diversity = d_numer / d_denom    \n",
    "    Diversity += diversity.sum().item()\n",
    "    \n",
    "    print('\\rIndex: {}/{}'.format(batch_idx+1, len(test_loader)), end='')\n",
    "\n",
    "print('\\n Loss: {}'.format(Loss))\n",
    "print('\\n Diversity: {}'.format(Diversity/10000))"
   ]
  },
  {
   "cell_type": "markdown",
   "metadata": {},
   "source": [
    "### BTCVAE-9"
   ]
  },
  {
   "cell_type": "code",
   "execution_count": null,
   "metadata": {},
   "outputs": [],
   "source": [
    "args = vae_trim.parse_arguments()\n",
    "args.loss = \"btcvae\"\n",
    "args.reg_anneal = 0\n",
    "args.btcvae_B = 9\n",
    "args.attr_lamb = 0\n",
    "args.epochs = 100\n",
    "name = args.loss + \"_B_\" + str(args.btcvae_B) \n",
    "args.name = name\n",
    "\n",
    "# results dir\n",
    "exp_dir = os.path.join(vae_trim.RES_DIR, args.name)\n",
    "\n",
    "# load dataloaders\n",
    "train_loader, test_loader = dset.load_data(args.batch_size, args.batch_size, device)\n",
    "metadata = load_metadata(exp_dir)\n",
    "\n",
    "# load model\n",
    "model = load_model(exp_dir, is_gpu=not args.no_cuda)\n",
    "latent_map = DecoderEncoder(model, use_residuals=True)\n",
    "\n",
    "L2Loss = torch.nn.MSELoss()"
   ]
  },
  {
   "cell_type": "code",
   "execution_count": null,
   "metadata": {},
   "outputs": [],
   "source": [
    "Loss = 0\n",
    "Diversity = 0\n",
    "for batch_idx, (inputs, labels) in enumerate(test_loader):\n",
    "    inputs = inputs.to(device)\n",
    "    labels = labels.to(device)\n",
    "    recon_batch, latent_dist, latent_sample = model(inputs)\n",
    "\n",
    "    s = deepcopy(latent_dist[0].detach())\n",
    "    s = s.requires_grad_(True)\n",
    "    s_output = latent_map(s, deepcopy(inputs))\n",
    "    loss = 0\n",
    "    for i in range(model.latent_dim):\n",
    "        col_idx = np.arange(model.latent_dim)!=i\n",
    "        gradients = torch.autograd.grad(s_output[:,i], s, grad_outputs=torch.ones_like(s_output[:,i]), \n",
    "                                        retain_graph=True, create_graph=True, only_inputs=True)[0]\n",
    "        gradients_pairwise = gradients[:,col_idx]\n",
    "        loss += L2Loss(gradients_pairwise, torch.zeros_like(gradients_pairwise))\n",
    "    Loss += loss.item()\n",
    "    \n",
    "    s = deepcopy(latent_dist[0].detach())\n",
    "    s = s.requires_grad_(True)\n",
    "    x = model.decoder(s)\n",
    "\n",
    "    grad = []\n",
    "    for i in range(32*32):\n",
    "        gradients = torch.autograd.grad(x.view(-1,32*32)[:,i], s, grad_outputs=torch.ones_like(x.view(-1,32*32)[:,i]), \n",
    "                                        retain_graph=True, create_graph=True, only_inputs=True)[0]    \n",
    "        grad.append(gradients)\n",
    "\n",
    "    jacob = torch.stack(grad).permute(1, 0, 2)\n",
    "    jacob_norm = jacob / torch.norm(jacob, dim=1).unsqueeze(1) \n",
    "    d_numer = (jacob**2).sum(axis=(1,2))\n",
    "    d_denom = (jacob.sum(axis=2)**2).sum(axis=1)\n",
    "    diversity = d_numer / d_denom    \n",
    "    Diversity += diversity.sum().item()\n",
    "    \n",
    "    print('\\rIndex: {}/{}'.format(batch_idx+1, len(test_loader)), end='')\n",
    "\n",
    "print('\\n Loss: {}'.format(Loss))\n",
    "print('\\n Diversity: {}'.format(Diversity/10000))"
   ]
  },
  {
   "cell_type": "markdown",
   "metadata": {},
   "source": [
    "### BTCVAE-12"
   ]
  },
  {
   "cell_type": "code",
   "execution_count": null,
   "metadata": {},
   "outputs": [],
   "source": [
    "args = vae_trim.parse_arguments()\n",
    "args.loss = \"btcvae\"\n",
    "args.reg_anneal = 0\n",
    "args.btcvae_B = 12\n",
    "args.attr_lamb = 0\n",
    "args.epochs = 100\n",
    "name = args.loss + \"_B_\" + str(args.btcvae_B) \n",
    "args.name = name\n",
    "\n",
    "# results dir\n",
    "exp_dir = os.path.join(vae_trim.RES_DIR, args.name)\n",
    "\n",
    "# load dataloaders\n",
    "train_loader, test_loader = dset.load_data(args.batch_size, args.batch_size, device)\n",
    "metadata = load_metadata(exp_dir)\n",
    "\n",
    "# load model\n",
    "model = load_model(exp_dir, is_gpu=not args.no_cuda)\n",
    "latent_map = DecoderEncoder(model, use_residuals=True)\n",
    "\n",
    "L2Loss = torch.nn.MSELoss()"
   ]
  },
  {
   "cell_type": "code",
   "execution_count": null,
   "metadata": {},
   "outputs": [],
   "source": [
    "Loss = 0\n",
    "Diversity = 0\n",
    "for batch_idx, (inputs, labels) in enumerate(test_loader):\n",
    "    inputs = inputs.to(device)\n",
    "    labels = labels.to(device)\n",
    "    recon_batch, latent_dist, latent_sample = model(inputs)\n",
    "\n",
    "    s = deepcopy(latent_dist[0].detach())\n",
    "    s = s.requires_grad_(True)\n",
    "    s_output = latent_map(s, deepcopy(inputs))\n",
    "    loss = 0\n",
    "    for i in range(model.latent_dim):\n",
    "        col_idx = np.arange(model.latent_dim)!=i\n",
    "        gradients = torch.autograd.grad(s_output[:,i], s, grad_outputs=torch.ones_like(s_output[:,i]), \n",
    "                                        retain_graph=True, create_graph=True, only_inputs=True)[0]\n",
    "        gradients_pairwise = gradients[:,col_idx]\n",
    "        loss += L2Loss(gradients_pairwise, torch.zeros_like(gradients_pairwise))\n",
    "    Loss += loss.item()\n",
    "    \n",
    "    s = deepcopy(latent_dist[0].detach())\n",
    "    s = s.requires_grad_(True)\n",
    "    x = model.decoder(s)\n",
    "\n",
    "    grad = []\n",
    "    for i in range(32*32):\n",
    "        gradients = torch.autograd.grad(x.view(-1,32*32)[:,i], s, grad_outputs=torch.ones_like(x.view(-1,32*32)[:,i]), \n",
    "                                        retain_graph=True, create_graph=True, only_inputs=True)[0]    \n",
    "        grad.append(gradients)\n",
    "\n",
    "    jacob = torch.stack(grad).permute(1, 0, 2)\n",
    "    jacob_norm = jacob / torch.norm(jacob, dim=1).unsqueeze(1) \n",
    "    d_numer = (jacob**2).sum(axis=(1,2))\n",
    "    d_denom = (jacob.sum(axis=2)**2).sum(axis=1)\n",
    "    diversity = d_numer / d_denom    \n",
    "    Diversity += diversity.sum().item()\n",
    "    \n",
    "    print('\\rIndex: {}/{}'.format(batch_idx+1, len(test_loader)), end='')\n",
    "\n",
    "print('\\n Loss: {}'.format(Loss))\n",
    "print('\\n Diversity: {}'.format(Diversity/10000))"
   ]
  },
  {
   "cell_type": "markdown",
   "metadata": {},
   "source": [
    "### BTCVAE-1-attr-20"
   ]
  },
  {
   "cell_type": "code",
   "execution_count": null,
   "metadata": {},
   "outputs": [],
   "source": [
    "args = vae_trim.parse_arguments()\n",
    "args.loss = \"btcvae\"\n",
    "args.reg_anneal = 0\n",
    "args.btcvae_B = 12\n",
    "args.attr_lamb = 0\n",
    "args.epochs = 100\n",
    "name = \"btcvae_B_1_attr_20_latent_sample_use_residuals\"\n",
    "args.name = name\n",
    "\n",
    "# results dir\n",
    "exp_dir = os.path.join(vae_trim.RES_DIR, args.name)\n",
    "\n",
    "# load dataloaders\n",
    "train_loader, test_loader = dset.load_data(args.batch_size, args.batch_size, device)\n",
    "metadata = load_metadata(exp_dir)\n",
    "\n",
    "# load model\n",
    "model = load_model(exp_dir, is_gpu=not args.no_cuda)\n",
    "latent_map = DecoderEncoder(model, use_residuals=True)\n",
    "\n",
    "L2Loss = torch.nn.MSELoss()"
   ]
  },
  {
   "cell_type": "code",
   "execution_count": null,
   "metadata": {},
   "outputs": [],
   "source": [
    "Loss = 0\n",
    "Diversity = 0\n",
    "for batch_idx, (inputs, labels) in enumerate(test_loader):\n",
    "    inputs = inputs.to(device)\n",
    "    labels = labels.to(device)\n",
    "    recon_batch, latent_dist, latent_sample = model(inputs)\n",
    "\n",
    "    s = deepcopy(latent_dist[0].detach())\n",
    "    s = s.requires_grad_(True)\n",
    "    s_output = latent_map(s, deepcopy(inputs))\n",
    "    loss = 0\n",
    "    for i in range(model.latent_dim):\n",
    "        col_idx = np.arange(model.latent_dim)!=i\n",
    "        gradients = torch.autograd.grad(s_output[:,i], s, grad_outputs=torch.ones_like(s_output[:,i]), \n",
    "                                        retain_graph=True, create_graph=True, only_inputs=True)[0]\n",
    "        gradients_pairwise = gradients[:,col_idx]\n",
    "        loss += L2Loss(gradients_pairwise, torch.zeros_like(gradients_pairwise))\n",
    "    Loss += loss.item()\n",
    "    \n",
    "    s = deepcopy(latent_dist[0].detach())\n",
    "    s = s.requires_grad_(True)\n",
    "    x = model.decoder(s)\n",
    "\n",
    "    grad = []\n",
    "    for i in range(32*32):\n",
    "        gradients = torch.autograd.grad(x.view(-1,32*32)[:,i], s, grad_outputs=torch.ones_like(x.view(-1,32*32)[:,i]), \n",
    "                                        retain_graph=True, create_graph=True, only_inputs=True)[0]    \n",
    "        grad.append(gradients)\n",
    "\n",
    "    jacob = torch.stack(grad).permute(1, 0, 2)\n",
    "    jacob_norm = jacob / torch.norm(jacob, dim=1).unsqueeze(1) \n",
    "    d_numer = (jacob**2).sum(axis=(1,2))\n",
    "    d_denom = (jacob.sum(axis=2)**2).sum(axis=1)\n",
    "    diversity = d_numer / d_denom    \n",
    "    Diversity += diversity.sum().item()\n",
    "    \n",
    "    print('\\rIndex: {}/{}'.format(batch_idx+1, len(test_loader)), end='')\n",
    "\n",
    "print('\\n Loss: {}'.format(Loss))\n",
    "print('\\n Diversity: {}'.format(Diversity/10000))"
   ]
  },
  {
   "cell_type": "markdown",
   "metadata": {},
   "source": [
    "### BTCVAE-1-attr-60"
   ]
  },
  {
   "cell_type": "code",
   "execution_count": null,
   "metadata": {},
   "outputs": [],
   "source": [
    "args = vae_trim.parse_arguments()\n",
    "args.loss = \"btcvae\"\n",
    "args.reg_anneal = 0\n",
    "args.btcvae_B = 12\n",
    "args.attr_lamb = 0\n",
    "args.epochs = 100\n",
    "name = \"btcvae_B_1_attr_60_latent_sample_use_residuals\"\n",
    "args.name = name\n",
    "\n",
    "# results dir\n",
    "exp_dir = os.path.join(vae_trim.RES_DIR, args.name)\n",
    "\n",
    "# load dataloaders\n",
    "train_loader, test_loader = dset.load_data(args.batch_size, args.batch_size, device)\n",
    "metadata = load_metadata(exp_dir)\n",
    "\n",
    "# load model\n",
    "model = load_model(exp_dir, is_gpu=not args.no_cuda)\n",
    "latent_map = DecoderEncoder(model, use_residuals=True)\n",
    "\n",
    "L2Loss = torch.nn.MSELoss()"
   ]
  },
  {
   "cell_type": "code",
   "execution_count": null,
   "metadata": {},
   "outputs": [],
   "source": [
    "Loss = 0\n",
    "Diversity = 0\n",
    "for batch_idx, (inputs, labels) in enumerate(test_loader):\n",
    "    inputs = inputs.to(device)\n",
    "    labels = labels.to(device)\n",
    "    recon_batch, latent_dist, latent_sample = model(inputs)\n",
    "\n",
    "    s = deepcopy(latent_dist[0].detach())\n",
    "    s = s.requires_grad_(True)\n",
    "    s_output = latent_map(s, deepcopy(inputs))\n",
    "    loss = 0\n",
    "    for i in range(model.latent_dim):\n",
    "        col_idx = np.arange(model.latent_dim)!=i\n",
    "        gradients = torch.autograd.grad(s_output[:,i], s, grad_outputs=torch.ones_like(s_output[:,i]), \n",
    "                                        retain_graph=True, create_graph=True, only_inputs=True)[0]\n",
    "        gradients_pairwise = gradients[:,col_idx]\n",
    "        loss += L2Loss(gradients_pairwise, torch.zeros_like(gradients_pairwise))\n",
    "    Loss += loss.item()\n",
    "    \n",
    "    s = deepcopy(latent_dist[0].detach())\n",
    "    s = s.requires_grad_(True)\n",
    "    x = model.decoder(s)\n",
    "\n",
    "    grad = []\n",
    "    for i in range(32*32):\n",
    "        gradients = torch.autograd.grad(x.view(-1,32*32)[:,i], s, grad_outputs=torch.ones_like(x.view(-1,32*32)[:,i]), \n",
    "                                        retain_graph=True, create_graph=True, only_inputs=True)[0]    \n",
    "        grad.append(gradients)\n",
    "\n",
    "    jacob = torch.stack(grad).permute(1, 0, 2)\n",
    "    jacob_norm = jacob / torch.norm(jacob, dim=1).unsqueeze(1) \n",
    "    d_numer = (jacob**2).sum(axis=(1,2))\n",
    "    d_denom = (jacob.sum(axis=2)**2).sum(axis=1)\n",
    "    diversity = d_numer / d_denom    \n",
    "    Diversity += diversity.sum().item()\n",
    "    \n",
    "    print('\\rIndex: {}/{}'.format(batch_idx+1, len(test_loader)), end='')\n",
    "\n",
    "print('\\n Loss: {}'.format(Loss))\n",
    "print('\\n Diversity: {}'.format(Diversity/10000))"
   ]
  },
  {
   "cell_type": "markdown",
   "metadata": {},
   "source": [
    "### BTCVAE-3-attr-60"
   ]
  },
  {
   "cell_type": "code",
   "execution_count": null,
   "metadata": {},
   "outputs": [],
   "source": [
    "args = vae_trim.parse_arguments()\n",
    "args.loss = \"btcvae\"\n",
    "args.reg_anneal = 0\n",
    "args.btcvae_B = 12\n",
    "args.attr_lamb = 0\n",
    "args.epochs = 100\n",
    "name = \"btcvae_B_3_attr_60_latent_sample_use_residuals\"\n",
    "args.name = name\n",
    "\n",
    "# results dir\n",
    "exp_dir = os.path.join(vae_trim.RES_DIR, args.name)\n",
    "\n",
    "# load dataloaders\n",
    "train_loader, test_loader = dset.load_data(args.batch_size, args.batch_size, device)\n",
    "metadata = load_metadata(exp_dir)\n",
    "\n",
    "# load model\n",
    "model = load_model(exp_dir, is_gpu=not args.no_cuda)\n",
    "latent_map = DecoderEncoder(model, use_residuals=True)\n",
    "\n",
    "L2Loss = torch.nn.MSELoss()"
   ]
  },
  {
   "cell_type": "code",
   "execution_count": null,
   "metadata": {},
   "outputs": [],
   "source": [
    "Loss = 0\n",
    "Diversity = 0\n",
    "for batch_idx, (inputs, labels) in enumerate(test_loader):\n",
    "    inputs = inputs.to(device)\n",
    "    labels = labels.to(device)\n",
    "    recon_batch, latent_dist, latent_sample = model(inputs)\n",
    "\n",
    "    s = deepcopy(latent_dist[0].detach())\n",
    "    s = s.requires_grad_(True)\n",
    "    s_output = latent_map(s, deepcopy(inputs))\n",
    "    loss = 0\n",
    "    for i in range(model.latent_dim):\n",
    "        col_idx = np.arange(model.latent_dim)!=i\n",
    "        gradients = torch.autograd.grad(s_output[:,i], s, grad_outputs=torch.ones_like(s_output[:,i]), \n",
    "                                        retain_graph=True, create_graph=True, only_inputs=True)[0]\n",
    "        gradients_pairwise = gradients[:,col_idx]\n",
    "        loss += L2Loss(gradients_pairwise, torch.zeros_like(gradients_pairwise))\n",
    "    Loss += loss.item()\n",
    "    \n",
    "    s = deepcopy(latent_dist[0].detach())\n",
    "    s = s.requires_grad_(True)\n",
    "    x = model.decoder(s)\n",
    "\n",
    "    grad = []\n",
    "    for i in range(32*32):\n",
    "        gradients = torch.autograd.grad(x.view(-1,32*32)[:,i], s, grad_outputs=torch.ones_like(x.view(-1,32*32)[:,i]), \n",
    "                                        retain_graph=True, create_graph=True, only_inputs=True)[0]    \n",
    "        grad.append(gradients)\n",
    "\n",
    "    jacob = torch.stack(grad).permute(1, 0, 2)\n",
    "    jacob_norm = jacob / torch.norm(jacob, dim=1).unsqueeze(1) \n",
    "    d_numer = (jacob**2).sum(axis=(1,2))\n",
    "    d_denom = (jacob.sum(axis=2)**2).sum(axis=1)\n",
    "    diversity = d_numer / d_denom    \n",
    "    Diversity += diversity.sum().item()\n",
    "    \n",
    "    print('\\rIndex: {}/{}'.format(batch_idx+1, len(test_loader)), end='')\n",
    "\n",
    "print('\\n Loss: {}'.format(Loss))\n",
    "print('\\n Diversity: {}'.format(Diversity/10000))"
   ]
  },
  {
   "cell_type": "markdown",
   "metadata": {},
   "source": [
    "### BTCVAE-3-attr-60-L1norm"
   ]
  },
  {
   "cell_type": "code",
   "execution_count": null,
   "metadata": {},
   "outputs": [],
   "source": [
    "args = vae_trim.parse_arguments()\n",
    "args.loss = \"btcvae\"\n",
    "args.reg_anneal = 0\n",
    "args.btcvae_B = 12\n",
    "args.attr_lamb = 0\n",
    "args.epochs = 100\n",
    "name = \"btcvae_B_3_attr_60_latent_sample_use_residuals_L1norm\"\n",
    "args.name = name\n",
    "\n",
    "# results dir\n",
    "exp_dir = os.path.join(vae_trim.RES_DIR, args.name)\n",
    "\n",
    "# load dataloaders\n",
    "train_loader, test_loader = dset.load_data(args.batch_size, args.batch_size, device)\n",
    "metadata = load_metadata(exp_dir)\n",
    "\n",
    "# load model\n",
    "model = load_model(exp_dir, is_gpu=not args.no_cuda)\n",
    "latent_map = DecoderEncoder(model, use_residuals=True)\n",
    "\n",
    "L2Loss = torch.nn.MSELoss()"
   ]
  },
  {
   "cell_type": "code",
   "execution_count": null,
   "metadata": {},
   "outputs": [],
   "source": [
    "Loss = 0\n",
    "Diversity = 0\n",
    "for batch_idx, (inputs, labels) in enumerate(test_loader):\n",
    "    inputs = inputs.to(device)\n",
    "    labels = labels.to(device)\n",
    "    recon_batch, latent_dist, latent_sample = model(inputs)\n",
    "\n",
    "    s = deepcopy(latent_dist[0].detach())\n",
    "    s = s.requires_grad_(True)\n",
    "    s_output = latent_map(s, deepcopy(inputs))\n",
    "    loss = 0\n",
    "    for i in range(model.latent_dim):\n",
    "        col_idx = np.arange(model.latent_dim)!=i\n",
    "        gradients = torch.autograd.grad(s_output[:,i], s, grad_outputs=torch.ones_like(s_output[:,i]), \n",
    "                                        retain_graph=True, create_graph=True, only_inputs=True)[0]\n",
    "        gradients_pairwise = gradients[:,col_idx]\n",
    "        loss += L2Loss(gradients_pairwise, torch.zeros_like(gradients_pairwise))\n",
    "    Loss += loss.item()\n",
    "    \n",
    "    s = deepcopy(latent_dist[0].detach())\n",
    "    s = s.requires_grad_(True)\n",
    "    x = model.decoder(s)\n",
    "\n",
    "    grad = []\n",
    "    for i in range(32*32):\n",
    "        gradients = torch.autograd.grad(x.view(-1,32*32)[:,i], s, grad_outputs=torch.ones_like(x.view(-1,32*32)[:,i]), \n",
    "                                        retain_graph=True, create_graph=True, only_inputs=True)[0]    \n",
    "        grad.append(gradients)\n",
    "\n",
    "    jacob = torch.stack(grad).permute(1, 0, 2)\n",
    "    jacob_norm = jacob / torch.norm(jacob, dim=1).unsqueeze(1) \n",
    "    d_numer = (jacob**2).sum(axis=(1,2))\n",
    "    d_denom = (jacob.sum(axis=2)**2).sum(axis=1)\n",
    "    diversity = d_numer / d_denom    \n",
    "    Diversity += diversity.sum().item()\n",
    "    \n",
    "    print('\\rIndex: {}/{}'.format(batch_idx+1, len(test_loader)), end='')\n",
    "\n",
    "print('\\n Loss: {}'.format(Loss))\n",
    "print('\\n Diversity: {}'.format(Diversity/10000))"
   ]
  },
  {
   "cell_type": "code",
   "execution_count": null,
   "metadata": {},
   "outputs": [],
   "source": [
    "# if self.attr_lamb > 0:\n",
    "#     s = deepcopy(latent_sample.detach())\n",
    "#     s = s.requires_grad_(True)\n",
    "#     x = self.model.decoder(s)\n",
    "#     grad = []\n",
    "#     for i in range(32*32):\n",
    "#         gradients = torch.autograd.grad(x.view(-1,32*32)[:,i], s, grad_outputs=torch.ones_like(x.view(-1,32*32)[:,i]), \n",
    "#                                         retain_graph=True, create_graph=True, only_inputs=True)[0]    \n",
    "#         grad.append(gradients)\n",
    "\n",
    "#     jacob = torch.stack(grad).permute(1, 0, 2)\n",
    "#     d_numer = (jacob**2).sum(axis=(1,2))\n",
    "#     d_denom = (jacob.sum(axis=2)**2).sum(axis=1)\n",
    "#     diversity = d_numer / d_denom   \n",
    "#     loss += self.attr_lamb/batch_size * torch.norm(diversity - 1)**2"
   ]
  },
  {
   "cell_type": "code",
   "execution_count": null,
   "metadata": {},
   "outputs": [],
   "source": [
    "optimizer = optim.Adam(model.parameters(), lr=args.lr)\n",
    "\n",
    "Loss = 0\n",
    "Diversity = 0\n",
    "inputs, labels = iter(test_loader).next()\n",
    "inputs = inputs.to(device)\n",
    "labels = labels.to(device)\n",
    "recon_batch, latent_dist, latent_sample = model(inputs)\n",
    "\n",
    "s = deepcopy(latent_dist[0].detach())\n",
    "s = s.requires_grad_(True)\n",
    "x = model.decoder(s)\n",
    "\n",
    "optimizer.zero_grad()"
   ]
  },
  {
   "cell_type": "code",
   "execution_count": null,
   "metadata": {},
   "outputs": [],
   "source": [
    "grad = []\n",
    "for i in range(32*32):\n",
    "    gradients = torch.autograd.grad(x.view(-1,32*32)[:,i], s, grad_outputs=torch.ones_like(x.view(-1,32*32)[:,i]), \n",
    "                                    retain_graph=True, create_graph=True, only_inputs=True)[0]    \n",
    "    grad.append(gradients)\n",
    "\n",
    "jacob = torch.stack(grad).permute(1, 0, 2)\n",
    "jacob_norm = jacob / torch.norm(jacob, dim=1).unsqueeze(1) \n",
    "d_numer = (jacob**2).sum(axis=(1,2))\n",
    "d_denom = (jacob.sum(axis=2)**2).sum(axis=1)\n",
    "diversity = d_numer / d_denom    \n",
    "(torch.norm(diversity - 1)**2).backward()"
   ]
  },
  {
   "cell_type": "code",
   "execution_count": null,
   "metadata": {},
   "outputs": [],
   "source": [
    "s = deepcopy(latent_sample.detach())\n",
    "s = s.requires_grad_(True)\n",
    "x = model.decoder(s)\n",
    "\n",
    "eps = 1e-5\n",
    "e = torch.eye(s.shape[1]).to(device)\n",
    "\n",
    "grad = []\n",
    "for i in range(s.shape[1]):\n",
    "    x_shift = model.decoder(s + eps*e[i])\n",
    "    grad.append((x_shift - x)/eps)\n",
    "grad = torch.stack(grad).permute(1,2,3,4,0).view(64,32*32,10)\n",
    "\n",
    "x_shift1 = model.decoder(s + eps*e[0])\n",
    "x_shift2 = model.decoder(s + eps*e[1])       \n",
    "\n",
    "grad1 = (x_shift1 - x)/eps\n",
    "grad2 = (x_shift2 - x)/eps \n",
    "\n",
    "((grad1 * grad2).sum(axis=(1,2,3))**2).sum()"
   ]
  },
  {
   "cell_type": "code",
   "execution_count": null,
   "metadata": {},
   "outputs": [],
   "source": [
    "s = deepcopy(latent_sample.detach())\n",
    "s = s.requires_grad_(True)\n",
    "x = model.decoder(s)\n",
    "batch_size = s.shape[0]\n",
    "\n",
    "eps = 1e-5\n",
    "e = torch.eye(s.shape[1]).to(device)\n",
    "\n",
    "grad = []\n",
    "for i in range(s.shape[1]):\n",
    "    x_shift = model.decoder(s + eps*e[i])\n",
    "    grad.append((x_shift - x)/eps)\n",
    "grad = torch.stack(grad).permute(1,2,3,4,0).view(batch_size,32*32,10)   \n",
    "\n",
    "a = torch.matmul(grad.permute(0,2,1),grad)\n",
    "ind = np.diag_indices(s.shape[1])\n",
    "a[:, ind[0], ind[1]] = torch.zeros(s.shape[1]).to(device)                              \n",
    "print((a**2).sum()/batch_size)"
   ]
  },
  {
   "cell_type": "code",
   "execution_count": null,
   "metadata": {},
   "outputs": [],
   "source": [
    "s = deepcopy(latent_sample.detach())\n",
    "s = s.requires_grad_(True)\n",
    "batch_size = s.shape[0]\n",
    "\n",
    "eps = 1e-5\n",
    "e = torch.eye(s.shape[1]).to(device)\n",
    "\n",
    "grad = []\n",
    "for i in range(s.shape[1]):\n",
    "    x_shift = model.decoder(s + 0.5*eps*e[i])\n",
    "    x = model.decoder(s - 0.5*eps*e[i])\n",
    "    grad.append((x_shift - x)/eps)\n",
    "grad = torch.stack(grad).permute(1,2,3,4,0).view(batch_size,32*32,10)   \n",
    "\n",
    "a = torch.matmul(grad.permute(0,2,1),grad)\n",
    "ind = np.diag_indices(s.shape[1])\n",
    "a[:, ind[0], ind[1]] = torch.zeros(s.shape[1]).to(device)                              \n",
    "print((a**2).sum()/batch_size)"
   ]
  },
  {
   "cell_type": "code",
   "execution_count": null,
   "metadata": {},
   "outputs": [],
   "source": [
    "a = torch.matmul(jacob.permute(0,2,1),jacob)\n",
    "ind = np.diag_indices(s.shape[1])\n",
    "a[:, ind[0], ind[1]] = torch.zeros(s.shape[1]).to(device)                              \n",
    "print((a**2).sum()/batch_size)"
   ]
  },
  {
   "cell_type": "code",
   "execution_count": null,
   "metadata": {},
   "outputs": [],
   "source": [
    "a = torch.matmul(jacob.permute(0,2,1),jacob)\n",
    "ind = np.diag_indices(s.shape[1])\n",
    "print(((a**2).sum() - (a[:,ind[0],ind[1]]**2).sum())/batch_size)"
   ]
  },
  {
   "cell_type": "code",
   "execution_count": null,
   "metadata": {},
   "outputs": [],
   "source": [
    "a.shape"
   ]
  },
  {
   "cell_type": "code",
   "execution_count": null,
   "metadata": {},
   "outputs": [],
   "source": [
    "torch.diag(tor)"
   ]
  },
  {
   "cell_type": "code",
   "execution_count": null,
   "metadata": {},
   "outputs": [],
   "source": [
    "grad.shape"
   ]
  },
  {
   "cell_type": "code",
   "execution_count": null,
   "metadata": {},
   "outputs": [],
   "source": [
    "(torch.matmul(grad.permute(0,2,1),grad)[:,0,1]**2).sum()"
   ]
  },
  {
   "cell_type": "code",
   "execution_count": null,
   "metadata": {},
   "outputs": [],
   "source": [
    "a = torch.matmul(grad.permute(0,2,1),grad)\n",
    "ind = np.diag_indices(s.shape[1])\n",
    "a[:, ind[0], ind[1]] = torch.zeros(s.shape[1]).to(device)\n",
    "(a**2).sum()"
   ]
  },
  {
   "cell_type": "code",
   "execution_count": null,
   "metadata": {},
   "outputs": [],
   "source": [
    "(a**2).sum()"
   ]
  },
  {
   "cell_type": "code",
   "execution_count": null,
   "metadata": {},
   "outputs": [],
   "source": [
    "s.grad"
   ]
  },
  {
   "cell_type": "code",
   "execution_count": null,
   "metadata": {},
   "outputs": [],
   "source": [
    "s.shape"
   ]
  },
  {
   "cell_type": "code",
   "execution_count": null,
   "metadata": {},
   "outputs": [],
   "source": [
    "s_ = model.encoder(model.decoder(s))"
   ]
  },
  {
   "cell_type": "code",
   "execution_count": null,
   "metadata": {},
   "outputs": [],
   "source": []
  }
 ],
 "metadata": {
  "kernelspec": {
   "display_name": "Environment (conda_pytorch_p36)",
   "language": "python",
   "name": "conda_pytorch_p36"
  },
  "language_info": {
   "codemirror_mode": {
    "name": "ipython",
    "version": 3
   },
   "file_extension": ".py",
   "mimetype": "text/x-python",
   "name": "python",
   "nbconvert_exporter": "python",
   "pygments_lexer": "ipython3",
   "version": "3.6.10"
  }
 },
 "nbformat": 4,
 "nbformat_minor": 4
}
