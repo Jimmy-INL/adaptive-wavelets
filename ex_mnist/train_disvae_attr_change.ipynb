{
 "cells": [
  {
   "cell_type": "code",
   "execution_count": 1,
   "metadata": {},
   "outputs": [],
   "source": [
    "%load_ext autoreload\n",
    "%autoreload 2\n",
    "%matplotlib inline\n",
    "import matplotlib.pyplot as plt\n",
    "import numpy as np\n",
    "import torch\n",
    "import random\n",
    "device = 'cuda' if torch.cuda.is_available() else 'cpu'\n",
    "import os,sys\n",
    "opj = os.path.join\n",
    "from tqdm import tqdm\n",
    "import acd\n",
    "from copy import deepcopy\n",
    "from model_mnist import LeNet5\n",
    "from visualize import *\n",
    "import dset_mnist as dset\n",
    "import foolbox\n",
    "sys.path.append('../trim')\n",
    "from transforms_torch import transform_bandpass, tensor_t_augment, batch_fftshift2d, batch_ifftshift2d\n",
    "from trim import *\n",
    "from util import *\n",
    "from attributions import *\n",
    "from captum.attr import *\n",
    "import warnings\n",
    "warnings.filterwarnings(\"ignore\")\n",
    "# disentangled vae\n",
    "sys.path.append('../disentangling-vae')\n",
    "from collections import defaultdict\n",
    "import vae_trim, vae_trim_viz\n",
    "from disvae.utils.modelIO import save_model, load_model, load_metadata\n",
    "from disvae.models.losses import get_loss_f"
   ]
  },
  {
   "cell_type": "markdown",
   "metadata": {},
   "source": [
    "### Train model"
   ]
  },
  {
   "cell_type": "code",
   "execution_count": 2,
   "metadata": {},
   "outputs": [],
   "source": [
    "args = vae_trim.parse_arguments()\n",
    "args.loss = \"btcvae\"\n",
    "args.reg_anneal = 0\n",
    "args.btcvae_B = 3\n",
    "args.attr_lamb = 60\n",
    "args.epochs = 100\n",
    "name = args.loss + \"_B_\" + str(args.btcvae_B) + \"_attr_\" + str(args.attr_lamb) + \"_latent_sample_\" + \"use_residuals_2\"\n",
    "args.name = name"
   ]
  },
  {
   "cell_type": "code",
   "execution_count": 3,
   "metadata": {},
   "outputs": [
    {
     "name": "stderr",
     "output_type": "stream",
     "text": [
      "11:10:10 INFO - main: Root directory for saving and loading experiments: results/btcvae_B_3_attr_60_latent_sample_use_residuals_2\n",
      "11:10:10 INFO - main: Train mnist with 60000 samples\n",
      "11:10:10 INFO - main: Num parameters in model: 469173\n",
      "11:10:12 INFO - __init__: Training Device: cuda\n",
      "11:12:35 INFO - __call__: Epoch: 1 Average loss per image: 149.27   \n",
      "11:14:56 INFO - __call__: Epoch: 2 Average loss per image: 114.80    \n",
      "11:17:19 INFO - __call__: Epoch: 3 Average loss per image: 110.67    \n",
      "11:19:41 INFO - __call__: Epoch: 4 Average loss per image: 108.41    \n",
      "11:22:03 INFO - __call__: Epoch: 5 Average loss per image: 106.96    \n",
      "11:24:26 INFO - __call__: Epoch: 6 Average loss per image: 105.83    \n",
      "11:26:49 INFO - __call__: Epoch: 7 Average loss per image: 104.88    \n",
      "11:29:11 INFO - __call__: Epoch: 8 Average loss per image: 104.16    \n",
      "11:31:34 INFO - __call__: Epoch: 9 Average loss per image: 103.50    \n",
      "11:33:56 INFO - __call__: Epoch: 10 Average loss per image: 103.02    \n",
      "11:36:19 INFO - __call__: Epoch: 11 Average loss per image: 102.36    \n",
      "11:38:42 INFO - __call__: Epoch: 12 Average loss per image: 102.05    \n",
      "11:41:05 INFO - __call__: Epoch: 13 Average loss per image: 101.57    \n",
      "11:43:27 INFO - __call__: Epoch: 14 Average loss per image: 101.18    \n",
      "11:45:50 INFO - __call__: Epoch: 15 Average loss per image: 100.85    \n",
      "11:48:13 INFO - __call__: Epoch: 16 Average loss per image: 100.52    \n",
      "11:50:36 INFO - __call__: Epoch: 17 Average loss per image: 100.20    \n",
      "11:52:59 INFO - __call__: Epoch: 18 Average loss per image: 99.80     \n",
      "11:55:23 INFO - __call__: Epoch: 19 Average loss per image: 99.63     \n",
      "11:57:46 INFO - __call__: Epoch: 20 Average loss per image: 99.34     \n",
      "12:00:09 INFO - __call__: Epoch: 21 Average loss per image: 99.19     \n",
      "12:02:32 INFO - __call__: Epoch: 22 Average loss per image: 98.92     \n",
      "12:04:55 INFO - __call__: Epoch: 23 Average loss per image: 98.73     \n",
      "12:07:16 INFO - __call__: Epoch: 24 Average loss per image: 98.56     \n",
      "12:09:41 INFO - __call__: Epoch: 25 Average loss per image: 98.42     \n",
      "12:12:03 INFO - __call__: Epoch: 26 Average loss per image: 98.25     \n",
      "12:14:26 INFO - __call__: Epoch: 27 Average loss per image: 98.05     \n",
      "12:16:49 INFO - __call__: Epoch: 28 Average loss per image: 97.91     \n",
      "12:19:13 INFO - __call__: Epoch: 29 Average loss per image: 97.72     \n",
      "12:21:36 INFO - __call__: Epoch: 30 Average loss per image: 97.61     \n",
      "12:23:59 INFO - __call__: Epoch: 31 Average loss per image: 97.49     \n",
      "12:26:24 INFO - __call__: Epoch: 32 Average loss per image: 97.30     \n",
      "12:28:47 INFO - __call__: Epoch: 33 Average loss per image: 97.14     \n",
      "12:31:09 INFO - __call__: Epoch: 34 Average loss per image: 97.16     \n",
      "12:33:32 INFO - __call__: Epoch: 35 Average loss per image: 96.88     \n",
      "12:35:55 INFO - __call__: Epoch: 36 Average loss per image: 96.78     \n",
      "12:38:19 INFO - __call__: Epoch: 37 Average loss per image: 96.73     \n",
      "12:40:42 INFO - __call__: Epoch: 38 Average loss per image: 96.65     \n",
      "12:43:06 INFO - __call__: Epoch: 39 Average loss per image: 96.42     \n",
      "12:45:28 INFO - __call__: Epoch: 40 Average loss per image: 96.40     \n",
      "12:47:51 INFO - __call__: Epoch: 41 Average loss per image: 96.30     \n",
      "12:50:14 INFO - __call__: Epoch: 42 Average loss per image: 96.20     \n",
      "12:52:38 INFO - __call__: Epoch: 43 Average loss per image: 96.13     \n",
      "12:55:00 INFO - __call__: Epoch: 44 Average loss per image: 96.02     \n",
      "12:57:23 INFO - __call__: Epoch: 45 Average loss per image: 95.90     \n",
      "12:59:46 INFO - __call__: Epoch: 46 Average loss per image: 95.82     \n",
      "13:02:07 INFO - __call__: Epoch: 47 Average loss per image: 95.74     \n",
      "13:04:30 INFO - __call__: Epoch: 48 Average loss per image: 95.72     \n",
      "13:06:54 INFO - __call__: Epoch: 49 Average loss per image: 95.62     \n",
      "13:09:18 INFO - __call__: Epoch: 50 Average loss per image: 95.55     \n",
      "13:11:40 INFO - __call__: Epoch: 51 Average loss per image: 95.48     \n",
      "13:14:03 INFO - __call__: Epoch: 52 Average loss per image: 95.38     \n",
      "13:16:25 INFO - __call__: Epoch: 53 Average loss per image: 95.27     \n",
      "13:18:49 INFO - __call__: Epoch: 54 Average loss per image: 95.20     \n",
      "13:21:13 INFO - __call__: Epoch: 55 Average loss per image: 95.23     \n",
      "13:23:36 INFO - __call__: Epoch: 56 Average loss per image: 95.07     \n",
      "13:25:58 INFO - __call__: Epoch: 57 Average loss per image: 95.05     \n",
      "13:28:20 INFO - __call__: Epoch: 58 Average loss per image: 94.97     \n",
      "13:30:44 INFO - __call__: Epoch: 59 Average loss per image: 94.88     \n",
      "13:33:07 INFO - __call__: Epoch: 60 Average loss per image: 94.85     \n",
      "13:35:29 INFO - __call__: Epoch: 61 Average loss per image: 94.89     \n",
      "13:37:51 INFO - __call__: Epoch: 62 Average loss per image: 94.76     \n",
      "13:40:12 INFO - __call__: Epoch: 63 Average loss per image: 94.69     \n",
      "13:42:33 INFO - __call__: Epoch: 64 Average loss per image: 94.64     \n",
      "13:44:55 INFO - __call__: Epoch: 65 Average loss per image: 94.58     \n",
      "13:47:18 INFO - __call__: Epoch: 66 Average loss per image: 94.58     \n",
      "13:49:41 INFO - __call__: Epoch: 67 Average loss per image: 94.44     \n",
      "13:52:05 INFO - __call__: Epoch: 68 Average loss per image: 94.51     \n",
      "13:54:28 INFO - __call__: Epoch: 69 Average loss per image: 94.38     \n",
      "13:56:51 INFO - __call__: Epoch: 70 Average loss per image: 94.36     \n",
      "13:59:15 INFO - __call__: Epoch: 71 Average loss per image: 94.29     \n",
      "14:01:40 INFO - __call__: Epoch: 72 Average loss per image: 94.13     \n",
      "14:04:02 INFO - __call__: Epoch: 73 Average loss per image: 94.19     \n",
      "14:06:25 INFO - __call__: Epoch: 74 Average loss per image: 94.15     \n",
      "14:08:48 INFO - __call__: Epoch: 75 Average loss per image: 94.16     \n",
      "14:11:10 INFO - __call__: Epoch: 76 Average loss per image: 94.04     \n",
      "14:13:32 INFO - __call__: Epoch: 77 Average loss per image: 94.06     \n",
      "14:15:56 INFO - __call__: Epoch: 78 Average loss per image: 93.91     \n",
      "14:18:20 INFO - __call__: Epoch: 79 Average loss per image: 93.98     \n",
      "14:20:44 INFO - __call__: Epoch: 80 Average loss per image: 93.86     \n",
      "14:23:06 INFO - __call__: Epoch: 81 Average loss per image: 93.77     \n",
      "14:25:27 INFO - __call__: Epoch: 82 Average loss per image: 93.76     \n",
      "14:27:49 INFO - __call__: Epoch: 83 Average loss per image: 93.78     \n",
      "14:30:13 INFO - __call__: Epoch: 84 Average loss per image: 93.68     \n",
      "14:32:37 INFO - __call__: Epoch: 85 Average loss per image: 93.68     \n",
      "14:34:59 INFO - __call__: Epoch: 86 Average loss per image: 93.58     \n",
      "14:37:22 INFO - __call__: Epoch: 87 Average loss per image: 93.56     \n",
      "14:39:44 INFO - __call__: Epoch: 88 Average loss per image: 93.60     \n",
      "14:42:07 INFO - __call__: Epoch: 89 Average loss per image: 93.49     \n",
      "14:44:31 INFO - __call__: Epoch: 90 Average loss per image: 93.55     \n",
      "14:46:55 INFO - __call__: Epoch: 91 Average loss per image: 93.43     \n",
      "14:49:17 INFO - __call__: Epoch: 92 Average loss per image: 93.41     \n",
      "14:51:40 INFO - __call__: Epoch: 93 Average loss per image: 93.36     \n",
      "14:54:02 INFO - __call__: Epoch: 94 Average loss per image: 93.32     \n",
      "14:56:24 INFO - __call__: Epoch: 95 Average loss per image: 93.39     \n",
      "14:58:46 INFO - __call__: Epoch: 96 Average loss per image: 93.22     \n",
      "15:01:08 INFO - __call__: Epoch: 97 Average loss per image: 93.19     \n",
      "15:03:32 INFO - __call__: Epoch: 98 Average loss per image: 93.20     \n",
      "15:05:55 INFO - __call__: Epoch: 99 Average loss per image: 93.12     \n",
      "15:08:19 INFO - __call__: Epoch: 100 Average loss per image: 93.15     \n",
      "15:08:21 INFO - __call__: Finished training after 238.1 min.\n",
      "15:08:21 INFO - __init__: Testing Device: cuda\n",
      "15:08:21 INFO - __call__: Computing losses...\n",
      "15:08:21 INFO - __call__: Losses: {'recon_loss': 2.1300453186035155, 'loss': 0.6152077992757161, 'mi_loss': 1.150576146443685, 'tc_loss': -0.8943265279134115, 'dw_kl_loss': 0.01756589412689209, 'kl_loss': 0.20698196093241375, 'kl_loss_0': 0.03668783108393351, 'kl_loss_1': 0.029166392485300698, 'kl_loss_2': 0.02528953750928243, 'kl_loss_3': 0.01307443082332611, 'kl_loss_4': 0.015060581763585408, 'kl_loss_5': 0.020633608102798462, 'kl_loss_6': 0.015073689818382262, 'kl_loss_7': 0.037631527582804365, 'kl_loss_8': 0.01433799962202708, 'kl_loss_9': 2.6350848687191806e-05}\n",
      "15:08:21 INFO - __call__: Finished evaluating after 0.0 min.\n"
     ]
    }
   ],
   "source": [
    "# train and evaluate model\n",
    "vae_trim.main(args)"
   ]
  },
  {
   "cell_type": "code",
   "execution_count": 4,
   "metadata": {},
   "outputs": [
    {
     "name": "stdout",
     "output_type": "stream",
     "text": [
      "Selected idcs: [50997, 28883, 7657, 490, 5940, 59701, 52887, 38156, 2288, 44011, 45422, 5500, 6450, 50232, 23241, 15519, 1142, 2019, 51693, 1038, 22681, 42488, 40847, 31735, 40358, 30379, 9735, 5982, 11999, 46754, 7498, 55400, 958, 32970, 31899, 57702, 16372, 4231, 43729, 35460, 59789, 30533, 4493, 39417, 44245, 5828, 33753, 37945, 3012, 17667, 54026, 36466, 4133, 42246, 19819, 31525, 55717, 23280, 17462, 16328, 42957, 13109, 29713, 57445, 34744, 43608, 1264, 33298, 4626, 378, 21856, 9422, 46531, 30987, 43080, 24729, 10951, 3550, 4996, 38504, 32543, 10748, 4936, 36525, 14096, 9453, 1777, 22690, 50526, 7267, 34713, 9255, 43942, 20014, 29762, 2594, 27279, 18139, 43410, 52855]\n"
     ]
    }
   ],
   "source": [
    "# generate visualization\n",
    "args = vae_trim_viz.parse_arguments()\n",
    "args.name = name\n",
    "args.plots = \"all\"\n",
    "args.n_rows = 10\n",
    "args.n_cols = 10\n",
    "vae_trim_viz.main(args)"
   ]
  },
  {
   "cell_type": "markdown",
   "metadata": {},
   "source": [
    "### Test model"
   ]
  },
  {
   "cell_type": "code",
   "execution_count": 5,
   "metadata": {},
   "outputs": [],
   "source": [
    "args = vae_trim.parse_arguments()\n",
    "args.loss = \"VAE\"\n",
    "args.name = name\n",
    "# results dir\n",
    "exp_dir = os.path.join(vae_trim.RES_DIR, args.name)\n",
    "\n",
    "# load dataloaders\n",
    "train_loader, test_loader = dset.load_data(args.batch_size, args.eval_batchsize, device)\n",
    "metadata = load_metadata(exp_dir)\n",
    "\n",
    "# load model\n",
    "model = load_model(exp_dir, is_gpu=not args.no_cuda)"
   ]
  },
  {
   "cell_type": "code",
   "execution_count": 6,
   "metadata": {},
   "outputs": [
    {
     "name": "stderr",
     "output_type": "stream",
     "text": [
      "                                      "
     ]
    },
    {
     "name": "stdout",
     "output_type": "stream",
     "text": [
      "{'recon_loss': 12.809559631347657, 'kl_loss': 1.2260247230529786, 'kl_loss_0': 0.20959811210632323, 'kl_loss_1': 0.16702994108200073, 'kl_loss_2': 0.14214290380477906, 'kl_loss_3': 0.08000075817108154, 'kl_loss_4': 0.1014778733253479, 'kl_loss_5': 0.12966840267181395, 'kl_loss_6': 0.10217430591583251, 'kl_loss_7': 0.21338701248168945, 'kl_loss_8': 0.08031893372535706, 'kl_loss_9': 0.00022647301666438578, 'loss': 14.035585021972656}\n"
     ]
    },
    {
     "name": "stderr",
     "output_type": "stream",
     "text": [
      "\r"
     ]
    }
   ],
   "source": [
    "# loss\n",
    "loss_f = get_loss_f(args.loss,\n",
    "                    n_data=len(test_loader.dataset),\n",
    "                    device=device,\n",
    "                    **vars(args))\n",
    "\n",
    "# evaluate on testset\n",
    "storer = defaultdict(list)\n",
    "for data, _ in tqdm(test_loader, leave=False, disable=args.no_progress_bar):\n",
    "    data = data.to(device)\n",
    "    recon_batch, latent_dist, latent_sample = model(data)\n",
    "    _ = loss_f(data, recon_batch, latent_dist, model.training,\n",
    "                    storer, latent_sample=latent_sample)    \n",
    "    losses = {k: sum(v) / len(test_loader) for k, v in storer.items()}\n",
    "    break\n",
    "print(losses)"
   ]
  },
  {
   "cell_type": "code",
   "execution_count": null,
   "metadata": {},
   "outputs": [],
   "source": []
  },
  {
   "cell_type": "code",
   "execution_count": null,
   "metadata": {},
   "outputs": [],
   "source": []
  }
 ],
 "metadata": {
  "kernelspec": {
   "display_name": "Environment (conda_pytorch_p36)",
   "language": "python",
   "name": "conda_pytorch_p36"
  },
  "language_info": {
   "codemirror_mode": {
    "name": "ipython",
    "version": 3
   },
   "file_extension": ".py",
   "mimetype": "text/x-python",
   "name": "python",
   "nbconvert_exporter": "python",
   "pygments_lexer": "ipython3",
   "version": "3.6.10"
  }
 },
 "nbformat": 4,
 "nbformat_minor": 4
}
