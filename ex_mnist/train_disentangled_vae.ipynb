{
 "cells": [
  {
   "cell_type": "code",
   "execution_count": 1,
   "metadata": {},
   "outputs": [],
   "source": [
    "%load_ext autoreload\n",
    "%autoreload 2\n",
    "%matplotlib inline\n",
    "import matplotlib.pyplot as plt\n",
    "import numpy as np\n",
    "import torch\n",
    "import random\n",
    "device = 'cuda' if torch.cuda.is_available() else 'cpu'\n",
    "import os,sys\n",
    "opj = os.path.join\n",
    "from tqdm import tqdm\n",
    "import acd\n",
    "from copy import deepcopy\n",
    "from model_mnist import LeNet5\n",
    "from visualize import *\n",
    "import dset_mnist as dset\n",
    "import foolbox\n",
    "sys.path.append('../trim')\n",
    "from transforms_torch import transform_bandpass, tensor_t_augment, batch_fftshift2d, batch_ifftshift2d\n",
    "from trim import *\n",
    "from util import *\n",
    "from attributions import *\n",
    "from captum.attr import *\n",
    "import warnings\n",
    "warnings.filterwarnings(\"ignore\")\n",
    "# disentangled vae\n",
    "sys.path.append('../disentangling-vae')\n",
    "from collections import defaultdict\n",
    "import vae_trim, vae_trim_viz\n",
    "from disvae.utils.modelIO import save_model, load_model, load_metadata\n",
    "from disvae.models.losses import get_loss_f"
   ]
  },
  {
   "cell_type": "markdown",
   "metadata": {},
   "source": [
    "### Train model"
   ]
  },
  {
   "cell_type": "code",
   "execution_count": 2,
   "metadata": {},
   "outputs": [],
   "source": [
    "args = vae_trim.parse_arguments()\n",
    "args.loss = \"btcvae\"\n",
    "args.reg_anneal = 0\n",
    "args.btcvae_B = 6\n",
    "args.attr_lamb = 0\n",
    "name = args.loss + \"_B_\" + str(args.btcvae_B)\n",
    "args.name = name"
   ]
  },
  {
   "cell_type": "code",
   "execution_count": 3,
   "metadata": {},
   "outputs": [
    {
     "name": "stderr",
     "output_type": "stream",
     "text": [
      "03:51:15 INFO - main: Root directory for saving and loading experiments: results/btcvae_B_6\n",
      "03:51:15 INFO - main: Train mnist with 60000 samples\n",
      "03:51:15 INFO - main: Num parameters in model: 469173\n",
      "03:51:18 INFO - __init__: Training Device: cuda\n",
      "03:51:52 INFO - __call__: Epoch: 1 Average loss per image: 44.44\n",
      "03:52:26 INFO - __call__: Epoch: 2 Average loss per image: 12.42\n",
      "03:52:59 INFO - __call__: Epoch: 3 Average loss per image: 8.36\n",
      "03:53:34 INFO - __call__: Epoch: 4 Average loss per image: 6.02\n",
      "03:54:08 INFO - __call__: Epoch: 5 Average loss per image: 4.45\n",
      "03:54:42 INFO - __call__: Epoch: 6 Average loss per image: 3.20\n",
      "03:55:18 INFO - __call__: Epoch: 7 Average loss per image: 2.52\n",
      "03:55:52 INFO - __call__: Epoch: 8 Average loss per image: 1.59\n",
      "03:56:26 INFO - __call__: Epoch: 9 Average loss per image: 0.91\n",
      "03:57:01 INFO - __call__: Epoch: 10 Average loss per image: 0.51\n",
      "03:57:35 INFO - __call__: Epoch: 11 Average loss per image: -0.10\n",
      "03:58:09 INFO - __call__: Epoch: 12 Average loss per image: -0.45\n",
      "03:58:43 INFO - __call__: Epoch: 13 Average loss per image: -0.85\n",
      "03:59:17 INFO - __call__: Epoch: 14 Average loss per image: -1.13\n",
      "03:59:50 INFO - __call__: Epoch: 15 Average loss per image: -1.49\n",
      "04:00:24 INFO - __call__: Epoch: 16 Average loss per image: -1.69\n",
      "04:00:59 INFO - __call__: Epoch: 17 Average loss per image: -1.97\n",
      "04:01:34 INFO - __call__: Epoch: 18 Average loss per image: -2.22\n",
      "04:02:08 INFO - __call__: Epoch: 19 Average loss per image: -2.50\n",
      "04:02:43 INFO - __call__: Epoch: 20 Average loss per image: -2.65\n",
      "04:03:16 INFO - __call__: Epoch: 21 Average loss per image: -2.90\n",
      "04:03:51 INFO - __call__: Epoch: 22 Average loss per image: -3.09\n",
      "04:04:25 INFO - __call__: Epoch: 23 Average loss per image: -3.22\n",
      "04:05:01 INFO - __call__: Epoch: 24 Average loss per image: -3.44\n",
      "04:05:35 INFO - __call__: Epoch: 25 Average loss per image: -3.60\n",
      "04:06:09 INFO - __call__: Epoch: 26 Average loss per image: -3.80\n",
      "04:06:44 INFO - __call__: Epoch: 27 Average loss per image: -3.81\n",
      "04:07:19 INFO - __call__: Epoch: 28 Average loss per image: -4.04\n",
      "04:07:54 INFO - __call__: Epoch: 29 Average loss per image: -4.21\n",
      "04:08:28 INFO - __call__: Epoch: 30 Average loss per image: -4.32\n",
      "04:09:03 INFO - __call__: Epoch: 31 Average loss per image: -4.46\n",
      "04:09:38 INFO - __call__: Epoch: 32 Average loss per image: -4.61\n",
      "04:10:13 INFO - __call__: Epoch: 33 Average loss per image: -4.68\n",
      "04:10:47 INFO - __call__: Epoch: 34 Average loss per image: -4.76\n",
      "04:11:21 INFO - __call__: Epoch: 35 Average loss per image: -4.90\n",
      "04:11:54 INFO - __call__: Epoch: 36 Average loss per image: -5.01\n",
      "04:12:27 INFO - __call__: Epoch: 37 Average loss per image: -5.14\n",
      "04:13:03 INFO - __call__: Epoch: 38 Average loss per image: -5.31\n",
      "04:13:38 INFO - __call__: Epoch: 39 Average loss per image: -5.32\n",
      "04:14:14 INFO - __call__: Epoch: 40 Average loss per image: -5.39\n",
      "04:14:48 INFO - __call__: Epoch: 41 Average loss per image: -5.56\n",
      "04:15:23 INFO - __call__: Epoch: 42 Average loss per image: -5.62\n",
      "04:15:57 INFO - __call__: Epoch: 43 Average loss per image: -5.62\n",
      "04:16:33 INFO - __call__: Epoch: 44 Average loss per image: -5.73\n",
      "04:17:07 INFO - __call__: Epoch: 45 Average loss per image: -5.84\n",
      "04:17:41 INFO - __call__: Epoch: 46 Average loss per image: -5.93\n",
      "04:18:16 INFO - __call__: Epoch: 47 Average loss per image: -6.05\n",
      "04:18:51 INFO - __call__: Epoch: 48 Average loss per image: -5.99\n",
      "04:19:25 INFO - __call__: Epoch: 49 Average loss per image: -6.09\n",
      "04:20:00 INFO - __call__: Epoch: 50 Average loss per image: -6.22\n",
      "04:20:35 INFO - __call__: Epoch: 51 Average loss per image: -6.20\n",
      "04:21:09 INFO - __call__: Epoch: 52 Average loss per image: -6.32\n",
      "04:21:43 INFO - __call__: Epoch: 53 Average loss per image: -6.45\n",
      "04:22:17 INFO - __call__: Epoch: 54 Average loss per image: -6.52\n",
      "04:22:52 INFO - __call__: Epoch: 55 Average loss per image: -6.52\n",
      "04:23:27 INFO - __call__: Epoch: 56 Average loss per image: -6.65\n",
      "04:24:00 INFO - __call__: Epoch: 57 Average loss per image: -6.65\n",
      "04:24:33 INFO - __call__: Epoch: 58 Average loss per image: -6.69\n",
      "04:25:08 INFO - __call__: Epoch: 59 Average loss per image: -6.84\n",
      "04:25:43 INFO - __call__: Epoch: 60 Average loss per image: -6.93\n",
      "04:26:17 INFO - __call__: Epoch: 61 Average loss per image: -6.92\n",
      "04:26:53 INFO - __call__: Epoch: 62 Average loss per image: -6.96\n",
      "04:27:28 INFO - __call__: Epoch: 63 Average loss per image: -7.06\n",
      "04:28:03 INFO - __call__: Epoch: 64 Average loss per image: -7.13\n",
      "04:28:38 INFO - __call__: Epoch: 65 Average loss per image: -7.10\n",
      "04:29:12 INFO - __call__: Epoch: 66 Average loss per image: -7.12\n",
      "04:29:45 INFO - __call__: Epoch: 67 Average loss per image: -7.18\n",
      "04:30:20 INFO - __call__: Epoch: 68 Average loss per image: -7.37\n",
      "04:30:53 INFO - __call__: Epoch: 69 Average loss per image: -7.34\n",
      "04:31:27 INFO - __call__: Epoch: 70 Average loss per image: -7.40\n",
      "04:32:01 INFO - __call__: Epoch: 71 Average loss per image: -7.40\n",
      "04:32:36 INFO - __call__: Epoch: 72 Average loss per image: -7.45\n",
      "04:33:11 INFO - __call__: Epoch: 73 Average loss per image: -7.50\n",
      "04:33:46 INFO - __call__: Epoch: 74 Average loss per image: -7.52\n",
      "04:34:21 INFO - __call__: Epoch: 75 Average loss per image: -7.52\n",
      "04:34:55 INFO - __call__: Epoch: 76 Average loss per image: -7.63\n",
      "04:35:30 INFO - __call__: Epoch: 77 Average loss per image: -7.57\n",
      "04:36:04 INFO - __call__: Epoch: 78 Average loss per image: -7.78\n",
      "04:36:39 INFO - __call__: Epoch: 79 Average loss per image: -7.71\n",
      "04:37:14 INFO - __call__: Epoch: 80 Average loss per image: -7.78\n",
      "04:37:49 INFO - __call__: Epoch: 81 Average loss per image: -7.80\n",
      "04:38:24 INFO - __call__: Epoch: 82 Average loss per image: -7.90\n",
      "04:38:58 INFO - __call__: Epoch: 83 Average loss per image: -7.89\n",
      "04:39:32 INFO - __call__: Epoch: 84 Average loss per image: -7.93\n",
      "04:40:06 INFO - __call__: Epoch: 85 Average loss per image: -7.93\n",
      "04:40:41 INFO - __call__: Epoch: 86 Average loss per image: -8.03\n",
      "04:41:15 INFO - __call__: Epoch: 87 Average loss per image: -8.00\n",
      "04:41:51 INFO - __call__: Epoch: 88 Average loss per image: -8.01\n",
      "04:42:26 INFO - __call__: Epoch: 89 Average loss per image: -8.09\n",
      "04:43:01 INFO - __call__: Epoch: 90 Average loss per image: -8.07\n",
      "04:43:35 INFO - __call__: Epoch: 91 Average loss per image: -8.18\n",
      "04:44:10 INFO - __call__: Epoch: 92 Average loss per image: -8.17\n",
      "04:44:44 INFO - __call__: Epoch: 93 Average loss per image: -8.20\n",
      "04:45:19 INFO - __call__: Epoch: 94 Average loss per image: -8.24\n",
      "04:45:53 INFO - __call__: Epoch: 95 Average loss per image: -8.25\n",
      "04:46:28 INFO - __call__: Epoch: 96 Average loss per image: -8.38\n",
      "04:47:01 INFO - __call__: Epoch: 97 Average loss per image: -8.29\n",
      "04:47:35 INFO - __call__: Epoch: 98 Average loss per image: -8.34\n",
      "04:48:10 INFO - __call__: Epoch: 99 Average loss per image: -8.43\n",
      "04:48:44 INFO - __call__: Epoch: 100 Average loss per image: -8.40\n",
      "04:48:46 INFO - __call__: Finished training after 57.5 min.\n",
      "04:48:46 INFO - __init__: Testing Device: cuda\n",
      "04:48:46 INFO - __call__: Computing losses...\n",
      "04:48:47 INFO - __call__: Losses: {'recon_loss': 2.2062197367350262, 'loss': -2.418884023030599, 'mi_loss': 1.1482620239257812, 'tc_loss': -0.9638455708821615, 'dw_kl_loss': 0.009707390268643697, 'kl_loss': 0.14476261138916016, 'kl_loss_0': 0.03074162403742472, 'kl_loss_1': 0.025402174393335978, 'kl_loss_2': 0.007250406344731649, 'kl_loss_3': 0.0195383350054423, 'kl_loss_4': 1.286977882652233e-05, 'kl_loss_5': 0.007157911360263824, 'kl_loss_6': 0.020449487368265788, 'kl_loss_7': 0.030269511540730796, 'kl_loss_8': 0.003927591194709142, 'kl_loss_9': 1.2709737832968434e-05}\n",
      "04:48:47 INFO - __call__: Finished evaluating after 0.0 min.\n"
     ]
    }
   ],
   "source": [
    "# train and evaluate model\n",
    "vae_trim.main(args)"
   ]
  },
  {
   "cell_type": "code",
   "execution_count": 4,
   "metadata": {},
   "outputs": [
    {
     "name": "stdout",
     "output_type": "stream",
     "text": [
      "Selected idcs: [50997, 28883, 7657, 490, 5940, 59701, 52887, 38156, 2288, 44011, 45422, 5500, 6450, 50232, 23241, 15519, 1142, 2019, 51693, 1038, 22681, 42488, 40847, 31735, 40358, 30379, 9735, 5982, 11999, 46754, 7498, 55400, 958, 32970, 31899, 57702, 16372, 4231, 43729, 35460, 59789, 30533, 4493, 39417, 44245, 5828, 33753, 37945, 3012, 17667, 54026, 36466, 4133, 42246, 19819, 31525, 55717, 23280, 17462, 16328, 42957, 13109, 29713, 57445, 34744, 43608, 1264, 33298, 4626, 378, 21856, 9422, 46531, 30987, 43080, 24729, 10951, 3550, 4996, 38504, 32543, 10748, 4936, 36525, 14096, 9453, 1777, 22690, 50526, 7267, 34713, 9255, 43942, 20014, 29762, 2594, 27279, 18139, 43410, 52855]\n"
     ]
    }
   ],
   "source": [
    "# generate visualization\n",
    "args = vae_trim_viz.parse_arguments()\n",
    "args.name = name\n",
    "args.plots = \"all\"\n",
    "args.n_rows = 10\n",
    "args.n_cols = 10\n",
    "vae_trim_viz.main(args)"
   ]
  },
  {
   "cell_type": "markdown",
   "metadata": {},
   "source": [
    "### Test model"
   ]
  },
  {
   "cell_type": "code",
   "execution_count": 5,
   "metadata": {},
   "outputs": [],
   "source": [
    "args = vae_trim.parse_arguments()\n",
    "args.name = name\n",
    "# results dir\n",
    "exp_dir = os.path.join(vae_trim.RES_DIR, args.name)\n",
    "\n",
    "# load dataloaders\n",
    "train_loader, test_loader = dset.load_data(args.batch_size, args.eval_batchsize, device)\n",
    "metadata = load_metadata(exp_dir)\n",
    "\n",
    "# load model\n",
    "model = load_model(exp_dir, is_gpu=not args.no_cuda)"
   ]
  },
  {
   "cell_type": "code",
   "execution_count": 6,
   "metadata": {},
   "outputs": [
    {
     "name": "stderr",
     "output_type": "stream",
     "text": [
      "                                      "
     ]
    },
    {
     "name": "stdout",
     "output_type": "stream",
     "text": [
      "{'recon_loss': 13.434420776367187, 'loss': -14.213458251953124, 'mi_loss': 6.889332580566406, 'tc_loss': -5.764905166625977, 'dw_kl_loss': 0.052219969034194944, 'kl_loss': 0.8755897521972656, 'kl_loss_0': 0.19102964401245118, 'kl_loss_1': 0.1488478183746338, 'kl_loss_2': 0.05634179711341858, 'kl_loss_3': 0.11366198062896729, 'kl_loss_4': 5.683525814674795e-05, 'kl_loss_5': 0.05320039391517639, 'kl_loss_6': 0.125301992893219, 'kl_loss_7': 0.1615625023841858, 'kl_loss_8': 0.02550655007362366, 'kl_loss_9': 8.023680420592428e-05}\n"
     ]
    },
    {
     "name": "stderr",
     "output_type": "stream",
     "text": []
    }
   ],
   "source": [
    "# loss\n",
    "loss_f = get_loss_f(args.loss,\n",
    "                    n_data=len(test_loader.dataset),\n",
    "                    device=device,\n",
    "                    **vars(args))\n",
    "\n",
    "# evaluate on testset\n",
    "storer = defaultdict(list)\n",
    "for data, _ in tqdm(test_loader, leave=False, disable=args.no_progress_bar):\n",
    "    data = data.to(device)\n",
    "    recon_batch, latent_dist, latent_sample = model(data)\n",
    "    _ = loss_f(data, recon_batch, latent_dist, model.training,\n",
    "                    storer, latent_sample=latent_sample)    \n",
    "    losses = {k: sum(v) / len(test_loader) for k, v in storer.items()}\n",
    "    break\n",
    "print(losses)"
   ]
  },
  {
   "cell_type": "code",
   "execution_count": null,
   "metadata": {},
   "outputs": [],
   "source": []
  },
  {
   "cell_type": "code",
   "execution_count": null,
   "metadata": {},
   "outputs": [],
   "source": []
  }
 ],
 "metadata": {
  "kernelspec": {
   "display_name": "Environment (conda_pytorch_p36)",
   "language": "python",
   "name": "conda_pytorch_p36"
  },
  "language_info": {
   "codemirror_mode": {
    "name": "ipython",
    "version": 3
   },
   "file_extension": ".py",
   "mimetype": "text/x-python",
   "name": "python",
   "nbconvert_exporter": "python",
   "pygments_lexer": "ipython3",
   "version": "3.6.7"
  }
 },
 "nbformat": 4,
 "nbformat_minor": 2
}
