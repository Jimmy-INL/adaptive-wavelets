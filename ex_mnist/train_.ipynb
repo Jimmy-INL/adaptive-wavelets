{
 "cells": [
  {
   "cell_type": "code",
   "execution_count": 1,
   "metadata": {},
   "outputs": [],
   "source": [
    "%load_ext autoreload\n",
    "%autoreload 2\n",
    "%matplotlib inline\n",
    "import matplotlib.pyplot as plt\n",
    "import numpy as np\n",
    "import torch\n",
    "import random\n",
    "device = 'cuda' if torch.cuda.is_available() else 'cpu'\n",
    "import os,sys\n",
    "opj = os.path.join\n",
    "from tqdm import tqdm\n",
    "import acd\n",
    "from copy import deepcopy\n",
    "from model_mnist import LeNet5\n",
    "from visualize import *\n",
    "import dset_mnist as dset\n",
    "import foolbox\n",
    "sys.path.append('../trim')\n",
    "from transforms_torch import transform_bandpass, tensor_t_augment, batch_fftshift2d, batch_ifftshift2d\n",
    "from trim import *\n",
    "from util import *\n",
    "from attributions import *\n",
    "from captum.attr import *\n",
    "import warnings\n",
    "warnings.filterwarnings(\"ignore\")\n",
    "# disentangled vae\n",
    "sys.path.append('../disentangling-vae')\n",
    "from collections import defaultdict\n",
    "import vae_trim, vae_trim_viz\n",
    "from disvae.utils.modelIO import save_model, load_model, load_metadata\n",
    "from disvae.models.losses import get_loss_f"
   ]
  },
  {
   "cell_type": "markdown",
   "metadata": {},
   "source": [
    "### Train model"
   ]
  },
  {
   "cell_type": "code",
   "execution_count": 2,
   "metadata": {},
   "outputs": [],
   "source": [
    "args = vae_trim.parse_arguments()\n",
    "args.btcvae_A = 0\n",
    "args.btcvae_B = 9\n",
    "args.reg_anneal = 0\n",
    "args.trim_lamb = 50\n",
    "args.epochs = 60\n",
    "name = \"disvae_btcvae_A_\" + str(args.btcvae_A) + \"_btcvae_B_\" + str(args.btcvae_B) + \"_lamb_\" + str(args.trim_lamb) \n",
    "args.name = name\n",
    "\n",
    "# load classifier\n",
    "m = LeNet5().eval()\n",
    "m.load_state_dict(torch.load('weights/lenet_epoch=12_test_acc=0.991.pth'))\n",
    "m = m.to(device)"
   ]
  },
  {
   "cell_type": "code",
   "execution_count": 3,
   "metadata": {},
   "outputs": [
    {
     "name": "stderr",
     "output_type": "stream",
     "text": [
      "14:20:27 INFO - main: Root directory for saving and loading experiments: results/disvae_btcvae_A_0_btcvae_B_9_lamb_50\n",
      "14:20:27 INFO - main: Train mnist with 60000 samples\n",
      "14:20:27 INFO - main: Num parameters in model: 469173\n",
      "14:20:27 INFO - __init__: Training Device: cuda\n",
      "14:20:59 INFO - __call__: Epoch: 1 Average loss per image: -68.07\n",
      "14:21:29 INFO - __call__: Epoch: 2 Average loss per image: -100.94\n",
      "14:22:00 INFO - __call__: Epoch: 3 Average loss per image: -105.20\n",
      "14:22:31 INFO - __call__: Epoch: 4 Average loss per image: -107.54\n",
      "14:23:02 INFO - __call__: Epoch: 5 Average loss per image: -109.03\n",
      "14:23:32 INFO - __call__: Epoch: 6 Average loss per image: -110.11\n",
      "14:24:03 INFO - __call__: Epoch: 7 Average loss per image: -111.02\n",
      "14:24:35 INFO - __call__: Epoch: 8 Average loss per image: -111.86\n",
      "14:25:07 INFO - __call__: Epoch: 9 Average loss per image: -112.58\n",
      "14:25:38 INFO - __call__: Epoch: 10 Average loss per image: -112.96\n",
      "14:26:07 INFO - __call__: Epoch: 11 Average loss per image: -113.46\n",
      "14:26:38 INFO - __call__: Epoch: 12 Average loss per image: -113.80\n",
      "14:27:08 INFO - __call__: Epoch: 13 Average loss per image: -114.17\n",
      "14:27:38 INFO - __call__: Epoch: 14 Average loss per image: -114.53\n",
      "14:28:09 INFO - __call__: Epoch: 15 Average loss per image: -114.71\n",
      "14:28:40 INFO - __call__: Epoch: 16 Average loss per image: -114.89\n",
      "14:29:09 INFO - __call__: Epoch: 17 Average loss per image: -115.21\n",
      "14:29:41 INFO - __call__: Epoch: 18 Average loss per image: -115.52\n",
      "14:30:10 INFO - __call__: Epoch: 19 Average loss per image: -115.65\n",
      "14:30:40 INFO - __call__: Epoch: 20 Average loss per image: -115.83\n",
      "14:31:11 INFO - __call__: Epoch: 21 Average loss per image: -116.07\n",
      "14:31:43 INFO - __call__: Epoch: 22 Average loss per image: -116.24\n",
      "14:32:14 INFO - __call__: Epoch: 23 Average loss per image: -116.35\n",
      "14:32:45 INFO - __call__: Epoch: 24 Average loss per image: -116.51\n",
      "14:33:16 INFO - __call__: Epoch: 25 Average loss per image: -116.68\n",
      "14:33:46 INFO - __call__: Epoch: 26 Average loss per image: -116.88\n",
      "14:34:17 INFO - __call__: Epoch: 27 Average loss per image: -117.01\n",
      "14:34:48 INFO - __call__: Epoch: 28 Average loss per image: -117.05\n",
      "14:35:18 INFO - __call__: Epoch: 29 Average loss per image: -117.16\n",
      "14:35:47 INFO - __call__: Epoch: 30 Average loss per image: -117.39\n",
      "14:36:17 INFO - __call__: Epoch: 31 Average loss per image: -117.35\n",
      "14:36:48 INFO - __call__: Epoch: 32 Average loss per image: -117.68\n",
      "14:37:20 INFO - __call__: Epoch: 33 Average loss per image: -117.69\n",
      "14:37:50 INFO - __call__: Epoch: 34 Average loss per image: -117.68\n",
      "14:38:21 INFO - __call__: Epoch: 35 Average loss per image: -117.79\n",
      "14:38:52 INFO - __call__: Epoch: 36 Average loss per image: -117.93\n",
      "14:39:24 INFO - __call__: Epoch: 37 Average loss per image: -118.03\n",
      "14:39:56 INFO - __call__: Epoch: 38 Average loss per image: -118.19\n",
      "14:40:27 INFO - __call__: Epoch: 39 Average loss per image: -118.15\n",
      "14:40:56 INFO - __call__: Epoch: 40 Average loss per image: -118.43\n",
      "14:41:26 INFO - __call__: Epoch: 41 Average loss per image: -118.46\n",
      "14:41:55 INFO - __call__: Epoch: 42 Average loss per image: -118.43\n",
      "14:42:25 INFO - __call__: Epoch: 43 Average loss per image: -118.39\n",
      "14:42:56 INFO - __call__: Epoch: 44 Average loss per image: -118.60\n",
      "14:43:29 INFO - __call__: Epoch: 45 Average loss per image: -118.67\n",
      "14:44:00 INFO - __call__: Epoch: 46 Average loss per image: -118.78\n",
      "14:44:32 INFO - __call__: Epoch: 47 Average loss per image: -118.89\n",
      "14:45:02 INFO - __call__: Epoch: 48 Average loss per image: -118.89\n",
      "14:45:31 INFO - __call__: Epoch: 49 Average loss per image: -118.87\n",
      "14:46:02 INFO - __call__: Epoch: 50 Average loss per image: -119.03\n",
      "14:46:33 INFO - __call__: Epoch: 51 Average loss per image: -119.16\n",
      "14:47:03 INFO - __call__: Epoch: 52 Average loss per image: -119.13\n",
      "14:47:33 INFO - __call__: Epoch: 53 Average loss per image: -119.30\n",
      "14:48:04 INFO - __call__: Epoch: 54 Average loss per image: -119.39\n",
      "14:48:36 INFO - __call__: Epoch: 55 Average loss per image: -119.34\n",
      "14:49:06 INFO - __call__: Epoch: 56 Average loss per image: -119.44\n",
      "14:49:36 INFO - __call__: Epoch: 57 Average loss per image: -119.47\n",
      "14:50:06 INFO - __call__: Epoch: 58 Average loss per image: -119.44\n",
      "14:50:37 INFO - __call__: Epoch: 59 Average loss per image: -119.58\n",
      "14:51:08 INFO - __call__: Epoch: 60 Average loss per image: -119.73\n",
      "14:51:09 INFO - __call__: Finished training after 30.7 min.\n",
      "14:51:09 INFO - __init__: Testing Device: cuda\n",
      "14:51:09 INFO - __call__: Computing losses...\n",
      "14:51:09 INFO - __call__: Losses: {'recon_loss': 2.4533592224121095, 'loss': -6.539612833658854, 'mi_loss': 1.1434098561604817, 'tc_loss': -1.0003864924112955, 'dw_kl_loss': 0.010505713025728862, 'kl_loss': 0.11654307842254638, 'kl_loss_0': 0.029333347082138063, 'kl_loss_1': 0.021138505140940348, 'kl_loss_2': 0.008857381343841553, 'kl_loss_3': 2.6006369929139812e-05, 'kl_loss_4': 1.810842465298871e-05, 'kl_loss_5': 1.599431464759012e-05, 'kl_loss_6': 0.026470712820688882, 'kl_loss_7': 1.346691375753532e-05, 'kl_loss_8': 0.03064773480097453, 'kl_loss_9': 2.1821485521892706e-05}\n",
      "14:51:09 INFO - __call__: Finished evaluating after 0.0 min.\n"
     ]
    }
   ],
   "source": [
    "# train and evaluate model\n",
    "vae_trim.main(args, classifier=m)"
   ]
  },
  {
   "cell_type": "code",
   "execution_count": 4,
   "metadata": {},
   "outputs": [
    {
     "name": "stdout",
     "output_type": "stream",
     "text": [
      "Selected idcs: [50997, 28883, 7657, 490, 5940, 59701, 52887, 38156, 2288, 44011, 45422, 5500, 6450, 50232, 23241, 15519, 1142, 2019, 51693, 1038, 22681, 42488, 40847, 31735, 40358, 30379, 9735, 5982, 11999, 46754, 7498, 55400, 958, 32970, 31899, 57702, 16372, 4231, 43729, 35460, 59789, 30533, 4493, 39417, 44245, 5828, 33753, 37945, 3012, 17667, 54026, 36466, 4133, 42246, 19819, 31525, 55717, 23280, 17462, 16328, 42957, 13109, 29713, 57445, 34744, 43608, 1264, 33298, 4626, 378, 21856, 9422, 46531, 30987, 43080, 24729, 10951, 3550, 4996, 38504, 32543, 10748, 4936, 36525, 14096, 9453, 1777, 22690, 50526, 7267, 34713, 9255, 43942, 20014, 29762, 2594, 27279, 18139, 43410, 52855]\n"
     ]
    }
   ],
   "source": [
    "# generate visualization\n",
    "args = vae_trim_viz.parse_arguments()\n",
    "args.name = name\n",
    "args.plots = \"all\"\n",
    "args.n_rows = 10\n",
    "args.n_cols = 10\n",
    "vae_trim_viz.main(args)"
   ]
  },
  {
   "cell_type": "markdown",
   "metadata": {},
   "source": [
    "### Test model"
   ]
  },
  {
   "cell_type": "code",
   "execution_count": 5,
   "metadata": {},
   "outputs": [],
   "source": [
    "args = vae_trim.parse_arguments()\n",
    "args.name = name\n",
    "# results dir\n",
    "exp_dir = os.path.join(vae_trim.RES_DIR, args.name)\n",
    "\n",
    "# load dataloaders\n",
    "train_loader, test_loader = dset.load_data(args.batch_size, args.eval_batchsize, device)\n",
    "metadata = load_metadata(exp_dir)\n",
    "\n",
    "# load model\n",
    "model = load_model(exp_dir, is_gpu=not args.no_cuda)"
   ]
  },
  {
   "cell_type": "code",
   "execution_count": 6,
   "metadata": {},
   "outputs": [
    {
     "name": "stderr",
     "output_type": "stream",
     "text": [
      "                                      "
     ]
    },
    {
     "name": "stdout",
     "output_type": "stream",
     "text": [
      "{'recon_loss': 15.124087524414062, 'loss': -14.043325805664063, 'mi_loss': 6.861013031005859, 'tc_loss': -6.017551422119141, 'dw_kl_loss': 0.07688323259353638, 'kl_loss': 0.6955610275268554, 'kl_loss_0': 0.18338215351104736, 'kl_loss_1': 0.13812520503997802, 'kl_loss_2': 0.06167691946029663, 'kl_loss_3': 0.00018223549704998732, 'kl_loss_4': 9.279078803956509e-05, 'kl_loss_5': 0.00010799762094393373, 'kl_loss_6': 0.14513283967971802, 'kl_loss_7': 7.482132059521973e-05, 'kl_loss_8': 0.16666001081466675, 'kl_loss_9': 0.00012611874844878913}\n"
     ]
    },
    {
     "name": "stderr",
     "output_type": "stream",
     "text": []
    }
   ],
   "source": [
    "# loss\n",
    "loss_f = get_loss_f(args.loss,\n",
    "                    n_data=len(test_loader.dataset),\n",
    "                    device=device,\n",
    "                    **vars(args))\n",
    "\n",
    "# evaluate on testset\n",
    "storer = defaultdict(list)\n",
    "for data, _ in tqdm(test_loader, leave=False, disable=args.no_progress_bar):\n",
    "    data = data.to(device)\n",
    "    recon_batch, latent_dist, latent_sample = model(data)\n",
    "    _ = loss_f(data, recon_batch, latent_dist, model.training,\n",
    "                    storer, latent_sample=latent_sample)    \n",
    "    losses = {k: sum(v) / len(test_loader) for k, v in storer.items()}\n",
    "    break\n",
    "print(losses)"
   ]
  },
  {
   "cell_type": "code",
   "execution_count": null,
   "metadata": {},
   "outputs": [],
   "source": []
  }
 ],
 "metadata": {
  "kernelspec": {
   "display_name": "Environment (conda_pytorch_p36)",
   "language": "python",
   "name": "conda_pytorch_p36"
  },
  "language_info": {
   "codemirror_mode": {
    "name": "ipython",
    "version": 3
   },
   "file_extension": ".py",
   "mimetype": "text/x-python",
   "name": "python",
   "nbconvert_exporter": "python",
   "pygments_lexer": "ipython3",
   "version": "3.6.7"
  }
 },
 "nbformat": 4,
 "nbformat_minor": 2
}
