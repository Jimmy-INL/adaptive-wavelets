{
 "cells": [
  {
   "cell_type": "code",
   "execution_count": 1,
   "metadata": {},
   "outputs": [],
   "source": [
    "%load_ext autoreload\n",
    "%autoreload 2\n",
    "%matplotlib inline\n",
    "import matplotlib.pyplot as plt\n",
    "import numpy as np\n",
    "import torch\n",
    "import random\n",
    "device = 'cuda' if torch.cuda.is_available() else 'cpu'\n",
    "import os,sys\n",
    "opj = os.path.join\n",
    "from tqdm import tqdm\n",
    "import acd\n",
    "from copy import deepcopy\n",
    "from model_mnist import LeNet5\n",
    "from visualize import *\n",
    "import dset_mnist as dset\n",
    "import foolbox\n",
    "sys.path.append('../trim')\n",
    "from transforms_torch import transform_bandpass, tensor_t_augment, batch_fftshift2d, batch_ifftshift2d\n",
    "from trim import *\n",
    "from util import *\n",
    "from attributions import *\n",
    "from captum.attr import *\n",
    "import warnings\n",
    "warnings.filterwarnings(\"ignore\")\n",
    "# disentangled vae\n",
    "sys.path.append('../disentangling-vae')\n",
    "from collections import defaultdict\n",
    "import vae_trim, vae_trim_viz\n",
    "from disvae.utils.modelIO import save_model, load_model, load_metadata\n",
    "from disvae.models.losses import get_loss_f"
   ]
  },
  {
   "cell_type": "markdown",
   "metadata": {},
   "source": [
    "### Train model"
   ]
  },
  {
   "cell_type": "code",
   "execution_count": 2,
   "metadata": {},
   "outputs": [],
   "source": [
    "args = vae_trim.parse_arguments()\n",
    "args.loss = \"btcvae\"\n",
    "args.reg_anneal = 0\n",
    "args.btcvae_B = 1\n",
    "args.attr_lamb = 20\n",
    "args.epochs = 60\n",
    "name = args.loss + \"_B_\" + str(args.btcvae_B) + \"_attr_\" + str(args.attr_lamb) + \"_bijection_3\"\n",
    "args.name = name"
   ]
  },
  {
   "cell_type": "code",
   "execution_count": 3,
   "metadata": {},
   "outputs": [
    {
     "name": "stderr",
     "output_type": "stream",
     "text": [
      "04:26:56 INFO - main: Root directory for saving and loading experiments: results/btcvae_B_1_attr_20_bijection_3\n",
      "04:26:56 INFO - main: Train mnist with 60000 samples\n",
      "04:26:56 INFO - main: Num parameters in model: 469173\n",
      "04:26:57 INFO - __init__: Training Device: cuda\n",
      "04:29:22 INFO - __call__: Epoch: 1 Average loss per image: 203.28   \n",
      "04:31:48 INFO - __call__: Epoch: 2 Average loss per image: 166.29   \n",
      "04:34:14 INFO - __call__: Epoch: 3 Average loss per image: 162.09   \n",
      "04:36:38 INFO - __call__: Epoch: 4 Average loss per image: 159.89   \n",
      "04:39:02 INFO - __call__: Epoch: 5 Average loss per image: 158.37   \n",
      "04:41:26 INFO - __call__: Epoch: 6 Average loss per image: 157.18   \n",
      "04:43:52 INFO - __call__: Epoch: 7 Average loss per image: 156.27   \n",
      "04:46:15 INFO - __call__: Epoch: 8 Average loss per image: 155.58   \n",
      "04:48:40 INFO - __call__: Epoch: 9 Average loss per image: 154.95   \n",
      "04:51:02 INFO - __call__: Epoch: 10 Average loss per image: 154.48   \n",
      "04:53:25 INFO - __call__: Epoch: 11 Average loss per image: 153.99   \n",
      "04:55:48 INFO - __call__: Epoch: 12 Average loss per image: 153.55   \n",
      "04:58:10 INFO - __call__: Epoch: 13 Average loss per image: 153.19   \n",
      "05:00:33 INFO - __call__: Epoch: 14 Average loss per image: 152.90   \n",
      "05:02:59 INFO - __call__: Epoch: 15 Average loss per image: 152.55   \n",
      "05:05:23 INFO - __call__: Epoch: 16 Average loss per image: 152.29   \n",
      "05:07:48 INFO - __call__: Epoch: 17 Average loss per image: 151.99   \n",
      "05:10:12 INFO - __call__: Epoch: 18 Average loss per image: 151.76   \n",
      "05:12:39 INFO - __call__: Epoch: 19 Average loss per image: 151.56   \n",
      "05:15:04 INFO - __call__: Epoch: 20 Average loss per image: 151.39   \n",
      "05:17:30 INFO - __call__: Epoch: 21 Average loss per image: 151.08   \n",
      "05:19:59 INFO - __call__: Epoch: 22 Average loss per image: 151.00   \n",
      "05:22:24 INFO - __call__: Epoch: 23 Average loss per image: 150.76   \n",
      "05:24:52 INFO - __call__: Epoch: 24 Average loss per image: 150.64   \n",
      "05:27:15 INFO - __call__: Epoch: 25 Average loss per image: 150.48   \n",
      "05:29:41 INFO - __call__: Epoch: 26 Average loss per image: 150.30   \n",
      "05:32:06 INFO - __call__: Epoch: 27 Average loss per image: 150.23   \n",
      "05:34:29 INFO - __call__: Epoch: 28 Average loss per image: 150.10   \n",
      "05:36:56 INFO - __call__: Epoch: 29 Average loss per image: 149.96   \n",
      "05:39:22 INFO - __call__: Epoch: 30 Average loss per image: 149.88   \n",
      "05:41:44 INFO - __call__: Epoch: 31 Average loss per image: 149.76   \n",
      "05:44:06 INFO - __call__: Epoch: 32 Average loss per image: 149.69   \n",
      "05:46:30 INFO - __call__: Epoch: 33 Average loss per image: 149.57   \n",
      "05:48:56 INFO - __call__: Epoch: 34 Average loss per image: 149.48   \n",
      "05:51:21 INFO - __call__: Epoch: 35 Average loss per image: 149.39   \n",
      "05:53:44 INFO - __call__: Epoch: 36 Average loss per image: 149.27   \n",
      "05:56:11 INFO - __call__: Epoch: 37 Average loss per image: 149.18   \n",
      "05:58:36 INFO - __call__: Epoch: 38 Average loss per image: 149.13   \n",
      "06:01:01 INFO - __call__: Epoch: 39 Average loss per image: 148.99   \n",
      "06:03:23 INFO - __call__: Epoch: 40 Average loss per image: 148.92   \n",
      "06:05:47 INFO - __call__: Epoch: 41 Average loss per image: 148.83   \n",
      "06:08:11 INFO - __call__: Epoch: 42 Average loss per image: 148.72   \n",
      "06:10:35 INFO - __call__: Epoch: 43 Average loss per image: 148.68   \n",
      "06:12:57 INFO - __call__: Epoch: 44 Average loss per image: 148.53   \n",
      "06:15:22 INFO - __call__: Epoch: 45 Average loss per image: 148.57   \n",
      "06:20:10 INFO - __call__: Epoch: 47 Average loss per image: 148.37   \n",
      "06:22:33 INFO - __call__: Epoch: 48 Average loss per image: 148.30   \n",
      "06:24:55 INFO - __call__: Epoch: 49 Average loss per image: 148.31   \n",
      "06:27:20 INFO - __call__: Epoch: 50 Average loss per image: 148.19   \n",
      "06:29:43 INFO - __call__: Epoch: 51 Average loss per image: 148.08   \n",
      "06:32:06 INFO - __call__: Epoch: 52 Average loss per image: 148.05   \n",
      "06:34:31 INFO - __call__: Epoch: 53 Average loss per image: 147.99   \n",
      "06:36:53 INFO - __call__: Epoch: 54 Average loss per image: 147.93   \n",
      "06:39:17 INFO - __call__: Epoch: 55 Average loss per image: 147.89   \n",
      "06:41:41 INFO - __call__: Epoch: 56 Average loss per image: 147.91   \n",
      "06:44:03 INFO - __call__: Epoch: 57 Average loss per image: 147.80   \n",
      "06:46:26 INFO - __call__: Epoch: 58 Average loss per image: 147.75   \n",
      "06:48:49 INFO - __call__: Epoch: 59 Average loss per image: 147.68   \n",
      "06:51:11 INFO - __call__: Epoch: 60 Average loss per image: 147.62   \n",
      "06:51:12 INFO - __call__: Finished training after 144.3 min.\n",
      "06:51:12 INFO - __init__: Testing Device: cuda\n",
      "06:51:12 INFO - __call__: Computing losses...\n",
      "06:51:13 INFO - __call__: Losses: {'recon_loss': 1.9919424692789713, 'loss': 2.394500223795573, 'mi_loss': 1.1517023722330728, 'tc_loss': -0.7573811848958333, 'dw_kl_loss': 0.008236643671989442, 'kl_loss': 0.3213050842285156, 'kl_loss_0': 0.03257655700047811, 'kl_loss_1': 0.03340390920639038, 'kl_loss_2': 0.030999857187271117, 'kl_loss_3': 0.029533718029658, 'kl_loss_4': 0.04214201768239339, 'kl_loss_5': 0.02747541864713033, 'kl_loss_6': 0.03027783433596293, 'kl_loss_7': 0.04218405485153198, 'kl_loss_8': 0.028210020065307616, 'kl_loss_9': 0.024501717090606688}\n",
      "06:51:13 INFO - __call__: Finished evaluating after 0.0 min.\n"
     ]
    }
   ],
   "source": [
    "# train and evaluate model\n",
    "vae_trim.main(args)"
   ]
  },
  {
   "cell_type": "code",
   "execution_count": 4,
   "metadata": {},
   "outputs": [
    {
     "name": "stdout",
     "output_type": "stream",
     "text": [
      "Selected idcs: [50997, 28883, 7657, 490, 5940, 59701, 52887, 38156, 2288, 44011, 45422, 5500, 6450, 50232, 23241, 15519, 1142, 2019, 51693, 1038, 22681, 42488, 40847, 31735, 40358, 30379, 9735, 5982, 11999, 46754, 7498, 55400, 958, 32970, 31899, 57702, 16372, 4231, 43729, 35460, 59789, 30533, 4493, 39417, 44245, 5828, 33753, 37945, 3012, 17667, 54026, 36466, 4133, 42246, 19819, 31525, 55717, 23280, 17462, 16328, 42957, 13109, 29713, 57445, 34744, 43608, 1264, 33298, 4626, 378, 21856, 9422, 46531, 30987, 43080, 24729, 10951, 3550, 4996, 38504, 32543, 10748, 4936, 36525, 14096, 9453, 1777, 22690, 50526, 7267, 34713, 9255, 43942, 20014, 29762, 2594, 27279, 18139, 43410, 52855]\n"
     ]
    }
   ],
   "source": [
    "# generate visualization\n",
    "args = vae_trim_viz.parse_arguments()\n",
    "args.name = name\n",
    "args.plots = \"all\"\n",
    "args.n_rows = 10\n",
    "args.n_cols = 10\n",
    "vae_trim_viz.main(args)"
   ]
  },
  {
   "cell_type": "markdown",
   "metadata": {},
   "source": [
    "### Test model"
   ]
  },
  {
   "cell_type": "code",
   "execution_count": 5,
   "metadata": {},
   "outputs": [],
   "source": [
    "args = vae_trim.parse_arguments()\n",
    "args.loss = \"VAE\"\n",
    "args.name = name\n",
    "# results dir\n",
    "exp_dir = os.path.join(vae_trim.RES_DIR, args.name)\n",
    "\n",
    "# load dataloaders\n",
    "train_loader, test_loader = dset.load_data(args.batch_size, args.eval_batchsize, device)\n",
    "metadata = load_metadata(exp_dir)\n",
    "\n",
    "# load model\n",
    "model = load_model(exp_dir, is_gpu=not args.no_cuda)"
   ]
  },
  {
   "cell_type": "code",
   "execution_count": 6,
   "metadata": {},
   "outputs": [
    {
     "name": "stderr",
     "output_type": "stream",
     "text": [
      "                                      "
     ]
    },
    {
     "name": "stdout",
     "output_type": "stream",
     "text": [
      "{'recon_loss': 12.027501678466797, 'kl_loss': 1.930692481994629, 'kl_loss_0': 0.19817252159118653, 'kl_loss_1': 0.1984402060508728, 'kl_loss_2': 0.1867664098739624, 'kl_loss_3': 0.18077932596206664, 'kl_loss_4': 0.24604420661926268, 'kl_loss_5': 0.1641427159309387, 'kl_loss_6': 0.18898794651031495, 'kl_loss_7': 0.25300734043121337, 'kl_loss_8': 0.1653110384941101, 'kl_loss_9': 0.14904073476791382, 'loss': 13.958193969726562}\n"
     ]
    },
    {
     "name": "stderr",
     "output_type": "stream",
     "text": [
      "\r"
     ]
    }
   ],
   "source": [
    "# loss\n",
    "loss_f = get_loss_f(args.loss,\n",
    "                    n_data=len(test_loader.dataset),\n",
    "                    device=device,\n",
    "                    **vars(args))\n",
    "\n",
    "# evaluate on testset\n",
    "storer = defaultdict(list)\n",
    "for data, _ in tqdm(test_loader, leave=False, disable=args.no_progress_bar):\n",
    "    data = data.to(device)\n",
    "    recon_batch, latent_dist, latent_sample = model(data)\n",
    "    _ = loss_f(data, recon_batch, latent_dist, model.training,\n",
    "                    storer, latent_sample=latent_sample)    \n",
    "    losses = {k: sum(v) / len(test_loader) for k, v in storer.items()}\n",
    "    break\n",
    "print(losses)"
   ]
  },
  {
   "cell_type": "code",
   "execution_count": null,
   "metadata": {},
   "outputs": [],
   "source": []
  },
  {
   "cell_type": "code",
   "execution_count": null,
   "metadata": {},
   "outputs": [],
   "source": []
  }
 ],
 "metadata": {
  "kernelspec": {
   "display_name": "Environment (conda_pytorch_p36)",
   "language": "python",
   "name": "conda_pytorch_p36"
  },
  "language_info": {
   "codemirror_mode": {
    "name": "ipython",
    "version": 3
   },
   "file_extension": ".py",
   "mimetype": "text/x-python",
   "name": "python",
   "nbconvert_exporter": "python",
   "pygments_lexer": "ipython3",
   "version": "3.6.10"
  }
 },
 "nbformat": 4,
 "nbformat_minor": 4
}
