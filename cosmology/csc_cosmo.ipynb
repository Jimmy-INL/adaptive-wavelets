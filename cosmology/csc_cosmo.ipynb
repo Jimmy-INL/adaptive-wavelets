{
 "cells": [
  {
   "cell_type": "code",
   "execution_count": 2,
   "metadata": {},
   "outputs": [
    {
     "name": "stdout",
     "output_type": "stream",
     "text": [
      "The autoreload extension is already loaded. To reload it, use:\n",
      "  %reload_ext autoreload\n"
     ]
    }
   ],
   "source": [
    "%load_ext autoreload\n",
    "%autoreload 2\n",
    "%matplotlib inline\n",
    "import os\n",
    "import torch\n",
    "import numpy as np\n",
    "import matplotlib.pyplot as plt\n",
    "from torch.utils.data import Dataset, DataLoader\n",
    "from skimage import io, transform\n",
    "from torchvision import transforms, utils\n",
    "from copy import deepcopy\n",
    "import random\n",
    "device = 'cuda' if torch.cuda.is_available() else 'cpu'\n",
    "from scipy.ndimage import gaussian_filter\n",
    "from os.path import join as oj\n",
    "import sys\n",
    "import acd\n",
    "from tqdm import tqdm\n",
    "import pickle as pkl\n",
    "import torchvision\n",
    "import models\n",
    "import time\n",
    "from functools import partial\n",
    "sys.path.append('..')\n",
    "sys.path.append('../trim')\n",
    "sys.path.append('../trim/convolutional_sparse_coding')\n",
    "# plt.style.use('dark_background')\n",
    "from visualize import *\n",
    "from data import *\n",
    "from style import *\n",
    "data_path = './cosmo'\n",
    "torch.manual_seed(42)\n",
    "np.random.seed(42)"
   ]
  },
  {
   "cell_type": "code",
   "execution_count": 8,
   "metadata": {},
   "outputs": [],
   "source": [
    "# import modules\n",
    "from acd_wooseok.acd.scores import cd\n",
    "from funcs import *\n",
    "from matfac import *"
   ]
  },
  {
   "cell_type": "markdown",
   "metadata": {},
   "source": [
    "# load dataset and model"
   ]
  },
  {
   "cell_type": "code",
   "execution_count": 9,
   "metadata": {},
   "outputs": [],
   "source": [
    "# params\n",
    "img_size = 256\n",
    "class_num = 1"
   ]
  },
  {
   "cell_type": "code",
   "execution_count": 10,
   "metadata": {},
   "outputs": [],
   "source": [
    "# cosmo dataset\n",
    "transformer = transforms.Compose([ToTensor()])\n",
    "mnu_dataset = MassMapsDataset(oj(data_path, 'cosmological_parameters.txt'),  \n",
    "                              oj(data_path, 'z1_256'),\n",
    "                              transform=transformer)\n",
    "\n",
    "# dataloader\n",
    "data_loader = torch.utils.data.DataLoader(mnu_dataset, batch_size=64, shuffle=False, num_workers=4)\n",
    "\n",
    "# load model\n",
    "model = models.load_model(model_name='resnet18', device=device, data_path=data_path).to(device)"
   ]
  },
  {
   "cell_type": "markdown",
   "metadata": {},
   "source": [
    "# conv sparse coding"
   ]
  },
  {
   "cell_type": "code",
   "execution_count": 11,
   "metadata": {},
   "outputs": [],
   "source": [
    "# set hyper-params and variables\n",
    "n_components = 6\n",
    "kernel_size = 7\n",
    "n_dim = kernel_size + (img_size-1)\n",
    "\n",
    "csc = Conv_SpCoding(kernel_size, n_dim, n_components).to(device)\n",
    "# load checkpoint\n",
    "# csc.load_state_dict(torch.load('./model/csc_maxCD_0.pth'))\n",
    "\n",
    "# reg-parameter\n",
    "lamb = 3.0e-4\n",
    "\n",
    "# losses\n",
    "n_inner_c = 10\n",
    "n_inner_w = 100\n",
    "losses = [1000]\n",
    "\n",
    "# set optimizer\n",
    "lr_c = 0.1\n",
    "lr_w = 0.5"
   ]
  },
  {
   "cell_type": "code",
   "execution_count": 12,
   "metadata": {},
   "outputs": [],
   "source": [
    "X = iter(data_loader).next()['image'].to(device)\n",
    "n_batch = len(X)"
   ]
  },
  {
   "cell_type": "code",
   "execution_count": 13,
   "metadata": {},
   "outputs": [
    {
     "name": "stdout",
     "output_type": "stream",
     "text": [
      "Train Epoch: 49 [(98%)]\tError: 0.340551\tLoss: [3.297219, 3.297133, 3.294864]\tNNZ: 10.930823%"
     ]
    }
   ],
   "source": [
    "num_epochs = 50\n",
    "for epoch in range(num_epochs):\n",
    "    # initialize act maps\n",
    "    csc.init_maps(n_batch)\n",
    "    csc.to(device)\n",
    "    optimizer = csc_optimizer(csc, lr_c, lr_w, lamb)\n",
    "    \n",
    "    # update weight\n",
    "    unfreeze(csc, param='map')\n",
    "    # inner loop\n",
    "    for i in range(n_inner_w):\n",
    "        optimizer.zero_grad() # clear the old gradients\n",
    "        # comp loss\n",
    "        X_ = csc()\n",
    "        loss = torch.norm(X-X_)**2/(2*n_batch)    \n",
    "        # backward\n",
    "        loss.backward()\n",
    "        # update step\n",
    "        optimizer.step(1)    \n",
    "\n",
    "    reg_loss = L1Reg_loss(csc, X, lamb)\n",
    "    losses.append(reg_loss)      \n",
    "\n",
    "    # update dict\n",
    "    unfreeze(csc, param='dict', obj_type='csc')\n",
    "    # inner loop\n",
    "    for i in range(n_inner_c):\n",
    "        optimizer.zero_grad() # clear the old gradients\n",
    "        # comp loss\n",
    "        X_ = csc()\n",
    "        loss = torch.norm(X-X_)**2/(2*n_batch)\n",
    "        # backward\n",
    "        loss.backward()\n",
    "        # update step\n",
    "        optimizer.step(0)    \n",
    "\n",
    "    reg_loss = L1Reg_loss(csc, X, lamb)\n",
    "    losses.append(reg_loss)             \n",
    "\n",
    "    if epoch % 1 == 0:\n",
    "        # recon-error, nnz\n",
    "        err = torch.norm(X-X_).data.item() / torch.norm(X).data.item() \n",
    "        nnz = 0\n",
    "        for feature_map in csc.maps:\n",
    "            nnz += np.count_nonzero(feature_map.data.cpu().numpy())\n",
    "        nnz_W = nnz/(n_dim*n_dim*n_components*n_batch)\n",
    "\n",
    "        print('\\rTrain Epoch: {} [({:.0f}%)]\\tError: {:.6f}\\tLoss: [{:.6f}, {:.6f}, {:.6f}]\\tNNZ: {:.6f}%'.format(\n",
    "            epoch, 100. * epoch / num_epochs, err, losses[-3], losses[-2], losses[-1], 100. * nnz_W), end='')         "
   ]
  },
  {
   "cell_type": "code",
   "execution_count": 15,
   "metadata": {},
   "outputs": [
    {
     "data": {
      "image/png": "[encoded data removed]",
      "text/plain": [
       "<Figure size 1800x1800 with 1 Axes>"
      ]
     },
     "metadata": {},
     "output_type": "display_data"
    }
   ],
   "source": [
    "from skimage.transform import rescale\n",
    "\n",
    "n_row = 2\n",
    "n_col = 3\n",
    "Nimages = len(csc.convs)\n",
    "\n",
    "plt.figure(figsize=(25,25))\n",
    "# plot filters\n",
    "plt.subplot(1, 2, 1)\n",
    "p = kernel_size + 2\n",
    "mosaic = np.zeros((p*n_row,p*n_col))\n",
    "indx = 0\n",
    "for i in range(n_row):\n",
    "    for j in range(n_col):\n",
    "        im = csc.convs[indx].weight.data.cpu().squeeze().numpy()\n",
    "        im = (im-np.min(im))\n",
    "        im = im/np.max(im)\n",
    "        mosaic[i*p:(i+1)*p,j*p:(j+1)*p] = np.pad(im,(1,1),mode='constant')\n",
    "        indx += 1\n",
    "\n",
    "plt.imshow(rescale(mosaic,4,mode='constant'), cmap='magma')\n",
    "plt.axis('off')    \n",
    "plt.show()"
   ]
  },
  {
   "cell_type": "code",
   "execution_count": null,
   "metadata": {},
   "outputs": [],
   "source": []
  },
  {
   "cell_type": "code",
   "execution_count": null,
   "metadata": {},
   "outputs": [],
   "source": [
    "num_epochs = 5\n",
    "for epoch in range(num_epochs):\n",
    "    for data in data_loader:\n",
    "        X = data['image'].to(device)\n",
    "        n_batch = len(X)\n",
    "        # initialize act maps\n",
    "        csc.init_maps(n_batch)\n",
    "        csc.to(device)\n",
    "        optimizer = csc_optimizer(csc, lr_c, lr_w, lamb)\n",
    "        \n",
    "        # update weight\n",
    "        unfreeze(csc, param='map')\n",
    "        # inner loop\n",
    "        for i in range(n_inner_w):\n",
    "            optimizer.zero_grad() # clear the old gradients\n",
    "            # comp loss\n",
    "            X_ = csc()\n",
    "            loss = torch.norm(X-X_)**2/(2*n_batch)    \n",
    "            # backward\n",
    "            loss.backward()\n",
    "            # update step\n",
    "            optimizer.step(1)    \n",
    "\n",
    "        reg_loss = L1Reg_loss(csc, X, lamb)\n",
    "        losses.append(reg_loss)      \n",
    "\n",
    "        # update dict\n",
    "        unfreeze(csc, param='dict', obj_type='csc')\n",
    "        # inner loop\n",
    "        for i in range(n_inner_c):\n",
    "            optimizer.zero_grad() # clear the old gradients\n",
    "            # comp loss\n",
    "            X_ = csc()\n",
    "            loss = torch.norm(X-X_)**2/(2*n_batch)\n",
    "            # backward\n",
    "            loss.backward()\n",
    "            # update step\n",
    "            optimizer.step(0)    \n",
    "\n",
    "        reg_loss = L1Reg_loss(csc, X, lamb)\n",
    "        losses.append(reg_loss)             \n",
    "\n",
    "        if epoch % 1 == 0:\n",
    "            # recon-error, nnz\n",
    "            err = torch.norm(X-X_).data.item() / torch.norm(X).data.item() \n",
    "            nnz = 0\n",
    "            for feature_map in csc.maps:\n",
    "                nnz += np.count_nonzero(feature_map.data.cpu().numpy())\n",
    "            nnz_W = nnz/(n_dim*n_dim*n_components*n_batch)\n",
    "\n",
    "            print('\\rTrain Epoch: {} [({:.0f}%)]\\tError: {:.6f}\\tLoss: [{:.6f}, {:.6f}, {:.6f}]\\tNNZ: {:.6f}%'.format(\n",
    "                epoch, 100. * epoch / num_epochs, err, losses[-3], losses[-2], losses[-1], 100. * nnz_W), end='')         "
   ]
  },
  {
   "cell_type": "code",
   "execution_count": null,
   "metadata": {},
   "outputs": [],
   "source": []
  }
 ],
 "metadata": {
  "kernelspec": {
   "display_name": "Python 3",
   "language": "python",
   "name": "python3"
  },
  "language_info": {
   "codemirror_mode": {
    "name": "ipython",
    "version": 3
   },
   "file_extension": ".py",
   "mimetype": "text/x-python",
   "name": "python",
   "nbconvert_exporter": "python",
   "pygments_lexer": "ipython3",
   "version": "3.7.5"
  }
 },
 "nbformat": 4,
 "nbformat_minor": 4
}
