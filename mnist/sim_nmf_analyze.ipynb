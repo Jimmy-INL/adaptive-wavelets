{
 "cells": [
  {
   "cell_type": "code",
   "execution_count": 2,
   "metadata": {},
   "outputs": [
    {
     "name": "stdout",
     "output_type": "stream",
     "text": [
      "The autoreload extension is already loaded. To reload it, use:\n",
      "  %reload_ext autoreload\n"
     ]
    }
   ],
   "source": [
    "%load_ext autoreload\n",
    "%autoreload 2\n",
    "%matplotlib inline\n",
    "import numpy as np\n",
    "import matplotlib.pyplot as plt\n",
    "import torch\n",
    "import random\n",
    "device = 'cuda' if torch.cuda.is_available() else 'cpu'\n",
    "from scipy.ndimage import gaussian_filter\n",
    "import sys\n",
    "from tqdm import tqdm\n",
    "from functools import partial\n",
    "import acd\n",
    "from copy import deepcopy\n",
    "sys.path.append('..')\n",
    "sys.path.append('../..')\n",
    "from transforms_torch import bandpass_filter\n",
    "# plt.style.use('dark_background')\n",
    "sys.path.append('../../dsets/mnist')\n",
    "import dset\n",
    "from model import Net, Net2c\n",
    "from util import *\n",
    "from numpy.fft import *\n",
    "from torch import nn\n",
    "from style import *\n",
    "import pickle as pkl\n",
    "from torchvision import datasets, transforms\n",
    "from sklearn.decomposition import NMF\n",
    "import transform_wrappers\n",
    "import visualize as viz\n",
    "from model import Net, Net2c\n",
    "torch.manual_seed(42)\n",
    "np.random.seed(42)\n",
    "from os.path import join as oj\n",
    "out_dir = '/scratch/users/vision/chandan/transform_interp/'"
   ]
  },
  {
   "cell_type": "code",
   "execution_count": 32,
   "metadata": {},
   "outputs": [],
   "source": [
    "cd_nmf = pkl.load(open(oj(out_dir, 'cd_nmf.pkl'), 'rb'))\n",
    "baselines_nmf = pkl.load(open(oj(out_dir, 'baselines_nmf.pkl'), 'rb'))\n",
    "scores_dict = {**cd_nmf, **baselines_nmf}"
   ]
  },
  {
   "cell_type": "code",
   "execution_count": 34,
   "metadata": {},
   "outputs": [
    {
     "name": "stdout",
     "output_type": "stream",
     "text": [
      "acd\tacc 0.69\n",
      "cd\tacc 0.82\n",
      "dot_product\tacc 0.82\n",
      "gradient_shap\tacc 0.91\n",
      "ig\tacc 0.95\n",
      "input_x_gradient\tacc 0.80\n",
      "saliency\tacc 0.72\n"
     ]
    }
   ],
   "source": [
    "keys = sorted(scores_dict.keys())\n",
    "accs = []\n",
    "for key in keys:\n",
    "    num_correct_total = 0\n",
    "    num_total = 0\n",
    "    for basis_num in range(30):\n",
    "        scores = scores_dict[key][basis_num]\n",
    "        basis_pred = scores.argmax(axis=1)\n",
    "        num_correct = np.sum(basis_pred == basis_num)\n",
    "        num_correct_total += num_correct\n",
    "        num_total += scores.shape[0]\n",
    "    acc = num_correct_total / num_total\n",
    "    print(f'{key}\\tacc {acc:0.2f}')\n",
    "    accs.append(acc)"
   ]
  },
  {
   "cell_type": "code",
   "execution_count": 42,
   "metadata": {},
   "outputs": [
    {
     "data": {
      "image/png": "[encoded data removed]",
      "text/plain": [
       "<Figure size 432x288 with 1 Axes>"
      ]
     },
     "metadata": {
      "needs_background": "light"
     },
     "output_type": "display_data"
    }
   ],
   "source": [
    "plt.barh(keys, accs)\n",
    "plt.xlabel('Accuracy at identifying correct component')\n",
    "plt.tight_layout()\n",
    "plt.savefig('fig_nmf_comp.pdf')\n",
    "plt.show()"
   ]
  },
  {
   "cell_type": "code",
   "execution_count": null,
   "metadata": {},
   "outputs": [],
   "source": []
  }
 ],
 "metadata": {
  "kernelspec": {
   "display_name": "Python 3",
   "language": "python",
   "name": "python3"
  },
  "language_info": {
   "codemirror_mode": {
    "name": "ipython",
    "version": 3
   },
   "file_extension": ".py",
   "mimetype": "text/x-python",
   "name": "python",
   "nbconvert_exporter": "python",
   "pygments_lexer": "ipython3",
   "version": "3.7.5"
  }
 },
 "nbformat": 4,
 "nbformat_minor": 4
}
